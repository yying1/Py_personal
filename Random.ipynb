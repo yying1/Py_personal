{
 "cells": [
  {
   "cell_type": "code",
   "execution_count": 3,
   "id": "9c23343b",
   "metadata": {},
   "outputs": [],
   "source": [
    "import pandas as pd\n",
    "import os"
   ]
  },
  {
   "cell_type": "markdown",
   "id": "e2c729a7",
   "metadata": {},
   "source": [
    "### Amazon Discoverability count products"
   ]
  },
  {
   "cell_type": "code",
   "execution_count": 8,
   "id": "e1ab9355",
   "metadata": {},
   "outputs": [
    {
     "name": "stdout",
     "output_type": "stream",
     "text": [
      "CN\n",
      "TR\n",
      "CN\n",
      "AU\n",
      "CN\n",
      "US\n",
      "AE\n",
      "AU\n",
      "CN\n",
      "DE\n",
      "MX\n",
      "SA\n",
      "SG\n",
      "UK\n"
     ]
    }
   ],
   "source": [
    "Dir = r\"C:\\Users\\yingy\\Desktop\\Discoverability\\Raw_Data\"\n",
    "files = os.listdir(Dir)\n",
    "destinations = {}\n",
    "for f in files:\n",
    "    df = pd.read_excel(os.path.join(Dir, f))\n",
    "    d = f.split(\"_\")[0].split(\"-\")[1]\n",
    "    print(d)\n",
    "    if d in destinations.keys():\n",
    "        destinations[d] += len(df.index)\n",
    "    else:\n",
    "        destinations[d] = len(df.index)"
   ]
  },
  {
   "cell_type": "code",
   "execution_count": 11,
   "id": "3f06b109",
   "metadata": {},
   "outputs": [
    {
     "data": {
      "text/plain": [
       "677614"
      ]
     },
     "execution_count": 11,
     "metadata": {},
     "output_type": "execute_result"
    }
   ],
   "source": [
    "sum(destinations.values())"
   ]
  },
  {
   "cell_type": "code",
   "execution_count": 12,
   "id": "6452be79",
   "metadata": {},
   "outputs": [
    {
     "data": {
      "text/plain": [
       "{'CN': 85119,\n",
       " 'TR': 4542,\n",
       " 'AU': 171057,\n",
       " 'US': 4332,\n",
       " 'AE': 73367,\n",
       " 'DE': 49298,\n",
       " 'MX': 20876,\n",
       " 'SA': 65916,\n",
       " 'SG': 139384,\n",
       " 'UK': 63723}"
      ]
     },
     "execution_count": 12,
     "metadata": {},
     "output_type": "execute_result"
    }
   ],
   "source": [
    "destinations"
   ]
  }
 ],
 "metadata": {
  "kernelspec": {
   "display_name": "Python 3 (ipykernel)",
   "language": "python",
   "name": "python3"
  },
  "language_info": {
   "codemirror_mode": {
    "name": "ipython",
    "version": 3
   },
   "file_extension": ".py",
   "mimetype": "text/x-python",
   "name": "python",
   "nbconvert_exporter": "python",
   "pygments_lexer": "ipython3",
   "version": "3.10.0"
  }
 },
 "nbformat": 4,
 "nbformat_minor": 5
}
