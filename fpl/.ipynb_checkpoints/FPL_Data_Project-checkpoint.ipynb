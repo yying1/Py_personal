{
 "cells": [
  {
   "cell_type": "code",
   "execution_count": 1,
   "metadata": {},
   "outputs": [],
   "source": [
    "import requests, json\n",
    "from pprint import pprint\n",
    "import pandas as pd\n",
    "import numpy as np\n",
    "import matplotlib.pyplot as plt"
   ]
  },
  {
   "cell_type": "raw",
   "metadata": {},
   "source": [
    "Notes: \n",
    "probably needs to drop teams data because its hard to get, and also using the team final ranking is ambigous on predicting player performance"
   ]
  },
  {
   "cell_type": "code",
   "execution_count": 2,
   "metadata": {},
   "outputs": [],
   "source": [
    "# Build data source statistics\n",
    "data_sources = []\n",
    "seasons = ['2016-17','2017-18','2018-19','2019-20','2020-21']\n",
    "tables = ['merged_gw.csv','players_raw.csv']"
   ]
  },
  {
   "cell_type": "code",
   "execution_count": null,
   "metadata": {},
   "outputs": [],
   "source": [
    "# Iterate through tables\n",
    "for s in seasons:\n",
    "    for t in tables:\n",
    "        file_name = s+\"_\"+t\n",
    "        df = pd.read_csv(file_name, header = 0,delimiter = \",\",encoding = \"ISO-8859-1\")\n",
    "        file_summary = [file_name, len(df),len(df.columns),\",\".join(col for col in df)]\n",
    "        data_sources.append(file_summary)"
   ]
  },
  {
   "cell_type": "code",
   "execution_count": null,
   "metadata": {},
   "outputs": [],
   "source": [
    "file_name = \"2016-17_merged_gw.csv\"\n",
    "df_1617 = pd.read_csv(file_name, header = 0,delimiter = \",\",encoding = \"ISO-8859-1\")\n",
    "file_summary = [file_name, len(df_1617),len(df_1617.columns),\",\".join(col for col in df_1617)]\n",
    "data_sources.append(file_summary)"
   ]
  },
  {
   "cell_type": "code",
   "execution_count": null,
   "metadata": {},
   "outputs": [],
   "source": [
    "#Generate data columns\n",
    "list_df = []\n",
    "for ds in data_sources:\n",
    "    columns = ds[3].split(\",\")\n",
    "    columns.sort()\n",
    "    columns.insert(0,ds[0])\n",
    "    list_df.append(columns)\n",
    "df1 = pd.DataFrame(list_df)"
   ]
  },
  {
   "cell_type": "code",
   "execution_count": null,
   "metadata": {},
   "outputs": [],
   "source": [
    "df1.to_csv(\"data_columns.csv\",index = False)"
   ]
  },
  {
   "cell_type": "markdown",
   "metadata": {},
   "source": [
    "### EDA Collect Player Data"
   ]
  },
  {
   "cell_type": "code",
   "execution_count": null,
   "metadata": {},
   "outputs": [],
   "source": [
    "#read all players data and merge\n",
    "df_p_all = pd.DataFrame(columns  = ['season','id','chance_of_playing_next_round', 'chance_of_playing_this_round', 'element_type'])\n",
    "for s in seasons: \n",
    "    pf_name = s+\"_\"+\"players_raw.csv\"\n",
    "    df_p = pd.read_csv(pf_name, header = 0,delimiter = \",\",encoding = \"ISO-8859-1\")\n",
    "    df_p = df_p[['id','chance_of_playing_next_round', 'chance_of_playing_this_round', 'element_type']]\n",
    "    df_p['season'] = s\n",
    "    print(df_p.shape)\n",
    "    df_p_all = df_p_all.append(df_p,ignore_index=True)"
   ]
  },
  {
   "cell_type": "code",
   "execution_count": null,
   "metadata": {},
   "outputs": [],
   "source": [
    "df_p_all['chance_of_playing_this_round'].describe()"
   ]
  },
  {
   "cell_type": "code",
   "execution_count": null,
   "metadata": {},
   "outputs": [],
   "source": [
    "df_p_all['chance_of_playing_this_round'].value_counts(normalize= True,sort = True) "
   ]
  },
  {
   "cell_type": "markdown",
   "metadata": {},
   "source": [
    "### EDA Group by Week-player and summary statistics"
   ]
  },
  {
   "cell_type": "code",
   "execution_count": 3,
   "metadata": {},
   "outputs": [
    {
     "name": "stdout",
     "output_type": "stream",
     "text": [
      "(23679, 22)\n",
      "(22467, 22)\n",
      "(21790, 22)\n",
      "(22560, 22)\n",
      "(24365, 22)\n"
     ]
    }
   ],
   "source": [
    "df_gw_all = pd.DataFrame(columns  = ['season','GW', 'element', 'name', 'minutes', 'value', 'selected', 'transfers_balance', 'transfers_in', 'transfers_out', 'bonus', 'total_points', 'influence', 'creativity', 'threat', 'ict_index', 'red_cards', 'yellow_cards', 'assists', 'goals_scored', 'clean_sheets', 'was_home'])\n",
    "for s in seasons: \n",
    "    pf_name = s+\"_\"+\"merged_gw.csv\"\n",
    "    df_gw = pd.read_csv(pf_name, header = 0,delimiter = \",\",encoding = \"ISO-8859-1\")\n",
    "    df_gw = df_gw[['GW', 'element', 'name', 'minutes', 'value', 'selected', 'transfers_balance', 'transfers_in', 'transfers_out', 'bonus', 'total_points', 'influence', 'creativity', 'threat', 'ict_index', 'red_cards', 'yellow_cards', 'assists', 'goals_scored', 'clean_sheets', 'was_home']]\n",
    "    df_gw['season'] = s\n",
    "    print(df_gw.shape)\n",
    "    df_gw_all = df_gw_all.append(df_gw,ignore_index=True)"
   ]
  },
  {
   "cell_type": "code",
   "execution_count": null,
   "metadata": {},
   "outputs": [],
   "source": [
    "a = np.array(df_gw_all['GW'])\n",
    "np.unique(a)"
   ]
  },
  {
   "cell_type": "code",
   "execution_count": null,
   "metadata": {},
   "outputs": [],
   "source": [
    "df_gw_all.to_csv(\"df_gw_all.csv\",index = False,encoding = \"ISO-8859-1\")"
   ]
  },
  {
   "cell_type": "code",
   "execution_count": null,
   "metadata": {},
   "outputs": [],
   "source": [
    "df_gw_all[['influence', 'creativity', 'threat']].describe()"
   ]
  },
  {
   "cell_type": "code",
   "execution_count": null,
   "metadata": {
    "scrolled": true
   },
   "outputs": [],
   "source": [
    "df_gw_all['was_home'].value_counts(normalize= True,sort = False) "
   ]
  },
  {
   "cell_type": "code",
   "execution_count": null,
   "metadata": {},
   "outputs": [],
   "source": [
    "bins = [0,10,20,30,40,50,60,70,80,90]\n",
    "df_gw_all['minutes_binned']= pd.cut(df_gw_all['minutes'],bins)\n",
    "df_gw_all[\"minutes_binned\"].value_counts(normalize= True,sort = False) "
   ]
  },
  {
   "cell_type": "code",
   "execution_count": null,
   "metadata": {},
   "outputs": [],
   "source": [
    "bins = [0,500,1000,5000,10000,50000,100000,5000000]\n",
    "df_gw_all['selected_binned']= pd.cut(df_gw_all['selected'],bins)\n",
    "df_gw_all[\"selected_binned\"].value_counts(normalize= True,sort = False) "
   ]
  },
  {
   "cell_type": "markdown",
   "metadata": {},
   "source": [
    "### EDA Data visualization"
   ]
  },
  {
   "cell_type": "code",
   "execution_count": null,
   "metadata": {},
   "outputs": [],
   "source": [
    "# value of players across seasons\n",
    "# https://stackabuse.com/matplotlib-box-plot-tutorial-and-examples/\n",
    "value_1617 = df_gw_all.loc[df_gw_all['season'] == '2016-17', ['value']]\n",
    "# value_1617 = value_1617.groupby('element')['value'].mean().reset_index()\n",
    "value_1718 = df_gw_all.loc[df_gw_all['season'] == '2017-18', ['value']]\n",
    "value_1819 = df_gw_all.loc[df_gw_all['season'] == '2018-19', ['value']]\n",
    "value_1920 = df_gw_all.loc[df_gw_all['season'] == '2019-20', ['value']]\n",
    "value_2021 = df_gw_all.loc[df_gw_all['season'] == '2020-21', ['value']]\n",
    "values = [value_1617, value_1718, value_1819, value_1920,value_2021]\n",
    "for value in values:\n",
    "    value['value'] = value['value'].astype('float')\n",
    "fig, ax = plt.subplots()\n",
    "ax.boxplot([value_1617['value'],value_1718['value'],value_1819['value'],value_1920['value'],value_2021['value']])\n",
    "plt.xticks([1, 2, 3, 4,5], [\"2016-17\", \"2017-18\", \"2018-19\", \"2019-20\",\"2020-21\"], rotation=10)\n",
    "plt.savefig(\"value_boxplot.png\") # must be before show\n",
    "plt.show()"
   ]
  },
  {
   "cell_type": "code",
   "execution_count": 19,
   "metadata": {},
   "outputs": [
    {
     "name": "stderr",
     "output_type": "stream",
     "text": [
      "C:\\Users\\yingy\\AppData\\Local\\Programs\\Python\\Python37\\lib\\site-packages\\ipykernel_launcher.py:5: SettingWithCopyWarning: \n",
      "A value is trying to be set on a copy of a slice from a DataFrame.\n",
      "Try using .loc[row_indexer,col_indexer] = value instead\n",
      "\n",
      "See the caveats in the documentation: https://pandas.pydata.org/pandas-docs/stable/user_guide/indexing.html#returning-a-view-versus-a-copy\n",
      "  \"\"\"\n"
     ]
    },
    {
     "data": {
      "image/png": "[encoded data removed]",
      "text/plain": [
       "<Figure size 432x288 with 1 Axes>"
      ]
     },
     "metadata": {
      "needs_background": "light"
     },
     "output_type": "display_data"
    }
   ],
   "source": [
    "# transfer-in & out across all seasons\n",
    "# https://stackabuse.com/matplotlib-box-plot-tutorial-and-examples/\n",
    "transfer_all = df_gw_all[[ 'transfers_in', 'transfers_out']]\n",
    "for c in transfer_all.columns:\n",
    "    transfer_all[c] = transfer_all[c].astype('int')\n",
    "fig, ax = plt.subplots()\n",
    "ax.ticklabel_format(useOffset=False,style='plain')\n",
    "plt.scatter(transfer_all['transfers_in'], transfer_all['transfers_out'],s=2)\n",
    "plt.xlabel('transfers_in')\n",
    "plt.ylabel('transfers_out')\n",
    "plt.savefig(\"transfer_scatter.png\")\n",
    "plt.show()"
   ]
  },
  {
   "cell_type": "code",
   "execution_count": null,
   "metadata": {},
   "outputs": [],
   "source": []
  },
  {
   "cell_type": "code",
   "execution_count": null,
   "metadata": {},
   "outputs": [],
   "source": [
    "point_1617 = df_gw_all.loc[df_gw_all['season'] == '2016-17', ['element','total_points']]\n",
    "value_1617['value'] = value_1617['value'].astype('float')"
   ]
  },
  {
   "cell_type": "code",
   "execution_count": null,
   "metadata": {},
   "outputs": [],
   "source": [
    "# function to aggregate play stats over the season\n",
    "def agg_player(x):\n",
    "        d = []\n",
    "        d.append(x['GW'].nunique())\n",
    "        d.append(x['total_points'].max())\n",
    "        d.append(x['total_points'].min())\n",
    "        d.append(x['total_points'].mean())\n",
    "        d.append(x['total_points'].sum())\n",
    "        d.append(x['minutes'].mean())\n",
    "        d.append(x['minutes'].sum())\n",
    "        d.append(x['value'].mean())\n",
    "        return pd.Series(d, index= ['GW_participated', 'total_points_max','total_points_min','total_points_mean','total_points_sum','minutes_mean','minutes_sum','value_mean'])"
   ]
  },
  {
   "cell_type": "code",
   "execution_count": null,
   "metadata": {},
   "outputs": [],
   "source": [
    "# EDA Group by player and count week\n",
    "# Get data subset: https://pandas.pydata.org/pandas-docs/stable/getting_started/intro_tutorials/03_subset_data.html\n",
    "print (df_1617['element'].nunique())\n",
    "df_1617_p = df_1617.reset_index()[['name', 'element','bonus', 'loaned_in', 'loaned_out','minutes','opponent_team', 'total_points', 'transfers_balance', 'transfers_in', 'transfers_out','value', 'GW']]\n",
    "df_1617_p_byname = df_1617_p.groupby(['element','name']).apply(agg_player).reset_index()"
   ]
  },
  {
   "cell_type": "code",
   "execution_count": null,
   "metadata": {},
   "outputs": [],
   "source": [
    "df_1617_p[df_1617_p['element'] == 77]\n",
    "# a['minutes_sum'].describe()"
   ]
  },
  {
   "cell_type": "code",
   "execution_count": null,
   "metadata": {},
   "outputs": [],
   "source": []
  },
  {
   "cell_type": "code",
   "execution_count": null,
   "metadata": {},
   "outputs": [],
   "source": []
  },
  {
   "cell_type": "code",
   "execution_count": null,
   "metadata": {},
   "outputs": [],
   "source": [
    "### FPL API only contains detailed data for the current season and aggregate data for past seasons, so no use\n",
    "### Reference: https://medium.com/analytics-vidhya/getting-started-with-fantasy-premier-league-data-56d3b9be8c32\n",
    "# base url for all FPL API endpoints\n",
    "base_url = 'https://fantasy.premierleague.com/api/'\n",
    "\n",
    "# get data from bootstrap-static endpoint\n",
    "r = requests.get(base_url+'bootstrap-static/').json()\n",
    "\n",
    "# show the top level fields\n",
    "pprint(r, indent=2, depth=1, compact=True)\n",
    "\n",
    "# get player data from 'elements' field\n",
    "players = r['elements']\n",
    "events = r['events']\n",
    "# show data for first player\n",
    "pprint(events)\n",
    "\n",
    "base_url = \"https://fantasy.premierleague.com/api/\"\n",
    "def get_season_history(player_id):\n",
    "    '''get all past season info for a given player_id'''\n",
    "    # send GET request to\n",
    "    # https://fantasy.premierleague.com/api/element-summary/{PID}/\n",
    "    r = requests.get(base_url + 'element-summary/' + str(player_id) + '/').json()\n",
    "    # extract 'history_past' data from response into dataframe\n",
    "    df = pd.json_normalize(r['history_past'])\n",
    "    return df\n",
    "\n",
    "# show player #1's gameweek history\n",
    "get_season_history(1)[\n",
    "    [\n",
    "        'season_name',\n",
    "        'total_points',\n",
    "        'minutes',\n",
    "        'goals_scored',\n",
    "        'assists'\n",
    "    ]\n",
    "].head(10)"
   ]
  },
  {
   "cell_type": "code",
   "execution_count": null,
   "metadata": {},
   "outputs": [],
   "source": []
  },
  {
   "cell_type": "code",
   "execution_count": null,
   "metadata": {},
   "outputs": [],
   "source": []
  }
 ],
 "metadata": {
  "kernelspec": {
   "display_name": "Python 3",
   "language": "python",
   "name": "python3"
  },
  "language_info": {
   "codemirror_mode": {
    "name": "ipython",
    "version": 3
   },
   "file_extension": ".py",
   "mimetype": "text/x-python",
   "name": "python",
   "nbconvert_exporter": "python",
   "pygments_lexer": "ipython3",
   "version": "3.7.2"
  }
 },
 "nbformat": 4,
 "nbformat_minor": 2
}
