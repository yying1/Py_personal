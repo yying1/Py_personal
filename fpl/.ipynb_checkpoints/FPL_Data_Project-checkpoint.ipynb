{
 "cells": [
  {
   "cell_type": "code",
   "execution_count": 1,
   "metadata": {},
   "outputs": [],
   "source": [
    "import requests, json\n",
    "from pprint import pprint\n",
    "import pandas as pd\n",
    "import numpy as np"
   ]
  },
  {
   "cell_type": "raw",
   "metadata": {},
   "source": [
    "Notes: \n",
    "probably needs to drop teams data because its hard to get, and also using the team final ranking is ambigous on predicting player performance"
   ]
  },
  {
   "cell_type": "code",
   "execution_count": 17,
   "metadata": {},
   "outputs": [],
   "source": [
    "# Build data source statistics\n",
    "data_sources = []"
   ]
  },
  {
   "cell_type": "code",
   "execution_count": 18,
   "metadata": {},
   "outputs": [],
   "source": [
    "file_name = \"2016-17_merged_gw.csv\"\n",
    "df_1617 = pd.read_csv(file_name, header = 0,delimiter = \",\",encoding = \"ISO-8859-1\")\n",
    "file_summary = [file_name, len(df_1617),len(df_1617.columns),\",\".join(col for col in df_1617)]\n",
    "data_sources.append(file_summary)"
   ]
  },
  {
   "cell_type": "code",
   "execution_count": 19,
   "metadata": {},
   "outputs": [
    {
     "data": {
      "text/plain": [
       "[['2016-17_merged_gw.csv',\n",
       "  23679,\n",
       "  56,\n",
       "  'name,assists,attempted_passes,big_chances_created,big_chances_missed,bonus,bps,clean_sheets,clearances_blocks_interceptions,completed_passes,creativity,dribbles,ea_index,element,errors_leading_to_goal,errors_leading_to_goal_attempt,fixture,fouls,goals_conceded,goals_scored,ict_index,id,influence,key_passes,kickoff_time,kickoff_time_formatted,loaned_in,loaned_out,minutes,offside,open_play_crosses,opponent_team,own_goals,penalties_conceded,penalties_missed,penalties_saved,recoveries,red_cards,round,saves,selected,tackled,tackles,target_missed,team_a_score,team_h_score,threat,total_points,transfers_balance,transfers_in,transfers_out,value,was_home,winning_goals,yellow_cards,GW']]"
      ]
     },
     "execution_count": 19,
     "metadata": {},
     "output_type": "execute_result"
    }
   ],
   "source": [
    "data_sources"
   ]
  },
  {
   "cell_type": "markdown",
   "metadata": {},
   "source": [
    "### EDA Group by Week and count player"
   ]
  },
  {
   "cell_type": "code",
   "execution_count": null,
   "metadata": {},
   "outputs": [],
   "source": [
    "# function to aggregate play stats over the season\n",
    "def agg_player(x):\n",
    "        d = []\n",
    "        d.append(x['GW'].nunique())\n",
    "        d.append(x['total_points'].max())\n",
    "        d.append(x['total_points'].min())\n",
    "        d.append(x['total_points'].mean())\n",
    "        d.append(x['total_points'].sum())\n",
    "        d.append(x['minutes'].mean())\n",
    "        d.append(x['minutes'].sum())\n",
    "        d.append(x['value'].mean())\n",
    "        return pd.Series(d, index= ['GW_participated', 'total_points_max','total_points_min','total_points_mean','total_points_sum','minutes_mean','minutes_sum','value_mean'])"
   ]
  },
  {
   "cell_type": "code",
   "execution_count": null,
   "metadata": {},
   "outputs": [],
   "source": [
    "# EDA Group by player and count week\n",
    "# Get data subset: https://pandas.pydata.org/pandas-docs/stable/getting_started/intro_tutorials/03_subset_data.html\n",
    "print (df_1617['element'].nunique())\n",
    "df_1617_p = df_1617.reset_index()[['name', 'element','bonus', 'loaned_in', 'loaned_out','minutes','opponent_team', 'total_points', 'transfers_balance', 'transfers_in', 'transfers_out','value', 'GW']]\n",
    "df_1617_p_byname = df_1617_p.groupby(['element','name']).apply(agg_player).reset_index()"
   ]
  },
  {
   "cell_type": "code",
   "execution_count": null,
   "metadata": {},
   "outputs": [],
   "source": [
    "a[a['element'] == 77]\n",
    "a['minutes_sum'].describe()"
   ]
  },
  {
   "cell_type": "code",
   "execution_count": null,
   "metadata": {},
   "outputs": [],
   "source": []
  },
  {
   "cell_type": "code",
   "execution_count": null,
   "metadata": {},
   "outputs": [],
   "source": []
  },
  {
   "cell_type": "code",
   "execution_count": null,
   "metadata": {},
   "outputs": [],
   "source": [
    "### FPL API only contains detailed data for the current season and aggregate data for past seasons, so no use\n",
    "### Reference: https://medium.com/analytics-vidhya/getting-started-with-fantasy-premier-league-data-56d3b9be8c32\n",
    "# base url for all FPL API endpoints\n",
    "base_url = 'https://fantasy.premierleague.com/api/'\n",
    "\n",
    "# get data from bootstrap-static endpoint\n",
    "r = requests.get(base_url+'bootstrap-static/').json()\n",
    "\n",
    "# show the top level fields\n",
    "pprint(r, indent=2, depth=1, compact=True)\n",
    "\n",
    "# get player data from 'elements' field\n",
    "players = r['elements']\n",
    "events = r['events']\n",
    "# show data for first player\n",
    "pprint(events)\n",
    "\n",
    "base_url = \"https://fantasy.premierleague.com/api/\"\n",
    "def get_season_history(player_id):\n",
    "    '''get all past season info for a given player_id'''\n",
    "    # send GET request to\n",
    "    # https://fantasy.premierleague.com/api/element-summary/{PID}/\n",
    "    r = requests.get(base_url + 'element-summary/' + str(player_id) + '/').json()\n",
    "    # extract 'history_past' data from response into dataframe\n",
    "    df = pd.json_normalize(r['history_past'])\n",
    "    return df\n",
    "\n",
    "# show player #1's gameweek history\n",
    "get_season_history(1)[\n",
    "    [\n",
    "        'season_name',\n",
    "        'total_points',\n",
    "        'minutes',\n",
    "        'goals_scored',\n",
    "        'assists'\n",
    "    ]\n",
    "].head(10)"
   ]
  },
  {
   "cell_type": "code",
   "execution_count": null,
   "metadata": {},
   "outputs": [],
   "source": []
  },
  {
   "cell_type": "code",
   "execution_count": null,
   "metadata": {},
   "outputs": [],
   "source": []
  }
 ],
 "metadata": {
  "kernelspec": {
   "display_name": "Python 3",
   "language": "python",
   "name": "python3"
  },
  "language_info": {
   "codemirror_mode": {
    "name": "ipython",
    "version": 3
   },
   "file_extension": ".py",
   "mimetype": "text/x-python",
   "name": "python",
   "nbconvert_exporter": "python",
   "pygments_lexer": "ipython3",
   "version": "3.7.2"
  }
 },
 "nbformat": 4,
 "nbformat_minor": 2
}
