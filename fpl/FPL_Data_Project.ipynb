{
 "cells": [
  {
   "cell_type": "code",
   "execution_count": 1,
   "metadata": {},
   "outputs": [],
   "source": [
    "import requests, json\n",
    "from pprint import pprint\n",
    "import pandas as pd\n",
    "import numpy as np\n",
    "import matplotlib.pyplot as plt"
   ]
  },
  {
   "cell_type": "raw",
   "metadata": {},
   "source": [
    "Notes: \n",
    "probably needs to drop teams data because its hard to get, and also using the team final ranking is ambigous on predicting player performance"
   ]
  },
  {
   "cell_type": "code",
   "execution_count": null,
   "metadata": {},
   "outputs": [],
   "source": [
    "# Build data source statistics\n",
    "data_sources = []\n",
    "seasons = ['2016-17','2017-18','2018-19','2019-20','2020-21']\n",
    "tables = ['merged_gw.csv','players_raw.csv']"
   ]
  },
  {
   "cell_type": "code",
   "execution_count": null,
   "metadata": {},
   "outputs": [],
   "source": [
    "# Iterate through tables\n",
    "# 2021-09-28: manually cleaned up 39 - 47 Game week numers in 2019-20 season file for data errors\n",
    "for s in seasons:\n",
    "    for t in tables:\n",
    "        file_name = s+\"_\"+t\n",
    "        df = pd.read_csv(file_name, header = 0,delimiter = \",\",encoding = \"ISO-8859-1\")\n",
    "        file_summary = [file_name, len(df),len(df.columns),\",\".join(col for col in df)]\n",
    "        data_sources.append(file_summary)"
   ]
  },
  {
   "cell_type": "code",
   "execution_count": null,
   "metadata": {},
   "outputs": [],
   "source": [
    "#Generate data columns\n",
    "list_df = []\n",
    "for ds in data_sources:\n",
    "    columns = ds[3].split(\",\")\n",
    "    columns.sort()\n",
    "    columns.insert(0,ds[0])\n",
    "    list_df.append(columns)\n",
    "df1 = pd.DataFrame(list_df)"
   ]
  },
  {
   "cell_type": "code",
   "execution_count": null,
   "metadata": {},
   "outputs": [],
   "source": [
    "df1.to_csv(\"data_columns.csv\",index = False)"
   ]
  },
  {
   "cell_type": "markdown",
   "metadata": {},
   "source": [
    "### EDA Collect Player Data"
   ]
  },
  {
   "cell_type": "code",
   "execution_count": null,
   "metadata": {},
   "outputs": [],
   "source": [
    "#read all players data and merge\n",
    "df_p_all = pd.DataFrame(columns  = ['season','id','chance_of_playing_next_round', 'chance_of_playing_this_round', 'element_type'])\n",
    "for s in seasons: \n",
    "    pf_name = s+\"_\"+\"players_raw.csv\"\n",
    "    df_p = pd.read_csv(pf_name, header = 0,delimiter = \",\",encoding = \"ISO-8859-1\")\n",
    "    df_p = df_p[['id','chance_of_playing_next_round', 'chance_of_playing_this_round', 'element_type']]\n",
    "    df_p['season'] = s\n",
    "    print(df_p.shape)\n",
    "    df_p_all = df_p_all.append(df_p,ignore_index=True)"
   ]
  },
  {
   "cell_type": "code",
   "execution_count": null,
   "metadata": {},
   "outputs": [],
   "source": [
    "df_p_all['chance_of_playing_this_round'].describe()"
   ]
  },
  {
   "cell_type": "code",
   "execution_count": null,
   "metadata": {},
   "outputs": [],
   "source": [
    "df_p_all['chance_of_playing_this_round'].value_counts(normalize= True,sort = True) "
   ]
  },
  {
   "cell_type": "markdown",
   "metadata": {},
   "source": [
    "### EDA Group by Week-player and summary statistics"
   ]
  },
  {
   "cell_type": "code",
   "execution_count": null,
   "metadata": {},
   "outputs": [],
   "source": [
    "df_gw_all = pd.DataFrame(columns  = ['season','GW', 'element', 'name', 'minutes', 'value', 'selected', 'transfers_balance', 'transfers_in', 'transfers_out', 'bonus', 'total_points', 'influence', 'creativity', 'threat', 'ict_index', 'red_cards', 'yellow_cards', 'assists', 'goals_scored', 'clean_sheets', 'was_home'])\n",
    "for s in seasons: \n",
    "    pf_name = s+\"_\"+\"merged_gw.csv\"\n",
    "    df_gw = pd.read_csv(pf_name, header = 0,delimiter = \",\",encoding = \"ISO-8859-1\")\n",
    "    df_gw = df_gw[['GW', 'element', 'name', 'minutes', 'value', 'selected', 'transfers_balance', 'transfers_in', 'transfers_out', 'bonus', 'total_points', 'influence', 'creativity', 'threat', 'ict_index', 'red_cards', 'yellow_cards', 'assists', 'goals_scored', 'clean_sheets', 'was_home']]\n",
    "    df_gw['season'] = s\n",
    "    print(df_gw.shape)\n",
    "    df_gw_all = df_gw_all.append(df_gw,ignore_index=True)"
   ]
  },
  {
   "cell_type": "code",
   "execution_count": null,
   "metadata": {},
   "outputs": [],
   "source": [
    "a = np.array(df_gw_all['GW'])\n",
    "np.unique(a)"
   ]
  },
  {
   "cell_type": "code",
   "execution_count": null,
   "metadata": {},
   "outputs": [],
   "source": [
    "df_gw_all.to_csv(\"df_gw_all.csv\",index = False,encoding = \"ISO-8859-1\")"
   ]
  },
  {
   "cell_type": "code",
   "execution_count": null,
   "metadata": {},
   "outputs": [],
   "source": [
    "df_gw_all[['influence', 'creativity', 'threat']].describe()"
   ]
  },
  {
   "cell_type": "code",
   "execution_count": null,
   "metadata": {
    "scrolled": true
   },
   "outputs": [],
   "source": [
    "df_gw_all['was_home'].value_counts(normalize= True,sort = False) "
   ]
  },
  {
   "cell_type": "code",
   "execution_count": null,
   "metadata": {},
   "outputs": [],
   "source": [
    "bins = [0,10,20,30,40,50,60,70,80,90]\n",
    "df_gw_all['minutes_binned']= pd.cut(df_gw_all['minutes'],bins)\n",
    "df_gw_all[\"minutes_binned\"].value_counts(normalize= True,sort = False) "
   ]
  },
  {
   "cell_type": "code",
   "execution_count": null,
   "metadata": {},
   "outputs": [],
   "source": [
    "bins = [0,500,1000,5000,10000,50000,100000,5000000]\n",
    "df_gw_all['selected_binned']= pd.cut(df_gw_all['selected'],bins)\n",
    "df_gw_all[\"selected_binned\"].value_counts(normalize= True,sort = False) "
   ]
  },
  {
   "cell_type": "markdown",
   "metadata": {},
   "source": [
    "### EDA Data visualization"
   ]
  },
  {
   "cell_type": "code",
   "execution_count": null,
   "metadata": {},
   "outputs": [],
   "source": [
    "# value of players across seasons\n",
    "# https://stackabuse.com/matplotlib-box-plot-tutorial-and-examples/\n",
    "value_1617 = df_gw_all.loc[df_gw_all['season'] == '2016-17', ['value']]\n",
    "# value_1617 = value_1617.groupby('element')['value'].mean().reset_index()\n",
    "value_1718 = df_gw_all.loc[df_gw_all['season'] == '2017-18', ['value']]\n",
    "value_1819 = df_gw_all.loc[df_gw_all['season'] == '2018-19', ['value']]\n",
    "value_1920 = df_gw_all.loc[df_gw_all['season'] == '2019-20', ['value']]\n",
    "value_2021 = df_gw_all.loc[df_gw_all['season'] == '2020-21', ['value']]\n",
    "values = [value_1617, value_1718, value_1819, value_1920,value_2021]\n",
    "for value in values:\n",
    "    value['value'] = value['value'].astype('float')\n",
    "fig, ax = plt.subplots()\n",
    "ax.boxplot([value_1617['value'],value_1718['value'],value_1819['value'],value_1920['value'],value_2021['value']])\n",
    "plt.xticks([1, 2, 3, 4,5], [\"2016-17\", \"2017-18\", \"2018-19\", \"2019-20\",\"2020-21\"], rotation=10)\n",
    "plt.savefig(\"value_boxplot.png\") # must be before show\n",
    "plt.show()"
   ]
  },
  {
   "cell_type": "code",
   "execution_count": null,
   "metadata": {},
   "outputs": [],
   "source": [
    "# transfer-in & out across all seasons\n",
    "transfer_all = df_gw_all[[ 'transfers_in', 'transfers_out']]\n",
    "for c in transfer_all.columns:\n",
    "    transfer_all[c] = transfer_all[c].astype('int')\n",
    "fig, ax = plt.subplots()\n",
    "ax.ticklabel_format(useOffset=False,style='plain')\n",
    "plt.scatter(transfer_all['transfers_in'], transfer_all['transfers_out'],s=2)\n",
    "plt.xlabel('transfers_in')\n",
    "plt.ylabel('transfers_out')\n",
    "plt.savefig(\"transfer_scatter.png\")\n",
    "plt.show()"
   ]
  },
  {
   "cell_type": "code",
   "execution_count": null,
   "metadata": {},
   "outputs": [],
   "source": [
    "# transfer balance of game week trades across seasons\n",
    "\n",
    "tb_1617 = df_gw_all.loc[df_gw_all['season'] == '2016-17', ['transfers_balance']]\n",
    "# value_1617 = value_1617.groupby('element')['value'].mean().reset_index()\n",
    "tb_1718 = df_gw_all.loc[df_gw_all['season'] == '2017-18', ['transfers_balance']]\n",
    "tb_1819 = df_gw_all.loc[df_gw_all['season'] == '2018-19', ['transfers_balance']]\n",
    "tb_1920 = df_gw_all.loc[df_gw_all['season'] == '2019-20', ['transfers_balance']]\n",
    "tb_2021 = df_gw_all.loc[df_gw_all['season'] == '2020-21', ['transfers_balance']]\n",
    "tbs = [tb_1617, tb_1718, tb_1819, tb_1920,tb_2021]\n",
    "for tb in tbs:\n",
    "    tb['transfers_balance'] = tb['transfers_balance'].astype('int')\n",
    "fig, ax = plt.subplots()\n",
    "ax.ticklabel_format(useOffset=False,style='plain')\n",
    "ax.boxplot([tb_1617['transfers_balance'],tb_1718['transfers_balance'],tb_1819['transfers_balance'],tb_1920['transfers_balance'],tb_2021['transfers_balance']])\n",
    "plt.xticks([1, 2, 3, 4,5], [\"2016-17\", \"2017-18\", \"2018-19\", \"2019-20\",\"2020-21\"], rotation=10)\n",
    "plt.savefig(\"tb_boxplot.png\") # must be before show\n",
    "plt.show()"
   ]
  },
  {
   "cell_type": "code",
   "execution_count": null,
   "metadata": {},
   "outputs": [],
   "source": [
    "# Total_points by game week across all seasons \n",
    "totalpoint_all = df_gw_all.loc[:,'total_points']\n",
    "totalpoint_all.astype('int32').dtypes\n",
    "fig, ax = plt.subplots()\n",
    "ax.ticklabel_format(useOffset=False,style='plain')\n",
    "plt.xlim(-5, 30)\n",
    "plt.hist(totalpoint_all)\n",
    "plt.xlabel('Total points')\n",
    "plt.ylabel('Frequency')\n",
    "plt.savefig(\"totalpoints_hist.png\")\n",
    "plt.show() "
   ]
  },
  {
   "cell_type": "markdown",
   "metadata": {},
   "source": [
    "### Regression Model data Preparation"
   ]
  },
  {
   "cell_type": "code",
   "execution_count": null,
   "metadata": {},
   "outputs": [],
   "source": [
    "# df_p_all collect season and Player ID, df_gw_all collect season+gw+element data \n",
    "print(df_gw_all.shape,df_p_all.shape,df_gw_all.columns,df_p_all.columns)"
   ]
  },
  {
   "cell_type": "code",
   "execution_count": null,
   "metadata": {},
   "outputs": [],
   "source": [
    "# join player data with gw data\n",
    "df_all = pd.merge(df_gw_all, df_p_all,  how='left', left_on=['season','element'], right_on = ['season','id'])\n",
    "df_all = df_all.drop(columns=['chance_of_playing_next_round','chance_of_playing_this_round','id'])"
   ]
  },
  {
   "cell_type": "code",
   "execution_count": null,
   "metadata": {},
   "outputs": [],
   "source": [
    "#Collect GW 2 - 38 data and add lastGW columns for joining\n",
    "df_all_nextGW = df_all[['season','GW','element','total_points','minutes']]\n",
    "df_all_nextGW = df_all_nextGW[df_all_nextGW['GW']>1]\n",
    "df_all_nextGW['lastGW'] = df_all_nextGW['GW'] - 1\n",
    "df_all_nextGW.rename(columns={'total_points':'total_points_NW','minutes':'minutes_NW'},inplace=True)\n",
    "df_all_nextGW = df_all_nextGW[['season','lastGW','element','total_points_NW','minutes_NW']]"
   ]
  },
  {
   "cell_type": "code",
   "execution_count": null,
   "metadata": {},
   "outputs": [],
   "source": [
    "# merge NW points/minutes with GW data\n",
    "df_all_nw = pd.merge(df_all, df_all_nextGW,  how='right', left_on=['season','element','GW'], right_on = ['season','element','lastGW'])\n",
    "df_all_nw = df_all_nw.drop(columns=['lastGW'])"
   ]
  },
  {
   "cell_type": "code",
   "execution_count": null,
   "metadata": {},
   "outputs": [],
   "source": [
    "# create new columns to store historical  data, also dropped about 4000 rows of unmathed rows between this and last GW\n",
    "df_all_nw['total_points_past'] = df_all_nw['total_points']\n",
    "df_all_nw['minutes_past'] = df_all_nw['minutes']\n",
    "df_all_nw = df_all_nw.dropna()"
   ]
  },
  {
   "cell_type": "code",
   "execution_count": null,
   "metadata": {},
   "outputs": [],
   "source": [
    "# build this function to calculate points & minutes of previous weeks in the season, not that for elment must use eq() or it will return 0 \n",
    "def calculate_points(season,gw,player):\n",
    "    df_temp = df_gw_all[(df_gw_all['season']==season) & (df_gw_all['GW'].astype(int)<int(gw)) & df_gw_all['element'].eq(int(player))][['total_points']]\n",
    "    df_temp\n",
    "    return df_temp['total_points'].sum()\n",
    "\n",
    "def calculate_mins(season,gw,player):\n",
    "    df_temp = df_gw_all[(df_gw_all['season']==season) & (df_gw_all['GW'].astype(int)<int(gw)) & df_gw_all['element'].eq(int(player))][['minutes']]\n",
    "    df_temp\n",
    "    return df_temp['minutes'].sum()\n",
    "\n",
    "#calculate_points('2016-17',10,77) test with AZP, return 37, which is correct"
   ]
  },
  {
   "cell_type": "code",
   "execution_count": null,
   "metadata": {},
   "outputs": [],
   "source": [
    "#calculating total points an minutes from past. This will take a long time\n",
    "for i in range(0, df_all_nw.shape[0]):\n",
    "   # get row contents as series using iloc{] and index position of row\n",
    "    rowSeries = df_all_nw.iloc[i]\n",
    "    # collect gameweek,season,player data for functions\n",
    "    season,gw,player = rowSeries[0],rowSeries[1],rowSeries[2]\n",
    "    df_all_nw.at[i,'total_points_past'] = calculate_points(season,gw,player)\n",
    "    df_all_nw.at[i,'minutes_past'] = calculate_mins(season,gw,player)"
   ]
  },
  {
   "cell_type": "code",
   "execution_count": null,
   "metadata": {},
   "outputs": [],
   "source": [
    "df_all_nw.to_csv(\"Regression_data.csv\", index = False)"
   ]
  },
  {
   "cell_type": "markdown",
   "metadata": {},
   "source": [
    "### Regression Model building"
   ]
  },
  {
   "cell_type": "code",
   "execution_count": 2,
   "metadata": {},
   "outputs": [],
   "source": [
    "df_all_nw= pd.read_csv(\"Regression_data.csv\",header = 0,delimiter = \",\",encoding = \"ISO-8859-1\")"
   ]
  },
  {
   "cell_type": "code",
   "execution_count": 3,
   "metadata": {},
   "outputs": [
    {
     "data": {
      "text/plain": [
       "(110541, 28)"
      ]
     },
     "execution_count": 3,
     "metadata": {},
     "output_type": "execute_result"
    }
   ],
   "source": [
    "\"\"\"\n",
    "input variables: \n",
    "        'GW', 'minutes', 'value', 'selected', 'transfers_in', 'transfers_out', 'bonus','total_points', \n",
    "       'influence', 'creativity', 'threat', 'ict_index',\n",
    "       'red_cards', 'yellow_cards', 'assists', 'goals_scored', 'clean_sheets','was_home', 'element_type',\n",
    "       'total_points_past', 'minutes_past'\n",
    "# output variables:\n",
    "    total_points_NW\n",
    "# filters: \n",
    "    1. season: seperate training, test, validation sets\n",
    "    2. minutes_NW: filter out player-gw that does not played in the next round\n",
    "    3. element_type: no goalkeepers\n",
    "# drop variables:\n",
    "    1. element\n",
    "    2. name\n",
    "'\"\"\"\n",
    "df_all_nw.shape"
   ]
  },
  {
   "cell_type": "code",
   "execution_count": 4,
   "metadata": {},
   "outputs": [],
   "source": [
    "# filter by minutes_NW and element_type. Shirnk to 37177 rows of data\n",
    "df_all_nw_model = df_all_nw[(df_all_nw['minutes_NW'] >= 45) & (df_all_nw['element_type'] != 1)]"
   ]
  },
  {
   "cell_type": "code",
   "execution_count": 5,
   "metadata": {},
   "outputs": [],
   "source": [
    "df_all_nw_model = df_all_nw_model[df_all_nw_model['element_type'] == 4 ]"
   ]
  },
  {
   "cell_type": "code",
   "execution_count": 6,
   "metadata": {},
   "outputs": [],
   "source": [
    "# import regression models\n",
    "from sklearn import  linear_model\n",
    "from sklearn.model_selection import train_test_split\n",
    "from sklearn.metrics import mean_squared_error, r2_score,mean_absolute_error\n",
    "import statsmodels.api as sm"
   ]
  },
  {
   "cell_type": "code",
   "execution_count": 11,
   "metadata": {},
   "outputs": [],
   "source": [
    "\"\"\"\n",
    "reference: https://searchengineland.com/heres-how-i-used-python-to-build-a-regression-model-using-an-e-commerce-dataset-326493\n",
    "1. Reducing x variables with high p value: 'GW', 'minutes', 'selected', 'transfers_out', 'bonus', 'assists', 'goals_scored', 'clean_sheets','red_cards'\n",
    "\"\"\"\n",
    "Y = df_all_nw_model['total_points_NW']\n",
    "X = df_all_nw_model[[ 'value', 'transfers_in','total_points', 'influence', 'creativity', 'threat', 'ict_index', 'yellow_cards','was_home','total_points_past', 'minutes_past', 'minutes', 'selected', 'transfers_out', 'assists', 'goals_scored', 'clean_sheets','red_cards']]\n",
    "#X = df_all_nw_model[[ 'value', 'transfers_in','total_points', 'influence', 'creativity', 'threat', 'ict_index', 'yellow_cards','was_home', 'element_type','total_points_past', 'minutes_past']]"
   ]
  },
  {
   "cell_type": "code",
   "execution_count": 12,
   "metadata": {},
   "outputs": [],
   "source": [
    "X_train, X_test, y_train, y_test = train_test_split(X, Y, test_size = 0.2, random_state = 465)"
   ]
  },
  {
   "cell_type": "code",
   "execution_count": 13,
   "metadata": {},
   "outputs": [
    {
     "name": "stdout",
     "output_type": "stream",
     "text": [
      "Training Data Count: 3811\n",
      "Testing Data Count: 953\n"
     ]
    }
   ],
   "source": [
    "print('Training Data Count: {}'.format(X_train.shape[0]))\n",
    "print('Testing Data Count: {}'.format(X_test.shape[0]))"
   ]
  },
  {
   "cell_type": "code",
   "execution_count": 14,
   "metadata": {},
   "outputs": [
    {
     "data": {
      "text/html": [
       "<table class=\"simpletable\">\n",
       "<caption>OLS Regression Results</caption>\n",
       "<tr>\n",
       "  <th>Dep. Variable:</th>     <td>total_points_NW</td> <th>  R-squared:         </th> <td>   0.070</td> \n",
       "</tr>\n",
       "<tr>\n",
       "  <th>Model:</th>                   <td>OLS</td>       <th>  Adj. R-squared:    </th> <td>   0.065</td> \n",
       "</tr>\n",
       "<tr>\n",
       "  <th>Method:</th>             <td>Least Squares</td>  <th>  F-statistic:       </th> <td>   15.83</td> \n",
       "</tr>\n",
       "<tr>\n",
       "  <th>Date:</th>             <td>Wed, 29 Sep 2021</td> <th>  Prob (F-statistic):</th> <td>5.44e-48</td> \n",
       "</tr>\n",
       "<tr>\n",
       "  <th>Time:</th>                 <td>15:17:23</td>     <th>  Log-Likelihood:    </th> <td> -10146.</td> \n",
       "</tr>\n",
       "<tr>\n",
       "  <th>No. Observations:</th>      <td>  3811</td>      <th>  AIC:               </th> <td>2.033e+04</td>\n",
       "</tr>\n",
       "<tr>\n",
       "  <th>Df Residuals:</th>          <td>  3792</td>      <th>  BIC:               </th> <td>2.045e+04</td>\n",
       "</tr>\n",
       "<tr>\n",
       "  <th>Df Model:</th>              <td>    18</td>      <th>                     </th>     <td> </td>    \n",
       "</tr>\n",
       "<tr>\n",
       "  <th>Covariance Type:</th>      <td>nonrobust</td>    <th>                     </th>     <td> </td>    \n",
       "</tr>\n",
       "</table>\n",
       "<table class=\"simpletable\">\n",
       "<tr>\n",
       "          <td></td>             <th>coef</th>     <th>std err</th>      <th>t</th>      <th>P>|t|</th>  <th>[0.025</th>    <th>0.975]</th>  \n",
       "</tr>\n",
       "<tr>\n",
       "  <th>const</th>             <td>    0.9110</td> <td>    0.273</td> <td>    3.336</td> <td> 0.001</td> <td>    0.376</td> <td>    1.446</td>\n",
       "</tr>\n",
       "<tr>\n",
       "  <th>value</th>             <td>    0.0400</td> <td>    0.004</td> <td>   10.799</td> <td> 0.000</td> <td>    0.033</td> <td>    0.047</td>\n",
       "</tr>\n",
       "<tr>\n",
       "  <th>transfers_in</th>      <td>-3.773e-07</td> <td> 7.63e-07</td> <td>   -0.495</td> <td> 0.621</td> <td>-1.87e-06</td> <td> 1.12e-06</td>\n",
       "</tr>\n",
       "<tr>\n",
       "  <th>total_points</th>      <td>   -0.0145</td> <td>    0.091</td> <td>   -0.160</td> <td> 0.873</td> <td>   -0.193</td> <td>    0.164</td>\n",
       "</tr>\n",
       "<tr>\n",
       "  <th>influence</th>         <td>    0.0663</td> <td>    0.066</td> <td>    1.009</td> <td> 0.313</td> <td>   -0.063</td> <td>    0.195</td>\n",
       "</tr>\n",
       "<tr>\n",
       "  <th>creativity</th>        <td>    0.0630</td> <td>    0.063</td> <td>    1.001</td> <td> 0.317</td> <td>   -0.060</td> <td>    0.186</td>\n",
       "</tr>\n",
       "<tr>\n",
       "  <th>threat</th>            <td>    0.0617</td> <td>    0.062</td> <td>    0.991</td> <td> 0.322</td> <td>   -0.060</td> <td>    0.184</td>\n",
       "</tr>\n",
       "<tr>\n",
       "  <th>ict_index</th>         <td>   -0.6441</td> <td>    0.623</td> <td>   -1.034</td> <td> 0.301</td> <td>   -1.866</td> <td>    0.578</td>\n",
       "</tr>\n",
       "<tr>\n",
       "  <th>yellow_cards</th>      <td>   -0.4317</td> <td>    0.227</td> <td>   -1.902</td> <td> 0.057</td> <td>   -0.877</td> <td>    0.013</td>\n",
       "</tr>\n",
       "<tr>\n",
       "  <th>was_home</th>          <td>   -0.1293</td> <td>    0.114</td> <td>   -1.135</td> <td> 0.256</td> <td>   -0.353</td> <td>    0.094</td>\n",
       "</tr>\n",
       "<tr>\n",
       "  <th>total_points_past</th> <td>    0.0058</td> <td>    0.005</td> <td>    1.232</td> <td> 0.218</td> <td>   -0.003</td> <td>    0.015</td>\n",
       "</tr>\n",
       "<tr>\n",
       "  <th>minutes_past</th>      <td>   -0.0003</td> <td>    0.000</td> <td>   -1.248</td> <td> 0.212</td> <td>   -0.001</td> <td>    0.000</td>\n",
       "</tr>\n",
       "<tr>\n",
       "  <th>minutes</th>           <td>    0.0066</td> <td>    0.003</td> <td>    2.353</td> <td> 0.019</td> <td>    0.001</td> <td>    0.012</td>\n",
       "</tr>\n",
       "<tr>\n",
       "  <th>selected</th>          <td> 7.944e-08</td> <td> 1.36e-07</td> <td>    0.585</td> <td> 0.559</td> <td>-1.87e-07</td> <td> 3.46e-07</td>\n",
       "</tr>\n",
       "<tr>\n",
       "  <th>transfers_out</th>     <td> 8.371e-07</td> <td> 9.86e-07</td> <td>    0.849</td> <td> 0.396</td> <td> -1.1e-06</td> <td> 2.77e-06</td>\n",
       "</tr>\n",
       "<tr>\n",
       "  <th>assists</th>           <td>   -0.1555</td> <td>    0.353</td> <td>   -0.440</td> <td> 0.660</td> <td>   -0.848</td> <td>    0.537</td>\n",
       "</tr>\n",
       "<tr>\n",
       "  <th>goals_scored</th>      <td>    0.1770</td> <td>    0.623</td> <td>    0.284</td> <td> 0.776</td> <td>   -1.045</td> <td>    1.399</td>\n",
       "</tr>\n",
       "<tr>\n",
       "  <th>clean_sheets</th>      <td>   -0.0204</td> <td>    0.141</td> <td>   -0.144</td> <td> 0.885</td> <td>   -0.298</td> <td>    0.257</td>\n",
       "</tr>\n",
       "<tr>\n",
       "  <th>red_cards</th>         <td>   -1.4275</td> <td>    3.494</td> <td>   -0.409</td> <td> 0.683</td> <td>   -8.278</td> <td>    5.423</td>\n",
       "</tr>\n",
       "</table>\n",
       "<table class=\"simpletable\">\n",
       "<tr>\n",
       "  <th>Omnibus:</th>       <td>926.616</td> <th>  Durbin-Watson:     </th> <td>   2.013</td>\n",
       "</tr>\n",
       "<tr>\n",
       "  <th>Prob(Omnibus):</th> <td> 0.000</td>  <th>  Jarque-Bera (JB):  </th> <td>1883.944</td>\n",
       "</tr>\n",
       "<tr>\n",
       "  <th>Skew:</th>          <td> 1.445</td>  <th>  Prob(JB):          </th> <td>    0.00</td>\n",
       "</tr>\n",
       "<tr>\n",
       "  <th>Kurtosis:</th>      <td> 4.875</td>  <th>  Cond. No.          </th> <td>5.66e+07</td>\n",
       "</tr>\n",
       "</table><br/><br/>Notes:<br/>[1] Standard Errors assume that the covariance matrix of the errors is correctly specified.<br/>[2] The condition number is large, 5.66e+07. This might indicate that there are<br/>strong multicollinearity or other numerical problems."
      ],
      "text/plain": [
       "<class 'statsmodels.iolib.summary.Summary'>\n",
       "\"\"\"\n",
       "                            OLS Regression Results                            \n",
       "==============================================================================\n",
       "Dep. Variable:        total_points_NW   R-squared:                       0.070\n",
       "Model:                            OLS   Adj. R-squared:                  0.065\n",
       "Method:                 Least Squares   F-statistic:                     15.83\n",
       "Date:                Wed, 29 Sep 2021   Prob (F-statistic):           5.44e-48\n",
       "Time:                        15:17:23   Log-Likelihood:                -10146.\n",
       "No. Observations:                3811   AIC:                         2.033e+04\n",
       "Df Residuals:                    3792   BIC:                         2.045e+04\n",
       "Df Model:                          18                                         \n",
       "Covariance Type:            nonrobust                                         \n",
       "=====================================================================================\n",
       "                        coef    std err          t      P>|t|      [0.025      0.975]\n",
       "-------------------------------------------------------------------------------------\n",
       "const                 0.9110      0.273      3.336      0.001       0.376       1.446\n",
       "value                 0.0400      0.004     10.799      0.000       0.033       0.047\n",
       "transfers_in      -3.773e-07   7.63e-07     -0.495      0.621   -1.87e-06    1.12e-06\n",
       "total_points         -0.0145      0.091     -0.160      0.873      -0.193       0.164\n",
       "influence             0.0663      0.066      1.009      0.313      -0.063       0.195\n",
       "creativity            0.0630      0.063      1.001      0.317      -0.060       0.186\n",
       "threat                0.0617      0.062      0.991      0.322      -0.060       0.184\n",
       "ict_index            -0.6441      0.623     -1.034      0.301      -1.866       0.578\n",
       "yellow_cards         -0.4317      0.227     -1.902      0.057      -0.877       0.013\n",
       "was_home             -0.1293      0.114     -1.135      0.256      -0.353       0.094\n",
       "total_points_past     0.0058      0.005      1.232      0.218      -0.003       0.015\n",
       "minutes_past         -0.0003      0.000     -1.248      0.212      -0.001       0.000\n",
       "minutes               0.0066      0.003      2.353      0.019       0.001       0.012\n",
       "selected           7.944e-08   1.36e-07      0.585      0.559   -1.87e-07    3.46e-07\n",
       "transfers_out      8.371e-07   9.86e-07      0.849      0.396    -1.1e-06    2.77e-06\n",
       "assists              -0.1555      0.353     -0.440      0.660      -0.848       0.537\n",
       "goals_scored          0.1770      0.623      0.284      0.776      -1.045       1.399\n",
       "clean_sheets         -0.0204      0.141     -0.144      0.885      -0.298       0.257\n",
       "red_cards            -1.4275      3.494     -0.409      0.683      -8.278       5.423\n",
       "==============================================================================\n",
       "Omnibus:                      926.616   Durbin-Watson:                   2.013\n",
       "Prob(Omnibus):                  0.000   Jarque-Bera (JB):             1883.944\n",
       "Skew:                           1.445   Prob(JB):                         0.00\n",
       "Kurtosis:                       4.875   Cond. No.                     5.66e+07\n",
       "==============================================================================\n",
       "\n",
       "Notes:\n",
       "[1] Standard Errors assume that the covariance matrix of the errors is correctly specified.\n",
       "[2] The condition number is large, 5.66e+07. This might indicate that there are\n",
       "strong multicollinearity or other numerical problems.\n",
       "\"\"\""
      ]
     },
     "execution_count": 14,
     "metadata": {},
     "output_type": "execute_result"
    }
   ],
   "source": [
    "X_train = sm.add_constant(X_train)\n",
    "results = sm.OLS(y_train.astype(float), X_train.astype(float)).fit()\n",
    "results.summary()"
   ]
  },
  {
   "cell_type": "code",
   "execution_count": 17,
   "metadata": {},
   "outputs": [
    {
     "data": {
      "image/png": "[encoded data removed]",
      "text/plain": [
       "<Figure size 450x300 with 1 Axes>"
      ]
     },
     "metadata": {
      "needs_background": "light"
     },
     "output_type": "display_data"
    }
   ],
   "source": [
    "X_test = sm.add_constant(X_test)\n",
    "y_preds = results.predict(X_test)\n",
    "\n",
    "plt.figure(dpi = 75)\n",
    "plt.scatter(y_test, y_preds)\n",
    "#plt.plot(y_test, y_preds, color=\"red\")\n",
    "plt.show()"
   ]
  },
  {
   "cell_type": "code",
   "execution_count": null,
   "metadata": {},
   "outputs": [],
   "source": [
    "#https://www.analyticsvidhya.com/blog/2021/02/build-your-first-linear-regression-machine-learning-model/\n",
    "linreg = linear_model.LinearRegression()\n",
    "linreg.fit(X, Y)\n",
    "y_pred = linreg.predict(X)\n",
    "plt.scatter(y_pred, Y)\n",
    "##plt.plot(y_pred, Y)\n",
    "plt.xlabel('y-predict')\n",
    "plt.ylabel('y-points')\n",
    "plt.show()"
   ]
  },
  {
   "cell_type": "code",
   "execution_count": null,
   "metadata": {},
   "outputs": [],
   "source": [
    "# R-squared at 0.077\n",
    "linreg.score(X, Y)"
   ]
  },
  {
   "cell_type": "markdown",
   "metadata": {},
   "source": [
    "### Polynomial Regression Building"
   ]
  },
  {
   "cell_type": "code",
   "execution_count": null,
   "metadata": {},
   "outputs": [],
   "source": [
    "df_all_nw= pd.read_csv(\"Regression_data.csv\",header = 0,delimiter = \",\",encoding = \"ISO-8859-1\")\n",
    "# filter by minutes_NW and element_type. Shirnk to 37177 rows of data\n",
    "df_all_nw_model = df_all_nw[(df_all_nw['minutes_NW'] >= 45) & (df_all_nw['element_type'] != 1)]"
   ]
  },
  {
   "cell_type": "code",
   "execution_count": null,
   "metadata": {},
   "outputs": [],
   "source": [
    "from sklearn.preprocessing import PolynomialFeatures\n",
    "from sklearn import linear_model"
   ]
  },
  {
   "cell_type": "code",
   "execution_count": null,
   "metadata": {},
   "outputs": [],
   "source": [
    "from sklearn.preprocessing import PolynomialFeatures\n",
    "from sklearn import linear_model\n",
    "\n",
    "X = [[0.44, 0.68], [0.99, 0.23]]\n",
    "vector = [109.85, 155.72]\n",
    "predict= [[0.49, 0.18]]\n",
    "#Edit: added second square bracket above to fix the ValueError problem\n",
    "\n",
    "poly = PolynomialFeatures(degree=2)\n",
    "X_ = poly.fit_transform(X)\n",
    "predict_ = poly.fit_transform(predict)\n",
    "\n",
    "clf = linear_model.LinearRegression()\n",
    "clf.fit(X_, vector)\n",
    "print clf.predict(predict_)"
   ]
  },
  {
   "cell_type": "code",
   "execution_count": null,
   "metadata": {},
   "outputs": [],
   "source": [
    "Y = df_all_nw_model['total_points_NW']\n",
    "X = df_all_nw_model[[ 'value', 'transfers_in','total_points', 'influence', 'creativity', 'threat', 'ict_index', 'yellow_cards','was_home', 'element_type','total_points_past', 'minutes_past','GW', 'minutes', 'selected', 'transfers_out', 'bonus', 'assists', 'goals_scored', 'clean_sheets','red_cards']]"
   ]
  },
  {
   "cell_type": "code",
   "execution_count": null,
   "metadata": {},
   "outputs": [],
   "source": [
    "X_train, X_test, y_train, y_test = train_test_split(X, Y, test_size = 0.2, random_state = 465)"
   ]
  },
  {
   "cell_type": "code",
   "execution_count": null,
   "metadata": {},
   "outputs": [],
   "source": [
    "poly = PolynomialFeatures(degree=2)\n",
    "X_ = poly.fit_transform(X_train)\n",
    "X_test_predict = poly.fit_transform(X_test)\n",
    "clf = linear_model.LinearRegression()\n",
    "clf.fit(X_, y_train)\n",
    "y_test_predict = clf.predict(X_test_predict)"
   ]
  },
  {
   "cell_type": "code",
   "execution_count": null,
   "metadata": {},
   "outputs": [],
   "source": [
    "plt.scatter(y_test_predict, y_test)\n",
    "##plt.plot(y_pred, Y)\n",
    "plt.xlim(0, 25)\n",
    "plt.ylim(0, 25)\n",
    "plt.xlabel('y-predict')\n",
    "plt.ylabel('y-points')\n",
    "plt.show()"
   ]
  },
  {
   "cell_type": "markdown",
   "metadata": {},
   "source": [
    "### Logistic Regression"
   ]
  },
  {
   "cell_type": "code",
   "execution_count": 19,
   "metadata": {},
   "outputs": [
    {
     "data": {
      "text/plain": [
       "Index(['season', 'GW', 'element', 'name', 'minutes', 'value', 'selected',\n",
       "       'transfers_balance', 'transfers_in', 'transfers_out', 'bonus',\n",
       "       'total_points', 'influence', 'creativity', 'threat', 'ict_index',\n",
       "       'red_cards', 'yellow_cards', 'assists', 'goals_scored', 'clean_sheets',\n",
       "       'was_home', 'element_type', 'lastGW', 'total_points_NW', 'minutes_NW',\n",
       "       'total_points_past', 'minutes_past'],\n",
       "      dtype='object')"
      ]
     },
     "execution_count": 19,
     "metadata": {},
     "output_type": "execute_result"
    }
   ],
   "source": [
    "df_all_nw.columns"
   ]
  },
  {
   "cell_type": "code",
   "execution_count": 23,
   "metadata": {},
   "outputs": [],
   "source": [
    "#create np percentile function for agg\n",
    "def percentile(n):\n",
    "    def percentile_(x):\n",
    "        return np.percentile(x, n,interpolation = 'midpoint')\n",
    "    percentile_.__name__ = 'percentile_%s' % n\n",
    "    return percentile_"
   ]
  },
  {
   "cell_type": "code",
   "execution_count": 54,
   "metadata": {},
   "outputs": [
    {
     "name": "stderr",
     "output_type": "stream",
     "text": [
      "C:\\Users\\yingy\\AppData\\Local\\Programs\\Python\\Python37\\lib\\site-packages\\ipykernel_launcher.py:3: FutureWarning: Indexing with multiple keys (implicitly converted to a tuple of keys) will be deprecated, use a list instead.\n",
      "  This is separate from the ipykernel package so we can avoid doing imports until\n"
     ]
    }
   ],
   "source": [
    "# Take data out by season+GW+Element_type, calculate 95th percentile data on total points and points per value\n",
    "df_ppv_swp=df_all_nw.copy(deep=True)\n",
    "df_ppv_swp['ppv'] = df_ppv_swp['total_points']/df_ppv_swp['value']\n",
    "df_ppv_swp = df_ppv_swp.reset_index().groupby(['season','GW','element_type'])['total_points','ppv'].agg({percentile(95)})\n",
    "df_ppv_swp.columns = [col[0] for col in df_ppv_swp.columns]\n",
    "df_ppv_swp=df_ppv_swp.rename(columns={\"total_points\": \"tp_95\", \"ppv\": \"ppv_95\"})\n",
    "df_ppv_swp = df_ppv_swp.reset_index()\n",
    "df_ppv_swp['GW-1'] = df_ppv_swp['GW'] - 1"
   ]
  },
  {
   "cell_type": "code",
   "execution_count": 55,
   "metadata": {},
   "outputs": [
    {
     "data": {
      "text/html": [
       "<div>\n",
       "<style scoped>\n",
       "    .dataframe tbody tr th:only-of-type {\n",
       "        vertical-align: middle;\n",
       "    }\n",
       "\n",
       "    .dataframe tbody tr th {\n",
       "        vertical-align: top;\n",
       "    }\n",
       "\n",
       "    .dataframe thead th {\n",
       "        text-align: right;\n",
       "    }\n",
       "</style>\n",
       "<table border=\"1\" class=\"dataframe\">\n",
       "  <thead>\n",
       "    <tr style=\"text-align: right;\">\n",
       "      <th></th>\n",
       "      <th>season</th>\n",
       "      <th>GW</th>\n",
       "      <th>element_type</th>\n",
       "      <th>tp_95</th>\n",
       "      <th>ppv_95</th>\n",
       "      <th>GW-1</th>\n",
       "    </tr>\n",
       "  </thead>\n",
       "  <tbody>\n",
       "    <tr>\n",
       "      <th>0</th>\n",
       "      <td>2016-17</td>\n",
       "      <td>1</td>\n",
       "      <td>1</td>\n",
       "      <td>5.5</td>\n",
       "      <td>0.114444</td>\n",
       "      <td>0</td>\n",
       "    </tr>\n",
       "    <tr>\n",
       "      <th>1</th>\n",
       "      <td>2016-17</td>\n",
       "      <td>1</td>\n",
       "      <td>2</td>\n",
       "      <td>5.0</td>\n",
       "      <td>0.111111</td>\n",
       "      <td>0</td>\n",
       "    </tr>\n",
       "    <tr>\n",
       "      <th>2</th>\n",
       "      <td>2016-17</td>\n",
       "      <td>1</td>\n",
       "      <td>3</td>\n",
       "      <td>7.5</td>\n",
       "      <td>0.100000</td>\n",
       "      <td>0</td>\n",
       "    </tr>\n",
       "    <tr>\n",
       "      <th>3</th>\n",
       "      <td>2016-17</td>\n",
       "      <td>1</td>\n",
       "      <td>4</td>\n",
       "      <td>8.0</td>\n",
       "      <td>0.102597</td>\n",
       "      <td>0</td>\n",
       "    </tr>\n",
       "    <tr>\n",
       "      <th>4</th>\n",
       "      <td>2016-17</td>\n",
       "      <td>2</td>\n",
       "      <td>1</td>\n",
       "      <td>7.5</td>\n",
       "      <td>0.167500</td>\n",
       "      <td>1</td>\n",
       "    </tr>\n",
       "    <tr>\n",
       "      <th>...</th>\n",
       "      <td>...</td>\n",
       "      <td>...</td>\n",
       "      <td>...</td>\n",
       "      <td>...</td>\n",
       "      <td>...</td>\n",
       "      <td>...</td>\n",
       "    </tr>\n",
       "    <tr>\n",
       "      <th>735</th>\n",
       "      <td>2020-21</td>\n",
       "      <td>36</td>\n",
       "      <td>4</td>\n",
       "      <td>7.5</td>\n",
       "      <td>0.141414</td>\n",
       "      <td>35</td>\n",
       "    </tr>\n",
       "    <tr>\n",
       "      <th>736</th>\n",
       "      <td>2020-21</td>\n",
       "      <td>37</td>\n",
       "      <td>1</td>\n",
       "      <td>5.0</td>\n",
       "      <td>0.094206</td>\n",
       "      <td>36</td>\n",
       "    </tr>\n",
       "    <tr>\n",
       "      <th>737</th>\n",
       "      <td>2020-21</td>\n",
       "      <td>37</td>\n",
       "      <td>2</td>\n",
       "      <td>6.0</td>\n",
       "      <td>0.139535</td>\n",
       "      <td>36</td>\n",
       "    </tr>\n",
       "    <tr>\n",
       "      <th>738</th>\n",
       "      <td>2020-21</td>\n",
       "      <td>37</td>\n",
       "      <td>3</td>\n",
       "      <td>6.0</td>\n",
       "      <td>0.114255</td>\n",
       "      <td>36</td>\n",
       "    </tr>\n",
       "    <tr>\n",
       "      <th>739</th>\n",
       "      <td>2020-21</td>\n",
       "      <td>37</td>\n",
       "      <td>4</td>\n",
       "      <td>8.5</td>\n",
       "      <td>0.110795</td>\n",
       "      <td>36</td>\n",
       "    </tr>\n",
       "  </tbody>\n",
       "</table>\n",
       "<p>740 rows × 6 columns</p>\n",
       "</div>"
      ],
      "text/plain": [
       "      season  GW  element_type  tp_95    ppv_95  GW-1\n",
       "0    2016-17   1             1    5.5  0.114444     0\n",
       "1    2016-17   1             2    5.0  0.111111     0\n",
       "2    2016-17   1             3    7.5  0.100000     0\n",
       "3    2016-17   1             4    8.0  0.102597     0\n",
       "4    2016-17   2             1    7.5  0.167500     1\n",
       "..       ...  ..           ...    ...       ...   ...\n",
       "735  2020-21  36             4    7.5  0.141414    35\n",
       "736  2020-21  37             1    5.0  0.094206    36\n",
       "737  2020-21  37             2    6.0  0.139535    36\n",
       "738  2020-21  37             3    6.0  0.114255    36\n",
       "739  2020-21  37             4    8.5  0.110795    36\n",
       "\n",
       "[740 rows x 6 columns]"
      ]
     },
     "execution_count": 55,
     "metadata": {},
     "output_type": "execute_result"
    }
   ],
   "source": [
    "df_ppv_swp"
   ]
  },
  {
   "cell_type": "code",
   "execution_count": 64,
   "metadata": {},
   "outputs": [],
   "source": [
    "df_all_nw_95 = pd.merge(df_all_nw, df_ppv_swp,  how='inner', left_on=['season','GW','element_type'], right_on = ['season','GW-1','element_type'])\n",
    "df_all_nw_95 = df_all_nw_95.drop(columns=['lastGW','GW_y','GW-1'])\n",
    "df_all_nw_95=df_all_nw_95.rename(columns={\"GW_x\": \"GW\"})"
   ]
  },
  {
   "cell_type": "code",
   "execution_count": 69,
   "metadata": {},
   "outputs": [],
   "source": [
    "df_all_nw_95['tp_95_Y'] = df_all_nw_95['total_points_NW'] >= df_all_nw_95['tp_95'] \n",
    "df_all_nw_95['ppv_95_Y'] = (df_all_nw_95['total_points_NW']/df_all_nw_95['value']) >= df_all_nw_95['ppv_95'] "
   ]
  },
  {
   "cell_type": "code",
   "execution_count": 72,
   "metadata": {},
   "outputs": [
    {
     "data": {
      "text/plain": [
       "False    99170\n",
       "True      7356\n",
       "Name: tp_95_Y, dtype: int64"
      ]
     },
     "execution_count": 72,
     "metadata": {},
     "output_type": "execute_result"
    }
   ],
   "source": [
    "df_all_nw_95['tp_95_Y'].value_counts()"
   ]
  },
  {
   "cell_type": "code",
   "execution_count": 73,
   "metadata": {},
   "outputs": [
    {
     "data": {
      "text/plain": [
       "False    100674\n",
       "True       5852\n",
       "Name: ppv_95_Y, dtype: int64"
      ]
     },
     "execution_count": 73,
     "metadata": {},
     "output_type": "execute_result"
    }
   ],
   "source": [
    "df_all_nw_95['ppv_95_Y'].value_counts()"
   ]
  },
  {
   "cell_type": "code",
   "execution_count": 74,
   "metadata": {},
   "outputs": [
    {
     "data": {
      "text/plain": [
       "Index(['season', 'GW', 'element', 'name', 'minutes', 'value', 'selected',\n",
       "       'transfers_balance', 'transfers_in', 'transfers_out', 'bonus',\n",
       "       'total_points', 'influence', 'creativity', 'threat', 'ict_index',\n",
       "       'red_cards', 'yellow_cards', 'assists', 'goals_scored', 'clean_sheets',\n",
       "       'was_home', 'element_type', 'total_points_NW', 'minutes_NW',\n",
       "       'total_points_past', 'minutes_past', 'tp_95', 'ppv_95', 'tp_95_Y',\n",
       "       'ppv_95_Y'],\n",
       "      dtype='object')"
      ]
     },
     "execution_count": 74,
     "metadata": {},
     "output_type": "execute_result"
    }
   ],
   "source": [
    "df_all_nw_95.columns"
   ]
  },
  {
   "cell_type": "code",
   "execution_count": 82,
   "metadata": {},
   "outputs": [],
   "source": [
    "#https://towardsdatascience.com/building-a-logistic-regression-in-python-step-by-step-becd4d56c9c8\n",
    "Y = df_all_nw_95['ppv_95_Y']\n",
    "X = df_all_nw_95[[ 'GW', 'element', 'minutes', 'value', 'selected',\n",
    "       'transfers_balance', 'transfers_in', 'transfers_out', 'bonus',\n",
    "       'total_points', 'influence', 'creativity', 'threat', 'ict_index',\n",
    "       'red_cards', 'yellow_cards', 'assists', 'goals_scored', 'clean_sheets',\n",
    "       'was_home', 'element_type',\n",
    "       'total_points_past', 'minutes_past']]"
   ]
  },
  {
   "cell_type": "code",
   "execution_count": 83,
   "metadata": {},
   "outputs": [],
   "source": [
    "from imblearn.over_sampling import SMOTE\n",
    "from sklearn.linear_model import LogisticRegression\n",
    "os = SMOTE(random_state=0)\n",
    "X_train, X_test, y_train, y_test = train_test_split(X, Y, test_size=0.3, random_state=0)\n",
    "columns = X_train.columns\n",
    "os_data_X,os_data_y=os.fit_resample(X_train, y_train)\n",
    "os_data_X = pd.DataFrame(data=os_data_X,columns=columns )\n",
    "os_data_y= pd.DataFrame(data=os_data_y,columns=['ppv_95_Y'])"
   ]
  },
  {
   "cell_type": "code",
   "execution_count": 87,
   "metadata": {},
   "outputs": [
    {
     "name": "stdout",
     "output_type": "stream",
     "text": [
      "length of oversampled data is  140988\n",
      "Number of no subscription in oversampled data 70494\n",
      "Number of subscription 70494\n",
      "Proportion of no subscription data in oversampled data is  0.5\n",
      "Proportion of subscription data in oversampled data is  0.5\n"
     ]
    }
   ],
   "source": [
    "print(\"length of oversampled data is \",len(os_data_X))\n",
    "print(\"Number of no subscription in oversampled data\",len(os_data_y[os_data_y['ppv_95_Y']==0]))\n",
    "print(\"Number of subscription\",len(os_data_y[os_data_y['ppv_95_Y']==1]))\n",
    "print(\"Proportion of no subscription data in oversampled data is \",len(os_data_y[os_data_y['ppv_95_Y']==0])/len(os_data_X))\n",
    "print(\"Proportion of subscription data in oversampled data is \",len(os_data_y[os_data_y['ppv_95_Y']==1])/len(os_data_X))"
   ]
  },
  {
   "cell_type": "code",
   "execution_count": 92,
   "metadata": {
    "collapsed": true
   },
   "outputs": [
    {
     "name": "stdout",
     "output_type": "stream",
     "text": [
      "Optimization terminated successfully.\n",
      "         Current function value: 0.471284\n",
      "         Iterations 9\n",
      "                           Logit Regression Results                           \n",
      "==============================================================================\n",
      "Dep. Variable:               ppv_95_Y   No. Observations:               140988\n",
      "Model:                          Logit   Df Residuals:                   140969\n",
      "Method:                           MLE   Df Model:                           18\n",
      "Date:                Wed, 29 Sep 2021   Pseudo R-squ.:                  0.3201\n",
      "Time:                        17:12:52   Log-Likelihood:                -66445.\n",
      "converged:                       True   LL-Null:                       -97725.\n",
      "Covariance Type:            nonrobust   LLR p-value:                     0.000\n",
      "=====================================================================================\n",
      "                        coef    std err          z      P>|z|      [0.025      0.975]\n",
      "-------------------------------------------------------------------------------------\n",
      "GW                   -0.0323      0.001    -37.887      0.000      -0.034      -0.031\n",
      "element              -0.0004   4.24e-05    -10.175      0.000      -0.001      -0.000\n",
      "minutes               0.0138      0.000     47.060      0.000       0.013       0.014\n",
      "value                 0.0019      0.001      3.352      0.001       0.001       0.003\n",
      "selected          -3.894e-07   2.08e-08    -18.683      0.000    -4.3e-07   -3.49e-07\n",
      "bonus                -0.4803      0.024    -20.240      0.000      -0.527      -0.434\n",
      "total_points          0.2639      0.007     36.455      0.000       0.250       0.278\n",
      "influence             0.2419      0.018     13.577      0.000       0.207       0.277\n",
      "creativity            0.2371      0.018     13.401      0.000       0.202       0.272\n",
      "threat                0.2510      0.018     14.258      0.000       0.216       0.285\n",
      "ict_index            -2.2436      0.176    -12.727      0.000      -2.589      -1.898\n",
      "red_cards            -4.7967      1.008     -4.759      0.000      -6.772      -2.821\n",
      "yellow_cards         -1.8744      0.041    -45.750      0.000      -1.955      -1.794\n",
      "assists              -2.5410      0.048    -53.214      0.000      -2.635      -2.447\n",
      "goals_scored         -3.2037      0.057    -55.754      0.000      -3.316      -3.091\n",
      "clean_sheets         -2.3401      0.031    -75.715      0.000      -2.401      -2.279\n",
      "was_home              0.6457      0.014     46.978      0.000       0.619       0.673\n",
      "element_type         -0.5795      0.010    -57.541      0.000      -0.599      -0.560\n",
      "total_points_past     0.0178      0.000     51.252      0.000       0.017       0.018\n",
      "=====================================================================================\n"
     ]
    }
   ],
   "source": [
    "import statsmodels.api as sm\n",
    "#removed transfer columns (3) and minutes_past as their p-value is > 0.05\n",
    "cols=[ 'GW', 'element', 'minutes', 'value', 'selected', 'bonus',\n",
    "       'total_points', 'influence', 'creativity', 'threat', 'ict_index',\n",
    "       'red_cards', 'yellow_cards', 'assists', 'goals_scored', 'clean_sheets',\n",
    "       'was_home', 'element_type',\n",
    "       'total_points_past'] \n",
    "X1=os_data_X[cols]\n",
    "logit_model=sm.Logit(os_data_y.astype(float),X1.astype(float))\n",
    "result=logit_model.fit()\n",
    "print(result.summary())"
   ]
  },
  {
   "cell_type": "code",
   "execution_count": 93,
   "metadata": {},
   "outputs": [
    {
     "name": "stdout",
     "output_type": "stream",
     "text": [
      "Accuracy of logistic regression classifier on test set: 0.94\n"
     ]
    }
   ],
   "source": [
    "#rebuild the model, this time using the previously selected features\n",
    "from sklearn.linear_model import LogisticRegression\n",
    "from sklearn import metrics\n",
    "Y = df_all_nw_95['ppv_95_Y']\n",
    "X = df_all_nw_95[[ 'GW', 'element', 'minutes', 'value', 'selected', 'bonus',\n",
    "       'total_points', 'influence', 'creativity', 'threat', 'ict_index',\n",
    "       'red_cards', 'yellow_cards', 'assists', 'goals_scored', 'clean_sheets',\n",
    "       'was_home', 'element_type',\n",
    "       'total_points_past']]\n",
    "X_train, X_test, y_train, y_test = train_test_split(X, Y, test_size=0.3, random_state=0)\n",
    "logreg = LogisticRegression()\n",
    "logreg.fit(X_train, y_train)\n",
    "y_pred = logreg.predict(X_test)\n",
    "print('Accuracy of logistic regression classifier on test set: {:.2f}'.format(logreg.score(X_test, y_test)))"
   ]
  },
  {
   "cell_type": "code",
   "execution_count": 94,
   "metadata": {},
   "outputs": [
    {
     "name": "stdout",
     "output_type": "stream",
     "text": [
      "[[30144    36]\n",
      " [ 1774     4]]\n"
     ]
    }
   ],
   "source": [
    "from sklearn.metrics import confusion_matrix\n",
    "confusion_matrix = confusion_matrix(y_test, y_pred)\n",
    "print(confusion_matrix)"
   ]
  },
  {
   "cell_type": "code",
   "execution_count": 95,
   "metadata": {},
   "outputs": [
    {
     "name": "stdout",
     "output_type": "stream",
     "text": [
      "              precision    recall  f1-score   support\n",
      "\n",
      "       False       0.94      1.00      0.97     30180\n",
      "        True       0.10      0.00      0.00      1778\n",
      "\n",
      "    accuracy                           0.94     31958\n",
      "   macro avg       0.52      0.50      0.49     31958\n",
      "weighted avg       0.90      0.94      0.92     31958\n",
      "\n"
     ]
    }
   ],
   "source": [
    "from sklearn.metrics import classification_report\n",
    "print(classification_report(y_test, y_pred))"
   ]
  },
  {
   "cell_type": "code",
   "execution_count": 96,
   "metadata": {},
   "outputs": [
    {
     "data": {
      "image/png": "[encoded data removed]",
      "text/plain": [
       "<Figure size 432x288 with 1 Axes>"
      ]
     },
     "metadata": {
      "needs_background": "light"
     },
     "output_type": "display_data"
    }
   ],
   "source": [
    "from sklearn.metrics import roc_auc_score\n",
    "from sklearn.metrics import roc_curve\n",
    "logit_roc_auc = roc_auc_score(y_test, logreg.predict(X_test))\n",
    "fpr, tpr, thresholds = roc_curve(y_test, logreg.predict_proba(X_test)[:,1])\n",
    "plt.figure()\n",
    "plt.plot(fpr, tpr, label='Logistic Regression (area = %0.2f)' % logit_roc_auc)\n",
    "plt.plot([0, 1], [0, 1],'r--')\n",
    "plt.xlim([0.0, 1.0])\n",
    "plt.ylim([0.0, 1.05])\n",
    "plt.xlabel('False Positive Rate')\n",
    "plt.ylabel('True Positive Rate')\n",
    "plt.title('Receiver operating characteristic')\n",
    "plt.legend(loc=\"lower right\")\n",
    "plt.savefig('Log_ROC')\n",
    "plt.show()"
   ]
  },
  {
   "cell_type": "code",
   "execution_count": 114,
   "metadata": {},
   "outputs": [
    {
     "ename": "AttributeError",
     "evalue": "'numpy.ndarray' object has no attribute 'values'",
     "output_type": "error",
     "traceback": [
      "\u001b[1;31m---------------------------------------------------------------------------\u001b[0m",
      "\u001b[1;31mAttributeError\u001b[0m                            Traceback (most recent call last)",
      "\u001b[1;32m<ipython-input-114-63561efc7f42>\u001b[0m in \u001b[0;36m<module>\u001b[1;34m\u001b[0m\n\u001b[1;32m----> 1\u001b[1;33m \u001b[0my_pred\u001b[0m\u001b[1;33m.\u001b[0m\u001b[0mvalues\u001b[0m\u001b[1;33m.\u001b[0m\u001b[0mreshape\u001b[0m\u001b[1;33m(\u001b[0m\u001b[1;33m-\u001b[0m\u001b[1;36m1\u001b[0m\u001b[1;33m,\u001b[0m \u001b[1;36m1\u001b[0m\u001b[1;33m)\u001b[0m\u001b[1;33m\u001b[0m\u001b[1;33m\u001b[0m\u001b[0m\n\u001b[0m",
      "\u001b[1;31mAttributeError\u001b[0m: 'numpy.ndarray' object has no attribute 'values'"
     ]
    }
   ],
   "source": [
    "y_pred.values.reshape(-1, 1)"
   ]
  },
  {
   "cell_type": "code",
   "execution_count": 115,
   "metadata": {},
   "outputs": [],
   "source": [
    "np_xy_testpreduct = np.concatenate((X_test, y_test.values.reshape(-1, 1),y_pred.reshape(-1, 1)), axis=1)"
   ]
  },
  {
   "cell_type": "code",
   "execution_count": 119,
   "metadata": {},
   "outputs": [
    {
     "data": {
      "text/plain": [
       "Index(['GW', 'element', 'minutes', 'value', 'selected', 'bonus',\n",
       "       'total_points', 'influence', 'creativity', 'threat', 'ict_index',\n",
       "       'red_cards', 'yellow_cards', 'assists', 'goals_scored', 'clean_sheets',\n",
       "       'was_home', 'element_type', 'total_points_past'],\n",
       "      dtype='object')"
      ]
     },
     "execution_count": 119,
     "metadata": {},
     "output_type": "execute_result"
    }
   ],
   "source": [
    "X_test.columns"
   ]
  },
  {
   "cell_type": "code",
   "execution_count": 123,
   "metadata": {},
   "outputs": [],
   "source": [
    "df = pd.DataFrame(np_xy_testpreduct)"
   ]
  },
  {
   "cell_type": "code",
   "execution_count": 125,
   "metadata": {},
   "outputs": [],
   "source": [
    "df.columns =['GW', 'element', 'minutes', 'value', 'selected', 'bonus',\n",
    "       'total_points', 'influence', 'creativity', 'threat', 'ict_index',\n",
    "       'red_cards', 'yellow_cards', 'assists', 'goals_scored', 'clean_sheets',\n",
    "       'was_home', 'element_type', 'total_points_past','y-test','y-predict']"
   ]
  },
  {
   "cell_type": "code",
   "execution_count": 142,
   "metadata": {},
   "outputs": [],
   "source": [
    "df.to_excel(\"logistic_regression_testresult.xlsx\",index = False)"
   ]
  },
  {
   "cell_type": "markdown",
   "metadata": {},
   "source": [
    "### Data Visualization to Stakeholders"
   ]
  },
  {
   "cell_type": "code",
   "execution_count": 145,
   "metadata": {},
   "outputs": [
    {
     "data": {
      "text/plain": [
       "Index(['season', 'GW', 'element', 'name', 'minutes', 'value', 'selected',\n",
       "       'transfers_balance', 'transfers_in', 'transfers_out', 'bonus',\n",
       "       'total_points', 'influence', 'creativity', 'threat', 'ict_index',\n",
       "       'red_cards', 'yellow_cards', 'assists', 'goals_scored', 'clean_sheets',\n",
       "       'was_home', 'element_type', 'total_points_NW', 'minutes_NW',\n",
       "       'total_points_past', 'minutes_past', 'tp_95', 'ppv_95', 'tp_95_Y',\n",
       "       'ppv_95_Y'],\n",
       "      dtype='object')"
      ]
     },
     "execution_count": 145,
     "metadata": {},
     "output_type": "execute_result"
    }
   ],
   "source": [
    "df_all_nw_95.columns"
   ]
  },
  {
   "cell_type": "code",
   "execution_count": 153,
   "metadata": {},
   "outputs": [],
   "source": [
    "df_good = df_all_nw_95[df_all_nw_95['tp_95_Y'] == True]\n",
    "df_good = df_good[df_good['ppv_95_Y'] == True]"
   ]
  },
  {
   "cell_type": "code",
   "execution_count": 192,
   "metadata": {},
   "outputs": [
    {
     "data": {
      "image/png": "[encoded data removed]",
      "text/plain": [
       "<Figure size 1080x1080 with 4 Axes>"
      ]
     },
     "metadata": {
      "needs_background": "light"
     },
     "output_type": "display_data"
    }
   ],
   "source": [
    "#https://www.dataindependent.com/pandas/pandas-histogram/\n",
    "fig = plt.figure(figsize = (15,15))\n",
    "ax = fig.gca()\n",
    "tp95_value = df_all_nw_95.hist(column='value',by='ppv_95_Y', sharex=True, sharey=False, layout = (2, 2),ax=ax)\n",
    "\n",
    "for ax in tp95_value.flatten():\n",
    "    ax.set_xlabel(\"Value of player\")\n",
    "    ax.set_ylabel(\"Frequency\")\n",
    "    #ax.set_title(\"(95th % in Total Points,95th % in Points per Value )\")\n",
    "    #ax.set_suptitle(\"(95th % in Total Points,95th % in Points per Value )\")\n",
    "\n",
    "fig.savefig('Value_Vs_95thPPV.png')"
   ]
  },
  {
   "cell_type": "code",
   "execution_count": 193,
   "metadata": {},
   "outputs": [
    {
     "data": {
      "image/png": "[encoded data removed]",
      "text/plain": [
       "<Figure size 1080x1080 with 4 Axes>"
      ]
     },
     "metadata": {
      "needs_background": "light"
     },
     "output_type": "display_data"
    }
   ],
   "source": [
    "fig = plt.figure(figsize = (15,15))\n",
    "ax = fig.gca()\n",
    "tp95_value = df_all_nw_95.hist(column='value',by='tp_95_Y', sharex=True, sharey=False, layout = (2, 2),ax=ax)\n",
    "\n",
    "for ax in tp95_value.flatten():\n",
    "    ax.set_xlabel(\"Value of player\")\n",
    "    ax.set_ylabel(\"Frequency\")\n",
    "    #ax.set_title(\"(95th % in Total Points,95th % in Points per Value )\")\n",
    "    #ax.set_suptitle(\"(95th % in Total Points,95th % in Points per Value )\")\n",
    "\n",
    "fig.savefig('Value_Vs_95thTP.png')"
   ]
  },
  {
   "cell_type": "code",
   "execution_count": 183,
   "metadata": {},
   "outputs": [
    {
     "data": {
      "image/png": "[encoded data removed]",
      "text/plain": [
       "<Figure size 1080x1080 with 4 Axes>"
      ]
     },
     "metadata": {
      "needs_background": "light"
     },
     "output_type": "display_data"
    }
   ],
   "source": [
    "fig = plt.figure(figsize = (15,15))\n",
    "ax = fig.gca()\n",
    "tp95_value = df_all_nw_95.hist(column='value',by=['tp_95_Y','ppv_95_Y'], sharex=True, sharey=False, layout = (2, 2),ax=ax)\n",
    "\n",
    "for ax in tp95_value.flatten():\n",
    "    ax.set_xlabel(\"Value of player\")\n",
    "    ax.set_ylabel(\"Frequency\")\n",
    "    #ax.set_title(\"(95th % in Total Points,95th % in Points per Value )\")\n",
    "    #ax.set_suptitle(\"(95th % in Total Points,95th % in Points per Value )\")\n",
    "\n",
    "fig.savefig('Value_Vs_Performance.png')"
   ]
  },
  {
   "cell_type": "code",
   "execution_count": 191,
   "metadata": {},
   "outputs": [
    {
     "data": {
      "image/png": "[encoded data removed]",
      "text/plain": [
       "<Figure size 1080x1080 with 4 Axes>"
      ]
     },
     "metadata": {
      "needs_background": "light"
     },
     "output_type": "display_data"
    }
   ],
   "source": [
    "fig = plt.figure(figsize = (15,15))\n",
    "ax = fig.gca()\n",
    "tp95_tb = df_all_nw_95.hist(column='transfers_balance',by=['tp_95_Y','ppv_95_Y'], range=[-200000, 500000],sharex=True, sharey=False, layout = (2, 2),ax=ax)\n",
    "for ax in tp95_tb.flatten():\n",
    "    ax.set_xlabel(\"Transfer Balance of player\")\n",
    "    ax.set_ylabel(\"Frequency\")\n",
    "    #ax.set_title(\"(95th % in Total Points,95th % in Points per Value )\")\n",
    "    #ax.set_suptitle(\"(95th % in Total Points,95th % in Points per Value )\")\n",
    "\n",
    "fig.savefig('TransferBalance_Vs_Performance.png')"
   ]
  },
  {
   "cell_type": "code",
   "execution_count": null,
   "metadata": {},
   "outputs": [],
   "source": [
    "# function to aggregate play stats over the season\n",
    "def agg_player(x):\n",
    "        d = []\n",
    "        d.append(x['GW'].nunique())\n",
    "        d.append(x['total_points'].max())\n",
    "        d.append(x['total_points'].min())\n",
    "        d.append(x['total_points'].mean())\n",
    "        d.append(x['total_points'].sum())\n",
    "        d.append(x['minutes'].mean())\n",
    "        d.append(x['minutes'].sum())\n",
    "        d.append(x['value'].mean())\n",
    "        return pd.Series(d, index= ['GW_participated', 'total_points_max','total_points_min','total_points_mean','total_points_sum','minutes_mean','minutes_sum','value_mean'])"
   ]
  },
  {
   "cell_type": "code",
   "execution_count": null,
   "metadata": {},
   "outputs": [],
   "source": [
    "# EDA Group by player and count week\n",
    "# Get data subset: https://pandas.pydata.org/pandas-docs/stable/getting_started/intro_tutorials/03_subset_data.html\n",
    "print (df_1617['element'].nunique())\n",
    "df_1617_p = df_1617.reset_index()[['name', 'element','bonus', 'loaned_in', 'loaned_out','minutes','opponent_team', 'total_points', 'transfers_balance', 'transfers_in', 'transfers_out','value', 'GW']]\n",
    "df_1617_p_byname = df_1617_p.groupby(['element','name']).apply(agg_player).reset_index()"
   ]
  },
  {
   "cell_type": "code",
   "execution_count": null,
   "metadata": {},
   "outputs": [],
   "source": [
    "df_1617_p[df_1617_p['element'] == 77]\n",
    "# a['minutes_sum'].describe()"
   ]
  },
  {
   "cell_type": "code",
   "execution_count": null,
   "metadata": {},
   "outputs": [],
   "source": []
  },
  {
   "cell_type": "code",
   "execution_count": null,
   "metadata": {},
   "outputs": [],
   "source": []
  },
  {
   "cell_type": "code",
   "execution_count": null,
   "metadata": {},
   "outputs": [],
   "source": [
    "### FPL API only contains detailed data for the current season and aggregate data for past seasons, so no use\n",
    "### Reference: https://medium.com/analytics-vidhya/getting-started-with-fantasy-premier-league-data-56d3b9be8c32\n",
    "# base url for all FPL API endpoints\n",
    "base_url = 'https://fantasy.premierleague.com/api/'\n",
    "\n",
    "# get data from bootstrap-static endpoint\n",
    "r = requests.get(base_url+'bootstrap-static/').json()\n",
    "\n",
    "# show the top level fields\n",
    "pprint(r, indent=2, depth=1, compact=True)\n",
    "\n",
    "# get player data from 'elements' field\n",
    "players = r['elements']\n",
    "events = r['events']\n",
    "# show data for first player\n",
    "pprint(events)\n",
    "\n",
    "base_url = \"https://fantasy.premierleague.com/api/\"\n",
    "def get_season_history(player_id):\n",
    "    '''get all past season info for a given player_id'''\n",
    "    # send GET request to\n",
    "    # https://fantasy.premierleague.com/api/element-summary/{PID}/\n",
    "    r = requests.get(base_url + 'element-summary/' + str(player_id) + '/').json()\n",
    "    # extract 'history_past' data from response into dataframe\n",
    "    df = pd.json_normalize(r['history_past'])\n",
    "    return df\n",
    "\n",
    "# show player #1's gameweek history\n",
    "get_season_history(1)[\n",
    "    [\n",
    "        'season_name',\n",
    "        'total_points',\n",
    "        'minutes',\n",
    "        'goals_scored',\n",
    "        'assists'\n",
    "    ]\n",
    "].head(10)"
   ]
  },
  {
   "cell_type": "code",
   "execution_count": null,
   "metadata": {},
   "outputs": [],
   "source": []
  },
  {
   "cell_type": "code",
   "execution_count": null,
   "metadata": {},
   "outputs": [],
   "source": []
  }
 ],
 "metadata": {
  "kernelspec": {
   "display_name": "Python 3",
   "language": "python",
   "name": "python3"
  },
  "language_info": {
   "codemirror_mode": {
    "name": "ipython",
    "version": 3
   },
   "file_extension": ".py",
   "mimetype": "text/x-python",
   "name": "python",
   "nbconvert_exporter": "python",
   "pygments_lexer": "ipython3",
   "version": "3.7.2"
  }
 },
 "nbformat": 4,
 "nbformat_minor": 2
}
