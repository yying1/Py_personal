{
 "cells": [
  {
   "cell_type": "code",
   "execution_count": 2,
   "metadata": {},
   "outputs": [],
   "source": [
    "import requests, json\n",
    "from pprint import pprint\n",
    "import pandas as pd\n",
    "import numpy as np\n",
    "import matplotlib.pyplot as plt"
   ]
  },
  {
   "cell_type": "raw",
   "metadata": {},
   "source": [
    "Notes: \n",
    "probably needs to drop teams data because its hard to get, and also using the team final ranking is ambigous on predicting player performance"
   ]
  },
  {
   "cell_type": "code",
   "execution_count": 2,
   "metadata": {},
   "outputs": [],
   "source": [
    "# Build data source statistics\n",
    "data_sources = []\n",
    "seasons = ['2016-17','2017-18','2018-19','2019-20','2020-21']\n",
    "tables = ['merged_gw.csv','players_raw.csv']"
   ]
  },
  {
   "cell_type": "code",
   "execution_count": null,
   "metadata": {},
   "outputs": [],
   "source": [
    "# Iterate through tables\n",
    "# 2021-09-28: manually cleaned up 39 - 47 Game week numers in 2019-20 season file for data errors\n",
    "for s in seasons:\n",
    "    for t in tables:\n",
    "        file_name = s+\"_\"+t\n",
    "        df = pd.read_csv(file_name, header = 0,delimiter = \",\",encoding = \"ISO-8859-1\")\n",
    "        file_summary = [file_name, len(df),len(df.columns),\",\".join(col for col in df)]\n",
    "        data_sources.append(file_summary)"
   ]
  },
  {
   "cell_type": "code",
   "execution_count": null,
   "metadata": {},
   "outputs": [],
   "source": [
    "#Generate data columns\n",
    "list_df = []\n",
    "for ds in data_sources:\n",
    "    columns = ds[3].split(\",\")\n",
    "    columns.sort()\n",
    "    columns.insert(0,ds[0])\n",
    "    list_df.append(columns)\n",
    "df1 = pd.DataFrame(list_df)"
   ]
  },
  {
   "cell_type": "code",
   "execution_count": null,
   "metadata": {},
   "outputs": [],
   "source": [
    "df1.to_csv(\"data_columns.csv\",index = False)"
   ]
  },
  {
   "cell_type": "markdown",
   "metadata": {},
   "source": [
    "### EDA Collect Player Data"
   ]
  },
  {
   "cell_type": "code",
   "execution_count": 3,
   "metadata": {},
   "outputs": [
    {
     "name": "stdout",
     "output_type": "stream",
     "text": [
      "(683, 5)\n",
      "(647, 5)\n",
      "(624, 5)\n",
      "(666, 5)\n",
      "(713, 5)\n"
     ]
    }
   ],
   "source": [
    "#read all players data and merge\n",
    "df_p_all = pd.DataFrame(columns  = ['season','id','chance_of_playing_next_round', 'chance_of_playing_this_round', 'element_type'])\n",
    "for s in seasons: \n",
    "    pf_name = s+\"_\"+\"players_raw.csv\"\n",
    "    df_p = pd.read_csv(pf_name, header = 0,delimiter = \",\",encoding = \"ISO-8859-1\")\n",
    "    df_p = df_p[['id','chance_of_playing_next_round', 'chance_of_playing_this_round', 'element_type']]\n",
    "    df_p['season'] = s\n",
    "    print(df_p.shape)\n",
    "    df_p_all = df_p_all.append(df_p,ignore_index=True)"
   ]
  },
  {
   "cell_type": "code",
   "execution_count": null,
   "metadata": {},
   "outputs": [],
   "source": [
    "df_p_all['chance_of_playing_this_round'].describe()"
   ]
  },
  {
   "cell_type": "code",
   "execution_count": null,
   "metadata": {},
   "outputs": [],
   "source": [
    "df_p_all['chance_of_playing_this_round'].value_counts(normalize= True,sort = True) "
   ]
  },
  {
   "cell_type": "markdown",
   "metadata": {},
   "source": [
    "### EDA Group by Week-player and summary statistics"
   ]
  },
  {
   "cell_type": "code",
   "execution_count": 4,
   "metadata": {},
   "outputs": [
    {
     "name": "stdout",
     "output_type": "stream",
     "text": [
      "(23679, 22)\n",
      "(22467, 22)\n",
      "(21790, 22)\n",
      "(22560, 22)\n",
      "(24365, 22)\n"
     ]
    }
   ],
   "source": [
    "df_gw_all = pd.DataFrame(columns  = ['season','GW', 'element', 'name', 'minutes', 'value', 'selected', 'transfers_balance', 'transfers_in', 'transfers_out', 'bonus', 'total_points', 'influence', 'creativity', 'threat', 'ict_index', 'red_cards', 'yellow_cards', 'assists', 'goals_scored', 'clean_sheets', 'was_home'])\n",
    "for s in seasons: \n",
    "    pf_name = s+\"_\"+\"merged_gw.csv\"\n",
    "    df_gw = pd.read_csv(pf_name, header = 0,delimiter = \",\",encoding = \"ISO-8859-1\")\n",
    "    df_gw = df_gw[['GW', 'element', 'name', 'minutes', 'value', 'selected', 'transfers_balance', 'transfers_in', 'transfers_out', 'bonus', 'total_points', 'influence', 'creativity', 'threat', 'ict_index', 'red_cards', 'yellow_cards', 'assists', 'goals_scored', 'clean_sheets', 'was_home']]\n",
    "    df_gw['season'] = s\n",
    "    print(df_gw.shape)\n",
    "    df_gw_all = df_gw_all.append(df_gw,ignore_index=True)"
   ]
  },
  {
   "cell_type": "code",
   "execution_count": 8,
   "metadata": {},
   "outputs": [
    {
     "data": {
      "text/plain": [
       "array([1, 2, 3, 4, 5, 6, 7, 8, 9, 10, 11, 12, 13, 14, 15, 16, 17, 18, 19,\n",
       "       20, 21, 22, 23, 24, 25, 26, 27, 28, 29, 30, 31, 32, 33, 34, 35, 36,\n",
       "       37, 38], dtype=object)"
      ]
     },
     "execution_count": 8,
     "metadata": {},
     "output_type": "execute_result"
    }
   ],
   "source": [
    "a = np.array(df_gw_all['GW'])\n",
    "np.unique(a)"
   ]
  },
  {
   "cell_type": "code",
   "execution_count": null,
   "metadata": {},
   "outputs": [],
   "source": [
    "df_gw_all.to_csv(\"df_gw_all.csv\",index = False,encoding = \"ISO-8859-1\")"
   ]
  },
  {
   "cell_type": "code",
   "execution_count": null,
   "metadata": {},
   "outputs": [],
   "source": [
    "df_gw_all[['influence', 'creativity', 'threat']].describe()"
   ]
  },
  {
   "cell_type": "code",
   "execution_count": null,
   "metadata": {
    "scrolled": true
   },
   "outputs": [],
   "source": [
    "df_gw_all['was_home'].value_counts(normalize= True,sort = False) "
   ]
  },
  {
   "cell_type": "code",
   "execution_count": null,
   "metadata": {},
   "outputs": [],
   "source": [
    "bins = [0,10,20,30,40,50,60,70,80,90]\n",
    "df_gw_all['minutes_binned']= pd.cut(df_gw_all['minutes'],bins)\n",
    "df_gw_all[\"minutes_binned\"].value_counts(normalize= True,sort = False) "
   ]
  },
  {
   "cell_type": "code",
   "execution_count": null,
   "metadata": {},
   "outputs": [],
   "source": [
    "bins = [0,500,1000,5000,10000,50000,100000,5000000]\n",
    "df_gw_all['selected_binned']= pd.cut(df_gw_all['selected'],bins)\n",
    "df_gw_all[\"selected_binned\"].value_counts(normalize= True,sort = False) "
   ]
  },
  {
   "cell_type": "markdown",
   "metadata": {},
   "source": [
    "### EDA Data visualization"
   ]
  },
  {
   "cell_type": "code",
   "execution_count": null,
   "metadata": {},
   "outputs": [],
   "source": [
    "# value of players across seasons\n",
    "# https://stackabuse.com/matplotlib-box-plot-tutorial-and-examples/\n",
    "value_1617 = df_gw_all.loc[df_gw_all['season'] == '2016-17', ['value']]\n",
    "# value_1617 = value_1617.groupby('element')['value'].mean().reset_index()\n",
    "value_1718 = df_gw_all.loc[df_gw_all['season'] == '2017-18', ['value']]\n",
    "value_1819 = df_gw_all.loc[df_gw_all['season'] == '2018-19', ['value']]\n",
    "value_1920 = df_gw_all.loc[df_gw_all['season'] == '2019-20', ['value']]\n",
    "value_2021 = df_gw_all.loc[df_gw_all['season'] == '2020-21', ['value']]\n",
    "values = [value_1617, value_1718, value_1819, value_1920,value_2021]\n",
    "for value in values:\n",
    "    value['value'] = value['value'].astype('float')\n",
    "fig, ax = plt.subplots()\n",
    "ax.boxplot([value_1617['value'],value_1718['value'],value_1819['value'],value_1920['value'],value_2021['value']])\n",
    "plt.xticks([1, 2, 3, 4,5], [\"2016-17\", \"2017-18\", \"2018-19\", \"2019-20\",\"2020-21\"], rotation=10)\n",
    "plt.savefig(\"value_boxplot.png\") # must be before show\n",
    "plt.show()"
   ]
  },
  {
   "cell_type": "code",
   "execution_count": null,
   "metadata": {},
   "outputs": [],
   "source": [
    "# transfer-in & out across all seasons\n",
    "transfer_all = df_gw_all[[ 'transfers_in', 'transfers_out']]\n",
    "for c in transfer_all.columns:\n",
    "    transfer_all[c] = transfer_all[c].astype('int')\n",
    "fig, ax = plt.subplots()\n",
    "ax.ticklabel_format(useOffset=False,style='plain')\n",
    "plt.scatter(transfer_all['transfers_in'], transfer_all['transfers_out'],s=2)\n",
    "plt.xlabel('transfers_in')\n",
    "plt.ylabel('transfers_out')\n",
    "plt.savefig(\"transfer_scatter.png\")\n",
    "plt.show()"
   ]
  },
  {
   "cell_type": "code",
   "execution_count": null,
   "metadata": {},
   "outputs": [],
   "source": [
    "# transfer balance of game week trades across seasons\n",
    "\n",
    "tb_1617 = df_gw_all.loc[df_gw_all['season'] == '2016-17', ['transfers_balance']]\n",
    "# value_1617 = value_1617.groupby('element')['value'].mean().reset_index()\n",
    "tb_1718 = df_gw_all.loc[df_gw_all['season'] == '2017-18', ['transfers_balance']]\n",
    "tb_1819 = df_gw_all.loc[df_gw_all['season'] == '2018-19', ['transfers_balance']]\n",
    "tb_1920 = df_gw_all.loc[df_gw_all['season'] == '2019-20', ['transfers_balance']]\n",
    "tb_2021 = df_gw_all.loc[df_gw_all['season'] == '2020-21', ['transfers_balance']]\n",
    "tbs = [tb_1617, tb_1718, tb_1819, tb_1920,tb_2021]\n",
    "for tb in tbs:\n",
    "    tb['transfers_balance'] = tb['transfers_balance'].astype('int')\n",
    "fig, ax = plt.subplots()\n",
    "ax.ticklabel_format(useOffset=False,style='plain')\n",
    "ax.boxplot([tb_1617['transfers_balance'],tb_1718['transfers_balance'],tb_1819['transfers_balance'],tb_1920['transfers_balance'],tb_2021['transfers_balance']])\n",
    "plt.xticks([1, 2, 3, 4,5], [\"2016-17\", \"2017-18\", \"2018-19\", \"2019-20\",\"2020-21\"], rotation=10)\n",
    "plt.savefig(\"tb_boxplot.png\") # must be before show\n",
    "plt.show()"
   ]
  },
  {
   "cell_type": "code",
   "execution_count": null,
   "metadata": {},
   "outputs": [],
   "source": [
    "# Total_points by game week across all seasons \n",
    "totalpoint_all = df_gw_all.loc[:,'total_points']\n",
    "totalpoint_all.astype('int32').dtypes\n",
    "fig, ax = plt.subplots()\n",
    "ax.ticklabel_format(useOffset=False,style='plain')\n",
    "plt.xlim(-5, 30)\n",
    "plt.hist(totalpoint_all)\n",
    "plt.xlabel('Total points')\n",
    "plt.ylabel('Frequency')\n",
    "plt.savefig(\"totalpoints_hist.png\")\n",
    "plt.show() "
   ]
  },
  {
   "cell_type": "markdown",
   "metadata": {},
   "source": [
    "### Regression Model data Preparation"
   ]
  },
  {
   "cell_type": "code",
   "execution_count": 11,
   "metadata": {},
   "outputs": [
    {
     "name": "stdout",
     "output_type": "stream",
     "text": [
      "(114861, 22) (3333, 5) Index(['season', 'GW', 'element', 'name', 'minutes', 'value', 'selected',\n",
      "       'transfers_balance', 'transfers_in', 'transfers_out', 'bonus',\n",
      "       'total_points', 'influence', 'creativity', 'threat', 'ict_index',\n",
      "       'red_cards', 'yellow_cards', 'assists', 'goals_scored', 'clean_sheets',\n",
      "       'was_home'],\n",
      "      dtype='object') Index(['season', 'id', 'chance_of_playing_next_round',\n",
      "       'chance_of_playing_this_round', 'element_type'],\n",
      "      dtype='object')\n"
     ]
    }
   ],
   "source": [
    "# df_p_all collect season and Player ID, df_gw_all collect season+gw+element data \n",
    "print(df_gw_all.shape,df_p_all.shape,df_gw_all.columns,df_p_all.columns)"
   ]
  },
  {
   "cell_type": "code",
   "execution_count": 16,
   "metadata": {},
   "outputs": [],
   "source": [
    "# join player data with gw data\n",
    "df_all = pd.merge(df_gw_all, df_p_all,  how='left', left_on=['season','element'], right_on = ['season','id'])\n",
    "df_all = df_all.drop(columns=['chance_of_playing_next_round','chance_of_playing_this_round','id'])"
   ]
  },
  {
   "cell_type": "code",
   "execution_count": 34,
   "metadata": {},
   "outputs": [],
   "source": [
    "#Collect GW 2 - 38 data and add lastGW columns for joining\n",
    "df_all_nextGW = df_all[['season','GW','element','total_points','minutes']]\n",
    "df_all_nextGW = df_all_nextGW[df_all_nextGW['GW']>1]\n",
    "df_all_nextGW['lastGW'] = df_all_nextGW['GW'] - 1\n",
    "df_all_nextGW.rename(columns={'total_points':'total_points_NW','minutes':'minutes_NW'},inplace=True)\n",
    "df_all_nextGW = df_all_nextGW[['season','lastGW','element','total_points_NW','minutes_NW']]"
   ]
  },
  {
   "cell_type": "code",
   "execution_count": 35,
   "metadata": {},
   "outputs": [],
   "source": [
    "# merge NW points/minutes with GW data\n",
    "df_all_nw = pd.merge(df_all, df_all_nextGW,  how='right', left_on=['season','element','GW'], right_on = ['season','element','lastGW'])\n",
    "df_all_nw = df_all_nw.drop(columns=['lastGW'])"
   ]
  },
  {
   "cell_type": "code",
   "execution_count": 105,
   "metadata": {},
   "outputs": [],
   "source": [
    "# create new columns to store historical  data, also dropped about 4000 rows of unmathed rows between this and last GW\n",
    "df_all_nw['total_points_past'] = df_all_nw['total_points']\n",
    "df_all_nw['minutes_past'] = df_all_nw['minutes']\n",
    "df_all_nw = df_all_nw.dropna()"
   ]
  },
  {
   "cell_type": "code",
   "execution_count": 107,
   "metadata": {},
   "outputs": [],
   "source": [
    "# build this function to calculate points & minutes of previous weeks in the season, not that for elment must use eq() or it will return 0 \n",
    "def calculate_points(season,gw,player):\n",
    "    df_temp = df_gw_all[(df_gw_all['season']==season) & (df_gw_all['GW'].astype(int)<int(gw)) & df_gw_all['element'].eq(int(player))][['total_points']]\n",
    "    df_temp\n",
    "    return df_temp['total_points'].sum()\n",
    "\n",
    "def calculate_mins(season,gw,player):\n",
    "    df_temp = df_gw_all[(df_gw_all['season']==season) & (df_gw_all['GW'].astype(int)<int(gw)) & df_gw_all['element'].eq(int(player))][['minutes']]\n",
    "    df_temp\n",
    "    return df_temp['minutes'].sum()\n",
    "\n",
    "#calculate_points('2016-17',10,77) test with AZP, return 37, which is correct"
   ]
  },
  {
   "cell_type": "code",
   "execution_count": 108,
   "metadata": {},
   "outputs": [],
   "source": [
    "#calculating total points an minutes from past. This will take a long time\n",
    "for i in range(0, df_all_nw.shape[0]):\n",
    "   # get row contents as series using iloc{] and index position of row\n",
    "    rowSeries = df_all_nw.iloc[i]\n",
    "    # collect gameweek,season,player data for functions\n",
    "    season,gw,player = rowSeries[0],rowSeries[1],rowSeries[2]\n",
    "    df_all_nw.at[i,'total_points_past'] = calculate_points(season,gw,player)\n",
    "    df_all_nw.at[i,'minutes_past'] = calculate_mins(season,gw,player)"
   ]
  },
  {
   "cell_type": "code",
   "execution_count": 115,
   "metadata": {},
   "outputs": [],
   "source": [
    "df_all_nw.to_csv(\"Regression_data.csv\", index = False)"
   ]
  },
  {
   "cell_type": "markdown",
   "metadata": {},
   "source": [
    "### Regression Model building"
   ]
  },
  {
   "cell_type": "code",
   "execution_count": 136,
   "metadata": {},
   "outputs": [
    {
     "data": {
      "text/plain": [
       "Index(['season', 'GW', 'element', 'name', 'minutes', 'value', 'selected',\n",
       "       'transfers_balance', 'transfers_in', 'transfers_out', 'bonus',\n",
       "       'total_points', 'influence', 'creativity', 'threat', 'ict_index',\n",
       "       'red_cards', 'yellow_cards', 'assists', 'goals_scored', 'clean_sheets',\n",
       "       'was_home', 'element_type', 'lastGW', 'total_points_NW', 'minutes_NW',\n",
       "       'total_points_past', 'minutes_past'],\n",
       "      dtype='object')"
      ]
     },
     "execution_count": 136,
     "metadata": {},
     "output_type": "execute_result"
    }
   ],
   "source": [
    "df_all_nw_model.columns"
   ]
  },
  {
   "cell_type": "code",
   "execution_count": 125,
   "metadata": {},
   "outputs": [
    {
     "data": {
      "text/plain": [
       "(110541, 28)"
      ]
     },
     "execution_count": 125,
     "metadata": {},
     "output_type": "execute_result"
    }
   ],
   "source": [
    "\"\"\"\n",
    "input variables: \n",
    "        'GW', 'minutes', 'value', 'selected', 'transfers_in', 'transfers_out', 'bonus','total_points', \n",
    "       'influence', 'creativity', 'threat', 'ict_index',\n",
    "       'red_cards', 'yellow_cards', 'assists', 'goals_scored', 'clean_sheets','was_home', 'element_type',\n",
    "       'total_points_past', 'minutes_past'\n",
    "# output variables:\n",
    "    total_points_NW\n",
    "# filters: \n",
    "    1. season: seperate training, test, validation sets\n",
    "    2. minutes_NW: filter out player-gw that does not played in the next round\n",
    "    3. element_type: no goalkeepers\n",
    "# drop variables:\n",
    "    1. element\n",
    "    2. name\n",
    "'\"\"\"\n",
    "df_all_nw.shape"
   ]
  },
  {
   "cell_type": "code",
   "execution_count": 126,
   "metadata": {},
   "outputs": [],
   "source": [
    "# filter by minutes_NW and element_type. Shirnk to 37177 rows of data\n",
    "df_all_nw_model = df_all_nw[(df_all_nw['minutes_NW'] >= 45) & (df_all_nw['element_type'] != 1)]"
   ]
  },
  {
   "cell_type": "code",
   "execution_count": 10,
   "metadata": {},
   "outputs": [],
   "source": [
    "# import regression models\n",
    "from sklearn import  linear_model\n",
    "from sklearn.model_selection import train_test_split\n",
    "from sklearn.metrics import mean_squared_error, r2_score,mean_absolute_error\n",
    "import statsmodels.api as sm"
   ]
  },
  {
   "cell_type": "code",
   "execution_count": 150,
   "metadata": {},
   "outputs": [],
   "source": [
    "\"\"\"\n",
    "reference: https://searchengineland.com/heres-how-i-used-python-to-build-a-regression-model-using-an-e-commerce-dataset-326493\n",
    "1. Reducing x variables with high p value: 'GW', 'minutes', 'selected', 'transfers_out', 'bonus', 'assists', 'goals_scored', 'clean_sheets','red_cards'\n",
    "\"\"\"\n",
    "Y = df_all_nw_model['total_points_NW']\n",
    "X = df_all_nw_model[[ 'value', 'transfers_in','total_points', 'influence', 'creativity', 'threat', 'ict_index', 'yellow_cards','was_home', 'element_type','total_points_past', 'minutes_past']]"
   ]
  },
  {
   "cell_type": "code",
   "execution_count": 151,
   "metadata": {},
   "outputs": [],
   "source": [
    "X_train, X_test, y_train, y_test = train_test_split(X, Y, test_size = 0.2, random_state = 465)"
   ]
  },
  {
   "cell_type": "code",
   "execution_count": 152,
   "metadata": {},
   "outputs": [
    {
     "name": "stdout",
     "output_type": "stream",
     "text": [
      "Training Data Count: 29741\n",
      "Testing Data Count: 7436\n"
     ]
    }
   ],
   "source": [
    "print('Training Data Count: {}'.format(X_train.shape[0]))\n",
    "print('Testing Data Count: {}'.format(X_test.shape[0]))"
   ]
  },
  {
   "cell_type": "code",
   "execution_count": 153,
   "metadata": {
    "collapsed": true
   },
   "outputs": [
    {
     "data": {
      "text/html": [
       "<table class=\"simpletable\">\n",
       "<caption>OLS Regression Results</caption>\n",
       "<tr>\n",
       "  <th>Dep. Variable:</th>     <td>total_points_NW</td> <th>  R-squared:         </th> <td>   0.075</td> \n",
       "</tr>\n",
       "<tr>\n",
       "  <th>Model:</th>                   <td>OLS</td>       <th>  Adj. R-squared:    </th> <td>   0.075</td> \n",
       "</tr>\n",
       "<tr>\n",
       "  <th>Method:</th>             <td>Least Squares</td>  <th>  F-statistic:       </th> <td>   200.7</td> \n",
       "</tr>\n",
       "<tr>\n",
       "  <th>Date:</th>             <td>Tue, 28 Sep 2021</td> <th>  Prob (F-statistic):</th>  <td>  0.00</td>  \n",
       "</tr>\n",
       "<tr>\n",
       "  <th>Time:</th>                 <td>15:49:06</td>     <th>  Log-Likelihood:    </th> <td> -75126.</td> \n",
       "</tr>\n",
       "<tr>\n",
       "  <th>No. Observations:</th>      <td> 29741</td>      <th>  AIC:               </th> <td>1.503e+05</td>\n",
       "</tr>\n",
       "<tr>\n",
       "  <th>Df Residuals:</th>          <td> 29728</td>      <th>  BIC:               </th> <td>1.504e+05</td>\n",
       "</tr>\n",
       "<tr>\n",
       "  <th>Df Model:</th>              <td>    12</td>      <th>                     </th>     <td> </td>    \n",
       "</tr>\n",
       "<tr>\n",
       "  <th>Covariance Type:</th>      <td>nonrobust</td>    <th>                     </th>     <td> </td>    \n",
       "</tr>\n",
       "</table>\n",
       "<table class=\"simpletable\">\n",
       "<tr>\n",
       "          <td></td>             <th>coef</th>     <th>std err</th>      <th>t</th>      <th>P>|t|</th>  <th>[0.025</th>    <th>0.975]</th>  \n",
       "</tr>\n",
       "<tr>\n",
       "  <th>const</th>             <td>    1.4823</td> <td>    0.110</td> <td>   13.515</td> <td> 0.000</td> <td>    1.267</td> <td>    1.697</td>\n",
       "</tr>\n",
       "<tr>\n",
       "  <th>value</th>             <td>    0.0431</td> <td>    0.002</td> <td>   25.622</td> <td> 0.000</td> <td>    0.040</td> <td>    0.046</td>\n",
       "</tr>\n",
       "<tr>\n",
       "  <th>transfers_in</th>      <td> 1.108e-06</td> <td> 3.21e-07</td> <td>    3.450</td> <td> 0.001</td> <td> 4.79e-07</td> <td> 1.74e-06</td>\n",
       "</tr>\n",
       "<tr>\n",
       "  <th>total_points</th>      <td>    0.0348</td> <td>    0.009</td> <td>    3.711</td> <td> 0.000</td> <td>    0.016</td> <td>    0.053</td>\n",
       "</tr>\n",
       "<tr>\n",
       "  <th>influence</th>         <td>    0.0702</td> <td>    0.038</td> <td>    1.851</td> <td> 0.064</td> <td>   -0.004</td> <td>    0.145</td>\n",
       "</tr>\n",
       "<tr>\n",
       "  <th>creativity</th>        <td>    0.0808</td> <td>    0.038</td> <td>    2.137</td> <td> 0.033</td> <td>    0.007</td> <td>    0.155</td>\n",
       "</tr>\n",
       "<tr>\n",
       "  <th>threat</th>            <td>    0.0814</td> <td>    0.038</td> <td>    2.159</td> <td> 0.031</td> <td>    0.008</td> <td>    0.155</td>\n",
       "</tr>\n",
       "<tr>\n",
       "  <th>ict_index</th>         <td>   -0.7622</td> <td>    0.377</td> <td>   -2.021</td> <td> 0.043</td> <td>   -1.501</td> <td>   -0.023</td>\n",
       "</tr>\n",
       "<tr>\n",
       "  <th>yellow_cards</th>      <td>   -0.1196</td> <td>    0.055</td> <td>   -2.181</td> <td> 0.029</td> <td>   -0.227</td> <td>   -0.012</td>\n",
       "</tr>\n",
       "<tr>\n",
       "  <th>was_home</th>          <td>   -0.3067</td> <td>    0.035</td> <td>   -8.670</td> <td> 0.000</td> <td>   -0.376</td> <td>   -0.237</td>\n",
       "</tr>\n",
       "<tr>\n",
       "  <th>element_type</th>      <td>   -0.2116</td> <td>    0.031</td> <td>   -6.823</td> <td> 0.000</td> <td>   -0.272</td> <td>   -0.151</td>\n",
       "</tr>\n",
       "<tr>\n",
       "  <th>total_points_past</th> <td>    0.0098</td> <td>    0.001</td> <td>    7.707</td> <td> 0.000</td> <td>    0.007</td> <td>    0.012</td>\n",
       "</tr>\n",
       "<tr>\n",
       "  <th>minutes_past</th>      <td>   -0.0004</td> <td>  5.6e-05</td> <td>   -6.743</td> <td> 0.000</td> <td>   -0.000</td> <td>   -0.000</td>\n",
       "</tr>\n",
       "</table>\n",
       "<table class=\"simpletable\">\n",
       "<tr>\n",
       "  <th>Omnibus:</th>       <td>8837.738</td> <th>  Durbin-Watson:     </th> <td>   1.997</td> \n",
       "</tr>\n",
       "<tr>\n",
       "  <th>Prob(Omnibus):</th>  <td> 0.000</td>  <th>  Jarque-Bera (JB):  </th> <td>24545.214</td>\n",
       "</tr>\n",
       "<tr>\n",
       "  <th>Skew:</th>           <td> 1.589</td>  <th>  Prob(JB):          </th> <td>    0.00</td> \n",
       "</tr>\n",
       "<tr>\n",
       "  <th>Kurtosis:</th>       <td> 6.115</td>  <th>  Cond. No.          </th> <td>1.41e+06</td> \n",
       "</tr>\n",
       "</table><br/><br/>Notes:<br/>[1] Standard Errors assume that the covariance matrix of the errors is correctly specified.<br/>[2] The condition number is large, 1.41e+06. This might indicate that there are<br/>strong multicollinearity or other numerical problems."
      ],
      "text/plain": [
       "<class 'statsmodels.iolib.summary.Summary'>\n",
       "\"\"\"\n",
       "                            OLS Regression Results                            \n",
       "==============================================================================\n",
       "Dep. Variable:        total_points_NW   R-squared:                       0.075\n",
       "Model:                            OLS   Adj. R-squared:                  0.075\n",
       "Method:                 Least Squares   F-statistic:                     200.7\n",
       "Date:                Tue, 28 Sep 2021   Prob (F-statistic):               0.00\n",
       "Time:                        15:49:06   Log-Likelihood:                -75126.\n",
       "No. Observations:               29741   AIC:                         1.503e+05\n",
       "Df Residuals:                   29728   BIC:                         1.504e+05\n",
       "Df Model:                          12                                         \n",
       "Covariance Type:            nonrobust                                         \n",
       "=====================================================================================\n",
       "                        coef    std err          t      P>|t|      [0.025      0.975]\n",
       "-------------------------------------------------------------------------------------\n",
       "const                 1.4823      0.110     13.515      0.000       1.267       1.697\n",
       "value                 0.0431      0.002     25.622      0.000       0.040       0.046\n",
       "transfers_in       1.108e-06   3.21e-07      3.450      0.001    4.79e-07    1.74e-06\n",
       "total_points          0.0348      0.009      3.711      0.000       0.016       0.053\n",
       "influence             0.0702      0.038      1.851      0.064      -0.004       0.145\n",
       "creativity            0.0808      0.038      2.137      0.033       0.007       0.155\n",
       "threat                0.0814      0.038      2.159      0.031       0.008       0.155\n",
       "ict_index            -0.7622      0.377     -2.021      0.043      -1.501      -0.023\n",
       "yellow_cards         -0.1196      0.055     -2.181      0.029      -0.227      -0.012\n",
       "was_home             -0.3067      0.035     -8.670      0.000      -0.376      -0.237\n",
       "element_type         -0.2116      0.031     -6.823      0.000      -0.272      -0.151\n",
       "total_points_past     0.0098      0.001      7.707      0.000       0.007       0.012\n",
       "minutes_past         -0.0004    5.6e-05     -6.743      0.000      -0.000      -0.000\n",
       "==============================================================================\n",
       "Omnibus:                     8837.738   Durbin-Watson:                   1.997\n",
       "Prob(Omnibus):                  0.000   Jarque-Bera (JB):            24545.214\n",
       "Skew:                           1.589   Prob(JB):                         0.00\n",
       "Kurtosis:                       6.115   Cond. No.                     1.41e+06\n",
       "==============================================================================\n",
       "\n",
       "Notes:\n",
       "[1] Standard Errors assume that the covariance matrix of the errors is correctly specified.\n",
       "[2] The condition number is large, 1.41e+06. This might indicate that there are\n",
       "strong multicollinearity or other numerical problems.\n",
       "\"\"\""
      ]
     },
     "execution_count": 153,
     "metadata": {},
     "output_type": "execute_result"
    }
   ],
   "source": [
    "X_train = sm.add_constant(X_train)\n",
    "results = sm.OLS(y_train.astype(float), X_train.astype(float)).fit()\n",
    "results.summary()"
   ]
  },
  {
   "cell_type": "code",
   "execution_count": 155,
   "metadata": {
    "collapsed": true
   },
   "outputs": [
    {
     "data": {
      "image/png": "[encoded data removed]",
      "text/plain": [
       "<Figure size 450x300 with 1 Axes>"
      ]
     },
     "metadata": {
      "needs_background": "light"
     },
     "output_type": "display_data"
    }
   ],
   "source": [
    "X_test = sm.add_constant(X_test)\n",
    "\n",
    "y_preds = results.predict(X_test)\n",
    "\n",
    "plt.figure(dpi = 75)\n",
    "plt.scatter(y_test, y_preds)\n",
    "plt.plot(y_test, y_preds, color=\"red\")\n",
    "plt.show()"
   ]
  },
  {
   "cell_type": "code",
   "execution_count": 159,
   "metadata": {},
   "outputs": [
    {
     "data": {
      "image/png": "[encoded data removed]",
      "text/plain": [
       "<Figure size 432x288 with 1 Axes>"
      ]
     },
     "metadata": {
      "needs_background": "light"
     },
     "output_type": "display_data"
    }
   ],
   "source": [
    "#https://www.analyticsvidhya.com/blog/2021/02/build-your-first-linear-regression-machine-learning-model/\n",
    "linreg = linear_model.LinearRegression()\n",
    "linreg.fit(X, Y)\n",
    "y_pred = linreg.predict(X)\n",
    "plt.scatter(y_pred, Y)\n",
    "##plt.plot(y_pred, Y)\n",
    "plt.xlabel('y-predict')\n",
    "plt.ylabel('y-points')\n",
    "plt.show()"
   ]
  },
  {
   "cell_type": "code",
   "execution_count": 161,
   "metadata": {},
   "outputs": [
    {
     "data": {
      "text/plain": [
       "0.07695421362716914"
      ]
     },
     "execution_count": 161,
     "metadata": {},
     "output_type": "execute_result"
    }
   ],
   "source": [
    "# R-squared at 0.077\n",
    "linreg.score(X, Y)"
   ]
  },
  {
   "cell_type": "markdown",
   "metadata": {},
   "source": [
    "### Polynomial Regression Building"
   ]
  },
  {
   "cell_type": "code",
   "execution_count": 6,
   "metadata": {},
   "outputs": [],
   "source": [
    "df_all_nw= pd.read_csv(\"Regression_data.csv\",header = 0,delimiter = \",\",encoding = \"ISO-8859-1\")\n",
    "# filter by minutes_NW and element_type. Shirnk to 37177 rows of data\n",
    "df_all_nw_model = df_all_nw[(df_all_nw['minutes_NW'] >= 45) & (df_all_nw['element_type'] != 1)]"
   ]
  },
  {
   "cell_type": "code",
   "execution_count": 7,
   "metadata": {},
   "outputs": [],
   "source": [
    "from sklearn.preprocessing import PolynomialFeatures\n",
    "from sklearn import linear_model"
   ]
  },
  {
   "cell_type": "code",
   "execution_count": 5,
   "metadata": {
    "collapsed": true
   },
   "outputs": [
    {
     "data": {
      "text/html": [
       "<div>\n",
       "<style scoped>\n",
       "    .dataframe tbody tr th:only-of-type {\n",
       "        vertical-align: middle;\n",
       "    }\n",
       "\n",
       "    .dataframe tbody tr th {\n",
       "        vertical-align: top;\n",
       "    }\n",
       "\n",
       "    .dataframe thead th {\n",
       "        text-align: right;\n",
       "    }\n",
       "</style>\n",
       "<table border=\"1\" class=\"dataframe\">\n",
       "  <thead>\n",
       "    <tr style=\"text-align: right;\">\n",
       "      <th></th>\n",
       "      <th>season</th>\n",
       "      <th>GW</th>\n",
       "      <th>element</th>\n",
       "      <th>name</th>\n",
       "      <th>minutes</th>\n",
       "      <th>value</th>\n",
       "      <th>selected</th>\n",
       "      <th>transfers_balance</th>\n",
       "      <th>transfers_in</th>\n",
       "      <th>transfers_out</th>\n",
       "      <th>...</th>\n",
       "      <th>assists</th>\n",
       "      <th>goals_scored</th>\n",
       "      <th>clean_sheets</th>\n",
       "      <th>was_home</th>\n",
       "      <th>element_type</th>\n",
       "      <th>lastGW</th>\n",
       "      <th>total_points_NW</th>\n",
       "      <th>minutes_NW</th>\n",
       "      <th>total_points_past</th>\n",
       "      <th>minutes_past</th>\n",
       "    </tr>\n",
       "  </thead>\n",
       "  <tbody>\n",
       "    <tr>\n",
       "      <th>0</th>\n",
       "      <td>2016-17</td>\n",
       "      <td>1</td>\n",
       "      <td>454.0</td>\n",
       "      <td>Aaron_Cresswell</td>\n",
       "      <td>0</td>\n",
       "      <td>55</td>\n",
       "      <td>14023</td>\n",
       "      <td>0</td>\n",
       "      <td>0</td>\n",
       "      <td>0</td>\n",
       "      <td>...</td>\n",
       "      <td>0</td>\n",
       "      <td>0</td>\n",
       "      <td>0</td>\n",
       "      <td>False</td>\n",
       "      <td>2</td>\n",
       "      <td>1</td>\n",
       "      <td>0</td>\n",
       "      <td>0</td>\n",
       "      <td>0</td>\n",
       "      <td>0</td>\n",
       "    </tr>\n",
       "    <tr>\n",
       "      <th>1</th>\n",
       "      <td>2016-17</td>\n",
       "      <td>1</td>\n",
       "      <td>142.0</td>\n",
       "      <td>Aaron_Lennon</td>\n",
       "      <td>15</td>\n",
       "      <td>60</td>\n",
       "      <td>13918</td>\n",
       "      <td>0</td>\n",
       "      <td>0</td>\n",
       "      <td>0</td>\n",
       "      <td>...</td>\n",
       "      <td>0</td>\n",
       "      <td>0</td>\n",
       "      <td>0</td>\n",
       "      <td>True</td>\n",
       "      <td>3</td>\n",
       "      <td>1</td>\n",
       "      <td>0</td>\n",
       "      <td>0</td>\n",
       "      <td>0</td>\n",
       "      <td>0</td>\n",
       "    </tr>\n",
       "    <tr>\n",
       "      <th>2</th>\n",
       "      <td>2016-17</td>\n",
       "      <td>1</td>\n",
       "      <td>16.0</td>\n",
       "      <td>Aaron_Ramsey</td>\n",
       "      <td>60</td>\n",
       "      <td>80</td>\n",
       "      <td>163170</td>\n",
       "      <td>0</td>\n",
       "      <td>0</td>\n",
       "      <td>0</td>\n",
       "      <td>...</td>\n",
       "      <td>0</td>\n",
       "      <td>0</td>\n",
       "      <td>0</td>\n",
       "      <td>True</td>\n",
       "      <td>3</td>\n",
       "      <td>1</td>\n",
       "      <td>0</td>\n",
       "      <td>0</td>\n",
       "      <td>0</td>\n",
       "      <td>0</td>\n",
       "    </tr>\n",
       "    <tr>\n",
       "      <th>3</th>\n",
       "      <td>2016-17</td>\n",
       "      <td>1</td>\n",
       "      <td>482.0</td>\n",
       "      <td>Abdoulaye_DoucourÃ©</td>\n",
       "      <td>0</td>\n",
       "      <td>50</td>\n",
       "      <td>1051</td>\n",
       "      <td>0</td>\n",
       "      <td>0</td>\n",
       "      <td>0</td>\n",
       "      <td>...</td>\n",
       "      <td>0</td>\n",
       "      <td>0</td>\n",
       "      <td>0</td>\n",
       "      <td>False</td>\n",
       "      <td>3</td>\n",
       "      <td>1</td>\n",
       "      <td>1</td>\n",
       "      <td>7</td>\n",
       "      <td>0</td>\n",
       "      <td>0</td>\n",
       "    </tr>\n",
       "    <tr>\n",
       "      <th>4</th>\n",
       "      <td>2016-17</td>\n",
       "      <td>1</td>\n",
       "      <td>80.0</td>\n",
       "      <td>Abdul Rahman_Baba</td>\n",
       "      <td>0</td>\n",
       "      <td>55</td>\n",
       "      <td>1243</td>\n",
       "      <td>0</td>\n",
       "      <td>0</td>\n",
       "      <td>0</td>\n",
       "      <td>...</td>\n",
       "      <td>0</td>\n",
       "      <td>0</td>\n",
       "      <td>0</td>\n",
       "      <td>True</td>\n",
       "      <td>2</td>\n",
       "      <td>1</td>\n",
       "      <td>0</td>\n",
       "      <td>0</td>\n",
       "      <td>0</td>\n",
       "      <td>0</td>\n",
       "    </tr>\n",
       "    <tr>\n",
       "      <th>...</th>\n",
       "      <td>...</td>\n",
       "      <td>...</td>\n",
       "      <td>...</td>\n",
       "      <td>...</td>\n",
       "      <td>...</td>\n",
       "      <td>...</td>\n",
       "      <td>...</td>\n",
       "      <td>...</td>\n",
       "      <td>...</td>\n",
       "      <td>...</td>\n",
       "      <td>...</td>\n",
       "      <td>...</td>\n",
       "      <td>...</td>\n",
       "      <td>...</td>\n",
       "      <td>...</td>\n",
       "      <td>...</td>\n",
       "      <td>...</td>\n",
       "      <td>...</td>\n",
       "      <td>...</td>\n",
       "      <td>...</td>\n",
       "      <td>...</td>\n",
       "    </tr>\n",
       "    <tr>\n",
       "      <th>110536</th>\n",
       "      <td>2020-21</td>\n",
       "      <td>37</td>\n",
       "      <td>483.0</td>\n",
       "      <td>Aaron Ramsdale</td>\n",
       "      <td>90</td>\n",
       "      <td>46</td>\n",
       "      <td>147543</td>\n",
       "      <td>8973</td>\n",
       "      <td>10262</td>\n",
       "      <td>1289</td>\n",
       "      <td>...</td>\n",
       "      <td>0</td>\n",
       "      <td>0</td>\n",
       "      <td>0</td>\n",
       "      <td>False</td>\n",
       "      <td>1</td>\n",
       "      <td>37</td>\n",
       "      <td>9</td>\n",
       "      <td>90</td>\n",
       "      <td>111</td>\n",
       "      <td>3240</td>\n",
       "    </tr>\n",
       "    <tr>\n",
       "      <th>110537</th>\n",
       "      <td>2020-21</td>\n",
       "      <td>37</td>\n",
       "      <td>220.0</td>\n",
       "      <td>Adrien Silva</td>\n",
       "      <td>0</td>\n",
       "      <td>44</td>\n",
       "      <td>16417</td>\n",
       "      <td>-24</td>\n",
       "      <td>0</td>\n",
       "      <td>24</td>\n",
       "      <td>...</td>\n",
       "      <td>0</td>\n",
       "      <td>0</td>\n",
       "      <td>0</td>\n",
       "      <td>False</td>\n",
       "      <td>3</td>\n",
       "      <td>37</td>\n",
       "      <td>0</td>\n",
       "      <td>0</td>\n",
       "      <td>0</td>\n",
       "      <td>0</td>\n",
       "    </tr>\n",
       "    <tr>\n",
       "      <th>110538</th>\n",
       "      <td>2020-21</td>\n",
       "      <td>37</td>\n",
       "      <td>676.0</td>\n",
       "      <td>Sidnei Tavares</td>\n",
       "      <td>0</td>\n",
       "      <td>44</td>\n",
       "      <td>294</td>\n",
       "      <td>12</td>\n",
       "      <td>34</td>\n",
       "      <td>22</td>\n",
       "      <td>...</td>\n",
       "      <td>0</td>\n",
       "      <td>0</td>\n",
       "      <td>0</td>\n",
       "      <td>False</td>\n",
       "      <td>3</td>\n",
       "      <td>37</td>\n",
       "      <td>0</td>\n",
       "      <td>0</td>\n",
       "      <td>3</td>\n",
       "      <td>84</td>\n",
       "    </tr>\n",
       "    <tr>\n",
       "      <th>110539</th>\n",
       "      <td>2020-21</td>\n",
       "      <td>37</td>\n",
       "      <td>204.0</td>\n",
       "      <td>Kalvin Phillips</td>\n",
       "      <td>45</td>\n",
       "      <td>49</td>\n",
       "      <td>73765</td>\n",
       "      <td>91</td>\n",
       "      <td>461</td>\n",
       "      <td>370</td>\n",
       "      <td>...</td>\n",
       "      <td>0</td>\n",
       "      <td>0</td>\n",
       "      <td>0</td>\n",
       "      <td>False</td>\n",
       "      <td>3</td>\n",
       "      <td>37</td>\n",
       "      <td>6</td>\n",
       "      <td>90</td>\n",
       "      <td>61</td>\n",
       "      <td>2293</td>\n",
       "    </tr>\n",
       "    <tr>\n",
       "      <th>110540</th>\n",
       "      <td>2020-21</td>\n",
       "      <td>37</td>\n",
       "      <td>570.0</td>\n",
       "      <td>Raphael Dias Belloli</td>\n",
       "      <td>90</td>\n",
       "      <td>55</td>\n",
       "      <td>651507</td>\n",
       "      <td>105537</td>\n",
       "      <td>116918</td>\n",
       "      <td>11381</td>\n",
       "      <td>...</td>\n",
       "      <td>0</td>\n",
       "      <td>0</td>\n",
       "      <td>1</td>\n",
       "      <td>False</td>\n",
       "      <td>3</td>\n",
       "      <td>37</td>\n",
       "      <td>5</td>\n",
       "      <td>90</td>\n",
       "      <td>125</td>\n",
       "      <td>2178</td>\n",
       "    </tr>\n",
       "  </tbody>\n",
       "</table>\n",
       "<p>110541 rows × 28 columns</p>\n",
       "</div>"
      ],
      "text/plain": [
       "         season  GW  element                  name  minutes  value  selected  \\\n",
       "0       2016-17   1    454.0       Aaron_Cresswell        0     55     14023   \n",
       "1       2016-17   1    142.0          Aaron_Lennon       15     60     13918   \n",
       "2       2016-17   1     16.0          Aaron_Ramsey       60     80    163170   \n",
       "3       2016-17   1    482.0   Abdoulaye_DoucourÃ©        0     50      1051   \n",
       "4       2016-17   1     80.0     Abdul Rahman_Baba        0     55      1243   \n",
       "...         ...  ..      ...                   ...      ...    ...       ...   \n",
       "110536  2020-21  37    483.0        Aaron Ramsdale       90     46    147543   \n",
       "110537  2020-21  37    220.0          Adrien Silva        0     44     16417   \n",
       "110538  2020-21  37    676.0        Sidnei Tavares        0     44       294   \n",
       "110539  2020-21  37    204.0       Kalvin Phillips       45     49     73765   \n",
       "110540  2020-21  37    570.0  Raphael Dias Belloli       90     55    651507   \n",
       "\n",
       "        transfers_balance  transfers_in  transfers_out  ...  assists  \\\n",
       "0                       0             0              0  ...        0   \n",
       "1                       0             0              0  ...        0   \n",
       "2                       0             0              0  ...        0   \n",
       "3                       0             0              0  ...        0   \n",
       "4                       0             0              0  ...        0   \n",
       "...                   ...           ...            ...  ...      ...   \n",
       "110536               8973         10262           1289  ...        0   \n",
       "110537                -24             0             24  ...        0   \n",
       "110538                 12            34             22  ...        0   \n",
       "110539                 91           461            370  ...        0   \n",
       "110540             105537        116918          11381  ...        0   \n",
       "\n",
       "        goals_scored  clean_sheets  was_home  element_type  lastGW  \\\n",
       "0                  0             0     False             2       1   \n",
       "1                  0             0      True             3       1   \n",
       "2                  0             0      True             3       1   \n",
       "3                  0             0     False             3       1   \n",
       "4                  0             0      True             2       1   \n",
       "...              ...           ...       ...           ...     ...   \n",
       "110536             0             0     False             1      37   \n",
       "110537             0             0     False             3      37   \n",
       "110538             0             0     False             3      37   \n",
       "110539             0             0     False             3      37   \n",
       "110540             0             1     False             3      37   \n",
       "\n",
       "        total_points_NW  minutes_NW  total_points_past  minutes_past  \n",
       "0                     0           0                  0             0  \n",
       "1                     0           0                  0             0  \n",
       "2                     0           0                  0             0  \n",
       "3                     1           7                  0             0  \n",
       "4                     0           0                  0             0  \n",
       "...                 ...         ...                ...           ...  \n",
       "110536                9          90                111          3240  \n",
       "110537                0           0                  0             0  \n",
       "110538                0           0                  3            84  \n",
       "110539                6          90                 61          2293  \n",
       "110540                5          90                125          2178  \n",
       "\n",
       "[110541 rows x 28 columns]"
      ]
     },
     "execution_count": 5,
     "metadata": {},
     "output_type": "execute_result"
    }
   ],
   "source": [
    "from sklearn.preprocessing import PolynomialFeatures\n",
    "from sklearn import linear_model\n",
    "\n",
    "X = [[0.44, 0.68], [0.99, 0.23]]\n",
    "vector = [109.85, 155.72]\n",
    "predict= [[0.49, 0.18]]\n",
    "#Edit: added second square bracket above to fix the ValueError problem\n",
    "\n",
    "poly = PolynomialFeatures(degree=2)\n",
    "X_ = poly.fit_transform(X)\n",
    "predict_ = poly.fit_transform(predict)\n",
    "\n",
    "clf = linear_model.LinearRegression()\n",
    "clf.fit(X_, vector)\n",
    "print clf.predict(predict_)"
   ]
  },
  {
   "cell_type": "code",
   "execution_count": 8,
   "metadata": {},
   "outputs": [],
   "source": [
    "Y = df_all_nw_model['total_points_NW']\n",
    "X = df_all_nw_model[[ 'value', 'transfers_in','total_points', 'influence', 'creativity', 'threat', 'ict_index', 'yellow_cards','was_home', 'element_type','total_points_past', 'minutes_past','GW', 'minutes', 'selected', 'transfers_out', 'bonus', 'assists', 'goals_scored', 'clean_sheets','red_cards']]"
   ]
  },
  {
   "cell_type": "code",
   "execution_count": 11,
   "metadata": {},
   "outputs": [],
   "source": [
    "X_train, X_test, y_train, y_test = train_test_split(X, Y, test_size = 0.2, random_state = 465)"
   ]
  },
  {
   "cell_type": "code",
   "execution_count": 14,
   "metadata": {},
   "outputs": [],
   "source": [
    "poly = PolynomialFeatures(degree=2)\n",
    "X_ = poly.fit_transform(X_train)\n",
    "X_test_predict = poly.fit_transform(X_test)\n",
    "clf = linear_model.LinearRegression()\n",
    "clf.fit(X_, y_train)\n",
    "y_test_predict = clf.predict(X_test_predict)"
   ]
  },
  {
   "cell_type": "code",
   "execution_count": 16,
   "metadata": {},
   "outputs": [
    {
     "data": {
      "image/png": "[encoded data removed]",
      "text/plain": [
       "<Figure size 432x288 with 1 Axes>"
      ]
     },
     "metadata": {
      "needs_background": "light"
     },
     "output_type": "display_data"
    }
   ],
   "source": [
    "plt.scatter(y_test_predict, y_test)\n",
    "##plt.plot(y_pred, Y)\n",
    "plt.xlim(0, 25)\n",
    "plt.ylim(0, 25)\n",
    "plt.xlabel('y-predict')\n",
    "plt.ylabel('y-points')\n",
    "plt.show()"
   ]
  },
  {
   "cell_type": "markdown",
   "metadata": {},
   "source": [
    "### Logistic Regression"
   ]
  },
  {
   "cell_type": "code",
   "execution_count": null,
   "metadata": {},
   "outputs": [],
   "source": []
  },
  {
   "cell_type": "code",
   "execution_count": null,
   "metadata": {},
   "outputs": [],
   "source": [
    "# function to aggregate play stats over the season\n",
    "def agg_player(x):\n",
    "        d = []\n",
    "        d.append(x['GW'].nunique())\n",
    "        d.append(x['total_points'].max())\n",
    "        d.append(x['total_points'].min())\n",
    "        d.append(x['total_points'].mean())\n",
    "        d.append(x['total_points'].sum())\n",
    "        d.append(x['minutes'].mean())\n",
    "        d.append(x['minutes'].sum())\n",
    "        d.append(x['value'].mean())\n",
    "        return pd.Series(d, index= ['GW_participated', 'total_points_max','total_points_min','total_points_mean','total_points_sum','minutes_mean','minutes_sum','value_mean'])"
   ]
  },
  {
   "cell_type": "code",
   "execution_count": null,
   "metadata": {},
   "outputs": [],
   "source": [
    "# EDA Group by player and count week\n",
    "# Get data subset: https://pandas.pydata.org/pandas-docs/stable/getting_started/intro_tutorials/03_subset_data.html\n",
    "print (df_1617['element'].nunique())\n",
    "df_1617_p = df_1617.reset_index()[['name', 'element','bonus', 'loaned_in', 'loaned_out','minutes','opponent_team', 'total_points', 'transfers_balance', 'transfers_in', 'transfers_out','value', 'GW']]\n",
    "df_1617_p_byname = df_1617_p.groupby(['element','name']).apply(agg_player).reset_index()"
   ]
  },
  {
   "cell_type": "code",
   "execution_count": null,
   "metadata": {},
   "outputs": [],
   "source": [
    "df_1617_p[df_1617_p['element'] == 77]\n",
    "# a['minutes_sum'].describe()"
   ]
  },
  {
   "cell_type": "code",
   "execution_count": null,
   "metadata": {},
   "outputs": [],
   "source": []
  },
  {
   "cell_type": "code",
   "execution_count": null,
   "metadata": {},
   "outputs": [],
   "source": []
  },
  {
   "cell_type": "code",
   "execution_count": null,
   "metadata": {},
   "outputs": [],
   "source": [
    "### FPL API only contains detailed data for the current season and aggregate data for past seasons, so no use\n",
    "### Reference: https://medium.com/analytics-vidhya/getting-started-with-fantasy-premier-league-data-56d3b9be8c32\n",
    "# base url for all FPL API endpoints\n",
    "base_url = 'https://fantasy.premierleague.com/api/'\n",
    "\n",
    "# get data from bootstrap-static endpoint\n",
    "r = requests.get(base_url+'bootstrap-static/').json()\n",
    "\n",
    "# show the top level fields\n",
    "pprint(r, indent=2, depth=1, compact=True)\n",
    "\n",
    "# get player data from 'elements' field\n",
    "players = r['elements']\n",
    "events = r['events']\n",
    "# show data for first player\n",
    "pprint(events)\n",
    "\n",
    "base_url = \"https://fantasy.premierleague.com/api/\"\n",
    "def get_season_history(player_id):\n",
    "    '''get all past season info for a given player_id'''\n",
    "    # send GET request to\n",
    "    # https://fantasy.premierleague.com/api/element-summary/{PID}/\n",
    "    r = requests.get(base_url + 'element-summary/' + str(player_id) + '/').json()\n",
    "    # extract 'history_past' data from response into dataframe\n",
    "    df = pd.json_normalize(r['history_past'])\n",
    "    return df\n",
    "\n",
    "# show player #1's gameweek history\n",
    "get_season_history(1)[\n",
    "    [\n",
    "        'season_name',\n",
    "        'total_points',\n",
    "        'minutes',\n",
    "        'goals_scored',\n",
    "        'assists'\n",
    "    ]\n",
    "].head(10)"
   ]
  },
  {
   "cell_type": "code",
   "execution_count": null,
   "metadata": {},
   "outputs": [],
   "source": []
  },
  {
   "cell_type": "code",
   "execution_count": null,
   "metadata": {},
   "outputs": [],
   "source": []
  }
 ],
 "metadata": {
  "kernelspec": {
   "display_name": "Python 3",
   "language": "python",
   "name": "python3"
  },
  "language_info": {
   "codemirror_mode": {
    "name": "ipython",
    "version": 3
   },
   "file_extension": ".py",
   "mimetype": "text/x-python",
   "name": "python",
   "nbconvert_exporter": "python",
   "pygments_lexer": "ipython3",
   "version": "3.7.2"
  }
 },
 "nbformat": 4,
 "nbformat_minor": 2
}
