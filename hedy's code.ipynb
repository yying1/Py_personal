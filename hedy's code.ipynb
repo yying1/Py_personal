{
 "cells": [
  {
   "cell_type": "code",
   "execution_count": 1,
   "id": "49f44871",
   "metadata": {},
   "outputs": [],
   "source": [
    "import math\n",
    "file = open('21.txt')"
   ]
  },
  {
   "cell_type": "code",
   "execution_count": 2,
   "id": "1fecc00f",
   "metadata": {},
   "outputs": [
    {
     "name": "stdout",
     "output_type": "stream",
     "text": [
      "370828949 396680871 309174696 479647872 482750885 203439060 214338061 221564112 290703678 363013942 81532143 218295000 395901696 86677935 83646759 471874825 355723574\n"
     ]
    }
   ],
   "source": [
    "n = file.readline()\n",
    "result = []\n",
    "\n",
    "for i in range(int(n)):\n",
    "    c = file.readline().split(' ')\n",
    "    c = list(map(lambda x: int(x), c))\n",
    "    x = min(c[0:2])\n",
    "    y = max(c[0:2])\n",
    "    p = c[2]\n",
    "    \n",
    "    for m in range(50,101):\n",
    "        tx = math.ceil(m*p/100)*x\n",
    "        ty = math.ceil((100-m)*p/100)*y\n",
    "        if x == y:\n",
    "            t = math.ceil(p*0.5)*x\n",
    "            result.append(t)\n",
    "            break\n",
    "            \n",
    "        elif tx < ty:\n",
    "            continue\n",
    "        elif tx > ty:\n",
    "            result.append(tx)\n",
    "            break\n",
    "\n",
    "print(' '.join(str(i) for i in result))\n",
    "file.close()\n",
    "        "
   ]
  },
  {
   "cell_type": "code",
   "execution_count": null,
   "id": "aba3c5fc",
   "metadata": {},
   "outputs": [],
   "source": [
    "370828949 396680871 308686398 473701824 386200708 200072160 211517823 221564112 288392313 363013942 80913294 217047600 395901696 86032680 82800423 377499860 355723574"
   ]
  }
 ],
 "metadata": {
  "kernelspec": {
   "display_name": "Python 3",
   "language": "python",
   "name": "python3"
  },
  "language_info": {
   "codemirror_mode": {
    "name": "ipython",
    "version": 3
   },
   "file_extension": ".py",
   "mimetype": "text/x-python",
   "name": "python",
   "nbconvert_exporter": "python",
   "pygments_lexer": "ipython3",
   "version": "3.9.5"
  }
 },
 "nbformat": 4,
 "nbformat_minor": 5
}
