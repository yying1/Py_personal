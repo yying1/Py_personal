{
 "cells": [
  {
   "cell_type": "code",
   "execution_count": 1,
   "metadata": {},
   "outputs": [],
   "source": [
    "#Use this file to create basic operations for yank & Unyank\n",
    "# Last updated on 2020-04-13 by yingyy@, original code from liuyuez@ in 2020-07"
   ]
  },
  {
   "cell_type": "code",
   "execution_count": 1,
   "metadata": {},
   "outputs": [],
   "source": [
    "import json\n",
    "import time\n",
    "import os\n",
    "import shutil\n",
    "import re\n",
    "import pandas as pd\n",
    "from datetime import datetime\n",
    "from selenium import webdriver\n",
    "from selenium.webdriver.chrome.options import Options\n",
    "from selenium.webdriver.common.by import By\n",
    "from selenium.webdriver.support.wait import WebDriverWait\n",
    "from selenium.webdriver.support import expected_conditions as EC\n",
    "from selenium.common.exceptions import NoSuchElementException"
   ]
  },
  {
   "cell_type": "code",
   "execution_count": 52,
   "metadata": {},
   "outputs": [],
   "source": [
    "class chrome_driver(object):\n",
    "    def __init__(self):\n",
    "        chrome_options = Options()\n",
    "        chrome_options.add_argument('disable-infobars')\n",
    "        chrome_path = os.environ['USERPROFILE'] + r'\\AppData\\Local\\Google\\Chrome\\User Data\\Default'\n",
    "        chrome_options.add_argument(\"user-data-dir=\" + chrome_path)\n",
    "        self.driver = webdriver.Chrome(options=chrome_options)\n",
    "        self.wait = WebDriverWait(self.driver, 300)\n",
    "    def get_url(self,url):\n",
    "        self.driver.get(url)\n",
    "        while 'midway' in self.driver.current_url:\n",
    "            time.sleep(20)\n",
    "    def wait_click(self,element_id):\n",
    "        self.wait.until(EC.element_to_be_clickable((By.ID, element_id)))\n",
    "    def clickable_click(self,xpath):\n",
    "        self.wait.until(EC.element_to_be_clickable((By.XPATH, xpath))).click()\n",
    "    def clickable_click_by_id(self,element_id):\n",
    "        self.wait.until(EC.element_to_be_clickable((By.ID, element_id))).click()\n",
    "    def wait_until_located(self,xpath):\n",
    "        item = self.wait.until(EC.presence_of_element_located((By.XPATH, xpath)))\n",
    "        return item\n",
    "    def wait_until_all_located(self,xpath):\n",
    "        item_list = self.wait.until(EC.presence_of_all_elements_located((By.XPATH, xpath)))\n",
    "        return item_list"
   ]
  },
  {
   "cell_type": "code",
   "execution_count": 53,
   "metadata": {},
   "outputs": [],
   "source": [
    "# Function to read excel file and return ASIN list by Source-Target pair\n",
    "def read_excel(file, action):\n",
    "    df_original = pd.read_excel(file,sheet_name = 'Sheet1')\n",
    "    df_original = df_original[['ASIN','Source','Target']]\n",
    "    list_arc_pair = df_original[['Source','Target']].drop_duplicates()\n",
    "    upload_file_name_list = []\n",
    "    for index, row in list_arc_pair.iterrows():\n",
    "        upload_file_name = row[0].strip()+'_'+row[1].strip()+'_'+action+'.txt'\n",
    "        df_filtered = df_original[(df_original['Source'] == row[0]) & (df_original['Target'] == row[1])]['ASIN']\n",
    "        df_filtered.ASIN=df_filtered.ASIN.apply(lambda x: str(x).zfill(10))\n",
    "        generate_upload_file(upload_file_name,df_filtered)\n",
    "        upload_file_name_list.append(upload_file_name)\n",
    "    return upload_file_name_list"
   ]
  },
  {
   "cell_type": "code",
   "execution_count": 54,
   "metadata": {},
   "outputs": [],
   "source": [
    "# Function to generate upload file(s) for yank/unyank per ARC\n",
    "def generate_upload_file(filename, asin_list):\n",
    "    with open(filename,'w') as f:\n",
    "        for asin in asin_list:\n",
    "            f.writelines(str(asin)+'\\n')"
   ]
  },
  {
   "cell_type": "code",
   "execution_count": 55,
   "metadata": {},
   "outputs": [],
   "source": [
    "# Function to select source/destination marketplace from the dropdown on AGS webtool page\n",
    "def click_option(chrome, driver, element_id, xpath, option_text):\n",
    "    chrome.clickable_click_by_id(element_id)\n",
    "    time.sleep(2)\n",
    "    options = driver.find_element_by_xpath(xpath).find_elements_by_tag_name('li')\n",
    "    for option in options:\n",
    "        if option.text == option_text:\n",
    "            option.click()\n",
    "            break\n",
    "    time.sleep(2)\n",
    "    \n",
    "    \n",
    "# Function to upload a file to yank/unyank\n",
    "def upload_file(chrome, driver, agsurl, sourcemp, destmp, filename, reason):\n",
    "    chrome.get_url(agsurl)\n",
    "    click_option(chrome, driver, 'sourceMarketplace', '//*[@id=\"a-popover-1\"]/div/div/ul', sourcemp)\n",
    "    click_option(chrome, driver, 'destinationMarketplace', '//*[@id=\"a-popover-2\"]/div/div/ul', destmp)\n",
    "    driver.find_element_by_id('file').send_keys(filename)\n",
    "    driver.find_element_by_id('reason').send_keys(reason)\n",
    "    chrome.clickable_click('//*[@id=\"a-autoid-1\"]/span/input')\n",
    "    time.sleep(3)\n",
    "    try:\n",
    "        tracking = driver.find_element_by_xpath('//*[@id=\"a-page\"]/div[2]/div/div[2]/div/p/a').get_attribute('href')\n",
    "    except NoSuchElementException:\n",
    "        tracking = ''\n",
    "    return tracking"
   ]
  },
  {
   "cell_type": "code",
   "execution_count": 24,
   "metadata": {},
   "outputs": [],
   "source": [
    "# Function to copy folders containing upload files to WorkDocs \n",
    "def copy_folder(source_path, target_path):\n",
    "    for root, dirs, files in os.walk(source_path):\n",
    "        for f in files:\n",
    "            source_file = os.path.join(source_path, f)\n",
    "            target_folder = os.path.join(target_path,os.path.basename(source_path))\n",
    "            mkdir(target_folder)\n",
    "            shutil.copy(source_file, target_folder)\n",
    "        for d in dirs:\n",
    "            source_folder = os.path.join(source_path, d)\n",
    "            target_folder = os.path.join(target_path, d)\n",
    "            mkdir(target_folder)\n",
    "            for c_root, c_dirs, c_files in os.walk(source_folder):\n",
    "                for file in c_files:\n",
    "                    source_file = os.path.join(source_folder, file)\n",
    "                    shutil.copy(source_file, target_folder)\n",
    "\n",
    "# Function to create folder for SIM/upload files management\n",
    "def mkdir(path):\n",
    "    path = path.strip()\n",
    "    path = path.rstrip(\"\\\\\")\n",
    "    isExists = os.path.exists(path)\n",
    "    if not isExists:\n",
    "        os.makedirs(path)"
   ]
  },
  {
   "cell_type": "code",
   "execution_count": 58,
   "metadata": {},
   "outputs": [],
   "source": [
    "# Functions to process all the SIMs that meet criteria in the SIM folder\n",
    "def process_request(filename, taskinfo, requester):\n",
    "# Assign Variables: Source & Target marketplaces, local_directory and variables\n",
    "    s_arcs = ['US','GB','DE','JP']\n",
    "    t_arcs = ['CN','TR','SG']\n",
    "    mkdir(r'C:\\User\\yank-ops')\n",
    "    rool = re.compile('\\s+')\n",
    "    upload_file_list = []\n",
    "    os.chdir(r'C:\\User\\yank-ops')\n",
    "    action = taskinfo.strip().split('_')[1].strip().lower()\n",
    "    if action == 'unyank':\n",
    "        action = 'unblock'\n",
    "# Create a folder named by current date under the same path as this script\n",
    "    taskinfo_time = taskinfo +'_'+ datetime.now().strftime('%Y%m%d%H%M%S')\n",
    "    source_path = os.path.join(os.getcwd(), taskinfo_time)\n",
    "    mkdir(source_path)\n",
    "    os.chdir(source_path)\n",
    "# read input excel file and split to .txt files by arc\n",
    "    upload_file_list = read_excel(filename, action)\n",
    "# collect reason\n",
    "    reason = requester.strip().lower()+'_'+taskinfo.split('_')[0]+'_'+taskinfo.split('_',2)[2]\n",
    "# open chrome\n",
    "    chrome = chrome_driver()\n",
    "    driver = chrome.driver\n",
    "# yank/unyank operations\n",
    "    tracking_list = []\n",
    "    for file in upload_file_list:\n",
    "        agsurl = 'https://ags.amazon.com/' + action\n",
    "        source = file.split('_')[0].strip().upper()\n",
    "        target = file.split('_')[1].strip().upper()\n",
    "        if target == 'UK':\n",
    "            target = 'GB'\n",
    "        filepath = os.path.join(os.getcwd(), file)\n",
    "        tracking = upload_file(chrome, driver, agsurl, source, target, filepath, reason)\n",
    "        if tracking == '':\n",
    "            tracking_list.append(file+\" failed\")\n",
    "        else: \n",
    "            tracking_list.append(tracking)\n",
    "    driver.close()\n",
    "# Generate output tracking file\n",
    "    generate_upload_file('tracking_result.txt',tracking_list)\n",
    "# WorkDocs path to which upload files will be copied\n",
    "# Note that WorkDocs Drive must be installed\n",
    "    target_path = 'W:\\\\My Documents\\\\Yank&Unyank - RPA'\n",
    "    if not os.path.exists(target_path):\n",
    "        target_path = target_path.replace('My Documents','Shared With Me')\n",
    "    copy_folder(source_path, target_path)"
   ]
  },
  {
   "cell_type": "code",
   "execution_count": 28,
   "metadata": {},
   "outputs": [],
   "source": [
    "#target_path = 'W:\\\\My Documents\\\\Yank&Unyank - RPA'\n",
    "#source_path = source_path = os.path.join('C:\\\\User\\\\yank-ops', \"202104140150_yank_CX_Impact_Deliver_Issue-DS_20210414113110\")"
   ]
  },
  {
   "cell_type": "code",
   "execution_count": 59,
   "metadata": {},
   "outputs": [],
   "source": [
    "# filename = \"C:/Users/yingyy/Desktop/Template.xlsx\"\n",
    "# taskinfo = '202104130619_yank_order fulfillment'\n",
    "# requester = 'yingyy'"
   ]
  },
  {
   "cell_type": "code",
   "execution_count": 61,
   "metadata": {},
   "outputs": [],
   "source": [
    "#process_request(filename,taskinfo,requester)"
   ]
  }
 ],
 "metadata": {
  "kernelspec": {
   "display_name": "Python 3",
   "language": "python",
   "name": "python3"
  },
  "language_info": {
   "codemirror_mode": {
    "name": "ipython",
    "version": 3
   },
   "file_extension": ".py",
   "mimetype": "text/x-python",
   "name": "python",
   "nbconvert_exporter": "python",
   "pygments_lexer": "ipython3",
   "version": "3.6.8"
  }
 },
 "nbformat": 4,
 "nbformat_minor": 5
}
