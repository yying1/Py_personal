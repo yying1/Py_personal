{
 "cells": [
  {
   "cell_type": "code",
   "execution_count": 1,
   "id": "naughty-delta",
   "metadata": {},
   "outputs": [],
   "source": [
    "import pandas as pd\n",
    "import numpy as np\n",
    "import re\n",
    "import matplotlib.pyplot as plt"
   ]
  },
  {
   "cell_type": "code",
   "execution_count": 3,
   "id": "reverse-return",
   "metadata": {},
   "outputs": [],
   "source": [
    "df_SG = pd.read_excel(\"US2SG_sample_data.xlsx\")"
   ]
  },
  {
   "cell_type": "code",
   "execution_count": 12,
   "id": "characteristic-disposition",
   "metadata": {},
   "outputs": [],
   "source": [
    "df_ref = pd.read_excel(\"Traffic_Analysis_20210504.xlsx\", sheet_name = 'OTHRAD_ASIN_202104')"
   ]
  },
  {
   "cell_type": "code",
   "execution_count": 17,
   "id": "entitled-census",
   "metadata": {},
   "outputs": [
    {
     "data": {
      "text/plain": [
       "Index(['gs_arc', 'ASIN', 'gl_desc', 'target_gv_band',\n",
       "       'target_glance_view_count', 'target_impression_count', 'gv/impression',\n",
       "       'specific', 'specific (Node ID)', 'brand', 'imp_rank', 'gv_imp_rank',\n",
       "       'rank', 'size', 'mean', 'median', 'var', 'amax', 'amin',\n",
       "       'percentile_75', 'percentile_25', 'statue'],\n",
       "      dtype='object')"
      ]
     },
     "execution_count": 17,
     "metadata": {},
     "output_type": "execute_result"
    }
   ],
   "source": [
    "df_SG.columns"
   ]
  },
  {
   "cell_type": "code",
   "execution_count": 18,
   "id": "fabulous-procurement",
   "metadata": {},
   "outputs": [],
   "source": [
    "df_join = pd.merge(df_ref, df_SG, left_on = 'asin', right_on = 'ASIN', how = 'left')"
   ]
  },
  {
   "cell_type": "code",
   "execution_count": 19,
   "id": "impaired-reproduction",
   "metadata": {},
   "outputs": [
    {
     "data": {
      "text/plain": [
       "Index(['hit_hour_utc', 'session_id', 'request_id', 'attributed_action',\n",
       "       'seller_ref_marker', 'discovery_ref_marker', 'closer_ref_marker',\n",
       "       'asin', 'page_type', 'sub_page_type', 'page_type_id',\n",
       "       'page_type_id_source', 'add_type', 'path_to_from', 'end_time_local',\n",
       "       'gs_arc', 'ASIN', 'gl_desc', 'target_gv_band',\n",
       "       'target_glance_view_count', 'target_impression_count', 'gv/impression',\n",
       "       'specific', 'specific (Node ID)', 'brand', 'imp_rank', 'gv_imp_rank',\n",
       "       'rank', 'size', 'mean', 'median', 'var', 'amax', 'amin',\n",
       "       'percentile_75', 'percentile_25', 'statue'],\n",
       "      dtype='object')"
      ]
     },
     "execution_count": 19,
     "metadata": {},
     "output_type": "execute_result"
    }
   ],
   "source": [
    "df_join.columns"
   ]
  },
  {
   "cell_type": "code",
   "execution_count": 20,
   "id": "dependent-religion",
   "metadata": {},
   "outputs": [],
   "source": [
    "df_result = df_join.reset_index().groupby(['statue','discovery_ref_marker'])['ASIN'].agg({np.size})"
   ]
  },
  {
   "cell_type": "code",
   "execution_count": 28,
   "id": "internal-mandate",
   "metadata": {},
   "outputs": [],
   "source": [
    "df_result = df_result.sort_values(by=['size'], ascending=False)"
   ]
  },
  {
   "cell_type": "code",
   "execution_count": 26,
   "id": "divine-ghana",
   "metadata": {},
   "outputs": [],
   "source": [
    "pd.set_option('display.max_rows', None)"
   ]
  },
  {
   "cell_type": "code",
   "execution_count": 30,
   "id": "dominant-indian",
   "metadata": {},
   "outputs": [],
   "source": [
    "df_result.to_csv(\"OTHRAD_Match_result.csv\", encoding = 'utf-8')"
   ]
  },
  {
   "cell_type": "code",
   "execution_count": null,
   "id": "described-diagram",
   "metadata": {},
   "outputs": [],
   "source": [
    "## this is from other code\n",
    "for mp in MPs:\n",
    "    file_path = \"C:\\\\Users\\\\yingyy\\\\Desktop\\\\Discoverability\\\\Raw_Data\\\\US-\"+mp+\"_sort_asin.xlsx\"\n",
    "    df = pd.read_excel(file_path,sheet_name=\"Sheet1\")\n",
    "    df_brand = pd.read_excel(r\"C:\\Users\\yingyy\\Desktop\\Discoverability\\Top Brands by 2020 GV.xlsx\",sheet_name= mp)\n",
    "    result_1 = df.reset_index().groupby(['gl_desc','brand'])['target_glance_view_count'].agg({np.mean,np.size,np.min,np.max,np.median,np.var}).rename(columns={np.mean:'gv_average',np.size:'size',np.min:'gv_min',np.max:'gv_max',np.median:'gv_median',np.var:'variance'})\n",
    "    result_1 = result_1.reset_index()\n",
    "    result_1['brand'] = result_1['brand'].astype(str)\n",
    "    df_brand['Brand'] = df_brand['Brand'].astype(str)\n",
    "    result = pd.merge(result_1,df_brand,left_on = 'brand', right_on = 'Brand',how='left')\n",
    "    result.to_excel(writer, sheet_name = mp)\n",
    "    result_2 = result[result['size']>=10]\n",
    "    with open (r\"C:\\Users\\yingyy\\Desktop\\Discoverability\\New Text Document.txt\",'a') as file:\n",
    "        file.write(mp+\":\"+str(len(pd.unique(result_2['Brand']))))\n",
    "    result_2 = result_2[['Brand','Rank']].drop_duplicates()\n",
    "    result_2['Rank_binned'] = pd.cut(result_2['Rank'],bins)\n",
    "    result_2['Rank_binned'].value_counts(normalize= False,sort = False).to_excel(writer, sheet_name = mp+'_BrandRank')"
   ]
  }
 ],
 "metadata": {
  "kernelspec": {
   "display_name": "Python 3",
   "language": "python",
   "name": "python3"
  },
  "language_info": {
   "codemirror_mode": {
    "name": "ipython",
    "version": 3
   },
   "file_extension": ".py",
   "mimetype": "text/x-python",
   "name": "python",
   "nbconvert_exporter": "python",
   "pygments_lexer": "ipython3",
   "version": "3.7.10"
  }
 },
 "nbformat": 4,
 "nbformat_minor": 5
}
