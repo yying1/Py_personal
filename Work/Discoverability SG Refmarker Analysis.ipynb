{
 "cells": [
  {
   "cell_type": "code",
   "execution_count": 1,
   "metadata": {},
   "outputs": [],
   "source": [
    "import pandas as pd\n",
    "import numpy as np\n",
    "import re\n",
    "import matplotlib.pyplot as plt"
   ]
  },
  {
   "cell_type": "code",
   "execution_count": 2,
   "metadata": {},
   "outputs": [],
   "source": [
    "df_SG = pd.read_excel(r\"C:\\Users\\yingyy\\Desktop\\Discoverability\\US2SG\\SG sample_data.xlsx\")"
   ]
  },
  {
   "cell_type": "code",
   "execution_count": 4,
   "metadata": {},
   "outputs": [],
   "source": [
    "df_ref = pd.read_excel(r\"C:\\Users\\yingyy\\Desktop\\Traffic_Analysis_20210504.xlsx\", sheet_name = 'OCTH_ASIN_202104')"
   ]
  },
  {
   "cell_type": "code",
   "execution_count": 17,
   "metadata": {},
   "outputs": [
    {
     "data": {
      "text/plain": [
       "Index(['gs_arc', 'ASIN', 'gl_desc', 'target_gv_band',\n",
       "       'target_glance_view_count', 'target_impression_count', 'gv/impression',\n",
       "       'specific', 'specific (Node ID)', 'brand', 'imp_rank', 'gv_imp_rank',\n",
       "       'rank', 'size', 'mean', 'median', 'var', 'amax', 'amin',\n",
       "       'percentile_75', 'percentile_25', 'statue'],\n",
       "      dtype='object')"
      ]
     },
     "execution_count": 17,
     "metadata": {},
     "output_type": "execute_result"
    }
   ],
   "source": [
    "df_SG.columns"
   ]
  },
  {
   "cell_type": "code",
   "execution_count": 5,
   "metadata": {},
   "outputs": [],
   "source": [
    "df_join = pd.merge(df_ref, df_SG, left_on = 'page_type_id', right_on = 'ASIN', how = 'left')"
   ]
  },
  {
   "cell_type": "code",
   "execution_count": 16,
   "metadata": {},
   "outputs": [
    {
     "data": {
      "text/plain": [
       "Index(['hit_hour_utc', 'session_id', 'request_id', 'add_type',\n",
       "       'associate_link_code', 'associate_tag', 'channel_id', 'click_id',\n",
       "       'client_program', 'country_of_residence', 'start_time_local',\n",
       "       'end_time_local', 'hit_type', 'http_referrer', 'is_external_referrer',\n",
       "       'is_glance_view', 'original_path', 'page_action', 'path_to_from',\n",
       "       'page_type_id', 'page_type_id_source', 'page_type', 'ref_marker',\n",
       "       'referrer_request_id', 'site_variant', 'sub_page_type', 'gs_arc',\n",
       "       'ASIN', 'gl_desc', 'target_gv_band', 'target_glance_view_count',\n",
       "       'target_impression_count', 'gv/impression', 'specific',\n",
       "       'specific (Node ID)', 'brand', 'imp_rank', 'gv_imp_rank', 'rank',\n",
       "       'size', 'mean', 'median', 'var', 'amax', 'amin', 'percentile_75',\n",
       "       'percentile_25', 'statue'],\n",
       "      dtype='object')"
      ]
     },
     "execution_count": 16,
     "metadata": {},
     "output_type": "execute_result"
    }
   ],
   "source": [
    "df_join.columns"
   ]
  },
  {
   "cell_type": "code",
   "execution_count": 8,
   "metadata": {},
   "outputs": [],
   "source": [
    "df_result = df_join.reset_index().groupby(['statue','ref_marker'])['ASIN'].agg({np.size})"
   ]
  },
  {
   "cell_type": "code",
   "execution_count": 9,
   "metadata": {},
   "outputs": [],
   "source": [
    "df_result = df_result.sort_values(by=['size'], ascending=False)"
   ]
  },
  {
   "cell_type": "code",
   "execution_count": 10,
   "metadata": {},
   "outputs": [],
   "source": [
    "pd.set_option('display.max_rows', None)"
   ]
  },
  {
   "cell_type": "code",
   "execution_count": 27,
   "metadata": {},
   "outputs": [],
   "source": [
    "df_result.to_csv(r\"C:\\Users\\yingyy\\Desktop\\OCTH_Match_result.csv\", encoding = 'utf-8')"
   ]
  },
  {
   "cell_type": "code",
   "execution_count": 26,
   "metadata": {},
   "outputs": [],
   "source": [
    "df_join.to_csv(r\"C:\\Users\\yingyy\\Desktop\\OCTH_Match_result.csv\", encoding = 'utf-8')"
   ]
  },
  {
   "cell_type": "code",
   "execution_count": 21,
   "metadata": {},
   "outputs": [],
   "source": [
    "# filter to keep only GV OCTH data\n",
    "df_join_GV = df_join[df_join['is_glance_view']== 1]"
   ]
  },
  {
   "cell_type": "code",
   "execution_count": 22,
   "metadata": {},
   "outputs": [],
   "source": [
    "df_result_GV = df_join_GV.reset_index().groupby(['statue','ref_marker'])['ASIN'].agg({np.size})\n",
    "df_result_GV = df_result_GV.sort_values(by=['size'], ascending=False)"
   ]
  },
  {
   "cell_type": "code",
   "execution_count": 28,
   "metadata": {},
   "outputs": [],
   "source": [
    "df_result_GV.reset_index().to_excel(r\"C:\\Users\\yingyy\\Desktop\\SG_OCTH_Match_result.xlsx\", sheet_name = 'OCTH_GV_Match_Result', encoding = 'utf-8')"
   ]
  }
 ],
 "metadata": {
  "kernelspec": {
   "display_name": "Python 3",
   "language": "python",
   "name": "python3"
  },
  "language_info": {
   "codemirror_mode": {
    "name": "ipython",
    "version": 3
   },
   "file_extension": ".py",
   "mimetype": "text/x-python",
   "name": "python",
   "nbconvert_exporter": "python",
   "pygments_lexer": "ipython3",
   "version": "3.7.2"
  }
 },
 "nbformat": 4,
 "nbformat_minor": 5
}
