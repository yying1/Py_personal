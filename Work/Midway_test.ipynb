{
 "cells": [
  {
   "cell_type": "code",
   "execution_count": 17,
   "metadata": {},
   "outputs": [],
   "source": [
    "from selenium import webdriver\n",
    "from selenium.webdriver.common.keys import Keys\n",
    "from selenium.webdriver.chrome.options import Options\n",
    "import time\n",
    "import pandas as pd\n",
    "import numpy as np\n",
    "from bs4 import BeautifulSoup\n",
    "import os"
   ]
  },
  {
   "cell_type": "code",
   "execution_count": 45,
   "metadata": {},
   "outputs": [],
   "source": [
    "chrome_options = Options()\n",
    "chrome_path = os.environ['USERPROFILE']+r'\\AppData\\Local\\Google\\Chrome\\User Data\\Default'\n",
    "chrome_options.add_argument(\"user-data-dir=\"+chrome_path)\n",
    "driver = webdriver.Chrome(options=chrome_options) "
   ]
  },
  {
   "cell_type": "code",
   "execution_count": 46,
   "metadata": {},
   "outputs": [],
   "source": [
    "driver.get('https://midway-auth.amazon.com/login?html_only_ui=1&next=%2F')"
   ]
  },
  {
   "cell_type": "code",
   "execution_count": 43,
   "metadata": {},
   "outputs": [
    {
     "name": "stdout",
     "output_type": "stream",
     "text": [
      "0\n",
      "eneccccdrlgdjredtftrkdibrbulvbciteukciurrjtr used\n",
      "1\n"
     ]
    }
   ],
   "source": [
    "df_midway = pd.read_excel(\"Midway_keys.xlsx\")\n",
    "midway_key = ''\n",
    "for index, row in df_midway.iterrows():\n",
    "    print(index)\n",
    "    if row['Status'] == 'used':\n",
    "        print(row['Midway'].strip()+\" used\")\n",
    "    else:\n",
    "        midway_key = row['Midway'].strip()\n",
    "        row['Status'] = 'used'\n",
    "        break\n",
    "df_midway.to_excel(\"Midway_keys.xlsx\", index = False)"
   ]
  },
  {
   "cell_type": "code",
   "execution_count": 44,
   "metadata": {},
   "outputs": [
    {
     "data": {
      "text/plain": [
       "'eneccccdrlgdvrkncvvvnirnhhcjcckguiruuvrrcjek'"
      ]
     },
     "execution_count": 44,
     "metadata": {},
     "output_type": "execute_result"
    }
   ],
   "source": [
    "midway_key"
   ]
  },
  {
   "cell_type": "code",
   "execution_count": 7,
   "metadata": {},
   "outputs": [],
   "source": [
    "driver.find_element_by_xpath('//*[@id=\"user_name\"]').clear()\n",
    "driver.find_element_by_xpath('//*[@id=\"user_name\"]').send_keys('yingyy')\n",
    "driver.find_element_by_xpath('//*[@id=\"password\"]').send_keys('Wywdzy123!')\n",
    "driver.find_element_by_xpath('//*[@id=\"otp\"]').send_keys(midway_key+\"\\n\")"
   ]
  },
  {
   "cell_type": "code",
   "execution_count": 8,
   "metadata": {},
   "outputs": [],
   "source": [
    "driver.get('https://selection.amazon.com')"
   ]
  }
 ],
 "metadata": {
  "kernelspec": {
   "display_name": "Python 3",
   "language": "python",
   "name": "python3"
  },
  "language_info": {
   "codemirror_mode": {
    "name": "ipython",
    "version": 3
   },
   "file_extension": ".py",
   "mimetype": "text/x-python",
   "name": "python",
   "nbconvert_exporter": "python",
   "pygments_lexer": "ipython3",
   "version": "3.6.8"
  }
 },
 "nbformat": 4,
 "nbformat_minor": 2
}
