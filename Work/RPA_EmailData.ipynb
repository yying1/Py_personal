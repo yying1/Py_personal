{
 "cells": [
  {
   "cell_type": "code",
   "execution_count": 1,
   "metadata": {},
   "outputs": [],
   "source": [
    "import pandas as pd\n",
    "import re\n",
    "import numpy as np\n",
    "import os\n",
    "import win32com.client\n",
    "import win32com\n",
    "import os\n",
    "import sys\n",
    "from datetime import datetime"
   ]
  },
  {
   "cell_type": "code",
   "execution_count": 2,
   "metadata": {},
   "outputs": [],
   "source": [
    "outlook = win32com.client.Dispatch(\"Outlook.Application\").GetNamespace(\"MAPI\")\n",
    "sent_items = outlook.Folders('rpa@amazon.com').Folders(\"Sent Items\")"
   ]
  },
  {
   "cell_type": "code",
   "execution_count": 3,
   "metadata": {},
   "outputs": [],
   "source": [
    "info=pd.DataFrame()"
   ]
  },
  {
   "cell_type": "code",
   "execution_count": 4,
   "metadata": {},
   "outputs": [],
   "source": [
    "# convert email data to df, use n for sample\n",
    "n = 1\n",
    "for item in sent_items.items:\n",
    "    #n+=1\n",
    "    temp = []\n",
    "    b = item.body\n",
    "    b=b.replace('\\n','')\n",
    "    b=b.split('\\r')\n",
    "    #if n == 100:\n",
    "    #   break\n",
    "    if len (b) >= 8:\n",
    "        index=[0,2,3,4,5,6,7,8]\n",
    "        for x in index:\n",
    "            if x == 0:\n",
    "                temp.append(b[x].replace('Hi,',''))\n",
    "            else:\n",
    "                temp.append(b[x].replace(b[x].split(':')[0]+':',''))\n",
    "        temp=pd.DataFrame(temp).T\n",
    "        info=pd.concat([info,temp])\n",
    "    else:\n",
    "        pass"
   ]
  },
  {
   "cell_type": "code",
   "execution_count": 5,
   "metadata": {},
   "outputs": [],
   "source": [
    "info.columns=['Login','Robot_ID','Email_Received_Time','Start_Time','End_Time','Run_Time','Task_Info','Status']"
   ]
  },
  {
   "cell_type": "code",
   "execution_count": 6,
   "metadata": {},
   "outputs": [],
   "source": [
    "info['Task_ID'] = info['Status']\n",
    "info['Source'] = info['Task_Info']\n",
    "info['Target'] = info['Task_Info']"
   ]
  },
  {
   "cell_type": "code",
   "execution_count": 7,
   "metadata": {},
   "outputs": [],
   "source": [
    "info = info[info['Login'] != 'Hello,']\n",
    "info = info[info['Login'] != '']\n",
    "info = info[info['Login'] != 'RPA']"
   ]
  },
  {
   "cell_type": "code",
   "execution_count": 8,
   "metadata": {},
   "outputs": [],
   "source": [
    "# get task id from task info and convert run time\n",
    "for index, row in info.iterrows(): \n",
    "    if 'Succeeded' in row['Task_ID']:\n",
    "        row['Task_ID'] = row['Task_ID'].strip().split(' ')[1].strip()\n",
    "    else:\n",
    "        row['Task_ID'] = np.nan\n",
    "    if ':' in row['Run_Time']:\n",
    "        row['Run_Time'] = float (row['Run_Time'].split(':')[0])+float (row['Run_Time'].split(':')[1])/60+float(row['Run_Time'].split(':')[2])/3600"
   ]
  },
  {
   "cell_type": "code",
   "execution_count": 9,
   "metadata": {},
   "outputs": [
    {
     "name": "stdout",
     "output_type": "stream",
     "text": [
      " \n"
     ]
    }
   ],
   "source": [
    "# get source & target data from task info\n",
    "for index, row in info.iterrows(): \n",
    "    if row['Task_ID'] == '3':\n",
    "        try:\n",
    "            row['Source'] = row['Task_Info'].split('_')[1].strip().upper()\n",
    "            row['Target'] = row['Task_Info'].split('_')[2].strip().upper()\n",
    "        except:\n",
    "            print (row['Task_Info'])\n",
    "    elif row['Task_ID'] == '4':\n",
    "        row['Source'] = \"US\"\n",
    "        row['Target'] = \"AU\"\n",
    "    elif  row['Task_ID'] == '2' or row['Task_ID'] == '6' or row['Task_ID'] == '11':\n",
    "        row['Source'] = row['Task_Info'].split('_')[1].strip()[:2].upper()\n",
    "        row['Target'] = row['Task_Info'].split('_')[1].strip()[3:].upper()\n",
    "    elif row['Task_ID'] == '5':\n",
    "        row['Source'] = np.nan\n",
    "        row['Target'] = np.nan\n",
    "    elif row['Task_ID'] == '8':\n",
    "        row['Source'] = row['Task_Info'].strip()[:2].upper()\n",
    "        row['Target'] = row['Task_Info'].strip()[3:5].upper()\n",
    "    elif row['Task_ID'] == '9':\n",
    "        row['Source'] = np.nan\n",
    "        row['Target'] = np.nan\n",
    "    elif row['Task_ID'] == '10':\n",
    "        row['Source'] = row['Task_Info'].split('_')[1].upper()\n",
    "        row['Target'] = row['Task_Info'].split('_')[2].upper()\n",
    "    else: \n",
    "        row['Source'] = np.nan\n",
    "        row['Target'] = np.nan"
   ]
  },
  {
   "cell_type": "code",
   "execution_count": null,
   "metadata": {},
   "outputs": [],
   "source": [
    "#clean rows with empty 'Start_Time'\n",
    "info = info[info['Start_Time'] != '']"
   ]
  },
  {
   "cell_type": "code",
   "execution_count": 10,
   "metadata": {},
   "outputs": [],
   "source": [
    "info.drop_duplicates().to_csv(\"test.csv\", index = False)"
   ]
  }
 ],
 "metadata": {
  "kernelspec": {
   "display_name": "Python 3",
   "language": "python",
   "name": "python3"
  },
  "language_info": {
   "codemirror_mode": {
    "name": "ipython",
    "version": 3
   },
   "file_extension": ".py",
   "mimetype": "text/x-python",
   "name": "python",
   "nbconvert_exporter": "python",
   "pygments_lexer": "ipython3",
   "version": "3.6.8"
  }
 },
 "nbformat": 4,
 "nbformat_minor": 2
}
