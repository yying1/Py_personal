{
 "cells": [
  {
   "cell_type": "code",
   "execution_count": 7,
   "metadata": {},
   "outputs": [],
   "source": [
    "import os\n",
    "import pandas as pd"
   ]
  },
  {
   "cell_type": "code",
   "execution_count": 8,
   "metadata": {},
   "outputs": [],
   "source": [
    "folders = os.listdir(r\"C:\\Users\\yingyy\\Desktop\\New folder\")\n",
    "total = 0"
   ]
  },
  {
   "cell_type": "code",
   "execution_count": 9,
   "metadata": {},
   "outputs": [
    {
     "name": "stdout",
     "output_type": "stream",
     "text": [
      "C:\\Users\\yingyy\\Desktop\\New folder\\2_US_MX_2_N_W33_(Crosslisting-Retail)\\for_operator\\Status_Result.xlsx\n",
      "60235\n",
      "C:\\Users\\yingyy\\Desktop\\New folder\\2_US_MX_2_N_W35_(Crosslisting-Retail)\\for_operator\\Status_Result.xlsx\n",
      "50574\n",
      "C:\\Users\\yingyy\\Desktop\\New folder\\2_US_MX_2_N_W36_(Crosslisting-Retail)\\for_operator\\Status_Result.xlsx\n",
      "27416\n",
      "C:\\Users\\yingyy\\Desktop\\New folder\\2_US_MX_2_N_W37_(Crosslisting-Retail)\\for_operator\\Status_Result.xlsx\n",
      "109816\n",
      "C:\\Users\\yingyy\\Desktop\\New folder\\2_US_MX_2_N_W38_(Crosslisting-Retail)\\for_operator\\Status_Result.xlsx\n",
      "82549\n",
      "C:\\Users\\yingyy\\Desktop\\New folder\\2_US_MX_2_N_W39_(Crosslisting-Retail)\\for_operator\\Status_Result.xlsx\n",
      "41749\n",
      "C:\\Users\\yingyy\\Desktop\\New folder\\2_US_MX_2_N_W40_(Crosslisting-Retail)\\for_operator\\Status_Result.xlsx\n",
      "47030\n",
      "C:\\Users\\yingyy\\Desktop\\New folder\\2_US_MX_2_N_W41_(Crosslisting-Retail)\\for_operator\\Status_Result.xlsx\n",
      "104708\n",
      "C:\\Users\\yingyy\\Desktop\\New folder\\2_US_MX_2_N_W42_(Crosslisting-Retail)\\for_operator\\Status_Result.xlsx\n",
      "75145\n",
      "C:\\Users\\yingyy\\Desktop\\New folder\\2_US_MX_2_N_W43_(Crosslisting-Retail)\\for_operator\\Status_Result.xlsx\n",
      "88160\n",
      "C:\\Users\\yingyy\\Desktop\\New folder\\2_US_MX_2_N_W44_(Crosslisting-Retail)\\for_operator\\Status_Result.xlsx\n",
      "88847\n",
      "C:\\Users\\yingyy\\Desktop\\New folder\\2_US_MX_2_N_W45_(Crosslisting-Retail)\\for_operator\\Status_Result.xlsx\n",
      "60309\n",
      "C:\\Users\\yingyy\\Desktop\\New folder\\2_US_MX_2_N_W46_(Crosslisting-Retail)\\for_operator\\Status_Result.xlsx\n",
      "70834\n",
      "C:\\Users\\yingyy\\Desktop\\New folder\\2_US_MX_2_N_W47_(Crosslisting-Retail)\\for_operator\\Status_Result.xlsx\n",
      "286387\n",
      "C:\\Users\\yingyy\\Desktop\\New folder\\2_US_MX_2_N_W48_(Crosslisting-Retail)\\for_operator\\Status_Result.xlsx\n",
      "78420\n",
      "C:\\Users\\yingyy\\Desktop\\New folder\\2_US_MX_2_N_W49_(Crosslisting-Retail)\\for_operator\\Status_Result.xlsx\n",
      "74680\n",
      "C:\\Users\\yingyy\\Desktop\\New folder\\2_US_MX_2_N_W51_(Crosslisting-Retail)\\for_operator\\Status_Result.xlsx\n",
      "821004\n"
     ]
    }
   ],
   "source": [
    "for folder in folders:\n",
    "    if os.path.exists(\"C:\\\\Users\\\\yingyy\\\\Desktop\\\\New folder\\\\\"+folder+\"\\\\for_operator\\\\Status_Result.xlsx\"):\n",
    "        print (\"C:\\\\Users\\\\yingyy\\\\Desktop\\\\New folder\\\\\"+folder+\"\\\\for_operator\\\\Status_Result.xlsx\")\n",
    "        ea = \"C:\\\\Users\\\\yingyy\\\\Desktop\\\\New folder\\\\\"+folder+\"\\\\for_operator\\\\Status_Result.xlsx\"\n",
    "        df = pd.read_excel(\"C:\\\\Users\\\\yingyy\\\\Desktop\\\\New folder\\\\\"+folder+\"\\\\for_operator\\\\Status_Result.xlsx\") \n",
    "        success = df[\"Successful\"].sum()\n",
    "        print(success)\n",
    "        total = success+total"
   ]
  },
  {
   "cell_type": "code",
   "execution_count": 10,
   "metadata": {},
   "outputs": [
    {
     "data": {
      "text/plain": [
       "2167863"
      ]
     },
     "execution_count": 10,
     "metadata": {},
     "output_type": "execute_result"
    }
   ],
   "source": [
    "total"
   ]
  }
 ],
 "metadata": {
  "kernelspec": {
   "display_name": "Python 3",
   "language": "python",
   "name": "python3"
  },
  "language_info": {
   "codemirror_mode": {
    "name": "ipython",
    "version": 3
   },
   "file_extension": ".py",
   "mimetype": "text/x-python",
   "name": "python",
   "nbconvert_exporter": "python",
   "pygments_lexer": "ipython3",
   "version": "3.6.8"
  }
 },
 "nbformat": 4,
 "nbformat_minor": 2
}
