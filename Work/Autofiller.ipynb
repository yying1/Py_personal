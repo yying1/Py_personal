{
 "cells": [
  {
   "cell_type": "code",
   "execution_count": 1,
   "metadata": {},
   "outputs": [],
   "source": [
    "from selenium import webdriver\n",
    "from selenium.webdriver.chrome.options import Options\n",
    "from selenium.webdriver.common.keys import Keys\n",
    "import time\n",
    "import re\n",
    "import requests\n",
    "import os\n",
    "import numpy\n",
    "from io import StringIO\n",
    "import pandas as pd\n",
    "from selenium.webdriver.support.ui import WebDriverWait\n",
    "import selenium.webdriver.support.ui as ui\n",
    "from selenium.webdriver.support import expected_conditions as EC\n",
    "from selenium.webdriver.common.by import By"
   ]
  },
  {
   "cell_type": "code",
   "execution_count": 2,
   "metadata": {},
   "outputs": [],
   "source": [
    "#decoder part 2020-11-04"
   ]
  },
  {
   "cell_type": "code",
   "execution_count": 2,
   "metadata": {},
   "outputs": [],
   "source": [
    "Source_MP=\"us\"\n",
    "Target_MP=\"sg\""
   ]
  },
  {
   "cell_type": "code",
   "execution_count": 3,
   "metadata": {},
   "outputs": [
    {
     "name": "stdout",
     "output_type": "stream",
     "text": [
      "1\n",
      "2\n",
      "3\n"
     ]
    }
   ],
   "source": [
    "marketdic={'us':'1','uk':'3','jp':'6','ca':'7','cn':'3240','in':'44571','au':'111172','tr':'338851','mx':'771770','de':'4','fr':'5','it':'35691','es':'44551','sg':'104444012'}\n",
    "arc={'us':'na','uk':'eu','jp':'fe','ca':'na','cn':'cn','in':'fe','au':'fe','tr':'eu','mx':'na','de':'eu','fr':'eu','it':'eu','es':'eu','sg':'fe'}\n",
    "market=Source_MP.lower()\n",
    "targetarc=Target_MP.lower()\n",
    "sample=pd.read_excel('C:/Users/shifenb/Desktop/loc_ff/DP/test.xlsx',dtype=object)\n",
    "sample.ASIN=sample.ASIN.apply(lambda x: str(x).zfill(10))\n",
    "filein=sample.ASIN.tolist()\n",
    "for asin in filein:\n",
    "    asin=str(asin).zfill(10)\n",
    "string=''\n",
    "print('1')\n",
    "for x in filein:\n",
    "    string=string+str(x)+'\\n'\n",
    "print('2')\n",
    "outpathsc = r'C:\\User\\Autofillin'\n",
    "print('3')\n",
    "if not os.path.exists(outpathsc):\n",
    "    os.makedirs(outpathsc)\n",
    "outpath = r'C:\\User'\n",
    "if not os.path.exists(outpath):\n",
    "    os.makedirs(outpath)\n",
    "with open(r'C:\\User\\asin.txt','w',encoding='utf-8-sig',)as f:\n",
    "    f.write(string)\n",
    "def del_file(path):\n",
    "    ls = os.listdir(path)\n",
    "    for i in ls:\n",
    "        c_path = os.path.join(path, i)\n",
    "        if os.path.isdir(c_path):\n",
    "            del_file(c_path)\n",
    "        else:\n",
    "            os.remove(c_path)\n",
    "CUR_PATH=r'C:\\User\\Autofillin'\n",
    "try:\n",
    "    del_file(CUR_PATH)\n",
    "except:\n",
    "    pass"
   ]
  },
  {
   "cell_type": "code",
   "execution_count": 47,
   "metadata": {},
   "outputs": [],
   "source": [
    "chrome_options = Options()\n",
    "# chrome_options.add_argument(\"--headless\")\n",
    "# 'profile.default_content_settings.popups':0 ,\n",
    "prefs = {'download.default_directory': 'C:\\\\User\\\\Autofillin'}\n",
    "chrome_path = os.environ['USERPROFILE']+r'\\AppData\\Local\\Google\\Chrome\\User Data\\Default'\n",
    "chrome_options.add_argument(\"user-data-dir=\"+chrome_path) \n",
    "chrome_options.add_experimental_option('prefs', prefs)\n",
    "driver = webdriver.Chrome(options=chrome_options)"
   ]
  },
  {
   "cell_type": "code",
   "execution_count": 54,
   "metadata": {},
   "outputs": [],
   "source": [
    "full_url = 'https://browse-query-editor-'+str(arc[market])+'.aka.amazon.com/?browseNodeFilter=&catalogAttributes=browse_merchandising_keyword%2Cgl_product_group_type%2Citem_classification%2Cproduct_type%2Cproduct_description%2Cbullet_point%2Cbrand%2Cbrand_code%2Cmodel_number%2Cmodel_name%2Csource_country_code%2Clanguage%2Cpublication_date%2Ccolor%2Csize%2Cmaterial_composition%2Csole_material%2Cpart_number%2Citem_package_quantity%2Cfabric_type%2Cfabric_wash%2Ccare_instructions%2Clifestyle%2Ctoe_style%2Cis_adult_product%2Cdepartment%2Cformat%2Cbinding%2Ccontributor_role%2Cedition%2Citem_type_keyword%2Cgeneric_keyword%2Csubject_keyword%2Cseries_number%2Cnumber_of_discs%2Cnumber_of_items%2Cmpaa_rating%2Cgenre%2Cfsk_rating%2Cdvd_region%2Ccatalog_number%2Caudio_encoding%2Ctarget_audience_keyword%2Csupported_application%2Cspecific_uses_keyword%2Chardware_platform%2Caccess_method%2Cindications%2Cdisplay_attribute%2Cdisplay_on_website%2Cproduct_category%2Cproduct_subcategory%2Cseasons%2Ccollar_style%2Csafety_warning%2Ctarget_gender%2Ccore_material%2Cproduct_tier_id%2Charmonized_tariff_schedule_code_US%2Cmanufacturer_vendor_code%2Cwater_resistance_level%2Cedition_number%2Citem_form%2Cstyle_number%2Cstyle_keyword%2Cnumber_of_sets%2Cbrand_region_of_origin%2Cwarranty_description%2Cingredients%2Cwarranty_type%2Cean%2Cregion_of_origin%2Cpattern_type%2Cpattern%2Cupc%2Citem_name%2Cstudio%2Cspecial_size_type%2Cmanufacturer%2Csleeve&marketplaceId='+str(marketdic[market])+'&pageSize=2000&retailAsins=N&showImages=N&useSuggestedBrowseNode=N&userQuery=B007M8P4KE&variationParentOnly=N&websiteSearchable=N'\n",
    "driver.get(full_url)\n",
    "time.sleep(60)\n",
    "driver.find_element_by_xpath('//*[@id=\"redux-app\"]/div/div[1]/div[2]/div/div/div/div[1]/div/input').send_keys(r\"C:\\User\\asin.txt\")\n",
    "time.sleep(2)\n",
    "Decoder_window = driver.current_window_handle\n",
    "\n",
    "js1='document.querySelector(\"#redux-app > div > div.panel.panel-primary.asin-discovery-form > div.panel-collapse.collapse.in > div > div > div > div:nth-child(2) > div:nth-child(4) > div.col-xs-4.col-xs-push-4 > div > button\").click()'\n",
    "driver.execute_script(js1)\n",
    "# driver.find_element_by_xpath('//*[@id=\"redux-app\"]/div/div[1]/div[2]/div/div/div/div[2]/div[4]/div[1]/div/button').click()\n",
    "time.sleep(2)\n",
    "\n",
    "js2='document.querySelector(\"body > div:nth-child(5) > div > div.fade.in.modal > div > div > div.modal-footer > button.btn.btn-primary\").click()'\n",
    "driver.execute_script(js2)\n",
    "time.sleep(5)\n",
    "js3='document.querySelector(\"body > div:nth-child(5) > div > div.fade.in.modal > div > div > div.modal-body > a\").click()'\n",
    "driver.execute_script(js3)\n",
    "time.sleep(2)\n",
    "\n",
    "href=driver.find_element_by_xpath('/html/body/div[2]/div/div[2]/div/div/div[2]/a').get_attribute(\"href\")\n",
    "driver.get(href)\n",
    "time.sleep(5)"
   ]
  },
  {
   "cell_type": "code",
   "execution_count": 55,
   "metadata": {},
   "outputs": [],
   "source": [
    "def find_id(driver):\n",
    "        try: \n",
    "            export_id = driver.find_element_by_xpath('/html/body/div/div/table/tbody[1]/tr/td[1]').text\n",
    "            if export_id == \"\":\n",
    "                raise ValueError(\"fail to get id\")\n",
    "            return export_id\n",
    "        except:\n",
    "            print('failed')\n",
    "            time.sleep(5)\n",
    "            driver.get(href)\n",
    "            return find_id(driver)"
   ]
  },
  {
   "cell_type": "code",
   "execution_count": 56,
   "metadata": {},
   "outputs": [],
   "source": [
    "export_id = find_id(driver)"
   ]
  },
  {
   "cell_type": "code",
   "execution_count": 57,
   "metadata": {},
   "outputs": [
    {
     "name": "stdout",
     "output_type": "stream",
     "text": [
      "53aa2b10-55f5-446c-9996-5548ae4d1bee\n"
     ]
    }
   ],
   "source": [
    "print (export_id)"
   ]
  },
  {
   "cell_type": "code",
   "execution_count": 60,
   "metadata": {},
   "outputs": [],
   "source": [
    "def click_id(driver):\n",
    "        time.sleep(5)\n",
    "        table = driver.find_elements_by_xpath(\"/html/body/div/div/table/tbody\")\n",
    "        length = len(table)\n",
    "        count = 1\n",
    "        msg=\"\"\n",
    "        for row in table:\n",
    "            print (driver.find_element_by_xpath(\"html/body/div/div/table/tbody[\"+str(count)+\"]/tr/td[1]\").text)\n",
    "            if export_id == driver.find_element_by_xpath(\"html/body/div/div/table/tbody[\"+str(count)+\"]/tr/td[1]\").text:\n",
    "                msg = driver.find_element_by_xpath(\"html/body/div/div/table/tbody[\"+str(count)+\"]/tr/td[10]\").text\n",
    "                break\n",
    "            count+=1 \n",
    "        if msg=='Click here':\n",
    "                element = WebDriverWait(driver, 20).until(EC.element_to_be_clickable((By.XPATH,\"html/body/div/div/table/tbody[\"+str(count)+\"]/tr/td[10]\")))\n",
    "                # this count+1 to download the right file, otherwise it will download the previous file\n",
    "                js4=\"document.querySelector('#redux-app > div > table > tbody:nth-child(\"+str(count+1)+\") > tr > td:nth-child(10) > a').click()\"\n",
    "                driver.execute_script(js4)\n",
    "                print('Download')\n",
    "        else:\n",
    "            print('failed')\n",
    "            time.sleep(10)\n",
    "            driver.get(href)\n",
    "            return click_id(driver)"
   ]
  },
  {
   "cell_type": "code",
   "execution_count": 61,
   "metadata": {},
   "outputs": [
    {
     "name": "stdout",
     "output_type": "stream",
     "text": [
      "53aa2b10-55f5-446c-9996-5548ae4d1bee\n",
      "Download\n"
     ]
    }
   ],
   "source": [
    "click_id(driver)"
   ]
  },
  {
   "cell_type": "code",
   "execution_count": null,
   "metadata": {},
   "outputs": [],
   "source": [
    "#sc part outdated "
   ]
  },
  {
   "cell_type": "code",
   "execution_count": 32,
   "metadata": {},
   "outputs": [],
   "source": [
    "chrome_options = Options()\n",
    "# chrome_options.add_argument(\"--headless\")\n",
    "# 'profile.default_content_settings.popups':0 ,\n",
    "prefs = {'download.default_directory': 'C:\\\\User\\\\Autofillin'}\n",
    "chrome_path = os.environ['USERPROFILE']+r'\\AppData\\Local\\Google\\Chrome\\User Data\\Default'\n",
    "chrome_options.add_argument(\"user-data-dir=\"+chrome_path) \n",
    "chrome_options.add_experimental_option('prefs', prefs)\n",
    "driver = webdriver.Chrome(options=chrome_options)"
   ]
  },
  {
   "cell_type": "code",
   "execution_count": 33,
   "metadata": {},
   "outputs": [],
   "source": [
    "market = 'us'"
   ]
  },
  {
   "cell_type": "code",
   "execution_count": 34,
   "metadata": {},
   "outputs": [],
   "source": [
    "domino={'de': 'https://selection-ned.corp.amazon.com/search?taskId=3838071', 'jp': 'https://selection-ned.corp.amazon.com/search?taskId=3838062', 'us': 'https://selection-ned.corp.amazon.com/search?taskId=3838031', 'uk': 'https://selection-ned.corp.amazon.com/search?taskId=3838057'}\n",
    "scurl=domino[market]\n",
    "driver.get(scurl)\n",
    "time.sleep(10)\n",
    "driver.switch_to.frame(driver.find_element_by_xpath('/html/body/iframe'))\n",
    "element = WebDriverWait(driver, 20).until(EC.element_to_be_clickable((By.XPATH, '//*[@id=\"submitSearchButton\"]')))\n",
    "wait = ui.WebDriverWait(driver,10)"
   ]
  },
  {
   "cell_type": "code",
   "execution_count": 23,
   "metadata": {},
   "outputs": [],
   "source": [
    "    def complete(stri):\n",
    "        try:\n",
    "            driver.find_element_by_xpath('//*[@id=\"queryIdsTextArea\"]').clear()\n",
    "            string_new =\"\\'\"+stri.replace('\\n','\\\\n')+\"\\'\"\n",
    "            driver.execute_script(\"document.getElementById('queryIdsTextArea').value=\"+string_new)\n",
    "            driver.find_element_by_xpath('//*[@id=\"queryIdsTextArea\"]').send_keys(Keys.ENTER)\n",
    "        #   driver.find_element_by_xpath('//*[@id=\"queryIdsTextArea\"]').send_keys(stri)#填表\n",
    "            time.sleep(10)\n",
    "            try:\n",
    "                wait.until(lambda driver: driver.find_element_by_xpath('//*[@id=\"submitSearchButton\"]'))\n",
    "                driver.find_element_by_xpath('//*[@id=\"submitSearchButton\"]').send_keys(\"\\n\")\n",
    "            except:\n",
    "                driver.find_element_by_xpath('//*[@id=\"submitSearchButton\"]').click()\n",
    "            time.sleep(5)\n",
    "            driver.switch_to.default_content()\n",
    "            time.sleep(5)\n",
    "            driver.switch_to.frame(driver.find_element_by_xpath('/html/body/div/div/div/awsui-app-layout/div/main/div/div[2]/div/span/div[2]/iframe'))\n",
    "            try:\n",
    "                wait.until(lambda driver: driver.find_element_by_xpath('//*[@id=\"productInformationTab\"]/a'))\n",
    "                driver.find_element_by_xpath('//*[@id=\"productInformationTab\"]/a').send_keys(\"\\n\") \n",
    "            except:\n",
    "                driver.find_element_by_xpath('//*[@id=\"productInformationTab\"]/a').click()\n",
    "        except:\n",
    "            return complete(stri)\n",
    "        time.sleep(3)\n",
    "        print(\"complete complete\")\n",
    "        js='document.querySelector(\"#productInformationTab-export\").click()'\n",
    "        driver.execute_script(js)\n",
    "        time.sleep(2)\n",
    "        try:\n",
    "            wait.until(lambda driver: driver.find_element_by_xpath('/html/body/ul/li/div/div/div'))\n",
    "            save=driver.find_element_by_xpath('/html/body/ul/li/div/div/div').text\n",
    "            driver.find_element_by_xpath('/html/body/ul/li/div/div/div/a').click()\n",
    "            scout=re.findall('.*\\(ID (.*)\\)',save)[0]\n",
    "            print (scout)\n",
    "            return scout\n",
    "        except:\n",
    "            time.sleep(15)\n",
    "            wait.until(lambda driver: driver.find_element_by_xpath('/html/body/ul/li/div/div/div'))\n",
    "            save=driver.find_element_by_xpath('/html/body/ul/li/div/div/div').text\n",
    "            driver.find_element_by_xpath('/html/body/ul/li/div/div/div/a').click()\n",
    "            scout=re.findall('.*\\(ID (.*)\\)',save)[0]\n",
    "        print (scout)\n",
    "        return scout"
   ]
  },
  {
   "cell_type": "code",
   "execution_count": 110,
   "metadata": {},
   "outputs": [],
   "source": [
    "string = \"B01NAE2FW8\""
   ]
  },
  {
   "cell_type": "code",
   "execution_count": 111,
   "metadata": {},
   "outputs": [],
   "source": [
    "##driver.find_element_by_xpath('//*[@id=\"queryIdsTextArea\"]').clear()\n",
    "##string_new =\"\\'\"+string.replace('\\n','\\\\n')+\"\\'\"\n",
    "##driver.execute_script(\"document.getElementById('queryIdsTextArea').value=\"+string_new)\n",
    "driver.find_element_by_xpath('//*[@id=\"queryIdsTextArea\"]').send_keys(Keys.ENTER)"
   ]
  },
  {
   "cell_type": "code",
   "execution_count": 35,
   "metadata": {},
   "outputs": [],
   "source": [
    "driver.find_element_by_xpath('//*[@id=\"submitSearchButton\"]').send_keys(\"\\n\")"
   ]
  },
  {
   "cell_type": "code",
   "execution_count": 36,
   "metadata": {},
   "outputs": [],
   "source": [
    "driver.switch_to.frame(driver.find_element_by_xpath('/html/body/div/div/div/awsui-app-layout/div/main/div/div[2]/div/span/div[2]/iframe'))\n",
    "try:\n",
    "    wait.until(lambda driver: driver.find_element_by_xpath('//*[@id=\"productInformationTab\"]/a'))\n",
    "    driver.find_element_by_xpath('//*[@id=\"productInformationTab\"]/a').send_keys(\"\\n\") \n",
    "except:\n",
    "    driver.find_element_by_xpath('//*[@id=\"productInformationTab\"]/a').click()\n",
    "        "
   ]
  },
  {
   "cell_type": "code",
   "execution_count": 37,
   "metadata": {},
   "outputs": [
    {
     "name": "stdout",
     "output_type": "stream",
     "text": [
      "5823989\n"
     ]
    }
   ],
   "source": [
    "js='document.querySelector(\"#productInformationTab-export\").click()'\n",
    "driver.execute_script(js)\n",
    "try:\n",
    "    wait.until(lambda driver: driver.find_element_by_xpath('/html/body/ul/li/div/div/div'))\n",
    "    save=driver.find_element_by_xpath('/html/body/ul/li/div/div/div').text\n",
    "    driver.find_element_by_xpath('/html/body/ul/li/div/div/div/a').click()\n",
    "    scout=re.findall('.*\\(ID (.*)\\)',save)[0]\n",
    "    print (scout)\n",
    "except:\n",
    "    time.sleep(15)\n",
    "    wait.until(lambda driver: driver.find_element_by_xpath('/html/body/ul/li/div/div/div'))\n",
    "    save=driver.find_element_by_xpath('/html/body/ul/li/div/div/div').text\n",
    "    driver.find_element_by_xpath('/html/body/ul/li/div/div/div/a').click()\n",
    "    scout=re.findall('.*\\(ID (.*)\\)',save)[0]\n",
    "    print (scout)"
   ]
  },
  {
   "cell_type": "code",
   "execution_count": 38,
   "metadata": {},
   "outputs": [],
   "source": [
    "reurl='https://selection-ned.corp.amazon.com/exportStatus?exportId='\n",
    "reurl=reurl+scout\n",
    "driver.get(reurl)"
   ]
  },
  {
   "cell_type": "code",
   "execution_count": 27,
   "metadata": {},
   "outputs": [
    {
     "ename": "IndexError",
     "evalue": "list index out of range",
     "output_type": "error",
     "traceback": [
      "\u001b[1;31m---------------------------------------------------------------------------\u001b[0m",
      "\u001b[1;31mIndexError\u001b[0m                                Traceback (most recent call last)",
      "\u001b[1;32m<ipython-input-27-1dcb975cdf18>\u001b[0m in \u001b[0;36m<module>\u001b[1;34m\u001b[0m\n\u001b[0;32m      3\u001b[0m \u001b[0mcolumn\u001b[0m \u001b[1;33m=\u001b[0m \u001b[0mdriver\u001b[0m\u001b[1;33m.\u001b[0m\u001b[0mfind_element_by_class_name\u001b[0m\u001b[1;33m(\u001b[0m\u001b[1;34m'react-reveal'\u001b[0m\u001b[1;33m)\u001b[0m\u001b[1;33m.\u001b[0m\u001b[0mget_attribute\u001b[0m\u001b[1;33m(\u001b[0m\u001b[1;34m'innerHTML'\u001b[0m\u001b[1;33m)\u001b[0m\u001b[1;33m\u001b[0m\u001b[1;33m\u001b[0m\u001b[0m\n\u001b[0;32m      4\u001b[0m \u001b[0mhtml\u001b[0m \u001b[1;33m=\u001b[0m \u001b[0metree\u001b[0m\u001b[1;33m.\u001b[0m\u001b[0mHTML\u001b[0m\u001b[1;33m(\u001b[0m\u001b[0mcolumn\u001b[0m\u001b[1;33m)\u001b[0m   \u001b[1;31m#使用etree变成lxml格式\u001b[0m\u001b[1;33m\u001b[0m\u001b[1;33m\u001b[0m\u001b[0m\n\u001b[1;32m----> 5\u001b[1;33m \u001b[0mstr\u001b[0m\u001b[1;33m.\u001b[0m\u001b[0mstrip\u001b[0m\u001b[1;33m(\u001b[0m\u001b[0mhtml\u001b[0m\u001b[1;33m.\u001b[0m\u001b[0mxpath\u001b[0m\u001b[1;33m(\u001b[0m\u001b[1;34m'//div[@class=\"awsui-app-layout awsui-app-layout--mobile awsui-app-layout-contentType-default\"]//div[@class=\"ExportStatusIndicator awsui-util-status-positive\"]/text()'\u001b[0m\u001b[1;33m)\u001b[0m\u001b[1;33m[\u001b[0m\u001b[1;36m0\u001b[0m\u001b[1;33m]\u001b[0m\u001b[1;33m)\u001b[0m\u001b[1;33m\u001b[0m\u001b[1;33m\u001b[0m\u001b[0m\n\u001b[0m",
      "\u001b[1;31mIndexError\u001b[0m: list index out of range"
     ]
    }
   ],
   "source": [
    "##/html/body/div/div/div/awsui-app-layout/div/main/div/div[2]/div/span/section/div[2]/awsui-column-layout/div/span/div/div[1]/div/div[1]/div[2]\n",
    "wait.until(lambda driver: driver.find_element_by_xpath('//*[@class=\"ExportStatusIndicator awsui-util-status-positive\"]'))\n",
    "column = driver.find_element_by_class_name('react-reveal').get_attribute('innerHTML')\n",
    "html = etree.HTML(column)   #使用etree变成lxml格式\n",
    "str.strip(html.xpath('//div[@class=\"awsui-app-layout awsui-app-layout--mobile awsui-app-layout-contentType-default\"]//div[@class=\"ExportStatusIndicator awsui-util-status-positive\"]/text()')[0])"
   ]
  },
  {
   "cell_type": "code",
   "execution_count": 39,
   "metadata": {},
   "outputs": [
    {
     "name": "stdout",
     "output_type": "stream",
     "text": [
      "SC Download Pending\n",
      "SC Download Pending\n"
     ]
    }
   ],
   "source": [
    "def judge_status(url):\n",
    "        try:\n",
    "            wait.until(lambda driver: driver.find_element_by_xpath('//*[@class=\"ExportStatusIndicator awsui-util-status-positive\"]'))\n",
    "            jdownload='document.querySelector(\"#root > div > div > awsui-app-layout > div > main > div > div.awsui-app-layout__content--scrollable > div > span > section > div.ExportStatusHeader.awsui-util-mb-m.awsui-util-mt-xs > div > div.awsui-util-action-stripe-group.awsui-util-pv-n > a\").click()'\n",
    "            driver.execute_script(jdownload)\n",
    "        except:\n",
    "            print('SC Download Pending')\n",
    "            return judge_status(url)\n",
    "judge_status(reurl)"
   ]
  }
 ],
 "metadata": {
  "kernelspec": {
   "display_name": "Python 3",
   "language": "python",
   "name": "python3"
  },
  "language_info": {
   "codemirror_mode": {
    "name": "ipython",
    "version": 3
   },
   "file_extension": ".py",
   "mimetype": "text/x-python",
   "name": "python",
   "nbconvert_exporter": "python",
   "pygments_lexer": "ipython3",
   "version": "3.6.8"
  }
 },
 "nbformat": 4,
 "nbformat_minor": 2
}
