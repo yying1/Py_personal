{
 "cells": [
  {
   "cell_type": "code",
   "execution_count": null,
   "metadata": {},
   "outputs": [],
   "source": [
    "import os"
   ]
  },
  {
   "cell_type": "code",
   "execution_count": null,
   "metadata": {},
   "outputs": [],
   "source": [
    "os.getlogin()"
   ]
  },
  {
   "cell_type": "code",
   "execution_count": null,
   "metadata": {},
   "outputs": [],
   "source": [
    "#2021-06-17 codeabby problem ID:1\n",
    "#We need to sum two numbers and tell the result. \n",
    "a,b = input().split(\" \")\n",
    "print(int(a)+int(b))"
   ]
  },
  {
   "cell_type": "code",
   "execution_count": null,
   "metadata": {},
   "outputs": [],
   "source": [
    "#2021-06-17 exercism problem Hello World\n",
    "import unittest\n",
    "def hello():\n",
    "    a = \"Hello, World!\"\n",
    "    return a\n",
    "    pass\n",
    "\n",
    "def test_say_hi(self):\n",
    "    self.assertEqual(hello(), \"Hello, World!\")"
   ]
  },
  {
   "cell_type": "code",
   "execution_count": 20,
   "metadata": {},
   "outputs": [
    {
     "name": "stdout",
     "output_type": "stream",
     "text": [
      "40\n",
      "1050 531 930 708 553 1168 108 581 15 975 431 872 851 577 632 56 808 158 109 1192 339 105 1279 847 486 610 503 187 609 591 972 25 946 1137 327 274 840 386 980 788\n"
     ]
    }
   ],
   "source": [
    "#2021-06-19 codeabby problem ID:2\n",
    "#Now our goal is to learn the loops - i.e. repeated actions. Let us find the sum of several numbers (more than two). It will be useful to do this in a loop. \n",
    "#you can create variable sum and add every value from the list to it. Perhaps \"for\" loop will suit nicely since the amount of numbers is known beforehand. If you have troubles, try Sums In Loop first - it is, probably, easier.\n",
    "#Input data has the following format:\n",
    "#first line contains N - amount of values to sum;\n",
    "#second line contains N values themselves.\n",
    "#Answer should contain a single value - the sum of N values.\n",
    "## https://www.codeabbey.com/index/task_view/sum-in-loop\n",
    "\n",
    "number = input()\n",
    "sum_list = input().split(\" \")\n",
    "sum_result = 0\n",
    "for n in range(int(number)):\n",
    "    sum_result = sum_result+int(sum_list[n])\n",
    "sum_result\n",
    "\n",
    "#solution\n",
    "# x = input()\n",
    "# print(sum(int(x) for x in input().split()))"
   ]
  }
 ],
 "metadata": {
  "kernelspec": {
   "display_name": "Python 3",
   "language": "python",
   "name": "python3"
  },
  "language_info": {
   "codemirror_mode": {
    "name": "ipython",
    "version": 3
   },
   "file_extension": ".py",
   "mimetype": "text/x-python",
   "name": "python",
   "nbconvert_exporter": "python",
   "pygments_lexer": "ipython3",
   "version": "3.9.5"
  }
 },
 "nbformat": 4,
 "nbformat_minor": 2
}
