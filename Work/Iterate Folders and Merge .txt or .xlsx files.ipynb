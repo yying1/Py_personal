{
 "cells": [
  {
   "cell_type": "code",
   "execution_count": 7,
   "metadata": {},
   "outputs": [],
   "source": [
    "import os\n",
    "import pandas as pd"
   ]
  },
  {
   "cell_type": "code",
   "execution_count": 8,
   "metadata": {},
   "outputs": [],
   "source": [
    "folders = os.listdir(r\"W:\\My Documents\\Yank&Unyank - RPA\")"
   ]
  },
  {
   "cell_type": "code",
   "execution_count": 9,
   "metadata": {},
   "outputs": [],
   "source": [
    "df_all = pd.DataFrame(columns = ['ASIN','ARC','Date'])"
   ]
  },
  {
   "cell_type": "code",
   "execution_count": 10,
   "metadata": {},
   "outputs": [],
   "source": [
    "for folder in folders:\n",
    "    if 'CX_Impact_Deliver_Issue-DS' in folder:\n",
    "        files = os.listdir(os.path.join(r\"W:\\My Documents\\Yank&Unyank - RPA\",folder))\n",
    "        date_string = folder[:8]\n",
    "        for f in files:\n",
    "            if f[-4:] == '.txt' and 'yank' in f:\n",
    "                df = pd.read_csv(os.path.join(r\"W:\\My Documents\\Yank&Unyank - RPA\",folder,f), header = None)\n",
    "                df.columns = [\"ASIN\"]\n",
    "                df['ARC']= f[:5]\n",
    "                df['Date'] = date_string\n",
    "                df_all = df_all.append(df, ignore_index=True)"
   ]
  },
  {
   "cell_type": "code",
   "execution_count": null,
   "metadata": {},
   "outputs": [],
   "source": [
    "#merge folder and .txt\n",
    "for folder in folders:\n",
    "    files = os.listdir(os.path.join(r\"C:\\Users\\yingyy\\Desktop\\New folder\",folder))\n",
    "    for f in files:\n",
    "        if f[-4:] == '.txt' and 'yank' in f:\n",
    "            df = pd.read_csv(os.path.join(r\"C:\\Users\\yingyy\\Desktop\\New folder\",folder,f), header = None)\n",
    "            df.columns = [\"ASIN\"]\n",
    "            if f[:2] == 'UK':\n",
    "                df_UK = df_UK.append(df, ignore_index=True)\n",
    "            if f[:2] == 'JP':\n",
    "                df_JP = df_JP.append(df, ignore_index=True)\n",
    "            if f[:2] == 'DE':\n",
    "                df_DE = df_DE.append(df, ignore_index=True)"
   ]
  },
  {
   "cell_type": "code",
   "execution_count": 11,
   "metadata": {},
   "outputs": [],
   "source": [
    "df_all.to_csv(os.path.join(r\"C:\\Users\\yingyy\\Desktop\\New folder\",'all.csv'), index = False, header = None,encoding=\"utf-8\",sep=',')"
   ]
  },
  {
   "cell_type": "code",
   "execution_count": null,
   "metadata": {},
   "outputs": [],
   "source": [
    "df = df_UK.append(df_DE, ignore_index=True)\n",
    "df = df.append(df_JP, ignore_index=True)"
   ]
  },
  {
   "cell_type": "code",
   "execution_count": 6,
   "metadata": {},
   "outputs": [],
   "source": [
    "df.to_csv(os.path.join(r\"C:\\Users\\yingyy\\Desktop\\New folder\",'all.csv'), index = False, header = True,encoding=\"utf-8\",sep=' ')"
   ]
  },
  {
   "cell_type": "code",
   "execution_count": null,
   "metadata": {},
   "outputs": [],
   "source": [
    "df_xlsx = pd.DataFrame(columns = ['asin','marketplace'])"
   ]
  },
  {
   "cell_type": "code",
   "execution_count": null,
   "metadata": {},
   "outputs": [],
   "source": [
    "#merge folder and .txt\n",
    "for f in folders:\n",
    "    if f[-5:] == '.xlsx':\n",
    "        df = pd.read_excel(os.path.join(r\"C:\\Users\\yingyy\\Desktop\\New folder\",f))\n",
    "        df = df[[\"asin\",'marketplace']]\n",
    "        df_xlsx = df_xlsx.append(df, ignore_index=True)"
   ]
  },
  {
   "cell_type": "code",
   "execution_count": null,
   "metadata": {},
   "outputs": [],
   "source": [
    "df_xlsx.to_csv(os.path.join(r\"C:\\Users\\yingyy\\Desktop\\New folder\",'all1.txt'), index = False, header = None,encoding=\"utf-8\",sep=' ')"
   ]
  }
 ],
 "metadata": {
  "kernelspec": {
   "display_name": "Python 3",
   "language": "python",
   "name": "python3"
  },
  "language_info": {
   "codemirror_mode": {
    "name": "ipython",
    "version": 3
   },
   "file_extension": ".py",
   "mimetype": "text/x-python",
   "name": "python",
   "nbconvert_exporter": "python",
   "pygments_lexer": "ipython3",
   "version": "3.6.8"
  }
 },
 "nbformat": 4,
 "nbformat_minor": 2
}
