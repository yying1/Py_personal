{
 "cells": [
  {
   "cell_type": "code",
   "execution_count": 1,
   "metadata": {},
   "outputs": [],
   "source": [
    "import os\n",
    "import pandas as pd"
   ]
  },
  {
   "cell_type": "code",
   "execution_count": 2,
   "metadata": {},
   "outputs": [],
   "source": [
    "folders = os.listdir(r\"C:\\Users\\yingyy\\Desktop\\New folder\")"
   ]
  },
  {
   "cell_type": "code",
   "execution_count": null,
   "metadata": {},
   "outputs": [],
   "source": [
    "df_UK = pd.DataFrame(columns = ['ASIN'])\n",
    "df_JP = pd.DataFrame(columns = ['ASIN'])\n",
    "df_DE = pd.DataFrame(columns = ['ASIN'])"
   ]
  },
  {
   "cell_type": "code",
   "execution_count": null,
   "metadata": {},
   "outputs": [],
   "source": [
    "#merge folder and .txt\n",
    "for folder in folders:\n",
    "    files = os.listdir(os.path.join(r\"C:\\Users\\yingyy\\Desktop\\New folder\",folder))\n",
    "    for f in files:\n",
    "        if f[-4:] == '.txt' and 'yank' in f:\n",
    "            df = pd.read_csv(os.path.join(r\"C:\\Users\\yingyy\\Desktop\\New folder\",folder,f), header = None)\n",
    "            df.columns = [\"ASIN\"]\n",
    "            if f[:2] == 'UK':\n",
    "                df_UK = df_UK.append(df, ignore_index=True)\n",
    "            if f[:2] == 'JP':\n",
    "                df_JP = df_JP.append(df, ignore_index=True)\n",
    "            if f[:2] == 'DE':\n",
    "                df_DE = df_DE.append(df, ignore_index=True)"
   ]
  },
  {
   "cell_type": "code",
   "execution_count": null,
   "metadata": {},
   "outputs": [],
   "source": [
    "df_DE['ARC']='DE'\n",
    "df_JP['ARC']='JP'\n",
    "df_UK['ARC']='UK'"
   ]
  },
  {
   "cell_type": "code",
   "execution_count": null,
   "metadata": {},
   "outputs": [],
   "source": [
    "name = 1"
   ]
  },
  {
   "cell_type": "code",
   "execution_count": null,
   "metadata": {},
   "outputs": [],
   "source": [
    "for df in [df_DE,df_JP,df_UK]:\n",
    "    df.to_csv(os.path.join(r\"C:\\Users\\yingyy\\Desktop\\New folder\",str(name)+'.txt'), index = False, header = None,encoding=\"utf-8\",sep=' ')\n",
    "    name = name + 1"
   ]
  },
  {
   "cell_type": "code",
   "execution_count": null,
   "metadata": {},
   "outputs": [],
   "source": [
    "df = df_UK.append(df_DE, ignore_index=True)\n",
    "df = df.append(df_JP, ignore_index=True)"
   ]
  },
  {
   "cell_type": "code",
   "execution_count": null,
   "metadata": {},
   "outputs": [],
   "source": [
    "df.to_csv(os.path.join(r\"C:\\Users\\yingyy\\Desktop\\New folder\",'all.txt'), index = False, header = None,encoding=\"utf-8\",sep=' ')"
   ]
  },
  {
   "cell_type": "code",
   "execution_count": 3,
   "metadata": {},
   "outputs": [],
   "source": [
    "df_xlsx = pd.DataFrame(columns = ['asin','marketplace'])"
   ]
  },
  {
   "cell_type": "code",
   "execution_count": 4,
   "metadata": {},
   "outputs": [],
   "source": [
    "#merge folder and .txt\n",
    "for f in folders:\n",
    "    if f[-5:] == '.xlsx':\n",
    "        df = pd.read_excel(os.path.join(r\"C:\\Users\\yingyy\\Desktop\\New folder\",f))\n",
    "        df = df[[\"asin\",'marketplace']]\n",
    "        df_xlsx = df_xlsx.append(df, ignore_index=True)"
   ]
  },
  {
   "cell_type": "code",
   "execution_count": 6,
   "metadata": {},
   "outputs": [],
   "source": [
    "df_xlsx.to_csv(os.path.join(r\"C:\\Users\\yingyy\\Desktop\\New folder\",'all1.txt'), index = False, header = None,encoding=\"utf-8\",sep=' ')"
   ]
  }
 ],
 "metadata": {
  "kernelspec": {
   "display_name": "Python 3",
   "language": "python",
   "name": "python3"
  },
  "language_info": {
   "codemirror_mode": {
    "name": "ipython",
    "version": 3
   },
   "file_extension": ".py",
   "mimetype": "text/x-python",
   "name": "python",
   "nbconvert_exporter": "python",
   "pygments_lexer": "ipython3",
   "version": "3.6.8"
  }
 },
 "nbformat": 4,
 "nbformat_minor": 2
}
