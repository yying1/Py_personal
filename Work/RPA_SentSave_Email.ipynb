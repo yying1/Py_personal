{
 "cells": [
  {
   "cell_type": "code",
   "execution_count": 3,
   "metadata": {},
   "outputs": [],
   "source": [
    "import win32com.client as win32"
   ]
  },
  {
   "cell_type": "code",
   "execution_count": 4,
   "metadata": {},
   "outputs": [],
   "source": [
    "outlook = win32.Dispatch('outlook.application')"
   ]
  },
  {
   "cell_type": "code",
   "execution_count": 7,
   "metadata": {},
   "outputs": [],
   "source": [
    "##Change Task ID\n",
    "\n",
    "def send_email(task_info):\n",
    "    mail = outlook.CreateItem(0)\n",
    "    mail.To = 'rpa@amazon.com'\n",
    "    mail.Subject = 'AGS_RPA'\n",
    "    mail.Body = \"Hi, RPA\"+\"\\nThis is a job for AGS_RPA!\"+\"\\n\\nTask_ID:10;\"+\"\\nTask_Info:\"+str(task_info)+\";\"+\"\\n\\nBest regards,\"+\"\\nRBS AGS Team\"\n",
    "    mail.Send()"
   ]
  },
  {
   "cell_type": "code",
   "execution_count": 7,
   "metadata": {},
   "outputs": [],
   "source": [
    "##Change Task ID\n",
    "\n",
    "def save_email(task_info):\n",
    "    mail = outlook.CreateItem(0)\n",
    "    mail.To = 'rpa@amazon.com'\n",
    "    mail.Subject = 'AGS_RPA'\n",
    "    mail.Body = \"Hi, RPA\"+\"\\nThis is a job for AGS_RPA!\"+\"\\n\\nTask_ID:4;\"+\"\\nTask_Info:\"+str(task_info)+\";\"+\"\\n\\nBest regards,\"+\"\\nRBS AGS Team\"\n",
    "    mail.saveas(\"C:/Users/yingyy/Desktop/rpa_jupyter notebook/\"+task_info+\".msg\")"
   ]
  },
  {
   "cell_type": "code",
   "execution_count": null,
   "metadata": {},
   "outputs": [
    {
     "name": "stdout",
     "output_type": "stream",
     "text": [
      "Please enter task info without ; :\n",
      "2_DE_CN_12_N_WK29_(Overlap0717 weekly).txt\n"
     ]
    }
   ],
   "source": [
    "print(\"Please enter task info without \"+\";\"+\" :\")\n",
    "task_info = input()\n",
    "while task_info != \"\":\n",
    "    send_email(task_info)\n",
    "    task_info = input()"
   ]
  },
  {
   "cell_type": "code",
   "execution_count": 8,
   "metadata": {},
   "outputs": [],
   "source": [
    "## Use this for sending emails to multiple MPs\n",
    "task_info = \"_US2AU_Des_wk34\"\n",
    "start_index = 18\n",
    "end_index = 28\n",
    "\n",
    "for num in range(start_index,end_index+1):\n",
    "    email_task_info = str(num)+task_info\n",
    "    send_email(email_task_info)"
   ]
  },
  {
   "cell_type": "code",
   "execution_count": 8,
   "metadata": {},
   "outputs": [],
   "source": [
    "## Use this for sending emails to variation\n",
    "task_info = \"MX_\"\n",
    "start_index = 1\n",
    "end_index = 5\n",
    "\n",
    "for num in range(start_index,end_index+1):\n",
    "    email_task_info = task_info+str(num)\n",
    "    save_email(email_task_info)"
   ]
  }
 ],
 "metadata": {
  "kernelspec": {
   "display_name": "Python 3",
   "language": "python",
   "name": "python3"
  },
  "language_info": {
   "codemirror_mode": {
    "name": "ipython",
    "version": 3
   },
   "file_extension": ".py",
   "mimetype": "text/x-python",
   "name": "python",
   "nbconvert_exporter": "python",
   "pygments_lexer": "ipython3",
   "version": "3.6.8"
  }
 },
 "nbformat": 4,
 "nbformat_minor": 2
}
