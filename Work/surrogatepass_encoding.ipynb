{
 "cells": [
  {
   "cell_type": "code",
   "execution_count": 1,
   "metadata": {},
   "outputs": [],
   "source": [
    "import pandas as pd\n",
    "import os\n",
    "global df_input\n",
    "import numpy as np"
   ]
  },
  {
   "cell_type": "code",
   "execution_count": 22,
   "metadata": {},
   "outputs": [],
   "source": [
    "doc_name=str(\"SC_input_AE_0\")\n",
    "os.chdir(r'C:/Users/shifenb/Desktop/loc_ff/Seller_Central_Filler/')\n",
    "df_input = pd.read_excel(doc_name+\".xlsx\",skiprows=1,dtype='object')\n",
    "df_output = pd.read_excel(\"Template_AE.xlsx\",skiprows=4,dtype='object')\n",
    "header = pd.read_excel(\"Template_AE.xlsx\",nrows =3,dtype='object')"
   ]
  },
  {
   "cell_type": "code",
   "execution_count": 23,
   "metadata": {},
   "outputs": [],
   "source": [
    "dict = df_input.to_dict(orient='list')\n",
    "dict[\"asin.1\"] = dict[\"asin\"]\n",
    "col_list = df_output.columns.values.tolist()\n",
    "df = pd.DataFrame()\n",
    "for col in col_list:    \n",
    "    try:\n",
    "        df_add = pd.DataFrame({col:dict[col]})\n",
    "    except:\n",
    "        df_add = pd.DataFrame({col:[]})\n",
    "    df = df.merge(df_add,left_index = True, right_index = True, how=\"outer\")\n",
    "\n",
    "df[\"external_product_id_type\"] = \"ASIN\""
   ]
  },
  {
   "cell_type": "code",
   "execution_count": 24,
   "metadata": {},
   "outputs": [],
   "source": [
    "df[\"condition_type\"] = \"New\"\n",
    "df[\"update_delete\"] = \"PartialUpdate\"\n",
    "newcol=[]\n",
    "for unit in range(len(df.columns.tolist())):\n",
    "    newcol.append(str(unit))\n",
    "df.columns=newcol\n",
    "newhead=[]\n",
    "for each in range(len(header.columns.tolist())):\n",
    "    newhead.append(str(each))\n",
    "header.columns=newhead\n",
    "\n",
    "df_merged = pd.concat([header,df],axis=0,ignore_index=True)"
   ]
  },
  {
   "cell_type": "code",
   "execution_count": 33,
   "metadata": {},
   "outputs": [],
   "source": [
    "test = df_merged.apply(lambda x : x.str.encode('utf-16','surrogatepass'))"
   ]
  },
  {
   "cell_type": "code",
   "execution_count": 36,
   "metadata": {},
   "outputs": [],
   "source": [
    "test = test.apply(lambda x : x.str.decode('utf-16','surrogatepass'))"
   ]
  },
  {
   "cell_type": "code",
   "execution_count": 37,
   "metadata": {},
   "outputs": [],
   "source": [
    "test.to_excel(\"AE.xlsx\",index=None,header=None,sheet_name=\"Template\",encoding='utf8')"
   ]
  }
 ],
 "metadata": {
  "kernelspec": {
   "display_name": "Python 3",
   "language": "python",
   "name": "python3"
  },
  "language_info": {
   "codemirror_mode": {
    "name": "ipython",
    "version": 3
   },
   "file_extension": ".py",
   "mimetype": "text/x-python",
   "name": "python",
   "nbconvert_exporter": "python",
   "pygments_lexer": "ipython3",
   "version": "3.6.8"
  }
 },
 "nbformat": 4,
 "nbformat_minor": 2
}
