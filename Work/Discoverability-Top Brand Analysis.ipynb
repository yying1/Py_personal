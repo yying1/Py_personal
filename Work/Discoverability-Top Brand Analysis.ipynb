{
 "cells": [
  {
   "cell_type": "code",
   "execution_count": 1,
   "metadata": {},
   "outputs": [],
   "source": [
    "import os\n",
    "import pandas as pd\n",
    "import numpy as np\n",
    "from openpyxl import load_workbook"
   ]
  },
  {
   "cell_type": "markdown",
   "metadata": {},
   "source": [
    "## CN"
   ]
  },
  {
   "cell_type": "code",
   "execution_count": 6,
   "metadata": {},
   "outputs": [],
   "source": [
    "folder_path = \"C:\\\\Users\\\\yingyy\\\\Desktop\\\\Discoverability\\\\CN\""
   ]
  },
  {
   "cell_type": "code",
   "execution_count": 7,
   "metadata": {},
   "outputs": [],
   "source": [
    "result_df = []"
   ]
  },
  {
   "cell_type": "code",
   "execution_count": 8,
   "metadata": {},
   "outputs": [],
   "source": [
    "for f in os.listdir(folder_path):\n",
    "    f_path = os.path.join(folder_path,f)\n",
    "    df = pd.read_excel(f_path,sheet_name=\"Sheet1\")\n",
    "    result_df.append(df)"
   ]
  },
  {
   "cell_type": "code",
   "execution_count": 10,
   "metadata": {},
   "outputs": [],
   "source": [
    "result= pd.concat(result_df)"
   ]
  },
  {
   "cell_type": "code",
   "execution_count": 14,
   "metadata": {},
   "outputs": [
    {
     "data": {
      "text/html": [
       "<div>\n",
       "<style scoped>\n",
       "    .dataframe tbody tr th:only-of-type {\n",
       "        vertical-align: middle;\n",
       "    }\n",
       "\n",
       "    .dataframe tbody tr th {\n",
       "        vertical-align: top;\n",
       "    }\n",
       "\n",
       "    .dataframe thead th {\n",
       "        text-align: right;\n",
       "    }\n",
       "</style>\n",
       "<table border=\"1\" class=\"dataframe\">\n",
       "  <thead>\n",
       "    <tr style=\"text-align: right;\">\n",
       "      <th></th>\n",
       "      <th>gs_arc</th>\n",
       "      <th>ASIN</th>\n",
       "      <th>gl_desc</th>\n",
       "      <th>target_gv_band</th>\n",
       "      <th>target_glance_view_count</th>\n",
       "      <th>target_impression_count</th>\n",
       "      <th>gv/impression</th>\n",
       "      <th>specific</th>\n",
       "      <th>specific (Node ID)</th>\n",
       "      <th>brand</th>\n",
       "      <th>imp_rank</th>\n",
       "      <th>gv_imp_rank</th>\n",
       "      <th>rank</th>\n",
       "    </tr>\n",
       "  </thead>\n",
       "  <tbody>\n",
       "    <tr>\n",
       "      <th>0</th>\n",
       "      <td>DE-CN</td>\n",
       "      <td>B086R5Z41S</td>\n",
       "      <td>Wireless</td>\n",
       "      <td>E</td>\n",
       "      <td>11</td>\n",
       "      <td>162</td>\n",
       "      <td>0.067901</td>\n",
       "      <td>Cross/Self Service/Special Features Stores/par...</td>\n",
       "      <td>2129028071;1904552071;139706071;1809018071;187...</td>\n",
       "      <td>小米</td>\n",
       "      <td>112</td>\n",
       "      <td>136</td>\n",
       "      <td>248</td>\n",
       "    </tr>\n",
       "    <tr>\n",
       "      <th>1</th>\n",
       "      <td>DE-CN</td>\n",
       "      <td>B087MRJRL7</td>\n",
       "      <td>Wireless</td>\n",
       "      <td>E</td>\n",
       "      <td>7</td>\n",
       "      <td>282</td>\n",
       "      <td>0.024823</td>\n",
       "      <td>Cross/Self Service/Special Features Stores/par...</td>\n",
       "      <td>2129028071;1904552071;139706071;1809018071;187...</td>\n",
       "      <td>小米</td>\n",
       "      <td>139</td>\n",
       "      <td>59</td>\n",
       "      <td>198</td>\n",
       "    </tr>\n",
       "    <tr>\n",
       "      <th>2</th>\n",
       "      <td>DE-CN</td>\n",
       "      <td>B0885Z1PKP</td>\n",
       "      <td>Wireless</td>\n",
       "      <td>E</td>\n",
       "      <td>3</td>\n",
       "      <td>198</td>\n",
       "      <td>0.015152</td>\n",
       "      <td>Cross/Self Service/Special Features Stores/par...</td>\n",
       "      <td>2129028071;153985071;1904552071;139706071;1809...</td>\n",
       "      <td>小米</td>\n",
       "      <td>118</td>\n",
       "      <td>39</td>\n",
       "      <td>157</td>\n",
       "    </tr>\n",
       "    <tr>\n",
       "      <th>3</th>\n",
       "      <td>DE-CN</td>\n",
       "      <td>B08B99D7FJ</td>\n",
       "      <td>Wireless</td>\n",
       "      <td>D</td>\n",
       "      <td>160</td>\n",
       "      <td>1063</td>\n",
       "      <td>0.150517</td>\n",
       "      <td>Refinements/cn-home/颜色/蓝色 (2051210051);Cross/S...</td>\n",
       "      <td>2051210051;1904552071;1758245071;139706071;180...</td>\n",
       "      <td>小米</td>\n",
       "      <td>216</td>\n",
       "      <td>216</td>\n",
       "      <td>432</td>\n",
       "    </tr>\n",
       "    <tr>\n",
       "      <th>4</th>\n",
       "      <td>DE-CN</td>\n",
       "      <td>B08B9BD523</td>\n",
       "      <td>Wireless</td>\n",
       "      <td>D</td>\n",
       "      <td>127</td>\n",
       "      <td>2308</td>\n",
       "      <td>0.055026</td>\n",
       "      <td>Refinements/cn-home/颜色/蓝色 (2051210051);Cross/S...</td>\n",
       "      <td>2051210051;1904552071;1758245071;139706071;180...</td>\n",
       "      <td>小米</td>\n",
       "      <td>310</td>\n",
       "      <td>112</td>\n",
       "      <td>422</td>\n",
       "    </tr>\n",
       "  </tbody>\n",
       "</table>\n",
       "</div>"
      ],
      "text/plain": [
       "  gs_arc        ASIN   gl_desc target_gv_band  target_glance_view_count  \\\n",
       "0  DE-CN  B086R5Z41S  Wireless              E                        11   \n",
       "1  DE-CN  B087MRJRL7  Wireless              E                         7   \n",
       "2  DE-CN  B0885Z1PKP  Wireless              E                         3   \n",
       "3  DE-CN  B08B99D7FJ  Wireless              D                       160   \n",
       "4  DE-CN  B08B9BD523  Wireless              D                       127   \n",
       "\n",
       "   target_impression_count  gv/impression  \\\n",
       "0                      162       0.067901   \n",
       "1                      282       0.024823   \n",
       "2                      198       0.015152   \n",
       "3                     1063       0.150517   \n",
       "4                     2308       0.055026   \n",
       "\n",
       "                                            specific  \\\n",
       "0  Cross/Self Service/Special Features Stores/par...   \n",
       "1  Cross/Self Service/Special Features Stores/par...   \n",
       "2  Cross/Self Service/Special Features Stores/par...   \n",
       "3  Refinements/cn-home/颜色/蓝色 (2051210051);Cross/S...   \n",
       "4  Refinements/cn-home/颜色/蓝色 (2051210051);Cross/S...   \n",
       "\n",
       "                                  specific (Node ID) brand  imp_rank  \\\n",
       "0  2129028071;1904552071;139706071;1809018071;187...    小米       112   \n",
       "1  2129028071;1904552071;139706071;1809018071;187...    小米       139   \n",
       "2  2129028071;153985071;1904552071;139706071;1809...    小米       118   \n",
       "3  2051210051;1904552071;1758245071;139706071;180...    小米       216   \n",
       "4  2051210051;1904552071;1758245071;139706071;180...    小米       310   \n",
       "\n",
       "   gv_imp_rank  rank  \n",
       "0          136   248  \n",
       "1           59   198  \n",
       "2           39   157  \n",
       "3          216   432  \n",
       "4          112   422  "
      ]
     },
     "execution_count": 14,
     "metadata": {},
     "output_type": "execute_result"
    }
   ],
   "source": [
    "result.head()"
   ]
  },
  {
   "cell_type": "code",
   "execution_count": 18,
   "metadata": {},
   "outputs": [],
   "source": [
    "#create np percentile function for agg\n",
    "def percentile(n):\n",
    "    def percentile_(x):\n",
    "        return np.percentile(x, n,interpolation = 'midpoint')\n",
    "    percentile_.__name__ = 'percentile_%s' % n\n",
    "    return percentile_"
   ]
  },
  {
   "cell_type": "code",
   "execution_count": 19,
   "metadata": {},
   "outputs": [],
   "source": [
    "result_1 = result.reset_index().groupby(['gl_desc','brand'])['target_glance_view_count'].agg({np.mean,np.size,np.min,np.max,np.median,np.var,percentile(25),percentile(75)}).rename(columns={np.mean:'gv_average',np.size:'size',np.min:'gv_min',np.max:'gv_max',np.median:'gv_median',np.var:'variance',percentile(25):'25%',percentile(75):'75%'})"
   ]
  },
  {
   "cell_type": "code",
   "execution_count": 21,
   "metadata": {},
   "outputs": [],
   "source": [
    "result_1.reset_index().to_excel('result_1.xlsx', encoding = 'utf-8')"
   ]
  },
  {
   "cell_type": "markdown",
   "metadata": {},
   "source": [
    "## Other MPs"
   ]
  },
  {
   "cell_type": "code",
   "execution_count": 2,
   "metadata": {},
   "outputs": [],
   "source": [
    "MPs = ['CN','AU','DE','SG','UK','AE','SA']"
   ]
  },
  {
   "cell_type": "code",
   "execution_count": 8,
   "metadata": {},
   "outputs": [],
   "source": [
    "MPs = ['AE','SA']"
   ]
  },
  {
   "cell_type": "code",
   "execution_count": 3,
   "metadata": {},
   "outputs": [],
   "source": [
    "bins = [0,50,100,200,500,1000,2000,5000,10000,20000,50000,100000,200000,500000]"
   ]
  },
  {
   "cell_type": "code",
   "execution_count": 7,
   "metadata": {},
   "outputs": [],
   "source": [
    "ExcelWorkbook = load_workbook(r\"C:\\Users\\yingyy\\Desktop\\Discoverability\\Brand_Analysis.xlsx\")\n",
    "writer = pd.ExcelWriter(r\"C:\\Users\\yingyy\\Desktop\\Discoverability\\Brand_Analysis.xlsx\", engine = 'openpyxl')\n",
    "writer.book = ExcelWorkbook"
   ]
  },
  {
   "cell_type": "code",
   "execution_count": 9,
   "metadata": {},
   "outputs": [],
   "source": [
    "for mp in MPs:\n",
    "    file_path = \"C:\\\\Users\\\\yingyy\\\\Desktop\\\\Discoverability\\\\Raw_Data\\\\US-\"+mp+\"_sort_asin.xlsx\"\n",
    "    df = pd.read_excel(file_path,sheet_name=\"Sheet1\")\n",
    "    df_brand = pd.read_excel(r\"C:\\Users\\yingyy\\Desktop\\Discoverability\\Top Brands by 2020 GV.xlsx\",sheet_name= mp)\n",
    "    result_1 = df.reset_index().groupby(['gl_desc','brand'])['target_glance_view_count'].agg({np.mean,np.size,np.min,np.max,np.median,np.var}).rename(columns={np.mean:'gv_average',np.size:'size',np.min:'gv_min',np.max:'gv_max',np.median:'gv_median',np.var:'variance'})\n",
    "    result_1 = result_1.reset_index()\n",
    "    result_1['brand'] = result_1['brand'].astype(str)\n",
    "    df_brand['Brand'] = df_brand['Brand'].astype(str)\n",
    "    result = pd.merge(result_1,df_brand,left_on = 'brand', right_on = 'Brand',how='left')\n",
    "    result.to_excel(writer, sheet_name = mp)\n",
    "    result_2 = result[result['size']>=10]\n",
    "    with open (r\"C:\\Users\\yingyy\\Desktop\\Discoverability\\New Text Document.txt\",'a') as file:\n",
    "        file.write(mp+\":\"+str(len(pd.unique(result_2['Brand']))))\n",
    "    result_2 = result_2[['Brand','Rank']].drop_duplicates()\n",
    "    result_2['Rank_binned'] = pd.cut(result_2['Rank'],bins)\n",
    "    result_2['Rank_binned'].value_counts(normalize= False,sort = False).to_excel(writer, sheet_name = mp+'_BrandRank')"
   ]
  },
  {
   "cell_type": "code",
   "execution_count": 10,
   "metadata": {},
   "outputs": [],
   "source": [
    "writer.save()\n",
    "writer.close()"
   ]
  },
  {
   "cell_type": "code",
   "execution_count": 23,
   "metadata": {},
   "outputs": [],
   "source": [
    "result.to_excel(r\"C:\\Users\\yingyy\\Desktop\\Discoverability\\Brand_Analysis.xlsx\", sheet_name = 'CN')"
   ]
  },
  {
   "cell_type": "code",
   "execution_count": 29,
   "metadata": {},
   "outputs": [],
   "source": []
  },
  {
   "cell_type": "code",
   "execution_count": 36,
   "metadata": {},
   "outputs": [],
   "source": [
    "result_2 = result[result['size']>=10]\n",
    "result_2 = result_2[['Brand','Rank']].drop_duplicates()"
   ]
  },
  {
   "cell_type": "code",
   "execution_count": 37,
   "metadata": {},
   "outputs": [],
   "source": [
    "result_2['size_binned'] = pd.cut(result_2['Rank'],bins)"
   ]
  },
  {
   "cell_type": "code",
   "execution_count": 39,
   "metadata": {},
   "outputs": [],
   "source": [
    "result_2[\"size_binned\"].value_counts(normalize= False,sort = False).to_excel(r\"C:\\Users\\yingyy\\Desktop\\Discoverability\\Brand_Analysis.xlsx\", sheet_name = 'CN_Brank')"
   ]
  }
 ],
 "metadata": {
  "kernelspec": {
   "display_name": "Python 3",
   "language": "python",
   "name": "python3"
  },
  "language_info": {
   "codemirror_mode": {
    "name": "ipython",
    "version": 3
   },
   "file_extension": ".py",
   "mimetype": "text/x-python",
   "name": "python",
   "nbconvert_exporter": "python",
   "pygments_lexer": "ipython3",
   "version": "3.6.8"
  }
 },
 "nbformat": 4,
 "nbformat_minor": 2
}
