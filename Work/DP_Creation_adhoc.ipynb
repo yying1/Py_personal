{
 "cells": [
  {
   "cell_type": "code",
   "execution_count": 2,
   "metadata": {},
   "outputs": [],
   "source": [
    "import re"
   ]
  },
  {
   "cell_type": "code",
   "execution_count": 12,
   "metadata": {},
   "outputs": [],
   "source": [
    "des = '<div class=\"aplus\"><p>The polyester mesh sheet has an opaque off-white color. s ability to absorb energy before breaking, while hardness (commonly measured as indentation hardness) describes its resistance to permanent surface deformation. Impact resistance is the measure of a material’s ability to absorb a shock of energy before breaking.</p></div>'"
   ]
  },
  {
   "cell_type": "code",
   "execution_count": 13,
   "metadata": {},
   "outputs": [
    {
     "data": {
      "text/plain": [
       "'<div class=\"aplus\"><p>The polyester mesh sheet has an opaque off-white color. s ability to absorb energy before breaking, while hardness (commonly measured as indentation hardness) describes its resistance to permanent surface deformation. Impact resistance is the measure of a material’s ability to absorb a shock of energy before breaking.</p></div>'"
      ]
     },
     "execution_count": 13,
     "metadata": {},
     "output_type": "execute_result"
    }
   ],
   "source": [
    "des"
   ]
  },
  {
   "cell_type": "code",
   "execution_count": 14,
   "metadata": {},
   "outputs": [],
   "source": [
    "def pd_html_process (pd):\n",
    "    if len(str(pd)) > 0:\n",
    "        pd = str(pd)\n",
    "        # use tis to replace specific <> to (br)\n",
    "        for replacement in (\"<p>\",\"<p/>\",\"<br>\",\"<br/>\"):\n",
    "            pd = pd.replace(replacement,\"(br)\")\n",
    "        # use this to remove other <> to space\n",
    "        batRegex = re.compile(r'(<[^>]*>)')\n",
    "        pd = re.sub(batRegex,' ', pd)\n",
    "        # use this convert (br) back to <br>\n",
    "        pd = pd.replace(\"(br)\",\"<br>\")\n",
    "        # reduce mutiple whitespaces to single space\n",
    "        pd = re.sub(' +',' ',pd)\n",
    "    else:\n",
    "        pd = ''\n",
    "    return pd.strip()"
   ]
  },
  {
   "cell_type": "code",
   "execution_count": 15,
   "metadata": {},
   "outputs": [],
   "source": [
    "des = pd_html_process(des)"
   ]
  },
  {
   "cell_type": "code",
   "execution_count": 16,
   "metadata": {},
   "outputs": [
    {
     "data": {
      "text/plain": [
       "'<br>The polyester mesh sheet has an opaque off-white color. s ability to absorb energy before breaking, while hardness (commonly measured as indentation hardness) describes its resistance to permanent surface deformation. Impact resistance is the measure of a material’s ability to absorb a shock of energy before breaking.'"
      ]
     },
     "execution_count": 16,
     "metadata": {},
     "output_type": "execute_result"
    }
   ],
   "source": [
    "des"
   ]
  },
  {
   "cell_type": "code",
   "execution_count": 22,
   "metadata": {},
   "outputs": [],
   "source": [
    "def pd_keyword_cut(input,length,last_index):\n",
    "    input = str(input)\n",
    "    last_index = str(last_index)\n",
    "    length = int(length)\n",
    "    # cut string to length\n",
    "    if len(input) > length:\n",
    "        input = input[0:length]\n",
    "        # cut string to last index\n",
    "        if input.rfind(last_index) != -1:\n",
    "            input = input[0:input.rindex(last_index)+1]\n",
    "    return input"
   ]
  },
  {
   "cell_type": "code",
   "execution_count": 23,
   "metadata": {},
   "outputs": [
    {
     "data": {
      "text/plain": [
       "'<br> Great appreciation gift on any gift-giving occasion! <br>Our beautiful multi-purpose journal is perfect for writing down great ideas, journaling, staying organized, drawing, sketching, doodling, recording memories or just simply being creative.'"
      ]
     },
     "execution_count": 23,
     "metadata": {},
     "output_type": "execute_result"
    }
   ],
   "source": [
    "pd_keyword_cut(des,300,'.')"
   ]
  },
  {
   "cell_type": "code",
   "execution_count": null,
   "metadata": {},
   "outputs": [],
   "source": []
  }
 ],
 "metadata": {
  "kernelspec": {
   "display_name": "Python 3",
   "language": "python",
   "name": "python3"
  },
  "language_info": {
   "codemirror_mode": {
    "name": "ipython",
    "version": 3
   },
   "file_extension": ".py",
   "mimetype": "text/x-python",
   "name": "python",
   "nbconvert_exporter": "python",
   "pygments_lexer": "ipython3",
   "version": "3.6.8"
  }
 },
 "nbformat": 4,
 "nbformat_minor": 2
}
