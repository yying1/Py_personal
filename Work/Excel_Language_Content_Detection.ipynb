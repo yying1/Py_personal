{
 "cells": [
  {
   "cell_type": "code",
   "execution_count": 1,
   "metadata": {},
   "outputs": [],
   "source": [
    "from langdetect import detect\n",
    "from langdetect import detect_langs\n",
    "import pandas as pd\n",
    "import re"
   ]
  },
  {
   "cell_type": "code",
   "execution_count": 2,
   "metadata": {},
   "outputs": [
    {
     "name": "stdout",
     "output_type": "stream",
     "text": [
      "zh-cn\n",
      "en\n",
      "no\n",
      "[et:0.714221760031466, no:0.1429596072397849, lt:0.1428186326532752]\n"
     ]
    }
   ],
   "source": [
    "s1 = \"本篇博客主要介绍两款语言探测工具，用于区分文本到底是什么语言，\"\n",
    "s2 = 'We are pleased to introduce today a new technology – Record Matching –that automatically finds relevant historical records for every family tree on MyHerit'\n",
    "s3 = \"Javigator：Java代码导读及分析管理工具的设计\"\n",
    "\n",
    "print(detect(s1))\n",
    "print(detect(s2))\n",
    "print(detect(s3))     # detect()输出探测出的语言类型\n",
    "print(detect_langs(s3))"
   ]
  },
  {
   "cell_type": "code",
   "execution_count": 2,
   "metadata": {},
   "outputs": [],
   "source": [
    "df = pd.read_excel(r\"C:\\Users\\yingyy\\Desktop\\DE2TR_Description.xlsx\")"
   ]
  },
  {
   "cell_type": "code",
   "execution_count": 3,
   "metadata": {},
   "outputs": [
    {
     "data": {
      "text/plain": [
       "<bound method NDFrame.head of             ASIN                rtip_product_description.value (DE)  \\\n",
       "0     B001100K4E  Minimizer Body von der Marke Naturana  Naturan...   \n",
       "1     B002KIS1L0  - Panty aus feinster Mikrofaser mit Elasthanan...   \n",
       "2     B002HREDRU  Playtex klassische Cross Your Heart Soft-BH St...   \n",
       "3     B004S7PP4C  Die beliebtesten Selling Fruit of the Loom Pol...   \n",
       "4     B00I95ZM0Q  Collection:Printemps/Ã‰tÃ©Genre:HommeType:T-sh...   \n",
       "...          ...                                                ...   \n",
       "9013  B08GLZX92N  TOM TAILOR Die Modemarke wurde im Jahr 1962 in...   \n",
       "9014  B08NCT1W33  ÃœBER ESPRIT GeprÃ¤gt vom Zeitgeist des GrÃ¼nd...   \n",
       "9015  B001BLB14Q  Seidensticker Business Herren HemdSeidensticke...   \n",
       "9016  B001BWZJTS  Dieser edle Wollstrumpf verwÃ¶hnt durch hochwe...   \n",
       "9017  B004FYXWSO  Seidensticker Business Herren HemdSchlichte El...   \n",
       "\n",
       "                    rtip_product_description.value (TR)  \n",
       "0     Naturana Body Minimizer marka minimizer Body M...  \n",
       "1     - Elastan oranlı en iyi mikrofiber külot, iğne...  \n",
       "2     Playtex Klasik Çapraz Your Heart Yumuşak Sütye...  \n",
       "3     En sevilen Selling Fruit of the Loom polo tişö...  \n",
       "4     Koleksiyon:Printemps/ÉtéTür: HommeTür: Tişörtl...  \n",
       "...                                                 ...  \n",
       "9013  Tom Tailor Moda markası 1962 yılında Hamburg'd...  \n",
       "9014  Esprit 1968 yılında kurulan yılın ruhu üzerine...  \n",
       "9015  İpek sticker iş erkek gömleği ipek çıkartmalar...  \n",
       "9016  Bu asil yün çorap yüksek kaliteli merinos yünü...  \n",
       "9017  İpek sticker iş erkek gömleği Sade şıklık en i...  \n",
       "\n",
       "[9018 rows x 3 columns]>"
      ]
     },
     "execution_count": 3,
     "metadata": {},
     "output_type": "execute_result"
    }
   ],
   "source": [
    "df.head"
   ]
  },
  {
   "cell_type": "code",
   "execution_count": 4,
   "metadata": {},
   "outputs": [],
   "source": [
    "df['original_type'] = ''\n",
    "df['saar_type'] = ''"
   ]
  },
  {
   "cell_type": "code",
   "execution_count": 5,
   "metadata": {},
   "outputs": [],
   "source": [
    "for index, row in df.iterrows(): \n",
    "    try:\n",
    "        row[1].value = re.sub('^[=/-]+', '', row[1].value)\n",
    "        row[2].value = re.sub('^[=/-]+', '', row[2].value)\n",
    "    except:\n",
    "        pass"
   ]
  },
  {
   "cell_type": "code",
   "execution_count": 6,
   "metadata": {},
   "outputs": [],
   "source": [
    "for index, row in df.iterrows(): \n",
    "    try:\n",
    "        if row[1].strip() != '':\n",
    "            row['original_type'] = detect_langs(row[1].strip())\n",
    "    except:\n",
    "        row['original_type'] = 'Error'\n",
    "        \n",
    "    try:\n",
    "        if row[2].strip() != '':\n",
    "            row['saar_type'] = detect_langs(row[2].strip())\n",
    "    except:\n",
    "        row['saar_type'] = 'Error'"
   ]
  },
  {
   "cell_type": "code",
   "execution_count": 7,
   "metadata": {},
   "outputs": [],
   "source": [
    "df.to_excel(r\"C:\\Users\\yingyy\\Desktop\\DE2TR_Description_result.xlsx\",encoding=\"utf-8\",index = False)"
   ]
  }
 ],
 "metadata": {
  "kernelspec": {
   "display_name": "Python 3",
   "language": "python",
   "name": "python3"
  },
  "language_info": {
   "codemirror_mode": {
    "name": "ipython",
    "version": 3
   },
   "file_extension": ".py",
   "mimetype": "text/x-python",
   "name": "python",
   "nbconvert_exporter": "python",
   "pygments_lexer": "ipython3",
   "version": "3.6.8"
  }
 },
 "nbformat": 4,
 "nbformat_minor": 2
}
