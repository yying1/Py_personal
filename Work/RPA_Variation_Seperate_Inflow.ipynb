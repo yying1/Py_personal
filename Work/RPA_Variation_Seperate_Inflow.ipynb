{
 "cells": [
  {
   "cell_type": "code",
   "execution_count": 1,
   "metadata": {},
   "outputs": [],
   "source": [
    "import pandas as pd\n",
    "import numpy as np"
   ]
  },
  {
   "cell_type": "code",
   "execution_count": 3,
   "metadata": {},
   "outputs": [],
   "source": [
    "raw = pd.read_excel(\"MX_Orphan_RPA_20201212_Shoes.xlsx\")"
   ]
  },
  {
   "cell_type": "code",
   "execution_count": 4,
   "metadata": {},
   "outputs": [
    {
     "data": {
      "text/plain": [
       "<bound method NDFrame.head of        orphan_asin source_mp source_parent_asin    cn_pasin\n",
       "0       B0001KX7YU        US         B0053EY130  B00DEPTL80\n",
       "1       B0001KX7ZY        US         B0053EY130  B00DEPTL80\n",
       "2       B00024QNNM        US         B01M1CFEEH  B01M1CFEEH\n",
       "3       B00024QNPU        US         B01M1CFEEH  B01M1CFEEH\n",
       "4       B00024QNRI        US         B01M1CFEEH  B01M1CFEEH\n",
       "...            ...       ...                ...         ...\n",
       "312509  B08P6756PC        US         B08P7BYB8G  B08P7BYB8G\n",
       "312510  B08P677NKL        US         B08BM88CV1  B07YP6MLRK\n",
       "312511  B08P68GFDC        US         B08BM88CV1  B07YP6MLRK\n",
       "312512  B08P68GJYB        US         B08BM88CV1  B07YP6MLRK\n",
       "312513  B08P698V5S        US         B08BM88CV1  B07YP6MLRK\n",
       "\n",
       "[312514 rows x 4 columns]>"
      ]
     },
     "execution_count": 4,
     "metadata": {},
     "output_type": "execute_result"
    }
   ],
   "source": [
    "raw.head"
   ]
  },
  {
   "cell_type": "code",
   "execution_count": 10,
   "metadata": {},
   "outputs": [],
   "source": [
    "count_s = 1\n",
    "count_e = 5\n",
    "file_start_number = 21"
   ]
  },
  {
   "cell_type": "code",
   "execution_count": 11,
   "metadata": {},
   "outputs": [],
   "source": [
    "for i in range(count_s,count_e+1): #inclusive of count_s but not count_e+1\n",
    "    end = raw.index[raw[\"File\"] == i]\n",
    "    if i == 1:\n",
    "        beginning = [-1] #if its from the beginning, then starting from first row\n",
    "    else:\n",
    "        beginning = raw.index[raw[\"File\"] == i-1]\n",
    "    df = raw.iloc[(beginning[0]+1):end[0]+1,0:4]\n",
    "    df.to_excel(\"C:/Users/yingyy/Desktop/MX_\"+str(file_start_number)+ \".xlsx\", index = None)\n",
    "    file_start_number +=1"
   ]
  },
  {
   "cell_type": "code",
   "execution_count": 41,
   "metadata": {},
   "outputs": [],
   "source": [
    "#end = raw.index[raw[\"File\"] == 24]\n",
    "#beginning = raw.index[raw[\"File\"] == 23]\n",
    "#raw.iloc[(beginning[0]+1):end[0]+1,0:4]"
   ]
  },
  {
   "cell_type": "code",
   "execution_count": 5,
   "metadata": {},
   "outputs": [],
   "source": [
    "def split_excel_file(File_Address, split_rows, Output_Address):\n",
    "\n",
    "    import pandas as pd\n",
    "    df = pd.read_excel(File_Address)\n",
    "\n",
    "    if len(df)%split_rows == 0:\n",
    "        split_count=int(len(df)/split_rows)\n",
    "    else:\n",
    "        split_count=int(len(df)/split_rows)+1\n",
    "\n",
    "    start_index = 0\n",
    "    count_start = 1394\n",
    "    for count in range(split_count) :\n",
    "        df_split = df.iloc[start_index:(start_index+split_rows)]\n",
    "        start_index = start_index+split_rows\n",
    "        df_split.to_excel(Output_Address+'/'+str(count_start)+ \".xlsx\", index = None)\n",
    "        count_start+=1\n",
    "    return split_count"
   ]
  },
  {
   "cell_type": "code",
   "execution_count": 5,
   "metadata": {},
   "outputs": [],
   "source": [
    "#MX\n",
    "def split_excel_file(File_Address, split_rows, Output_Address):\n",
    "\n",
    "    import pandas as pd\n",
    "    df = pd.read_excel(File_Address)\n",
    "\n",
    "    if len(df)%split_rows == 0:\n",
    "        split_count=int(len(df)/split_rows)\n",
    "    else:\n",
    "        split_count=int(len(df)/split_rows)+1\n",
    "\n",
    "    start_index = 0\n",
    "    count_start = 1\n",
    "    for count in range(split_count) :\n",
    "        df_split = df.iloc[start_index:(start_index+split_rows)]\n",
    "        start_index = start_index+split_rows\n",
    "        df_split.to_excel(Output_Address+'/MX_'+str(count_start)+ \".xlsx\", index = None)\n",
    "        count_start+=1\n",
    "    return split_count"
   ]
  },
  {
   "cell_type": "code",
   "execution_count": 6,
   "metadata": {},
   "outputs": [
    {
     "data": {
      "text/plain": [
       "157"
      ]
     },
     "execution_count": 6,
     "metadata": {},
     "output_type": "execute_result"
    }
   ],
   "source": [
    "split_excel_file(\"MX_Orphan_RPA_20201212_Shoes.xlsx\",2000,\"C:/Users/yingyy/Desktop/rpa_jupyter notebook\")"
   ]
  }
 ],
 "metadata": {
  "kernelspec": {
   "display_name": "Python 3",
   "language": "python",
   "name": "python3"
  },
  "language_info": {
   "codemirror_mode": {
    "name": "ipython",
    "version": 3
   },
   "file_extension": ".py",
   "mimetype": "text/x-python",
   "name": "python",
   "nbconvert_exporter": "python",
   "pygments_lexer": "ipython3",
   "version": "3.6.8"
  }
 },
 "nbformat": 4,
 "nbformat_minor": 2
}
