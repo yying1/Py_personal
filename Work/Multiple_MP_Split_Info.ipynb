{
 "cells": [
  {
   "cell_type": "code",
   "execution_count": 1,
   "metadata": {},
   "outputs": [],
   "source": [
    "import pandas as pd\n",
    "import numpy as np"
   ]
  },
  {
   "cell_type": "code",
   "execution_count": 38,
   "metadata": {},
   "outputs": [],
   "source": [
    "raw = pd.read_csv(r\"C:\\Users\\yingyy\\Desktop\\us2au_Description_wk34.txt\")"
   ]
  },
  {
   "cell_type": "code",
   "execution_count": 39,
   "metadata": {},
   "outputs": [],
   "source": [
    "split_count = int(len(raw)/50000)+1"
   ]
  },
  {
   "cell_type": "code",
   "execution_count": 40,
   "metadata": {},
   "outputs": [],
   "source": [
    "file_start = 18\n",
    "start_index = 0\n",
    "taskinfo = \"_US2AU_Des_wk34\""
   ]
  },
  {
   "cell_type": "code",
   "execution_count": 41,
   "metadata": {},
   "outputs": [
    {
     "data": {
      "text/plain": [
       "532568"
      ]
     },
     "execution_count": 41,
     "metadata": {},
     "output_type": "execute_result"
    }
   ],
   "source": [
    "len(raw)"
   ]
  },
  {
   "cell_type": "code",
   "execution_count": 42,
   "metadata": {},
   "outputs": [
    {
     "name": "stdout",
     "output_type": "stream",
     "text": [
      "0 0 50000\n",
      "50000 1 100000\n",
      "100000 2 150000\n",
      "150000 3 200000\n",
      "200000 4 250000\n",
      "250000 5 300000\n",
      "300000 6 350000\n",
      "350000 7 400000\n",
      "400000 8 450000\n",
      "450000 9 500000\n",
      "500000 10 550000\n"
     ]
    }
   ],
   "source": [
    "for count in range(split_count) :\n",
    "    end_index = start_index + 50000\n",
    "    if count == split_count-1:\n",
    "         end_index = len(raw)-1\n",
    "    df_split = raw.iloc[start_index:end_index,0]\n",
    "    df_split.to_csv(str(file_start)+taskinfo+\".txt\", header = False, index = False)\n",
    "    file_start = file_start+1\n",
    "    start_index = start_index + 50000"
   ]
  }
 ],
 "metadata": {
  "kernelspec": {
   "display_name": "Python 3",
   "language": "python",
   "name": "python3"
  },
  "language_info": {
   "codemirror_mode": {
    "name": "ipython",
    "version": 3
   },
   "file_extension": ".py",
   "mimetype": "text/x-python",
   "name": "python",
   "nbconvert_exporter": "python",
   "pygments_lexer": "ipython3",
   "version": "3.6.8"
  }
 },
 "nbformat": 4,
 "nbformat_minor": 2
}
