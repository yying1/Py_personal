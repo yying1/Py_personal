{
 "cells": [
  {
   "cell_type": "code",
   "execution_count": 32,
   "metadata": {},
   "outputs": [],
   "source": [
    "import json\n",
    "import time\n",
    "import os\n",
    "import shutil\n",
    "import re\n",
    "from datetime import datetime\n",
    "from selenium import webdriver\n",
    "# from selenium.webdriver.common.keys import Keys\n",
    "from selenium.webdriver.chrome.options import Options\n",
    "from selenium.webdriver.common.by import By\n",
    "from selenium.webdriver.support.wait import WebDriverWait\n",
    "from selenium.webdriver.support import expected_conditions as EC\n",
    "from selenium.common.exceptions import NoSuchElementException"
   ]
  },
  {
   "cell_type": "code",
   "execution_count": 33,
   "metadata": {},
   "outputs": [],
   "source": [
    "class chrome_driver(object):\n",
    "        def __init__(self):\n",
    "            chrome_options = Options()\n",
    "            chrome_options.add_argument('disable-infobars')\n",
    "            chrome_path = os.environ['USERPROFILE'] + r'\\AppData\\Local\\Google\\Chrome\\User Data\\Default'\n",
    "            chrome_options.add_argument(\"user-data-dir=\" + chrome_path)\n",
    "            self.driver = webdriver.Chrome(options=chrome_options)\n",
    "            self.wait = WebDriverWait(self.driver, 10)\n",
    "        def get_url(self,url):\n",
    "            self.driver.get(url)\n",
    "            while 'midway' in self.driver.current_url:\n",
    "                time.sleep(20)\n",
    "        def wait_click(self,element_id):\n",
    "            self.wait.until(EC.element_to_be_clickable((By.ID, element_id)))\n",
    "        def clickable_click(self,xpath):\n",
    "            self.wait.until(EC.element_to_be_clickable((By.XPATH, xpath))).click()\n",
    "        def clickable_click_by_id(self,element_id):\n",
    "            self.wait.until(EC.element_to_be_clickable((By.ID, element_id))).click()\n",
    "        def wait_until_located(self,xpath):\n",
    "            item = self.wait.until(EC.presence_of_element_located((By.XPATH, xpath)))\n",
    "            return item\n",
    "        def wait_until_all_located(self,xpath):\n",
    "            item_list = self.wait.until(EC.presence_of_all_elements_located((By.XPATH, xpath)))\n",
    "            return item_list"
   ]
  },
  {
   "cell_type": "code",
   "execution_count": null,
   "metadata": {},
   "outputs": [],
   "source": [
    " def resolve_sim(chrome, driver, simurl, comment):\n",
    "        chrome.get_url(simurl)\n",
    "        chrome.clickable_click_by_id('issue-conversation')\n",
    "        driver.find_element_by_id('issue-conversation').send_keys(comment)\n",
    "        #chrome.clickable_click('//*[@id=\"issue-stream-form\"]/fieldset/div[2]/div[1]/div[1]/button')\n",
    "        time.sleep(5)"
   ]
  },
  {
   "cell_type": "code",
   "execution_count": 34,
   "metadata": {},
   "outputs": [],
   "source": [
    "chrome = chrome_driver()\n",
    "# wait = chrome.wait\n",
    "driver = chrome.driver "
   ]
  },
  {
   "cell_type": "code",
   "execution_count": null,
   "metadata": {},
   "outputs": [],
   "source": [
    "resolve_sim(chrome, driver, \"https://issues.amazon.com/issues/P42489566\", \"test\")"
   ]
  },
  {
   "cell_type": "code",
   "execution_count": 35,
   "metadata": {},
   "outputs": [],
   "source": [
    "chrome.get_url(\"https://issues.amazon.com/issues/P42489566\")"
   ]
  },
  {
   "cell_type": "code",
   "execution_count": 36,
   "metadata": {},
   "outputs": [],
   "source": [
    "chrome.wait_click('issue-conversation')"
   ]
  },
  {
   "cell_type": "code",
   "execution_count": 37,
   "metadata": {},
   "outputs": [],
   "source": [
    "driver.find_element_by_id('issue-conversation').send_keys(\"abs\")"
   ]
  },
  {
   "cell_type": "code",
   "execution_count": 26,
   "metadata": {},
   "outputs": [],
   "source": [
    "wait = WebDriverWait(driver, 10)\n",
    "element = wait.until(EC.visibility_of_element_located((By.ID,'issue-conversation')))"
   ]
  },
  {
   "cell_type": "code",
   "execution_count": 27,
   "metadata": {},
   "outputs": [],
   "source": [
    "element.send_keys(\"aseq\")"
   ]
  },
  {
   "cell_type": "code",
   "execution_count": 38,
   "metadata": {},
   "outputs": [],
   "source": [
    "chrome.clickable_click_by_id('issue-conversation')"
   ]
  }
 ],
 "metadata": {
  "kernelspec": {
   "display_name": "Python 3",
   "language": "python",
   "name": "python3"
  },
  "language_info": {
   "codemirror_mode": {
    "name": "ipython",
    "version": 3
   },
   "file_extension": ".py",
   "mimetype": "text/x-python",
   "name": "python",
   "nbconvert_exporter": "python",
   "pygments_lexer": "ipython3",
   "version": "3.6.8"
  }
 },
 "nbformat": 4,
 "nbformat_minor": 2
}
