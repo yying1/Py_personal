{
 "cells": [
  {
   "cell_type": "code",
   "execution_count": 49,
   "metadata": {},
   "outputs": [],
   "source": [
    "import pandas as pd\n",
    "import re\n",
    "import numpy as np\n",
    "import os\n",
    "import win32com.client\n",
    "import win32com\n",
    "import os\n",
    "import sys\n",
    "from datetime import datetime\n",
    "from datetime import timedelta"
   ]
  },
  {
   "cell_type": "code",
   "execution_count": 50,
   "metadata": {},
   "outputs": [],
   "source": [
    "outlook = win32com.client.Dispatch(\"Outlook.Application\").GetNamespace(\"MAPI\")\n",
    "sent_items = outlook.Folders('rpa@amazon.com').Folders(\"Sent Items\").items"
   ]
  },
  {
   "cell_type": "code",
   "execution_count": 51,
   "metadata": {},
   "outputs": [],
   "source": [
    "info=pd.DataFrame()"
   ]
  },
  {
   "cell_type": "code",
   "execution_count": 52,
   "metadata": {},
   "outputs": [],
   "source": [
    "# filter message by receive times\n",
    "received_dt = datetime.now() - timedelta(days=120)\n",
    "received_dt = received_dt.strftime('%m/%d/%Y %H:%M %p')\n",
    "sent_items = sent_items.Restrict(\"[ReceivedTime] >= '\" + received_dt + \"'\")"
   ]
  },
  {
   "cell_type": "code",
   "execution_count": 53,
   "metadata": {},
   "outputs": [],
   "source": [
    "# convert email data to df, use n for sample\n",
    "#n = 1\n",
    "for item in sent_items:\n",
    "    #n+=1\n",
    "    temp = []\n",
    "    b = item.body\n",
    "    b=b.replace('\\n','')\n",
    "    b=b.split('\\r')\n",
    "    #if n == 200:\n",
    "    #   break\n",
    "    if len (b) >= 8:\n",
    "        index=[0,2,3,4,5,6,7,8]\n",
    "        for x in index:\n",
    "            if x == 0:\n",
    "                temp.append(b[x].replace('Hi,',''))\n",
    "            else:\n",
    "                temp.append(b[x].replace(b[x].split(':')[0]+':',''))\n",
    "        temp=pd.DataFrame(temp).T\n",
    "        info=pd.concat([info,temp])\n",
    "    else:\n",
    "        pass"
   ]
  },
  {
   "cell_type": "code",
   "execution_count": 54,
   "metadata": {},
   "outputs": [],
   "source": [
    "info.columns=['Login','Robot_ID','Email_Received_Time','Start_Time','End_Time','Run_Time','Task_Info','Status']"
   ]
  },
  {
   "cell_type": "code",
   "execution_count": 55,
   "metadata": {},
   "outputs": [],
   "source": [
    "info['Task_ID'] = info['Status']\n",
    "info['Source'] = info['Task_Info']\n",
    "info['Target'] = info['Task_Info']"
   ]
  },
  {
   "cell_type": "code",
   "execution_count": 56,
   "metadata": {},
   "outputs": [],
   "source": [
    "info = info[info['Login'] != 'Hello,']\n",
    "info = info[info['Login'] != '']\n",
    "info = info[info['Login'] != 'RPA']"
   ]
  },
  {
   "cell_type": "code",
   "execution_count": 34,
   "metadata": {},
   "outputs": [],
   "source": [
    "# info[info.Login.str.contains('zhjingya', case = False)]"
   ]
  },
  {
   "cell_type": "code",
   "execution_count": 57,
   "metadata": {},
   "outputs": [],
   "source": [
    "# get task id from task info and convert run time\n",
    "for index, row in info.iterrows(): \n",
    "    if 'Succeeded' in str(row['Task_ID']):\n",
    "        row['Task_ID'] = row['Task_ID'].strip().split(' ')[1].strip()\n",
    "    else:\n",
    "        row['Task_ID'] = np.nan\n",
    "    if ':' in str(row['Run_Time']):\n",
    "        try:\n",
    "            row['Run_Time'] = float (row['Run_Time'].split(':')[0])+float (row['Run_Time'].split(':')[1])/60+float(row['Run_Time'].split(':')[2])/3600\n",
    "        except:\n",
    "            row['Run_Time'] = 'Error'"
   ]
  },
  {
   "cell_type": "code",
   "execution_count": 58,
   "metadata": {},
   "outputs": [],
   "source": [
    "# get source & target data from task info\n",
    "for index, row in info.iterrows(): \n",
    "    if row['Task_ID'] == '3':\n",
    "        try:\n",
    "            row['Source'] = row['Task_Info'].split('_')[1].strip().upper()\n",
    "            row['Target'] = row['Task_Info'].split('_')[2].strip().upper()\n",
    "        except:\n",
    "            print (row['Task_Info'])\n",
    "    elif row['Task_ID'] == '4':\n",
    "        row['Source'] = \"US\"\n",
    "        row['Target'] = \"AU\"\n",
    "    elif  row['Task_ID'] == '2' or row['Task_ID'] == '6' or row['Task_ID'] == '11':\n",
    "        row['Source'] = row['Task_Info'].split('_')[1].strip()[:2].upper()\n",
    "        row['Target'] = row['Task_Info'].split('_')[1].strip()[3:].upper()\n",
    "    elif row['Task_ID'] == '5':\n",
    "        row['Source'] = np.nan\n",
    "        row['Target'] = np.nan\n",
    "    elif row['Task_ID'] == '8':\n",
    "        row['Source'] = row['Task_Info'].strip()[:2].upper()\n",
    "        row['Target'] = row['Task_Info'].strip()[3:5].upper()\n",
    "    elif row['Task_ID'] == '9':\n",
    "        row['Source'] = np.nan\n",
    "        row['Target'] = np.nan\n",
    "    elif row['Task_ID'] == '10':\n",
    "        row['Source'] = row['Task_Info'].split('_')[1].upper()\n",
    "        row['Target'] = row['Task_Info'].split('_')[2].upper()\n",
    "    else: \n",
    "        row['Source'] = np.nan\n",
    "        row['Target'] = np.nan"
   ]
  },
  {
   "cell_type": "code",
   "execution_count": 59,
   "metadata": {},
   "outputs": [],
   "source": [
    "#clean rows with empty 'Start_Time' and Error 'Run_Time'\n",
    "info = info[info['Start_Time'] != '']\n",
    "info = info[info['Run_Time'] != 'Error']"
   ]
  },
  {
   "cell_type": "code",
   "execution_count": 60,
   "metadata": {},
   "outputs": [],
   "source": [
    "info.drop_duplicates().to_csv(\"test.csv\", index = False)"
   ]
  }
 ],
 "metadata": {
  "kernelspec": {
   "display_name": "Python 3",
   "language": "python",
   "name": "python3"
  },
  "language_info": {
   "codemirror_mode": {
    "name": "ipython",
    "version": 3
   },
   "file_extension": ".py",
   "mimetype": "text/x-python",
   "name": "python",
   "nbconvert_exporter": "python",
   "pygments_lexer": "ipython3",
   "version": "3.6.8"
  }
 },
 "nbformat": 4,
 "nbformat_minor": 2
}
