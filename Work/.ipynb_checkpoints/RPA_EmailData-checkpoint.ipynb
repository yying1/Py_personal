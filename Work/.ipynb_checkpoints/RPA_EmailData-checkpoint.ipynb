{
 "cells": [
  {
   "cell_type": "markdown",
   "metadata": {},
   "source": [
    "# Using this Py script to get RPA Email Data for reporting\n",
    "### Last updated by yingyy@ on 2021-06-07"
   ]
  },
  {
   "cell_type": "code",
   "execution_count": 11,
   "metadata": {},
   "outputs": [],
   "source": [
    "# 需要确认是否安装一下package\n",
    "import pandas as pd\n",
    "import re\n",
    "import numpy as np\n",
    "import os\n",
    "import win32com.client\n",
    "import win32com\n",
    "import os\n",
    "import sys\n",
    "from datetime import datetime\n",
    "from datetime import timedelta"
   ]
  },
  {
   "cell_type": "code",
   "execution_count": 12,
   "metadata": {},
   "outputs": [],
   "source": [
    "#扫描rpa邮箱 提取发件箱邮件\n",
    "outlook = win32com.client.Dispatch(\"Outlook.Application\").GetNamespace(\"MAPI\")\n",
    "sent_items = outlook.Folders('rpa@amazon.com').Folders(\"Sent Items\").items"
   ]
  },
  {
   "cell_type": "code",
   "execution_count": 13,
   "metadata": {},
   "outputs": [],
   "source": [
    "#创建df\n",
    "info=pd.DataFrame()"
   ]
  },
  {
   "cell_type": "code",
   "execution_count": 14,
   "metadata": {},
   "outputs": [],
   "source": [
    "# filter message by receive times, 注意这里设定的是提取过去120天邮件\n",
    "received_dt = datetime.now() - timedelta(days=120)\n",
    "received_dt = received_dt.strftime('%m/%d/%Y %H:%M %p')\n",
    "sent_items = sent_items.Restrict(\"[ReceivedTime] >= '\" + received_dt + \"'\")"
   ]
  },
  {
   "cell_type": "code",
   "execution_count": 15,
   "metadata": {},
   "outputs": [],
   "source": [
    "# convert email data to df, use n for sample, 按照email格式提取结果邮件\n",
    "#n = 1\n",
    "for item in sent_items:\n",
    "    #n+=1\n",
    "    temp = []\n",
    "    b = item.body\n",
    "    b=b.replace('\\n','')\n",
    "    b=b.split('\\r')\n",
    "    #if n == 200:\n",
    "    #   break\n",
    "    if len (b) >= 8:\n",
    "        index=[0,2,3,4,5,6,7,8]\n",
    "        for x in index:\n",
    "            if x == 0:\n",
    "                temp.append(b[x].replace('Hi,',''))\n",
    "            else:\n",
    "                temp.append(b[x].replace(b[x].split(':')[0]+':',''))\n",
    "        temp=pd.DataFrame(temp).T\n",
    "        info=pd.concat([info,temp])\n",
    "    else:\n",
    "        pass"
   ]
  },
  {
   "cell_type": "code",
   "execution_count": 16,
   "metadata": {},
   "outputs": [],
   "source": [
    "#命名column, 清洗无用数据\n",
    "info.columns=['Login','Robot_ID','Email_Received_Time','Start_Time','End_Time','Run_Time','Task_Info','Status']\n",
    "info['Task_ID'] = info['Status']\n",
    "info['Source'] = info['Task_Info']\n",
    "info['Target'] = info['Task_Info']\n",
    "info = info[info['Login'] != 'Hello,']\n",
    "info = info[info['Login'] != '']\n",
    "info = info[info['Login'] != 'RPA']"
   ]
  },
  {
   "cell_type": "code",
   "execution_count": 17,
   "metadata": {},
   "outputs": [],
   "source": [
    "# info[info.Login.str.contains('zhjingya', case = False)]"
   ]
  },
  {
   "cell_type": "code",
   "execution_count": 18,
   "metadata": {},
   "outputs": [],
   "source": [
    "# get task id from task info and convert run time, 转换每个task 运行时间到小时数字\n",
    "for index, row in info.iterrows(): \n",
    "    if 'Succeeded' in str(row['Task_ID']):\n",
    "        row['Task_ID'] = row['Task_ID'].strip().split(' ')[1].strip()\n",
    "    else:\n",
    "        row['Task_ID'] = np.nan\n",
    "    if ':' in str(row['Run_Time']):\n",
    "        try:\n",
    "            row['Run_Time'] = float (row['Run_Time'].split(':')[0])+float (row['Run_Time'].split(':')[1])/60+float(row['Run_Time'].split(':')[2])/3600\n",
    "        except:\n",
    "            row['Run_Time'] = 'Error'"
   ]
  },
  {
   "cell_type": "code",
   "execution_count": 19,
   "metadata": {},
   "outputs": [],
   "source": [
    "# get source & target data from task info, 根据不同task id从 task info里面提取source/target\n",
    "for index, row in info.iterrows(): \n",
    "    if row['Task_ID'] == '3':\n",
    "        try:\n",
    "            row['Source'] = row['Task_Info'].split('_')[1].strip().upper()\n",
    "            row['Target'] = row['Task_Info'].split('_')[2].strip().upper()\n",
    "        except:\n",
    "            print (row['Task_Info'])\n",
    "    elif row['Task_ID'] == '4':\n",
    "        row['Source'] = \"US\"\n",
    "        row['Target'] = \"AU\"\n",
    "    elif  row['Task_ID'] == '2' or row['Task_ID'] == '6' or row['Task_ID'] == '11':\n",
    "        row['Source'] = row['Task_Info'].split('_')[1].strip()[:2].upper()\n",
    "        row['Target'] = row['Task_Info'].split('_')[1].strip()[3:].upper()\n",
    "    elif row['Task_ID'] == '5':\n",
    "        row['Source'] = np.nan\n",
    "        row['Target'] = np.nan\n",
    "    elif row['Task_ID'] == '8':\n",
    "        row['Source'] = row['Task_Info'].strip()[:2].upper()\n",
    "        row['Target'] = row['Task_Info'].strip()[3:5].upper()\n",
    "    elif row['Task_ID'] == '9':\n",
    "        row['Source'] = np.nan\n",
    "        row['Target'] = np.nan\n",
    "    elif row['Task_ID'] == '10':\n",
    "        row['Source'] = row['Task_Info'].split('_')[1].upper()\n",
    "        row['Target'] = row['Task_Info'].split('_')[2].upper()\n",
    "    else: \n",
    "        row['Source'] = np.nan\n",
    "        row['Target'] = np.nan"
   ]
  },
  {
   "cell_type": "code",
   "execution_count": 20,
   "metadata": {},
   "outputs": [],
   "source": [
    "#clean rows with empty 'Start_Time' and Error 'Run_Time', 根据之前计算结果删掉无用行\n",
    "info = info[info['Start_Time'] != '']\n",
    "info = info[info['Run_Time'] != 'Error']"
   ]
  },
  {
   "cell_type": "code",
   "execution_count": 21,
   "metadata": {},
   "outputs": [],
   "source": [
    "#生成结果到脚本所在位置excel文件\n",
    "info.drop_duplicates().to_csv(\"RPA Report Data.csv\", index = False)"
   ]
  }
 ],
 "metadata": {
  "kernelspec": {
   "display_name": "Python 3",
   "language": "python",
   "name": "python3"
  },
  "language_info": {
   "codemirror_mode": {
    "name": "ipython",
    "version": 3
   },
   "file_extension": ".py",
   "mimetype": "text/x-python",
   "name": "python",
   "nbconvert_exporter": "python",
   "pygments_lexer": "ipython3",
   "version": "3.6.8"
  }
 },
 "nbformat": 4,
 "nbformat_minor": 2
}
