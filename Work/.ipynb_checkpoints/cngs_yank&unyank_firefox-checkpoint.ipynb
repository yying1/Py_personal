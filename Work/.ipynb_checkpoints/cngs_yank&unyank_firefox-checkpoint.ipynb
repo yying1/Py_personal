{
 "cells": [
  {
   "cell_type": "code",
   "execution_count": 7,
   "metadata": {},
   "outputs": [],
   "source": [
    "import json\n",
    "import time\n",
    "import os\n",
    "import shutil\n",
    "import re\n",
    "from datetime import datetime\n",
    "from selenium import webdriver\n",
    "from selenium.webdriver.firefox.firefox_binary import FirefoxBinary\n",
    "from selenium.webdriver.firefox.options import Options\n",
    "from selenium.webdriver.common.by import By\n",
    "from selenium.webdriver.support.wait import WebDriverWait\n",
    "from selenium.webdriver.support import expected_conditions as EC\n",
    "from selenium.common.exceptions import NoSuchElementException"
   ]
  },
  {
   "cell_type": "code",
   "execution_count": 8,
   "metadata": {},
   "outputs": [],
   "source": [
    "class firefox_driver(object):\n",
    "        def __init__(self):\n",
    "            #This make sure that selenium 3 (marionette) works with the latest firefox browser\n",
    "            caps = webdriver.DesiredCapabilities().FIREFOX\n",
    "            caps[\"marionette\"] = True\n",
    "            #This direct to firefox local executable\n",
    "            binary = FirefoxBinary(r\"C:\\Program Files\\Mozilla Firefox\\firefox.exe\")\n",
    "            #Looking for the most recently updated Firefox Profile folder address\n",
    "            directory = os.environ['USERPROFILE'] + r'\\AppData\\Roaming\\Mozilla\\Firefox\\Profiles'\n",
    "            ff_folder_address = max([os.path.join(directory,d) for d in os.listdir(directory)], key=os.path.getmtime)\n",
    "            #Load firefox profile and cookies\n",
    "            firefox_profile = webdriver.FirefoxProfile(ff_folder_address)\n",
    "            # set download options\n",
    "            download_path = r\"C:\\Users\\yingy\\Desktop\"\n",
    "             # 0 means to download to the desktop, 1 means to download to the default \"Downloads\" directory, 2 means to use the directory\n",
    "            firefox_profile.set_preference(\"browser.download.folderList\", 2)\n",
    "            firefox_profile.set_preference(\"browser.download.dir\", download_path)\n",
    "            firefox_profile.set_preference( \"browser.download.manager.showWhenStarting\", False)\n",
    "            # 设置自动保存的文件类型，如果firefox不能自动保存，一定是文件类型不对\n",
    "            # 对所给出文件类型不再弹出框进行询问\n",
    "            firefox_profile.set_preference(\"browser.helperApps.neverAsk.saveToDisk\", 'application/pdf')\n",
    "            # '''\n",
    "            # 其他可选文件类型:\n",
    "            #     application/a-gzip\n",
    "            #     application/x-gzip,\n",
    "            #     application/zip,\n",
    "            #     application/x-gtar,\n",
    "            #     text/plain,\n",
    "            #     application/x-compressed,\n",
    "            #     application/octet-stream,\n",
    "            #     application/pdf\n",
    "            # '''\n",
    "            firefox_profile.set_preference(\"browser.helperApps.alwaysAsk.force\", False)\n",
    "            #disable pdf browser\n",
    "            firefox_profile.set_preference(\"pdfjs.disabled\", True)\n",
    "            self.driver = webdriver.Firefox(firefox_profile, firefox_binary = binary, capabilities = caps)\n",
    "            # load aea extension from RPA share folder\n",
    "            self.driver.install_addon(\"\\\\\\\\Desktop-o61frdc\\\\rpa\\\\General_RPA\\\\Software\\\\amazon_enterprise_access@amazon.xpi\", temporary=False)\n",
    "            self.wait = WebDriverWait(self.driver, 300)\n",
    "        def get_url(self,url):\n",
    "            self.driver.get(url)\n",
    "            while 'midway' in self.driver.current_url:\n",
    "                time.sleep(20)\n",
    "                self.driver.refresh()\n",
    "        def wait_click(self,element_id):\n",
    "            self.wait.until(EC.element_to_be_clickable((By.ID, element_id)))\n",
    "        def clickable_click(self,xpath):\n",
    "            self.wait.until(EC.element_to_be_clickable((By.XPATH, xpath))).click()\n",
    "        def clickable_click_by_id(self,element_id):\n",
    "            self.wait.until(EC.element_to_be_clickable((By.ID, element_id))).click()\n",
    "        def wait_until_located(self,xpath):\n",
    "            item = self.wait.until(EC.presence_of_element_located((By.XPATH, xpath)))\n",
    "            return item\n",
    "        def wait_until_all_located(self,xpath):\n",
    "            item_list = self.wait.until(EC.presence_of_all_elements_located((By.XPATH, xpath)))\n",
    "            return item_list"
   ]
  },
  {
   "cell_type": "code",
   "execution_count": 9,
   "metadata": {},
   "outputs": [],
   "source": [
    "firefox = firefox_driver()\n",
    "driver = firefox.driver"
   ]
  },
  {
   "cell_type": "code",
   "execution_count": 10,
   "metadata": {},
   "outputs": [],
   "source": [
    "firefox.get_url(\"https://ags.amazon.com\")"
   ]
  },
  {
   "cell_type": "code",
   "execution_count": 11,
   "metadata": {},
   "outputs": [],
   "source": [
    "driver.close()"
   ]
  }
 ],
 "metadata": {
  "kernelspec": {
   "display_name": "Python 3",
   "language": "python",
   "name": "python3"
  },
  "language_info": {
   "codemirror_mode": {
    "name": "ipython",
    "version": 3
   },
   "file_extension": ".py",
   "mimetype": "text/x-python",
   "name": "python",
   "nbconvert_exporter": "python",
   "pygments_lexer": "ipython3",
   "version": "3.6.8"
  }
 },
 "nbformat": 4,
 "nbformat_minor": 2
}
