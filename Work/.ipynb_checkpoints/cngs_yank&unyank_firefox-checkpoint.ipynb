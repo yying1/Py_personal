{
 "cells": [
  {
   "cell_type": "code",
   "execution_count": 1,
   "metadata": {},
   "outputs": [],
   "source": [
    "import json\n",
    "import time\n",
    "import os\n",
    "import shutil\n",
    "import re\n",
    "from datetime import datetime\n",
    "from selenium import webdriver\n",
    "from selenium.webdriver.firefox.firefox_binary import FirefoxBinary\n",
    "from selenium.webdriver.firefox.options import Options\n",
    "from selenium.webdriver.common.by import By\n",
    "from selenium.webdriver.support.wait import WebDriverWait\n",
    "from selenium.webdriver.support import expected_conditions as EC\n",
    "from selenium.common.exceptions import NoSuchElementException"
   ]
  },
  {
   "cell_type": "code",
   "execution_count": 2,
   "metadata": {},
   "outputs": [],
   "source": [
    "class firefox_driver(object):\n",
    "        def __init__(self):\n",
    "            #This make sure that selenium 3 (marionette) works with the latest firefox browser\n",
    "            caps = webdriver.DesiredCapabilities().FIREFOX\n",
    "            caps[\"marionette\"] = True\n",
    "            #This direct to firefox local executable\n",
    "            binary = FirefoxBinary(r\"C:\\Program Files\\Mozilla Firefox\\firefox.exe\")\n",
    "            #Load firefox profile and cookies\n",
    "            firefox_profile = webdriver.FirefoxProfile(os.environ['USERPROFILE'] + r'\\AppData\\Roaming\\Mozilla\\Firefox\\Profiles')\n",
    "            # set download options\n",
    "            download_path = r\"C:\\Users\\yingy\\Desktop\"\n",
    "             # 0 means to download to the desktop, 1 means to download to the default \"Downloads\" directory, 2 means to use the directory\n",
    "            firefox_profile.set_preference(\"browser.download.folderList\", 2)\n",
    "            firefox_profile.set_preference(\"browser.download.dir\", download_path)\n",
    "            firefox_profile.set_preference( \"browser.download.manager.showWhenStarting\", False)\n",
    "            # 设置自动保存的文件类型，如果firefox不能自动保存，一定是文件类型不对\n",
    "            # 对所给出文件类型不再弹出框进行询问\n",
    "            firefox_profile.set_preference(\"browser.helperApps.neverAsk.saveToDisk\", 'application/pdf')\n",
    "            # '''\n",
    "            # 其他可选文件类型:\n",
    "            #     application/a-gzip\n",
    "            #     application/x-gzip,\n",
    "            #     application/zip,\n",
    "            #     application/x-gtar,\n",
    "            #     text/plain,\n",
    "            #     application/x-compressed,\n",
    "            #     application/octet-stream,\n",
    "            #     application/pdf\n",
    "            # '''\n",
    "            firefox_profile.set_preference(\"browser.helperApps.alwaysAsk.force\", False)\n",
    "            #disable pdf browser\n",
    "            firefox_profile.set_preference(\"pdfjs.disabled\", True)\n",
    "            self.driver = webdriver.Firefox(firefox_profile, firefox_binary = binary, capabilities = caps)\n",
    "            self.wait = WebDriverWait(self.driver, 300)\n",
    "        def get_url(self,url):\n",
    "            self.driver.get(url)\n",
    "            while 'midway' in self.driver.current_url:\n",
    "                time.sleep(20)\n",
    "                self.driver.refresh()\n",
    "        def wait_click(self,element_id):\n",
    "            self.wait.until(EC.element_to_be_clickable((By.ID, element_id)))\n",
    "        def clickable_click(self,xpath):\n",
    "            self.wait.until(EC.element_to_be_clickable((By.XPATH, xpath))).click()\n",
    "        def clickable_click_by_id(self,element_id):\n",
    "            self.wait.until(EC.element_to_be_clickable((By.ID, element_id))).click()\n",
    "        def wait_until_located(self,xpath):\n",
    "            item = self.wait.until(EC.presence_of_element_located((By.XPATH, xpath)))\n",
    "            return item\n",
    "        def wait_until_all_located(self,xpath):\n",
    "            item_list = self.wait.until(EC.presence_of_all_elements_located((By.XPATH, xpath)))\n",
    "            return item_list"
   ]
  },
  {
   "cell_type": "code",
   "execution_count": 3,
   "metadata": {},
   "outputs": [],
   "source": [
    "firefox =  firefox_driver()\n",
    "driver = firefox.driver"
   ]
  },
  {
   "cell_type": "code",
   "execution_count": 4,
   "metadata": {},
   "outputs": [
    {
     "ename": "KeyboardInterrupt",
     "evalue": "",
     "output_type": "error",
     "traceback": [
      "\u001b[1;31m---------------------------------------------------------------------------\u001b[0m",
      "\u001b[1;31mKeyboardInterrupt\u001b[0m                         Traceback (most recent call last)",
      "\u001b[1;32m<ipython-input-4-628a103153b9>\u001b[0m in \u001b[0;36m<module>\u001b[1;34m\u001b[0m\n\u001b[1;32m----> 1\u001b[1;33m \u001b[0mfirefox\u001b[0m\u001b[1;33m.\u001b[0m\u001b[0mget_url\u001b[0m\u001b[1;33m(\u001b[0m\u001b[1;34m\"https://selection.amazon.com\"\u001b[0m\u001b[1;33m)\u001b[0m\u001b[1;33m\u001b[0m\u001b[1;33m\u001b[0m\u001b[0m\n\u001b[0m",
      "\u001b[1;32m<ipython-input-2-a1c49d224f2d>\u001b[0m in \u001b[0;36mget_url\u001b[1;34m(self, url)\u001b[0m\n\u001b[0;32m     36\u001b[0m             \u001b[0mself\u001b[0m\u001b[1;33m.\u001b[0m\u001b[0mdriver\u001b[0m\u001b[1;33m.\u001b[0m\u001b[0mget\u001b[0m\u001b[1;33m(\u001b[0m\u001b[0murl\u001b[0m\u001b[1;33m)\u001b[0m\u001b[1;33m\u001b[0m\u001b[1;33m\u001b[0m\u001b[0m\n\u001b[0;32m     37\u001b[0m             \u001b[1;32mwhile\u001b[0m \u001b[1;34m'midway'\u001b[0m \u001b[1;32min\u001b[0m \u001b[0mself\u001b[0m\u001b[1;33m.\u001b[0m\u001b[0mdriver\u001b[0m\u001b[1;33m.\u001b[0m\u001b[0mcurrent_url\u001b[0m\u001b[1;33m:\u001b[0m\u001b[1;33m\u001b[0m\u001b[1;33m\u001b[0m\u001b[0m\n\u001b[1;32m---> 38\u001b[1;33m                 \u001b[0mtime\u001b[0m\u001b[1;33m.\u001b[0m\u001b[0msleep\u001b[0m\u001b[1;33m(\u001b[0m\u001b[1;36m20\u001b[0m\u001b[1;33m)\u001b[0m\u001b[1;33m\u001b[0m\u001b[1;33m\u001b[0m\u001b[0m\n\u001b[0m\u001b[0;32m     39\u001b[0m                 \u001b[0mself\u001b[0m\u001b[1;33m.\u001b[0m\u001b[0mdriver\u001b[0m\u001b[1;33m.\u001b[0m\u001b[0mrefresh\u001b[0m\u001b[1;33m(\u001b[0m\u001b[1;33m)\u001b[0m\u001b[1;33m\u001b[0m\u001b[1;33m\u001b[0m\u001b[0m\n\u001b[0;32m     40\u001b[0m         \u001b[1;32mdef\u001b[0m \u001b[0mwait_click\u001b[0m\u001b[1;33m(\u001b[0m\u001b[0mself\u001b[0m\u001b[1;33m,\u001b[0m\u001b[0melement_id\u001b[0m\u001b[1;33m)\u001b[0m\u001b[1;33m:\u001b[0m\u001b[1;33m\u001b[0m\u001b[1;33m\u001b[0m\u001b[0m\n",
      "\u001b[1;31mKeyboardInterrupt\u001b[0m: "
     ]
    }
   ],
   "source": [
    "firefox.get_url(\"https://selection.amazon.com\")"
   ]
  },
  {
   "cell_type": "code",
   "execution_count": 5,
   "metadata": {},
   "outputs": [],
   "source": [
    "driver.close()"
   ]
  }
 ],
 "metadata": {
  "kernelspec": {
   "display_name": "Python 3",
   "language": "python",
   "name": "python3"
  },
  "language_info": {
   "codemirror_mode": {
    "name": "ipython",
    "version": 3
   },
   "file_extension": ".py",
   "mimetype": "text/x-python",
   "name": "python",
   "nbconvert_exporter": "python",
   "pygments_lexer": "ipython3",
   "version": "3.7.2"
  }
 },
 "nbformat": 4,
 "nbformat_minor": 2
}
