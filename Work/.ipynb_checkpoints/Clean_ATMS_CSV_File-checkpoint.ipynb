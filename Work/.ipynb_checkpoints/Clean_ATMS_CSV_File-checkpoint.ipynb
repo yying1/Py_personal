{
 "cells": [
  {
   "cell_type": "code",
   "execution_count": 12,
   "metadata": {},
   "outputs": [],
   "source": [
    "clean_content = []"
   ]
  },
  {
   "cell_type": "code",
   "execution_count": 13,
   "metadata": {},
   "outputs": [],
   "source": [
    "with open(r\"C:\\Users\\yingyy\\Desktop\\Catalog Update_IDQ\\match\\result_all_2115_FR2ES_Des_AGL_T_atms.csv\",'r', encoding = 'utf-8') as file:\n",
    "    for line in file:\n",
    "        if line.split(\",\",1)[1].strip().startswith(\"\\\"\") == True and line.strip().endswith(\"\\\"\") == False:\n",
    "            clean_content.append(line.strip()+'\\\"')\n",
    "        else:\n",
    "            clean_content.append(line.strip())"
   ]
  },
  {
   "cell_type": "code",
   "execution_count": 19,
   "metadata": {},
   "outputs": [],
   "source": [
    "with open (r\"C:\\Users\\yingyy\\Desktop\\Catalog Update_IDQ\\match\\1.csv\",'w',encoding = 'utf-8') as host_csv:\n",
    "    for line in clean_content:\n",
    "        host_csv.write(line+\"\\n\")"
   ]
  }
 ],
 "metadata": {
  "kernelspec": {
   "display_name": "Python 3",
   "language": "python",
   "name": "python3"
  },
  "language_info": {
   "codemirror_mode": {
    "name": "ipython",
    "version": 3
   },
   "file_extension": ".py",
   "mimetype": "text/x-python",
   "name": "python",
   "nbconvert_exporter": "python",
   "pygments_lexer": "ipython3",
   "version": "3.6.8"
  }
 },
 "nbformat": 4,
 "nbformat_minor": 2
}
