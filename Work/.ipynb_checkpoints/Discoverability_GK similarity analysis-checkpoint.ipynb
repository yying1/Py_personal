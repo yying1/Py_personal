{
 "cells": [
  {
   "cell_type": "code",
   "execution_count": null,
   "metadata": {},
   "outputs": [],
   "source": [
    "#make sure spacy and word model is loaded \n",
    "#pip install spacy\n",
    "#python -m spacy download en_core_web_sm"
   ]
  },
  {
   "cell_type": "code",
   "execution_count": 8,
   "metadata": {},
   "outputs": [],
   "source": [
    "import spacy\n",
    "import pandas as pd\n",
    "import os\n",
    "import numpy as np\n",
    "nlp = spacy.load('en_core_web_sm')"
   ]
  },
  {
   "cell_type": "code",
   "execution_count": null,
   "metadata": {},
   "outputs": [],
   "source": [
    "doc1 = nlp(u'15w 7.5w 10w wireless charger fast wireless charger qi wireless charger wireless charging pad')\n",
    "doc2 = nlp(u'15w 7.5w 10w wireless charger fast wireless charger qi wireless charger wireless charging pad;yootech')"
   ]
  },
  {
   "cell_type": "code",
   "execution_count": null,
   "metadata": {},
   "outputs": [],
   "source": [
    "print (doc1.similarity(doc2))"
   ]
  },
  {
   "cell_type": "code",
   "execution_count": null,
   "metadata": {},
   "outputs": [],
   "source": [
    "df_asin = pd.read_excel(r\"C:\\Users\\yingy\\Desktop\\SG sample_data.xlsx\", sheet_name = \"Sheet1\", encoding = 'utf-8')\n",
    "df_gk = pd.read_excel(r\"C:\\Users\\yingy\\Desktop\\SG sample_data.xlsx\", sheet_name = \"SGData\", encoding = 'utf-8')"
   ]
  },
  {
   "cell_type": "code",
   "execution_count": null,
   "metadata": {},
   "outputs": [],
   "source": [
    "df_gk = df_gk[df_gk[\"generic_keyword.value\"] .str.len() > 0]\n",
    "df_gk = df_gk[[\"ASIN\",\"generic_keyword.value\"]]\n",
    "df_asin = df_asin[[\"ASIN\",\"gl_desc\",\"target_glance_view_count\",\"target_impression_count\",\"specific (Node ID)\",\"brand\"]]"
   ]
  },
  {
   "cell_type": "code",
   "execution_count": null,
   "metadata": {},
   "outputs": [],
   "source": [
    "df_join = pd.merge(df_asin, df_gk, left_on = 'ASIN', right_on = 'ASIN', how = 'inner')"
   ]
  },
  {
   "cell_type": "code",
   "execution_count": null,
   "metadata": {},
   "outputs": [],
   "source": [
    "df_group = df_join[['gl_desc','specific (Node ID)','brand',]].drop_duplicates()"
   ]
  },
  {
   "cell_type": "code",
   "execution_count": null,
   "metadata": {},
   "outputs": [],
   "source": [
    "def generate_result(Node_ID, Brand,GL, df_each):\n",
    "    Node_ID =  str(Node_ID)\n",
    "    Brand =  str(Brand)\n",
    "    GL =  str(GL)\n",
    "    result_list = []\n",
    "    for index, row in df_each.iterrows(): \n",
    "        ASIN = row[\"ASIN\"]\n",
    "        ASIN_GV = df_each[df_each[\"ASIN\"] ==ASIN][\"target_glance_view_count\"].iloc[0]\n",
    "        ASIN_IM = df_each[df_each[\"ASIN\"] ==ASIN][\"target_impression_count\"].iloc[0]\n",
    "        GK = df_each[df_each[\"ASIN\"] ==ASIN][\"generic_keyword.value\"].iloc[0]\n",
    "        GK = nlp(GK)\n",
    "        for index1, row1 in df_each.iterrows(): \n",
    "            if row1[\"ASIN\"] != ASIN and index1 > index:\n",
    "                compare_list = [ASIN, GL, Node_ID, Brand,row1[\"ASIN\"],int(ASIN_GV) - int(row1[\"target_glance_view_count\"]), int(ASIN_IM) - int(row1[\"target_impression_count\"]), GK.similarity(nlp(str(row1[\"generic_keyword.value\"])))]\n",
    "                result_list.append(compare_list)\n",
    "    return result_list"
   ]
  },
  {
   "cell_type": "code",
   "execution_count": null,
   "metadata": {},
   "outputs": [],
   "source": [
    "for index, row in df_group.iterrows(): \n",
    "    df_each = df_join[(df_join[\"gl_desc\"] == row[\"gl_desc\"]) & (df_join[\"specific (Node ID)\"] == row[\"specific (Node ID)\"]) & (df_join[\"brand\"] == row[\"brand\"])]\n",
    "    GL = row[\"gl_desc\"]\n",
    "    Node = row[\"specific (Node ID)\"]\n",
    "    Brand = row[\"brand\"]\n",
    "    result = generate_result(Node, Brand,GL, df_each)\n",
    "    df = pd.DataFrame(result,columns = ['ASIN','GL','Node','Brand','ASIN_Compare', 'GV_diff', 'Impression_diff',\"GK_similarity\"])\n",
    "    df.to_csv(r\"C:\\Users\\yingy\\Desktop\\result.csv\", mode='a', encoding = \"utf-8\",index=False,header=False)"
   ]
  },
  {
   "cell_type": "code",
   "execution_count": null,
   "metadata": {},
   "outputs": [],
   "source": [
    "final = pd.read_csv(r\"C:\\Users\\yingy\\Desktop\\result.csv\",  encoding = \"utf-8\")"
   ]
  },
  {
   "cell_type": "code",
   "execution_count": null,
   "metadata": {},
   "outputs": [],
   "source": [
    "import re\n",
    "import matplotlib.pyplot as plt"
   ]
  },
  {
   "cell_type": "code",
   "execution_count": null,
   "metadata": {},
   "outputs": [],
   "source": [
    "final_clean = final[(final['GK_similarity'] > 0) ]"
   ]
  },
  {
   "cell_type": "code",
   "execution_count": null,
   "metadata": {},
   "outputs": [],
   "source": [
    "fig, ax = plt.subplots(figsize = (18,10)) \n",
    "ax.scatter( final_clean['GK_similarity'],abs(final_clean['GV_diff']))\n",
    "plt.show()"
   ]
  },
  {
   "cell_type": "code",
   "execution_count": null,
   "metadata": {},
   "outputs": [],
   "source": [
    "print(final_clean['GK_similarity'].corr(final_clean['GV_diff']))\n",
    "print(final_clean['GK_similarity'].corr(final_clean['Impression_diff']))"
   ]
  },
  {
   "cell_type": "code",
   "execution_count": null,
   "metadata": {},
   "outputs": [],
   "source": [
    "final_clean.groupby('GL')[['GV_diff','GK_similarity']].corr()"
   ]
  },
  {
   "cell_type": "code",
   "execution_count": null,
   "metadata": {},
   "outputs": [],
   "source": [
    "final_clean.groupby('GL')[['GV_diff','GK_similarity']].corr().reset_index().to_csv(r\"C:\\Users\\yingy\\Desktop\\result_correlation.csv\", encoding = \"utf-8\", index = False)"
   ]
  },
  {
   "cell_type": "code",
   "execution_count": null,
   "metadata": {},
   "outputs": [],
   "source": [
    "final_clean_list = final_clean.sort_values(by = ['GK_similarity', 'GV_diff'], ascending = [False, False], na_position = 'last')"
   ]
  },
  {
   "cell_type": "code",
   "execution_count": null,
   "metadata": {},
   "outputs": [],
   "source": [
    "final_clean_list.to_csv(r\"C:\\Users\\yingy\\Desktop\\result_sort.csv\", encoding = \"utf-8\", index = False)"
   ]
  },
  {
   "cell_type": "code",
   "execution_count": null,
   "metadata": {},
   "outputs": [],
   "source": [
    "## Added PASIN column and start reordering the result"
   ]
  },
  {
   "cell_type": "code",
   "execution_count": 4,
   "metadata": {},
   "outputs": [],
   "source": [
    "df_v = pd.read_csv(r\"C:\\Users\\yingyy\\Desktop\\Discoverability\\GK_Similarity\\result_sort.csv\",dtype={\"Node\": str, \"ASIN\": str,\"PASIN\": str}, encoding = 'utf-8')"
   ]
  },
  {
   "cell_type": "code",
   "execution_count": 9,
   "metadata": {},
   "outputs": [
    {
     "name": "stderr",
     "output_type": "stream",
     "text": [
      "c:\\users\\yingyy\\appdata\\local\\programs\\python\\python36\\lib\\site-packages\\ipykernel_launcher.py:1: FutureWarning: Indexing with multiple keys (implicitly converted to a tuple of keys) will be deprecated, use a list instead.\n",
      "  \"\"\"Entry point for launching an IPython kernel.\n"
     ]
    }
   ],
   "source": [
    "df_v_groupby = df_v.reset_index().groupby(['GL','Node','Brand','PASIN'])['GV_diff','Impression_diff','GK_similarity'].agg({np.mean,np.size,np.min,np.max}).rename(columns={np.mean:'gv_average',np.size:'size',np.min:'gv_min',np.max:'gv_max'})"
   ]
  },
  {
   "cell_type": "code",
   "execution_count": 11,
   "metadata": {},
   "outputs": [],
   "source": [
    "df_v_groupby.reset_index().to_excel(r\"C:\\Users\\yingyy\\Desktop\\Discoverability\\GK_Similarity\\result_sort.xlsx\",sheet_name = 'GroupBy_PASIN',encoding = 'utf-9')"
   ]
  }
 ],
 "metadata": {
  "kernelspec": {
   "display_name": "Python 3",
   "language": "python",
   "name": "python3"
  },
  "language_info": {
   "codemirror_mode": {
    "name": "ipython",
    "version": 3
   },
   "file_extension": ".py",
   "mimetype": "text/x-python",
   "name": "python",
   "nbconvert_exporter": "python",
   "pygments_lexer": "ipython3",
   "version": "3.6.8"
  }
 },
 "nbformat": 4,
 "nbformat_minor": 2
}
