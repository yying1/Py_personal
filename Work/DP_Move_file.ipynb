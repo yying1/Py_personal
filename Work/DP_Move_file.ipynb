{
 "cells": [
  {
   "cell_type": "code",
   "execution_count": 1,
   "metadata": {},
   "outputs": [],
   "source": [
    "import pandas as pd\n",
    "import shutil as sl\n",
    "import time"
   ]
  },
  {
   "cell_type": "code",
   "execution_count": 2,
   "metadata": {},
   "outputs": [],
   "source": [
    "wk = \"wk11\""
   ]
  },
  {
   "cell_type": "code",
   "execution_count": 4,
   "metadata": {},
   "outputs": [],
   "source": [
    "#for US2AU, left inclusive only\n",
    "for num in range(1,11):\n",
    "    df = pd.read_csv(wk+\"-US-AU_\"+str(num)+\".txt\", header = None)\n",
    "    df.columns = ['ASIN']\n",
    "    df.to_csv(\"3_US_AU_\"+wk+\"_(RPA test \"+str(num)+\").txt\",encoding = \"utf-8\",index = None)\n",
    "    sl.move(\"3_US_AU_\"+wk+\"_(RPA test \"+str(num)+\").txt\", \"W:\\\\Shared With Me\\\\RPA_loc_ff\\\\Request\\\\3_US_AU_\"+wk+\"_(RPA test \"+str(num)+\").txt\")"
   ]
  },
  {
   "cell_type": "code",
   "execution_count": 3,
   "metadata": {},
   "outputs": [],
   "source": [
    "#UK2AU\n",
    "for num in range(1,4):\n",
    "    df = pd.read_csv(wk+\"-UK-AU_\"+str(num)+\".txt\", header = None)\n",
    "    df.columns = ['ASIN']\n",
    "    df.to_csv(\"3_UK_AU_\"+wk+\"_(RPA test \"+str(num)+\").txt\",encoding = \"utf-8\",index = None)\n",
    "    sl.move(\"3_UK_AU_\"+wk+\"_(RPA test \"+str(num)+\").txt\", \"W:\\\\Shared With Me\\\\RPA_loc_ff\\\\Request\\\\3_UK_AU_\"+wk+\"_(RPA test \"+str(num)+\").txt\")"
   ]
  },
  {
   "cell_type": "code",
   "execution_count": 6,
   "metadata": {},
   "outputs": [],
   "source": [
    "#for US2AE\n",
    "for num in range(1,2):\n",
    "    df = pd.read_csv(wk+\"-US-AE_\"+str(num)+\".txt\", header = None)\n",
    "    df.columns = ['ASIN']\n",
    "    df.to_csv(\"3_US_AE_\"+wk+\"_(RPA test \"+str(num)+\").txt\",encoding = \"utf-8\",index = None)\n",
    "    sl.move(\"3_US_AE_\"+wk+\"_(RPA test \"+str(num)+\").txt\", \"W:\\\\Shared With Me\\\\RPA_loc_ff\\\\Request\\\\3_US_AE_\"+wk+\"_(RPA test \"+str(num)+\").txt\")"
   ]
  },
  {
   "cell_type": "code",
   "execution_count": 5,
   "metadata": {},
   "outputs": [],
   "source": [
    "#for US2SG\n",
    "for num in range(1,6):\n",
    "    df = pd.read_csv(wk+\"-US-SG_\"+str(num)+\".txt\", header = None)\n",
    "    df.columns = ['ASIN']\n",
    "    df.to_csv(\"3_US_SG_\"+wk+\"_(RPA test \"+str(num)+\").txt\",encoding = \"utf-8\",index = None)\n",
    "    sl.move(\"3_US_SG_\"+wk+\"_(RPA test \"+str(num)+\").txt\", \"W:\\\\Shared With Me\\\\RPA_loc_ff\\\\Request\\\\3_US_SG_\"+wk+\"_(RPA test \"+str(num)+\").txt\")"
   ]
  },
  {
   "cell_type": "code",
   "execution_count": 9,
   "metadata": {},
   "outputs": [],
   "source": [
    "#for US2UK\n",
    "for num in range(1,2):\n",
    "    df = pd.read_csv(wk+\"-US-UK_\"+str(num)+\".txt\", header = None)\n",
    "    df.columns = ['ASIN']\n",
    "    df.to_csv(\"3_US_UK_\"+wk+\"_(RPA test \"+str(num)+\").txt\",encoding = \"utf-8\",index = None)\n",
    "    sl.move(\"3_US_UK_\"+wk+\"_(RPA test \"+str(num)+\").txt\", \"W:\\\\Shared With Me\\\\RPA_loc_ff\\\\Request\\\\3_US_UK_\"+wk+\"_(RPA test \"+str(num)+\").txt\")"
   ]
  },
  {
   "cell_type": "code",
   "execution_count": 7,
   "metadata": {},
   "outputs": [],
   "source": [
    "#for US2DE\n",
    "for num in range(1,7):\n",
    "    df = pd.read_csv(wk+\"-US-DE_\"+str(num)+\".txt\", header = None)\n",
    "    df.columns = ['ASIN']\n",
    "    df.to_csv(\"3_US_DE_\"+wk+\"_(RPA test \"+str(num)+\").txt\",encoding = \"utf-8\",index = None)\n",
    "    sl.move(\"3_US_DE_\"+wk+\"_(RPA test \"+str(num)+\").txt\", \"W:\\\\Shared With Me\\\\RPA_loc_ff\\\\Request\\\\3_US_DE_\"+wk+\"_(RPA test \"+str(num)+\").txt\")"
   ]
  },
  {
   "cell_type": "code",
   "execution_count": 8,
   "metadata": {},
   "outputs": [],
   "source": [
    "#for UK2US\n",
    "for num in range(1,2):\n",
    "    df = pd.read_csv(wk+\"-UK-US_\"+str(num)+\".txt\", header = None)\n",
    "    df.columns = ['ASIN']\n",
    "    df.to_csv(\"3_UK_US_\"+wk+\"_(RPA test \"+str(num)+\").txt\",encoding = \"utf-8\",index = None)\n",
    "    sl.move(\"3_UK_US_\"+wk+\"_(RPA test \"+str(num)+\").txt\", \"W:\\\\Shared With Me\\\\RPA_loc_ff\\\\Request\\\\3_UK_US_\"+wk+\"_(RPA test \"+str(num)+\").txt\")"
   ]
  },
  {
   "cell_type": "code",
   "execution_count": 6,
   "metadata": {},
   "outputs": [],
   "source": [
    "#for US2SA\n",
    "for num in range(1,5):\n",
    "    df = pd.read_csv(wk+\"-US-SA_\"+str(num)+\".txt\", header = None)\n",
    "    df.columns = ['ASIN']\n",
    "    df.to_csv(\"3_US_SA_\"+wk+\"_(RPA test \"+str(num)+\").txt\",encoding = \"utf-8\",index = None)\n",
    "    sl.move(\"3_US_SA_\"+wk+\"_(RPA test \"+str(num)+\").txt\", \"W:\\\\Shared With Me\\\\RPA_loc_ff\\\\Request\\\\3_US_SA_\"+wk+\"_(RPA test \"+str(num)+\").txt\")"
   ]
  }
 ],
 "metadata": {
  "kernelspec": {
   "display_name": "Python 3",
   "language": "python",
   "name": "python3"
  },
  "language_info": {
   "codemirror_mode": {
    "name": "ipython",
    "version": 3
   },
   "file_extension": ".py",
   "mimetype": "text/x-python",
   "name": "python",
   "nbconvert_exporter": "python",
   "pygments_lexer": "ipython3",
   "version": "3.6.8"
  }
 },
 "nbformat": 4,
 "nbformat_minor": 2
}
