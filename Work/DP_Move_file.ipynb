{
 "cells": [
  {
   "cell_type": "code",
   "execution_count": 1,
   "metadata": {},
   "outputs": [],
   "source": [
    "import pandas as pd\n",
    "import shutil as sl\n",
    "import time"
   ]
  },
  {
   "cell_type": "code",
   "execution_count": 2,
   "metadata": {},
   "outputs": [],
   "source": [
    "wk = \"WK23\"\n",
    "folder = \"C:/Users/yingyy/Desktop/New folder/\""
   ]
  },
  {
   "cell_type": "code",
   "execution_count": 5,
   "metadata": {},
   "outputs": [
    {
     "data": {
      "text/plain": [
       "'W:\\\\Shared With Me\\\\RPA_loc_ff\\\\Request\\\\4_US_AU_WK23_(RPA DP Regular).txt'"
      ]
     },
     "execution_count": 5,
     "metadata": {},
     "output_type": "execute_result"
    }
   ],
   "source": [
    "df_all = pd.DataFrame(columns = ['ASIN'])\n",
    "#for US2AU, left inclusive only\n",
    "for num in range(1,3):\n",
    "    df = pd.read_csv(folder+wk+\"_US-AU_\"+str(num)+\".txt\", header = None)\n",
    "    df.columns = ['ASIN']\n",
    "    df_all = df_all.append(df, ignore_index=True)\n",
    "    #df.to_csv(folder+\"3_US_AU_\"+wk+\"_(RPA test \"+str(num)+\").txt\",encoding = \"utf-8\",index = None)\n",
    "    #sl.move(folder+\"3_US_AU_\"+wk+\"_(RPA test \"+str(num)+\").txt\", \"W:\\\\Shared With Me\\\\RPA_loc_ff\\\\Request\\\\3_US_AU_\"+wk+\"_(RPA test \"+str(num)+\").txt\")\n",
    "\n",
    "df_all.to_csv(folder+\"4_US_AU_\"+wk+\"_(RPA DP Regular\"+\").txt\",encoding = \"utf-8\",index = None)\n",
    "sl.move(folder+\"4_US_AU_\"+wk+\"_(RPA DP Regular\"+\").txt\", \"W:\\\\Shared With Me\\\\RPA_loc_ff\\\\Request\\\\4_US_AU_\"+wk+\"_(RPA DP Regular\"+\").txt\")"
   ]
  },
  {
   "cell_type": "code",
   "execution_count": 6,
   "metadata": {},
   "outputs": [
    {
     "data": {
      "text/plain": [
       "'W:\\\\Shared With Me\\\\RPA_loc_ff\\\\Request\\\\4_UK_AU_WK23_(RPA DP Regular).txt'"
      ]
     },
     "execution_count": 6,
     "metadata": {},
     "output_type": "execute_result"
    }
   ],
   "source": [
    "df_all = pd.DataFrame(columns = ['ASIN'])\n",
    "#UK2AU\n",
    "for num in range(1,2):\n",
    "    df = pd.read_csv(folder+wk+\"_UK-AU_\"+str(num)+\".txt\", header = None)\n",
    "    df.columns = ['ASIN']\n",
    "    df_all = df_all.append(df, ignore_index=True)\n",
    "    #df.to_csv(folder+\"3_UK_AU_\"+wk+\"_(RPA test \"+str(num)+\").txt\",encoding = \"utf-8\",index = None)\n",
    "    #sl.move(folder+\"3_UK_AU_\"+wk+\"_(RPA test \"+str(num)+\").txt\", \"W:\\\\Shared With Me\\\\RPA_loc_ff\\\\Request\\\\3_UK_AU_\"+wk+\"_(RPA test \"+str(num)+\").txt\")\n",
    "    \n",
    "df_all.to_csv(folder+\"4_UK_AU_\"+wk+\"_(RPA DP Regular\"+\").txt\",encoding = \"utf-8\",index = None)\n",
    "sl.move(folder+\"4_UK_AU_\"+wk+\"_(RPA DP Regular\"+\").txt\", \"W:\\\\Shared With Me\\\\RPA_loc_ff\\\\Request\\\\4_UK_AU_\"+wk+\"_(RPA DP Regular\"+\").txt\")"
   ]
  },
  {
   "cell_type": "code",
   "execution_count": 7,
   "metadata": {},
   "outputs": [
    {
     "data": {
      "text/plain": [
       "'W:\\\\Shared With Me\\\\RPA_loc_ff\\\\Request\\\\4_US_AE_WK23_(RPA DP Regular).txt'"
      ]
     },
     "execution_count": 7,
     "metadata": {},
     "output_type": "execute_result"
    }
   ],
   "source": [
    "df_all = pd.DataFrame(columns = ['ASIN'])\n",
    "\n",
    "#for US2AE\n",
    "for num in range(1,5):\n",
    "    df = pd.read_csv(folder+wk+\"_US-AE_\"+str(num)+\".txt\", header = None)\n",
    "    df.columns = ['ASIN']\n",
    "    df_all = df_all.append(df, ignore_index=True)\n",
    "    #df.to_csv(folder+\"3_US_AE_\"+wk+\"_(RPA test \"+str(num)+\").txt\",encoding = \"utf-8\",index = None)\n",
    "    #sl.move(folder+\"3_US_AE_\"+wk+\"_(RPA test \"+str(num)+\").txt\", \"W:\\\\Shared With Me\\\\RPA_loc_ff\\\\Request\\\\3_US_AE_\"+wk+\"_(RPA test \"+str(num)+\").txt\")\n",
    "    \n",
    "df_all.to_csv(folder+\"4_US_AE_\"+wk+\"_(RPA DP Regular\"+\").txt\",encoding = \"utf-8\",index = None)\n",
    "sl.move(folder+\"4_US_AE_\"+wk+\"_(RPA DP Regular\"+\").txt\", \"W:\\\\Shared With Me\\\\RPA_loc_ff\\\\Request\\\\4_US_AE_\"+wk+\"_(RPA DP Regular\"+\").txt\")"
   ]
  },
  {
   "cell_type": "code",
   "execution_count": 8,
   "metadata": {},
   "outputs": [
    {
     "data": {
      "text/plain": [
       "'W:\\\\Shared With Me\\\\RPA_loc_ff\\\\Request\\\\4_US_SG_WK23_(RPA DP Regular).txt'"
      ]
     },
     "execution_count": 8,
     "metadata": {},
     "output_type": "execute_result"
    }
   ],
   "source": [
    "df_all = pd.DataFrame(columns = ['ASIN'])\n",
    "\n",
    "#for US2SG\n",
    "for num in range(1,3):\n",
    "    df = pd.read_csv(folder+wk+\"-US-SG_\"+str(num)+\".txt\", header = None)\n",
    "    df.columns = ['ASIN']\n",
    "    df_all = df_all.append(df, ignore_index=True)\n",
    "    #df.to_csv(folder+\"3_US_SG_\"+wk+\"_(RPA test \"+str(num)+\").txt\",encoding = \"utf-8\",index = None)\n",
    "    #sl.move(folder+\"3_US_SG_\"+wk+\"_(RPA test \"+str(num)+\").txt\", \"W:\\\\Shared With Me\\\\RPA_loc_ff\\\\Request\\\\3_US_SG_\"+wk+\"_(RPA test \"+str(num)+\").txt\")\n",
    "df_all.to_csv(folder+\"4_US_SG_\"+wk+\"_(RPA DP Regular\"+\").txt\",encoding = \"utf-8\",index = None)\n",
    "sl.move(folder+\"4_US_SG_\"+wk+\"_(RPA DP Regular\"+\").txt\", \"W:\\\\Shared With Me\\\\RPA_loc_ff\\\\Request\\\\4_US_SG_\"+wk+\"_(RPA DP Regular\"+\").txt\")"
   ]
  },
  {
   "cell_type": "code",
   "execution_count": 9,
   "metadata": {},
   "outputs": [
    {
     "data": {
      "text/plain": [
       "'W:\\\\Shared With Me\\\\RPA_loc_ff\\\\Request\\\\4_US_UK_WK23_(RPA DP Regular).txt'"
      ]
     },
     "execution_count": 9,
     "metadata": {},
     "output_type": "execute_result"
    }
   ],
   "source": [
    "df_all = pd.DataFrame(columns = ['ASIN'])\n",
    "\n",
    "#for US2UK\n",
    "for num in range(1,6):\n",
    "    df = pd.read_csv(folder+wk+\"-US-UK_\"+str(num)+\".txt\", header = None)\n",
    "    df.columns = ['ASIN']\n",
    "    df_all = df_all.append(df, ignore_index=True)\n",
    "    #df.to_csv(folder+\"3_US_UK_\"+wk+\"_(RPA test \"+str(num)+\").txt\",encoding = \"utf-8\",index = None)\n",
    "    #sl.move(folder+\"3_US_UK_\"+wk+\"_(RPA test \"+str(num)+\").txt\", \"W:\\\\Shared With Me\\\\RPA_loc_ff\\\\Request\\\\3_US_UK_\"+wk+\"_(RPA test \"+str(num)+\").txt\")\n",
    "    \n",
    "df_all.to_csv(folder+\"4_US_UK_\"+wk+\"_(RPA DP Regular\"+\").txt\",encoding = \"utf-8\",index = None)\n",
    "sl.move(folder+\"4_US_UK_\"+wk+\"_(RPA DP Regular\"+\").txt\", \"W:\\\\Shared With Me\\\\RPA_loc_ff\\\\Request\\\\4_US_UK_\"+wk+\"_(RPA DP Regular\"+\").txt\")"
   ]
  },
  {
   "cell_type": "code",
   "execution_count": 10,
   "metadata": {},
   "outputs": [
    {
     "data": {
      "text/plain": [
       "'W:\\\\Shared With Me\\\\RPA_loc_ff\\\\Request\\\\4_US_DE_WK23_(RPA DP Regular).txt'"
      ]
     },
     "execution_count": 10,
     "metadata": {},
     "output_type": "execute_result"
    }
   ],
   "source": [
    "df_all = pd.DataFrame(columns = ['ASIN'])\n",
    "\n",
    "#for US2DE\n",
    "for num in range(1,6):\n",
    "    df = pd.read_csv(folder+wk+\"-US-DE_\"+str(num)+\".txt\", header = None)\n",
    "    df.columns = ['ASIN']\n",
    "    df_all = df_all.append(df, ignore_index=True)\n",
    "    #df.to_csv(folder+\"3_US_DE_\"+wk+\"_(RPA test \"+str(num)+\").txt\",encoding = \"utf-8\",index = None)\n",
    "    #sl.move(folder+\"3_US_DE_\"+wk+\"_(RPA test \"+str(num)+\").txt\", \"W:\\\\Shared With Me\\\\RPA_loc_ff\\\\Request\\\\3_US_DE_\"+wk+\"_(RPA test \"+str(num)+\").txt\")\n",
    "\n",
    "df_all.to_csv(folder+\"4_US_DE_\"+wk+\"_(RPA DP Regular\"+\").txt\",encoding = \"utf-8\",index = None)\n",
    "sl.move(folder+\"4_US_DE_\"+wk+\"_(RPA DP Regular\"+\").txt\", \"W:\\\\Shared With Me\\\\RPA_loc_ff\\\\Request\\\\4_US_DE_\"+wk+\"_(RPA DP Regular\"+\").txt\")"
   ]
  },
  {
   "cell_type": "code",
   "execution_count": 11,
   "metadata": {},
   "outputs": [
    {
     "data": {
      "text/plain": [
       "'W:\\\\Shared With Me\\\\RPA_loc_ff\\\\Request\\\\4_UK_US_WK23_(RPA DP Regular).txt'"
      ]
     },
     "execution_count": 11,
     "metadata": {},
     "output_type": "execute_result"
    }
   ],
   "source": [
    "df_all = pd.DataFrame(columns = ['ASIN'])\n",
    "\n",
    "#for UK2US\n",
    "for num in range(1,2):\n",
    "    df = pd.read_csv(folder+wk+\"_UK-US_\"+str(num)+\".txt\", header = None)\n",
    "    df.columns = ['ASIN']\n",
    "    df_all = df_all.append(df, ignore_index=True)\n",
    "    #df.to_csv(folder+\"3_UK_US_\"+wk+\"_(RPA test \"+str(num)+\").txt\",encoding = \"utf-8\",index = None)\n",
    "    #sl.move(folder+\"3_UK_US_\"+wk+\"_(RPA test \"+str(num)+\").txt\", \"W:\\\\Shared With Me\\\\RPA_loc_ff\\\\Request\\\\3_UK_US_\"+wk+\"_(RPA test \"+str(num)+\").txt\")\n",
    "\n",
    "df_all.to_csv(folder+\"4_UK_US_\"+wk+\"_(RPA DP Regular\"+\").txt\",encoding = \"utf-8\",index = None)\n",
    "sl.move(folder+\"4_UK_US_\"+wk+\"_(RPA DP Regular\"+\").txt\", \"W:\\\\Shared With Me\\\\RPA_loc_ff\\\\Request\\\\4_UK_US_\"+wk+\"_(RPA DP Regular\"+\").txt\")"
   ]
  },
  {
   "cell_type": "code",
   "execution_count": 12,
   "metadata": {},
   "outputs": [
    {
     "data": {
      "text/plain": [
       "'W:\\\\Shared With Me\\\\RPA_loc_ff\\\\Request\\\\4_US_SA_WK23_(RPA DP Regular).txt'"
      ]
     },
     "execution_count": 12,
     "metadata": {},
     "output_type": "execute_result"
    }
   ],
   "source": [
    "df_all = pd.DataFrame(columns = ['ASIN'])\n",
    "\n",
    "#for US2SA\n",
    "for num in range(1,5):\n",
    "    df = pd.read_csv(folder+wk+\"-US-SA_\"+str(num)+\".txt\", header = None)\n",
    "    df.columns = ['ASIN']\n",
    "    df_all = df_all.append(df, ignore_index=True)\n",
    "    #df.to_csv(folder+\"3_US_SA_\"+wk+\"_(RPA test \"+str(num)+\").txt\",encoding = \"utf-8\",index = None)\n",
    "    #sl.move(folder+\"3_US_SA_\"+wk+\"_(RPA test \"+str(num)+\").txt\", \"W:\\\\Shared With Me\\\\RPA_loc_ff\\\\Request\\\\3_US_SA_\"+wk+\"_(RPA test \"+str(num)+\").txt\")\n",
    "\n",
    "df_all.to_csv(folder+\"4_US_SA_\"+wk+\"_(RPA DP Regular\"+\").txt\",encoding = \"utf-8\",index = None)\n",
    "sl.move(folder+\"4_US_SA_\"+wk+\"_(RPA DP Regular\"+\").txt\", \"W:\\\\Shared With Me\\\\RPA_loc_ff\\\\Request\\\\4_US_SA_\"+wk+\"_(RPA DP Regular\"+\").txt\")"
   ]
  },
  {
   "cell_type": "code",
   "execution_count": 12,
   "metadata": {},
   "outputs": [],
   "source": [
    "#for UK2AE\n",
    "for num in range(1,3):\n",
    "    df = pd.read_csv(folder+wk+\"-UK-AE_\"+str(num)+\".txt\", header = None)\n",
    "    df.columns = ['ASIN']\n",
    "    df.to_csv(folder+\"3_UK_AE_\"+wk+\"_(RPA test \"+str(num)+\").txt\",encoding = \"utf-8\",index = None)\n",
    "    sl.move(folder+\"3_UK_AE_\"+wk+\"_(RPA test \"+str(num)+\").txt\", \"W:\\\\Shared With Me\\\\RPA_loc_ff\\\\Request\\\\3_UK_AE_\"+wk+\"_(RPA test \"+str(num)+\").txt\")"
   ]
  },
  {
   "cell_type": "code",
   "execution_count": 13,
   "metadata": {},
   "outputs": [],
   "source": [
    "#for AE2SA\n",
    "for num in range(1,2):\n",
    "    df = pd.read_csv(folder+wk+\"-AE-SA_\"+str(num)+\".txt\", header = None)\n",
    "    df.columns = ['ASIN']\n",
    "    df.to_csv(folder+\"3_AE_SA_\"+wk+\"_(RPA test \"+str(num)+\").txt\",encoding = \"utf-8\",index = None)\n",
    "    sl.move(folder+\"3_AE_SA_\"+wk+\"_(RPA test \"+str(num)+\").txt\", \"W:\\\\Shared With Me\\\\RPA_loc_ff\\\\Request\\\\3_AE_SA_\"+wk+\"_(RPA test \"+str(num)+\").txt\")"
   ]
  }
 ],
 "metadata": {
  "kernelspec": {
   "display_name": "Python 3",
   "language": "python",
   "name": "python3"
  },
  "language_info": {
   "codemirror_mode": {
    "name": "ipython",
    "version": 3
   },
   "file_extension": ".py",
   "mimetype": "text/x-python",
   "name": "python",
   "nbconvert_exporter": "python",
   "pygments_lexer": "ipython3",
   "version": "3.6.8"
  }
 },
 "nbformat": 4,
 "nbformat_minor": 2
}
