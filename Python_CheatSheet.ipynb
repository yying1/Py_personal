{
 "cells": [
  {
   "cell_type": "markdown",
   "id": "2b7d0cf8",
   "metadata": {},
   "source": [
    "# Python CheatSheet | By Frank Yue Ying\n",
    "\n",
    "### Last updated on 2022-06-16\n",
    "\n",
    "Topics: Pandas, Numpy, OS,\n",
    "\n",
    "---"
   ]
  },
  {
   "cell_type": "code",
   "execution_count": null,
   "id": "701655f9",
   "metadata": {},
   "outputs": [],
   "source": [
    "import pandas as pd\n",
    "import os"
   ]
  },
  {
   "cell_type": "markdown",
   "id": "1e4ce361",
   "metadata": {},
   "source": [
    "### Read through directory and scan files"
   ]
  },
  {
   "cell_type": "code",
   "execution_count": null,
   "id": "1ccefb7a",
   "metadata": {},
   "outputs": [],
   "source": [
    "Dir = r\"C:\\Users\\yingy\\Desktop\\Discoverability\\Raw_Data\"\n",
    "files = os.listdir(Dir)\n",
    "for f in files:\n",
    "    df = pd.read_excel(os.path.join(Dir, f))"
   ]
  },
  {
   "cell_type": "markdown",
   "id": "547c001d",
   "metadata": {},
   "source": [
    "### Convert dataframe column of String date (2020-06-10) into week (24) and year (2020) numbers"
   ]
  },
  {
   "cell_type": "code",
   "execution_count": null,
   "id": "9117f4f4",
   "metadata": {},
   "outputs": [],
   "source": [
    "raw_dt['date'] = pd.to_datetime(raw_dt['date'], errors ='coerce')\n",
    "raw_dt['week'] = raw_dt['date'].dt.week\n",
    "raw_dt['year'] = raw_dt['date'].dt.year"
   ]
  },
  {
   "cell_type": "markdown",
   "id": "1725c85e",
   "metadata": {},
   "source": [
    "### Pandas Groupby"
   ]
  },
  {
   "cell_type": "code",
   "execution_count": null,
   "id": "21160f98",
   "metadata": {},
   "outputs": [],
   "source": [
    "# Groupby user id & week, show value as sum of amount column\n",
    "dt1 = dt_2020.groupby([\"user_id\",\"week\"]).agg({'amount':'sum'})"
   ]
  },
  {
   "cell_type": "markdown",
   "id": "30e548d2",
   "metadata": {},
   "source": [
    "### Print entire dataframe"
   ]
  },
  {
   "cell_type": "code",
   "execution_count": null,
   "id": "cc1f941f",
   "metadata": {},
   "outputs": [],
   "source": [
    "with pd.option_context('display.max_rows', None, 'display.max_columns', None):  # more options can be specified also\n",
    "    print(dt1)"
   ]
  },
  {
   "cell_type": "markdown",
   "id": "c75c53ea",
   "metadata": {},
   "source": [
    "### Merge Jupyter Notebook Files"
   ]
  },
  {
   "cell_type": "code",
   "execution_count": null,
   "id": "c0a4524e",
   "metadata": {},
   "outputs": [],
   "source": [
    "import nbformat\n",
    "# Reading the notebooks\n",
    "first_notebook = nbformat.read('Airtable_Modelv1_Attributes_Frank.ipynb', 4)\n",
    "second_notebook = nbformat.read('Age of checking accounts in days.ipynb', 4)\n",
    "# Creating a new notebook\n",
    "final_notebook = nbformat.v4.new_notebook(metadata=first_notebook.metadata)\n",
    "# Concatenating the notebooks\n",
    "final_notebook.cells = first_notebook.cells + second_notebook.cells\n",
    "# Saving the new notebook \n",
    "nbformat.write(final_notebook, 'final_notebook.ipynb')"
   ]
  }
 ],
 "metadata": {
  "kernelspec": {
   "display_name": "Python 3 (ipykernel)",
   "language": "python",
   "name": "python3"
  },
  "language_info": {
   "codemirror_mode": {
    "name": "ipython",
    "version": 3
   },
   "file_extension": ".py",
   "mimetype": "text/x-python",
   "name": "python",
   "nbconvert_exporter": "python",
   "pygments_lexer": "ipython3",
   "version": "3.8.9"
  }
 },
 "nbformat": 4,
 "nbformat_minor": 5
}
