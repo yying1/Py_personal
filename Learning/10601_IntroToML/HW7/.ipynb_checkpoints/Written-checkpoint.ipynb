{
 "cells": [
  {
   "cell_type": "code",
   "execution_count": null,
   "id": "d2e7d78c",
   "metadata": {},
   "outputs": [],
   "source": [
    "import numpy as np"
   ]
  },
  {
   "cell_type": "markdown",
   "id": "31c2990b",
   "metadata": {},
   "source": [
    "### Question 3"
   ]
  },
  {
   "cell_type": "code",
   "execution_count": null,
   "id": "3582a403",
   "metadata": {},
   "outputs": [],
   "source": []
  },
  {
   "cell_type": "code",
   "execution_count": null,
   "id": "2a8f072c",
   "metadata": {},
   "outputs": [],
   "source": [
    "0.69*.48*1.74"
   ]
  },
  {
   "cell_type": "code",
   "execution_count": null,
   "id": "da844151",
   "metadata": {},
   "outputs": [],
   "source": [
    "0.69*.83*.74"
   ]
  },
  {
   "cell_type": "markdown",
   "id": "a4bc9b59",
   "metadata": {},
   "source": [
    "### Question 4"
   ]
  },
  {
   "cell_type": "code",
   "execution_count": null,
   "id": "085ce27a",
   "metadata": {},
   "outputs": [],
   "source": [
    "pi = np.array([[2/5],[3/5]])"
   ]
  },
  {
   "cell_type": "code",
   "execution_count": null,
   "id": "932f9319",
   "metadata": {},
   "outputs": [],
   "source": [
    "A = np.array([[1/6,2/3,1/6],[3/8,1/8,1/2]])"
   ]
  },
  {
   "cell_type": "code",
   "execution_count": null,
   "id": "e1dc6ce9",
   "metadata": {},
   "outputs": [],
   "source": [
    "B = np.array([[1/4,3/4],[3/5,2/5]])"
   ]
  },
  {
   "cell_type": "code",
   "execution_count": null,
   "id": "07c403ac",
   "metadata": {},
   "outputs": [],
   "source": [
    "print(pi,A,B,sep =\"\\n\")"
   ]
  },
  {
   "cell_type": "code",
   "execution_count": null,
   "id": "e3a07edf",
   "metadata": {},
   "outputs": [],
   "source": [
    "alpha1 = pi*A[:,2:3] #3rd column of A given word in validation set\n",
    "print(alpha1)"
   ]
  },
  {
   "cell_type": "code",
   "execution_count": null,
   "id": "ec587375",
   "metadata": {},
   "outputs": [],
   "source": [
    "w_alpha_2 = np.array([[B[0][0]*A[0][1],B[1][0]*A[0][1]],[B[0][1]*A[1][1],B[1][1]*A[1][1]]])"
   ]
  },
  {
   "cell_type": "code",
   "execution_count": null,
   "id": "451fe64d",
   "metadata": {},
   "outputs": [],
   "source": [
    "alpha2 =  w_alpha_2.dot(alpha1) #use dot product for alpha 2\n",
    "print(alpha2)"
   ]
  },
  {
   "cell_type": "code",
   "execution_count": null,
   "id": "a493e20d",
   "metadata": {},
   "outputs": [],
   "source": [
    "w_alpha_3 = np.array([[B[0][0]*A[0][0],B[1][0]*A[0][0]],[B[0][1]*A[1][0],B[1][1]*A[1][0]]])\n",
    "print(w_alpha_3)\n",
    "alpha3 =  w_alpha_3.dot(alpha2) #use dot product for alpha 3\n",
    "print(alpha3)\n",
    "p_x = alpha3.sum()"
   ]
  },
  {
   "cell_type": "code",
   "execution_count": null,
   "id": "50403b31",
   "metadata": {},
   "outputs": [],
   "source": [
    "print(alpha3[0][0]/p_x,alpha3[1][0]/p_x)"
   ]
  },
  {
   "cell_type": "code",
   "execution_count": null,
   "id": "643ee8f8",
   "metadata": {},
   "outputs": [],
   "source": [
    "beta3 = np.array([[1],[1]])\n",
    "w_beta_2 = np.array([[B[0][0]*A[0][0],B[0][1]*A[1][0]],[B[1][0]*A[0][0],B[1][1]*A[1][0]]])\n",
    "print(beta3)\n",
    "print(w_beta_2)"
   ]
  },
  {
   "cell_type": "code",
   "execution_count": null,
   "id": "fb93cba0",
   "metadata": {},
   "outputs": [],
   "source": [
    "beta2 = w_beta_2.dot(beta3)\n",
    "print(beta2)"
   ]
  },
  {
   "cell_type": "code",
   "execution_count": null,
   "id": "3dd8cdd7",
   "metadata": {},
   "outputs": [],
   "source": [
    "w_beta_1 = np.array([[B[0][0]*A[0][1],B[0][1]*A[1][1]],[B[1][0]*A[0][1],B[1][1]*A[1][1]]])\n",
    "beta1 = w_beta_1.dot(beta2)\n",
    "print(beta1)\n",
    "print(w_beta_1)"
   ]
  },
  {
   "cell_type": "code",
   "execution_count": null,
   "id": "a2ce9429",
   "metadata": {},
   "outputs": [],
   "source": [
    "print(alpha1[0][0]*beta1[0][0]/p_x,alpha1[1][0]*beta1[1][0]/p_x)\n",
    "print(alpha2[0][0]*beta2[0][0]/p_x,alpha2[1][0]*beta2[1][0]/p_x)\n",
    "print(alpha3[0][0]*beta3[0][0]/p_x,alpha3[1][0]*beta3[1][0]/p_x)"
   ]
  },
  {
   "cell_type": "code",
   "execution_count": null,
   "id": "29f15326",
   "metadata": {},
   "outputs": [],
   "source": [
    "print(np.log(alpha1[1][0]+alpha2[0][0]+alpha3[1][0]))"
   ]
  },
  {
   "cell_type": "code",
   "execution_count": null,
   "id": "87a26bcd",
   "metadata": {},
   "outputs": [],
   "source": [
    "B"
   ]
  },
  {
   "cell_type": "code",
   "execution_count": null,
   "id": "0bb085a2",
   "metadata": {},
   "outputs": [],
   "source": [
    "B.T"
   ]
  }
 ],
 "metadata": {
  "kernelspec": {
   "display_name": "Python 3 (ipykernel)",
   "language": "python",
   "name": "python3"
  },
  "language_info": {
   "codemirror_mode": {
    "name": "ipython",
    "version": 3
   },
   "file_extension": ".py",
   "mimetype": "text/x-python",
   "name": "python",
   "nbconvert_exporter": "python",
   "pygments_lexer": "ipython3",
   "version": "3.10.0"
  }
 },
 "nbformat": 4,
 "nbformat_minor": 5
}
