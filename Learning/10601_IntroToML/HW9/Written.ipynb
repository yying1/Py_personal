{
 "cells": [
  {
   "cell_type": "code",
   "execution_count": 3,
   "id": "48f3059f",
   "metadata": {},
   "outputs": [],
   "source": [
    "import math as m"
   ]
  },
  {
   "cell_type": "markdown",
   "id": "85301849",
   "metadata": {},
   "source": [
    "### 4.2"
   ]
  },
  {
   "cell_type": "code",
   "execution_count": 3,
   "id": "c742654a",
   "metadata": {},
   "outputs": [],
   "source": [
    "c0 = [5.3,3.5]\n",
    "c1 = [5.1,4.2]\n",
    "Points = [[5.5,3.1], [5.1,4.8],[6.6,3.0],[5.5,4.6],[6.8,3.8]]"
   ]
  },
  {
   "cell_type": "code",
   "execution_count": 12,
   "id": "8df958af",
   "metadata": {},
   "outputs": [],
   "source": [
    "Assignments = []\n",
    "for p in Points:\n",
    "    d0 = m.sqrt((p[0]-c0[0])**2+(p[1]-c0[1])**2)\n",
    "    d1 = m.sqrt((p[0]-c1[0])**2+(p[1]-c1[1])**2)\n",
    "    if d0 > d1:\n",
    "        Assignments.append(1)\n",
    "    else:\n",
    "        Assignments.append(0)"
   ]
  },
  {
   "cell_type": "code",
   "execution_count": 9,
   "id": "01a3a5dd",
   "metadata": {},
   "outputs": [],
   "source": [
    "sum_x = 0\n",
    "sum_y = 0\n",
    "num = 0\n",
    "for i,v in enumerate(Assignments):\n",
    "    if v == 0:\n",
    "        sum_x += Points[i][0]\n",
    "        sum_y += Points[i][1]\n",
    "        num+=1\n",
    "c0 = [sum_x/num,sum_y/num]"
   ]
  },
  {
   "cell_type": "code",
   "execution_count": 10,
   "id": "323b3d3f",
   "metadata": {},
   "outputs": [],
   "source": [
    "sum_x = 0\n",
    "sum_y = 0\n",
    "num = 0\n",
    "for i,v in enumerate(Assignments):\n",
    "    if v == 1:\n",
    "        sum_x += Points[i][0]\n",
    "        sum_y += Points[i][1]\n",
    "        num+=1\n",
    "c1 = [sum_x/num,sum_y/num]"
   ]
  },
  {
   "cell_type": "code",
   "execution_count": 13,
   "id": "bcdea092",
   "metadata": {},
   "outputs": [
    {
     "data": {
      "text/plain": [
       "[0, 1, 0, 1, 0]"
      ]
     },
     "execution_count": 13,
     "metadata": {},
     "output_type": "execute_result"
    }
   ],
   "source": [
    "Assignments"
   ]
  }
 ],
 "metadata": {
  "kernelspec": {
   "display_name": "Python 3 (ipykernel)",
   "language": "python",
   "name": "python3"
  },
  "language_info": {
   "codemirror_mode": {
    "name": "ipython",
    "version": 3
   },
   "file_extension": ".py",
   "mimetype": "text/x-python",
   "name": "python",
   "nbconvert_exporter": "python",
   "pygments_lexer": "ipython3",
   "version": "3.10.0"
  }
 },
 "nbformat": 4,
 "nbformat_minor": 5
}
