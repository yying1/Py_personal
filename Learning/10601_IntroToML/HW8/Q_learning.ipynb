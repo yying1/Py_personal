{
 "cells": [
  {
   "cell_type": "code",
   "execution_count": 1,
   "id": "db105ae7",
   "metadata": {},
   "outputs": [],
   "source": [
    "import argparse\n",
    "import numpy as np\n",
    "from environment import MountainCar, GridWorld"
   ]
  },
  {
   "cell_type": "markdown",
   "id": "d1bb2304",
   "metadata": {},
   "source": [
    "python q_learning.py gw tile gw_simple_weight.out gw_simple_returns.out 1 1 0.0 1 1"
   ]
  },
  {
   "cell_type": "markdown",
   "id": "5dfa00e4",
   "metadata": {},
   "source": [
    "python q_learning.py gw tile gw_weight.out gw_returns.out 3 5 0.0 0.9 0.01"
   ]
  },
  {
   "cell_type": "markdown",
   "id": "c54ffa74",
   "metadata": {},
   "source": [
    "python q_learning.py mc tile mc_tile_weight.out mc_tile_returns.out 25 200 0.0 0.99 0.005"
   ]
  },
  {
   "cell_type": "markdown",
   "id": "c6234d7b",
   "metadata": {},
   "source": [
    "python q_learning.py mc raw mc_raw_weight.out mc_raw_returns.out 4 200 0.05 0.99 0.01"
   ]
  },
  {
   "cell_type": "markdown",
   "id": "4532cbb9",
   "metadata": {},
   "source": [
    "### Dev Section Start"
   ]
  },
  {
   "cell_type": "code",
   "execution_count": 2,
   "id": "22fcc52b",
   "metadata": {},
   "outputs": [],
   "source": [
    "parser = argparse.ArgumentParser()\n",
    "parser.add_argument('environment', type=str, choices=['mc', 'gw'],help='the environment to use')\n",
    "parser.add_argument('mode', type=str, choices=['raw', 'tile'],help='mode to run the environment in')\n",
    "parser.add_argument('weight_out', type=str,help='path to output the weights of the linear model')\n",
    "parser.add_argument('returns_out', type=str,help='path to output the returns of the agent')\n",
    "parser.add_argument('episodes', type=int,help='the number of episodes to train the agent for')\n",
    "parser.add_argument('max_iterations', type=int,help='the maximum of the length of an episode')\n",
    "parser.add_argument('epsilon', type=float,help='the value of epsilon for epsilon-greedy')\n",
    "parser.add_argument('gamma', type=float,help='the discount factor gamma')\n",
    "parser.add_argument('learning_rate', type=float,help='the learning rate alpha')\n",
    "parser.add_argument('--debug', type=bool, default=True,help='set to True to show logging')\n",
    "parser.environment = \"mc\"\n",
    "parser.mode = \"tile\"\n",
    "parser.weight_out = \"mc_raw_weight.out\"\n",
    "parser.returns_out = \"mc_raw_returns.out\"\n",
    "parser.episodes = 400\n",
    "parser.max_iterations = 200\n",
    "parser.epsilon = 0.05\n",
    "parser.gamma = 0.99\n",
    "parser.learning_rate = 0.00005\n",
    "parser.debug = False\n",
    "args = parser"
   ]
  },
  {
   "cell_type": "code",
   "execution_count": 3,
   "id": "278336b5",
   "metadata": {},
   "outputs": [],
   "source": [
    "mode = args.mode\n",
    "weight_out = args.weight_out\n",
    "returns_out = args.returns_out\n",
    "episodes = args.episodes\n",
    "max_iterations = args.max_iterations\n",
    "epsilon = args.epsilon\n",
    "gamma = args.gamma\n",
    "learning_rate = args.learning_rate\n",
    "debug = args.debug\n",
    "if args.environment == 'mc':\n",
    "    env = MountainCar(mode=mode, debug=debug)\n",
    "else:\n",
    "    env = GridWorld(mode=mode, debug=debug)"
   ]
  },
  {
   "cell_type": "code",
   "execution_count": 4,
   "id": "365198b8",
   "metadata": {},
   "outputs": [],
   "source": [
    "# TODO: Initialize your weights/bias here\n",
    "weights = np.zeros((env.state_space,env.action_space),dtype=float) # Our shape is |S| x |A|, if this helps.\n",
    "bias = 0.0\n",
    "# If you decide to fold in the bias (hint: don't), recall how the bias is defined!"
   ]
  },
  {
   "cell_type": "code",
   "execution_count": 5,
   "id": "63cfdbbd",
   "metadata": {},
   "outputs": [],
   "source": [
    "def create_state_array (state,state_space):\n",
    "    state_array = np.zeros((state_space,1),dtype=float)\n",
    "    for s, v in state.items():\n",
    "        state_array[s,0] = v\n",
    "    return state_array"
   ]
  },
  {
   "cell_type": "code",
   "execution_count": 6,
   "id": "46852dd3",
   "metadata": {},
   "outputs": [],
   "source": [
    "def optimal_action(state_array,action_space,weights,bias):\n",
    "    action = 0\n",
    "    action_q = state_array.T.dot(weights[:,action])+bias\n",
    "    for a in range(1,action_space):\n",
    "        q = state_array.T.dot(weights[:,a])+bias\n",
    "        if q > action_q:\n",
    "            action_q = q\n",
    "            action = a\n",
    "    return action"
   ]
  },
  {
   "cell_type": "code",
   "execution_count": 7,
   "id": "e1de089e",
   "metadata": {},
   "outputs": [],
   "source": [
    "def update_weight_bias(state_array,action,learning_rate,gamma,reward,q,q1,weights,bias):\n",
    "    value = learning_rate*(q-(reward+gamma*q1))\n",
    "#     print(weights)\n",
    "#     print(action)\n",
    "#     print(\"value:\" + str(value))\n",
    "#     if reward > 0:\n",
    "#         print(state_array.T)\n",
    "#         print(value)\n",
    "#         print(weights)\n",
    "    weights[:,action] =weights[:,action] - value*state_array.T\n",
    "#     if reward > 0:\n",
    "#         print(\"updated\")\n",
    "#         print(weights)\n",
    "#     print(weights)\n",
    "#     print(\"next\")\n",
    "    return weights, bias-value"
   ]
  },
  {
   "cell_type": "code",
   "execution_count": 8,
   "id": "36133c67",
   "metadata": {
    "scrolled": true
   },
   "outputs": [
    {
     "name": "stderr",
     "output_type": "stream",
     "text": [
      "C:\\Users\\yingy\\AppData\\Local\\Temp/ipykernel_17556/1023719501.py:13: VisibleDeprecationWarning: Creating an ndarray from ragged nested sequences (which is a list-or-tuple of lists-or-tuples-or ndarrays with different lengths or shapes) is deprecated. If you meant to do this, you must specify 'dtype=object' when creating the ndarray.\n",
      "  action = int(np.random.choice([exploit_action,explore_action], 1, replace=True, p=[1-epsilon,epsilon])[0])\n"
     ]
    }
   ],
   "source": [
    "returns = []  # This is where you will save the return after each episode\n",
    "for episode in range(episodes):\n",
    "    # Reset the environment at the start of each episode\n",
    "    state = env.reset()  # `state` now is the initial state\n",
    "    total_reward = 0\n",
    "    for it in range(max_iterations):\n",
    "        #Create state array\n",
    "        state_array = create_state_array(state, env.state_space)\n",
    "        #Identify optimal action with max q\n",
    "        exploit_action = optimal_action(state_array,env.action_space,weights,bias)\n",
    "        if epsilon > 0:\n",
    "            explore_action =  np.random.randint(low=0, high=env.action_space - 1, size=(1))\n",
    "            action = int(np.random.choice([exploit_action,explore_action], 1, replace=True, p=[1-epsilon,epsilon])[0])\n",
    "        else:\n",
    "            action = exploit_action\n",
    "        q_value = state_array.T.dot(weights[:,action])+bias\n",
    "        #step\n",
    "        state_1, reward, done =  env.step(action)\n",
    "        total_reward +=reward\n",
    "        #Idetify q value for state_1\n",
    "        state_1_array = create_state_array(state_1, env.state_space)\n",
    "        next_q_value = state_1_array.T.dot(weights[:,optimal_action(state_1_array,env.action_space,weights,bias)])+bias\n",
    "        #update weight and bias\n",
    "        weights,bias = update_weight_bias(state_array,action,learning_rate,gamma,reward,q_value,next_q_value,weights,bias)\n",
    "        if done == True:\n",
    "            break\n",
    "        state = state_1.copy()\n",
    "    returns.append(total_reward)\n",
    "        # TODO: Fill in what we have to do every iteration\n",
    "        # Hint 1: `env.step(ACTION)` makes the agent take an action\n",
    "        #         corresponding to `ACTION` (MUST be an INTEGER)\n",
    "        # Hint 2: The size of the action space is `env.action_space`, and\n",
    "        #         the size of the state space is `env.state_space`\n",
    "        # Hint 3: `ACTION` should be one of 0, 1, ..., env.action_space - 1\n",
    "        # Hint 4: For Grid World, the action mapping is\n",
    "        #         {\"up\": 0, \"down\": 1, \"left\": 2, \"right\": 3}\n",
    "        #         Remember when you call `env.step()` you have to pass\n",
    "        #         the INTEGER representing each action!"
   ]
  },
  {
   "cell_type": "code",
   "execution_count": 9,
   "id": "758a45b8",
   "metadata": {},
   "outputs": [],
   "source": [
    "import pandas as pd\n",
    "rm = []\n",
    "window_size = 25\n",
    "windows = pd.Series(returns).rolling(window_size)\n",
    "moving_averages = windows.mean()\n",
    "moving_averages_list = moving_averages.tolist()"
   ]
  },
  {
   "cell_type": "code",
   "execution_count": 10,
   "id": "ec665812",
   "metadata": {},
   "outputs": [
    {
     "data": {
      "image/png": "[encoded data removed]",
      "text/plain": [
       "<Figure size 432x288 with 1 Axes>"
      ]
     },
     "metadata": {
      "needs_background": "light"
     },
     "output_type": "display_data"
    }
   ],
   "source": [
    "import matplotlib.pyplot as plt\n",
    "x = list(range(1,401))\n",
    "plt.plot(x, returns,'b',label=\"return\")\n",
    "plt.plot(x, moving_averages_list,'r',label=\"Moving Average\")\n",
    "# plt.ylim(0, 0.6)\n",
    "plt.xlim(0,401)\n",
    "plt.legend(loc=\"upper left\")\n",
    "plt.xlabel(\"# of episode\")\n",
    "plt.ylabel(\"return\")\n",
    "plt.savefig('1_Tile.png')\n",
    "plt.show()"
   ]
  },
  {
   "cell_type": "code",
   "execution_count": null,
   "id": "9cce9bb7",
   "metadata": {},
   "outputs": [],
   "source": [
    "for x in np.ravel(weights):\n",
    "    print(x) "
   ]
  },
  {
   "cell_type": "code",
   "execution_count": null,
   "id": "d9db8d38",
   "metadata": {},
   "outputs": [],
   "source": [
    "def output(weights,bias,returns,weight_out,returns_out):\n",
    "    with open (returns_out, \"w\") as f_r:\n",
    "        for r in returns:\n",
    "            f_r.write(str(r)+\"\\n\")\n",
    "    with open(weight_out,\"w\") as f_w:\n",
    "        f_w.write(str(bias[0])+\"\\n\")\n",
    "        for x in np.ravel(weights): \n",
    "            f_w.write(str(x)+\"\\n\")"
   ]
  },
  {
   "cell_type": "code",
   "execution_count": null,
   "id": "f6da686a",
   "metadata": {},
   "outputs": [],
   "source": [
    "output(weights,bias,returns,weight_out,returns_out)"
   ]
  },
  {
   "cell_type": "markdown",
   "id": "8ebdc622",
   "metadata": {},
   "source": [
    "### Dev Section End"
   ]
  },
  {
   "cell_type": "code",
   "execution_count": null,
   "id": "85fe158a",
   "metadata": {},
   "outputs": [],
   "source": [
    "def main(args):\n",
    "    # Command line inputs\n",
    "    mode = args.mode\n",
    "    weight_out = args.weight_out\n",
    "    returns_out = args.returns_out\n",
    "    episodes = args.episodes\n",
    "    max_iterations = args.max_iterations\n",
    "    epsilon = args.epsilon\n",
    "    gamma = args.gamma\n",
    "    learning_rate = args.learning_rate\n",
    "    debug = args.debug\n",
    "\n",
    "    # We will initialize the environment for you:\n",
    "    if args.environment == 'mc':\n",
    "        env = MountainCar(mode=mode, debug=debug)\n",
    "    else:\n",
    "        env = GridWorld(mode=mode, debug=debug)\n",
    "\n",
    "    # TODO: Initialize your weights/bias here\n",
    "    # weights = ...  # Our shape is |A| x |S|, if this helps.\n",
    "    # bias = ...\n",
    "    # If you decide to fold in the bias (hint: don't), recall how the bias is\n",
    "    # defined!\n",
    "\n",
    "    returns = []  # This is where you will save the return after each episode\n",
    "    for episode in range(episodes):\n",
    "        # Reset the environment at the start of each episode\n",
    "        state = env.reset()  # `state` now is the initial state\n",
    "        for it in range(max_iterations):\n",
    "            # TODO: Fill in what we have to do every iteration\n",
    "            # Hint 1: `env.step(ACTION)` makes the agent take an action\n",
    "            #         corresponding to `ACTION` (MUST be an INTEGER)\n",
    "            # Hint 2: The size of the action space is `env.action_space`, and\n",
    "            #         the size of the state space is `env.state_space`\n",
    "            # Hint 3: `ACTION` should be one of 0, 1, ..., env.action_space - 1\n",
    "            # Hint 4: For Grid World, the action mapping is\n",
    "            #         {\"up\": 0, \"down\": 1, \"left\": 2, \"right\": 3}\n",
    "            #         Remember when you call `env.step()` you have to pass\n",
    "            #         the INTEGER representing each action!\n",
    "            pass  # You can delete this `pass`\n",
    "\n",
    "    # TODO: Save output files"
   ]
  },
  {
   "cell_type": "code",
   "execution_count": null,
   "id": "39a107ff",
   "metadata": {},
   "outputs": [],
   "source": [
    "if __name__ == \"__main__\":\n",
    "    # No need to change anything here\n",
    "    parser = argparse.ArgumentParser()\n",
    "    parser.add_argument('environment', type=str, choices=['mc', 'gw'],\n",
    "                        help='the environment to use')\n",
    "    parser.add_argument('mode', type=str, choices=['raw', 'tile'],\n",
    "                        help='mode to run the environment in')\n",
    "    parser.add_argument('weight_out', type=str,\n",
    "                        help='path to output the weights of the linear model')\n",
    "    parser.add_argument('returns_out', type=str,\n",
    "                        help='path to output the returns of the agent')\n",
    "    parser.add_argument('episodes', type=int,\n",
    "                        help='the number of episodes to train the agent for')\n",
    "    parser.add_argument('max_iterations', type=int,\n",
    "                        help='the maximum of the length of an episode')\n",
    "    parser.add_argument('epsilon', type=float,\n",
    "                        help='the value of epsilon for epsilon-greedy')\n",
    "    parser.add_argument('gamma', type=float,\n",
    "                        help='the discount factor gamma')\n",
    "    parser.add_argument('learning_rate', type=float,\n",
    "                        help='the learning rate alpha')\n",
    "    parser.add_argument('--debug', type=bool, default=False,\n",
    "                        help='set to True to show logging')\n",
    "    main(parser.parse_args())"
   ]
  }
 ],
 "metadata": {
  "kernelspec": {
   "display_name": "Python 3 (ipykernel)",
   "language": "python",
   "name": "python3"
  },
  "language_info": {
   "codemirror_mode": {
    "name": "ipython",
    "version": 3
   },
   "file_extension": ".py",
   "mimetype": "text/x-python",
   "name": "python",
   "nbconvert_exporter": "python",
   "pygments_lexer": "ipython3",
   "version": "3.10.0"
  }
 },
 "nbformat": 4,
 "nbformat_minor": 5
}
