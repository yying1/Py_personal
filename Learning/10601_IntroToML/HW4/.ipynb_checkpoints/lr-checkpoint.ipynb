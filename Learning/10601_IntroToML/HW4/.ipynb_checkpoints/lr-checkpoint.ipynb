{
 "cells": [
  {
   "cell_type": "code",
   "execution_count": 1,
   "id": "059658ca",
   "metadata": {},
   "outputs": [],
   "source": [
    "# 2022-02-28 yying2@\n",
    "import numpy as np\n",
    "import math"
   ]
  },
  {
   "cell_type": "code",
   "execution_count": 15,
   "id": "6c914a33",
   "metadata": {},
   "outputs": [],
   "source": [
    "def read_data(f):\n",
    "    dataset = np.loadtxt(f, delimiter='\\t', comments=None, encoding='utf-8',dtype=np.float64)\n",
    "    return dataset"
   ]
  },
  {
   "cell_type": "code",
   "execution_count": 3,
   "id": "ea7ef651",
   "metadata": {},
   "outputs": [],
   "source": [
    "def prepare_data(data):\n",
    "    theta = np.zeros(data.shape[1],dtype=np.float64)\n",
    "    y_actual = data[:, 0].copy()\n",
    "    data[:,0] = 1\n",
    "    return theta,y_actual,data.copy()"
   ]
  },
  {
   "cell_type": "code",
   "execution_count": 4,
   "id": "885bd9d7",
   "metadata": {},
   "outputs": [],
   "source": [
    "def sigmoid(theta, x):\n",
    "    dotprod_output = np.dot(x, theta)\n",
    "    e = np.exp(dotprod_output)\n",
    "    return e / (1 + e)"
   ]
  },
  {
   "cell_type": "code",
   "execution_count": 5,
   "id": "e4b0abe9",
   "metadata": {},
   "outputs": [],
   "source": [
    "def predict(theta, X):\n",
    "    # TODO: Implement `predict` using vectorization\n",
    "    prediction = np.zeros(X.shape[0])\n",
    "    for i in range(X.shape[0]):\n",
    "        if sigmoid(theta,X[i]) > 0.5:\n",
    "            prediction[i] = 1\n",
    "    return prediction"
   ]
  },
  {
   "cell_type": "code",
   "execution_count": 6,
   "id": "77dbba5a",
   "metadata": {},
   "outputs": [],
   "source": [
    "def train(theta, X, y, num_epoch, learning_rate):\n",
    "    # TODO: Implement `train` using vectorization\n",
    "    N = X.shape[0]\n",
    "    for ep in range(int(num_epoch)):\n",
    "        for i in range(len(X)):\n",
    "            J_theta_d = - X[i].T.dot(y[i]-sigmoid(theta,X[i]))\n",
    "            theta = theta - learning_rate*J_theta_d\n",
    "    return theta"
   ]
  },
  {
   "cell_type": "code",
   "execution_count": 7,
   "id": "854c6601",
   "metadata": {},
   "outputs": [],
   "source": [
    "def compute_error(y_pred, y):\n",
    "    # TODO: Implement `compute_error` using vectorization\n",
    "    total = len(y)\n",
    "    error = 0.0\n",
    "    for i in range(total):\n",
    "        if round(float(y[i]),5) != round(float(y_pred[i]),5):\n",
    "            error+=1\n",
    "    return '{:.6f}'.format(round(error/total,6))"
   ]
  },
  {
   "cell_type": "code",
   "execution_count": null,
   "id": "39c0c799",
   "metadata": {},
   "outputs": [],
   "source": [
    "def phi_matrix(theta, xi):\n",
    "    return math.exp(theta.dot(xi))/(1+math.exp(theta.dot(xi)))"
   ]
  },
  {
   "cell_type": "code",
   "execution_count": 8,
   "id": "971b5685",
   "metadata": {},
   "outputs": [],
   "source": [
    "def train1(theta, X, y, num_epoch, learning_rate):\n",
    "    N = X.shape[0]\n",
    "    ll = []\n",
    "    for ep in range(int(num_epoch)):\n",
    "        for i in range(len(X)):\n",
    "            J_theta_d = - X[i].T.dot(y[i]-sigmoid(theta,X[i]))\n",
    "            theta = theta - learning_rate*J_theta_d\n",
    "        scores = np.dot(X, theta)\n",
    "        ll.append(np.sum(- y*scores + np.log(1 + np.exp(scores)))/N)\n",
    "    return theta,ll"
   ]
  },
  {
   "cell_type": "code",
   "execution_count": null,
   "id": "7fc2d2f4",
   "metadata": {},
   "outputs": [],
   "source": [
    "#7.1\n",
    "training_l = []\n",
    "validation_l = []\n",
    "data = [\"largeoutput/model1_formatted_train.tsv\",\"largeoutput/model1_formatted_valid.tsv\"]\n",
    "for i in range(2):\n",
    "    dt = read_data(data[i])\n",
    "    theta_original,y,X = prepare_data(dt)\n",
    "    theta_final, ll = train1(theta_original, X, y, 5000, 0.00001)\n",
    "    if i == 0:\n",
    "        training_l = ll.copy()\n",
    "    else:\n",
    "        validation_l = ll.copy()"
   ]
  },
  {
   "cell_type": "code",
   "execution_count": null,
   "id": "3b94e1b5",
   "metadata": {},
   "outputs": [],
   "source": [
    "import matplotlib.pyplot as plt\n",
    "num_epoch = list(range(5000))\n",
    "plt.plot(num_epoch, training_l,'b',label=\"Training: log-likelihood\")\n",
    "plt.plot(num_epoch, validation_l,'r',label=\"Validate: log-likelihood\")\n",
    "# plt.ylim(0, 0.6)\n",
    "plt.xlim(0,5000)\n",
    "plt.legend(loc=\"upper center\")\n",
    "plt.savefig('7_1.png')\n",
    "plt.show()"
   ]
  },
  {
   "cell_type": "code",
   "execution_count": 22,
   "id": "96a13eab",
   "metadata": {},
   "outputs": [
    {
     "name": "stdout",
     "output_type": "stream",
     "text": [
      "largeoutput/model1_formatted_train.tsv\n",
      "largeoutput/model1_formatted_test.tsv\n"
     ]
    }
   ],
   "source": [
    "## 7.4\n",
    "data_train = [\"largeoutput/model1_formatted_train.tsv\",\"largeoutput/model2_formatted_train.tsv\"]\n",
    "data_test = [\"largeoutput/model1_formatted_test.tsv\",\"largeoutput/model2_formatted_test.tsv\"]\n",
    "errors = []\n",
    "i = 0\n",
    "dt = read_data(data_train[i])\n",
    "print(data_train[i])\n",
    "theta_original,y,X = prepare_data(dt)\n",
    "theta_final = train(theta_original, X, y,5000, 0.00001)\n",
    "y_hat= predict(theta_final,X)\n",
    "error = compute_error(y_hat,y)\n",
    "errors.append(error)\n",
    "dt1 = read_data(data_test[i])\n",
    "print(data_test[i])\n",
    "theta_original,y,X = prepare_data(dt1)\n",
    "y_hat= predict(theta_final,X)\n",
    "error = compute_error(y_hat,y)\n",
    "errors.append(error)"
   ]
  },
  {
   "cell_type": "code",
   "execution_count": 23,
   "id": "21ccab37",
   "metadata": {},
   "outputs": [
    {
     "data": {
      "text/plain": [
       "['0.000000', '0.140000']"
      ]
     },
     "execution_count": 23,
     "metadata": {},
     "output_type": "execute_result"
    }
   ],
   "source": [
    "errors"
   ]
  },
  {
   "cell_type": "code",
   "execution_count": 19,
   "id": "f311bbd9",
   "metadata": {},
   "outputs": [
    {
     "name": "stdout",
     "output_type": "stream",
     "text": [
      "0\n",
      "1\n",
      "2\n"
     ]
    }
   ],
   "source": [
    "#7.5\n",
    "training_1 = []\n",
    "training_2 = []\n",
    "training_3 = []\n",
    "a = [0.0001,0.00001,0.000001]\n",
    "# data = [\"largeoutput/model1_formatted_train.tsv\",\"largeoutput/model1_formatted_valid.tsv\"]\n",
    "dt = read_data(\"largeoutput/model1_formatted_train.tsv\")\n",
    "theta_original,y,X = prepare_data(dt)\n",
    "for i in range(3):\n",
    "    print(i)\n",
    "    theta_final, ll = train1(theta_original, X, y, 5000, a[i])\n",
    "    if i == 0:\n",
    "        training_1 = ll.copy()\n",
    "    elif i ==1:\n",
    "        training_2 = ll.copy()\n",
    "    else:\n",
    "        training_3 = ll.copy()"
   ]
  },
  {
   "cell_type": "code",
   "execution_count": 20,
   "id": "f60b5754",
   "metadata": {},
   "outputs": [
    {
     "data": {
      "image/png": "[encoded data removed]",
      "text/plain": [
       "<Figure size 432x288 with 1 Axes>"
      ]
     },
     "metadata": {
      "needs_background": "light"
     },
     "output_type": "display_data"
    }
   ],
   "source": [
    "num_epoch = list(range(5000))\n",
    "plt.plot(num_epoch, training_1,'b',label=\"10^-4\")\n",
    "plt.plot(num_epoch, training_2,'r',label=\"10^-5\")\n",
    "plt.plot(num_epoch, training_3,'g',label=\"10^-6\")\n",
    "# plt.ylim(0, 0.6)\n",
    "plt.xlim(0,5000)\n",
    "plt.legend(loc=\"upper center\")\n",
    "plt.savefig('7_5.png')\n",
    "plt.show()"
   ]
  },
  {
   "cell_type": "code",
   "execution_count": 13,
   "id": "32f763c2",
   "metadata": {},
   "outputs": [],
   "source": [
    "#7.7\n",
    "model_3 = read_data(\"model3_val_nll.txt\")\n",
    "model_3_val = model_3[:, 1].copy()"
   ]
  },
  {
   "cell_type": "code",
   "execution_count": 16,
   "id": "7a3aa986",
   "metadata": {},
   "outputs": [],
   "source": [
    "dt = read_data(\"largeoutput/model1_formatted_valid.tsv\")\n",
    "theta_original,y,X = prepare_data(dt)\n",
    "theta_final, ll = train1(theta_original, X, y, 5000, 0.00001)\n",
    "model_1_val = ll.copy()\n",
    "dt = read_data(\"largeoutput/model2_formatted_valid.tsv\")\n",
    "theta_original,y,X = prepare_data(dt)\n",
    "theta_final, ll = train1(theta_original, X, y, 5000, 0.00001)\n",
    "model_2_val = ll.copy()"
   ]
  },
  {
   "cell_type": "code",
   "execution_count": 18,
   "id": "32bea51a",
   "metadata": {},
   "outputs": [
    {
     "data": {
      "image/png": "[encoded data removed]",
      "text/plain": [
       "<Figure size 432x288 with 1 Axes>"
      ]
     },
     "metadata": {
      "needs_background": "light"
     },
     "output_type": "display_data"
    }
   ],
   "source": [
    "import matplotlib.pyplot as plt\n",
    "num_epoch = list(range(5000))\n",
    "plt.plot(num_epoch, model_1_val,'b',label=\"Model 1\")\n",
    "plt.plot(num_epoch, model_2_val,'r',label=\"Model 2\")\n",
    "plt.plot(num_epoch, model_3_val,'g',label=\"Model 3\")\n",
    "# plt.ylim(0, 0.6)\n",
    "plt.xlim(0,5000)\n",
    "plt.legend(loc=\"upper center\")\n",
    "plt.savefig('7_7.png')\n",
    "plt.show()"
   ]
  },
  {
   "cell_type": "code",
   "execution_count": null,
   "id": "2a592659",
   "metadata": {},
   "outputs": [],
   "source": [
    "def main(train_in,val_in,test_in,train_out,test_out,metric_out,epoch,rate):\n",
    "    data_input = [train_in,test_in]\n",
    "    data_output = [train_out,test_out]\n",
    "    errors = []\n",
    "    for i in range(len(data_input)):\n",
    "        dt = read_data(data_input[i])\n",
    "        theta_original,y,X = prepare_data(dt)\n",
    "        if i == 0:\n",
    "            theta_final = train(theta_original, X, y, int(epoch), float(rate))\n",
    "        y_hat= predict(theta_final,X)\n",
    "        error = compute_error(y_hat,y)\n",
    "        errors.append(error)\n",
    "        np.savetxt(data_output[i], y_hat, delimiter=\",\",fmt=\"%i\")\n",
    "    with open(metric_out, 'w') as f_out:\n",
    "        f_out.write(\"error(train): \"+str(errors[0])+\"\\n\")\n",
    "        f_out.write(\"error(test): \"+str(errors[1]))"
   ]
  },
  {
   "cell_type": "code",
   "execution_count": null,
   "id": "31167493",
   "metadata": {},
   "outputs": [],
   "source": [
    "if __name__ == '__main__':\n",
    "    import sys\n",
    "    import numpy as np\n",
    "    main(sys.argv[1],sys.argv[2],sys.argv[3],sys.argv[4],sys.argv[5],sys.argv[6],sys.argv[7],sys.argv[8])"
   ]
  }
 ],
 "metadata": {
  "kernelspec": {
   "display_name": "Python 3 (ipykernel)",
   "language": "python",
   "name": "python3"
  },
  "language_info": {
   "codemirror_mode": {
    "name": "ipython",
    "version": 3
   },
   "file_extension": ".py",
   "mimetype": "text/x-python",
   "name": "python",
   "nbconvert_exporter": "python",
   "pygments_lexer": "ipython3",
   "version": "3.10.0"
  }
 },
 "nbformat": 4,
 "nbformat_minor": 5
}
