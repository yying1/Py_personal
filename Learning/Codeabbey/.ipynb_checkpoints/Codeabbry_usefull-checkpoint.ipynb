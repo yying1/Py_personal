{
 "cells": [
  {
   "cell_type": "code",
   "execution_count": null,
   "id": "20c1f340",
   "metadata": {},
   "outputs": [],
   "source": [
    "# Python program to print prime factors\n",
    "\n",
    "import math\n",
    "\n",
    "def primeFactors(n):\n",
    "    factor_list = {}\n",
    "    while n % 2 == 0:\n",
    "        if 2 in factor_list.keys():\n",
    "            factor_list[2]+=1\n",
    "        else:\n",
    "            factor_list[2] = 1\n",
    "        n = n / 2\n",
    "\n",
    "    for i in range(3,int(math.sqrt(n))+1,2):\n",
    "        while n % i== 0:\n",
    "            if i in factor_list.keys():\n",
    "                factor_list[i]+=1\n",
    "            else:\n",
    "                factor_list[i] = 1\n",
    "            n = n / i\n",
    "    if n >2 :\n",
    "        if n in factor_list.keys():\n",
    "            factor_list[n]+=1\n",
    "        else:\n",
    "            factor_list[n] = 1\n",
    "    return factor_list\n",
    "\n",
    "n = 2450\n",
    "primeFactors(n)"
   ]
  }
 ],
 "metadata": {
  "kernelspec": {
   "display_name": "Python 3 (ipykernel)",
   "language": "python",
   "name": "python3"
  },
  "language_info": {
   "codemirror_mode": {
    "name": "ipython",
    "version": 3
   },
   "file_extension": ".py",
   "mimetype": "text/x-python",
   "name": "python",
   "nbconvert_exporter": "python",
   "pygments_lexer": "ipython3",
   "version": "3.8.10"
  }
 },
 "nbformat": 4,
 "nbformat_minor": 5
}
