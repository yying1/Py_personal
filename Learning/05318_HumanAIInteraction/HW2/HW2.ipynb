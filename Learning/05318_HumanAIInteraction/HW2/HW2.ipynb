{
 "cells": [
  {
   "cell_type": "markdown",
   "metadata": {
    "colab_type": "text",
    "id": "ZlBhEu6H1Pgm"
   },
   "source": [
    "# Human AI Interaction HW2\n",
    "\n",
    "Risk assessment tool has been commonly used in criminal justice systems. In the United States, judges set\n",
    "bail and decide pre-trial detention based on their assessment of the risk that a released defendant would fail to\n",
    "appear at trial or cause harm to the public. While actuarial risk assessment is not new in this domain, there\n",
    "is increasing support for the use of learned risk scores to guide human judges in their decisions. However, there are concerns that such scores can perpetuate inequalities found in historical\n",
    "data, and systematically harm historically disadvantaged groups.\n",
    "\n",
    "In this homework, we will look into\n",
    "an [investigation](https://www.propublica.org/article/how-we-analyzed-the-compas-recidivism-algorithm) carried out by ProPublica of a proprietary risk score, called the COMPAS score. These scores are intended to assess the risk that a defendant will re-offend, a task often called\n",
    "recidivism prediction.\n",
    "\n",
    "Please answer all of the questions and fill in all the required code (indicated as comment `FILL IN`). When you are ready, submit the ipynb file to Canvas."
   ]
  },
  {
   "cell_type": "markdown",
   "metadata": {
    "colab_type": "text",
    "id": "sekNFI_1d9AJ"
   },
   "source": [
    "# Loading basic libraries\n",
    "We will begin by importing these libraries. \n",
    "* [matplotlib](https://matplotlib.org/3.1.1/contents.html)\n",
    "* [numpy](https://docs.scipy.org/doc/)\n",
    "* [pandas](https://pandas.pydata.org/pandas-docs/stable/)\n",
    "\n",
    "You are encouraged to read the documentation of these libraries.\n"
   ]
  },
  {
   "cell_type": "code",
   "execution_count": null,
   "metadata": {
    "colab": {},
    "colab_type": "code",
    "id": "jUp18QfAeav2"
   },
   "outputs": [],
   "source": [
    "import matplotlib.pyplot as plt\n",
    "import matplotlib.ticker\n",
    "import numpy as np\n",
    "import pandas as pd\n",
    "\n",
    "%matplotlib inline\n",
    "\n",
    "\n",
    "# Imports and helper functions used for tests. \n",
    "import hashlib\n",
    "import sys\n",
    "def get_hash(num):\n",
    "    return hashlib.md5(str(num).encode()).hexdigest()"
   ]
  },
  {
   "cell_type": "markdown",
   "metadata": {
    "colab_type": "text",
    "id": "0a1V6zjCewyw"
   },
   "source": [
    "# Dataset\n",
    "As a result of a public records request in Broward\n",
    "Country, Florida, ProPublica released their dataset, which is available at https://raw.githubusercontent.com/propublica/compas-analysis/master/compas-scores-two-years.csv. \n",
    "\n",
    "Here, we will download the data from the link above and apply this filter."
   ]
  },
  {
   "cell_type": "code",
   "execution_count": null,
   "metadata": {
    "colab": {},
    "colab_type": "code",
    "id": "_n1iMnFOhbWq"
   },
   "outputs": [],
   "source": [
    "data_url = \"https://raw.githubusercontent.com/propublica/compas-analysis/master/compas-scores-two-years.csv\"\n",
    "df = pd.read_csv(data_url)"
   ]
  },
  {
   "cell_type": "markdown",
   "metadata": {
    "colab_type": "text",
    "id": "whpaxhbNjEZ0"
   },
   "source": [
    "## Pre-processing\n",
    "Following ProPublica’s analysis, we will filter out rows where `days_b_screening_arrest` is over $30$ or under $−30$."
   ]
  },
  {
   "cell_type": "code",
   "execution_count": null,
   "metadata": {
    "colab": {},
    "colab_type": "code",
    "id": "6Prcei1ii5P4"
   },
   "outputs": [],
   "source": [
    "df = df.query('days_b_screening_arrest <= 30 & days_b_screening_arrest >= -30')"
   ]
  },
  {
   "cell_type": "markdown",
   "metadata": {
    "colab_type": "text",
    "id": "maJG-69unRLT"
   },
   "source": [
    "# Part 1 Protected Groups\n",
    "\n",
    "We will filter the data for only two races."
   ]
  },
  {
   "cell_type": "code",
   "execution_count": null,
   "metadata": {
    "colab": {
     "base_uri": "https://localhost:8080/",
     "height": 305
    },
    "colab_type": "code",
    "id": "V2gSSpOwqOuP",
    "outputId": "3f5b697e-1c46-4ce6-a7a9-ca861f693887"
   },
   "outputs": [
    {
     "data": {
      "text/html": [
       "<div>\n",
       "<style scoped>\n",
       "    .dataframe tbody tr th:only-of-type {\n",
       "        vertical-align: middle;\n",
       "    }\n",
       "\n",
       "    .dataframe tbody tr th {\n",
       "        vertical-align: top;\n",
       "    }\n",
       "\n",
       "    .dataframe thead th {\n",
       "        text-align: right;\n",
       "    }\n",
       "</style>\n",
       "<table border=\"1\" class=\"dataframe\">\n",
       "  <thead>\n",
       "    <tr style=\"text-align: right;\">\n",
       "      <th></th>\n",
       "      <th>id</th>\n",
       "      <th>name</th>\n",
       "      <th>first</th>\n",
       "      <th>last</th>\n",
       "      <th>compas_screening_date</th>\n",
       "      <th>sex</th>\n",
       "      <th>dob</th>\n",
       "      <th>age</th>\n",
       "      <th>age_cat</th>\n",
       "      <th>race</th>\n",
       "      <th>juv_fel_count</th>\n",
       "      <th>decile_score</th>\n",
       "      <th>juv_misd_count</th>\n",
       "      <th>juv_other_count</th>\n",
       "      <th>priors_count</th>\n",
       "      <th>days_b_screening_arrest</th>\n",
       "      <th>c_jail_in</th>\n",
       "      <th>c_jail_out</th>\n",
       "      <th>c_case_number</th>\n",
       "      <th>c_offense_date</th>\n",
       "      <th>c_arrest_date</th>\n",
       "      <th>c_days_from_compas</th>\n",
       "      <th>c_charge_degree</th>\n",
       "      <th>c_charge_desc</th>\n",
       "      <th>is_recid</th>\n",
       "      <th>r_case_number</th>\n",
       "      <th>r_charge_degree</th>\n",
       "      <th>r_days_from_arrest</th>\n",
       "      <th>r_offense_date</th>\n",
       "      <th>r_charge_desc</th>\n",
       "      <th>r_jail_in</th>\n",
       "      <th>r_jail_out</th>\n",
       "      <th>violent_recid</th>\n",
       "      <th>is_violent_recid</th>\n",
       "      <th>vr_case_number</th>\n",
       "      <th>vr_charge_degree</th>\n",
       "      <th>vr_offense_date</th>\n",
       "      <th>vr_charge_desc</th>\n",
       "      <th>type_of_assessment</th>\n",
       "      <th>decile_score.1</th>\n",
       "      <th>score_text</th>\n",
       "      <th>screening_date</th>\n",
       "      <th>v_type_of_assessment</th>\n",
       "      <th>v_decile_score</th>\n",
       "      <th>v_score_text</th>\n",
       "      <th>v_screening_date</th>\n",
       "      <th>in_custody</th>\n",
       "      <th>out_custody</th>\n",
       "      <th>priors_count.1</th>\n",
       "      <th>start</th>\n",
       "      <th>end</th>\n",
       "      <th>event</th>\n",
       "      <th>two_year_recid</th>\n",
       "    </tr>\n",
       "  </thead>\n",
       "  <tbody>\n",
       "    <tr>\n",
       "      <th>1</th>\n",
       "      <td>3</td>\n",
       "      <td>kevon dixon</td>\n",
       "      <td>kevon</td>\n",
       "      <td>dixon</td>\n",
       "      <td>2013-01-27</td>\n",
       "      <td>Male</td>\n",
       "      <td>1982-01-22</td>\n",
       "      <td>34</td>\n",
       "      <td>25 - 45</td>\n",
       "      <td>African-American</td>\n",
       "      <td>0</td>\n",
       "      <td>3</td>\n",
       "      <td>0</td>\n",
       "      <td>0</td>\n",
       "      <td>0</td>\n",
       "      <td>-1.0</td>\n",
       "      <td>2013-01-26 03:45:27</td>\n",
       "      <td>2013-02-05 05:36:53</td>\n",
       "      <td>13001275CF10A</td>\n",
       "      <td>2013-01-26</td>\n",
       "      <td>NaN</td>\n",
       "      <td>1.0</td>\n",
       "      <td>F</td>\n",
       "      <td>Felony Battery w/Prior Convict</td>\n",
       "      <td>1</td>\n",
       "      <td>13009779CF10A</td>\n",
       "      <td>(F3)</td>\n",
       "      <td>NaN</td>\n",
       "      <td>2013-07-05</td>\n",
       "      <td>Felony Battery (Dom Strang)</td>\n",
       "      <td>NaN</td>\n",
       "      <td>NaN</td>\n",
       "      <td>NaN</td>\n",
       "      <td>1</td>\n",
       "      <td>13009779CF10A</td>\n",
       "      <td>(F3)</td>\n",
       "      <td>2013-07-05</td>\n",
       "      <td>Felony Battery (Dom Strang)</td>\n",
       "      <td>Risk of Recidivism</td>\n",
       "      <td>3</td>\n",
       "      <td>Low</td>\n",
       "      <td>2013-01-27</td>\n",
       "      <td>Risk of Violence</td>\n",
       "      <td>1</td>\n",
       "      <td>Low</td>\n",
       "      <td>2013-01-27</td>\n",
       "      <td>2013-01-26</td>\n",
       "      <td>2013-02-05</td>\n",
       "      <td>0</td>\n",
       "      <td>9</td>\n",
       "      <td>159</td>\n",
       "      <td>1</td>\n",
       "      <td>1</td>\n",
       "    </tr>\n",
       "    <tr>\n",
       "      <th>2</th>\n",
       "      <td>4</td>\n",
       "      <td>ed philo</td>\n",
       "      <td>ed</td>\n",
       "      <td>philo</td>\n",
       "      <td>2013-04-14</td>\n",
       "      <td>Male</td>\n",
       "      <td>1991-05-14</td>\n",
       "      <td>24</td>\n",
       "      <td>Less than 25</td>\n",
       "      <td>African-American</td>\n",
       "      <td>0</td>\n",
       "      <td>4</td>\n",
       "      <td>0</td>\n",
       "      <td>1</td>\n",
       "      <td>4</td>\n",
       "      <td>-1.0</td>\n",
       "      <td>2013-04-13 04:58:34</td>\n",
       "      <td>2013-04-14 07:02:04</td>\n",
       "      <td>13005330CF10A</td>\n",
       "      <td>2013-04-13</td>\n",
       "      <td>NaN</td>\n",
       "      <td>1.0</td>\n",
       "      <td>F</td>\n",
       "      <td>Possession of Cocaine</td>\n",
       "      <td>1</td>\n",
       "      <td>13011511MM10A</td>\n",
       "      <td>(M1)</td>\n",
       "      <td>0.0</td>\n",
       "      <td>2013-06-16</td>\n",
       "      <td>Driving Under The Influence</td>\n",
       "      <td>2013-06-16</td>\n",
       "      <td>2013-06-16</td>\n",
       "      <td>NaN</td>\n",
       "      <td>0</td>\n",
       "      <td>NaN</td>\n",
       "      <td>NaN</td>\n",
       "      <td>NaN</td>\n",
       "      <td>NaN</td>\n",
       "      <td>Risk of Recidivism</td>\n",
       "      <td>4</td>\n",
       "      <td>Low</td>\n",
       "      <td>2013-04-14</td>\n",
       "      <td>Risk of Violence</td>\n",
       "      <td>3</td>\n",
       "      <td>Low</td>\n",
       "      <td>2013-04-14</td>\n",
       "      <td>2013-06-16</td>\n",
       "      <td>2013-06-16</td>\n",
       "      <td>4</td>\n",
       "      <td>0</td>\n",
       "      <td>63</td>\n",
       "      <td>0</td>\n",
       "      <td>1</td>\n",
       "    </tr>\n",
       "    <tr>\n",
       "      <th>6</th>\n",
       "      <td>8</td>\n",
       "      <td>edward riddle</td>\n",
       "      <td>edward</td>\n",
       "      <td>riddle</td>\n",
       "      <td>2014-02-19</td>\n",
       "      <td>Male</td>\n",
       "      <td>1974-07-23</td>\n",
       "      <td>41</td>\n",
       "      <td>25 - 45</td>\n",
       "      <td>Caucasian</td>\n",
       "      <td>0</td>\n",
       "      <td>6</td>\n",
       "      <td>0</td>\n",
       "      <td>0</td>\n",
       "      <td>14</td>\n",
       "      <td>-1.0</td>\n",
       "      <td>2014-02-18 05:08:24</td>\n",
       "      <td>2014-02-24 12:18:30</td>\n",
       "      <td>14002304CF10A</td>\n",
       "      <td>2014-02-18</td>\n",
       "      <td>NaN</td>\n",
       "      <td>1.0</td>\n",
       "      <td>F</td>\n",
       "      <td>Possession Burglary Tools</td>\n",
       "      <td>1</td>\n",
       "      <td>14004485CF10A</td>\n",
       "      <td>(F2)</td>\n",
       "      <td>0.0</td>\n",
       "      <td>2014-03-31</td>\n",
       "      <td>Poss of Firearm by Convic Felo</td>\n",
       "      <td>2014-03-31</td>\n",
       "      <td>2014-04-18</td>\n",
       "      <td>NaN</td>\n",
       "      <td>0</td>\n",
       "      <td>NaN</td>\n",
       "      <td>NaN</td>\n",
       "      <td>NaN</td>\n",
       "      <td>NaN</td>\n",
       "      <td>Risk of Recidivism</td>\n",
       "      <td>6</td>\n",
       "      <td>Medium</td>\n",
       "      <td>2014-02-19</td>\n",
       "      <td>Risk of Violence</td>\n",
       "      <td>2</td>\n",
       "      <td>Low</td>\n",
       "      <td>2014-02-19</td>\n",
       "      <td>2014-03-31</td>\n",
       "      <td>2014-04-18</td>\n",
       "      <td>14</td>\n",
       "      <td>5</td>\n",
       "      <td>40</td>\n",
       "      <td>1</td>\n",
       "      <td>1</td>\n",
       "    </tr>\n",
       "    <tr>\n",
       "      <th>8</th>\n",
       "      <td>10</td>\n",
       "      <td>elizabeth thieme</td>\n",
       "      <td>elizabeth</td>\n",
       "      <td>thieme</td>\n",
       "      <td>2014-03-16</td>\n",
       "      <td>Female</td>\n",
       "      <td>1976-06-03</td>\n",
       "      <td>39</td>\n",
       "      <td>25 - 45</td>\n",
       "      <td>Caucasian</td>\n",
       "      <td>0</td>\n",
       "      <td>1</td>\n",
       "      <td>0</td>\n",
       "      <td>0</td>\n",
       "      <td>0</td>\n",
       "      <td>-1.0</td>\n",
       "      <td>2014-03-15 05:35:34</td>\n",
       "      <td>2014-03-18 04:28:46</td>\n",
       "      <td>14004524MM10A</td>\n",
       "      <td>2014-03-15</td>\n",
       "      <td>NaN</td>\n",
       "      <td>1.0</td>\n",
       "      <td>M</td>\n",
       "      <td>Battery</td>\n",
       "      <td>0</td>\n",
       "      <td>NaN</td>\n",
       "      <td>NaN</td>\n",
       "      <td>NaN</td>\n",
       "      <td>NaN</td>\n",
       "      <td>NaN</td>\n",
       "      <td>NaN</td>\n",
       "      <td>NaN</td>\n",
       "      <td>NaN</td>\n",
       "      <td>0</td>\n",
       "      <td>NaN</td>\n",
       "      <td>NaN</td>\n",
       "      <td>NaN</td>\n",
       "      <td>NaN</td>\n",
       "      <td>Risk of Recidivism</td>\n",
       "      <td>1</td>\n",
       "      <td>Low</td>\n",
       "      <td>2014-03-16</td>\n",
       "      <td>Risk of Violence</td>\n",
       "      <td>1</td>\n",
       "      <td>Low</td>\n",
       "      <td>2014-03-16</td>\n",
       "      <td>2014-03-15</td>\n",
       "      <td>2014-03-18</td>\n",
       "      <td>0</td>\n",
       "      <td>2</td>\n",
       "      <td>747</td>\n",
       "      <td>0</td>\n",
       "      <td>0</td>\n",
       "    </tr>\n",
       "    <tr>\n",
       "      <th>10</th>\n",
       "      <td>14</td>\n",
       "      <td>benjamin franc</td>\n",
       "      <td>benjamin</td>\n",
       "      <td>franc</td>\n",
       "      <td>2013-11-26</td>\n",
       "      <td>Male</td>\n",
       "      <td>1988-06-01</td>\n",
       "      <td>27</td>\n",
       "      <td>25 - 45</td>\n",
       "      <td>Caucasian</td>\n",
       "      <td>0</td>\n",
       "      <td>4</td>\n",
       "      <td>0</td>\n",
       "      <td>0</td>\n",
       "      <td>0</td>\n",
       "      <td>-1.0</td>\n",
       "      <td>2013-11-25 06:31:06</td>\n",
       "      <td>2013-11-26 08:26:57</td>\n",
       "      <td>13016402CF10A</td>\n",
       "      <td>2013-11-25</td>\n",
       "      <td>NaN</td>\n",
       "      <td>1.0</td>\n",
       "      <td>F</td>\n",
       "      <td>Poss 3,4 MDMA (Ecstasy)</td>\n",
       "      <td>0</td>\n",
       "      <td>NaN</td>\n",
       "      <td>NaN</td>\n",
       "      <td>NaN</td>\n",
       "      <td>NaN</td>\n",
       "      <td>NaN</td>\n",
       "      <td>NaN</td>\n",
       "      <td>NaN</td>\n",
       "      <td>NaN</td>\n",
       "      <td>0</td>\n",
       "      <td>NaN</td>\n",
       "      <td>NaN</td>\n",
       "      <td>NaN</td>\n",
       "      <td>NaN</td>\n",
       "      <td>Risk of Recidivism</td>\n",
       "      <td>4</td>\n",
       "      <td>Low</td>\n",
       "      <td>2013-11-26</td>\n",
       "      <td>Risk of Violence</td>\n",
       "      <td>4</td>\n",
       "      <td>Low</td>\n",
       "      <td>2013-11-26</td>\n",
       "      <td>2013-11-25</td>\n",
       "      <td>2013-11-26</td>\n",
       "      <td>0</td>\n",
       "      <td>0</td>\n",
       "      <td>857</td>\n",
       "      <td>0</td>\n",
       "      <td>0</td>\n",
       "    </tr>\n",
       "  </tbody>\n",
       "</table>\n",
       "</div>"
      ],
      "text/plain": [
       "    id              name      first    last  ... start  end event  two_year_recid\n",
       "1    3       kevon dixon      kevon   dixon  ...     9  159     1               1\n",
       "2    4          ed philo         ed   philo  ...     0   63     0               1\n",
       "6    8     edward riddle     edward  riddle  ...     5   40     1               1\n",
       "8   10  elizabeth thieme  elizabeth  thieme  ...     2  747     0               0\n",
       "10  14    benjamin franc   benjamin   franc  ...     0  857     0               0\n",
       "\n",
       "[5 rows x 53 columns]"
      ]
     },
     "execution_count": 78,
     "metadata": {
      "tags": []
     },
     "output_type": "execute_result"
    }
   ],
   "source": [
    "races = ['African-American', 'Caucasian']\n",
    "df = df[df['race'].isin(races)]\n",
    "df.head(5)"
   ]
  },
  {
   "cell_type": "markdown",
   "metadata": {
    "colab_type": "text",
    "id": "wpKiFATutKu0"
   },
   "source": [
    "## Question 1.A: How many rows are in the `African-American` group? How many in the `Caucasian` group?\n",
    "_Double click to write your answer question here. Show your work in code below if applicable._"
   ]
  },
  {
   "cell_type": "code",
   "execution_count": null,
   "metadata": {
    "colab": {},
    "colab_type": "code",
    "id": "9CSqm5ZO14qr"
   },
   "outputs": [],
   "source": []
  },
  {
   "cell_type": "markdown",
   "metadata": {
    "colab_type": "text",
    "id": "M5iQjd-8yRNQ"
   },
   "source": [
    "# Part 2 Predictions by thresholding the scores\n",
    "\n",
    "Suppose we make predictions by setting a threshold on the COMPAS risk scores. That is we predict an individual will re-offend (recidivate) if their score is greater than equal the threshold.\n",
    "\n",
    "The dataset does not contain the original COMPAS risk scores. Instead, the column `decile_score` provides the decile of the COMPAS risk score (similar to a percentile, but out of 10). We will refer to this decile value (a number between 1 and 10) as our COMPAS \"decile score\". "
   ]
  },
  {
   "cell_type": "markdown",
   "metadata": {
    "colab_type": "text",
    "id": "Hwkre6H0YrY0"
   },
   "source": [
    "## Grouping the examples by `race` and `decile_score`.\n",
    "\n",
    "We will first create a dataframe that groups the individuals according to their (`race`, `decile_score`) pairs."
   ]
  },
  {
   "cell_type": "code",
   "execution_count": null,
   "metadata": {
    "colab": {},
    "colab_type": "code",
    "id": "qCGAUTiY19sL"
   },
   "outputs": [],
   "source": [
    "groups = df.groupby(['race', 'decile_score'], as_index=False)\n",
    "groups.size()"
   ]
  },
  {
   "cell_type": "markdown",
   "metadata": {
    "colab_type": "text",
    "id": "YSBot_wAajaU"
   },
   "source": [
    "## Question 2.A. For each `race`/`decile_score` pair, implement the following:\n",
    "1. `total_count_fn` that returns the total number of examples in the dataframe. \n",
    "2. `recid_count_fn` that returns the number of cases where recidivism occurred within two years,\n",
    "2. `non_recid_count_fn` that returns the number of cases where recidivism did not occur, and \n",
    "\n",
    "We have already provided a skeleton for each function and a test to help you check for correctness.\n",
    "\n",
    "Note: the column `two_year_recid` is a column that takes value 1 if recidivism occurred within two years, and 0 if recidivism did not occur."
   ]
  },
  {
   "cell_type": "code",
   "execution_count": null,
   "metadata": {
    "colab": {},
    "colab_type": "code",
    "id": "gfm5GTcaapBk"
   },
   "outputs": [],
   "source": [
    "# Compute the total number of examples in the dataset.\n",
    "def total_count_fn(df_recid_column):\n",
    "    \"\"\"Computes the total number of examples in the dataset.\n",
    "    \n",
    "    Args: \n",
    "      df_recid_column: dataframe column where each row takes value 1 if \n",
    "        recidivism occured, and 0 if recidivism did not occur.\n",
    "    \n",
    "    Returns: \n",
    "      The total number of rows in the dataset.\n",
    "    \"\"\"\n",
    "    total_count =  # FILL IN\n",
    "    return total_count \n",
    "\n",
    "print(\"Total number of examples in the dataset:\", total_count_fn(df['two_year_recid']))\n",
    "\n",
    "# Test for correctness of this function.\n",
    "assert(get_hash(total_count_fn(df['two_year_recid'])) == '82f292a22966b857d968fb578ccbead9')\n",
    "print(\"Test passed!\")"
   ]
  },
  {
   "cell_type": "code",
   "execution_count": null,
   "metadata": {
    "colab": {},
    "colab_type": "code",
    "id": "89YWx3Zg2OEi"
   },
   "outputs": [],
   "source": [
    "# Compute the total number of examples in which recidivism occurred within two years.\n",
    "def recid_count_fn(df_recid_column):\n",
    "    \"\"\"Computes the total number of examples in which recidivism occurred in two years.\n",
    "    \n",
    "    Args: \n",
    "      df_recid_column: dataframe column where each row takes value 1 if \n",
    "        recidivism occured, and 0 if recidivism did not occur.\n",
    "    \n",
    "    Returns: \n",
    "      The total number of rows in which recidivism occurred in two years.\n",
    "    \"\"\"\n",
    "    recid_count =  # FILL IN\n",
    "    return recid_count\n",
    "\n",
    "print(\"Total number of examples of recidivism in the dataset:\", recid_count_fn(df['two_year_recid']))\n",
    "\n",
    "# Test for correctness of this function.\n",
    "assert(get_hash(recid_count_fn(df['two_year_recid'])) == '2c6ae45a3e88aee548c0714fad7f8269')\n",
    "print(\"Test passed!\")\n",
    "\n",
    "\n",
    "# Compute the total number of examples in which recidivism did not occur within two years.\n",
    "def non_recid_count_fn(df_recid_column):\n",
    "    \"\"\"Computes the total number of examples in which recidivism did not occur.\n",
    "    \n",
    "    Args: \n",
    "      df_recid_column: dataframe column where each row takes value 1 if \n",
    "        recidivism occured, and 0 if recidivism did not occur.\n",
    "    \n",
    "    Returns: \n",
    "      The total number of rows in which recidivism did not occur.\n",
    "    \"\"\"\n",
    "    non_recid_count = # FILL IN\n",
    "    return non_recid_count \n",
    "\n",
    "print(\"Total number of examples of non-recidivism in the dataset:\", non_recid_count_fn(df['two_year_recid']))\n",
    "\n",
    "# Test for correctness of this function.\n",
    "assert(get_hash(non_recid_count_fn(df['two_year_recid'])) == 'a7f592cef8b130a6967a90617db5681b')\n",
    "print(\"Test passed!\")"
   ]
  },
  {
   "cell_type": "markdown",
   "metadata": {
    "colab_type": "text",
    "id": "vbudH6Wx52Mb"
   },
   "source": [
    "### Create the `summary` dataframe\n",
    "We now create a dataframe called `summary`, where each row contains summary statistics for each `race`/`decile_score` pair, including the total number of examples with that race and decile_score (`total_count`), the number of examples with that race and decile_score where recidivism **did occurred** (`recid_count`), and the number of examples with that race and decile_score where recidivism **did NOT occurred** (`non_recid_count`).\n",
    "In other words, `total_count` = `recid_count` + `non_recid_count`. As you could observe in the below dataframe, for the row 0, we have 85 + 280  =365\n",
    "\n",
    "\n",
    "The `.agg` function below applies the functions you just wrote over a column of the dataframe corresponding to each `race`/`decile_score` pair. \n",
    "Each function will be computed on the column `two_year_recid` for each `race`/`decile_score` pair."
   ]
  },
  {
   "cell_type": "code",
   "execution_count": null,
   "metadata": {
    "colab": {},
    "colab_type": "code",
    "id": "Wbcor4Ue63mN"
   },
   "outputs": [],
   "source": [
    "summary = groups['two_year_recid'].agg({'recid_count': recid_count_fn, 'non_recid_count': non_recid_count_fn, 'total_count': total_count_fn})\n",
    "summary"
   ]
  },
  {
   "cell_type": "markdown",
   "metadata": {
    "colab_type": "text",
    "id": "ILtIpP95-q5C"
   },
   "source": [
    "## Question 2.B. Explore different decision thresholds.\n",
    "\n",
    "For each race in the `summary` dataframe, we will investigate outcome when we set the decision threshold to be each `decile_score`.\n",
    "\n",
    "Specifically, we will iterate through the `decile_scores` in the `summary` dataframe, and for each `decile_score`, we will compute the number of true positives, true negatives, false positives, and false negatives under the assumption that the decision threshold occurs just below this `decile_score`. For example, in the row of the `summary` dataframe corresponding to a `decile_score` of 5, we will compute the number of true positives under the assumption that every example receiving a `decile_score` of 5 or above is classified as positive.\n",
    "\n",
    "Your task is to fill in the missing parts for the four functions below:\n",
    "1. `get_TN_column`\n",
    "2. `get_FP_column`\n",
    "3. `get_FN_column`\n",
    "\n",
    "We have provided an example on how to implement `get_TP_column`.\n"
   ]
  },
  {
   "cell_type": "code",
   "execution_count": null,
   "metadata": {
    "colab": {
     "base_uri": "https://localhost:8080/",
     "height": 52
    },
    "colab_type": "code",
    "id": "sbjSqjR2-wGa",
    "outputId": "8722890a-9d18-417d-dfd0-1e88e84e7267"
   },
   "outputs": [
    {
     "name": "stdout",
     "output_type": "stream",
     "text": [
      "TP column for Caucasian: [822 694 594 512 414 323 230 162  90  35]\n",
      "Test passed!\n"
     ]
    }
   ],
   "source": [
    "# Compute the number of true positives assuming the decision threshold \n",
    "# occurs just below each decile_score.\n",
    "# If you'd like, you may also restructure the loop inside this function \n",
    "# (but do not change the function definition).\n",
    "def get_TP_column(summary_df):\n",
    "    \"\"\"Returns an array of the number of true positives for each decile_score threshold.\n",
    "    \n",
    "    Args:\n",
    "      summary_df: dataframe containing columns for 'decile_score', 'recid_count', \n",
    "        'non_recid_count', and 'total_count' for a single race.\n",
    "    \n",
    "    Returns:\n",
    "      An array of the number of true positives for each decile_score (under the assumption that every example\n",
    "      receiving that row's decile_score or above is classified as positive -- aka, the decision threshold occurs\n",
    "      just below the row's decile score.)\n",
    "    \"\"\"\n",
    "    TPs = []\n",
    "    for threshold in summary_df['decile_score']:\n",
    "        true_positives = sum(summary_df[summary_df['decile_score'] \n",
    "                                        >= threshold]['recid_count'])# Compute the number of true positives for this threshold. \n",
    "                                                                     # Iterate through the summary_df, compare the threshold to 'decile_score', and add up the 'recid_count' column.\n",
    "        TPs.append(true_positives)\n",
    "    return np.array(TPs, dtype=np.int32)\n",
    "\n",
    "print(\"TP column for Caucasian:\", get_TP_column(summary[summary['race']=='Caucasian']))\n",
    "\n",
    "assert(get_hash(get_TP_column(summary[summary['race']=='Caucasian'])) == 'fdca79d31fe11760d9c6a06a4f8cb660')\n",
    "print(\"Test passed!\")"
   ]
  },
  {
   "cell_type": "code",
   "execution_count": null,
   "metadata": {
    "colab": {},
    "colab_type": "code",
    "id": "xRqRmPCnCwAi"
   },
   "outputs": [],
   "source": [
    "# Compute the number of true negatives assuming the decision threshold \n",
    "# occurs just below each decile_score.\n",
    "def get_TN_column(summary_df):\n",
    "    \"\"\"Returns an array of the number of true negatives for each decile_score threshold.\n",
    "    \n",
    "    Args:\n",
    "      summary_df: dataframe containing columns for 'decile_score', 'recid_count', \n",
    "        'non_recid_count', and 'total_count' for a given race.\n",
    "    \n",
    "    Returns:\n",
    "      An array of the number of true negatives for each decile_score (under the assumption that every example\n",
    "      receiving that row's decile_score or above is classified as positive -- aka, the decision threshold occurs\n",
    "      just below the row's decile score.)\n",
    "    \"\"\"\n",
    "    TNs = []\n",
    "    for threshold in summary_df['decile_score']:\n",
    "        true_negatives = # FILL IN: compute the number of true negatives for this threshold.  \n",
    "        TNs.append(true_negatives)\n",
    "    return np.array(TNs, dtype=np.int32)\n",
    "\n",
    "print(\"TN column for Caucasian:\", get_TN_column(summary[summary['race']=='Caucasian']))\n",
    "\n",
    "assert(get_hash(get_TN_column(summary[summary['race']=='Caucasian']))  == '8175ee4854079441b234ca97e7f9a1c5')\n",
    "print(\"Test passed!\")"
   ]
  },
  {
   "cell_type": "code",
   "execution_count": null,
   "metadata": {
    "colab": {},
    "colab_type": "code",
    "id": "5o7BTZXVPgtW"
   },
   "outputs": [],
   "source": [
    "# Compute the number of false positives assuming the decision threshold \n",
    "# occurs just below each decile_score.\n",
    "def get_FP_column(summary_df):\n",
    "    \"\"\"Returns an array of the number of false positives for each decile_score threshold.\n",
    "    \n",
    "    Args:\n",
    "      summary_df: dataframe containing columns for 'decile_score', 'recid_count', \n",
    "        'non_recid_count', and 'total_count' for a given race.\n",
    "    \n",
    "    Returns:\n",
    "      An array of the number of false positives for each decile_score (under the assumption that every example\n",
    "      receiving that row's decile_score or above is classified as positive -- aka, the decision threshold occurs\n",
    "      just below the row's decile score.)\n",
    "    \"\"\"\n",
    "    FPs = []\n",
    "    for threshold in summary_df['decile_score']:\n",
    "        false_positives = # FILL IN: compute the number of false positives for this threshold.           \n",
    "        FPs.append(false_positives)\n",
    "    return np.array(FPs, dtype=np.int32)\n",
    "\n",
    "print(\"FP column for Caucasian:\", get_FP_column(summary[summary['race']=='Caucasian']))\n",
    "\n",
    "assert(get_hash(get_FP_column(summary[summary['race']=='Caucasian']))  == 'bc995fd0c02ad77eb6924ea48482f9ed')\n",
    "print(\"Test passed!\")\n"
   ]
  },
  {
   "cell_type": "code",
   "execution_count": null,
   "metadata": {
    "colab": {},
    "colab_type": "code",
    "id": "TJ7tLF_GPkEI"
   },
   "outputs": [],
   "source": [
    "# Compute the number of false negatives assuming the decision threshold \n",
    "# occurs just below each decile_score.\n",
    "def get_FN_column(summary_df):\n",
    "    \"\"\"Returns an array of the number of false negatives for each decile_score threshold.\n",
    "    \n",
    "    Args:\n",
    "      summary_df: dataframe containing columns for 'decile_score', 'recid_count', \n",
    "        'non_recid_count', and 'total_count' for a given race.\n",
    "    \n",
    "    Returns:\n",
    "      An array of the number of false negatives for each decile_score (under the assumption that every example\n",
    "      receiving that row's decile_score or above is classified as positive -- aka, the decision threshold occurs\n",
    "      just below the row's decile score.)\n",
    "    \"\"\"\n",
    "    FNs = []\n",
    "    for threshold in summary_df['decile_score']:\n",
    "        false_negatives = # FILL IN: compute the number of false negatives for this threshold. \n",
    "        FNs.append(false_negatives)\n",
    "    return np.array(FNs, dtype=np.int32)\n",
    "\n",
    "print(\"FN column for Caucasian:\", get_FN_column(summary[summary['race']=='Caucasian']))\n",
    "\n",
    "assert(get_hash(get_FN_column(summary[summary['race']=='Caucasian']))  == 'f680125060a0bfb18a1447c6658fdfb8')\n",
    "print(\"Test passed!\")\n"
   ]
  },
  {
   "cell_type": "code",
   "execution_count": null,
   "metadata": {
    "colab": {},
    "colab_type": "code",
    "id": "hW2SrJN0PoFr"
   },
   "outputs": [],
   "source": [
    "# Note: nothing you need to do in this cell, just run it to assign the columns you created to the summary dataframe.\n",
    "# Add in the TP, TN, FP, FN information for each race.\n",
    "for race in races:\n",
    "    rows = summary['race'] == race\n",
    "    summary.loc[rows, 'TP'] = get_TP_column(summary[rows])\n",
    "    summary.loc[rows, 'TN'] = get_TN_column(summary[rows])\n",
    "    summary.loc[rows, 'FP'] = get_FP_column(summary[rows])\n",
    "    summary.loc[rows, 'FN'] = get_FN_column(summary[rows])\n",
    "summary.fillna(0 , inplace=True)\n",
    "summary"
   ]
  },
  {
   "cell_type": "markdown",
   "metadata": {
    "colab_type": "text",
    "id": "r8nxDtD-c1VR"
   },
   "source": [
    "## Question 2.C. Computer Disparity.\n",
    "\n",
    "Here you will first write code to compute the the true positive rate (TPR), false positive rate (FPR), and positive predictive value (PPV) metrics. PPV is also known as precision, and is defined as the number of true positives divided by the number of examples classified as positive. \n",
    "\n",
    "We have provided an example on how to compute TPR. Your task is to fill in the details for FPR and PPV.\n"
   ]
  },
  {
   "cell_type": "code",
   "execution_count": null,
   "metadata": {
    "colab": {
     "base_uri": "https://localhost:8080/",
     "height": 35
    },
    "colab_type": "code",
    "id": "TImqtsWdc6ED",
    "outputId": "a80e05df-a510-4ac6-9d69-8c11bee979a3"
   },
   "outputs": [
    {
     "name": "stdout",
     "output_type": "stream",
     "text": [
      "Test passed!\n"
     ]
    }
   ],
   "source": [
    "# Sample code: compute the TPR for each race using other columns in summary.\n",
    "summary['TPR'] = summary['TP'] / (summary['TP'] + summary['FN']) \n",
    "\n",
    "assert(get_hash(np.array(summary['TPR'].round(1), dtype=np.float32)) == '4e6755717caed5f4d6a62fc6fe8abbee')\n",
    "print(\"Test passed!\")"
   ]
  },
  {
   "cell_type": "code",
   "execution_count": null,
   "metadata": {
    "colab": {},
    "colab_type": "code",
    "id": "gSZi4F_0gB_u"
   },
   "outputs": [],
   "source": [
    "# FILL IN: compute the FPR for each race using other columns in summary.\n",
    "summary['FPR'] =  # FILL IN: fill in the columns to use.\n",
    "\n",
    "assert(get_hash(np.array(summary['FPR'].round(1), dtype=np.float32)) == 'e0eba6216d5fada1d6eabbfe568c527b')\n",
    "print(\"Test passed!\")"
   ]
  },
  {
   "cell_type": "code",
   "execution_count": null,
   "metadata": {
    "colab": {},
    "colab_type": "code",
    "id": "lQvDHEIShIOC"
   },
   "outputs": [],
   "source": [
    "# FILL IN: compute the PPV for each race using other columns in summary.\n",
    "summary['PPV'] =  # FILL IN: fill in the columns to use.\n",
    "\n",
    "assert(get_hash(np.array(summary['PPV'].round(1), dtype=np.float32))  == '6db5b24b7cd46af910f6a781eee40134')\n",
    "print(\"Test passed!\")"
   ]
  },
  {
   "cell_type": "markdown",
   "metadata": {
    "colab_type": "text",
    "id": "dida3BW_kZ8h"
   },
   "source": [
    "Next, now suppose we use the same threshold for both groups. Answer the following:\n",
    "1. What is the threshold that leads to the largest disparity in FPR (the difference between the FPRs between two groups)?\n",
    "2. What is the threshold that leads to the largest disparity in PPV (the difference between the PPVs between two groups)?\n",
    "\n",
    "_Double click to write your answer question here. Show your work in code below if applicable._"
   ]
  },
  {
   "cell_type": "markdown",
   "metadata": {
    "colab_type": "text",
    "id": "AktPZXV_h0NJ"
   },
   "source": [
    "## Question 2.D. ROC\n",
    "First, we will plot the ROC curve for each race. Please fill in the missing details below for the plotting code.\n",
    "\n"
   ]
  },
  {
   "cell_type": "code",
   "execution_count": null,
   "metadata": {
    "colab": {},
    "colab_type": "code",
    "id": "Bv2X3J5FiG_e"
   },
   "outputs": [],
   "source": [
    "# FILL IN: plot the ROC curve for each race.\n",
    "plt.figure()\n",
    "\n",
    "for race in races: \n",
    "    rows = summary[summary['race']==race]\n",
    "    plt.plot(rows['FILL IN COLUMN'], rows['FILL IN COLUMN'], '-o', label=race) # FILL IN the correct columns to use.\n",
    "    \n",
    "plt.legend()\n",
    "plt.xlabel('TODO') # FILL IN the correct labels for the x axis on an ROC curve.\n",
    "plt.ylabel('TODO') # FILL IN the correct labels for the y axis on an ROC curve.\n",
    "plt.show()"
   ]
  },
  {
   "cell_type": "markdown",
   "metadata": {
    "colab_type": "text",
    "id": "yifMZ-YJnEjM"
   },
   "source": [
    "## Question 2.E. Equalizing TPR and FPR\n",
    "\n",
    "Next, find two thresholds (one for black defendants, one for white defendants) such that FPR and TPR are roughly equal for the two groups (say, within 1% of each other).\n",
    "Note: trivial thresholds of 0 or 11\n",
    "don’t count. Hint: it may be helpful to look at the ROC curves for each race."
   ]
  },
  {
   "cell_type": "code",
   "execution_count": null,
   "metadata": {
    "colab": {},
    "colab_type": "code",
    "id": "uSppT2xfnE-p"
   },
   "outputs": [],
   "source": [
    "# FILL IN: choose a decision threshold for each race corresponding to a \n",
    "# decile_score between 1 and 10 such that the FPR and TPR are \n",
    "# roughly equal for the two races.\n",
    "\n",
    "caucasian_threshold = # FILL IN: choose a decision threshold to use for the subset of data with race = Caucasian.\n",
    "african_american_threshold = # FILL IN: choose a decision threshold to use for the subset of data with race = African-American.\n",
    "\n",
    "thresh = {'Caucasian': caucasian_threshold, 'African-American': african_american_threshold}  "
   ]
  },
  {
   "cell_type": "markdown",
   "metadata": {
    "colab_type": "text",
    "id": "34Y6KrzSnopW"
   },
   "source": [
    "Finally, for the pair of thresholds you have selected above, what is the disparity of PPV across the two groups?\n",
    "\n",
    "_Double click to write your answer question here. Show your work in code below if applicable._"
   ]
  },
  {
   "cell_type": "code",
   "execution_count": null,
   "metadata": {
    "colab": {},
    "colab_type": "code",
    "id": "MikZ3jKan2yL"
   },
   "outputs": [],
   "source": []
  }
 ],
 "metadata": {
  "colab": {
   "collapsed_sections": [],
   "name": "HW2.ipynb",
   "provenance": []
  },
  "kernelspec": {
   "display_name": "Python 3",
   "language": "python",
   "name": "python3"
  },
  "language_info": {
   "codemirror_mode": {
    "name": "ipython",
    "version": 3
   },
   "file_extension": ".py",
   "mimetype": "text/x-python",
   "name": "python",
   "nbconvert_exporter": "python",
   "pygments_lexer": "ipython3",
   "version": "3.8.3"
  }
 },
 "nbformat": 4,
 "nbformat_minor": 1
}
