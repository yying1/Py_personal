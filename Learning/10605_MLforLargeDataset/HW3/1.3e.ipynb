{
 "cells": [
  {
   "cell_type": "code",
   "execution_count": 17,
   "id": "0688cf86",
   "metadata": {},
   "outputs": [],
   "source": [
    "import numpy as np\n",
    "from numpy.linalg import norm\n",
    "import math "
   ]
  },
  {
   "cell_type": "code",
   "execution_count": 2,
   "id": "9a670569",
   "metadata": {},
   "outputs": [],
   "source": [
    "x = np.array([3,4,5,6])\n",
    "y = np.array([4,3,2,1])"
   ]
  },
  {
   "cell_type": "code",
   "execution_count": 26,
   "id": "dceea4ca",
   "metadata": {},
   "outputs": [],
   "source": [
    "z1 = np.array([0.16,-0.26,-1.12,0.01])\n",
    "z2 = np.array([1.08,-1.14,0.8,-0.8])\n",
    "z3 = np.array([1.94,0.08,1.83,0.17])\n",
    "z4 = np.array([-0.88,-1.01,1.36,-0.07])"
   ]
  },
  {
   "cell_type": "code",
   "execution_count": 12,
   "id": "82caa4b1",
   "metadata": {},
   "outputs": [],
   "source": [
    "def d_cos(x,y):\n",
    "    s_cos = x.dot(y)/(norm(x)*norm(y))\n",
    "    return 1-s_cos"
   ]
  },
  {
   "cell_type": "code",
   "execution_count": 20,
   "id": "8ddd6277",
   "metadata": {},
   "outputs": [],
   "source": [
    "def cal_h(z_array,x,y):\n",
    "    h = 0\n",
    "    for z in z_array:\n",
    "        h += abs(z.dot(x)-z.dot(y))\n",
    "    return h"
   ]
  },
  {
   "cell_type": "code",
   "execution_count": 23,
   "id": "660c3ec3",
   "metadata": {},
   "outputs": [],
   "source": [
    "def d_cos_e(z_array,x,y):\n",
    "    d = len(x)\n",
    "    h = cal_h(z_array,x,y)\n",
    "    return 1- math.cos(math.pi*h/d)"
   ]
  },
  {
   "cell_type": "code",
   "execution_count": 25,
   "id": "5c0390e0",
   "metadata": {},
   "outputs": [
    {
     "name": "stdout",
     "output_type": "stream",
     "text": [
      "1.7650991687229483\n"
     ]
    }
   ],
   "source": [
    "# i\n",
    "print(abs(d_cos(x,y) - d_cos_e([z1],x,y)))"
   ]
  },
  {
   "cell_type": "code",
   "execution_count": 27,
   "id": "064e3329",
   "metadata": {},
   "outputs": [
    {
     "name": "stdout",
     "output_type": "stream",
     "text": [
      "0.1705736685041621\n"
     ]
    }
   ],
   "source": [
    "# ii\n",
    "print(abs(d_cos(x,y) - d_cos_e([z1,z2,z3,z4],x,y)))"
   ]
  },
  {
   "cell_type": "code",
   "execution_count": 29,
   "id": "6382ef2b",
   "metadata": {},
   "outputs": [
    {
     "name": "stdout",
     "output_type": "stream",
     "text": [
      "0.7874992309581582\n"
     ]
    }
   ],
   "source": [
    "# iii\n",
    "print(abs(d_cos(x,y) - d_cos_e([np.sign(z1),np.sign(z2),np.sign(z3),np.sign(z4)],x,y)))"
   ]
  }
 ],
 "metadata": {
  "kernelspec": {
   "display_name": "Python 3 (ipykernel)",
   "language": "python",
   "name": "python3"
  },
  "language_info": {
   "codemirror_mode": {
    "name": "ipython",
    "version": 3
   },
   "file_extension": ".py",
   "mimetype": "text/x-python",
   "name": "python",
   "nbconvert_exporter": "python",
   "pygments_lexer": "ipython3",
   "version": "3.10.0"
  }
 },
 "nbformat": 4,
 "nbformat_minor": 5
}
