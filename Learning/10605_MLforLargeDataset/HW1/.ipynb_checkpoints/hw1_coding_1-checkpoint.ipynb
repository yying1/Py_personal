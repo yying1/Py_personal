{
 "cells": [
  {
   "cell_type": "markdown",
   "metadata": {
    "application/vnd.databricks.v1+cell": {
     "inputWidgets": {},
     "nuid": "093181c9-1ba7-4729-b216-2a5db1807bc3",
     "showTitle": false,
     "title": ""
    },
    "id": "Sjb2mQNt_sag"
   },
   "source": [
    "# CMU notebook\n\nFollow the guide and fill in any place that says `YOUR CODE HERE` or \"YOUR ANSWER HERE.\""
   ]
  },
  {
   "cell_type": "markdown",
   "metadata": {
    "application/vnd.databricks.v1+cell": {
     "inputWidgets": {},
     "nuid": "af977e9e-9aa5-4962-a055-94151e0596d4",
     "showTitle": false,
     "title": ""
    },
    "id": "hyHgAiN7_sal"
   },
   "source": [
    "# CMU Machine Learning with Large Datasets\n\n## Homework 1 - Coding 1: Entity Resolution"
   ]
  },
  {
   "cell_type": "code",
   "execution_count": 0,
   "metadata": {
    "application/vnd.databricks.v1+cell": {
     "inputWidgets": {},
     "nuid": "61e60de4-6e7e-42cb-884c-9b5ef15d943d",
     "showTitle": false,
     "title": ""
    },
    "deletable": false,
    "editable": false,
    "id": "f7y2cra8_sao",
    "nbgrader": {
     "cell_type": "code",
     "checksum": "37f6f3f7e06f6a127489a093d625ac67",
     "grade": false,
     "grade_id": "cell-ac93bd79d8ca1cf8",
     "locked": true,
     "schema_version": 3,
     "solution": false,
     "task": false
    }
   },
   "outputs": [],
   "source": [
    "# YOU CAN MOST LIKELY IGNORE THIS CELL. This is only of use for running this notebook locally.\n\n# THIS CELL DOES NOT NEED TO BE RUN ON DATABRICKS. \n# Note that Databricks already creates a SparkContext for you, so this cell can be skipped.\nimport findspark\nfindspark.init()\nimport pyspark\nfrom pyspark.sql import SQLContext\nsc = pyspark.SparkContext(appName=\"hw\")\nsqlContext = SQLContext(sc)\n\nprint(\"spark context started\")"
   ]
  },
  {
   "cell_type": "markdown",
   "metadata": {
    "application/vnd.databricks.v1+cell": {
     "inputWidgets": {},
     "nuid": "066f4c31-ae27-4d60-b1fe-2c88759c44b9",
     "showTitle": false,
     "title": ""
    },
    "id": "SlKMN2aS_sao"
   },
   "source": [
    "# **1. Text Analysis and Entity Resolution**\nEntity resolution is a common, yet difficult problem in data cleaning and integration. This lab will demonstrate how we can use Apache Spark to apply powerful and scalable text analysis techniques and perform entity resolution across two datasets of commercial products."
   ]
  },
  {
   "cell_type": "markdown",
   "metadata": {
    "application/vnd.databricks.v1+cell": {
     "inputWidgets": {},
     "nuid": "c33190ba-a615-4d20-85d5-38fd5ef71b69",
     "showTitle": false,
     "title": ""
    },
    "id": "vdKXdK9P_saq"
   },
   "source": [
    "Entity Resolution, or \"[Record linkage][wiki]\" is the term used by statisticians, epidemiologists, and historians, among others, to describe the process of joining records from one data source with another that describe the same entity. Our terms with the same meaning include, \"entity disambiguation/linking\", \"duplicate detection\", \"deduplication\", \"record matching\", \"(reference) reconciliation\", \"object identification\", \"data/information integration\", and \"conflation\".\n\nEntity Resolution (ER) refers to the task of finding records in a dataset that refer to the same entity across different data sources (e.g., data files, books, websites, databases). ER is necessary when joining datasets based on entities that may or may not share a common identifier (e.g., database key, URI, National identification number), as may be the case due to differences in record shape, storage location, and/or curator style or preference. A dataset that has undergone ER may be referred to as being cross-linked.\n[wiki]: https://en.wikipedia.org/wiki/Record_linkage"
   ]
  },
  {
   "cell_type": "markdown",
   "metadata": {
    "application/vnd.databricks.v1+cell": {
     "inputWidgets": {},
     "nuid": "b4baa55f-39f6-4aeb-b759-5a24fd20cd07",
     "showTitle": false,
     "title": ""
    },
    "id": "Q5WCrE1o_sar"
   },
   "source": [
    "## Part 0: Preliminaries\n\n### Code\n\nThis assignment can be completed using basic Python, PySpark transformations and actions, and the plotting library matplotlib.\n\n### Files\n[Data files](https://github.com/spark-mooc/mooc-setup/tree/master/metric-learning/data/3-amazon-googleproducts) for this assignment are from the [metric-learning](https://github.com/spark-mooc/mooc-setup/tree/master/metric-learning) project and can be found at:\n`dbfs:/FileStore/tables/lab1/`\n\nThe directory contains the following files:\n* **Google.csv**, the Google Products dataset, named as targets.csv in the repository\n* **Amazon.csv**, the Amazon dataset, named as sources.csv in the repository\n* **Google_small.csv**, 200 records sampled from the Google data, subset of targets.csv\n* **Amazon_small.csv**, 200 records sampled from the Amazon data, subset of sources.csv\n* **Amazon_Google_perfectMapping.csv**, the \"gold standard\" mapping, named as mapping.csv in the repository\n* **stopwords.txt**, a list of common English words\n\nBesides the complete data files, there are \"sample\" data files for each dataset - we will use these for **Part 1**. In addition, there is a \"gold standard\" file that contains all of the true mappings between entities in the two datasets. Every row in the gold standard file has a pair of record IDs (one Google, one Amazon) that belong to two records that describe the same thing in the real world. We will use the gold standard to evaluate our algorithms.\n\n### Table of Contents\n0) **Preliminaries**\n\n1) **Bag of Words**\n * Tokenization\n * Tokenizing Small Datasets\n * Record with the Most Tokens\n \n2) **Weighted Bag of Words with TF-IDF**\n * Implement Term Frequency\n * Create a Corpus\n * Implement IDF\n * Smallest IDF\n * IDF Histogram\n * Implement TF-IDF\n \n3) **Cosine Similarity**\n * Implement Math Components\n * Implement Cosine Similarity\n * Perform Entity Resolution\n * Entity Resolution with Broadcast Variables\n * Gold Standard Evaluation\n \n4) **Scalable Entity Resolution (Full Dataset)**\n * Tokenize\n * Compute IDFs and TF-IDFs\n * Compute Norms for the Weights\n * Create Inverted Indices\n * Indentify Common Tokens\n \n5) **Analysis**\n * Counting True Positives, False Positives, and True Negatives\n * Precision, Recall, F-measures\n * Line Plots\n\nWe read in each of the files and create an RDD consisting of lines.\nFor each of the data files (\"Google.csv\", \"Amazon.csv\", and the samples), we want to parse the IDs out of each record. The IDs are the first column of the file (they are URLs for Google, and alphanumeric strings for Amazon). Omitting the headers, we load these data files into pair RDDs where the *mapping ID* is the key, and the value is a string consisting of the name/title, description, and manufacturer from the record.\n\nThe file format of an Amazon line is:\n\n```\n\"id\",\"title\",\"description\",\"manufacturer\",\"price\"\n```\n\nThe file format of a Google line is:\n\n```\n\"id\",\"name\",\"description\",\"manufacturer\",\"price\"\n```"
   ]
  },
  {
   "cell_type": "code",
   "execution_count": 0,
   "metadata": {
    "application/vnd.databricks.v1+cell": {
     "inputWidgets": {},
     "nuid": "0d0205e0-c62d-4300-9c62-6006aed865b5",
     "showTitle": false,
     "title": ""
    },
    "id": "vtwC6CKZ_sas"
   },
   "outputs": [],
   "source": [
    "# imports that will be used in the notebook -- shouldn't need to import any other libraries\nfrom nose.tools import assert_equal, assert_true\nimport re\nimport sys\nimport os\nfrom pyspark import SparkFiles\nimport matplotlib.pyplot as plt\nfrom pyspark.sql import Row\nimport math\nfrom pyspark import Broadcast\nfrom pyspark.accumulators import AccumulatorParam"
   ]
  },
  {
   "cell_type": "code",
   "execution_count": 0,
   "metadata": {
    "application/vnd.databricks.v1+cell": {
     "inputWidgets": {},
     "nuid": "6f2cf7a4-7aef-4275-ba73-351dde3ac298",
     "showTitle": false,
     "title": ""
    },
    "id": "_DEVLA94_sat"
   },
   "outputs": [],
   "source": [
    "DATAFILE_PATTERN = '^(.+),\"(.+)\",(.*),(.*),(.*)'\n\ndef removeQuotes(s):\n    \"\"\" Remove quotation marks from an input string\n    Args:\n        s (str): input string that might have the quote \"\" characters\n    Returns:\n        str: a string without the quote characters\n    \"\"\"\n    return ''.join(i for i in s if i!='\"')\n\n\ndef parseDatafileLine(datafileLine):\n    \"\"\" Parse a line of the data file using the specified regular expression pattern\n    Args:\n        datafileLine (str): input string that is a line from the data file\n    Returns:\n        tuple: a tuple including the parsed results using the given regular expression and without the quote characters\n    \"\"\"\n    match = re.search(DATAFILE_PATTERN, datafileLine.decode('utf-8'))\n    if match is None:\n        print('Invalid datafile line: %s' % datafileLine)\n        return (datafileLine, -1)\n    elif match.group(1) == '\"id\"':\n        print('Header datafile line: %s' % datafileLine)\n        return (datafileLine, 0)\n    else:\n        product = '%s %s %s' % (match.group(2), match.group(3), match.group(4))\n        return ((removeQuotes(match.group(1)), product), 1)"
   ]
  },
  {
   "cell_type": "markdown",
   "metadata": {
    "application/vnd.databricks.v1+cell": {
     "inputWidgets": {},
     "nuid": "5fc52616-92ce-4e7a-b963-cc509eb6fd32",
     "showTitle": false,
     "title": ""
    },
    "id": "01wMqply_sau"
   },
   "source": [
    "Run the following cell to load the data files."
   ]
  },
  {
   "cell_type": "code",
   "execution_count": 0,
   "metadata": {
    "application/vnd.databricks.v1+cell": {
     "inputWidgets": {},
     "nuid": "b4ee59bf-cff4-48b2-a298-1e096dcb6a84",
     "showTitle": false,
     "title": ""
    },
    "id": "ubQX_x0q_sau"
   },
   "outputs": [],
   "source": [
    "GOOGLE_PATH = 'Google.csv'\nGOOGLE_SMALL_PATH = 'Google_small.csv'\nAMAZON_PATH = 'Amazon.csv'\nAMAZON_SMALL_PATH = 'Amazon_small.csv'\nGOLD_STANDARD_PATH = 'Amazon_Google_perfectMapping.csv'\nSTOPWORDS_PATH = 'stopwords.txt'\n\n\ndef parseData(filename, path):\n    \"\"\" Parse a data file\n    Args:\n        filename (str): input file name of the data file\n    Returns:\n        RDD: a RDD of parsed lines\n    \"\"\"\n    sc.addFile(filename)\n    return (sc\n            .textFile(\"file:///\" + SparkFiles.get(path), 4, 0)\n            .map(parseDatafileLine)\n            .cache())\n\ndef loadData(path):\n    \"\"\" Load a data file\n    Args:\n        path (str): input file name of the data file\n    Returns:\n        RDD: a RDD of parsed valid lines\n    \"\"\"\n\n    url = \"https://raw.githubusercontent.com/10605/data/master/hw1/\" + path\n    raw = parseData(url, path).cache()\n    failed = (raw\n              .filter(lambda s: s[1] == -1)\n              .map(lambda s: s[0]))\n    for line in failed.take(10):\n        print('%s - Invalid datafile line: %s' % (path, line))\n    valid = (raw\n             .filter(lambda s: s[1] == 1)\n             .map(lambda s: s[0])\n             .cache())\n    print('%s - Read %d lines, successfully parsed %d lines, failed to parse %d lines' % (path,\n                                                                                        raw.count(),\n                                                                                        valid.count(),\n                                                                                        failed.count()))\n    assert failed.count() == 0\n    assert raw.count() == (valid.count() + 1)\n    return valid\n\ngoogleSmall = loadData(GOOGLE_SMALL_PATH)\ngoogle = loadData(GOOGLE_PATH)\namazonSmall = loadData(AMAZON_SMALL_PATH)\namazon = loadData(AMAZON_PATH)"
   ]
  },
  {
   "cell_type": "markdown",
   "metadata": {
    "application/vnd.databricks.v1+cell": {
     "inputWidgets": {},
     "nuid": "d5ac7c06-4985-4edd-992c-98c405cecb83",
     "showTitle": false,
     "title": ""
    },
    "id": "W7Ry2v2f_sav"
   },
   "source": [
    "Let's examine the lines that were just loaded in the two subset (small) files - one from Google and one from Amazon"
   ]
  },
  {
   "cell_type": "code",
   "execution_count": 0,
   "metadata": {
    "application/vnd.databricks.v1+cell": {
     "inputWidgets": {},
     "nuid": "2a714407-2c41-4cc8-ab6e-d42479740e53",
     "showTitle": false,
     "title": ""
    },
    "id": "phqfZ4WN_saw"
   },
   "outputs": [],
   "source": [
    "for line in googleSmall.take(3):\n    print('google: %s: %s\\n' % (line[0], line[1]))\n\nfor line in amazonSmall.take(3):\n    print('amazon: %s: %s\\n' % (line[0], line[1]))"
   ]
  },
  {
   "cell_type": "markdown",
   "metadata": {
    "application/vnd.databricks.v1+cell": {
     "inputWidgets": {},
     "nuid": "43abdd05-a0c2-43ab-ad7a-139ca5f8f643",
     "showTitle": false,
     "title": ""
    },
    "id": "Efsia92K_saw"
   },
   "source": [
    "## Part 1: ER as Text Similarity - Bags of Words\n\nA simple approach to entity resolution is to treat all records as strings and compute their similarity with a string distance function. In this part, we will build some components for performing bag-of-words text-analysis, and then use them to compute record similarity.\n[Bag-of-words][bag-of-words] is a conceptually simple yet powerful approach to text analysis.\n\nThe idea is to treat strings, a.k.a. **documents**, as *unordered collections* of words, or **tokens**, i.e., as bags of words.\n> **Note on terminology**: a \"token\" is the result of parsing the document down to the elements we consider \"atomic\" for the task at hand.  Tokens can be things like words, numbers, acronyms, or other exotica like word-roots or fixed-length character strings.\n> Bag of words techniques all apply to any sort of token, so when we say \"bag-of-words\" we really mean \"bag-of-tokens,\" strictly speaking.\nTokens become the atomic unit of text comparison. If we want to compare two documents, we count how many tokens they share in common. If we want to search for documents with keyword queries (this is what Google does), then we turn the keywords into tokens and find documents that contain them. The power of this approach is that it makes string comparisons insensitive to small differences that probably do not affect meaning much, for example, punctuation and word order.\n[bag-of-words]: https://en.wikipedia.org/wiki/Bag-of-words_model"
   ]
  },
  {
   "cell_type": "markdown",
   "metadata": {
    "application/vnd.databricks.v1+cell": {
     "inputWidgets": {},
     "nuid": "c5c601f7-1d10-41e0-a7b2-ebe67013d1e9",
     "showTitle": false,
     "title": ""
    },
    "id": "OWpOs9Dp_saw"
   },
   "source": [
    "### (1a) Tokenize a String\nImplement the function `tokenize(string)` that takes a string and returns a list of non-empty tokens in the string. `tokenize` should split strings using the provided regular expression. Since we want to make token-matching case insensitive, make sure all tokens are turned lower-case. Give an interpretation, in natural language, of what the regular expression, `split_regex = r’\\W+'`, matches.\nIf you need help with Regular Expressions, try the site [regex101](https://regex101.com/) where you can interactively explore the results of applying different regular expressions to strings.\n\n*Note that `\\W` includes the \"_\" character*.\n\nYou should use [re.split()](https://docs.python.org/2/library/re.html#re.split) to perform the string split. Also:\n\n* make sure you remove any empty tokens\n* make sure you convert the string to lower case.\n\n#### Removing stopwords\n*[Stopwords][stopwords]* are common (English) words that do not contribute much to the content or meaning of a document (e.g., \"the\", \"a\", \"is\", \"to\", etc.). Stopwords add noise to bag-of-words comparisons, so they are usually excluded.\nUsing the included file \"stopwords.txt\", in `tokenize` make sure not to emit stopwords.\n[stopwords]: https://en.wikipedia.org/wiki/Stop_words"
   ]
  },
  {
   "cell_type": "code",
   "execution_count": 0,
   "metadata": {
    "application/vnd.databricks.v1+cell": {
     "inputWidgets": {},
     "nuid": "ba9a30d8-7c1d-4edb-96ac-cc7989e4a0bd",
     "showTitle": false,
     "title": ""
    },
    "deletable": false,
    "id": "l1CASwdl_sax",
    "nbgrader": {
     "cell_type": "code",
     "checksum": "8c9869e6085bea726b13c21dd2890cad",
     "grade": false,
     "grade_id": "tokenize",
     "locked": false,
     "schema_version": 3,
     "solution": true,
     "task": false
    }
   },
   "outputs": [],
   "source": [
    "stopfile = \"https://raw.githubusercontent.com/10605/data/master/hw1/stopwords.txt\"\nsc.addFile(stopfile)\nstopwords = set(sc.textFile(\"file:///\" + SparkFiles.get(\"stopwords.txt\")).collect())\nprint('These are the stopwords: %s' % stopwords)\nquickbrownfox = 'a quick brown fox jumps over the lazy dog'\n\ndef tokenize(string):\n    \"\"\" An implementation of input string tokenization that excludes stopwords\n    Args:\n        string (str): input string\n    Returns:\n        list: a list of tokens without stopwords\n    \"\"\"\n    # TODO: Uncomment the template below and replace <FILL IN> with appropriate code\n    # return <FILL IN>\n    \n    # YOUR CODE HERE\n    raise NotImplementedError()\n\nprint(tokenize(quickbrownfox)) # Should give ['quick', 'brown', ... ]"
   ]
  },
  {
   "cell_type": "code",
   "execution_count": 0,
   "metadata": {
    "application/vnd.databricks.v1+cell": {
     "inputWidgets": {},
     "nuid": "6131e97c-a823-4497-861c-2a6852b8af4d",
     "showTitle": false,
     "title": ""
    },
    "deletable": false,
    "editable": false,
    "id": "0Xr5qyp1_sax",
    "nbgrader": {
     "cell_type": "code",
     "checksum": "b382614c3b7b6c06d2edd9d82a9ae900",
     "grade": true,
     "grade_id": "tokenize_test",
     "locked": true,
     "points": 1,
     "schema_version": 3,
     "solution": false,
     "task": false
    }
   },
   "outputs": [],
   "source": [
    "\"\"\"Check that 'why', 'a', 'the' are all stopping words\"\"\"\nassert_equal(tokenize(\"Why a the?\"), [])\n\"\"\"Check that the word character \\W includes _\"\"\"\nassert_equal(tokenize(\"Being at the_?\"), ['the_'])\n\"\"\"Check that the function first tokenizes the string, then removes stopping words\"\"\"\nassert_equal(tokenize(quickbrownfox), ['quick','brown','fox','jumps','lazy','dog'])"
   ]
  },
  {
   "cell_type": "markdown",
   "metadata": {
    "application/vnd.databricks.v1+cell": {
     "inputWidgets": {},
     "nuid": "527c08ca-fbd2-430b-8aaa-8149473c34da",
     "showTitle": false,
     "title": ""
    },
    "id": "E3cduNPs_sax"
   },
   "source": [
    "### (1b) Tokenizing the small datasets\nNow let's tokenize the two *small* datasets. For each ID in a dataset, `tokenize` the values, and then count the total number of tokens.\n\nThe resulting RDDs, `amazonRecToToken` and `googleRecToToken` should be collections of `(recordID, [token_list])` pairs. For instance, here's a record that should be found in the resulting `amazonRecToToken` RDD:\n\n```\n('b00004tkvy', ['noah', 'ark', 'activity', 'center', 'jewel', 'case', 'ages', '3', '8', 'victory', 'multimedia'])\n```\n\nHow many tokens, total, are there in the two datasets?"
   ]
  },
  {
   "cell_type": "code",
   "execution_count": 0,
   "metadata": {
    "application/vnd.databricks.v1+cell": {
     "inputWidgets": {},
     "nuid": "48918a2d-c35e-44d7-8c2b-2fd1b16a3ec3",
     "showTitle": false,
     "title": ""
    },
    "deletable": false,
    "id": "2pQz1x_T_saz",
    "nbgrader": {
     "cell_type": "code",
     "checksum": "fe26dda79dcac70252f66481b0888ef1",
     "grade": false,
     "grade_id": "count_tokens",
     "locked": false,
     "schema_version": 3,
     "solution": true,
     "task": false
    }
   },
   "outputs": [],
   "source": [
    "# TODO: Uncomment the template below and replace <FILL IN> with appropriate code\n# amazonRecToToken = amazonSmall.<FILL IN>\n# googleRecToToken = googleSmall.<FILL IN>\n\n# YOUR CODE HERE\nraise NotImplementedError()\n\ndef countTokens(vendorRDD):\n    \"\"\" Count and return the number of tokens\n    Args:\n        vendorRDD (RDD of (recordId, tokenizedValue)): Pair tuple of record ID to tokenized output\n    Returns:\n        count: count of all tokens\n    \"\"\"\n    # TODO: Uncomment the template below and replace <FILL IN> with appropriate code\n    # recordCount = vendorRDD.<FILL IN>\n    # recordSum = recordCount.<FILL IN>\n    # return recordSum\n\n    # YOUR CODE HERE\n    raise NotImplementedError()\n\ntotalTokens = countTokens(amazonRecToToken) + countTokens(googleRecToToken)\nprint('There are %s tokens in the combined datasets' % totalTokens)"
   ]
  },
  {
   "cell_type": "code",
   "execution_count": 0,
   "metadata": {
    "application/vnd.databricks.v1+cell": {
     "inputWidgets": {},
     "nuid": "891eefaf-69bd-46e8-ab32-935c5d9fefd4",
     "showTitle": false,
     "title": ""
    },
    "id": "nv6XTlto_sa0"
   },
   "outputs": [],
   "source": [
    "amazonRecToToken.take(20)"
   ]
  },
  {
   "cell_type": "code",
   "execution_count": 0,
   "metadata": {
    "application/vnd.databricks.v1+cell": {
     "inputWidgets": {},
     "nuid": "8a39e592-5c71-4ed4-822c-45690b6c19d2",
     "showTitle": false,
     "title": ""
    },
    "deletable": false,
    "editable": false,
    "id": "fXH12q92_sa0",
    "nbgrader": {
     "cell_type": "code",
     "checksum": "1653247df422dfa22c6dc2c00693767a",
     "grade": true,
     "grade_id": "count_tokens_test",
     "locked": true,
     "points": 1,
     "schema_version": 3,
     "solution": false,
     "task": false
    }
   },
   "outputs": [],
   "source": [
    "\"\"\"Check that the total number of tokens in two datasets are 22520\"\"\"\nassert_equal(totalTokens, 22520)"
   ]
  },
  {
   "cell_type": "markdown",
   "metadata": {
    "application/vnd.databricks.v1+cell": {
     "inputWidgets": {},
     "nuid": "3df6f4f2-4053-4af0-a86f-b9fbd2177963",
     "showTitle": false,
     "title": ""
    },
    "id": "ABoP1sdo_sa0"
   },
   "source": [
    "### (1c) Amazon record with the most tokens\nWhich Amazon record has the biggest number of tokens?\nIn other words, you want to sort the records and get the one with the largest count of tokens.\n\n**Hint**: The RDD [takeOrdered()](http://spark.apache.org/docs/1.6.2/api/python/pyspark.html#pyspark.RDD.takeOrdered) transformation may be of some help here."
   ]
  },
  {
   "cell_type": "code",
   "execution_count": 0,
   "metadata": {
    "application/vnd.databricks.v1+cell": {
     "inputWidgets": {},
     "nuid": "9ee3a791-4228-4f6b-8fb8-cd817fcc088e",
     "showTitle": false,
     "title": ""
    },
    "deletable": false,
    "id": "4vZRgStJ_sa1",
    "nbgrader": {
     "cell_type": "code",
     "checksum": "968c9afea112c9ed93ff32f7dbf03432",
     "grade": false,
     "grade_id": "find_biggest_record",
     "locked": false,
     "schema_version": 3,
     "solution": true,
     "task": false
    }
   },
   "outputs": [],
   "source": [
    "def findBiggestRecord(vendorRDD):\n    \"\"\" Find and return the record with the largest number of tokens\n    Args:\n        vendorRDD (RDD of (recordId, tokens)): input Pair Tuple of record ID and tokens\n    Returns:\n        list: a list of 1 Pair Tuple of record ID and tokens\n    \"\"\"\n    # TODO: Uncomment the template below and replace <FILL IN> with appropriate code\n    # return <FILL IN>\n    \n    # YOUR CODE HERE\n    raise NotImplementedError()\n\nbiggestRecordAmazon = findBiggestRecord(amazonRecToToken)\nprint('The Amazon record with ID \"%s\" has the most tokens (%s)' % (biggestRecordAmazon[0][0],\n                                                                   len(biggestRecordAmazon[0][1])))"
   ]
  },
  {
   "cell_type": "code",
   "execution_count": 0,
   "metadata": {
    "application/vnd.databricks.v1+cell": {
     "inputWidgets": {},
     "nuid": "39312e1f-9746-45fd-a8bb-e0954b2f1941",
     "showTitle": false,
     "title": ""
    },
    "deletable": false,
    "editable": false,
    "id": "QyiihX3K_sa1",
    "nbgrader": {
     "cell_type": "code",
     "checksum": "181ba4fe6c81e560ca564b58ac8c6795",
     "grade": true,
     "grade_id": "find_biggest_record_test",
     "locked": true,
     "points": 1,
     "schema_version": 3,
     "solution": false,
     "task": false
    }
   },
   "outputs": [],
   "source": [
    "\"\"\"Check that some record has the largest number of tokens 1547\"\"\"\nassert_equal(len(biggestRecordAmazon[0][1]), 1547)"
   ]
  },
  {
   "cell_type": "markdown",
   "metadata": {
    "application/vnd.databricks.v1+cell": {
     "inputWidgets": {},
     "nuid": "f4c6512d-72c8-402c-8dcb-64dd46605df3",
     "showTitle": false,
     "title": ""
    },
    "id": "xAelJ12h_sa1"
   },
   "source": [
    "## Part 2: ER as Text Similarity - Weighted Bag-of-Words using TF-IDF\nBag-of-words comparisons are not very good when all tokens are treated the same: some tokens are more important than others. Weights give us a way to specify which tokens to favor. With weights, when we compare documents, instead of counting common tokens, we sum up the weights of common tokens. A good heuristic for assigning weights is called \"Term-Frequency/Inverse-Document-Frequency,\" or [TF-IDF][tfidf] for short.\n\n### TF\n\nTF rewards tokens that appear many times in the same document. It is computed as the frequency of a token in a document, that is, if document *d* contains 100 tokens and token *t* appears in *d* 5 times, then the TF weight of *t* in *d* is *5/100 = 1/20*. The intuition for TF is that if a word occurs often in a document, then it is more important to the meaning of the document.\n\n### IDF\n\nIDF rewards tokens that are rare overall in a dataset. The intuition is that it is more significant if two documents share a rare word than a common one. IDF weight for a token, *t*, in a set of documents, *U*, is computed as follows:\n* Let *N* be the total number of documents in *U*\n* Find *n(t)*, the number of documents in *U* that contain *t*\n* Then *IDF(t) = N/n(t)*.\n\nNote that *n(t)/N* is the frequency of *t* in *U*, and *N/n(t)* is the inverse frequency.\n\n> **Note on terminology**: Sometimes token weights depend on the document the token belongs to, that is, the same token may have a different weight when it's found in different documents.  We call these weights *local* weights.  TF is an example of a local weight, because it depends on the length of the source.  On the other hand, some token weights only depend on the token, and are the same everywhere that token is found.  We call these weights *global*, and IDF is one such weight.\n\n### TF-IDF\n\nFinally, to bring it all together, the total TF-IDF weight for a token in a document is the product of its TF and IDF weights.\n[tfidf]: https://en.wikipedia.org/wiki/Tf%E2%80%93idf"
   ]
  },
  {
   "cell_type": "markdown",
   "metadata": {
    "application/vnd.databricks.v1+cell": {
     "inputWidgets": {},
     "nuid": "5a60ab90-de86-4e22-b22b-8e3c3b3ae634",
     "showTitle": false,
     "title": ""
    },
    "id": "KkIKXbTE_sa1"
   },
   "source": [
    "### (2a) Implement a TF function\n\nImplement `tf(tokens)` that takes a list of tokens and returns a Python [dictionary](https://docs.python.org/2/tutorial/datastructures.html#dictionaries) mapping tokens to TF weights."
   ]
  },
  {
   "cell_type": "code",
   "execution_count": 0,
   "metadata": {
    "application/vnd.databricks.v1+cell": {
     "inputWidgets": {},
     "nuid": "70a5558a-4c5c-460d-b869-328709a26fb9",
     "showTitle": false,
     "title": ""
    },
    "deletable": false,
    "id": "OfujUjBr_sa1",
    "nbgrader": {
     "cell_type": "code",
     "checksum": "7ba59fc76713d92e6945bb9a228dc50f",
     "grade": false,
     "grade_id": "tf",
     "locked": false,
     "schema_version": 3,
     "solution": true,
     "task": false
    }
   },
   "outputs": [],
   "source": [
    "def tf(tokens):\n    \"\"\" Compute TF\n    Args:\n        tokens (list of str): input list of tokens from tokenize\n    Returns:\n        dictionary: a dictionary of tokens to its TF values\n    \"\"\"\n    # TODO: Uncomment the template below and replace <FILL IN> with appropriate code\n    # <FILL IN>\n\n    # YOUR CODE HERE\n    raise NotImplementedError()\n\nprint(tf(tokenize(quickbrownfox))) # Should give { 'quick': 0.1666 ... }"
   ]
  },
  {
   "cell_type": "code",
   "execution_count": 0,
   "metadata": {
    "application/vnd.databricks.v1+cell": {
     "inputWidgets": {},
     "nuid": "202d0bd4-6206-4311-b6c8-f1c30bb550fd",
     "showTitle": false,
     "title": ""
    },
    "deletable": false,
    "editable": false,
    "id": "s1Ku2Ylg_sa1",
    "nbgrader": {
     "cell_type": "code",
     "checksum": "7412a845ee92d75342a665ceccd17aad",
     "grade": true,
     "grade_id": "tf_test",
     "locked": true,
     "points": 1,
     "schema_version": 3,
     "solution": false,
     "task": false
    }
   },
   "outputs": [],
   "source": [
    "\"\"\"Check for the TF score of each word in the list of tokens extracted from the string\"\"\"\ntf_test = tf(tokenize(quickbrownfox))\nassert_equal(tf_test, {'brown': 0.16666666666666666, 'lazy': 0.16666666666666666,\n                       'jumps': 0.16666666666666666, 'fox': 0.16666666666666666,\n                       'dog': 0.16666666666666666, 'quick': 0.16666666666666666})\n\"\"\"Check for the TF score of each word in the list of tokens extracted from the string\"\"\"\ntf_test2 = tf(tokenize('one_ one_ two!'))\nassert_equal(tf_test2,  {'one_': 0.6666666666666666, 'two': 0.3333333333333333})\n"
   ]
  },
  {
   "cell_type": "markdown",
   "metadata": {
    "application/vnd.databricks.v1+cell": {
     "inputWidgets": {},
     "nuid": "f24e17c2-5978-4bc6-87e3-c579d3f331a3",
     "showTitle": false,
     "title": ""
    },
    "id": "ZLmpxuwz_sa2"
   },
   "source": [
    "### (2b) Create a corpus\nCreate a pair RDD called `corpusRDD`, consisting of a combination of the two small datasets, `amazonRecToToken` and `googleRecToToken`. Each element of the `corpusRDD` should be a pair consisting of a key from one of the small datasets (ID or URL) and the value is the associated value for that key from the small datasets."
   ]
  },
  {
   "cell_type": "code",
   "execution_count": 0,
   "metadata": {
    "application/vnd.databricks.v1+cell": {
     "inputWidgets": {},
     "nuid": "2a412965-ffef-4170-a83b-81c47353b054",
     "showTitle": false,
     "title": ""
    },
    "deletable": false,
    "id": "cUWtMpZa_sa2",
    "nbgrader": {
     "cell_type": "code",
     "checksum": "fa5fdd5ad55b31bfa633cf6a7fcddc8f",
     "grade": false,
     "grade_id": "create_corpus",
     "locked": false,
     "schema_version": 3,
     "solution": true,
     "task": false
    }
   },
   "outputs": [],
   "source": [
    "# TODO: Uncomment the template below and replace <FILL IN> with appropriate code\n# corpusRDD = <FILL IN>\n    \n# YOUR CODE HERE\nraise NotImplementedError()"
   ]
  },
  {
   "cell_type": "code",
   "execution_count": 0,
   "metadata": {
    "application/vnd.databricks.v1+cell": {
     "inputWidgets": {},
     "nuid": "47140002-2eb7-4599-9231-e488e537cc8a",
     "showTitle": false,
     "title": ""
    },
    "id": "IIEpNzC6_sa2"
   },
   "outputs": [],
   "source": [
    "for i in corpusRDD.take(50):\n    print(i)"
   ]
  },
  {
   "cell_type": "code",
   "execution_count": 0,
   "metadata": {
    "application/vnd.databricks.v1+cell": {
     "inputWidgets": {},
     "nuid": "0a43b9ab-396c-4bf5-a63a-46ad6b83dd8f",
     "showTitle": false,
     "title": ""
    },
    "deletable": false,
    "editable": false,
    "id": "JPfVlGGw_sa2",
    "nbgrader": {
     "cell_type": "code",
     "checksum": "104a123b4c360319c5c14792926a02bb",
     "grade": true,
     "grade_id": "create_corpus_test",
     "locked": true,
     "points": 1,
     "schema_version": 3,
     "solution": false,
     "task": false
    }
   },
   "outputs": [],
   "source": [
    "\"\"\"Check that there are 400 records in the two small datasets in total\"\"\"\nassert_equal(corpusRDD.count(), 400)\n\"\"\"Check that the third smallest token from the token list associated with Record b000jz4hqo is clickart\"\"\"\n_data = corpusRDD.filter(lambda t: t[0] == 'b000jz4hqo').collect()\n_words = sorted(_data[0][1])\nassert_equal(_words[3], 'clickart')"
   ]
  },
  {
   "cell_type": "markdown",
   "metadata": {
    "application/vnd.databricks.v1+cell": {
     "inputWidgets": {},
     "nuid": "c0872121-e3dd-4b7d-a233-23271089045e",
     "showTitle": false,
     "title": ""
    },
    "id": "_XWtOdJ2_sa2"
   },
   "source": [
    "### (2c) Implement an IDFs function\nImplement `idfs` that assigns an IDF weight to every unique token in an RDD called `corpus`. The function should return a pair RDD where the `key` is the unique token and value is the IDF weight for the token.\n\nRecall that the IDF weight for a token, *t*, in a set of documents, *U*, is computed as follows:\n* Let *N* be the total number of documents in *U*.\n* Find *n(t)*, the number of documents in *U* that contain *t*.\n* Then *IDF(t) = N/n(t)*.\n\nUse your `idfs` to compute the IDF weights for all tokens in `corpusRDD` (the combined small datasets).\nHow many unique tokens are there?\n\nSpecifically, in your `idfs`:\n* `uniqueTokens` is an RDD (not a pair RDD) with a list of unique tokens from each document. For each document, you should only include a token once, even if it appears multiple times in that document.\n* `tokenCountPairTuple` is a pair RDD with (.,1) in all the values. For example, a pair might be ('data', 1).\n* `tokenSumPairTuple` is a pair RDD with (.,sum). For example, a pair might be ('data', 10), since for the unique token 'data', it appears in a total of 10 documents."
   ]
  },
  {
   "cell_type": "code",
   "execution_count": 0,
   "metadata": {
    "application/vnd.databricks.v1+cell": {
     "inputWidgets": {},
     "nuid": "7c44e24d-aef2-4fd3-ba4f-67f61e594481",
     "showTitle": false,
     "title": ""
    },
    "deletable": false,
    "id": "Re4xqgWD_sa2",
    "nbgrader": {
     "cell_type": "code",
     "checksum": "419a57db7b1b94195b34a33acfaa8a06",
     "grade": false,
     "grade_id": "idfs",
     "locked": false,
     "schema_version": 3,
     "solution": true,
     "task": false
    }
   },
   "outputs": [],
   "source": [
    "def idfs(corpus):\n    \"\"\" Compute IDF\n    Args:\n        corpus (RDD): input corpus\n    Returns:\n        RDD: a RDD of (token, IDF value)\n    \"\"\"\n    # TODO: Uncomment the template below and replace <FILL IN> with appropriate code\n    # uniqueTokens = corpus.<FILL IN>\n    # tokenCountPairTuple = uniqueTokens.<FILL IN>\n    # tokenSumPairTuple = tokenCountPairTuple.<FILL IN>\n    # N = <FILL IN>\n    # return (tokenSumPairTuple.<FILL IN>)\n    \n    # YOUR CODE HERE\n    raise NotImplementedError()\n\nidfsSmall = idfs(corpusRDD)\nuniqueTokenCount = idfsSmall.count()\n\nprint('There are %s unique tokens in the small datasets.' % uniqueTokenCount)"
   ]
  },
  {
   "cell_type": "code",
   "execution_count": 0,
   "metadata": {
    "application/vnd.databricks.v1+cell": {
     "inputWidgets": {},
     "nuid": "7d36ca6b-d617-46b5-a683-a8cf47e9f985",
     "showTitle": false,
     "title": ""
    },
    "deletable": false,
    "editable": false,
    "id": "qG_ccFF-_sa2",
    "nbgrader": {
     "cell_type": "code",
     "checksum": "2473749a4e2869044e332fd596a6a30c",
     "grade": true,
     "grade_id": "idfs_test",
     "locked": true,
     "points": 1,
     "schema_version": 3,
     "solution": false,
     "task": false
    }
   },
   "outputs": [],
   "source": [
    "\"\"\"Check that the number of unique tokens in the combined small datasets is 4772\"\"\"\nassert_equal(uniqueTokenCount, 4772)\n"
   ]
  },
  {
   "cell_type": "markdown",
   "metadata": {
    "application/vnd.databricks.v1+cell": {
     "inputWidgets": {},
     "nuid": "a0172a0f-13ed-447a-bd20-6490c0a00395",
     "showTitle": false,
     "title": ""
    },
    "id": "VkohnG98_sa3"
   },
   "source": [
    "### (2d) Tokens with the smallest IDF\nPrint out the 11 tokens with the smallest IDF in the combined small dataset."
   ]
  },
  {
   "cell_type": "code",
   "execution_count": 0,
   "metadata": {
    "application/vnd.databricks.v1+cell": {
     "inputWidgets": {},
     "nuid": "abad4da0-9d05-44d4-95ba-c5ce27f91f9b",
     "showTitle": false,
     "title": ""
    },
    "deletable": false,
    "id": "CMca_CW__sa3",
    "nbgrader": {
     "cell_type": "code",
     "checksum": "1e20e70a44e4964c5408b34a3a51b0c7",
     "grade": false,
     "grade_id": "smallest_idf",
     "locked": false,
     "schema_version": 3,
     "solution": true,
     "task": false
    }
   },
   "outputs": [],
   "source": [
    "# *answer*: The 10 smallest IDFs are for: (1) software, (2 tie) new, (2 tie) features, (4) use, (5) complete, (6) easy, (7 tie) cd, (7 tie) system, (7 tie) create, (10 tie) windows, (10 tie) 1\n\n# These terms not useful for entity resolution because they are generic terms for marketing, prices, and product categories.\n\n# TODO: Uncomment the template below and replace <FILL IN> with appropriate code\n# smallIDFTokens = <FILL_IN>\n\n# YOUR CODE HERE\nraise NotImplementedError()\n\nprint(smallIDFTokens)"
   ]
  },
  {
   "cell_type": "code",
   "execution_count": 0,
   "metadata": {
    "application/vnd.databricks.v1+cell": {
     "inputWidgets": {},
     "nuid": "9323a31b-ecb9-4f4a-a153-639322dc7906",
     "showTitle": false,
     "title": ""
    },
    "deletable": false,
    "editable": false,
    "id": "9MvvT0yn_sa3",
    "nbgrader": {
     "cell_type": "code",
     "checksum": "a9a2ddf5147d6b85512758ce387d1de7",
     "grade": true,
     "grade_id": "smallest_idf_test",
     "locked": true,
     "points": 1,
     "schema_version": 3,
     "solution": false,
     "task": false
    }
   },
   "outputs": [],
   "source": [
    "_data = sorted(smallIDFTokens)\n\"\"\"Check that the first token (among the 11 tokens with the smallest idf) is '1' (in string order)\"\"\"\nassert_equal(_data[0][0], '1')\n\"\"\"Check that the third token (among the 11 tokens with the smallest idf) is 'complete' (in string order)\"\"\"\nassert_equal(_data[2][0], 'complete')\n_expected = ['1', 'cd', 'complete', 'create', 'easy', 'features', 'new', 'software', 'system', 'use', 'windows']\n_got = [t[0] for t in _data]\n\"\"\"Check that the 11 tokens with the smallest idf are sorted by the string order\"\"\"\nassert_equal(_got, _expected)"
   ]
  },
  {
   "cell_type": "markdown",
   "metadata": {
    "application/vnd.databricks.v1+cell": {
     "inputWidgets": {},
     "nuid": "19b9894c-99d3-4692-b813-02f2721e23be",
     "showTitle": false,
     "title": ""
    },
    "id": "AVnDra2y_sa3"
   },
   "source": [
    "### (2e) IDF Histogram\nPlot a histogram of IDF values.  Be sure to use appropriate scaling and bucketing for the data.\n\nFirst plot the histogram using [matplotlib](https://matplotlib.org/3.1.1/gallery/statistics/hist.html)"
   ]
  },
  {
   "cell_type": "code",
   "execution_count": 0,
   "metadata": {
    "application/vnd.databricks.v1+cell": {
     "inputWidgets": {},
     "nuid": "1232e080-945b-4ebf-8976-d5268faa31cb",
     "showTitle": false,
     "title": ""
    },
    "deletable": false,
    "id": "zqW-ffGI_sa3",
    "nbgrader": {
     "cell_type": "code",
     "checksum": "986b2353ee0fb4a6a002986b35169287",
     "grade": false,
     "grade_id": "idf_historgram",
     "locked": false,
     "schema_version": 3,
     "solution": true,
     "task": false
    }
   },
   "outputs": [],
   "source": [
    "# TODO: Uncomment the template below and replace <FILL IN> with appropriate code\n# small_idf_values = <FILL_IN>\n# fig = plt.figure(figsize=(8,3))\n# plt.hist(<FILL_IN>, <FILL_IN>, log=True)\n\n# YOUR CODE HERE\nraise NotImplementedError()\n\n# display(fig)"
   ]
  },
  {
   "cell_type": "markdown",
   "metadata": {
    "application/vnd.databricks.v1+cell": {
     "inputWidgets": {},
     "nuid": "f371497d-d89e-4507-bd06-c1b51bdc0e54",
     "showTitle": false,
     "title": ""
    },
    "id": "8HOLUQcs_sa3"
   },
   "source": [
    "Next, plot the histogram using the Databricks `display()` function. After the cell runs, click on Plot Options and select Histogram."
   ]
  },
  {
   "cell_type": "code",
   "execution_count": 0,
   "metadata": {
    "application/vnd.databricks.v1+cell": {
     "inputWidgets": {},
     "nuid": "e72d3d54-b905-4fbc-bfb1-76699586ec4c",
     "showTitle": false,
     "title": ""
    },
    "deletable": false,
    "id": "qo33KHKb_sa3",
    "nbgrader": {
     "cell_type": "code",
     "checksum": "e50f9428c736d4f8068dba4b33076463",
     "grade": false,
     "grade_id": "idf_display",
     "locked": false,
     "schema_version": 3,
     "solution": true,
     "task": false
    }
   },
   "outputs": [],
   "source": [
    "# Create a DataFrame and visualize using display()\n# TODO: Uncomment the template below and replace <FILL IN> with appropriate code\n# idfsToCountRow = idfsSmall.<FILL_IN>\n# idfsToCountDF = sqlContext.<FILL_IN>\n\n# YOUR CODE HERE\nraise NotImplementedError()\n\n# display(idfsToCountDF)"
   ]
  },
  {
   "cell_type": "markdown",
   "metadata": {
    "application/vnd.databricks.v1+cell": {
     "inputWidgets": {},
     "nuid": "ba27e260-b9d6-494c-9a8b-f6b61474930a",
     "showTitle": false,
     "title": ""
    },
    "id": "uKCJiCSj_sa4"
   },
   "source": [
    "### (2f) Implement a TF-IDF function\nUse your `tf` function to implement a `tfidf(tokens, idfs)` function that takes a list of tokens from a document and a Python dictionary of IDF weights and returns a Python dictionary mapping individual tokens to total TF-IDF weights.\n\nThe steps your function should perform are:\n* Calculate the token frequencies (TF) for `tokens`\n* Create a Python dictionary where each token maps to the token's frequency times the token's IDF weight\n\nUse your `tfidf` function to compute the weights of Amazon product record 'b000hkgj8k'. To do this, we need to extract the record for the token from the tokenized small Amazon dataset and we need to convert the IDFs for the small dataset into a Python dictionary. We can do the first part, by using a `filter()` transformation to extract the matching record and a `collect()` action to return the value to the driver.\n\nFor the second part, we use the [`collectAsMap()` action](https://spark.apache.org/docs/latest/api/python/reference/api/pyspark.RDD.collectAsMap.html) to return the IDFs to the driver as a Python dictionary."
   ]
  },
  {
   "cell_type": "code",
   "execution_count": 0,
   "metadata": {
    "application/vnd.databricks.v1+cell": {
     "inputWidgets": {},
     "nuid": "8fd1499c-c6ad-4f24-af12-bf106ecebebc",
     "showTitle": false,
     "title": ""
    },
    "deletable": false,
    "id": "XA3zMhWq_sa4",
    "nbgrader": {
     "cell_type": "code",
     "checksum": "7eb34e1a642211f70874e15c9370c0c9",
     "grade": false,
     "grade_id": "tfidf",
     "locked": false,
     "schema_version": 3,
     "solution": true,
     "task": false
    }
   },
   "outputs": [],
   "source": [
    "def tfidf(tokens, idfs):\n    \"\"\" Compute TF-IDF\n    Args:\n        tokens (list of str): input list of tokens from tokenize\n        idfs (dictionary): record to IDF value\n    Returns:\n        dictionary: a dictionary of records to TF-IDF values\n    \"\"\"\n    \n    # TODO: Uncomment the template below and replace <FILL IN> with appropriate code\n    # tfs = <FILL IN>\n    # tfIdfDict = <FILL IN>\n    # return tfIdfDict\n    \n    # YOUR CODE HERE\n    raise NotImplementedError()\n\nrecb000hkgj8k = amazonRecToToken.filter(lambda x: x[0] == 'b000hkgj8k').collect()[0][1]\nidfsSmallWeights = idfsSmall.collectAsMap()\nrec_b000hkgj8k_weights = tfidf(recb000hkgj8k, idfsSmallWeights)\n\nrecb000jz4hqo = amazonRecToToken.filter(lambda x: x[0] == 'b000jz4hqo').collect()[0][1]\nrec_b000jz4hqo_weights = tfidf(recb000jz4hqo, idfsSmallWeights)\n\nprint('Amazon record \"b000hkgj8k\" has tokens and weights:\\n%s' % rec_b000hkgj8k_weights)\nprint('Amazon record \"b000jz4hqo\" has tokens and weights: \\n%s' % rec_b000jz4hqo_weights)"
   ]
  },
  {
   "cell_type": "code",
   "execution_count": 0,
   "metadata": {
    "application/vnd.databricks.v1+cell": {
     "inputWidgets": {},
     "nuid": "b02a164d-39f2-441a-a8ee-f0cc1f425e38",
     "showTitle": false,
     "title": ""
    },
    "deletable": false,
    "editable": false,
    "id": "FCncgiY3_sa4",
    "nbgrader": {
     "cell_type": "code",
     "checksum": "2a8ff673a6b749561ce56c98184f5ec7",
     "grade": true,
     "grade_id": "tfidf_test",
     "locked": true,
     "points": 1,
     "schema_version": 3,
     "solution": false,
     "task": false
    }
   },
   "outputs": [],
   "source": [
    "\"\"\"Check for the TFIDF score vector associated with Record recb000jz4hqo\"\"\"\nassert_equal(rec_b000hkgj8k_weights, \n                   {'autocad': 33.33333333333333, 'autodesk': 8.333333333333332,\n                    'courseware': 66.66666666666666, 'psg': 33.33333333333333,\n                    '2007': 3.5087719298245617, 'customizing': 16.666666666666664,\n                    'interface': 3.0303030303030303})\n"
   ]
  },
  {
   "cell_type": "markdown",
   "metadata": {
    "application/vnd.databricks.v1+cell": {
     "inputWidgets": {},
     "nuid": "219ba68a-1e19-4ba5-8352-4134a80e46ae",
     "showTitle": false,
     "title": ""
    },
    "id": "2yKYcxM0_sa4"
   },
   "source": [
    "## Part 3: ER as Text Similarity - Cosine Similarity\nNow we are ready to do text comparisons in a formal way. The metric of string distance we will use is called **[cosine similarity][cosine]**. We will treat each document as a vector in some high dimensional space. Then, to compare two documents we compute the cosine of the angle between their two document vectors. This is *much* easier than it sounds.\n\nThe first question to answer is how do we represent documents as vectors? The answer is familiar: bag-of-words! We treat each unique token as a dimension, and treat token weights as magnitudes in their respective token dimensions. For example, suppose we use simple counts as weights, and we want to interpret the string \"Hello, world!  Goodbye, world!\" as a vector. Then in the \"hello\" and \"goodbye\" dimensions the vector has value 1, in the \"world\" dimension it has value 2, and it is zero in all other dimensions.\n\nThe next question is: given two vectors how do we find the cosine of the angle between them? Recall the formula for the dot product of two vectors:\n\\\\[ a \\cdot b = \\| a \\| \\| b \\| \\cos \\theta \\\\]\nHere \\\\( a \\cdot b = \\sum a_i b_i \\\\) is the ordinary dot product of two vectors, and \\\\( \\|a\\| = \\sqrt{ \\sum a_i^2 } \\\\) is the norm of \\\\( a \\\\).\n\nWe can rearrange terms and solve for the cosine to find it is simply the normalized dot product of the vectors. With our vector model, the dot product and norm computations are simple functions of the bag-of-words document representations, so we now have a formal way to compute similarity:\n\\\\[ similarity = \\cos \\theta = \\frac{a \\cdot b}{\\|a\\| \\|b\\|} = \\frac{\\sum a_i b_i}{\\sqrt{\\sum a_i^2} \\sqrt{\\sum b_i^2}} \\\\]\n\nSetting aside the algebra, the geometric interpretation is more intuitive. The angle between two document vectors is small if they share many tokens in common, because they are pointing in roughly the same direction. For that case, the cosine of the angle will be large. Otherwise, if the angle is large (and they have few words in common), the cosine is small. Therefore, cosine similarity scales proportionally with our intuitive sense of similarity.\n[cosine]: https://en.wikipedia.org/wiki/Cosine_similarity"
   ]
  },
  {
   "cell_type": "markdown",
   "metadata": {
    "application/vnd.databricks.v1+cell": {
     "inputWidgets": {},
     "nuid": "4aa09c45-1cca-4a2b-bb41-0b7058ac64bb",
     "showTitle": false,
     "title": ""
    },
    "id": "R_0V99ne_sa4"
   },
   "source": [
    "### (3a) Implement the components of a `cosineSimilarity` function\nImplement the components of a `cosineSimilarity` function.\nUse the `tokenize` and `tfidf` functions, and the IDF weights from Part 2 for extracting tokens and assigning them weights.\nThe steps you should perform are:\n* Define a function `dotprod` that takes two Python dictionaries and produces the dot product of them, where the dot product is defined as the sum of the product of values for tokens that appear in *both* dictionaries\n* Define a function `norm` that returns the square root of the dot product of a dictionary and itself\n* Define a function `cossim` that returns the dot product of two dictionaries divided by the norm of the first dictionary and then by the norm of the second dictionary"
   ]
  },
  {
   "cell_type": "code",
   "execution_count": 0,
   "metadata": {
    "application/vnd.databricks.v1+cell": {
     "inputWidgets": {},
     "nuid": "0ffc427d-ce48-4d99-ab9e-3fa958db950d",
     "showTitle": false,
     "title": ""
    },
    "deletable": false,
    "id": "zH4cDkW9_sa4",
    "nbgrader": {
     "cell_type": "code",
     "checksum": "0ee8e358cc2f096db30895eaf21db3c0",
     "grade": false,
     "grade_id": "cosine_similarity_math",
     "locked": false,
     "schema_version": 3,
     "solution": true,
     "task": false
    }
   },
   "outputs": [],
   "source": [
    "\ndef dotprod(a, b):\n    # TODO: Uncomment the template below and replace <FILL IN> with appropriate code\n    # return <FILL IN>\n    \n    # YOUR CODE HERE\n    raise NotImplementedError()\n\ndef norm(a):\n    # TODO: Uncomment the template below and replace <FILL IN> with appropriate code\n    # return <FILL IN>\n    \n    # YOUR CODE HERE\n    raise NotImplementedError()\n\ndef cossim(a, b):\n    # TODO: Uncomment the template below and replace <FILL IN> with appropriate code\n    # return <FILL IN>\n    \n    # YOUR CODE HERE\n    raise NotImplementedError()\n\ntestVec1 = {'foo': 2, 'bar': 3, 'baz': 5 }\ntestVec2 = {'foo': 1, 'bar': 0, 'baz': 20 }\ndp = dotprod(testVec1, testVec2)\nnm = norm(testVec1)\ncs = cossim(testVec1, testVec2)\nprint(dp, nm, cs)"
   ]
  },
  {
   "cell_type": "code",
   "execution_count": 0,
   "metadata": {
    "application/vnd.databricks.v1+cell": {
     "inputWidgets": {},
     "nuid": "2fbe5529-a41c-452d-801d-83e02cdf7a76",
     "showTitle": false,
     "title": ""
    },
    "deletable": false,
    "editable": false,
    "id": "_A7mOg-p_sa4",
    "nbgrader": {
     "cell_type": "code",
     "checksum": "50f8f05d38b3792b3c161844b064a924",
     "grade": true,
     "grade_id": "cosine_similarity_math_test",
     "locked": true,
     "points": 1,
     "schema_version": 3,
     "solution": false,
     "task": false
    }
   },
   "outputs": [],
   "source": [
    "\"\"\"Check that the dot product between testVec1 and testVec2 is 102\"\"\"\nassert_equal(dp, 102)\n\"\"\"Check that the L2 norm of testVec1 is around 6.16441400297\"\"\"\nassert_true(abs(nm - 6.16441400297) < 0.0000001)\n\"\"\"Check that the cosine similarity between testVec1 and testVec2 is around 0.826297021229\"\"\"\nassert_true(abs(cs - 0.826297021229) < 0.0000001)"
   ]
  },
  {
   "cell_type": "markdown",
   "metadata": {
    "application/vnd.databricks.v1+cell": {
     "inputWidgets": {},
     "nuid": "b7f91892-7707-4aaa-a04f-ea729ef223ce",
     "showTitle": false,
     "title": ""
    },
    "id": "qSWUlJrG_sa5"
   },
   "source": [
    "### (3b) Implement a `cosineSimilarity` function\nImplement a `cosineSimilarity(string1, string2, idfsDictionary)` function that takes two strings and a dictionary of IDF weights, and computes their cosine similarity in the context of some global IDF weights.\n\nThe steps you should perform are:\n* Apply your `tfidf` function to the tokenized first and second strings, using the dictionary of IDF weights\n* Compute and return your `cossim` function applied to the results of the two `tfidf` functions"
   ]
  },
  {
   "cell_type": "code",
   "execution_count": 0,
   "metadata": {
    "application/vnd.databricks.v1+cell": {
     "inputWidgets": {},
     "nuid": "661ed811-629e-42e2-a05c-f95eec32856a",
     "showTitle": false,
     "title": ""
    },
    "deletable": false,
    "id": "IFBglgUk_sa5",
    "nbgrader": {
     "cell_type": "code",
     "checksum": "61bfceb68fdbd5a1618d26e7538624ce",
     "grade": false,
     "grade_id": "cosine_similarity",
     "locked": false,
     "schema_version": 3,
     "solution": true,
     "task": false
    }
   },
   "outputs": [],
   "source": [
    "def cosineSimilarity(string1, string2, idfsDictionary):\n    \"\"\" Compute cosine similarity between two strings\n    Args:\n        string1 (str): first string\n        string2 (str): second string\n        idfsDictionary (dictionary): a dictionary of IDF values\n    Returns:\n        cossim: cosine similarity value\n    \"\"\"\n    # TODO: Uncomment the template below and replace <FILL IN> with appropriate code\n    # w1 = tfidf(<FILL IN>)\n    # w2 = tfidf(<FILL IN>)\n    \n    # YOUR CODE HERE\n    raise NotImplementedError()\n    return cossim(w1, w2)\n\ncossimAdobe = cosineSimilarity('Adobe Photoshop',\n                               'Adobe Illustrator',\n                               idfsSmallWeights)\n\nprint(cossimAdobe)"
   ]
  },
  {
   "cell_type": "code",
   "execution_count": 0,
   "metadata": {
    "application/vnd.databricks.v1+cell": {
     "inputWidgets": {},
     "nuid": "2108a849-7fbd-4aee-8595-734e050adeff",
     "showTitle": false,
     "title": ""
    },
    "deletable": false,
    "editable": false,
    "id": "43adALiK_sa5",
    "nbgrader": {
     "cell_type": "code",
     "checksum": "da3f6b898365474f9c622cba0c385d9a",
     "grade": true,
     "grade_id": "cosine_similarity_test",
     "locked": true,
     "points": 1,
     "schema_version": 3,
     "solution": false,
     "task": false
    }
   },
   "outputs": [],
   "source": [
    "\"\"\"Check that the cosine similarity between Adobe Photoshop and Adobe Illustrator is around 0.0577243382163\"\"\"\nassert_true(abs(cossimAdobe - 0.0577243382163) < 0.0000001)"
   ]
  },
  {
   "cell_type": "markdown",
   "metadata": {
    "application/vnd.databricks.v1+cell": {
     "inputWidgets": {},
     "nuid": "df606ea6-45d8-4922-bd17-ce4b9be170fa",
     "showTitle": false,
     "title": ""
    },
    "id": "aEaoxHQz_sa5"
   },
   "source": [
    "### (3c) Perform Entity Resolution\nNow we can finally do some entity resolution!\nFor *every* product record in the small Google dataset, use your `cosineSimilarity` function to compute its similarity to every record in the small Amazon dataset.  Then, build a dictionary mapping `(Google URL, Amazon ID)` tuples to similarity scores between 0 and 1.\nWe'll do this computation two different ways, first we'll do it without a broadcast variable, and then we'll use a broadcast variable\n\nThe steps you should perform are:\n* Create an RDD that is a combination of the small Google and small Amazon datasets that has as elements all pairs of elements (a, b) where a is in self and b is in other. The result will be an RDD of the form: `[ ((Google URL1, Google String1), (Amazon ID1, Amazon String1)), ((Google URL1, Google String1), (Amazon ID2, Amazon String2)), ((Google URL2, Google String2), (Amazon ID1, Amazon String1)), ... ]`\n* Define a worker function that given an element from the combination RDD computes the cosineSimlarity for the two records in the element\n* Apply the worker function to every element in the RDD\n\nNow, compute the similarity between Amazon record `b000o24l3q` and Google record `http://www.google.com/base/feeds/snippets/17242822440574356561`.\n\n**Hint**: Use Spark's [cartesian](https://spark.apache.org/docs/1.6.2/api/python/pyspark.html#pyspark.RDD.cartesian) method."
   ]
  },
  {
   "cell_type": "code",
   "execution_count": 0,
   "metadata": {
    "application/vnd.databricks.v1+cell": {
     "inputWidgets": {},
     "nuid": "1bf3c362-0cf0-4111-8f88-a25ee299d158",
     "showTitle": false,
     "title": ""
    },
    "deletable": false,
    "id": "1cXHv6wK_sa5",
    "nbgrader": {
     "cell_type": "code",
     "checksum": "40f704dc5f687c6495e3422ae9beeaa6",
     "grade": false,
     "grade_id": "compute_similarity",
     "locked": false,
     "schema_version": 3,
     "solution": true,
     "task": false
    }
   },
   "outputs": [],
   "source": [
    "# TODO: Uncomment the template below and replace <FILL IN> with appropriate code\n# crossSmall = (googleSmall\n#               .<FILL IN>\n#               .cache())\n\n# YOUR CODE HERE\nraise NotImplementedError()\n\ndef computeSimilarity(record):\n    \"\"\" Compute similarity on a combination record\n    Args:\n        record: a pair, (google record, amazon record)\n    Returns:\n        pair: a pair, (google URL, amazon ID, cosine similarity value)\n    \"\"\"\n    googleRec = record[0]\n    amazonRec = record[1]\n    \n    \n    # TODO: Uncomment the template below and replace <FILL IN> with appropriate code\n    # googleURL = <FILL IN>\n    # amazonID = <FILL IN>\n    # googleValue = <FILL IN>\n    # amazonValue = <FILL IN>\n    # cs = cosineSimilarity(<FILL IN>, idfsSmallWeights)\n    \n    # YOUR CODE HERE\n    raise NotImplementedError()\n    \n    return (googleURL, amazonID, cs)\n  \n# TODO: Uncomment the template below and replace <FILL IN> with appropriate code\n# similarities = (crossSmall\n#                 .<FILL IN>\n#                 .cache())\n\n# YOUR CODE HERE\nraise NotImplementedError()\n\ndef similar(amazonID, googleURL):\n    \"\"\" Return similarity value\n    Args:\n        amazonID: amazon ID\n        googleURL: google URL\n    Returns:\n        similar: cosine similarity value\n    \"\"\"\n    return (similarities\n            .filter(lambda record: (record[0] == googleURL and record[1] == amazonID))\n            .collect()[0][2])\n\nsimilarityAmazonGoogle = similar('b000o24l3q', 'http://www.google.com/base/feeds/snippets/17242822440574356561')\nprint('Requested similarity is %s.' % similarityAmazonGoogle)"
   ]
  },
  {
   "cell_type": "code",
   "execution_count": 0,
   "metadata": {
    "application/vnd.databricks.v1+cell": {
     "inputWidgets": {},
     "nuid": "a82192fd-235d-4317-8fd4-df376dffa206",
     "showTitle": false,
     "title": ""
    },
    "deletable": false,
    "editable": false,
    "id": "IM_2LJ21_sa5",
    "nbgrader": {
     "cell_type": "code",
     "checksum": "3756c14c04eb6ebd05d079b633919ec9",
     "grade": true,
     "grade_id": "compute_similarity_test",
     "locked": true,
     "points": 1,
     "schema_version": 3,
     "solution": false,
     "task": false
    }
   },
   "outputs": [],
   "source": [
    "\"\"\"Check that the cosine similarity between the Amazon record and the Google record is around 0.000303171940451\"\"\"\nassert_true(abs(similarityAmazonGoogle - 0.000303171940451) < 0.0000001)"
   ]
  },
  {
   "cell_type": "markdown",
   "metadata": {
    "application/vnd.databricks.v1+cell": {
     "inputWidgets": {},
     "nuid": "7e51bea1-4d54-42d4-853c-6d42c489dd12",
     "showTitle": false,
     "title": ""
    },
    "id": "y5NRQwnm_sa5"
   },
   "source": [
    "### (3d) Perform Entity Resolution with Broadcast Variables\nThe solution in (3c) works well for small datasets, but it requires Spark to (automatically) send the `idfsSmallWeights` variable to all the workers _for each record_. For example, if we only have one worker, and we have 1,000 records, we would be sending `idfSmallWeights` to the same worker 1,000 times. Further, if we didn't `cache()` similarities, then it might have to be recreated if we run `similar()` multiple times. While this approach works fine for small datasets, it becomes a bottleneck for larger datasets.\n\nInstead, we can use a broadcast variable - we define the broadcast variable in the driver and then we can refer to it in each worker. Spark saves the broadcast variable at each worker, so it is only sent once.\n\nThe steps you should perform are:\n* Define a `computeSimilarityBroadcast` function that given an element from the combination RDD computes the cosine simlarity for the two records in the element. This will be the same as the worker function `computeSimilarity` in (3c) except that it uses a broadcast variable.\n* Apply the worker function to every element in the RDD\n\nAgain, compute the similarity between Amazon record `b000o24l3q` and Google record `http://www.google.com/base/feeds/snippets/17242822440574356561`."
   ]
  },
  {
   "cell_type": "code",
   "execution_count": 0,
   "metadata": {
    "application/vnd.databricks.v1+cell": {
     "inputWidgets": {},
     "nuid": "b1d8c031-c294-4893-96de-1c96f9339bd3",
     "showTitle": false,
     "title": ""
    },
    "deletable": false,
    "id": "q7GPlCHA_sa6",
    "nbgrader": {
     "cell_type": "code",
     "checksum": "7802a678524c2b5cfd45cf5d5c69027c",
     "grade": false,
     "grade_id": "compute_similarity_broadcast",
     "locked": false,
     "schema_version": 3,
     "solution": true,
     "task": false
    }
   },
   "outputs": [],
   "source": [
    "def computeSimilarityBroadcast(record):\n    \"\"\" Compute similarity on a combination record, using Broadcast variable\n    Args:\n        record: a pair, (google record, amazon record)\n    Returns:\n        pair: a pair, (google URL, amazon ID, cosine similarity value)\n    \"\"\"\n    googleRec = record[0]\n    amazonRec = record[1]\n    \n    # TODO: Uncomment the template below and replace <FILL IN> with appropriate code\n    # googleURL = <FILL IN>\n    # amazonID = <FILL IN>\n    # googleValue = <FILL IN>\n    # amazonValue = <FILL IN>\n    # cs = cosineSimilarity(<FILL IN>, idfsSmallBroadcast.value)\n    \n    # YOUR CODE HERE\n    raise NotImplementedError()\n    \n    return (googleURL, amazonID, cs)\n\nidfsSmallBroadcast = sc.broadcast(idfsSmallWeights)\n\n# TODO: Uncomment the template below and replace <FILL IN> with appropriate code\n# similaritiesBroadcast = (crossSmall\n#                          .<FILL IN>\n#                          .cache())\n\n# YOUR CODE HERE\nraise NotImplementedError()\n\ndef similarBroadcast(amazonID, googleURL):\n    \"\"\" Return similarity value, computed using Broadcast variable\n    Args:\n        amazonID: amazon ID\n        googleURL: google URL\n    Returns:\n        similar: cosine similarity value\n    \"\"\"\n    return (similaritiesBroadcast\n            .filter(lambda record: (record[0] == googleURL and record[1] == amazonID))\n            .collect()[0][2])\n\nsimilarityAmazonGoogleBroadcast = similarBroadcast('b000o24l3q', 'http://www.google.com/base/feeds/snippets/17242822440574356561')\nprint('Requested similarity is %s.' % similarityAmazonGoogleBroadcast)"
   ]
  },
  {
   "cell_type": "code",
   "execution_count": 0,
   "metadata": {
    "application/vnd.databricks.v1+cell": {
     "inputWidgets": {},
     "nuid": "35a6e22f-c962-45e4-9a7b-e623a3d5013e",
     "showTitle": false,
     "title": ""
    },
    "deletable": false,
    "editable": false,
    "id": "n-W_XGHG_sa6",
    "nbgrader": {
     "cell_type": "code",
     "checksum": "ec97c6c2aa3800df17736f2ddf4c4199",
     "grade": true,
     "grade_id": "compute_similarity_broadcast_test",
     "locked": true,
     "points": 1,
     "schema_version": 3,
     "solution": false,
     "task": false
    }
   },
   "outputs": [],
   "source": [
    "\n\"\"\"Check that idfsSmallBroadcast is a boradcast variable\"\"\"\nassert_true(isinstance(idfsSmallBroadcast, Broadcast))\n\"\"\"Check that the number of weights/tokens is 4772\"\"\"\nassert_equal(len(idfsSmallBroadcast.value), 4772)\n\"\"\"Check that the cosine similarity between the Amazon record and the Google record is around 0.000303171940451\"\"\"\nassert_true(abs(similarityAmazonGoogleBroadcast - 0.000303171940451) < 0.0000001)"
   ]
  },
  {
   "cell_type": "markdown",
   "metadata": {
    "application/vnd.databricks.v1+cell": {
     "inputWidgets": {},
     "nuid": "31a0f0bd-d392-48e3-8ba9-2d46f64528ee",
     "showTitle": false,
     "title": ""
    },
    "id": "jxJ3l39C_sa6"
   },
   "source": [
    "### (3e) Perform a Gold Standard evaluation\n\nFirst, we'll load the \"gold standard\" data, considered to be ground truth, and use it to answer several questions. We read and parse the Gold Standard data, where the format of each line is \"Amazon Product ID\",\"Google URL\". The resulting RDD has elements of the form:\n\n```\n(\"AmazonID GoogleURL\", 'gold')\n```\n\nRun the following cell to create the `parse_goldfile_line()` function that we'll use to parse the data."
   ]
  },
  {
   "cell_type": "code",
   "execution_count": 0,
   "metadata": {
    "application/vnd.databricks.v1+cell": {
     "inputWidgets": {},
     "nuid": "9c067da1-a9aa-41a6-b0c0-57c8cefcb018",
     "showTitle": false,
     "title": ""
    },
    "id": "YUyICc5S_sa6"
   },
   "outputs": [],
   "source": [
    "GOLDFILE_PATTERN = '^(.+),(.+)'\n\n# Parse each line of a data file useing the specified regular expression pattern\ndef parse_goldfile_line(goldfile_line):\n    \"\"\" Parse a line from the 'golden standard' data file\n    Args:\n        goldfile_line: a line of data\n    Returns:\n        pair: ((key, 'gold', 1 if successful or else 0))\n    \"\"\"\n    match = re.search(GOLDFILE_PATTERN, goldfile_line)\n    if match is None:\n        print('Invalid goldfile line: %s' % goldfile_line)\n        return (goldfile_line, -1)\n    elif match.group(1) == '\"idAmazon\"':\n        print('Header datafile line: %s' % goldfile_line)\n        return (goldfile_line, 0)\n    else:\n        key = '%s %s' % (removeQuotes(match.group(1)), removeQuotes(match.group(2)))\n        return ((key, 'gold'), 1)\n    \nGOAL_STANDARD = \"https://raw.githubusercontent.com/10605/data/master/hw1/\" + GOLD_STANDARD_PATH\nsc.addFile(GOAL_STANDARD)\n\ngsRaw = (sc\n         .textFile(\"file:///\" + SparkFiles.get(GOLD_STANDARD_PATH))\n         .map(parse_goldfile_line)\n         .cache())\n\ngsFailed = (gsRaw\n            .filter(lambda s: s[1] == -1)\n            .map(lambda s: s[0]))\nfor line in gsFailed.take(10):\n    print('Invalid goldfile line: %s' % line)\n\ngoldStandard = (gsRaw\n                .filter(lambda s: s[1] == 1)\n                .map(lambda s: s[0])\n                .cache())\n\nprint('Read %d lines, successfully parsed %d lines, failed to parse %d lines' % (gsRaw.count(),\n                                                                                 goldStandard.count(),\n                                                                                 gsFailed.count()))\nassert (gsFailed.count() == 0)\nassert (gsRaw.count() == (goldStandard.count() + 1))"
   ]
  },
  {
   "cell_type": "markdown",
   "metadata": {
    "application/vnd.databricks.v1+cell": {
     "inputWidgets": {},
     "nuid": "179c954a-9448-4312-9458-34ae006e19a9",
     "showTitle": false,
     "title": ""
    },
    "id": "QBVyIeap_sa6"
   },
   "source": [
    "### Using the \"gold standard\" data we can answer the following questions:\n\n* How many true duplicate pairs are there in the small datasets?\n* What is the average similarity score for true duplicates?\n* What about for non-duplicates?\nThe steps you should perform are:\n* Create a new `sims` RDD from the `similaritiesBroadcast` RDD, where each element consists of a pair of the form (\"AmazonID GoogleURL\", cosineSimilarityScore). An example entry from `sims` is: `('b000bi7uqs http://www.google.com/base/feeds/snippets/18403148885652932189', 0.40202896125621296)`\n* Combine the `sims` RDD with the `goldStandard` RDD by creating a new `trueDupsRDD` RDD that has just the cosine similarity scores for those \"AmazonID GoogleURL\" pairs that appear in both the `sims` RDD and `goldStandard` RDD. Hint: you can do this using the [join()](http://spark.apache.org/docs/1.6.2/api/python/pyspark.html#pyspark.RDD.join) transformation.\n* Count the number of true duplicate pairs in the `trueDupsRDD` dataset\n* Compute the average similarity score for true duplicates in the `trueDupsRDD` datasets. Remember to use `float` for calculation\n* Create a new `nonDupsRDD` RDD that has just the cosine similarity scores for those \"AmazonID GoogleURL\" pairs from the `similaritiesBroadcast` RDD that **do not** appear in both the `sims` RDD and `goldStandard` RDD.\n* Compute the average similarity score for non-duplicates in the last datasets. Remember to use `float` for calculation"
   ]
  },
  {
   "cell_type": "code",
   "execution_count": 0,
   "metadata": {
    "application/vnd.databricks.v1+cell": {
     "inputWidgets": {},
     "nuid": "30b2a63f-898d-4038-91b2-f8e87a6210e7",
     "showTitle": false,
     "title": ""
    },
    "deletable": false,
    "id": "cDbJ-afr_sa6",
    "nbgrader": {
     "cell_type": "code",
     "checksum": "7bea352a44241854afee90724d87e813",
     "grade": false,
     "grade_id": "gold_standard_evaluation",
     "locked": false,
     "schema_version": 3,
     "solution": true,
     "task": false
    }
   },
   "outputs": [],
   "source": [
    "# TODO: Uncomment the template below and replace <FILL IN> with appropriate code\n# sims = similaritiesBroadcast.<FILL IN>\n# \n# trueDupsRDD = (sims\n#                .<FILL IN>)\n# trueDupsCount = trueDupsRDD.<FILL IN>\n# avgSimDups = <FILL IN>\n# \n# nonDupsRDD = (sims\n#               .<FILL IN>)\n# avgSimNon = <FILL IN>\n \n# YOUR CODE HERE\nraise NotImplementedError()\n\nprint('There are %s true duplicates.' % trueDupsCount)\nprint('The average similarity of true duplicates is %s.' % avgSimDups)\nprint('And for non duplicates, it is %s.' % avgSimNon)"
   ]
  },
  {
   "cell_type": "code",
   "execution_count": 0,
   "metadata": {
    "application/vnd.databricks.v1+cell": {
     "inputWidgets": {},
     "nuid": "e95145fd-3c7d-472c-b12e-7b7b577d74de",
     "showTitle": false,
     "title": ""
    },
    "deletable": false,
    "editable": false,
    "id": "xnTQpe6a_sa6",
    "nbgrader": {
     "cell_type": "code",
     "checksum": "921ca47564c5af7de08e1ef72992ebf6",
     "grade": true,
     "grade_id": "gold_standard_evaluation_test",
     "locked": true,
     "points": 1,
     "schema_version": 3,
     "solution": false,
     "task": false
    }
   },
   "outputs": [],
   "source": [
    "\"\"\"Check that there are 146 true duplicate pairs in the dataset\"\"\"\nassert_equal(trueDupsCount, 146)\n"
   ]
  },
  {
   "cell_type": "markdown",
   "metadata": {
    "application/vnd.databricks.v1+cell": {
     "inputWidgets": {},
     "nuid": "af744394-95fd-4353-a126-5faafc43d27a",
     "showTitle": false,
     "title": ""
    },
    "id": "CrfvYqkb_sa7"
   },
   "source": [
    "## Part 4: Scalable ER\nIn the previous parts, we built a text similarity function and used it for small scale entity resolution.  Our implementation is limited by its quadratic run time complexity, and is not practical for even modestly sized datasets.  In this part, we will implement a more scalable algorithm and use it to do entity resolution on the full dataset.\n\n### Inverted Indices\nTo improve our ER algorithm from the earlier parts, we should begin by analyzing its running time. In particular, the algorithm above is quadratic in two ways. First, we did a lot of redundant computation of tokens and weights, since each record was reprocessed every time it was compared. Second, we made quadratically many token comparisons between records.\n\nThe first source of quadratic overhead can be eliminated with precomputation and look-up tables, but the second source is a little more tricky. In the worst case, every token in every record in one dataset exists in every record in the other dataset, and therefore every token makes a non-zero contribution to the cosine similarity. In this case, token comparison is unavoidably quadratic.\n\nBut in reality most records have nothing (or very little) in common. Moreover, it is typical for a record in one dataset to have at most one duplicate record in the other dataset (this is the case assuming each dataset has been de-duplicated against itself). In this case, the output is linear in the size of the input and we can hope to achieve linear running time.\n\nAn [**inverted index**](https://en.wikipedia.org/wiki/Inverted_index) is a data structure that will allow us to avoid making quadratically many token comparisons.  It maps each token in the dataset to the list of documents that contain the token.  So, instead of comparing, record by record, each token to every other token to see if they match, we will use inverted indices to *look up* records that match on a particular token.\n\n> **Note on terminology**: In text search, a *forward* index maps documents in a dataset to the tokens they contain.  An *inverted* index supports the inverse mapping.\n\n> **Note**: For this section, use the complete Google and Amazon datasets, not the samples"
   ]
  },
  {
   "cell_type": "markdown",
   "metadata": {
    "application/vnd.databricks.v1+cell": {
     "inputWidgets": {},
     "nuid": "bccbdbad-7127-430c-bcef-b6147e95040a",
     "showTitle": false,
     "title": ""
    },
    "id": "GRsrAMQ8_sa7"
   },
   "source": [
    "### (4a) Tokenize the full dataset\nTokenize each of the two full datasets for Google and Amazon. Use the `tokenize()` function we defined in (1b)."
   ]
  },
  {
   "cell_type": "code",
   "execution_count": 0,
   "metadata": {
    "application/vnd.databricks.v1+cell": {
     "inputWidgets": {},
     "nuid": "84529479-ff5c-4cb3-839e-1e4030d7ae29",
     "showTitle": false,
     "title": ""
    },
    "deletable": false,
    "id": "91ORWk9e_sa7",
    "nbgrader": {
     "cell_type": "code",
     "checksum": "70f405c9c7788ae6e38c64f7dd6e2963",
     "grade": false,
     "grade_id": "full_tokenize",
     "locked": false,
     "schema_version": 3,
     "solution": true,
     "task": false
    }
   },
   "outputs": [],
   "source": [
    "# TODO: Uncomment the template below and replace <FILL IN> with appropriate code\n# amazonFullRecToToken = amazon.<FILL IN>\n# googleFullRecToToken = google.<FILL IN>\n\n# YOUR CODE HERE\nraise NotImplementedError()\n\nprint('Amazon full dataset is %s products, Google full dataset is %s products' % (amazonFullRecToToken.count(),\n                                                                                  googleFullRecToToken.count()))"
   ]
  },
  {
   "cell_type": "code",
   "execution_count": 0,
   "metadata": {
    "application/vnd.databricks.v1+cell": {
     "inputWidgets": {},
     "nuid": "53470995-7462-4f2e-8f7f-67db468773bd",
     "showTitle": false,
     "title": ""
    },
    "deletable": false,
    "editable": false,
    "id": "Dk3h4tk4_sa7",
    "nbgrader": {
     "cell_type": "code",
     "checksum": "b03dc23911738338664b51257f186fcc",
     "grade": true,
     "grade_id": "full_tokenize_test",
     "locked": true,
     "points": 1,
     "schema_version": 3,
     "solution": false,
     "task": false
    }
   },
   "outputs": [],
   "source": [
    "\"\"\"Check that Amazon full dataset has 1363 products\"\"\"\nassert_equal(amazonFullRecToToken.count(), 1363)\n"
   ]
  },
  {
   "cell_type": "markdown",
   "metadata": {
    "application/vnd.databricks.v1+cell": {
     "inputWidgets": {},
     "nuid": "82636ddb-6b65-4a1d-a062-ca864cc9c245",
     "showTitle": false,
     "title": ""
    },
    "id": "slQ9THE5_sa7"
   },
   "source": [
    "### (4b) Compute IDFs and TF-IDFs for the full datasets\n\nWe will reuse your code from above to compute TF-IDF weights for the complete combined datasets.\nThe steps you should perform are:\n* Create a new `fullCorpusRDD` that contains the tokens from the full Amazon and Google datasets.\n* Apply your `idfs` function to the `fullCorpusRDD`\n* Create a broadcast variable containing a dictionary of the IDF weights for the full dataset.\n* For each of the Amazon and Google full datasets, create weight RDDs that map IDs/URLs to TF-IDF weighted token vectors."
   ]
  },
  {
   "cell_type": "code",
   "execution_count": 0,
   "metadata": {
    "application/vnd.databricks.v1+cell": {
     "inputWidgets": {},
     "nuid": "fd797698-4328-404d-98d9-a3de5d0bcccf",
     "showTitle": false,
     "title": ""
    },
    "deletable": false,
    "id": "fcUlXqiF_sa7",
    "nbgrader": {
     "cell_type": "code",
     "checksum": "d50145b8ae7d3c6dc341ca2a2871e6a0",
     "grade": false,
     "grade_id": "full_tfidf",
     "locked": false,
     "schema_version": 3,
     "solution": true,
     "task": false
    }
   },
   "outputs": [],
   "source": [
    "# TODO: Uncomment the template below and replace <FILL IN> with appropriate code\n# fullCorpusRDD = <FILL IN>\n# idfsFull = idfs(fullCorpusRDD)\n# idfsFullCount = idfsFull.count()\n\n# YOUR CODE HERE\nraise NotImplementedError()\n\nprint('There are %s unique tokens in the full datasets.' % idfsFullCount)\n\n# Convert to dict and then broadcast\n# TODO: Uncomment the template below and replace <FILL IN> with appropriate code\n# idfsFullWeights = <FILL IN>\n# idfsFullBroadcast = <FILL IN>\n\n# YOUR CODE HERE\nraise NotImplementedError()\n\n# Pre-compute TF-IDF weights.  Build mappings from record ID weight vector.\n# TODO: Uncomment the template below and replace <FILL IN> with appropriate code\n# amazonWeightsRDD = <FILL IN>\n# googleWeightsRDD = <FILL IN>\n\n# YOUR CODE HERE\nraise NotImplementedError()\n\nprint('There are %s Amazon weights and %s Google weights.' % (amazonWeightsRDD.count(),\n                                                              googleWeightsRDD.count()))"
   ]
  },
  {
   "cell_type": "code",
   "execution_count": 0,
   "metadata": {
    "application/vnd.databricks.v1+cell": {
     "inputWidgets": {},
     "nuid": "10dad200-36ed-44ca-b4da-506d9df11eef",
     "showTitle": false,
     "title": ""
    },
    "deletable": false,
    "editable": false,
    "id": "4gioRgvq_sa7",
    "nbgrader": {
     "cell_type": "code",
     "checksum": "07239fc945cebe8e6cd9d228c4febf13",
     "grade": true,
     "grade_id": "full_tfidf_test",
     "locked": true,
     "points": 1,
     "schema_version": 3,
     "solution": false,
     "task": false
    }
   },
   "outputs": [],
   "source": [
    "\"\"\"Check that there are 17078 unique tokens in the full dataset\"\"\"\nassert_equal(idfsFullCount, 17078)\n\"\"\"Check that Amazon full dataset has 1363 products/weights\"\"\"\nassert_equal(amazonWeightsRDD.count(), 1363)\n"
   ]
  },
  {
   "cell_type": "markdown",
   "metadata": {
    "application/vnd.databricks.v1+cell": {
     "inputWidgets": {},
     "nuid": "3503ebf1-f203-4002-9eec-f5c866bf5df1",
     "showTitle": false,
     "title": ""
    },
    "id": "yseC0qD__sa7"
   },
   "source": [
    "### (4c) Compute Norms for the weights from the full datasets\n\nWe will reuse your code from above to compute norms of the IDF weights for the complete combined dataset.\nThe steps you should perform are:\n* Create two collections, one for each of the full Amazon and Google datasets, where IDs/URLs map to the norm of the associated TF-IDF weighted token vectors.\n* Convert each collection into a broadcast variable, containing a dictionary of the norm of IDF weights for the full dataset"
   ]
  },
  {
   "cell_type": "code",
   "execution_count": 0,
   "metadata": {
    "application/vnd.databricks.v1+cell": {
     "inputWidgets": {},
     "nuid": "ea65e1b6-1506-49e3-b091-c240733af6fb",
     "showTitle": false,
     "title": ""
    },
    "deletable": false,
    "id": "9_NzZzAg_sa7",
    "nbgrader": {
     "cell_type": "code",
     "checksum": "59b7ca283041d28a2f0993ddc4beb2e8",
     "grade": false,
     "grade_id": "full_norms",
     "locked": false,
     "schema_version": 3,
     "solution": true,
     "task": false
    }
   },
   "outputs": [],
   "source": [
    "# TODO: Uncomment the template below and replace <FILL IN> with appropriate code\n# amazonNorms = amazonWeightsRDD.<FILL IN>\n# amazonNormsBroadcast = <FILL IN>\n# googleNorms = googleWeightsRDD.<FILL IN>\n# googleNormsBroadcast = <FILL IN>\n\n# YOUR CODE HERE\nraise NotImplementedError()\n\nprint('There are %s Amazon norms and %s Google norms.' % (len(amazonNorms), len(googleNorms)))"
   ]
  },
  {
   "cell_type": "code",
   "execution_count": 0,
   "metadata": {
    "application/vnd.databricks.v1+cell": {
     "inputWidgets": {},
     "nuid": "1f00ae29-f12a-4adf-b49d-ee4c51767035",
     "showTitle": false,
     "title": ""
    },
    "deletable": false,
    "editable": false,
    "id": "QrcL-iXt_sa8",
    "nbgrader": {
     "cell_type": "code",
     "checksum": "0ade35ad1540eab9f39691a34c8b9e4e",
     "grade": true,
     "grade_id": "full_norms_test",
     "locked": true,
     "points": 1,
     "schema_version": 3,
     "solution": false,
     "task": false
    }
   },
   "outputs": [],
   "source": [
    "\"\"\"Check that amazonNormsBroadcast is a boradcast variable\"\"\"\nassert_true(isinstance(amazonNormsBroadcast, Broadcast))\n\"\"\"Check that Amazon full dataset has 1363 products/norms\"\"\"\nassert_equal(len(amazonNormsBroadcast.value), 1363)\n"
   ]
  },
  {
   "cell_type": "markdown",
   "metadata": {
    "application/vnd.databricks.v1+cell": {
     "inputWidgets": {},
     "nuid": "2f0922d0-8be6-4579-9e4d-b35cfd828bd8",
     "showTitle": false,
     "title": ""
    },
    "id": "oV5DBWaP_sa8"
   },
   "source": [
    "### (4d) Create inverted indices from the full datasets\n\nBuild inverted indices of both data sources.\nThe steps you should perform are:\n* Create an invert function that given a pair of (ID/URL, TF-IDF weighted token vector), returns a list of pairs of (token, ID/URL). Recall that the TF-IDF weighted token vector is a Python dictionary with keys that are tokens and values that are weights.\n* Use your invert function to convert the full Amazon and Google TF-IDF weighted token vector datasets into two RDDs where each element is a pair of a token and an ID/URL that contain that token. These are inverted indices."
   ]
  },
  {
   "cell_type": "code",
   "execution_count": 0,
   "metadata": {
    "application/vnd.databricks.v1+cell": {
     "inputWidgets": {},
     "nuid": "38b50447-1e77-4f5e-92d7-a455f6ca7c97",
     "showTitle": false,
     "title": ""
    },
    "deletable": false,
    "id": "D4ybU20h_sa8",
    "nbgrader": {
     "cell_type": "code",
     "checksum": "09893aa8b21161da6c852db036383c0f",
     "grade": false,
     "grade_id": "invert",
     "locked": false,
     "schema_version": 3,
     "solution": true,
     "task": false
    }
   },
   "outputs": [],
   "source": [
    "# TODO: Uncomment the template below and replace <FILL IN> with appropriate code\n# def invert(record):\n#     \"\"\" Invert (ID, tokens) to a list of (token, ID)\n#     Args:\n#         record: a pair, (ID, token vector)\n#     Returns:\n#         pairs: a list of pairs of token to ID\n#     \"\"\"\n#     <FILL IN>\n#     return (pairs)\n\n# amazonInvPairsRDD = (amazonWeightsRDD\n#                     .<FILL IN>\n#                     .cache())\n# \n# googleInvPairsRDD = (googleWeightsRDD\n#                     .<FILL IN>\n#                     .cache())\n\n# YOUR CODE HERE\nraise NotImplementedError()\n\nprint('There are %s Amazon inverted pairs and %s Google inverted pairs.' % (amazonInvPairsRDD.count(),\n                                                                            googleInvPairsRDD.count()))"
   ]
  },
  {
   "cell_type": "code",
   "execution_count": 0,
   "metadata": {
    "application/vnd.databricks.v1+cell": {
     "inputWidgets": {},
     "nuid": "b64df2e2-84a4-4720-af39-2c14b17698aa",
     "showTitle": false,
     "title": ""
    },
    "deletable": false,
    "editable": false,
    "id": "8RmXpwsj_sa8",
    "nbgrader": {
     "cell_type": "code",
     "checksum": "69a5f4ea1dde2bd41127f21568a8f259",
     "grade": true,
     "grade_id": "invert_test",
     "locked": true,
     "points": 1,
     "schema_version": 3,
     "solution": false,
     "task": false
    }
   },
   "outputs": [],
   "source": [
    "invertedPair = invert((1, {'foo': 2}))\n\"\"\"Check that the function successfully inverts (ID, tokens) to a list of (tokens, ID)\"\"\"\nassert_equal(invertedPair[0][1], 1)\n\"\"\"Check that there are 111387 Amazon inverted pairs\"\"\"\nassert_equal(amazonInvPairsRDD.count(), 111387)\n"
   ]
  },
  {
   "cell_type": "markdown",
   "metadata": {
    "application/vnd.databricks.v1+cell": {
     "inputWidgets": {},
     "nuid": "c6bbc3ca-f089-49d1-ac12-af47badbeadd",
     "showTitle": false,
     "title": ""
    },
    "id": "dFzqgfKx_sa8"
   },
   "source": [
    "### (4e) Identify common tokens from the full dataset\n\nWe are now in position to efficiently perform ER on the full datasets. Implement the following algorithm to build an RDD that maps a pair of (ID, URL) to a list of tokens they share in common. This might take more time to run than other cells."
   ]
  },
  {
   "cell_type": "code",
   "execution_count": 0,
   "metadata": {
    "application/vnd.databricks.v1+cell": {
     "inputWidgets": {},
     "nuid": "8a775ee8-34c0-44d5-9726-5640826a3a27",
     "showTitle": false,
     "title": ""
    },
    "deletable": false,
    "id": "rGT_qYpH_sa8",
    "nbgrader": {
     "cell_type": "code",
     "checksum": "c955cd66d233bf4a05f30bf2bfb79438",
     "grade": false,
     "grade_id": "swap_and_common_tokens",
     "locked": false,
     "schema_version": 3,
     "solution": true,
     "task": false
    }
   },
   "outputs": [],
   "source": [
    "# TODO: Uncomment the template below and replace <FILL IN> with appropriate code\n# (Note that it might take some time to run this cell)\n# def swap(record):\n#     \"\"\" Swap (token, (ID, URL)) to ((ID, URL), token)\n#     Args:\n#         record: a pair, (token, (ID, URL))\n#     Returns:\n#         pair: ((ID, URL), token)\n#     \"\"\"\n#     token = <FILL IN>\n#     keys = <FILL IN>\n#     return (keys, token)\n# \n# commonTokens = (amazonInvPairsRDD\n#                 .<FILL IN>\n#                 .cache())\n\n# YOUR CODE HERE\nraise NotImplementedError()\n\nprint('Found %d common tokens' % commonTokens.count())"
   ]
  },
  {
   "cell_type": "code",
   "execution_count": 0,
   "metadata": {
    "application/vnd.databricks.v1+cell": {
     "inputWidgets": {},
     "nuid": "bd1f848f-af0e-49dc-a837-232690058891",
     "showTitle": false,
     "title": ""
    },
    "deletable": false,
    "editable": false,
    "id": "3QMk5uHW_sa8",
    "nbgrader": {
     "cell_type": "code",
     "checksum": "0242ec426b8393853b6437f2f796dafe",
     "grade": true,
     "grade_id": "swap_and_common_tokens_test",
     "locked": true,
     "points": 1,
     "schema_version": 3,
     "solution": false,
     "task": false
    }
   },
   "outputs": [],
   "source": [
    "\"\"\"Check that there are 2441100 common tokens\"\"\"\nassert_equal(commonTokens.count(), 2441100)"
   ]
  },
  {
   "cell_type": "markdown",
   "metadata": {
    "application/vnd.databricks.v1+cell": {
     "inputWidgets": {},
     "nuid": "c4d52bfe-85b7-4504-b324-401cdfc65851",
     "showTitle": false,
     "title": ""
    },
    "id": "VJ1Ep89P_sa8"
   },
   "source": [
    "### (4f) Compute Similarity Scores\n\nUse the data structures from parts **(4a)** and **(4e)** to build a dictionary to map record pairs to cosine similarity scores.\nThe steps you should perform are:\n* Create two broadcast dictionaries from the amazonWeights and googleWeights RDDs\n* Create a `fastCosinesSimilarity` function that takes in a record consisting of the pair ((Amazon ID, Google URL), tokens list) and computes the sum for each of the tokens in the token list of the products of the Amazon weight for the token times the Google weight for the token. The sum should then be divided by the norm for the Google URL and then divided by the norm for the Amazon ID. The function should return this value in a pair with the key being the (Amazon ID, Google URL). *Make sure you use broadcast variables you created for both the weights and norms*\n* Apply your `fastCosinesSimilarity` function to the common tokens from the full dataset"
   ]
  },
  {
   "cell_type": "code",
   "execution_count": 0,
   "metadata": {
    "application/vnd.databricks.v1+cell": {
     "inputWidgets": {},
     "nuid": "244f8123-a18a-49ba-a69f-7f52e660d0f1",
     "showTitle": false,
     "title": ""
    },
    "deletable": false,
    "id": "3fJiKpgN_sa9",
    "nbgrader": {
     "cell_type": "code",
     "checksum": "e20b7bcaaa5b343499546d72a665f785",
     "grade": false,
     "grade_id": "full_similarity",
     "locked": false,
     "schema_version": 3,
     "solution": true,
     "task": false
    }
   },
   "outputs": [],
   "source": [
    "# TODO: Uncomment the template below and replace <FILL IN> with appropriate code\n# amazonWeightsBroadcast = <FILL IN>\n# googleWeightsBroadcast = <FILL IN>\n# \n# def fastCosineSimilarity(record):\n#     \"\"\" Compute Cosine Similarity using Broadcast variables\n#     Args:\n#         record: ((ID, URL), iterable(token))\n#     Returns:\n#         pair: ((ID, URL), cosine similarity value)\n#     \"\"\"\n#     <FILL IN>\n#     s = <FILL IN>\n#     value = <FILL IN>\n#     key = (<FILL_IN>, <FILL_IN>)\n#     return (key, value)\n# \n# similaritiesFullRDD = (commonTokens\n#                        .<FILL IN>\n#                        .cache())\n\n# YOUR CODE HERE\nraise NotImplementedError()\n\nprint(similaritiesFullRDD.count())"
   ]
  },
  {
   "cell_type": "code",
   "execution_count": 0,
   "metadata": {
    "application/vnd.databricks.v1+cell": {
     "inputWidgets": {},
     "nuid": "ad100a11-8cb0-4fe8-b9ee-80bfd91178f9",
     "showTitle": false,
     "title": ""
    },
    "deletable": false,
    "editable": false,
    "id": "bP9qGTHu_sa9",
    "nbgrader": {
     "cell_type": "code",
     "checksum": "26d1db457d6f0555c1609b06e6a9a0bd",
     "grade": true,
     "grade_id": "full_similarity_test",
     "locked": true,
     "points": 1,
     "schema_version": 3,
     "solution": false,
     "task": false
    }
   },
   "outputs": [],
   "source": [
    "similarityTest = similaritiesFullRDD.filter(lambda kv : kv[0][0] == 'b00005lzly' and kv[0][1] == 'http://www.google.com/base/feeds/snippets/13823221823254120257').collect()\n\"\"\"Check that we are testing the similarity score of one pair of product\"\"\"\nassert_equal(len(similarityTest), 1)\n\"\"\"Check that the similarity socre is very small (they are the same entity)\"\"\"\nassert_true(abs(similarityTest[0][1] - 4.286548414e-06) < 0.000000000001)\n\"\"\"Check that there are 2441100 common tokens\"\"\"\nassert_equal(similaritiesFullRDD.count(), 2441100)"
   ]
  },
  {
   "cell_type": "markdown",
   "metadata": {
    "application/vnd.databricks.v1+cell": {
     "inputWidgets": {},
     "nuid": "a2e1467e-ee18-40fa-adc7-b74414af0181",
     "showTitle": false,
     "title": ""
    },
    "id": "waFdtCvf_sa9"
   },
   "source": [
    "#### **Part 5: Analysis**\n\nNow we have an authoritative list of record-pair similarities, but we need a way to use those similarities to decide if two records are duplicates or not. The simplest approach is to pick a **threshold**. Pairs whose similarity is above the threshold are declared duplicates, and pairs below the threshold are declared distinct.\n\nTo decide where to set the threshold we need to understand what kind of errors result at different levels. If we set the threshold too low, we get more **false positives**, that is, record-pairs we say are duplicates that in reality are not. If we set the threshold too high, we get more **false negatives**, that is, record-pairs that really are duplicates but that we miss.\n\nER algorithms are evaluated by the common metrics of information retrieval and search called **precision** and **recall**. Precision asks, of all the record-pairs marked duplicates, what fraction are true duplicates? Recall asks, of all the true duplicates in the data, what fraction did we successfully find? As with false positives and false negatives, there is a trade-off between precision and recall. A third metric, called **F-measure**, takes the harmonic mean of precision and recall to measure overall goodness in a single value:\n\\\\[ Fmeasure = 2 \\frac{precision * recall}{precision + recall} \\\\]"
   ]
  },
  {
   "cell_type": "markdown",
   "metadata": {
    "application/vnd.databricks.v1+cell": {
     "inputWidgets": {},
     "nuid": "a9fde684-bace-43e5-9a05-e2b3a6c0c9d0",
     "showTitle": false,
     "title": ""
    },
    "id": "0oY_tRDX_sa9"
   },
   "source": [
    "### (5a) Counting True Positives, False Positives, and False Negatives\n\nWe need functions that count True Positives (true duplicates above the threshold), and False Positives and False Negatives:\n* We start with creating the `simsFullRDD` from our `similaritiesFullRDD` that consists of a pair of ((Amazon ID, Google URL), simlarity score)\n* From this RDD, we create an RDD consisting of only the similarity scores\n* To look up the similarity scores for true duplicates, we perform a left outer join using the `goldStandard` RDD and `simsFullRDD` and extract the similarities scores using the helper function"
   ]
  },
  {
   "cell_type": "code",
   "execution_count": 0,
   "metadata": {
    "application/vnd.databricks.v1+cell": {
     "inputWidgets": {},
     "nuid": "e61f8ff0-7669-40fe-85d1-9e8f15e525e8",
     "showTitle": false,
     "title": ""
    },
    "id": "5tYRnpPh_sa9"
   },
   "outputs": [],
   "source": [
    "# Create an RDD of ((Amazon ID, Google URL), similarity score)\nsimsFullRDD = similaritiesFullRDD.map(lambda x: (\"%s %s\" % (x[0][0], x[0][1]), x[1]))\nassert (simsFullRDD.count() == 2441100)\n\n# Create an RDD of just the similarity scores\nsimsFullValuesRDD = (simsFullRDD\n                     .map(lambda x: x[1])\n                     .cache())\nassert (simsFullValuesRDD.count() == 2441100)\n\n# Look up all similarity scores for true duplicates\n\n# This helper function will return the similarity score for records that are in the gold standard and the simsFullRDD (True positives), and will return 0 for records that are in the gold standard but not in simsFullRDD (False Negatives).\ndef gs_value(record):\n    if (record[1][1] is None):\n        return 0\n    else:\n        return record[1][1]\n\n# Join the gold standard and simsFullRDD, and then extract the similarities scores using the helper function\ntrueDupSimsRDD = (goldStandard\n                  .leftOuterJoin(simsFullRDD)\n                  .map(gs_value)\n                  .cache())\nprint('There are %s true duplicates.' % trueDupSimsRDD.count())\nassert(trueDupSimsRDD.count() == 1300)"
   ]
  },
  {
   "cell_type": "markdown",
   "metadata": {
    "application/vnd.databricks.v1+cell": {
     "inputWidgets": {},
     "nuid": "22a8db8e-d27e-46e6-912d-5c84d2d944c5",
     "showTitle": false,
     "title": ""
    },
    "id": "julwT1D0_sa9"
   },
   "source": [
    "The next step is to pick a threshold between 0 and 1 for the count of True Positives (true duplicates above the threshold). However, we would like to explore many different thresholds.\n\nTo do this, we divide the space of thresholds into 100 bins, and take the following actions:\n* We use Spark Accumulators to implement our counting function. We define a custom accumulator type, `VectorAccumulatorParam`, along with functions to initialize the accumulator's vector to zero, and to add two vectors. Note that we have to use the += operator because you can only add to an accumulator.\n* We create a helper function to create a list with one entry (bit) set to a value and all others set to 0.\n* We create 101 bins for the 100 threshold values between 0 and 1.\n* Now, for each similarity score, we can compute the false positives. We do this by adding each similarity score to the appropriate bin of the vector. Then we remove true positives from the vector by using the gold standard data.\n* We define functions for computing false positive and negative and true positives, for a given threshold."
   ]
  },
  {
   "cell_type": "code",
   "execution_count": 0,
   "metadata": {
    "application/vnd.databricks.v1+cell": {
     "inputWidgets": {},
     "nuid": "3bea02f3-39ec-477e-813d-004917ab63a0",
     "showTitle": false,
     "title": ""
    },
    "id": "W9K7-gNl_sa9"
   },
   "outputs": [],
   "source": [
    "\nclass VectorAccumulatorParam(AccumulatorParam):\n    # Initialize the VectorAccumulator to 0\n    def zero(self, value):\n        return [0] * len(value)\n\n    # Add two VectorAccumulator variables\n    def addInPlace(self, val1, val2):\n        for i in range(len(val1)):\n            val1[i] += val2[i]\n        return val1\n\n# Return a list with entry x set to value and all other entries set to 0\ndef set_bit(x, value, length):\n    bits = []\n    for y in range(length):\n        if (x == y):\n            bits.append(value)\n        else:\n            bits.append(0)\n    return bits\n\n# Pre-bin counts of false positives for different threshold ranges\nBINS = 101\nnthresholds = 100\ndef bin(similarity):\n    return int(similarity * nthresholds)\n\n# fpCounts[i] = number of entries (possible false positives) where bin(similarity) == i\nzeros = [0] * BINS\nfpCounts = sc.accumulator(zeros, VectorAccumulatorParam())\n\ndef add_element(score):\n    global fpCounts\n    b = bin(score)\n    fpCounts += set_bit(b, 1, BINS)\n\nsimsFullValuesRDD.foreach(add_element)\n\n# Remove true positives from FP counts\ndef sub_element(score):\n    global fpCounts\n    b = bin(score)\n    fpCounts += set_bit(b, -1, BINS)\n\ntrueDupSimsRDD.foreach(sub_element)\n\ndef falsepos(threshold):\n    fpList = fpCounts.value\n    return sum([fpList[b] for b in range(0, BINS) if float(b) / nthresholds >= threshold])\n\ndef falseneg(threshold):\n    return trueDupSimsRDD.filter(lambda x: x < threshold).count()\n\ndef truepos(threshold):\n    return trueDupSimsRDD.count() - falsenegDict[threshold]"
   ]
  },
  {
   "cell_type": "markdown",
   "metadata": {
    "application/vnd.databricks.v1+cell": {
     "inputWidgets": {},
     "nuid": "59fe5b30-b3d2-470c-9dd7-54cab28162f3",
     "showTitle": false,
     "title": ""
    },
    "id": "SA3axvvD_sa-"
   },
   "source": [
    "### (5b) Precision, Recall, and F-measures\nWe define functions so that we can compute the [Precision](https://en.wikipedia.org/wiki/Precision_and_recall), [Recall](https://en.wikipedia.org/wiki/Precision_and_recall), and [F-measure](https://en.wikipedia.org/wiki/Precision_and_recall#F-measure) as a function of threshold value:\n* Precision = true-positives / (true-positives + false-positives)\n* Recall = true-positives / (true-positives + false-negatives)\n* F-measure = 2 x Recall x Precision / (Recall + Precision)"
   ]
  },
  {
   "cell_type": "code",
   "execution_count": 0,
   "metadata": {
    "application/vnd.databricks.v1+cell": {
     "inputWidgets": {},
     "nuid": "9a5242cf-5f76-4bbe-b0cb-517f63ea9aad",
     "showTitle": false,
     "title": ""
    },
    "id": "wgZ-4vGk_sa-"
   },
   "outputs": [],
   "source": [
    "# Precision = true-positives / (true-positives + false-positives)\n# Recall = true-positives / (true-positives + false-negatives)\n# F-measure = 2 x Recall x Precision / (Recall + Precision)\n\ndef precision(threshold):\n    tp = trueposDict[threshold]\n    return float(tp) / (tp + falseposDict[threshold])\n\ndef recall(threshold):\n    tp = trueposDict[threshold]\n    return float(tp) / (tp + falsenegDict[threshold])\n\ndef fmeasure(threshold):\n    r = recall(threshold)\n    p = precision(threshold)\n    return 2 * r * p / (r + p)"
   ]
  },
  {
   "cell_type": "markdown",
   "metadata": {
    "application/vnd.databricks.v1+cell": {
     "inputWidgets": {},
     "nuid": "4d02b244-1fcb-482a-9980-b0a5d10aff7d",
     "showTitle": false,
     "title": ""
    },
    "id": "OKO8K34n_sa-"
   },
   "source": [
    "### (5c) Line Plots\nWe can make line plots of precision, recall, and F-measure as a function of threshold value, for thresholds between 0.0 and 1.0.  You can change `nthresholds` (above in part **(5a)**) to change the threshold values to plot."
   ]
  },
  {
   "cell_type": "code",
   "execution_count": 0,
   "metadata": {
    "application/vnd.databricks.v1+cell": {
     "inputWidgets": {},
     "nuid": "bf4f9e22-8d31-4fe0-abe2-8526416ddd89",
     "showTitle": false,
     "title": ""
    },
    "id": "fWuEH26h_sa-"
   },
   "outputs": [],
   "source": [
    "thresholds = [float(n) / nthresholds for n in range(0, nthresholds)]\nfalseposDict = dict([(t, falsepos(t)) for t in thresholds])\nfalsenegDict = dict([(t, falseneg(t)) for t in thresholds])\ntrueposDict = dict([(t, truepos(t)) for t in thresholds])\n\nprecisions = [precision(t) for t in thresholds]\nrecalls = [recall(t) for t in thresholds]\nfmeasures = [fmeasure(t) for t in thresholds]\n\nprint(precisions[0], fmeasures[0])\nassert (abs(precisions[0] - 0.000532546802671) < 0.0000001)\nassert (abs(fmeasures[0] - 0.00106452669505) < 0.0000001)\n\n\nfig = plt.figure()\nplt.plot(thresholds, precisions)\nplt.plot(thresholds, recalls)\nplt.plot(thresholds, fmeasures)\nplt.legend(['Precision', 'Recall', 'F-measure'])\n# display(fig)"
   ]
  },
  {
   "cell_type": "markdown",
   "metadata": {
    "application/vnd.databricks.v1+cell": {
     "inputWidgets": {},
     "nuid": "94813fc0-9f4b-4f5f-baab-6d267d7a105d",
     "showTitle": false,
     "title": ""
    },
    "id": "1NzTsHBq_sa-"
   },
   "source": [
    "You can also create a similar plot using the Databricks `display()` function.\n\n* Run the following cell.\n* Then, select **Line** from the drop-down.\n* Then, click on **Plot Options**, and configure the plot as shown below.\n\n<img src=\"http://spark-mooc.github.io/web-assets/images/cs110x/lab3-change-plot-5c.png\" alt=\"plot options\" style=\"height: 500px\"/>"
   ]
  },
  {
   "cell_type": "code",
   "execution_count": 0,
   "metadata": {
    "application/vnd.databricks.v1+cell": {
     "inputWidgets": {},
     "nuid": "df90efd0-913c-4269-afa4-4d14149aed19",
     "showTitle": false,
     "title": ""
    },
    "id": "t8EX29W3_sa-"
   },
   "outputs": [],
   "source": [
    "# Create a DataFrame and visualize using display()\ngraph = [(t, precision(t), recall(t),fmeasure(t)) for t in thresholds]\ngraphRDD = sc.parallelize(graph)\n\ngraphRow = graphRDD.map(lambda kv: Row(threshold=kv[0], precision=kv[1], recall=kv[2], fmeasure=kv[3]))\ngraphDF = sqlContext.createDataFrame(graphRow)\n# display(graphDF)"
   ]
  },
  {
   "cell_type": "markdown",
   "metadata": {
    "application/vnd.databricks.v1+cell": {
     "inputWidgets": {},
     "nuid": "9f0202e6-75b1-4185-ab5f-73d3aabf8629",
     "showTitle": false,
     "title": ""
    },
    "id": "jFGKvKwe_sa-"
   },
   "source": [
    "> Note: There is no code to write for Part 5. We just think it is important to see how to do the analysis."
   ]
  },
  {
   "cell_type": "markdown",
   "metadata": {
    "application/vnd.databricks.v1+cell": {
     "inputWidgets": {},
     "nuid": "da220f29-4093-46a9-8805-780c799173c1",
     "showTitle": false,
     "title": ""
    },
    "id": "jntQIsNq_sa-"
   },
   "source": [
    "## Discussion\n\nState-of-the-art tools can get an F-measure of about 60% on this dataset. In this lab exercise, our best F-measure is closer to 40%. Look at some examples of errors (both False Positives and False Negatives) and think about what went wrong.\n\n### There are several ways we might improve our simple classifier, including:\n* Using additional attributes\n* Performing better featurization of our textual data (e.g., stemming, n-grams, etc.)\n* Using different similarity functions"
   ]
  },
  {
   "cell_type": "code",
   "execution_count": 0,
   "metadata": {
    "application/vnd.databricks.v1+cell": {
     "inputWidgets": {},
     "nuid": "44eefe2e-a537-4399-a235-8f0973d5e986",
     "showTitle": false,
     "title": ""
    },
    "id": "-ABN6Cnw_sa_"
   },
   "outputs": [],
   "source": [
    ""
   ]
  }
 ],
 "metadata": {
  "application/vnd.databricks.v1+notebook": {
   "dashboards": [],
   "language": "python",
   "notebookMetadata": {
    "pythonIndentUnit": 4
   },
   "notebookName": "hw1_coding_1",
   "notebookOrigID": 602696902102166,
   "widgets": {}
  },
  "colab": {
   "name": "hw1_coding_1_modified.ipynb",
   "provenance": [],
   "toc_visible": true
  },
  "kernelspec": {
   "display_name": "Python 3",
   "language": "python",
   "name": "python3"
  },
  "language_info": {
   "codemirror_mode": {
    "name": "ipython",
    "version": 3
   },
   "file_extension": ".py",
   "mimetype": "text/x-python",
   "name": "python",
   "nbconvert_exporter": "python",
   "pygments_lexer": "ipython3",
   "version": "3.8.5"
  }
 },
 "nbformat": 4,
 "nbformat_minor": 0
}
