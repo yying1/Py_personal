{
 "cells": [
  {
   "cell_type": "markdown",
   "id": "5864ff3c",
   "metadata": {},
   "source": [
    "### 2022-01-07 Transform the String \n",
    "https://codingcompetitions.withgoogle.com/kickstart/round/0000000000435914/00000000008da461"
   ]
  },
  {
   "cell_type": "code",
   "execution_count": 13,
   "id": "1817b58c",
   "metadata": {},
   "outputs": [
    {
     "name": "stdout",
     "output_type": "stream",
     "text": [
      "3\n",
      "pqrst\n",
      "u\n",
      "Case #1: 15\n",
      "abd\n",
      "abd\n",
      "Case #2: 0\n",
      "aaaaaaaaaaab\n",
      "aceg\n",
      "Case #3: 1\n"
     ]
    }
   ],
   "source": [
    "# f=open(\"input.txt\")\n",
    "# cases = int(f.readline().strip())\n",
    "cases = int(input().strip())\n",
    "alphabet_list = ['a', 'b', 'c', 'd', 'e', 'f', 'g', 'h', 'i', 'j', 'k', 'l', 'm', 'n', 'o', 'p', 'q', 'r', 's', 't', 'u', 'v', 'w', 'x', 'y', 'z']\n",
    "alphabet_dict = {}\n",
    "for i in range(1,26):\n",
    "    alphabet_dict[alphabet_list[i]] = i\n",
    "alphabet_dict[\"a\"] = 0\n",
    "for case in range(cases):\n",
    "#     S = list(f.readline().strip())\n",
    "    S = list(input().strip())\n",
    "#     F = list(f.readline().strip())\n",
    "    F = list(input().strip())\n",
    "    s_d = {x:S.count(x) for x in S}\n",
    "    result = 0\n",
    "    for s in s_d.keys():\n",
    "        if s not in F:\n",
    "            count = 25\n",
    "            for f in F:\n",
    "                x = alphabet_dict[s]\n",
    "                y = alphabet_dict[f]\n",
    "                step = min(abs(x-y),26-abs(x-y))\n",
    "                if step < count:\n",
    "                    count = step\n",
    "            result += count*s_d[s]\n",
    "    print(f'Case #{str(case+1)}: '+str(result))"
   ]
  },
  {
   "cell_type": "code",
   "execution_count": 5,
   "id": "f7b59af6",
   "metadata": {},
   "outputs": [
    {
     "name": "stdout",
     "output_type": "stream",
     "text": [
      "{('a', 'b'): (1, 25), ('a', 'c'): (2, 24), ('a', 'd'): (3, 23), ('a', 'e'): (4, 22), ('a', 'f'): (5, 21), ('a', 'g'): (6, 20), ('a', 'h'): (7, 19), ('a', 'i'): (8, 18), ('a', 'j'): (9, 17), ('a', 'k'): (10, 16), ('a', 'l'): (11, 15), ('a', 'm'): (12, 14), ('a', 'n'): (13, 13), ('a', 'o'): (14, 12), ('a', 'p'): (15, 11), ('a', 'q'): (16, 10), ('a', 'r'): (17, 9), ('a', 's'): (18, 8), ('a', 't'): (19, 7), ('a', 'u'): (20, 6), ('a', 'v'): (21, 5), ('a', 'w'): (22, 4), ('a', 'x'): (23, 3), ('a', 'y'): (24, 2), ('a', 'z'): (25, 1)}\n"
     ]
    }
   ],
   "source": []
  }
 ],
 "metadata": {
  "kernelspec": {
   "display_name": "Python 3 (ipykernel)",
   "language": "python",
   "name": "python3"
  },
  "language_info": {
   "codemirror_mode": {
    "name": "ipython",
    "version": 3
   },
   "file_extension": ".py",
   "mimetype": "text/x-python",
   "name": "python",
   "nbconvert_exporter": "python",
   "pygments_lexer": "ipython3",
   "version": "3.10.0"
  }
 },
 "nbformat": 4,
 "nbformat_minor": 5
}
