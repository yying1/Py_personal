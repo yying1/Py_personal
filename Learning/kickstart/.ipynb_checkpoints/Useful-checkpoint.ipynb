{
 "cells": [
  {
   "cell_type": "code",
   "execution_count": 1,
   "metadata": {},
   "outputs": [],
   "source": [
    "mine = open(\"1.txt\")\n",
    "answer = open(\"ts2_output.txt\")\n",
    "for i in range(3):\n",
    "    mline = mine.readline().strip()\n",
    "    aline = answer.readline().strip()\n",
    "    if mline == aline:\n",
    "        continue\n",
    "    else:\n",
    "        print (mline)\n",
    "        print(aline)\n",
    "mlinel = mline.split(\" \")\n",
    "alinel = aline.split(\" \")\n",
    "for i in range(len(mlinel)):\n",
    "    if mlinel[i] != alinel[i]:\n",
    "        print (i,mlinel[i],alinel[i])"
   ]
  }
 ],
 "metadata": {
  "kernelspec": {
   "display_name": "Python 3",
   "language": "python",
   "name": "python3"
  },
  "language_info": {
   "codemirror_mode": {
    "name": "ipython",
    "version": 3
   },
   "file_extension": ".py",
   "mimetype": "text/x-python",
   "name": "python",
   "nbconvert_exporter": "python",
   "pygments_lexer": "ipython3",
   "version": "3.7.2"
  }
 },
 "nbformat": 4,
 "nbformat_minor": 2
}
