{
 "cells": [
  {
   "cell_type": "markdown",
   "id": "87404d33",
   "metadata": {},
   "source": [
    "### 2021-12-29 SimplePolygon \n",
    "https://codingcompetitions.withgoogle.com/kickstart/round/00000000004362d6/00000000008b36f9"
   ]
  },
  {
   "cell_type": "code",
   "execution_count": 4,
   "id": "531e7ce8",
   "metadata": {},
   "outputs": [
    {
     "name": "stdout",
     "output_type": "stream",
     "text": [
      "2\n",
      "4 36\n",
      "Case #1: POSSIBLE\n",
      "0 0  \n",
      "1 0  \n",
      "1 1  \n",
      "0 35  \n",
      "5 2\n",
      "Case #2: IMPOSSIBLE\n"
     ]
    }
   ],
   "source": [
    "## Worked for test 1\n",
    "\n",
    "# f=open(\"input.txt\")\n",
    "# cases = int(f.readline().strip())\n",
    "cases = int(input().strip())\n",
    "for case in range(cases):\n",
    "#     N_A = f.readline().strip().split(\" \")\n",
    "    N_A = input().strip().split(\" \")\n",
    "    N,A = int(N_A[0]),int(N_A[1])\n",
    "    if A < N-2:\n",
    "        print(f'Case #{str(case+1)}: IMPOSSIBLE')\n",
    "    else:\n",
    "        print(f'Case #{str(case+1)}: POSSIBLE')\n",
    "        b = A+2\n",
    "        N_dict = {}\n",
    "        N_dict[0] = [0,0]\n",
    "        N_dict[1] = [1,0]\n",
    "        if N ==3:\n",
    "            N_dict[N-1] = [0,A]\n",
    "        elif N ==4:\n",
    "            N_dict[N-1] = [0,A-1]\n",
    "            N_dict[N-2] = [1,1]\n",
    "        elif N == 5:\n",
    "            N_dict[N-1] = [0,A-2]\n",
    "            N_dict[N-2] = [1,1]\n",
    "            N_dict[N-3] = [2,2]\n",
    "        keys = sorted(list(N_dict.keys()))\n",
    "        for key in keys:\n",
    "            print(*N_dict[key],\" \")"
   ]
  },
  {
   "cell_type": "code",
   "execution_count": null,
   "id": "c89a58b0",
   "metadata": {},
   "outputs": [],
   "source": [
    "2\n",
    "4 36\n",
    "5 2"
   ]
  }
 ],
 "metadata": {
  "kernelspec": {
   "display_name": "Python 3 (ipykernel)",
   "language": "python",
   "name": "python3"
  },
  "language_info": {
   "codemirror_mode": {
    "name": "ipython",
    "version": 3
   },
   "file_extension": ".py",
   "mimetype": "text/x-python",
   "name": "python",
   "nbconvert_exporter": "python",
   "pygments_lexer": "ipython3",
   "version": "3.10.0"
  }
 },
 "nbformat": 4,
 "nbformat_minor": 5
}
