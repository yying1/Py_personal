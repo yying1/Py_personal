{
 "cells": [
  {
   "cell_type": "markdown",
   "id": "618522b0",
   "metadata": {},
   "source": [
    "# Analyze Datasets and Train ML Models using AutoML\n",
    "\n",
    "Last Updated on 2022-06-15\n",
    "\n",
    "Course Link: https://www.coursera.org/learn/automl-datasets-ml-models/home/welcome\n",
    "\n",
    "---"
   ]
  },
  {
   "cell_type": "markdown",
   "id": "bc8e5081",
   "metadata": {},
   "source": [
    "## Week 1"
   ]
  },
  {
   "cell_type": "markdown",
   "id": "fe1d1ee4",
   "metadata": {},
   "source": [
    "*Use SQL to break down column of text into words and count length:*\n",
    "\n",
    "SELECT CARDINALITY(SPLIT(review_body, ' ')) as num_words\n",
    "FROM data"
   ]
  },
  {
   "cell_type": "code",
   "execution_count": null,
   "id": "d3c622e6",
   "metadata": {},
   "outputs": [],
   "source": [
    "# Calculate percentiles of a column\n",
    "df[\"num_words\"].describe(percentiles = [0.10,0.20,0.30,0.40,0.50,0.60,0.70,0.80,0.90,1.00])"
   ]
  },
  {
   "cell_type": "markdown",
   "id": "4e161f83",
   "metadata": {},
   "source": [
    "### Week 1 Assignment \n",
    "\n",
    "Reference: [C1_W1_Assignment](AutoML/practical-data-science-main/C1_W1_Assignment.ipynb)"
   ]
  },
  {
   "cell_type": "code",
   "execution_count": 3,
   "id": "79db9d2d",
   "metadata": {},
   "outputs": [
    {
     "name": "stdout",
     "output_type": "stream",
     "text": [
      "2021-04-29 22:21:06    8457214 womens_clothing_ecommerce_reviews.csv\n"
     ]
    }
   ],
   "source": [
    "# Download dataset from S3 Bucket\n",
    "!aws s3 ls s3://dlai-practical-data-science/data/raw/\n",
    "!aws s3 cp s3://dlai-practical-data-science/data/raw/womens_clothing_ecommerce_reviews.csv ./womens_clothing_ecommerce_reviews.csv"
   ]
  },
  {
   "cell_type": "code",
   "execution_count": 5,
   "id": "086e46dc",
   "metadata": {},
   "outputs": [
    {
     "data": {
      "text/plain": [
       "(23486, 10)"
      ]
     },
     "execution_count": 5,
     "metadata": {},
     "output_type": "execute_result"
    }
   ],
   "source": [
    "import pandas as pd\n",
    "import csv\n",
    "df = pd.read_csv('./womens_clothing_ecommerce_reviews.csv',index_col=0)\n",
    "df.shape"
   ]
  },
  {
   "cell_type": "code",
   "execution_count": null,
   "id": "44cd9370",
   "metadata": {},
   "outputs": [],
   "source": []
  },
  {
   "cell_type": "code",
   "execution_count": null,
   "id": "a9218dca",
   "metadata": {},
   "outputs": [],
   "source": []
  },
  {
   "cell_type": "code",
   "execution_count": null,
   "id": "e188447d",
   "metadata": {},
   "outputs": [],
   "source": []
  },
  {
   "cell_type": "code",
   "execution_count": null,
   "id": "b7250272",
   "metadata": {},
   "outputs": [],
   "source": []
  }
 ],
 "metadata": {
  "kernelspec": {
   "display_name": "Python 3 (ipykernel)",
   "language": "python",
   "name": "python3"
  },
  "language_info": {
   "codemirror_mode": {
    "name": "ipython",
    "version": 3
   },
   "file_extension": ".py",
   "mimetype": "text/x-python",
   "name": "python",
   "nbconvert_exporter": "python",
   "pygments_lexer": "ipython3",
   "version": "3.10.0"
  }
 },
 "nbformat": 4,
 "nbformat_minor": 5
}
