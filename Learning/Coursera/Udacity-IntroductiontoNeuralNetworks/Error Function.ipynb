{
 "cells": [
  {
   "cell_type": "markdown",
   "id": "bb54f566",
   "metadata": {},
   "source": [
    "# Error Function\n",
    "Last updated on 03/21/2023"
   ]
  },
  {
   "cell_type": "code",
   "execution_count": 3,
   "id": "8ecaecee",
   "metadata": {},
   "outputs": [],
   "source": [
    "import math"
   ]
  },
  {
   "cell_type": "markdown",
   "id": "48f2286a",
   "metadata": {},
   "source": [
    "### Quiz Question\n",
    "The sigmoid function is defined as sigmoid(x) = 1/(1+e-x). If the score is defined by 4x1 + 5x2 - 9 = score, then which of the following points has exactly a 50% probability of being blue or red? (Choose all that are correct.)"
   ]
  },
  {
   "cell_type": "code",
   "execution_count": 1,
   "id": "a09ee507",
   "metadata": {},
   "outputs": [],
   "source": [
    "def sigmoid(x):\n",
    "    return 1/(1+math.e**(-x))\n",
    "def score(x1,x2):\n",
    "    return 4*x1 + 5*x2 -9"
   ]
  },
  {
   "cell_type": "code",
   "execution_count": 5,
   "id": "0dee1be3",
   "metadata": {},
   "outputs": [
    {
     "name": "stdout",
     "output_type": "stream",
     "text": [
      "0.5\n",
      "0.9999999943972036\n",
      "8.315280276641327e-07\n",
      "0.5\n"
     ]
    }
   ],
   "source": [
    "print(sigmoid(score(1,1)))\n",
    "print(sigmoid(score(2,4)))\n",
    "print(sigmoid(score(5,-5)))\n",
    "print(sigmoid(score(-4,5)))"
   ]
  },
  {
   "cell_type": "markdown",
   "id": "c6ed87d3",
   "metadata": {},
   "source": [
    "## Softmax Function\n",
    "Write a function that takes as input a list of numbers, and returns the list of values given by the softmax function."
   ]
  },
  {
   "cell_type": "code",
   "execution_count": null,
   "id": "87c7fbe7",
   "metadata": {},
   "outputs": [],
   "source": [
    "import numpy as np\n",
    "\n",
    "def softmax(L):\n",
    "    expL = np.exp(L)\n",
    "    sumExpL = sum(expL)\n",
    "    result = []\n",
    "    for i in expL:\n",
    "        result.append(i*1.0/sumExpL)\n",
    "    return result\n",
    "    \n",
    "    # Note: The function np.divide can also be used here, as follows:\n",
    "    # def softmax(L):\n",
    "    #     expL = np.exp(L)\n",
    "    #     return np.divide (expL, expL.sum())"
   ]
  }
 ],
 "metadata": {
  "kernelspec": {
   "display_name": "Python 3 (ipykernel)",
   "language": "python",
   "name": "python3"
  },
  "language_info": {
   "codemirror_mode": {
    "name": "ipython",
    "version": 3
   },
   "file_extension": ".py",
   "mimetype": "text/x-python",
   "name": "python",
   "nbconvert_exporter": "python",
   "pygments_lexer": "ipython3",
   "version": "3.10.0"
  }
 },
 "nbformat": 4,
 "nbformat_minor": 5
}
