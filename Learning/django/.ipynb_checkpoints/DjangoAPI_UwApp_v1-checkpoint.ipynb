{
 "cells": [
  {
   "cell_type": "markdown",
   "id": "8597da0b",
   "metadata": {},
   "source": [
    "# Update Models and query data from uwapp_v1"
   ]
  },
  {
   "cell_type": "code",
   "execution_count": 1,
   "id": "9fcb3125",
   "metadata": {},
   "outputs": [],
   "source": [
    "# import project settings to be able to run django on jupyter notebook, similar to python manage.py shell\n",
    "import os\n",
    "import django\n",
    "import uwproject.settings\n",
    "from datetime import datetime as dt\n",
    "os.environ.setdefault('DJANGO_SETTINGS_MODULE', 'uwproject.settings')\n",
    "os.environ[\"DJANGO_ALLOW_ASYNC_UNSAFE\"] = \"true\"\n",
    "django.setup()"
   ]
  },
  {
   "cell_type": "code",
   "execution_count": 3,
   "id": "04db0c2a",
   "metadata": {},
   "outputs": [],
   "source": [
    "# import model class\n",
    "from uwapp_v1.models import Customer, AssetReport"
   ]
  },
  {
   "cell_type": "code",
   "execution_count": 16,
   "id": "0e5db4e1",
   "metadata": {},
   "outputs": [],
   "source": [
    "# create new object of a class, save to model\n",
    "c = Customer(customerID =183, name = 'Jonathan')\n",
    "c.save()\n",
    "c.id"
   ]
  },
  {
   "cell_type": "code",
   "execution_count": 17,
   "id": "784a5885",
   "metadata": {},
   "outputs": [
    {
     "data": {
      "text/plain": [
       "2"
      ]
     },
     "execution_count": 17,
     "metadata": {},
     "output_type": "execute_result"
    }
   ],
   "source": [
    "# query to collect all objects\n",
    "Customer.objects.all()\n",
    "# query base on primary key\n",
    "c = Customer.objects.get(pk=1)\n",
    "c.name"
   ]
  },
  {
   "cell_type": "code",
   "execution_count": 3,
   "id": "d8451c9b",
   "metadata": {},
   "outputs": [
    {
     "data": {
      "text/plain": [
       "<QuerySet [<Customer: 175 Brandon>, <Customer: 183 Jonathan>]>"
      ]
     },
     "execution_count": 3,
     "metadata": {},
     "output_type": "execute_result"
    }
   ],
   "source": [
    "a = AssetReport(customer =c, # foreign key assignment\n",
    "    token = '',\n",
    "    reportID = '',\n",
    "    display_name = 'Town & Country Federal Credit Union : PRIMARY SHARE DRAFT 4699',\n",
    "    created_at = dt.strptime('5/13/2021 22:08', '%m/%d/%Y %H:%M'),\n",
    "    updated_at = dt.strptime('11/20/2021 12:32', '%m/%d/%Y %H:%M'),\n",
    "    default_source = True\n",
    "               )\n",
    "a.save()"
   ]
  }
 ],
 "metadata": {
  "kernelspec": {
   "display_name": "Python 3 (ipykernel)",
   "language": "python",
   "name": "python3"
  },
  "language_info": {
   "codemirror_mode": {
    "name": "ipython",
    "version": 3
   },
   "file_extension": ".py",
   "mimetype": "text/x-python",
   "name": "python",
   "nbconvert_exporter": "python",
   "pygments_lexer": "ipython3",
   "version": "3.10.0"
  }
 },
 "nbformat": 4,
 "nbformat_minor": 5
}
