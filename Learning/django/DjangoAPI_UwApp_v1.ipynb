{
 "cells": [
  {
   "cell_type": "markdown",
   "id": "8597da0b",
   "metadata": {},
   "source": [
    "# Update Models and query data from uwapp_v1"
   ]
  },
  {
   "cell_type": "code",
   "execution_count": 1,
   "id": "9fcb3125",
   "metadata": {},
   "outputs": [],
   "source": [
    "import os\n",
    "import django\n",
    "import uwproject.settings\n",
    "from datetime import datetime as dt\n",
    "os.environ.setdefault('DJANGO_SETTINGS_MODULE', 'uwproject.settings')\n",
    "os.environ[\"DJANGO_ALLOW_ASYNC_UNSAFE\"] = \"true\"\n",
    "django.setup()"
   ]
  },
  {
   "cell_type": "code",
   "execution_count": 3,
   "id": "04db0c2a",
   "metadata": {},
   "outputs": [],
   "source": [
    "from uwapp_v1.models import Customer, AssetReport"
   ]
  },
  {
   "cell_type": "code",
   "execution_count": 16,
   "id": "0e5db4e1",
   "metadata": {},
   "outputs": [],
   "source": [
    "c = Customer(customerID =183, name = 'Jonathan')"
   ]
  },
  {
   "cell_type": "code",
   "execution_count": 17,
   "id": "784a5885",
   "metadata": {},
   "outputs": [
    {
     "data": {
      "text/plain": [
       "2"
      ]
     },
     "execution_count": 17,
     "metadata": {},
     "output_type": "execute_result"
    }
   ],
   "source": [
    "c.save()\n",
    "c.id"
   ]
  },
  {
   "cell_type": "code",
   "execution_count": 3,
   "id": "d8451c9b",
   "metadata": {},
   "outputs": [
    {
     "data": {
      "text/plain": [
       "<QuerySet [<Customer: 175 Brandon>, <Customer: 183 Jonathan>]>"
      ]
     },
     "execution_count": 3,
     "metadata": {},
     "output_type": "execute_result"
    }
   ],
   "source": [
    "Customer.objects.all()"
   ]
  },
  {
   "cell_type": "code",
   "execution_count": 4,
   "id": "66383c51",
   "metadata": {},
   "outputs": [],
   "source": [
    "c = Customer.objects.get(pk=1)"
   ]
  },
  {
   "cell_type": "code",
   "execution_count": 5,
   "id": "d9f6996a",
   "metadata": {},
   "outputs": [
    {
     "data": {
      "text/plain": [
       "'Brandon'"
      ]
     },
     "execution_count": 5,
     "metadata": {},
     "output_type": "execute_result"
    }
   ],
   "source": [
    "c.name"
   ]
  },
  {
   "cell_type": "code",
   "execution_count": 18,
   "id": "43a29f1d",
   "metadata": {},
   "outputs": [],
   "source": [
    "a = AssetReport(customer =c, \n",
    "    token = 'assets-production-bc957c2b-9a4e-4654-813d-988827b86f0e',\n",
    "    reportID = 'f740bea9-d7e5-4e11-9a73-e24fa82b658c',\n",
    "    display_name = 'Town & Country Federal Credit Union : PRIMARY SHARE DRAFT 4699',\n",
    "    created_at = dt.strptime('5/13/2021 22:08', '%m/%d/%Y %H:%M'),\n",
    "    updated_at = dt.strptime('11/20/2021 12:32', '%m/%d/%Y %H:%M'),\n",
    "    default_source = True\n",
    "               )"
   ]
  },
  {
   "cell_type": "code",
   "execution_count": 19,
   "id": "e5800f7a",
   "metadata": {},
   "outputs": [
    {
     "name": "stderr",
     "output_type": "stream",
     "text": [
      "/Users/frankyueying/Library/Python/3.8/lib/python/site-packages/django/db/models/fields/__init__.py:1534: RuntimeWarning: DateTimeField AssetReport.created_at received a naive datetime (2021-05-13 22:08:00) while time zone support is active.\n",
      "  warnings.warn(\n",
      "/Users/frankyueying/Library/Python/3.8/lib/python/site-packages/django/db/models/fields/__init__.py:1534: RuntimeWarning: DateTimeField AssetReport.updated_at received a naive datetime (2021-11-20 12:32:00) while time zone support is active.\n",
      "  warnings.warn(\n"
     ]
    }
   ],
   "source": [
    "a.save()"
   ]
  },
  {
   "cell_type": "code",
   "execution_count": 20,
   "id": "c4a2838a",
   "metadata": {},
   "outputs": [
    {
     "data": {
      "text/plain": [
       "<QuerySet [<AssetReport: 175 Brandon Town & Country Federal Credit Union : PRIMARY SHARE DRAFT 4699 f740bea9-d7e5-4e11-9a73-e24fa82b658c>]>"
      ]
     },
     "execution_count": 20,
     "metadata": {},
     "output_type": "execute_result"
    }
   ],
   "source": [
    "AssetReport.objects.all()"
   ]
  },
  {
   "cell_type": "code",
   "execution_count": 4,
   "id": "dc5f0a50",
   "metadata": {},
   "outputs": [],
   "source": [
    "ar = AssetReport.objects.get(pk=1)"
   ]
  },
  {
   "cell_type": "code",
   "execution_count": 7,
   "id": "a5535e26",
   "metadata": {},
   "outputs": [
    {
     "data": {
      "text/plain": [
       "'assets-production-bc957c2b-9a4e-4654-813d-988827b86f0e'"
      ]
     },
     "execution_count": 7,
     "metadata": {},
     "output_type": "execute_result"
    }
   ],
   "source": [
    "ar.token"
   ]
  }
 ],
 "metadata": {
  "kernelspec": {
   "display_name": "Django Shell-Plus",
   "language": "python",
   "name": "django_extensions"
  },
  "language_info": {
   "codemirror_mode": {
    "name": "ipython",
    "version": 3
   },
   "file_extension": ".py",
   "mimetype": "text/x-python",
   "name": "python",
   "nbconvert_exporter": "python",
   "pygments_lexer": "ipython3",
   "version": "3.8.9"
  }
 },
 "nbformat": 4,
 "nbformat_minor": 5
}
