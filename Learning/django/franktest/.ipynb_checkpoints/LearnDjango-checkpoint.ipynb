{
 "cells": [
  {
   "cell_type": "markdown",
   "id": "3fd064b1",
   "metadata": {},
   "source": [
    "# Learn Django Web App Framework\n",
    "\n",
    "Last updated on 2022-06-20\n",
    "\n",
    "[Docs](https://docs.djangoproject.com/en/4.0/intro)\n",
    "\n",
    "---"
   ]
  },
  {
   "cell_type": "markdown",
   "id": "6e0f1199",
   "metadata": {},
   "source": [
    "In order to run django on Jupyter notebook, check this link to install a package https://medium.com/ayuth/how-to-use-django-in-jupyter-notebook-561ea2401852"
   ]
  },
  {
   "cell_type": "code",
   "execution_count": 4,
   "id": "5123c2b1",
   "metadata": {},
   "outputs": [],
   "source": [
    "# to fix SynchronousOnlyOperation exception, use this reference: https://stackoverflow.com/questions/61926359/django-synchronousonlyoperation-you-cannot-call-this-from-an-async-context-u\n",
    "import os\n",
    "import django\n",
    "# os.environ.setdefault('DJANGO_SETTINGS_MODULE', 'rest.settings')\n",
    "os.environ[\"DJANGO_ALLOW_ASYNC_UNSAFE\"] = \"true\"\n",
    "# django.setup()"
   ]
  },
  {
   "cell_type": "markdown",
   "id": "bf448fee",
   "metadata": {},
   "source": [
    "## Writing your first Django app, part 2\n",
    "\n",
    "We’ll set up the database, create your first model, and get a quick introduction to Django’s automatically-generated admin site.\n",
    "\n",
    "### Play with first model"
   ]
  },
  {
   "cell_type": "code",
   "execution_count": 2,
   "id": "4eca6754",
   "metadata": {},
   "outputs": [],
   "source": [
    "from polls.models import Choice, Question"
   ]
  },
  {
   "cell_type": "code",
   "execution_count": 5,
   "id": "93170375",
   "metadata": {},
   "outputs": [
    {
     "data": {
      "text/plain": [
       "<QuerySet [<Question: what's up?>]>"
      ]
     },
     "execution_count": 5,
     "metadata": {},
     "output_type": "execute_result"
    }
   ],
   "source": [
    "Question.objects.all()"
   ]
  },
  {
   "cell_type": "code",
   "execution_count": 6,
   "id": "8b9dd2b6",
   "metadata": {},
   "outputs": [
    {
     "data": {
      "text/plain": [
       "<QuerySet [<Question: what's up?>]>"
      ]
     },
     "execution_count": 6,
     "metadata": {},
     "output_type": "execute_result"
    }
   ],
   "source": [
    "# Django provides a rich database lookup API that's entirely driven by\n",
    "# keyword arguments.\n",
    "Question.objects.filter(id=1)\n",
    "Question.objects.filter(question_text__startswith='What')"
   ]
  },
  {
   "cell_type": "code",
   "execution_count": 7,
   "id": "3842c4b3",
   "metadata": {},
   "outputs": [
    {
     "data": {
      "text/plain": [
       "<Question: what's up?>"
      ]
     },
     "execution_count": 7,
     "metadata": {},
     "output_type": "execute_result"
    }
   ],
   "source": [
    "from django.utils import timezone\n",
    "current_year = timezone.now().year\n",
    "Question.objects.get(pub_date__year=current_year)"
   ]
  },
  {
   "cell_type": "code",
   "execution_count": 8,
   "id": "86e99161",
   "metadata": {},
   "outputs": [
    {
     "data": {
      "text/plain": [
       "<Question: what's up?>"
      ]
     },
     "execution_count": 8,
     "metadata": {},
     "output_type": "execute_result"
    }
   ],
   "source": [
    "# Lookup by a primary key is the most common case, so Django provides a\n",
    "# shortcut for primary-key exact lookups.\n",
    "# The following is identical to Question.objects.get(id=1).\n",
    "Question.objects.get(pk=1)"
   ]
  },
  {
   "cell_type": "code",
   "execution_count": 9,
   "id": "8d558a21",
   "metadata": {},
   "outputs": [
    {
     "data": {
      "text/plain": [
       "True"
      ]
     },
     "execution_count": 9,
     "metadata": {},
     "output_type": "execute_result"
    }
   ],
   "source": [
    "q = Question.objects.get(pk=1)\n",
    "q.was_published_recently() # use custom method"
   ]
  },
  {
   "cell_type": "code",
   "execution_count": 10,
   "id": "933fa9b0",
   "metadata": {},
   "outputs": [
    {
     "data": {
      "text/plain": [
       "<Question: what's up?>"
      ]
     },
     "execution_count": 10,
     "metadata": {},
     "output_type": "execute_result"
    }
   ],
   "source": [
    "# use ForeignKey relation to create choices in choice_set\n",
    "q.choice_set.create(choice_text='Not much', votes=0)\n",
    "q.choice_set.create(choice_text='The sky', votes=0)\n",
    "c = q.choice_set.create(choice_text='Just hacking again', votes=0)\n",
    "# Choice objects have API access to their related Question objects.\n",
    "c.question"
   ]
  },
  {
   "cell_type": "code",
   "execution_count": 12,
   "id": "960fc32a",
   "metadata": {},
   "outputs": [
    {
     "data": {
      "text/plain": [
       "3"
      ]
     },
     "execution_count": 12,
     "metadata": {},
     "output_type": "execute_result"
    }
   ],
   "source": [
    "# And vice versa: Question objects get access to Choice objects.\n",
    "q.choice_set.all()\n",
    "q.choice_set.count()"
   ]
  },
  {
   "cell_type": "code",
   "execution_count": 13,
   "id": "3b9595ec",
   "metadata": {},
   "outputs": [
    {
     "data": {
      "text/plain": [
       "<QuerySet [<Choice: Not much>, <Choice: The sky>, <Choice: Just hacking again>]>"
      ]
     },
     "execution_count": 13,
     "metadata": {},
     "output_type": "execute_result"
    }
   ],
   "source": [
    "# The API automatically follows relationships as far as you need.\n",
    "# Use double underscores to separate relationships.\n",
    "# This works as many levels deep as you want; there's no limit.\n",
    "# Find all Choices for any question whose pub_date is in this year\n",
    "# (reusing the 'current_year' variable we created above).\n",
    "Choice.objects.filter(question__pub_date__year=current_year)"
   ]
  },
  {
   "cell_type": "code",
   "execution_count": 14,
   "id": "b9f4d2d8",
   "metadata": {},
   "outputs": [
    {
     "data": {
      "text/plain": [
       "(1, {'polls.Choice': 1})"
      ]
     },
     "execution_count": 14,
     "metadata": {},
     "output_type": "execute_result"
    }
   ],
   "source": [
    "# Let's delete one of the choices. Use delete() for that.\n",
    "c = q.choice_set.filter(choice_text__startswith='Just hacking')\n",
    "c.delete()"
   ]
  },
  {
   "cell_type": "markdown",
   "id": "312349be",
   "metadata": {},
   "source": [
    "### Create admin user and site"
   ]
  },
  {
   "cell_type": "code",
   "execution_count": null,
   "id": "64a8fec8",
   "metadata": {},
   "outputs": [],
   "source": []
  },
  {
   "cell_type": "code",
   "execution_count": null,
   "id": "6a66146b",
   "metadata": {},
   "outputs": [],
   "source": []
  },
  {
   "cell_type": "code",
   "execution_count": null,
   "id": "4a669389",
   "metadata": {},
   "outputs": [],
   "source": []
  }
 ],
 "metadata": {
  "kernelspec": {
   "display_name": "Django Shell-Plus",
   "language": "python",
   "name": "django_extensions"
  },
  "language_info": {
   "codemirror_mode": {
    "name": "ipython",
    "version": 3
   },
   "file_extension": ".py",
   "mimetype": "text/x-python",
   "name": "python",
   "nbconvert_exporter": "python",
   "pygments_lexer": "ipython3",
   "version": "3.8.9"
  }
 },
 "nbformat": 4,
 "nbformat_minor": 5
}
