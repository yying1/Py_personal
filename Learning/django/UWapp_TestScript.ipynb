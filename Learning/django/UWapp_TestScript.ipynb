{
 "cells": [
  {
   "cell_type": "markdown",
   "id": "db30b029",
   "metadata": {},
   "source": [
    "# Testing Script with Django WebApp\n",
    "\n",
    "Last Updated on 2022-06-24\n",
    "\n",
    "---"
   ]
  },
  {
   "cell_type": "markdown",
   "id": "529e06e4",
   "metadata": {},
   "source": [
    "## Sending JSON request to WebApp\n",
    "\n",
    "This is different from Django Dynamic URL since it uses a fixed URL request string\n",
    "\n",
    "References:\n",
    "1. django JSON response: https://zetcode.com/django/jsonresponse/\n",
    "2. django httprequest class: https://docs.djangoproject.com/en/4.0/ref/request-response/#django.http.HttpRequest\n",
    "3. post json data with python request: https://thewebdev.info/2021/10/17/how-to-post-json-data-with-python-requests/"
   ]
  },
  {
   "cell_type": "code",
   "execution_count": 12,
   "id": "be7748b3",
   "metadata": {},
   "outputs": [],
   "source": [
    "import requests"
   ]
  },
  {
   "cell_type": "code",
   "execution_count": 13,
   "id": "8b6ebbb5",
   "metadata": {},
   "outputs": [],
   "source": [
    "r = requests.get('http://127.0.0.1:8000/uw/sendjson/', json={\"test\": \"frank\"})"
   ]
  },
  {
   "cell_type": "code",
   "execution_count": 14,
   "id": "1f4b873e",
   "metadata": {},
   "outputs": [
    {
     "name": "stdout",
     "output_type": "stream",
     "text": [
      "200\n",
      "http://127.0.0.1:8000/uw/sendjson/\n",
      "{'test': 'frank', 'test2': 'frank'}\n",
      "{\"test\": \"frank\", \"test2\": \"frank\"}\n"
     ]
    }
   ],
   "source": [
    "print(r.status_code)\n",
    "print(r.url)\n",
    "print(r.json())"
   ]
  },
  {
   "cell_type": "markdown",
   "id": "6b152dd5",
   "metadata": {},
   "source": [
    "## Update existing entries in the model\n",
    "\n",
    "1. Different methods to update the model: https://stackoverflow.com/questions/2712682/how-to-select-a-record-and-update-it-with-a-single-queryset-in-django\n",
    "2. Model Form documentation: https://docs.djangoproject.com/en/4.0/topics/forms/modelforms/\n",
    "3. Update view example: https://www.geeksforgeeks.org/update-view-function-based-views-django/"
   ]
  },
  {
   "cell_type": "code",
   "execution_count": null,
   "id": "4f86499e",
   "metadata": {},
   "outputs": [],
   "source": []
  },
  {
   "cell_type": "markdown",
   "id": "5f4d31ec",
   "metadata": {},
   "source": [
    "## Django Model and fields references\n",
    "\n",
    "1. Model https://docs.djangoproject.com/en/4.0/topics/db/models/#automatic-primary-key-fields\n",
    "2. Fields https://docs.djangoproject.com/en/4.0/ref/models/fields/#default\n",
    "3. Relationships https://docs.djangoproject.com/en/4.0/ref/models/fields/#module-django.db.models.fields.related"
   ]
  },
  {
   "cell_type": "code",
   "execution_count": null,
   "id": "fc35acda",
   "metadata": {},
   "outputs": [],
   "source": []
  },
  {
   "cell_type": "code",
   "execution_count": null,
   "id": "356ab04b",
   "metadata": {},
   "outputs": [],
   "source": []
  }
 ],
 "metadata": {
  "kernelspec": {
   "display_name": "Python 3 (ipykernel)",
   "language": "python",
   "name": "python3"
  },
  "language_info": {
   "codemirror_mode": {
    "name": "ipython",
    "version": 3
   },
   "file_extension": ".py",
   "mimetype": "text/x-python",
   "name": "python",
   "nbconvert_exporter": "python",
   "pygments_lexer": "ipython3",
   "version": "3.8.9"
  }
 },
 "nbformat": 4,
 "nbformat_minor": 5
}
