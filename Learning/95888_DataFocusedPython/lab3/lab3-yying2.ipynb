{
 "cells": [
  {
   "cell_type": "code",
   "execution_count": null,
   "metadata": {},
   "outputs": [],
   "source": [
    "# Name: Frank Yue Ying\n",
    "# ID: yying2"
   ]
  },
  {
   "cell_type": "code",
   "execution_count": null,
   "metadata": {},
   "outputs": [],
   "source": [
    "# Question 1\n",
    "def isVowel(C):\n",
    "    if isinstance(C,str) == False:\n",
    "        return False\n",
    "    if len(C) != 1:\n",
    "        return False\n",
    "    if C.upper() in [\"A\",\"E\",\"I\",\"O\",\"U\"]:\n",
    "        return True\n",
    "    else:\n",
    "        return False\n",
    "\n",
    "def testIsVowel():\n",
    "    print( isVowel(\"1\"))\n",
    "    print( isVowel('a'))\n",
    "    print( isVowel('aeiou'))"
   ]
  },
  {
   "cell_type": "code",
   "execution_count": null,
   "metadata": {},
   "outputs": [],
   "source": [
    "testIsVowel()"
   ]
  },
  {
   "cell_type": "code",
   "execution_count": null,
   "metadata": {},
   "outputs": [],
   "source": [
    "#Question 2\n",
    "def countVowels(s):\n",
    "    count = 0\n",
    "    for c in list(s):\n",
    "        if isVowel(c) == True:\n",
    "            count +=1\n",
    "    return count"
   ]
  },
  {
   "cell_type": "code",
   "execution_count": null,
   "metadata": {},
   "outputs": [],
   "source": [
    "print(countVowels(\"abc123\"))\n",
    "print(countVowels(\"Now is the time\"))"
   ]
  },
  {
   "cell_type": "code",
   "execution_count": 1,
   "metadata": {},
   "outputs": [],
   "source": [
    "#Question 3\n",
    "def isVowelEx(C):\n",
    "    if isinstance(C,str) == False:\n",
    "        raise Exception(str(C)+\" is not a vowel.\")\n",
    "    if len(C) != 1:\n",
    "        raise Exception(str(C)+\" is not a vowel.\")\n",
    "    if C.upper() in [\"A\",\"E\",\"I\",\"O\",\"U\"]:\n",
    "        return True\n",
    "    else:\n",
    "        raise Exception(str(C)+\" is not a vowel.\")\n",
    "\n",
    "def testIsVowelEx():\n",
    "    try:\n",
    "        print( isVowelEx(\"1\"))\n",
    "    except Exception as e:\n",
    "        print(e)\n",
    "    try:\n",
    "        print( isVowelEx('a'))\n",
    "    except Exception as e:\n",
    "        print(e)\n",
    "    try:\n",
    "        print( isVowelEx('aeiou'))\n",
    "    except Exception as e:\n",
    "        print(e)"
   ]
  },
  {
   "cell_type": "code",
   "execution_count": 2,
   "metadata": {},
   "outputs": [
    {
     "name": "stdout",
     "output_type": "stream",
     "text": [
      "1 is not a vowel.\n",
      "True\n",
      "aeiou is not a vowel.\n"
     ]
    }
   ],
   "source": [
    "testIsVowelEx()"
   ]
  },
  {
   "cell_type": "code",
   "execution_count": null,
   "metadata": {},
   "outputs": [],
   "source": [
    "#Question 4"
   ]
  },
  {
   "cell_type": "code",
   "execution_count": null,
   "metadata": {},
   "outputs": [],
   "source": [
    "def makeList(line):\n",
    "    line_nospace = line.strip()\n",
    "    line_list = line_nospace.split(\"\\t\")\n",
    "    return line_list"
   ]
  },
  {
   "cell_type": "code",
   "execution_count": null,
   "metadata": {},
   "outputs": [],
   "source": [
    "def makeMovieDictionary(f):\n",
    "    movieDictionary = {}\n",
    "    for line in f.readlines():\n",
    "        if line.strip() != \"\":\n",
    "            movie_data = makeList(line)\n",
    "            movieDictionary[movie_data[1].strip().upper()] = movie_data\n",
    "    return movieDictionary"
   ]
  },
  {
   "cell_type": "code",
   "execution_count": null,
   "metadata": {},
   "outputs": [],
   "source": [
    "f = open(\"movies.tsv\")\n",
    "movie_dic = makeMovieDictionary(f)\n",
    "#print(movie_dic)\n",
    "while True:\n",
    "    movie_tolook = input(\"Please give me a movie name to look up: \")\n",
    "    if movie_tolook.strip().upper() in movie_dic.keys():\n",
    "        print(movie_dic[movie_tolook.strip().upper()])\n",
    "        break\n",
    "    else:\n",
    "        print(\"Not found\")\n",
    "        break\n",
    "f.close()"
   ]
  }
 ],
 "metadata": {
  "kernelspec": {
   "display_name": "Python 3",
   "language": "python",
   "name": "python3"
  },
  "language_info": {
   "codemirror_mode": {
    "name": "ipython",
    "version": 3
   },
   "file_extension": ".py",
   "mimetype": "text/x-python",
   "name": "python",
   "nbconvert_exporter": "python",
   "pygments_lexer": "ipython3",
   "version": "3.7.2"
  }
 },
 "nbformat": 4,
 "nbformat_minor": 2
}
