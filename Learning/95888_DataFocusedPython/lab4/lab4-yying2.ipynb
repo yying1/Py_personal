{
 "cells": [
  {
   "cell_type": "code",
   "execution_count": null,
   "metadata": {},
   "outputs": [],
   "source": [
    "#Frank Yue Ying\n",
    "#2021-11-09"
   ]
  },
  {
   "cell_type": "code",
   "execution_count": 1,
   "metadata": {},
   "outputs": [],
   "source": [
    "#Problem 1\n",
    "sentence = \"Create a str variable named sentence and set it to the words in this sentence\"\n",
    "words = sentence.split(\" \")\n",
    "with open(\"words.txt\",'w') as f:\n",
    "    for w in words:\n",
    "        f.write(w+\"\\n\")"
   ]
  },
  {
   "cell_type": "code",
   "execution_count": 6,
   "metadata": {},
   "outputs": [
    {
     "name": "stdout",
     "output_type": "stream",
     "text": [
      "['Create', 'a', 'str', 'variable', 'named', 'sentence', 'and', 'set', 'it', 'to', 'the', 'words', 'in', 'this', 'sentence']\n",
      "True\n"
     ]
    }
   ],
   "source": [
    "#Problem 2\n",
    "mywords = []\n",
    "with open(\"words.txt\",'r') as f:\n",
    "    for w in f:\n",
    "        mywords.append(w.strip())\n",
    "print(mywords)\n",
    "print(words==mywords)"
   ]
  },
  {
   "cell_type": "code",
   "execution_count": 7,
   "metadata": {},
   "outputs": [],
   "source": [
    "#Problem 3\n",
    "mylist = [ ('dog', 'cat', 'mouse'), ('tetra', 'goldfish', 'trout'), ('hyrax','wombat', 'gopher')]\n",
    "with open(\"mylist.csv\",'w') as f:\n",
    "    for tu in mylist:\n",
    "        f.write(\",\".join(tu)+\"\\n\")"
   ]
  },
  {
   "cell_type": "code",
   "execution_count": 10,
   "metadata": {},
   "outputs": [
    {
     "name": "stdout",
     "output_type": "stream",
     "text": [
      "[('dog', 'cat', 'mouse'), ('tetra', 'goldfish', 'trout'), ('hyrax', 'wombat', 'gopher')]\n",
      "True\n"
     ]
    }
   ],
   "source": [
    "#Problem 4\n",
    "newlist = list()\n",
    "with open(\"mylist.csv\",'r') as f:\n",
    "    for line in f:\n",
    "        newlist.append(tuple(line.strip().split(\",\")))\n",
    "print(newlist)\n",
    "print(mylist==newlist)"
   ]
  },
  {
   "cell_type": "code",
   "execution_count": 13,
   "metadata": {},
   "outputs": [
    {
     "name": "stdout",
     "output_type": "stream",
     "text": [
      "{15: 'book', 27: 'pen', 12: 'tablet', 48: 'ink', 44: 'pencil', 30: 'eraser', 72: 'wombat'}\n",
      "dict_keys([15, 27, 12, 48, 44, 30, 72])\n",
      "dict_values(['book', 'pen', 'tablet', 'ink', 'pencil', 'eraser', 'wombat'])\n"
     ]
    }
   ],
   "source": [
    "#Problem 5\n",
    "import pickle\n",
    "data = {15:'book', 27:'pen', 12:'tablet', 48:'ink', 44:'pencil', 30:'eraser',72:'wombat'}\n",
    "print(data)\n",
    "print(data.keys())\n",
    "print(data.values())\n",
    "with open(\"mydata.bin\",'wb') as f:\n",
    "    pickle.dump(data,f)"
   ]
  },
  {
   "cell_type": "code",
   "execution_count": 17,
   "metadata": {},
   "outputs": [
    {
     "name": "stdout",
     "output_type": "stream",
     "text": [
      "{15: 'book', 27: 'pen', 12: 'tablet', 48: 'ink', 44: 'pencil', 30: 'eraser', 72: 'wombat'}\n",
      "True\n",
      "dict_keys([15, 27, 12, 48, 44, 30, 72])\n",
      "dict_values(['book', 'pen', 'tablet', 'ink', 'pencil', 'eraser', 'wombat'])\n"
     ]
    }
   ],
   "source": [
    "#Problem 6\n",
    "with open(\"mydata.bin\",'rb') as f:\n",
    "    newdata = pickle.load(f)\n",
    "print(newdata)\n",
    "print(data==newdata)\n",
    "print(newdata.keys())\n",
    "print(newdata.values())"
   ]
  },
  {
   "cell_type": "code",
   "execution_count": 52,
   "metadata": {},
   "outputs": [
    {
     "name": "stdout",
     "output_type": "stream",
     "text": [
      "Array A:\n",
      "   Array value: [ 4  0 -1  9]\n",
      "   Array shape: (4,)\n",
      "   Array dimension: 1\n",
      "Array B:\n",
      "   Array value: [10  3 -2 -2]\n",
      "   Array shape: (4,)\n",
      "   Array dimension: 1\n",
      "Array C:\n",
      "   Array value: [[2 4]\n",
      " [1 1]]\n",
      "   Array shape: (2, 2)\n",
      "   Array dimension: 2\n",
      "Array D:\n",
      "   Array value: [[ 1 -1]\n",
      " [-1  0]]\n",
      "   Array shape: (2, 2)\n",
      "   Array dimension: 2\n",
      "C's first row:\n",
      "[2 4]\n",
      "D's first Column:\n",
      "[ 1 -1]\n"
     ]
    }
   ],
   "source": [
    "#Problem 7\n",
    "import numpy as np\n",
    "A = np.array([4, 0, -1, 9]) # A\n",
    "B = np.array([10, 3, -2, -2]) # B\n",
    "C = np.array([ [2, 4], [1, 1] ]) # C\n",
    "D = np.array([ [1, -1], [-1, 0] ]) # D\n",
    "names = [\"A\",\"B\",\"C\",\"D\"]\n",
    "for i,v in enumerate([A,B,C,D]):\n",
    "    print(\"Array \"+names[i]+\":\")\n",
    "    print(\"   Array value:\",v)\n",
    "    print(\"   Array shape:\",v.shape)\n",
    "    print(\"   Array dimension:\",v.ndim)\n",
    "    \n",
    "print(\"C's first row:\")\n",
    "print(C[0,:])\n",
    "##print(C[0][:])\n",
    "\n",
    "print(\"D's first Column:\")\n",
    "print(D[:,0])"
   ]
  },
  {
   "cell_type": "code",
   "execution_count": 48,
   "metadata": {},
   "outputs": [
    {
     "name": "stdout",
     "output_type": "stream",
     "text": [
      "a. Sum and different of A and B\n",
      "[14  3 -3  7]\n",
      "[-6 -3  1 11]\n",
      "b. Sum and different of C and D\n",
      "[[3 3]\n",
      " [0 1]]\n",
      "[[1 5]\n",
      " [2 1]]\n",
      "c. Sum of A and C\n",
      "Cannot do sum of A and C because the shape is different.\n",
      "d. multiplication of A and B\n",
      "[ 40   0   2 -18]\n",
      "[ 40   0   2 -18]\n",
      "e. multiplication of C and D\n",
      "[[ 2 -4]\n",
      " [-1  0]]\n",
      "[[ 2 -4]\n",
      " [-1  0]]\n",
      "f. multiplication of C and B\n",
      "Cannot do multiplication of C and B because the shape is different\n"
     ]
    }
   ],
   "source": [
    "#Problem 8\n",
    "print(\"a. Sum and different of A and B\")\n",
    "print(A+B)\n",
    "print(A-B)\n",
    "print(\"b. Sum and different of C and D\")\n",
    "print(C+D)\n",
    "print(C-D)\n",
    "print(\"c. Sum of A and C\")\n",
    "try:\n",
    "    print(A+C)\n",
    "except:\n",
    "    print(\"Cannot do sum of A and C because the shape is different.\")\n",
    "print(\"d. multiplication of A and B\")\n",
    "print(A*B)\n",
    "print(B*A)\n",
    "print(\"e. multiplication of C and D\")\n",
    "print(C*D)\n",
    "print(D*C)\n",
    "print(\"f. multiplication of C and B\")\n",
    "try:\n",
    "    print(C*B)\n",
    "except:\n",
    "    print(\"Cannot do multiplication of C and B because the shape is different\")"
   ]
  }
 ],
 "metadata": {
  "kernelspec": {
   "display_name": "Python 3",
   "language": "python",
   "name": "python3"
  },
  "language_info": {
   "codemirror_mode": {
    "name": "ipython",
    "version": 3
   },
   "file_extension": ".py",
   "mimetype": "text/x-python",
   "name": "python",
   "nbconvert_exporter": "python",
   "pygments_lexer": "ipython3",
   "version": "3.7.2"
  }
 },
 "nbformat": 4,
 "nbformat_minor": 2
}
