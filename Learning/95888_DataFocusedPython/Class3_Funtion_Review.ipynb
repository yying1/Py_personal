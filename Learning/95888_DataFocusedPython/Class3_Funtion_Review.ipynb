{
 "cells": [
  {
   "cell_type": "code",
   "execution_count": null,
   "metadata": {},
   "outputs": [],
   "source": [
    "#2021-11-09"
   ]
  },
  {
   "cell_type": "markdown",
   "metadata": {},
   "source": [
    "# Functions"
   ]
  },
  {
   "cell_type": "code",
   "execution_count": 3,
   "metadata": {},
   "outputs": [
    {
     "name": "stdout",
     "output_type": "stream",
     "text": [
      "wihtout default argument:\n",
      "a:  1\n",
      "b:  2\n",
      "c:  3\n",
      "Total:  6\n",
      "\n",
      "overwrite default argument:\n",
      "a:  1\n",
      "b:  2\n",
      "c:  5\n",
      "Total:  8\n"
     ]
    }
   ],
   "source": [
    "#Function with default arguments and overwrites \n",
    "def fn1(a,b,c = 3):\n",
    "    print(\"a: %2d\"%(a))\n",
    "    print(\"b: %2d\"%(b))\n",
    "    print(\"c: %2d\"%(c))\n",
    "    print(\"Total: %2d\"%(a+b+c))\n",
    "print(\"wihtout default argument: partial specified must start from the right\")\n",
    "fn1(1,2)\n",
    "print(\"\\noverwrite default argument:\")\n",
    "fn1(1,2,5)"
   ]
  },
  {
   "cell_type": "code",
   "execution_count": 6,
   "metadata": {},
   "outputs": [
    {
     "name": "stdout",
     "output_type": "stream",
     "text": [
      "variable arguments:partial specified must start from the right\n",
      "\n",
      "as a list:\n",
      "i:  1\n",
      "i:  2\n",
      "i:  5\n"
     ]
    }
   ],
   "source": [
    "#Function with variable arguments\n",
    "def fn2(a,b,*args):\n",
    "    for i in args:\n",
    "        print(\"i: %2d\"%(i))\n",
    "print(\"variable arguments:partial specified must start from the right\")\n",
    "fn2(1,2)\n",
    "print(\"\\nas a list:\")\n",
    "fn2(\"a\",\"b\",*[1,2,5])"
   ]
  },
  {
   "cell_type": "code",
   "execution_count": 7,
   "metadata": {},
   "outputs": [
    {
     "name": "stdout",
     "output_type": "stream",
     "text": [
      "assign to keyword arguments\n",
      "Name: Pencil Cost:    10\n"
     ]
    }
   ],
   "source": [
    "#Function using keyword arguments\n",
    "def fn3(name,cost):\n",
    "    print(\"Name: %2s Cost: %5d\"%(name,cost))\n",
    "print(\"assign to keyword arguments\")\n",
    "fn3(name = 'Pencil',cost = 10)"
   ]
  },
  {
   "cell_type": "code",
   "execution_count": 8,
   "metadata": {},
   "outputs": [
    {
     "name": "stdout",
     "output_type": "stream",
     "text": [
      "12 7 5\n"
     ]
    }
   ],
   "source": [
    "#Function scoping is limited to LEGB: local, enclosing, global, buit-in\n",
    "#Use global keyword\n",
    "x =10\n",
    "y,z = 7,5\n",
    "def fn3():\n",
    "    global x\n",
    "    x = y+z\n",
    "fn3()\n",
    "print(x,y,z)"
   ]
  },
  {
   "cell_type": "code",
   "execution_count": 17,
   "metadata": {},
   "outputs": [
    {
     "name": "stdout",
     "output_type": "stream",
     "text": [
      "a,b,c,d,e,f,g,h,i,j,k,l,m,n,o,p,q,r,s,t,u,v,w,x,y,z,"
     ]
    }
   ],
   "source": [
    "#Generator Function that return different thing on each call, using yield keyword\n",
    "def lowercaseletters():\n",
    "    letter = ord('a')\n",
    "    while letter <= ord('z'):\n",
    "        yield chr(letter)\n",
    "        letter+=1\n",
    "        \n",
    "for item in lowercaseletters():\n",
    "    print(item, end=\",\")"
   ]
  },
  {
   "cell_type": "code",
   "execution_count": 18,
   "metadata": {},
   "outputs": [
    {
     "data": {
      "text/plain": [
       "20"
      ]
     },
     "execution_count": 18,
     "metadata": {},
     "output_type": "execute_result"
    }
   ],
   "source": [
    "#Use function as an argument\n",
    "def fn4(a):\n",
    "    return a*2\n",
    "def fn5(function,b):\n",
    "    return function(b)\n",
    "fn5(fn4,10)"
   ]
  },
  {
   "cell_type": "code",
   "execution_count": 19,
   "metadata": {},
   "outputs": [
    {
     "data": {
      "text/plain": [
       "11"
      ]
     },
     "execution_count": 19,
     "metadata": {},
     "output_type": "execute_result"
    }
   ],
   "source": [
    "#Function closure\n",
    "def fn6(a):\n",
    "    def fn7(b): return a+b\n",
    "    return fn7\n",
    "function = fn6(5) # return a function 7 with a set as 5\n",
    "function(6)"
   ]
  },
  {
   "cell_type": "code",
   "execution_count": 20,
   "metadata": {},
   "outputs": [
    {
     "data": {
      "text/plain": [
       "25"
      ]
     },
     "execution_count": 20,
     "metadata": {},
     "output_type": "execute_result"
    }
   ],
   "source": [
    "#lambda expression\n",
    "(lambda i:i**2)(5) # like writing a function"
   ]
  },
  {
   "cell_type": "code",
   "execution_count": 24,
   "metadata": {},
   "outputs": [
    {
     "name": "stdout",
     "output_type": "stream",
     "text": [
      "0 4 16 36 64\n"
     ]
    }
   ],
   "source": [
    "#Using map to applies function to element in list\n",
    "a = [i for i in range(10) if i%2 ==0]\n",
    "j = map(lambda i:i**2,a)\n",
    "print(*j)"
   ]
  },
  {
   "cell_type": "code",
   "execution_count": 27,
   "metadata": {},
   "outputs": [
    {
     "name": "stdout",
     "output_type": "stream",
     "text": [
      "10\n",
      "64\n"
     ]
    }
   ],
   "source": [
    "#Reductions: aggregation function\n",
    "from functools import reduce\n",
    "findsum = lambda a,b:a+b\n",
    "print(reduce(findsum,[1,2,3,4])) #(1+2)+3)+4\n",
    "\n",
    "c = reduce(lambda a,b:a if a>b else b, \\\n",
    "list(map(lambda i:i**2, \\\n",
    "(j for j in range(10) if j % 2 == 0))))\n",
    "print(c) #"
   ]
  },
  {
   "cell_type": "markdown",
   "metadata": {},
   "source": [
    "#### Creating Script with functions\n",
    "1. Put all code in functions\n",
    "2. add def main() function at the end to call on all functions\n",
    "3. Add the following code at the end of the script:"
   ]
  },
  {
   "cell_type": "raw",
   "metadata": {},
   "source": [
    "if __name__ == “__main__”:                                  # if this module is imported, __name__ will be simplePhysics2, and\n",
    "\n",
    "main( )                                                                         # the main function will *not* be executed"
   ]
  },
  {
   "cell_type": "raw",
   "metadata": {},
   "source": [
    "import 1.py\n",
    "1.function1()\n",
    "from 1.py import function1\n",
    "function1()"
   ]
  },
  {
   "cell_type": "markdown",
   "metadata": {},
   "source": [
    "# Exception"
   ]
  },
  {
   "cell_type": "code",
   "execution_count": 30,
   "metadata": {},
   "outputs": [
    {
     "name": "stdout",
     "output_type": "stream",
     "text": [
      "Enter the numerator: 1\n",
      "Enter the denominator: 2\n",
      "value = 0.500000\n"
     ]
    }
   ],
   "source": [
    "# try except else finally\n",
    "numer = int(input('Enter the numerator: '))\n",
    "denom = int(input('Enter the denominator: '))\n",
    "try:\n",
    "    value = numer/denom\n",
    "except ZeroDivisionError:\n",
    "    print('Denominator cannot be zero')\n",
    "else:\n",
    "    print('value = %f' % (value))\n",
    "finally:\n",
    "    print(\"this will execute regardless\")"
   ]
  },
  {
   "cell_type": "code",
   "execution_count": null,
   "metadata": {},
   "outputs": [],
   "source": [
    "#ValueError: input wrong type\n",
    "#ZeroDivisionError: divided by zero\n",
    "#TypeError: mis incompatible types\n",
    "#FileNotFoundError:"
   ]
  },
  {
   "cell_type": "raw",
   "metadata": {},
   "source": [
    "#multiple excepts\n",
    "try:\n",
    "some_code\n",
    "except TypeError:\n",
    "print('Type exception thrown')\n",
    "except ValueError\n",
    "print('Value exception thrown')\n",
    "except:\n",
    "print('Some exception thrown')\n",
    "\n",
    "#multiple exceptions in one except\n",
    "except (TypeError, ValueError):\n",
    "    print('One of these thrown')"
   ]
  },
  {
   "cell_type": "raw",
   "metadata": {},
   "source": [
    "raise Exception(\"This is a exception\")"
   ]
  }
 ],
 "metadata": {
  "kernelspec": {
   "display_name": "Python 3",
   "language": "python",
   "name": "python3"
  },
  "language_info": {
   "codemirror_mode": {
    "name": "ipython",
    "version": 3
   },
   "file_extension": ".py",
   "mimetype": "text/x-python",
   "name": "python",
   "nbconvert_exporter": "python",
   "pygments_lexer": "ipython3",
   "version": "3.7.2"
  }
 },
 "nbformat": 4,
 "nbformat_minor": 2
}
