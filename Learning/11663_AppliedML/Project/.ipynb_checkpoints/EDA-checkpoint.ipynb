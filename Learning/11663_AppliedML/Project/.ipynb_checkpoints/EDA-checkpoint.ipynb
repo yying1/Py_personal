{
 "cells": [
  {
   "cell_type": "code",
   "execution_count": 1,
   "id": "a27c8551",
   "metadata": {},
   "outputs": [],
   "source": [
    "import pandas as pd\n",
    "import numpy as np"
   ]
  },
  {
   "cell_type": "code",
   "execution_count": 2,
   "id": "d35b9a8e",
   "metadata": {},
   "outputs": [],
   "source": [
    "# games_data stores game information\n",
    "# 10112 rows × 18 columns\n",
    "# Columns: 'id_odsp', 'link_odsp', 'adv_stats', 'date', 'league', 'season', 'country', 'ht', 'at', 'fthg', 'ftag', 'odd_h', 'odd_d', 'odd_a', 'odd_over', 'odd_under', 'odd_bts', 'odd_bts_n'\n",
    "games_data = pd.read_csv(\"ginf.csv\")"
   ]
  },
  {
   "cell_type": "markdown",
   "id": "776cf053",
   "metadata": {},
   "source": [
    "### Games Data\n",
    "1. id_odsp: Primary key\n",
    "2. adv_stats: boolean if the game has detailed event data\n",
    "3. fthg: full time home goals\n",
    "4. ftag: full time away goals\n",
    "5. odd_h, odd_d, odd_a: highest odds for home win, draw, away win\n",
    "\n",
    "90% missing for columns: odd_over, odd_under, odd_bts, odd_bts_n"
   ]
  },
  {
   "cell_type": "code",
   "execution_count": 3,
   "id": "5ee74291",
   "metadata": {},
   "outputs": [],
   "source": [
    "# game_events stores events data\n",
    "# 941009 rows × 22 columns\n",
    "game_events = pd.read_csv(\"events.csv\")"
   ]
  },
  {
   "cell_type": "markdown",
   "id": "460799a8",
   "metadata": {},
   "source": [
    "### Events Data\n",
    "1. id_odsp: \n",
    "2. id_event: primary key\n",
    "3. sort_order: chronological sequence of events in a game\n",
    "4. time: minute of the game\n",
    "5. text: text commentary\n",
    "6. event_type: primary event. 11 unique events (1-Attempt(shot), 2-Corner, 3-Foul, 4-Yellow Card, 5-Second yellow card, 6-(Straight) red card, 7-Substitution, 8-Free kick won, 9-Offside, 10-Hand Ball, 11-Penalty conceded)\n",
    "7. event_type2: secondary event. 4 unique events (12 - Key Pass, 13 - Failed through ball, 14-Sending off, 15-Own goal)\n",
    "8. side: 1-Home, 2-Away\n",
    "9. event_team: team that produced the event. In case of Own goals, event team is the team that beneficiated from the own goal\n",
    "10. opponent: team that the event happened against\n",
    "11. player: name of the player involved in main event (converted to lowercase and special chars were removed)\n",
    "12. player2: name of player involved in secondary event\n",
    "13. player_in: player that came in (only applies to substitutions)\n",
    "14. player_out: player substituted (only applies to substitutions)\n",
    "15. shot_place: placement of the shot (13 possible placement locations, available in the dictionary, only applies to shots)\n",
    "16. shot_outcome: 4 possible outcomes (1-On target, 2-Off target, 3-Blocked, 4-Hit the post)\n",
    "17. is_goal: binary variable if the shot resulted in a goal (own goals included)\n",
    "18. location: location on the pitch where the event happened (19 possible locations, available in the dictionary)\n",
    "19. bodypart: (1- right foot, 2-left foot, 3-head)\n",
    "20. assist_method: in case of an assisted shot, 5 possible assist methods (details in the dictionary)\n",
    "21. situation: 4 types: 1-Open Play, 2-Set piece (excluding Direct Free kicks), 3-Corner, 4-Free kick\n",
    "22. fast_break: binary"
   ]
  },
  {
   "cell_type": "code",
   "execution_count": null,
   "id": "38488d73",
   "metadata": {},
   "outputs": [],
   "source": [
    "a = game_events.groupby(['id_odsp'])['sort_order'].max().reset_index()\n",
    "a['sort_order'].describe()\n",
    "#decided to use 100 events for this project since average event count as 104 and 75% of the games have less than 115 events "
   ]
  },
  {
   "cell_type": "code",
   "execution_count": 4,
   "id": "22a291a3",
   "metadata": {},
   "outputs": [],
   "source": [
    "#add class column to games_data based on scores\n",
    "#shuffle the data before spliting into different sets\n",
    "games_data = games_data[games_data['adv_stats'] == True]\n",
    "games_data_sf = games_data.sample(frac=1)\n",
    "games_data_sf.drop(games_data_sf.columns[-4:], axis=1, inplace=True)\n",
    "def f(x):\n",
    "    if x['fthg'] > x['ftag']: return 1\n",
    "    elif x['fthg'] < x['ftag']: return -1\n",
    "    else: return 0\n",
    "games_data_sf['class'] = games_data_sf.apply(f, axis=1)\n",
    "\n",
    "# 9182 rows left after basic filtering\n",
    "# 1836 for dev, 6427 for cross validation, 919 for final test"
   ]
  },
  {
   "cell_type": "code",
   "execution_count": 5,
   "id": "972a2279",
   "metadata": {},
   "outputs": [],
   "source": [
    "# Target: Game data - games_data_sf\n",
    "#Convert nominal column into columns of binary variables\n",
    "#Columns: league, country\n",
    "#Referenced from https://stackoverflow.com/questions/42151359/pandas-convert-text-to-binary-columns\n",
    "games_data_sf = pd.concat([games_data_sf, pd.get_dummies(games_data_sf.league).rename(columns = \"{}_league_binary\".format)], axis = 1)\n",
    "games_data_sf = pd.concat([games_data_sf, pd.get_dummies(games_data_sf.country).rename(columns = \"{}_country_binary\".format)], axis = 1)"
   ]
  },
  {
   "cell_type": "code",
   "execution_count": 6,
   "id": "63fe08dd",
   "metadata": {},
   "outputs": [],
   "source": [
    "# Target: Game data - games_data_sf\n",
    "# Drop link_odsp, date, adv_stats, league, ht, at, country columns\n",
    "games_data_sf.drop([\"link_odsp\",\"date\",\"adv_stats\",\"league\",\"ht\",\"at\",\"country\"], axis=1, inplace=True)"
   ]
  },
  {
   "cell_type": "code",
   "execution_count": 7,
   "id": "763f1cb9",
   "metadata": {},
   "outputs": [],
   "source": [
    "# Target: Game data - dev_data\n",
    "# getting dev set data \n",
    "dev_data = games_data_sf[:1836].copy()\n",
    "dev_data.set_index('id_odsp',inplace = True)"
   ]
  },
  {
   "cell_type": "code",
   "execution_count": 8,
   "id": "71473bfb",
   "metadata": {},
   "outputs": [],
   "source": [
    "# Target: Event data - game_events_m\n",
    "# Replace column value with dictionary, reference: https://stackoverflow.com/questions/20250771/remap-values-in-pandas-column-with-a-dict-preserve-nans \n",
    "# Convert event_type, event_type2, side, \n",
    "game_events_m = game_events.copy()\n",
    "event_type1 = {1:\"Attempt(shot)\", 2:\"Corner\", 3:\"Foul\", 4:\"YellowCard\", 5:\"SecondYellowCard\", 6:\"StraightRedCard\", 7:\"Substitution\", 8:\"FreeKickWon\", 9:\"Offside\", 10:\"HandBall\", 11:\"PenaltyConceded\"}\n",
    "event_type2 = {12:\"KeyPass\", 13:\"FailedThroughBall\", 14:\"SendingOff\", 15:\"OwnGoal\"}\n",
    "shot_outcome = {1:\"OnTarget\", 2:\"OffTarget\", 3:\"Blocked\", 4:\"HitThePost\"}\n",
    "assist_method = {0:\"None\",1:\"Pass\",2:\"Cross\", 3: \"HeadedPass\", 4: \"ThroughBall\"}\n",
    "situation = {1:\"OpenPlay\",2:\"SetPiece\",3:\"Corner\",4:\"FreeKick\"}\n",
    "game_events_m.replace({\"event_type\": event_type1,\"event_type2\":event_type2,\"side\":{2:0,1:1}, \"shot_outcome\": shot_outcome,\"assist_method\":assist_method, \"situation\":situation}, inplace = True)\n",
    "game_events_m.rename(columns={\"side\": \"home_event\"}, inplace = True)"
   ]
  },
  {
   "cell_type": "code",
   "execution_count": 9,
   "id": "e8e34b00",
   "metadata": {},
   "outputs": [],
   "source": [
    "# Target: Event data - game_events_m\n",
    "#Convert nominal column into columns of binary variables\n",
    "#Columns: league, country\n",
    "game_events_m = pd.concat([game_events_m, pd.get_dummies(game_events_m.event_type).rename(columns = \"{}_EventType_binary\".format)], axis = 1)\n",
    "game_events_m = pd.concat([game_events_m, pd.get_dummies(game_events_m.event_type2).rename(columns = \"{}_EventType2_binary\".format)], axis = 1)\n",
    "game_events_m = pd.concat([game_events_m, pd.get_dummies(game_events_m.shot_outcome).rename(columns = \"{}_ShotOutcome_binary\".format)], axis = 1)\n",
    "game_events_m = pd.concat([game_events_m, pd.get_dummies(game_events_m.assist_method).rename(columns = \"{}_AssistMethod_binary\".format)], axis = 1)\n",
    "game_events_m = pd.concat([game_events_m, pd.get_dummies(game_events_m.situation).rename(columns = \"{}_Situation_binary\".format)], axis = 1)"
   ]
  },
  {
   "cell_type": "code",
   "execution_count": 10,
   "id": "ff376647",
   "metadata": {},
   "outputs": [],
   "source": [
    "# Drop columns: \"text\",\"event_team\",\"opponent\",\"is_goal\",\"player_in\",\"player_out\", \"shot_place\",\"location\",\"bodypart\", \"player\",\"player2\"\n",
    "game_events_m.drop([\"text\",\"event_team\",\"opponent\",\"is_goal\",\"player_in\",\"player_out\", \"shot_place\",\"location\",\"bodypart\", \"player\",\"player2\",\"event_type\",\"event_type2\",\"shot_outcome\",\"assist_method\",\"situation\"], axis=1, inplace=True)"
   ]
  },
  {
   "cell_type": "code",
   "execution_count": 22,
   "id": "7ef209b2",
   "metadata": {},
   "outputs": [],
   "source": [
    "# Target: Event data - game_events_m\n",
    "#Convert nominal column into columns of binary variables\n",
    "#Columns: league, country\n",
    "event_columns = game_events_m.columns.tolist()\n",
    "event_columns.remove('id_odsp')\n",
    "event_columns.remove('id_event')\n",
    "event_columns.remove('sort_order')"
   ]
  },
  {
   "cell_type": "code",
   "execution_count": 19,
   "id": "68637aa3",
   "metadata": {},
   "outputs": [],
   "source": [
    "# Target: Dev Event data - dev_event_dt\n",
    "# Get game ids from dev_data, keep only first 100 events in dev event data, keep only dev games ID in dev_event_dt\n",
    "dev_games = dev_data.index.tolist()\n",
    "dev_event_dt = game_events_m[game_events_m['sort_order'] < 101]\n",
    "# dev_event_dt = dev_event_dt[dev_event_dt.columns.intersection(event_columns)]\n",
    "dev_event_dt=dev_event_dt[dev_event_dt['id_odsp'].isin(dev_games)]"
   ]
  },
  {
   "cell_type": "code",
   "execution_count": 23,
   "id": "772f8f80",
   "metadata": {
    "scrolled": true
   },
   "outputs": [
    {
     "name": "stderr",
     "output_type": "stream",
     "text": [
      "C:\\Users\\yingy\\AppData\\Local\\Temp/ipykernel_17120/470233333.py:5: PerformanceWarning: DataFrame is highly fragmented.  This is usually the result of calling `frame.insert` many times, which has poor performance.  Consider joining all columns at once using pd.concat(axis=1) instead.  To get a de-fragmented frame, use `newframe = frame.copy()`\n",
      "  dev_data[str(i)+\"-\"+column] = \"\"\n"
     ]
    }
   ],
   "source": [
    "# Target: Dev Event data - dev_event_dt\n",
    "# Get game ids from dev_data, keep only first 100 events in dev event data, keep only dev games ID in dev_event_dt\n",
    "for i in range(1,101):\n",
    "    for column in event_columns:\n",
    "        dev_data[str(i)+\"-\"+column] = \"\"\n",
    "for index, row in dev_event_dt.iterrows(): \n",
    "    order = str(row['sort_order'])\n",
    "    event_id = row['id_odsp']\n",
    "    for column1 in event_columns:\n",
    "        column_name = order+\"-\"+column1\n",
    "        if str(row[column1]) != \"\":\n",
    "            dev_data.at[event_id, column_name] = row[column1]"
   ]
  },
  {
   "cell_type": "code",
   "execution_count": 24,
   "id": "6b543010",
   "metadata": {},
   "outputs": [
    {
     "data": {
      "text/plain": [
       "Index(['season', 'fthg', 'ftag', 'odd_h', 'odd_d', 'odd_a', 'class',\n",
       "       'D1_league_binary', 'E0_league_binary', 'F1_league_binary',\n",
       "       ...\n",
       "       '100-OnTarget_ShotOutcome_binary', '100-Cross_AssistMethod_binary',\n",
       "       '100-HeadedPass_AssistMethod_binary', '100-None_AssistMethod_binary',\n",
       "       '100-Pass_AssistMethod_binary', '100-ThroughBall_AssistMethod_binary',\n",
       "       '100-Corner_Situation_binary', '100-FreeKick_Situation_binary',\n",
       "       '100-OpenPlay_Situation_binary', '100-SetPiece_Situation_binary'],\n",
       "      dtype='object', length=3117)"
      ]
     },
     "execution_count": 24,
     "metadata": {},
     "output_type": "execute_result"
    }
   ],
   "source": [
    "dev_data.columns"
   ]
  },
  {
   "cell_type": "code",
   "execution_count": null,
   "id": "ac06ff71",
   "metadata": {},
   "outputs": [],
   "source": [
    "# dev_data = dev_data[dev_data.columns.drop(list(dev_data.filter(regex='id')))]"
   ]
  },
  {
   "cell_type": "code",
   "execution_count": 25,
   "id": "6ca6baac",
   "metadata": {},
   "outputs": [],
   "source": [
    "dev_data.to_csv(\"dev_data_binarylist.csv\", encoding = 'utf-8')"
   ]
  },
  {
   "cell_type": "code",
   "execution_count": null,
   "id": "2804e48e",
   "metadata": {},
   "outputs": [],
   "source": [
    "len(dev_data.columns.tolist())"
   ]
  }
 ],
 "metadata": {
  "kernelspec": {
   "display_name": "Python 3 (ipykernel)",
   "language": "python",
   "name": "python3"
  },
  "language_info": {
   "codemirror_mode": {
    "name": "ipython",
    "version": 3
   },
   "file_extension": ".py",
   "mimetype": "text/x-python",
   "name": "python",
   "nbconvert_exporter": "python",
   "pygments_lexer": "ipython3",
   "version": "3.10.0"
  }
 },
 "nbformat": 4,
 "nbformat_minor": 5
}
