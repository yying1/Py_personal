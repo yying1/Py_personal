{
 "cells": [
  {
   "cell_type": "code",
   "execution_count": 1,
   "id": "bc542564",
   "metadata": {},
   "outputs": [],
   "source": [
    "import pandas as pd\n",
    "import numpy as np"
   ]
  },
  {
   "cell_type": "code",
   "execution_count": null,
   "id": "2c5c4326",
   "metadata": {},
   "outputs": [],
   "source": [
    "dev_set = pd.read_csv(\"dev_data.csv\", encoding = \"utf-8\")\n",
    "# dev_set_binary = pd.read_csv(\"dev_data_binarylist.csv\", encoding = \"utf-8\")"
   ]
  },
  {
   "cell_type": "code",
   "execution_count": null,
   "id": "20cd9bf2",
   "metadata": {},
   "outputs": [],
   "source": [
    "column_names = list(dev_set.columns)"
   ]
  },
  {
   "cell_type": "code",
   "execution_count": null,
   "id": "1a3e33f1",
   "metadata": {},
   "outputs": [],
   "source": [
    "## Convert nominal column ID to nominal values\n",
    "dev_set_convert = dev_set.copy()\n",
    "event_type1 = {1:\"Attempt(shot)\", 2:\"Corner\", 3:\"Foul\", 4:\"YellowCard\", 5:\"SecondYellowCard\", 6:\"StraightRedCard\", 7:\"Substitution\", 8:\"FreeKickWon\", 9:\"Offside\", 10:\"HandBall\", 11:\"PenaltyConceded\"}\n",
    "event_type2 = {12:\"KeyPass\", 13:\"FailedThroughBall\", 14:\"SendingOff\", 15:\"OwnGoal\"}\n",
    "shot_outcome = {1:\"OnTarget\", 2:\"OffTarget\", 3:\"Blocked\", 4:\"HitThePost\"}\n",
    "location = {2:\"DefensiveHalf\",1:\"OutsideBox\",6:\"OutsideBox\",15:\"OutsideBox\",16:\"OutsideBox\",17:\"OutsideBox\",18:\"OutsideBox\",\n",
    "            19:np.nan,4:\"Wing\",5:\"Wing\",7:\"Wing\",8:\"Wing\",3:\"Box\",9:\"Box\",11:\"Box\",14:\"Box\",10:\"6YBox\",12:\"6YBox\",13:\"6YBox\"}\n",
    "bodypart = {1:\"RF\",2:\"LF\",3:\"Head\"}\n",
    "assist_method = {0:\"None\",1:\"Pass\",2:\"Cross\", 3: \"HeadedPass\", 4: \"ThroughBall\"}\n",
    "situation = {1:\"OpenPlay\",2:\"SetPiece\",3:\"Corner\",4:\"FreeKick\"}"
   ]
  },
  {
   "cell_type": "code",
   "execution_count": null,
   "id": "8680fadb",
   "metadata": {},
   "outputs": [],
   "source": [
    "for n in column_names:\n",
    "    if \"event_type\" in n:\n",
    "        dev_set_convert.replace({n: event_type1},inplace=True)\n",
    "    if \"event_type2\" in n:\n",
    "        dev_set_convert.replace({n: event_type2},inplace=True)\n",
    "    if \"shot_place\" in n:\n",
    "        dev_set_convert.drop(columns=n,inplace=True)\n",
    "    if \"shot_outcome\" in n:\n",
    "        dev_set_convert.replace({n: shot_outcome},inplace=True)\n",
    "    if \"location\" in n:\n",
    "        dev_set_convert.replace({n: location},inplace=True)\n",
    "    if \"bodypart\" in n:\n",
    "        dev_set_convert.replace({n: bodypart},inplace=True)\n",
    "    if \"assist_method\" in n:\n",
    "        dev_set_convert.replace({n: assist_method},inplace=True)\n",
    "    if \"situation\" in n:\n",
    "        dev_set_convert.replace({n: situation},inplace=True)"
   ]
  },
  {
   "cell_type": "code",
   "execution_count": null,
   "id": "7ea93077",
   "metadata": {},
   "outputs": [],
   "source": [
    "dev_set_convert.replace({\"class\": {1:\"Win\",0:\"Draw\",-1:\"Lose\"}},inplace=True)"
   ]
  },
  {
   "cell_type": "code",
   "execution_count": null,
   "id": "ff8c9f71",
   "metadata": {},
   "outputs": [],
   "source": [
    "dev_set_convert.to_csv(\"dev_data_Assignment5.csv\", encoding = 'utf-8',index=False)"
   ]
  },
  {
   "cell_type": "code",
   "execution_count": 3,
   "id": "218dbc11",
   "metadata": {},
   "outputs": [],
   "source": [
    "dev_nominal = pd.read_csv(\"dev_data_Assignment5.csv\", encoding = 'utf-8')"
   ]
  },
  {
   "cell_type": "code",
   "execution_count": 4,
   "id": "45ba35fb",
   "metadata": {},
   "outputs": [
    {
     "data": {
      "text/plain": [
       "Index(['id_odsp', 'link_odsp', 'adv_stats', 'date', 'league', 'season',\n",
       "       'country', 'ht', 'at', 'fthg',\n",
       "       ...\n",
       "       '100-sort_order', '100-time', '100-event_type', '100-event_type2',\n",
       "       '100-shot_outcome', '100-location', '100-bodypart', '100-assist_method',\n",
       "       '100-situation', '100-fast_break'],\n",
       "      dtype='object', length=1015)"
      ]
     },
     "execution_count": 4,
     "metadata": {},
     "output_type": "execute_result"
    }
   ],
   "source": [
    "dev_nominal.columns"
   ]
  },
  {
   "cell_type": "code",
   "execution_count": 7,
   "id": "73442127",
   "metadata": {},
   "outputs": [
    {
     "data": {
      "text/plain": [
       "1-event_type\n",
       "Attempt(shot)      [KeyPass, nan, OwnGoal]\n",
       "Corner                               [nan]\n",
       "Foul                                 [nan]\n",
       "FreeKickWon                          [nan]\n",
       "HandBall                             [nan]\n",
       "Offside                [FailedThroughBall]\n",
       "PenaltyConceded                      [nan]\n",
       "Substitution                         [nan]\n",
       "YellowCard                           [nan]\n",
       "Name: 1-event_type2, dtype: object"
      ]
     },
     "execution_count": 7,
     "metadata": {},
     "output_type": "execute_result"
    }
   ],
   "source": [
    "dev_nominal.groupby(['1-event_type'])['1-event_type2'].unique()"
   ]
  },
  {
   "cell_type": "code",
   "execution_count": 8,
   "id": "fbfc2e92",
   "metadata": {},
   "outputs": [
    {
     "data": {
      "text/plain": [
       "1-event_type\n",
       "Attempt(shot)      [OffTarget, OnTarget, Blocked, HitThePost, nan]\n",
       "Corner                                                       [nan]\n",
       "Foul                                                         [nan]\n",
       "FreeKickWon                                                  [nan]\n",
       "HandBall                                                     [nan]\n",
       "Offside                                                      [nan]\n",
       "PenaltyConceded                                              [nan]\n",
       "Substitution                                                 [nan]\n",
       "YellowCard                                                   [nan]\n",
       "Name: 1-shot_outcome, dtype: object"
      ]
     },
     "execution_count": 8,
     "metadata": {},
     "output_type": "execute_result"
    }
   ],
   "source": [
    "dev_nominal.groupby(['1-event_type'])['1-shot_outcome'].unique()"
   ]
  }
 ],
 "metadata": {
  "kernelspec": {
   "display_name": "Python 3 (ipykernel)",
   "language": "python",
   "name": "python3"
  },
  "language_info": {
   "codemirror_mode": {
    "name": "ipython",
    "version": 3
   },
   "file_extension": ".py",
   "mimetype": "text/x-python",
   "name": "python",
   "nbconvert_exporter": "python",
   "pygments_lexer": "ipython3",
   "version": "3.10.0"
  }
 },
 "nbformat": 4,
 "nbformat_minor": 5
}
