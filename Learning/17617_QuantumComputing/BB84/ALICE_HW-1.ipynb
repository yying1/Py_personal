{
 "cells": [
  {
   "cell_type": "code",
   "execution_count": 1,
   "id": "bd908402-6fcb-48a9-bd7b-f8757df93c41",
   "metadata": {},
   "outputs": [],
   "source": [
    "import numpy as np\n",
    "\n",
    "# Importing standard Qiskit libraries\n",
    "from qiskit import QuantumCircuit, transpile, Aer, IBMQ, assemble\n",
    "from qiskit.tools.jupyter import *\n",
    "from qiskit.visualization import *\n",
    "from ibm_quantum_widgets import *\n",
    "from qiskit.providers.aer import QasmSimulator\n",
    "import json, pickle\n",
    "\n",
    "# Loading your IBM Quantum account(s)\n",
    "API_KEY = \"\"\n",
    "IBMQ.save_account(API_KEY, overwrite=True)\n",
    "provider = IBMQ.load_account()"
   ]
  },
  {
   "cell_type": "markdown",
   "id": "ca3fdc63-aaef-4e65-a8c2-012175b370b8",
   "metadata": {},
   "source": [
    "# 1. You will need several helper functions\n",
    "    1. toBinary(string) - Takes in a python string, converts input into a binary string, returns an 8bit ASCII string\n",
    "    2. toString(bin_string) - Takes in a python string, converts binary string to letters, returns string\n",
    "    3. makeStates(int) - Takes in an integer, uses integer to choose 1 of 4 quantum circuits, returns a quantum circuit\n",
    "    4. encrypt(msg, key) - takes in a msg and key, both binary strings, returns the XOR of the two strings. len(return_string) == len(msg)"
   ]
  },
  {
   "cell_type": "code",
   "execution_count": 17,
   "id": "14ddb6de",
   "metadata": {},
   "outputs": [],
   "source": [
    "# referenced from https://stackoverflow.com/questions/56093297/how-to-convert-a-string-of-characters-to-its-8-bit-ascii-form-in-python\n",
    "def toBinary(x):\n",
    "    return ''.join(bin(ord(c)) for c in x).replace('b','')"
   ]
  },
  {
   "cell_type": "code",
   "execution_count": 37,
   "id": "d46add2d",
   "metadata": {},
   "outputs": [],
   "source": [
    "def encrypt(msg,key):\n",
    "    key = \"\".join(map(str, key)) \n",
    "    key = (key * int(len(msg)/len(key) + 1))[0:len(msg)]\n",
    "    x=int(key,2) ^ int(msg,2)\n",
    "    result = '{0:0{1}b}'.format(y,len(msg))\n",
    "    return result"
   ]
  },
  {
   "cell_type": "code",
   "execution_count": 2,
   "id": "68c12502",
   "metadata": {},
   "outputs": [],
   "source": [
    "def makeStates(num):\n",
    "    qc = QuantumCircuit(1,1)\n",
    "    qc.reset(0)\n",
    "    if num == 1:\n",
    "        pass\n",
    "    elif num == 2:\n",
    "        qc.rx(180, 0)\n",
    "    elif num == 3:\n",
    "        qc.h(0)\n",
    "    else:\n",
    "        qc.h(0)\n",
    "        qc.z(0)\n",
    "    return qc"
   ]
  },
  {
   "cell_type": "markdown",
   "id": "99e9104a-8e82-4f66-8cd5-960e0d0f537e",
   "metadata": {},
   "source": [
    "# 2. ALICE Prepares Quantum States\n",
    "### Prepare 100 Quantum Circuits in an array. \n",
    "### Each circuit will be a circuits that prepares a single qubit in one of the following states: [|0>, |1>, |+>, |->]\n",
    "### DO NOT have a measurement gate in any of your circuits."
   ]
  },
  {
   "cell_type": "code",
   "execution_count": 3,
   "id": "45d5b02c",
   "metadata": {},
   "outputs": [],
   "source": [
    "import random\n",
    "dict_basis = {1:0,2:0,3:1,4:1}\n",
    "dict_value = {1:0,2:1,3:1,4:0}\n",
    "c_array = []\n",
    "basis_array = []\n",
    "value_array = []\n",
    "for i in range(100):\n",
    "    random_state = random.randint(1,4)\n",
    "    qc = makeStates(random_state)\n",
    "    c_array.append(qc)\n",
    "    basis_array.append(dict_basis[random_state])\n",
    "    value_array.append(dict_value[random_state])"
   ]
  },
  {
   "cell_type": "markdown",
   "id": "0d015c9f-d06a-4cad-8723-be87a3dc2976",
   "metadata": {},
   "source": [
    "# 3. <font color='blue'>SEND</font> states to BOB\n",
    "### Save your states to an \"Alice_states.qpy\" file.\n",
    "### Be sure to use IBM's QPY serialization"
   ]
  },
  {
   "cell_type": "code",
   "execution_count": 4,
   "id": "3d90d8e0",
   "metadata": {},
   "outputs": [],
   "source": [
    "from qiskit import qpy\n",
    "with open('Alice_states.qpy', 'wb') as f:\n",
    "    qpy.dump(c_array,f)"
   ]
  },
  {
   "cell_type": "markdown",
   "id": "a002ba4e-495d-4e53-ab32-b923f0dd5383",
   "metadata": {},
   "source": [
    "# 4. <font color='red'>WAIT</font> for BOB's list of Basis\n",
    "### BOB will send you a list corresponding to the sequence in which he chose his basis\n",
    "### Let 0 represent (|0>,|1>) and 1 represent (|+>, |->)"
   ]
  },
  {
   "cell_type": "code",
   "execution_count": 5,
   "id": "e6aa0124",
   "metadata": {},
   "outputs": [],
   "source": [
    "with open('BOBs_basis.pickle', 'rb') as fd:\n",
    "    Bob_basis = pickle.load(fd)"
   ]
  },
  {
   "cell_type": "markdown",
   "id": "b4729b63-fe17-4bff-8ad8-97d764dc5efa",
   "metadata": {},
   "source": [
    "# 5. Compare BOB's list of Basis to your list of Basis\n",
    "### Create a list of matching and non-matching basis. Represent matched basis with a 1 and mis-matched with a 0\n"
   ]
  },
  {
   "cell_type": "code",
   "execution_count": 6,
   "id": "e3550e9a",
   "metadata": {},
   "outputs": [],
   "source": [
    "match_result = []\n",
    "for i in range(len(Bob_basis)):\n",
    "    if basis_array[i] == Bob_basis[i]:\n",
    "        match_result.append(1)\n",
    "    else:\n",
    "        match_result.append(0)"
   ]
  },
  {
   "cell_type": "markdown",
   "id": "ac1e3e5a-d925-49ce-ab0a-6c621a4f9924",
   "metadata": {},
   "source": [
    "# 6. <font color='blue'>SEND</font> list of Matching basis to BOB\n",
    "### Serialize matching basis list as \"Matching_basis.pickle\""
   ]
  },
  {
   "cell_type": "code",
   "execution_count": 7,
   "id": "b0881954",
   "metadata": {},
   "outputs": [],
   "source": [
    "with open('Matching_basis.pickle', 'wb') as outfile:\n",
    "    pickle.dump(match_result, outfile)"
   ]
  },
  {
   "cell_type": "markdown",
   "id": "850e3752-b00a-4933-bacf-fd82be743210",
   "metadata": {},
   "source": [
    "# 7. Create a List of only Values from States where the Basis matched\n",
    "### This is a list of Values, not of States\n",
    "### The list should be about 50 items long"
   ]
  },
  {
   "cell_type": "code",
   "execution_count": 8,
   "id": "4c6fbef9",
   "metadata": {},
   "outputs": [],
   "source": [
    "value_list = []\n",
    "for i in range(len(match_result)):\n",
    "    if match_result[i] == 1:\n",
    "        value_list.append(value_array[i])"
   ]
  },
  {
   "cell_type": "markdown",
   "id": "e3e28d47-a548-4857-88b7-326819bc2391",
   "metadata": {},
   "source": [
    "# 8. Split the list of matching values into two parts, Verification and Key\n",
    "### The Key is the last 20 items in the list\n",
    "### The Verification is the rest of the list"
   ]
  },
  {
   "cell_type": "code",
   "execution_count": 13,
   "id": "48f3a879",
   "metadata": {},
   "outputs": [],
   "source": [
    "Verification = value_list[:-20]\n",
    "Key = value_list[-20:]"
   ]
  },
  {
   "cell_type": "markdown",
   "id": "62315ded-d900-4b54-89c5-bfa385aef6a5",
   "metadata": {},
   "source": [
    "# 9. <font color='red'>WAIT</font> for BOB to send you his Verification list and compare it to your own\n",
    "### It will be in the file Verification.pickle\n",
    "### Compare the two Verification lists\n",
    "\n"
   ]
  },
  {
   "cell_type": "code",
   "execution_count": 14,
   "id": "f67d8bfc",
   "metadata": {},
   "outputs": [],
   "source": [
    "with open('Verification.pickle', 'rb') as fd:\n",
    "    Bob_verification = pickle.load(fd)"
   ]
  },
  {
   "cell_type": "code",
   "execution_count": 15,
   "id": "aa51be3d",
   "metadata": {},
   "outputs": [
    {
     "data": {
      "text/plain": [
       "False"
      ]
     },
     "execution_count": 15,
     "metadata": {},
     "output_type": "execute_result"
    }
   ],
   "source": [
    "Bob_verification == Verification"
   ]
  },
  {
   "cell_type": "markdown",
   "id": "ff49f674-2f82-4196-9b29-47b14c795950",
   "metadata": {},
   "source": [
    "# 10. Encode your message using your Key list\n",
    "### The message you are to send is your favorite quote about Quantum\n",
    "### Encode your message by converting your ASCII characters to binary and XORing the binary with your Key\n",
    "### Hint: Dont drop leading 0's"
   ]
  },
  {
   "cell_type": "code",
   "execution_count": 44,
   "id": "01fc7a17",
   "metadata": {},
   "outputs": [],
   "source": [
    "message = \"Its entangled\"\n",
    "binary_string = toBinary(message)\n",
    "encrypt_string = encrypt(binary_string,Key)"
   ]
  },
  {
   "cell_type": "markdown",
   "id": "79af6aad-915e-4f68-94fc-374d3d506134",
   "metadata": {},
   "source": [
    "# 11. <font color='blue'>SEND</font> BOB one of two messages\n",
    "### If your Verification list matches BOB's, then send the encoded message\n",
    "### if your Verifcation list does NOT match Bob's, then send an unencoded message \"EVE, is that you?\"\n",
    "### \"send\" the message by saving it to 'ALICEs_msg.pickle'"
   ]
  },
  {
   "cell_type": "code",
   "execution_count": 45,
   "id": "1c8cd412-b8e8-4a8d-a831-731be81061bc",
   "metadata": {},
   "outputs": [],
   "source": [
    "if Bob_verification == Verification:\n",
    "    with open('ALICEs_msg.pickle', 'wb') as outfile:\n",
    "        pickle.dump(encrypt_string, outfile)\n",
    "else:\n",
    "    message = \"EVE, is that you?\"\n",
    "    binary_string = toBinary(message)\n",
    "    with open('ALICEs_msg.pickle', 'wb') as outfile:\n",
    "        pickle.dump(binary_string, outfile)"
   ]
  }
 ],
 "metadata": {
  "kernelspec": {
   "display_name": "Python 3 (ipykernel)",
   "language": "python",
   "name": "python3"
  },
  "language_info": {
   "codemirror_mode": {
    "name": "ipython",
    "version": 3
   },
   "file_extension": ".py",
   "mimetype": "text/x-python",
   "name": "python",
   "nbconvert_exporter": "python",
   "pygments_lexer": "ipython3",
   "version": "3.10.0"
  },
  "widgets": {
   "application/vnd.jupyter.widget-state+json": {
    "state": {},
    "version_major": 2,
    "version_minor": 0
   }
  }
 },
 "nbformat": 4,
 "nbformat_minor": 5
}
