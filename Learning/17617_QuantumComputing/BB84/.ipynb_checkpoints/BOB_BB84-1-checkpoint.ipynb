{
 "cells": [
  {
   "cell_type": "code",
   "execution_count": 1,
   "id": "a466ea65-0fa7-402e-aed0-66a3758dc4f5",
   "metadata": {},
   "outputs": [],
   "source": [
    "import numpy as np\n",
    "\n",
    "# Importing standard Qiskit libraries\n",
    "from qiskit import QuantumCircuit, transpile, Aer, IBMQ, execute\n",
    "from qiskit.tools.jupyter import *\n",
    "from qiskit.visualization import *\n",
    "from ibm_quantum_widgets import *\n",
    "from qiskit.providers.aer import QasmSimulator\n",
    "from qiskit.providers.ibmq import RunnerResult\n",
    "from qiskit.tools.monitor import job_monitor\n",
    "import json, pickle\n",
    "from qiskit.circuit import qpy_serialization\n",
    "# Loading your IBM Quantum account(s)\n",
    "API_KEY = \"f72df63f9da5ef98743365dcc45edacc7638e8972d99847c758d4aea7bb88ffd5e47d932d87d66a4f749eb6ddc93ca10114822c43488ee0060ac55126d1a3787\"\n",
    "IBMQ.save_account(API_KEY, overwrite=True)\n",
    "provider = IBMQ.load_account()"
   ]
  },
  {
   "cell_type": "markdown",
   "id": "fd2a8ab3-4a26-48b0-a6ca-05454bbc7d2e",
   "metadata": {},
   "source": [
    "# Helper Functions"
   ]
  },
  {
   "cell_type": "code",
   "execution_count": 16,
   "id": "eb23204e-12f1-4c88-8c02-3ac64a33c754",
   "metadata": {},
   "outputs": [],
   "source": [
    "def toString(bin_data):\n",
    "    def BinaryToDecimal(binary):\n",
    "        string = int(binary, 2)\n",
    "        return string\n",
    "    \n",
    "    str_data =''\n",
    "\n",
    "    for i in range(0, len(bin_data), 8):\n",
    "        temp_data = bin_data[i:i + 8]\n",
    "        decimal_data = BinaryToDecimal(temp_data)\n",
    "        str_data = str_data + chr(decimal_data)\n",
    "        \n",
    "    return str_data"
   ]
  },
  {
   "cell_type": "code",
   "execution_count": 15,
   "id": "9079d48a-1516-4d37-9901-7e9cf83b2e79",
   "metadata": {},
   "outputs": [],
   "source": [
    "def decrypt(msg, key):\n",
    "    key = \"\".join(map(str, key)) \n",
    "    key = key * int(len(msg)/len(key) + 1)\n",
    "    return '{0:0{1}b}'.format(int(msg, 2) ^ int(key[:len(msg)], 2), len(msg))"
   ]
  },
  {
   "cell_type": "markdown",
   "id": "21496ace-8e67-48ba-bf6b-dd66395463bb",
   "metadata": {},
   "source": [
    "# <font color='red'>WAIT</font> for ALICE's states\n",
    "### Bob opens and reads the \"Alice_states.qpy\" file"
   ]
  },
  {
   "cell_type": "code",
   "execution_count": 2,
   "id": "c19cb9f4-e123-47e9-8940-f240665f7240",
   "metadata": {},
   "outputs": [],
   "source": [
    "with open('Alice_states.qpy', 'rb') as fd:\n",
    "    Alice_prepared_states = qpy_serialization.load(fd)"
   ]
  },
  {
   "cell_type": "markdown",
   "id": "352130cf-4214-4d37-88ed-f84ddd793261",
   "metadata": {},
   "source": [
    "# Randomly decide which BASIS to measure each state in \n",
    "Note: This choice is independent of any choice ALICE has made\n",
    "### If BOB is measuring in the (|0>, |1>) basis then add a Measurement gate to the state\n",
    "### If BOB is measuring in the (|+>, |->) basis, then add a Hadamard and a Measurement gate"
   ]
  },
  {
   "cell_type": "code",
   "execution_count": 3,
   "id": "316a0c8c-12e7-4ab3-828e-1d8a11c24d17",
   "metadata": {},
   "outputs": [],
   "source": [
    "BOB_Basis_Choice = np.random.choice((0, 1), size=(len(Alice_prepared_states),))"
   ]
  },
  {
   "cell_type": "code",
   "execution_count": 4,
   "id": "f87b37fb-e2db-4b11-a789-81b20f128d9a",
   "metadata": {},
   "outputs": [],
   "source": [
    "# BOB prepares to each state to be measured in a RANDOM BASIS. \n",
    "# He does this by adding a barrier, an H if its the |+-> basis and then a measurement gate\n",
    "BOBs_circuits = []\n",
    "for circuit, basis in zip(Alice_prepared_states, BOB_Basis_Choice):\n",
    "    circuit.barrier(0)\n",
    "    if basis:\n",
    "        circuit.h(0)\n",
    "    circuit.measure_all()\n",
    "    BOBs_circuits.append(circuit)"
   ]
  },
  {
   "cell_type": "markdown",
   "id": "e6d57990-b33b-4263-a943-533ad306bded",
   "metadata": {},
   "source": [
    "# BOB measures all of the states\n",
    "### Run each of the circuits in a single qiskit job"
   ]
  },
  {
   "cell_type": "code",
   "execution_count": 5,
   "id": "c9db3f51-9838-4315-a387-2b5cfdc4f904",
   "metadata": {},
   "outputs": [
    {
     "name": "stdout",
     "output_type": "stream",
     "text": [
      "Job Status: job has successfully run\n"
     ]
    }
   ],
   "source": [
    "qjob = execute(BOBs_circuits,shots= 1,backend= provider.backend.ibmq_qasm_simulator, memory=True)\n",
    "job_monitor(qjob)\n",
    "result = qjob.result()"
   ]
  },
  {
   "cell_type": "markdown",
   "id": "9e79e4fe-7c1e-4003-b28f-05828d42fe93",
   "metadata": {},
   "source": [
    "# BOB pulls out each of the measured states from the results\n",
    "### put them into an array of 0s and 1s"
   ]
  },
  {
   "cell_type": "code",
   "execution_count": 6,
   "id": "0e75ba16-a70c-43d7-b86f-0cdf44f78d37",
   "metadata": {},
   "outputs": [],
   "source": [
    "measured_states = [ 0 if r.data.memory[0]=='0x0' else 1 for r in result.results]"
   ]
  },
  {
   "cell_type": "markdown",
   "id": "248cd8bd-df85-495b-9ee3-db30220bbdaa",
   "metadata": {},
   "source": [
    "# <font color='blue'>SEND</font> list of Basis choices to ALICE (maintain sequential order)"
   ]
  },
  {
   "cell_type": "code",
   "execution_count": 7,
   "id": "fe9fa1f1-8857-40c8-b552-9a0375b78ca4",
   "metadata": {},
   "outputs": [],
   "source": [
    "# https://qiskit.org/documentation/apidoc/qpy.html\n",
    "with open('BOBs_basis.pickle', 'wb') as outfile:\n",
    "    pickle.dump(BOB_Basis_Choice, outfile)"
   ]
  },
  {
   "cell_type": "markdown",
   "id": "7c7ba330-3846-4757-b68d-b372fdbd1878",
   "metadata": {},
   "source": [
    "# <font color='red'>WAIT</font> for ALICE to send list of Matching Basis"
   ]
  },
  {
   "cell_type": "code",
   "execution_count": 8,
   "id": "b689bf59-6363-4d21-9e65-74368bd41c6b",
   "metadata": {},
   "outputs": [],
   "source": [
    "# https://qiskit.org/documentation/apidoc/qpy.html\n",
    "with open('Matching_basis.pickle', 'rb') as fd:\n",
    "    Matching_basis = pickle.load(fd)"
   ]
  },
  {
   "cell_type": "markdown",
   "id": "9288c864-00d6-465d-b7a1-d709d691d4d0",
   "metadata": {},
   "source": [
    "# Take BOB's measured values and remove any that do not having matching Basis with ALICE\n",
    "### Be sure to maintain their sequence\n",
    "Note: We should expect the length of this list to be ~50% of the original"
   ]
  },
  {
   "cell_type": "code",
   "execution_count": 9,
   "id": "2e4921ec-8b19-4be5-97ae-59ef24026abe",
   "metadata": {
    "scrolled": true
   },
   "outputs": [
    {
     "data": {
      "text/plain": [
       "54"
      ]
     },
     "execution_count": 9,
     "metadata": {},
     "output_type": "execute_result"
    }
   ],
   "source": [
    "Matching_values = [b for b,k in zip(measured_states, Matching_basis) if k==1]\n",
    "len(Matching_values)"
   ]
  },
  {
   "cell_type": "markdown",
   "id": "f672cd21-a48e-4825-989e-e9ae93e7b0e4",
   "metadata": {},
   "source": [
    "# Split the Matching Values into two parts, the KEY and the VERIFICATION\n",
    "### Earlier ALICE and BOB agreed that the last 20 values will be the key, the rest will be used for verification"
   ]
  },
  {
   "cell_type": "code",
   "execution_count": 11,
   "id": "e5be2020-e146-4215-97ce-cc490ee30654",
   "metadata": {},
   "outputs": [],
   "source": [
    "Verification = Matching_values[:-20]\n",
    "Key = Matching_values[-20:]\n",
    "# len(Verification + Key)\n",
    "# Verification + Key == Matching_values"
   ]
  },
  {
   "cell_type": "markdown",
   "id": "8e0d0097-e298-4706-bc88-36a1431355cb",
   "metadata": {},
   "source": [
    "# <font color='blue'>SEND</font> Verification list back to ALICE"
   ]
  },
  {
   "cell_type": "code",
   "execution_count": 12,
   "id": "588eb5f4-6733-48d4-be11-36614a9491c0",
   "metadata": {},
   "outputs": [],
   "source": [
    "with open('Verification.pickle', 'wb') as outfile:\n",
    "    pickle.dump(Verification, outfile)"
   ]
  },
  {
   "cell_type": "markdown",
   "id": "9548bcd0-58bc-44cf-aefc-ad5ab78dd813",
   "metadata": {},
   "source": [
    "# <font color='red'>WAIT</font> for ALICE's message"
   ]
  },
  {
   "cell_type": "code",
   "execution_count": 13,
   "id": "d1253bde-f5f3-4c9f-a5c1-c44e4a843497",
   "metadata": {},
   "outputs": [],
   "source": [
    "with open('ALICEs_msg.pickle', 'rb') as fd:\n",
    "    encoded_msg = pickle.load(fd)"
   ]
  },
  {
   "cell_type": "code",
   "execution_count": 17,
   "id": "84051626-f313-4ad6-a4c0-a266e685d9f2",
   "metadata": {},
   "outputs": [],
   "source": [
    "decoded_msg = decrypt(encoded_msg, Key)"
   ]
  },
  {
   "cell_type": "code",
   "execution_count": 18,
   "id": "be27dec9-dc64-4beb-8bb5-e65f3b4316fa",
   "metadata": {},
   "outputs": [
    {
     "data": {
      "text/plain": [
       "'ÍÃ\\rÑÕ-XK*\\x17\\x837O\\x1f£ß\\x03'"
      ]
     },
     "execution_count": 18,
     "metadata": {},
     "output_type": "execute_result"
    }
   ],
   "source": [
    "toString(decoded_msg)"
   ]
  },
  {
   "cell_type": "code",
   "execution_count": 19,
   "id": "fc321ad9-7aa1-4a50-bf18-ba2c949188f7",
   "metadata": {},
   "outputs": [
    {
     "data": {
      "text/plain": [
       "'EVEX\\x81¥Í\\x03£C\\x0b¢\\x07\\x96÷W\\x07'"
      ]
     },
     "execution_count": 19,
     "metadata": {},
     "output_type": "execute_result"
    }
   ],
   "source": [
    "toString(encoded_msg)"
   ]
  }
 ],
 "metadata": {
  "kernelspec": {
   "display_name": "Python 3 (ipykernel)",
   "language": "python",
   "name": "python3"
  },
  "language_info": {
   "codemirror_mode": {
    "name": "ipython",
    "version": 3
   },
   "file_extension": ".py",
   "mimetype": "text/x-python",
   "name": "python",
   "nbconvert_exporter": "python",
   "pygments_lexer": "ipython3",
   "version": "3.10.0"
  },
  "widgets": {
   "application/vnd.jupyter.widget-state+json": {
    "state": {},
    "version_major": 2,
    "version_minor": 0
   }
  }
 },
 "nbformat": 4,
 "nbformat_minor": 5
}
