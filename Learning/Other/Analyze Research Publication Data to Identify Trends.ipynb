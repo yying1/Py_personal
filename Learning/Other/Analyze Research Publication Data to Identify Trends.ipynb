{
 "cells": [
  {
   "cell_type": "markdown",
   "id": "83ce530c",
   "metadata": {},
   "source": [
    "# Purpose: Use dimensions.ai as the source of summary statistics of research publication by category, try to identify categories with highest growth (hence more potential)\n",
    "last updated on 3/17/2023\n",
    "1. Collect research cateogies and codes from https://app.dimensions.ai/browse/categories/publication/for\n",
    "2. Visit each catogory and crawl research data\n",
    "3. Analyze growth trend and compare across time and different sectors\n",
    "\n",
    "References: \n",
    "1. https://towardsdatascience.com/how-to-use-selenium-to-web-scrape-with-example-80f9b23a843a"
   ]
  },
  {
   "cell_type": "code",
   "execution_count": null,
   "id": "eb29a743",
   "metadata": {},
   "outputs": [],
   "source": [
    "import requests\n",
    "from urllib.request import Request, urlopen\n",
    "from bs4 import BeautifulSoup\n",
    "import re\n",
    "HEADERS = ({'User-Agent':'Mozilla/5.0 (Windows NT 10.0; Win64; x64) \\AppleWebKit/537.36 (KHTML, like Gecko) \\Chrome/90.0.4430.212 Safari/537.36','Accept-Language': 'en-US, en;q=0.5'})"
   ]
  },
  {
   "cell_type": "code",
   "execution_count": null,
   "id": "ce35e4a2",
   "metadata": {},
   "outputs": [],
   "source": [
    "def get_soup(url,HEADERS):\n",
    "    r = requests.get(url, headers=HEADERS).text\n",
    "#     soup = BeautifulSoup(r, 'html.parser')\n",
    "    soup = BeautifulSoup(r, 'lxml')\n",
    "    return soup\n",
    "soup= get_soup(\"https://app.dimensions.ai/browse/categories/publication/for\",HEADERS)"
   ]
  },
  {
   "cell_type": "code",
   "execution_count": null,
   "id": "2ce0d66f",
   "metadata": {},
   "outputs": [],
   "source": [
    "from urllib.request import Request, urlopen\n",
    "from bs4 import BeautifulSoup\n",
    "\n",
    "soup = BeautifulSoup(urlopen(\"https://app.dimensions.ai/browse/categories/publication/for\"))\n",
    "result = soup.find_all(\"div\", {\"class\":\"mycategories\"})\n",
    "\n",
    "for res in result:\n",
    "    print(res.decode_contents().strip())"
   ]
  },
  {
   "cell_type": "markdown",
   "id": "ba26d595",
   "metadata": {},
   "source": [
    "Note: used selenium instead of BeautifulSoup because the category data was loaded after loading the site"
   ]
  },
  {
   "cell_type": "code",
   "execution_count": null,
   "id": "82974a2d",
   "metadata": {
    "scrolled": false
   },
   "outputs": [],
   "source": [
    "# use the latest selenium 4, there are syntax changes from previous version\n",
    "from selenium import webdriver\n",
    "from selenium.webdriver.common.keys import Keys\n",
    "from selenium.webdriver.chrome.service import Service\n",
    "from selenium.webdriver.support.ui import WebDriverWait\n",
    "from selenium.webdriver.common.by import By\n",
    "from selenium.webdriver.support import expected_conditions as EC\n",
    "from webdriver_manager.chrome import ChromeDriverManager\n",
    "driver = webdriver.Chrome(service=Service(ChromeDriverManager().install()))"
   ]
  },
  {
   "cell_type": "code",
   "execution_count": null,
   "id": "6784bb02",
   "metadata": {},
   "outputs": [],
   "source": [
    "driver.get(\"https://app.dimensions.ai/browse/categories/publication/for\")"
   ]
  },
  {
   "cell_type": "code",
   "execution_count": null,
   "id": "4eed2f34",
   "metadata": {},
   "outputs": [],
   "source": [
    "all_href = driver.find_elements(By.XPATH,  \"//*[contains(@href, '/discover/publication?and_facet_for')]\")"
   ]
  },
  {
   "cell_type": "code",
   "execution_count": null,
   "id": "3855980b",
   "metadata": {},
   "outputs": [],
   "source": [
    "# Find by div class failed because can't collect the href links\n",
    "# level_1 = driver.find_elements(\"xpath\",'//div[@class=\"sc-2f5ewc-3 bVEbpe textcrop\"]')\n",
    "# level_2 = driver.find_elements(\"xpath\",'//div[@class=\"sc-2f5ewc-0 gIuuzb textcrop\"]')"
   ]
  },
  {
   "cell_type": "code",
   "execution_count": null,
   "id": "698442e3",
   "metadata": {},
   "outputs": [],
   "source": [
    "research_collection = {}\n",
    "for i in range(len(all_href)):\n",
    "    research_collection[all_href[i].text] = all_href[i].get_attribute('href')"
   ]
  },
  {
   "cell_type": "code",
   "execution_count": null,
   "id": "2c537038",
   "metadata": {},
   "outputs": [],
   "source": [
    "research_data = {}\n",
    "for item in list(research_collection.items()):\n",
    "    name, link = item[0],item[1]\n",
    "    driver.get(link.replace(\"discover/publication?\",\"analytics/publication/overview/timeline?\"))\n",
    "    WebDriverWait(driver, 10).until(EC.element_to_be_clickable((By.XPATH, \"//*[@id='analytics_infinite_scroll_container']/div[2]/div[2]/div[2]/div[2]/fieldset/span[3]\"))).click()\n",
    "    WebDriverWait(driver, 10)\n",
    "    # Reference: https://www.softwaretestingmaterial.com/how-to-handle-web-tables-in-selenium-python/\n",
    "    columns_header = driver.find_elements(By.XPATH,\"//table[@class= 'table table--analytical']/thead/tr/th\")\n",
    "#     row_header = driver.find_elements(By.XPATH,\"//table[@class= 'table table--analytical']/tbody/tr/th\")\n",
    "    row_data = driver.find_elements(By.XPATH,\"//table[@class= 'table table--analytical']/tbody/tr/td\")\n",
    "    data = {}\n",
    "    for i in range(len(columns_header)):\n",
    "        data[columns_header[i].text] = row_data[i].text\n",
    "    research_data[name] = data"
   ]
  },
  {
   "cell_type": "code",
   "execution_count": null,
   "id": "934005d0",
   "metadata": {},
   "outputs": [],
   "source": [
    "# Reference: https://pynative.com/python-save-dictionary-to-file/\n",
    "import pickle\n",
    "with open('research_data.pkl', 'wb') as fp:\n",
    "    pickle.dump(research_data, fp)"
   ]
  },
  {
   "cell_type": "code",
   "execution_count": null,
   "id": "e6941d1e",
   "metadata": {},
   "outputs": [],
   "source": [
    "with open('research_data.pkl', 'rb') as fp:\n",
    "    research_data = pickle.load(fp)"
   ]
  },
  {
   "cell_type": "code",
   "execution_count": null,
   "id": "921f2a24",
   "metadata": {},
   "outputs": [],
   "source": [
    "driver.close()"
   ]
  },
  {
   "cell_type": "code",
   "execution_count": null,
   "id": "dbd1d011",
   "metadata": {},
   "outputs": [],
   "source": [
    "research_data"
   ]
  },
  {
   "cell_type": "code",
   "execution_count": null,
   "id": "b70cb52e",
   "metadata": {},
   "outputs": [],
   "source": []
  },
  {
   "cell_type": "code",
   "execution_count": null,
   "id": "2f918aa2",
   "metadata": {},
   "outputs": [],
   "source": []
  }
 ],
 "metadata": {
  "kernelspec": {
   "display_name": "Python 3 (ipykernel)",
   "language": "python",
   "name": "python3"
  },
  "language_info": {
   "codemirror_mode": {
    "name": "ipython",
    "version": 3
   },
   "file_extension": ".py",
   "mimetype": "text/x-python",
   "name": "python",
   "nbconvert_exporter": "python",
   "pygments_lexer": "ipython3",
   "version": "3.10.0"
  }
 },
 "nbformat": 4,
 "nbformat_minor": 5
}
