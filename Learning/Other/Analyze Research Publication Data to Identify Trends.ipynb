{
 "cells": [
  {
   "cell_type": "markdown",
   "id": "83ce530c",
   "metadata": {},
   "source": [
    "# Purpose: Use dimensions.ai as the source of summary statistics of research publication by category, try to identify categories with highest growth (hence more potential)\n",
    "last updated on 3/20/2023\n",
    "1. Collect research cateogies and codes from https://app.dimensions.ai/browse/categories/publication/for\n",
    "2. Visit each catogory and crawl research data\n",
    "3. Analyze growth trend and compare across time and different sectors\n",
    "\n",
    "References: \n",
    "1. https://towardsdatascience.com/how-to-use-selenium-to-web-scrape-with-example-80f9b23a843a"
   ]
  },
  {
   "cell_type": "code",
   "execution_count": null,
   "id": "eb29a743",
   "metadata": {},
   "outputs": [],
   "source": [
    "import requests\n",
    "from urllib.request import Request, urlopen\n",
    "from bs4 import BeautifulSoup\n",
    "import re\n",
    "HEADERS = ({'User-Agent':'Mozilla/5.0 (Windows NT 10.0; Win64; x64) \\AppleWebKit/537.36 (KHTML, like Gecko) \\Chrome/90.0.4430.212 Safari/537.36','Accept-Language': 'en-US, en;q=0.5'})"
   ]
  },
  {
   "cell_type": "code",
   "execution_count": null,
   "id": "ce35e4a2",
   "metadata": {},
   "outputs": [],
   "source": [
    "def get_soup(url,HEADERS):\n",
    "    r = requests.get(url, headers=HEADERS).text\n",
    "#     soup = BeautifulSoup(r, 'html.parser')\n",
    "    soup = BeautifulSoup(r, 'lxml')\n",
    "    return soup\n",
    "soup= get_soup(\"https://app.dimensions.ai/browse/categories/publication/for\",HEADERS)"
   ]
  },
  {
   "cell_type": "code",
   "execution_count": null,
   "id": "2ce0d66f",
   "metadata": {},
   "outputs": [],
   "source": [
    "from urllib.request import Request, urlopen\n",
    "from bs4 import BeautifulSoup\n",
    "\n",
    "soup = BeautifulSoup(urlopen(\"https://app.dimensions.ai/browse/categories/publication/for\"))\n",
    "result = soup.find_all(\"div\", {\"class\":\"mycategories\"})\n",
    "\n",
    "for res in result:\n",
    "    print(res.decode_contents().strip())"
   ]
  },
  {
   "cell_type": "markdown",
   "id": "ba26d595",
   "metadata": {},
   "source": [
    "Note: used selenium instead of BeautifulSoup because the category data was loaded after loading the site"
   ]
  },
  {
   "cell_type": "code",
   "execution_count": 1,
   "id": "82974a2d",
   "metadata": {
    "scrolled": false
   },
   "outputs": [],
   "source": [
    "# use the latest selenium 4, there are syntax changes from previous version\n",
    "from selenium import webdriver\n",
    "from selenium.webdriver.common.keys import Keys\n",
    "from selenium.webdriver.chrome.service import Service\n",
    "from selenium.webdriver.support.ui import WebDriverWait\n",
    "from selenium.webdriver.common.by import By\n",
    "from selenium.webdriver.support import expected_conditions as EC\n",
    "from webdriver_manager.chrome import ChromeDriverManager\n",
    "import pickle"
   ]
  },
  {
   "cell_type": "code",
   "execution_count": 2,
   "id": "a4eebc87",
   "metadata": {},
   "outputs": [
    {
     "name": "stderr",
     "output_type": "stream",
     "text": [
      "[WDM] - Downloading: 100%|████████████████████████████████████████████████████████| 6.79M/6.79M [00:01<00:00, 6.43MB/s]\n"
     ]
    }
   ],
   "source": [
    "driver = webdriver.Chrome(service=Service(ChromeDriverManager().install()))"
   ]
  },
  {
   "cell_type": "code",
   "execution_count": null,
   "id": "6784bb02",
   "metadata": {},
   "outputs": [],
   "source": [
    "driver.get(\"https://app.dimensions.ai/browse/categories/publication/for\")"
   ]
  },
  {
   "cell_type": "code",
   "execution_count": null,
   "id": "4eed2f34",
   "metadata": {},
   "outputs": [],
   "source": [
    "all_href = driver.find_elements(By.XPATH,  \"//*[contains(@href, '/discover/publication?and_facet_for')]\")"
   ]
  },
  {
   "cell_type": "code",
   "execution_count": null,
   "id": "3855980b",
   "metadata": {},
   "outputs": [],
   "source": [
    "# Find by div class failed because can't collect the href links\n",
    "# level_1 = driver.find_elements(\"xpath\",'//div[@class=\"sc-2f5ewc-3 bVEbpe textcrop\"]')\n",
    "# level_2 = driver.find_elements(\"xpath\",'//div[@class=\"sc-2f5ewc-0 gIuuzb textcrop\"]')"
   ]
  },
  {
   "cell_type": "code",
   "execution_count": null,
   "id": "698442e3",
   "metadata": {},
   "outputs": [],
   "source": [
    "research_collection = {}\n",
    "for i in range(len(all_href)):\n",
    "    research_collection[all_href[i].text] = all_href[i].get_attribute('href')"
   ]
  },
  {
   "cell_type": "code",
   "execution_count": null,
   "id": "2c537038",
   "metadata": {},
   "outputs": [],
   "source": [
    "research_data = {}\n",
    "for item in list(research_collection.items()):\n",
    "    name, link = item[0],item[1]\n",
    "    driver.get(link.replace(\"discover/publication?\",\"analytics/publication/overview/timeline?\"))\n",
    "    WebDriverWait(driver, 10).until(EC.element_to_be_clickable((By.XPATH, \"//*[@id='analytics_infinite_scroll_container']/div[2]/div[2]/div[2]/div[2]/fieldset/span[3]\"))).click()\n",
    "    WebDriverWait(driver, 10)\n",
    "    # Reference: https://www.softwaretestingmaterial.com/how-to-handle-web-tables-in-selenium-python/\n",
    "    columns_header = driver.find_elements(By.XPATH,\"//table[@class= 'table table--analytical']/thead/tr/th\")\n",
    "#     row_header = driver.find_elements(By.XPATH,\"//table[@class= 'table table--analytical']/tbody/tr/th\")\n",
    "    row_data = driver.find_elements(By.XPATH,\"//table[@class= 'table table--analytical']/tbody/tr/td\")\n",
    "    data = {}\n",
    "    for i in range(len(columns_header)):\n",
    "        data[columns_header[i].text] = row_data[i].text\n",
    "    research_data[name] = data"
   ]
  },
  {
   "cell_type": "code",
   "execution_count": null,
   "id": "921f2a24",
   "metadata": {},
   "outputs": [],
   "source": [
    "driver.close()"
   ]
  },
  {
   "cell_type": "code",
   "execution_count": null,
   "id": "934005d0",
   "metadata": {},
   "outputs": [],
   "source": [
    "# Reference: https://pynative.com/python-save-dictionary-to-file/\n",
    "with open('research_data.pkl', 'wb') as fp:\n",
    "    pickle.dump(research_data, fp)"
   ]
  },
  {
   "cell_type": "code",
   "execution_count": null,
   "id": "e6941d1e",
   "metadata": {},
   "outputs": [],
   "source": [
    "with open('research_data.pkl', 'rb') as fp:\n",
    "    research_data = pickle.load(fp)"
   ]
  },
  {
   "cell_type": "code",
   "execution_count": null,
   "id": "b70cb52e",
   "metadata": {},
   "outputs": [],
   "source": [
    "import pandas as pd\n",
    "df_data = pd.DataFrame(columns = ['Code', 'Name', 2014, 2015,2016,2017,2018,2019,2020,2021,2022,2023])"
   ]
  },
  {
   "cell_type": "code",
   "execution_count": null,
   "id": "dbd1d011",
   "metadata": {},
   "outputs": [],
   "source": [
    "for key,value in research_data.items():\n",
    "    value_data = { int(k):int(v.replace(\",\",\"\")) for k,v in value.items() }\n",
    "    code = int(key.split()[0])\n",
    "    df = pd.DataFrame([value_data])\n",
    "    df['Code'] = code\n",
    "    df['Name'] = key\n",
    "    df_data = pd.concat([df_data,df],ignore_index=True)"
   ]
  },
  {
   "cell_type": "code",
   "execution_count": null,
   "id": "2f918aa2",
   "metadata": {},
   "outputs": [],
   "source": [
    "df_data['CAGR-2022'] = ((df_data[2022]/df_data[2014])**(1/8)-1)*100\n",
    "df_data['CAGR-2022'] = df_data['CAGR-2022'].astype(float).round(2)\n",
    "df_data['Category-Code'] = df_data.apply(lambda x: str(x['Code'])[0:2], axis=1)\n",
    "def get_rates(year_list):\n",
    "    result = []\n",
    "    for i in range(1, len(year_list)):\n",
    "        cal = (year_list[i] - year_list[i-1])/year_list[i-1]*100\n",
    "        result.append(round(cal,2))\n",
    "    return result\n",
    "\n",
    "df_data['YoY rates'] = df_data.apply(lambda x: get_rates([x[2014], x[2015],x[2016],x[2017],x[2018],x[2019],x[2020], x[2021], x[2022]]), axis=1)"
   ]
  },
  {
   "cell_type": "code",
   "execution_count": null,
   "id": "89c97d3a",
   "metadata": {},
   "outputs": [],
   "source": [
    "with pd.option_context('display.max_rows', None,'display.max_columns', None):\n",
    "    display(df_data.sort_values(by='CAGR-2022', ascending=False)[['Category-Code','Code','Name',2022,'CAGR-2022','YoY rates']])"
   ]
  },
  {
   "cell_type": "code",
   "execution_count": null,
   "id": "093d3aaf",
   "metadata": {},
   "outputs": [],
   "source": [
    "df_data.to_excel(\"result.xlsx\", index = False)"
   ]
  },
  {
   "cell_type": "code",
   "execution_count": null,
   "id": "03006871",
   "metadata": {},
   "outputs": [],
   "source": [
    "import matplotlib.pyplot as plt\n",
    "plt.figure()\n",
    "mng = plt.get_current_fig_manager()\n",
    "mng.full_screen_toggle()\n",
    "df_plot = df_data[(df_data['Code'].astype(str).str.len() == 4) & (df_data['Code'].astype(str).str.startswith(\"46\"))].set_index(\"Name\")\n",
    "df_plot = df_plot.iloc[:, 1:-1]\n",
    "df_plot[df_plot.columns[df_plot.columns.isin([2014,2015,2016,2017,2018,2019,2020,2021,2022])]].T.plot()\n",
    "plt.show()"
   ]
  },
  {
   "cell_type": "markdown",
   "id": "fb1c94f3",
   "metadata": {},
   "source": [
    "# Conduct Text Analysis to Extract keywords from randomly selected abstracts in research publications"
   ]
  },
  {
   "cell_type": "code",
   "execution_count": 3,
   "id": "b8d070b7",
   "metadata": {},
   "outputs": [],
   "source": [
    "# pip3 install yake\n",
    "import yake"
   ]
  },
  {
   "cell_type": "code",
   "execution_count": 4,
   "id": "3825f9a1",
   "metadata": {},
   "outputs": [],
   "source": [
    "driver = webdriver.Chrome(service=Service(ChromeDriverManager().install()))"
   ]
  },
  {
   "cell_type": "code",
   "execution_count": 5,
   "id": "f10f8a76",
   "metadata": {},
   "outputs": [],
   "source": [
    "driver.get(\"https://app.dimensions.ai/discover/publication?or_facet_for=80104&order=date\")"
   ]
  },
  {
   "cell_type": "code",
   "execution_count": 12,
   "id": "37e5c978",
   "metadata": {},
   "outputs": [],
   "source": [
    "abstract_data = driver.find_elements(By.XPATH,  \"//*[@id='mainContentBlock']/div[3]/div/div[2]/div[2]/div[1]\")"
   ]
  },
  {
   "cell_type": "code",
   "execution_count": 14,
   "id": "deb00f0a",
   "metadata": {},
   "outputs": [],
   "source": [
    "# Click show more on all publications on the first page\n",
    "show_more = abstract_data[0].find_elements(By.XPATH,\"//*[@data-bt='show_more']\")\n",
    "for more in show_more:\n",
    "    more.click()"
   ]
  },
  {
   "cell_type": "code",
   "execution_count": 15,
   "id": "5001cf4e",
   "metadata": {},
   "outputs": [],
   "source": [
    "WebDriverWait(driver, 500)\n",
    "abstract_text = abstract_data[0].find_elements(By.XPATH,\"//*[@data-bt='abstract_wrapper']\")"
   ]
  },
  {
   "cell_type": "code",
   "execution_count": 31,
   "id": "f9bfe914",
   "metadata": {},
   "outputs": [],
   "source": [
    "driver.close()"
   ]
  },
  {
   "cell_type": "code",
   "execution_count": 20,
   "id": "928dfc61",
   "metadata": {},
   "outputs": [],
   "source": [
    "text_list = []\n",
    "for a in abstract_text:\n",
    "    text_list.append(a.text[:-4]) #remove \"less\" word from end"
   ]
  },
  {
   "cell_type": "code",
   "execution_count": 27,
   "id": "3b0024f6",
   "metadata": {},
   "outputs": [],
   "source": [
    "import pandas as pd\n",
    "df_textdata = pd.DataFrame(columns = ['Abstract', 'Keywords'])"
   ]
  },
  {
   "cell_type": "code",
   "execution_count": 28,
   "id": "4c2d056a",
   "metadata": {},
   "outputs": [],
   "source": [
    "kw_extractor = yake.KeywordExtractor()\n",
    "for text in text_list:\n",
    "    keywords = kw_extractor.extract_keywords(text)\n",
    "    #The lower the score, the more relevant the keyword is.\n",
    "    row = pd.DataFrame([{'Abstract': text, 'Keywords': keywords}])\n",
    "    df_textdata = pd.concat([df_textdata,row],ignore_index=True)"
   ]
  },
  {
   "cell_type": "code",
   "execution_count": 30,
   "id": "10c20cb9",
   "metadata": {
    "scrolled": true
   },
   "outputs": [],
   "source": [
    "df_textdata.to_excel(\"3901 Curriculum and Pedagogy.xlsx\")"
   ]
  }
 ],
 "metadata": {
  "kernelspec": {
   "display_name": "Python 3 (ipykernel)",
   "language": "python",
   "name": "python3"
  },
  "language_info": {
   "codemirror_mode": {
    "name": "ipython",
    "version": 3
   },
   "file_extension": ".py",
   "mimetype": "text/x-python",
   "name": "python",
   "nbconvert_exporter": "python",
   "pygments_lexer": "ipython3",
   "version": "3.10.0"
  }
 },
 "nbformat": 4,
 "nbformat_minor": 5
}
