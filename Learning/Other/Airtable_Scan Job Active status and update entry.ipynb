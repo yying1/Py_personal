{
 "cells": [
  {
   "cell_type": "markdown",
   "id": "3f732c09",
   "metadata": {},
   "source": [
    "# Visit job links and scan for their titles to confirm availability\n",
    "Last Updated on 2023-04-07"
   ]
  },
  {
   "cell_type": "code",
   "execution_count": 1,
   "id": "5f0b1422",
   "metadata": {},
   "outputs": [],
   "source": [
    "# install package: pip3 install pyairtable\n",
    "import os\n",
    "from dotenv import load_dotenv\n",
    "from pyairtable import Api, Base, Table\n",
    "from pyairtable.formulas import match\n",
    "import pandas as pd\n",
    "import requests\n",
    "from urllib.request import Request, urlopen\n",
    "from bs4 import BeautifulSoup\n",
    "import re\n",
    "HEADERS = ({'User-Agent':'Mozilla/5.0 (Windows NT 10.0; Win64; x64) \\AppleWebKit/537.36 (KHTML, like Gecko) \\Chrome/90.0.4430.212 Safari/537.36','Accept-Language': 'en-US, en;q=0.5'})"
   ]
  },
  {
   "cell_type": "code",
   "execution_count": 2,
   "id": "9716fed6",
   "metadata": {},
   "outputs": [],
   "source": [
    "# functions to retrieve job posting data\n",
    "def get_soup(url,HEADERS):\n",
    "    r = requests.get(url, headers=HEADERS).text\n",
    "#     soup = BeautifulSoup(r, 'html.parser')\n",
    "    soup = BeautifulSoup(r, 'lxml')\n",
    "    return soup"
   ]
  },
  {
   "cell_type": "code",
   "execution_count": 3,
   "id": "fafa26e2",
   "metadata": {},
   "outputs": [],
   "source": [
    "# load environment file and variables\n",
    "load_dotenv(\"airtable.env\")\n",
    "AIRTABLE_TOKEN = os.getenv(\"Airtable_token\")\n",
    "AIRTABLE_BASE_ID = os.getenv(\"Airtable_ft_base_id\")"
   ]
  },
  {
   "cell_type": "code",
   "execution_count": 10,
   "id": "39cd8f9d",
   "metadata": {},
   "outputs": [],
   "source": [
    "table = Table(AIRTABLE_TOKEN, AIRTABLE_BASE_ID, 'Jobs-2023')\n",
    "table = table.all(view='Not Applied')"
   ]
  },
  {
   "cell_type": "code",
   "execution_count": 11,
   "id": "d132fd9e",
   "metadata": {},
   "outputs": [],
   "source": [
    "def check_status(title,url):\n",
    "    soup= get_soup(url,HEADERS)\n",
    "    # search for job title in the posting data to determine it's availability\n",
    "#     pattern = re.compile(title)\n",
    "    if soup.find(text=title) or title in str(soup):\n",
    "        return True\n",
    "    else:\n",
    "        return False"
   ]
  },
  {
   "cell_type": "code",
   "execution_count": 12,
   "id": "c3c34504",
   "metadata": {},
   "outputs": [],
   "source": [
    "IDs = []"
   ]
  },
  {
   "cell_type": "code",
   "execution_count": 14,
   "id": "9f24845c",
   "metadata": {},
   "outputs": [
    {
     "name": "stdout",
     "output_type": "stream",
     "text": [
      "recY27BdypFx0YT3R https://jobs.lever.co/appen-2/539c5062-edd8-4cf8-88e4-46617a1cc38c\n",
      "reczKLp1I5SNonwto https://jobs.dropbox.com/listing/4142655\n",
      "recU1EZluZNLhuNXi https://jobs.dropbox.com/listing/5083785\n",
      "recXnDb8C1i6CqaXT https://walmart.wd5.myworkdayjobs.com/en-US/WalmartExternal/job/Seattle-WA/Search-Performance-Specialist---Manager-I--Business-Analysis-And-Insights--eComm---Sam-s-Club-MAP_R-1529767?locationCountry=bc33aa3152ec42d4995f4791a106ed09&locationRegionStateProvince=de9b48948ef8421db97ddf4ea206e931&timeType=b181d8271e36017533d4ca68eee44f00\n",
      "recYij4JuB68080Ho https://deako.breezy.hr/p/0b5ad2f76c3e-data-engineer-ii?source=directemployers\n",
      "recIZrJOb2pHs7GMN https://boards.greenhouse.io/smithrx/jobs/6635076002\n",
      "recphErzBK2SzHsqu https://boards.greenhouse.io/smithrx/jobs/6590922002\n",
      "rechz0aUnAy0inBrw https://boards.greenhouse.io/smithrx/jobs/6693637002\n",
      "recl6H3Oqyiw43rS1 https://careers.remitly.com/job-details/?jobid=5057818\n",
      "recUjoBE0BLDoauzC https://millerknoll.wd1.myworkdayjobs.com/MillerKnoll/job/US---Remote/Product-Data-Analyst_JR101854\n",
      "recU8MIDF7BN0tz7F https://careers.unity.com/position?id=5055221\n",
      "rec5adHKkV1C4aDpa https://boards.greenhouse.io/niantic/jobs/6588975002\n",
      "recZ7TpwpTlbiz6J5 https://www.flexport.com/careers/job/5031195/\n",
      "recV49Zz5zINy1RDV https://stripe.com/jobs/listing/data-scientist-payments-ml-accelerator/5046343\n",
      "recDuWF8zySeFOYmA https://zillowgroup.eightfold.ai/careers/job?domain=zillowgroup.com&query=*&pid=240534491074&sort_by=relevance\n",
      "reccDu7GDmkNJKXrV https://jobs.smartrecruiters.com/Square/743999910145778\n",
      "reck4J8q57VoPQVSd https://careers.google.com/jobs/results/106891831649673926/\n",
      "recztqUV99L64J8gt https://walmart.wd5.myworkdayjobs.com/en-US/WalmartExternal/job/Bentonville-AR/XMLNAME--USA--Senior-Data-Scientist---Marketplace-Analytics_R-1440660-1?timeType=b181d8271e36017533d4ca68eee44f00&locationCountry=bc33aa3152ec42d4995f4791a106ed09&locationRegionStateProvince=de9b48948ef8421db97ddf4ea206e931&jobFamilyGroup=e83ebdbd2a0a01e7e1477a8948e904c6&jobFamilyGroup=e83ebdbd2a0a01af0185848948e94dc6\n",
      "recVCjioM7e9h5kO6 https://jobs.ashbyhq.com/machinify/4cb4702b-7a50-4fff-a840-cb20fe030900\n",
      "rec6PjtqQGqMnxM1k https://jobs.polymer.co/hume-ai/27679\n",
      "rec9e462NMGoS5bdy https://jobs.smartrecruiters.com/Square/743999908071518\n",
      "recZ3cWHitKF3Tjm8 https://jobs.lever.co/valdera/e1abc8a4-6823-4d5e-a2d0-b5d42940333d\n",
      "reckeuFf428kr7GyT https://boards.greenhouse.io/logikcull/jobs/4237167006\n",
      "rec2nFGQw6kXfOCMp https://careers.docusign.com/jobs/22059\n",
      "rec0xP6BqLLqveZiC https://goto.wd5.myworkdayjobs.com/GoToCareers/job/Remote-US/Senior-Business-Intelligence-Analyst_R23-1187?source=LinkedIn\n",
      "recMz6St2JiL4XB3J https://boards.greenhouse.io/wisetack/jobs/4053729005\n",
      "recnnWi1oLhy1razE https://jobs.lever.co/pachama/bc48a4a8-d48c-4d81-acf4-39ec99e327f7\n",
      "rect4c3JmAaCWWjEN https://pryon.applytojob.com/apply/Bz0Ax8eqPr/Machine-Learning-Engineer-Platform\n",
      "rec9tNEF8A0KGQwhB https://www.workatastartup.com/jobs/59772\n",
      "recPDm6f9QDO2JOv5 https://russell.wd5.myworkdayjobs.com/russellinvestments/job/Seattle/Business-Intelligence-Data-Analytics-Manager_R-01742\n",
      "recd1nFCrb6qlJzh9 https://ae.studio/jobs/4011756004/data-scientist\n",
      "recdQ08VPpip3vSlN https://www.linkedin.com/jobs/view/3577072864/?eBP=JOB_SEARCH_ORGANIC&refId=jhIbEmFa0mlwx6BEXM6BIA%3D%3D&trackingId=X1LbOtty%2BFlOaq2WTjYnpg%3D%3D&trk=flagship3_search_srp_jobs\n",
      "recZDITTRcnN23TgW https://www.ordergroove.com/jobs/?gh_jid=6576184002\n",
      "recgDYpVN7szZdeNO https://jobs.jobvite.com/franklinenergy/job/o3XWmfw2#\n",
      "reckaQktsuzq2tGHZ https://www.yelp.careers/us/en/job/5238/Senior-Software-Engineer-Machine-Learning-Ads-Remote\n",
      "recXad57lNpea0d7K https://recroom.com/careers?gh_jid=5581400003\n",
      "recInEUyEOzvWfkjN https://jobs.apple.com/en-us/details/200470953/aiml-sr-machine-learning-engineer-machine-learning-platform-technology-mlpt?team=MLAI\n",
      "recFFrqOKM37K3Asz https://jobs.apple.com/en-us/details/200459999/aiml-software-engineer-in-ml-siri-and-information-intelligence?team=MLAI\n",
      "recXx1yZjVN7LAnOZ https://careers.ancestry.com/jobs/561b24d0-0fec-452b-9d62-d42c8ef574ff\n",
      "recGiYudMDx5YOwA8 https://boards.greenhouse.io/yipitdatajobs/jobs/5004223\n",
      "recOzrov5FRSWeLkl https://jobs.smartrecruiters.com/Wish/743999900693003\n",
      "rechYVij87HMxh8zD https://boards.greenhouse.io/upstreamcare/jobs/4070705006\n",
      "recWdd0laKUOODxlf https://saiva.ai/company/careers/\n",
      "recQa6TNpUw5uAl2P https://apply.workable.com/soona/j/7AF421CD85\n",
      "rectrVvX7KFnqubBN https://gc.com/home/careers-job-postings?gh_jid=4984572&gh_src=3dfd0c091us\n",
      "rec2atpS4a1AV7TpZ https://www.workatastartup.com/jobs/57221\n",
      "recU6UYkqRb74ea8S https://jobs.lever.co/rescale/57b5bc81-ee75-4a30-a763-3eb8dd595165\n",
      "recLVhZix14FNJ6oe https://apply.workable.com/athletic-greens-hiring/j/DB79678A30/?utm_source=remote_rocketship&ref=remote_rocketship\n",
      "reccdSfRzmdfbryl4 https://boards.greenhouse.io/genomenoninc/jobs/4025500006?utm_source=remote_rocketship&ref=remote_rocketship\n",
      "recdWq1oXwJSHSm0I https://careers.mathematica.org/job/seattle/senior-data-engineer-data-analytics-remote-eligible/727/47056394144\n",
      "recXvxHDf57x9MBFF https://careers.mathematica.org/job/seattle/sr-business-intelligence-analyst-remote-eligible/727/46402918848\n",
      "recvbbNDbkcCVY9hV https://jobs.bytedance.com/referral/pc/position/7177116003691628855/detail?token=NTsxNjc4NTg4MzUyOTUyOzY5NDQ3MzkwMTgyMjMzODgxOTc7NzIwOTQ4MTczMTkzMjUwNjQyNQ\n",
      "recwj6ivQQGXYQTuy https://talent.alibaba.com/en/off-campus/position-detail?lang=en&positionId=846634&track_id=SSP1681079218973YbGsrLhYTt4490\n",
      "recXEvaHc38LGwW2u https://boards.greenhouse.io/moonpay/jobs/5524034003?source=LinkedIn\n",
      "recApwF2iVtAhBSFn https://boards.greenhouse.io/flashbots/jobs/4188073005?utm_source=remote_rocketship&ref=remote_rocketship\n",
      "rec8hiuAmXaE2jovS https://starbucks.taleo.net/careersection/1000222/jobdetail.ftl?job=230010417&lang=en&src=JB-12147\n",
      "rec7wJ9zOhsjl92AD https://apply.workable.com/bitquery/j/4BD2495667/\n",
      "recKIRaPT7TUuldB7 https://sunbit.com/careers/?job=F6.634\n",
      "recW3Daksx1NROQix https://jobs.lever.co/pathpoint/1bc33053-3f4a-464e-8295-56da095fc489\n",
      "rec341XJZbssP48mW https://jobs.lever.co/limitbreak/e16ad8b4-d3af-441e-9920-ecf6791b68a0\n",
      "recc2gPeK4snZCRIU https://jobs.lever.co/lucidworks/62fdec2d-3113-4b60-86f5-68c305198c0c\n",
      "recu6YbJ1f55nabdQ https://jobs.lever.co/RivetLabs/7155f064-deda-407b-b984-8ea51aa252fa\n",
      "rec40MbMV3JVaeoSN https://jobs.lever.co/space-time/a477c24d-21fb-4d59-b4c9-209aea474c95\n",
      "recxxNe8CD9mU9wU1 https://jobs.lever.co/givebutter/75ed2d3e-c2cb-4b49-ad41-1f0eeb643280\n",
      "recVE93yfJSTGuOKB https://jobs.lever.co/concurrency/843369f1-42d8-4f16-8190-6f7716055242\n",
      "recHogYKpggh9vgAw https://www.metacareers.com/v2/jobs/3062482114066459/\n",
      "recjZJcpvHHKHC5yr https://boards.greenhouse.io/goodwaygroup/jobs/4834193004\n",
      "recQnkBNRFgBnOXBg https://boards.greenhouse.io/headway/jobs/4712602004\n",
      "reczRLQx35ctL9cqf https://jobs.lever.co/vida/6519d7cb-cc11-4523-82f2-acb7bb6d5769\n",
      "recDRIp6OfsDzUe4L https://jobs.lever.co/assurance/523b52a1-8d84-4faf-8a99-53370c937e8f?ittk=R3YWLK6MZQ\n",
      "recWbbjjEorOX5FP9 https://careers.elevancehealth.com/jobs/jr29138/data-science-solution-consultant/\n",
      "reczwG51r3TKA7kIt https://www.laurel.ai/jobs?gh_jid=6634636002\n",
      "recMU66CmGavXxZ96 https://jobs.lever.co/Xpansiv%20/35b67ff2-f9b4-4a01-8a31-93c086a923a6\n",
      "recgT4LdB2KW40IM0 https://jobs.lever.co/Mediafly/a1995d73-980a-4c5a-9f1f-5f75d41f50f7\n",
      "recoTP9kORoQHUc47 https://boards.greenhouse.io/lumos/jobs/5519234003\n",
      "recXW815fCVlUBwqU https://www.allstate.jobs/job/17790951/data-analytics-engineer-cons-ii-remote/?utm_campaign=google_jobs_apply&utm_source=google_jobs_apply&utm_medium=organic\n",
      "recxe2leY9I3sPail https://boards.greenhouse.io/addepar1/jobs/6231223002?t=31a4a9852\n",
      "recheCTF5UtuUXIjv https://jobs.lever.co/covergenius/e40d7933-f14d-4046-9935-0e85f7d3e209\n",
      "recmmAJAp5J3nPKTw https://apply.workable.com/within3/j/7E2BABB05C/\n",
      "recvE10xunPZUhwcz https://phf.tbe.taleo.net/phf02/ats/careers/v2/viewRequisition?org=COSTCO&cws=41&rid=6956\n",
      "recrBIcTr2IDxODcE https://careers.adobe.com/us/en/job/R136655/Professional-Services-Operations-Analyst\n",
      "recc43mSMjEfczEiy https://careers.adobe.com/us/en/job/ADOBUSR136214EXTERNALENUS/Product-Manager?utm_source=linkedin&utm_medium=phenom-feeds&source=LinkedIn\n",
      "recACeL0QX9Ujs4JB https://recruiting.paylocity.com/Recruiting/Jobs/Details/1536188\n",
      "recqSUQIqH8nyyLAU https://boards.greenhouse.io/amperity/jobs/4867764\n"
     ]
    },
    {
     "name": "stdout",
     "output_type": "stream",
     "text": [
      "recRDxqZuPQjT43II https://venturewell.org/careers/?gh_jid=6492916002\n",
      "recpA56qT6T0Tr9MP https://jobs.ashbyhq.com/notable/435f45cc-7a41-4c3c-9495-3b2f03f92aeb?locationId=974be208-b5b0-42a8-943f-0aee5d4f4f09\n",
      "recLjH0V0gUZ47MR2 https://www.tempus.com/about-us/careers/job/?gh_jid=6628085002\n",
      "rec4pUcg1zo137KWz https://boards.greenhouse.io/enova/jobs/3244278\n",
      "recVFtkxZCuT3oxdO https://www.linkedin.com/jobs/view/3529814774/?eBP=JOB_SEARCH_ORGANIC&recommendedFlavor=COMPANY_RECRUIT&refId=xpTLAxOfl6uL6iHAHRQNiQ%3D%3D&trackingId=k6tiWQvAsl%2FX8GCRF0iTUg%3D%3D&trk=flagship3_search_srp_jobs\n",
      "recOMaoSGIp98D1Hv https://boards.greenhouse.io/embed/job_app?for=livecareer&token=4831140\n",
      "recrdSlh1kInHPfkX https://jobs.jobvite.com/evgo/job/ow1Imfwl?__jvst=Job%20Board&__jvsd=LinkedIn\n",
      "recwl4bHSfRtu7pEO https://jobs.ashbyhq.com/ironcladhq/4c94996e-b2a0-4a89-83f6-659baa114f75?locationId=09239317-9ba3-4cf1-9a02-fc9ffef04fdc&ref=remote_rocketship&utm_source=remote_rocketship\n",
      "recuonYLKYwsD7vZR https://believer.gg/jobs/9aab7178-7b9b-4e89-9f9d-49242969d160/\n",
      "reccEo9eGAEg5lsyT https://jobs.lever.co/ecocart/747e9fe4-b517-45c6-9ac7-ad1363051033\n",
      "94\n"
     ]
    }
   ],
   "source": [
    "counter = 0\n",
    "# for records in table.iterate(page_size=10, max_records=1000):\n",
    "for record in table:\n",
    "#     for record in records:        \n",
    "        if record['fields']['Status'] == 'Not Applied':\n",
    "            title = record['fields']['Job']\n",
    "            ID = record['id']\n",
    "            url = record['fields']['Link']\n",
    "            if check_status(ID,url) is False and ID not in IDs:\n",
    "                IDs.append(ID)\n",
    "                print(ID,url)\n",
    "                counter +=1\n",
    "print(counter)"
   ]
  },
  {
   "cell_type": "code",
   "execution_count": null,
   "id": "146258b2",
   "metadata": {},
   "outputs": [],
   "source": [
    "len(IDs)"
   ]
  },
  {
   "cell_type": "code",
   "execution_count": null,
   "id": "510b6357",
   "metadata": {
    "scrolled": false
   },
   "outputs": [],
   "source": [
    "def update_to_NA(ID):\n",
    "    table.update(ID, {\"Status\": 'No longer active'})"
   ]
  },
  {
   "cell_type": "code",
   "execution_count": null,
   "id": "0f6458a8",
   "metadata": {},
   "outputs": [],
   "source": [
    "update_to_NA('recNrkw17z3GURSS3') "
   ]
  }
 ],
 "metadata": {
  "kernelspec": {
   "display_name": "Python 3 (ipykernel)",
   "language": "python",
   "name": "python3"
  },
  "language_info": {
   "codemirror_mode": {
    "name": "ipython",
    "version": 3
   },
   "file_extension": ".py",
   "mimetype": "text/x-python",
   "name": "python",
   "nbconvert_exporter": "python",
   "pygments_lexer": "ipython3",
   "version": "3.10.0"
  }
 },
 "nbformat": 4,
 "nbformat_minor": 5
}
