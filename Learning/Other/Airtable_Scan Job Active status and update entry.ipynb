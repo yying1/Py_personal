{
 "cells": [
  {
   "cell_type": "markdown",
   "id": "3f732c09",
   "metadata": {},
   "source": [
    "# Visit job links and scan for their titles to confirm availability\n",
    "Last Updated on 2023-04-07"
   ]
  },
  {
   "cell_type": "code",
   "execution_count": null,
   "id": "5f0b1422",
   "metadata": {},
   "outputs": [],
   "source": [
    "# install package: pip3 install pyairtable\n",
    "import os\n",
    "from dotenv import load_dotenv\n",
    "from pyairtable import Api, Base, Table\n",
    "from pyairtable.formulas import match\n",
    "import pandas as pd\n",
    "import requests\n",
    "from urllib.request import Request, urlopen\n",
    "from bs4 import BeautifulSoup\n",
    "import re\n",
    "HEADERS = ({'User-Agent':'Mozilla/5.0 (Windows NT 10.0; Win64; x64) \\AppleWebKit/537.36 (KHTML, like Gecko) \\Chrome/90.0.4430.212 Safari/537.36','Accept-Language': 'en-US, en;q=0.5'})"
   ]
  },
  {
   "cell_type": "code",
   "execution_count": null,
   "id": "9716fed6",
   "metadata": {},
   "outputs": [],
   "source": [
    "# functions to retrieve job posting data\n",
    "def get_soup(url,HEADERS):\n",
    "    r = requests.get(url, headers=HEADERS).text\n",
    "#     soup = BeautifulSoup(r, 'html.parser')\n",
    "    soup = BeautifulSoup(r, 'lxml')\n",
    "    return soup"
   ]
  },
  {
   "cell_type": "code",
   "execution_count": null,
   "id": "fafa26e2",
   "metadata": {},
   "outputs": [],
   "source": [
    "# load environment file and variables\n",
    "load_dotenv(\"airtable.env\")\n",
    "AIRTABLE_TOKEN = os.getenv(\"Airtable_token\")\n",
    "AIRTABLE_BASE_ID = os.getenv(\"Airtable_ft_base_id\")"
   ]
  },
  {
   "cell_type": "code",
   "execution_count": null,
   "id": "39cd8f9d",
   "metadata": {},
   "outputs": [],
   "source": [
    "table = Table(AIRTABLE_TOKEN, AIRTABLE_BASE_ID, 'Jobs-2023')"
   ]
  },
  {
   "cell_type": "code",
   "execution_count": null,
   "id": "d132fd9e",
   "metadata": {},
   "outputs": [],
   "source": [
    "def check_status(title,url):\n",
    "    soup= get_soup(url,HEADERS)\n",
    "    # search for job title in the posting data to determine it's availability\n",
    "#     pattern = re.compile(title)\n",
    "    if soup.find(text=title) or title in str(soup):\n",
    "        return True\n",
    "    else:\n",
    "        return False"
   ]
  },
  {
   "cell_type": "code",
   "execution_count": null,
   "id": "c3c34504",
   "metadata": {},
   "outputs": [],
   "source": [
    "IDs = []"
   ]
  },
  {
   "cell_type": "code",
   "execution_count": null,
   "id": "9f24845c",
   "metadata": {},
   "outputs": [],
   "source": [
    "counter = 0\n",
    "for records in table.iterate(page_size=10, max_records=1000):\n",
    "    for record in records:        \n",
    "        if record['fields']['Status'] == 'Not Applied':\n",
    "            title = record['fields']['Job']\n",
    "            ID = record['id']\n",
    "            url = record['fields']['Link']\n",
    "            if check_status(ID,url) is False and ID not in IDs:\n",
    "                IDs.append(ID)\n",
    "                print(ID,url)\n",
    "                counter +=1\n",
    "print(counter)"
   ]
  },
  {
   "cell_type": "code",
   "execution_count": null,
   "id": "146258b2",
   "metadata": {},
   "outputs": [],
   "source": [
    "len(IDs)"
   ]
  },
  {
   "cell_type": "code",
   "execution_count": null,
   "id": "510b6357",
   "metadata": {
    "scrolled": false
   },
   "outputs": [],
   "source": [
    "def update_to_NA(ID):\n",
    "    table.update(ID, {\"Status\": 'No longer active'})"
   ]
  },
  {
   "cell_type": "code",
   "execution_count": null,
   "id": "0f6458a8",
   "metadata": {},
   "outputs": [],
   "source": [
    "update_to_NA('recNrkw17z3GURSS3') "
   ]
  }
 ],
 "metadata": {
  "kernelspec": {
   "display_name": "Python 3 (ipykernel)",
   "language": "python",
   "name": "python3"
  },
  "language_info": {
   "codemirror_mode": {
    "name": "ipython",
    "version": 3
   },
   "file_extension": ".py",
   "mimetype": "text/x-python",
   "name": "python",
   "nbconvert_exporter": "python",
   "pygments_lexer": "ipython3",
   "version": "3.10.0"
  }
 },
 "nbformat": 4,
 "nbformat_minor": 5
}
