{
 "cells": [
  {
   "cell_type": "markdown",
   "id": "e6f738cf",
   "metadata": {},
   "source": [
    "# Using Python to Interact with Google Sheet\n",
    "\n",
    "## References:\n",
    "1. Quick Intro: https://www.analyticsvidhya.com/blog/2020/07/read-and-update-google-spreadsheets-with-python/\n",
    "2. Official Document: https://developers.google.com/sheets/api/quickstart/python?hl=en_US\n",
    "---"
   ]
  },
  {
   "cell_type": "code",
   "execution_count": 1,
   "id": "c2f49a8f",
   "metadata": {},
   "outputs": [],
   "source": [
    "# import neccessary packages\n",
    "import os\n",
    "import pandas as pd\n",
    "from oauth2client.service_account import ServiceAccountCredentials\n",
    "from googleapiclient.discovery import build\n",
    "from dotenv import load_dotenv\n",
    "from google_auth_oauthlib.flow import InstalledAppFlow"
   ]
  },
  {
   "cell_type": "code",
   "execution_count": 2,
   "id": "996f7d21",
   "metadata": {},
   "outputs": [],
   "source": [
    "SCOPES = ['https://spreadsheets.google.com/feeds','https://www.googleapis.com/auth/drive']"
   ]
  },
  {
   "cell_type": "code",
   "execution_count": 4,
   "id": "bbbed75c",
   "metadata": {},
   "outputs": [],
   "source": [
    "creds = ServiceAccountCredentials.from_json_keyfile_name(\"../gsheet-service-credentials.json\", SCOPES)"
   ]
  },
  {
   "cell_type": "markdown",
   "id": "298f7fa7",
   "metadata": {},
   "source": [
    "### Google Sheet Official API\n",
    "https://developers.google.com/sheets/api/quickstart/python?hl=en_US"
   ]
  },
  {
   "cell_type": "code",
   "execution_count": 10,
   "id": "d5541ea7",
   "metadata": {},
   "outputs": [],
   "source": [
    "# The ID and range of a sample spreadsheet.\n",
    "SAMPLE_SPREADSHEET_ID = '1_T7jeMUt4RLVQcCEauILTnWSgbYtTIYI0Saqri3HPTk'\n",
    "SAMPLE_RANGE_NAME = 'Sheet1!A:C'\n",
    "\n",
    "service = build('sheets', 'v4', credentials=creds)"
   ]
  },
  {
   "cell_type": "code",
   "execution_count": 18,
   "id": "e8edcd59",
   "metadata": {},
   "outputs": [
    {
     "data": {
      "text/plain": [
       "[['Name', 'Note', 'Count'],\n",
       " ['Frank', 'Test API', '100'],\n",
       " ['', '', '101'],\n",
       " ['', '', '102'],\n",
       " ['', '', '103']]"
      ]
     },
     "execution_count": 18,
     "metadata": {},
     "output_type": "execute_result"
    }
   ],
   "source": [
    "# Show spreadsheet values\n",
    "sheet = service.spreadsheets()\n",
    "result = sheet.values().get(spreadsheetId=SAMPLE_SPREADSHEET_ID,range=SAMPLE_RANGE_NAME).execute()\n",
    "values = result.get('values', [])\n",
    "values"
   ]
  },
  {
   "cell_type": "code",
   "execution_count": 19,
   "id": "edd690d3",
   "metadata": {},
   "outputs": [],
   "source": [
    "# Update Cell A2:C5 with different values\n",
    "# Reference: https://developers.google.com/sheets/api/guides/values\n",
    "\n",
    "# The A1 notation of the values to update.\n",
    "range_ = 'Sheet1!A2:C5'  # TODO: Update placeholder value.\n",
    "\n",
    "# How the input data should be interpreted.\n",
    "value_input_option = 'RAW'  # TODO: Update placeholder value.\n",
    "\n",
    "values = [\n",
    "    ['Frank','Test API',100],['Frank','Test API 1',101],['Frank','Test API 2',102],['Frank','Test API 3',103]\n",
    "    # Additional rows ...\n",
    "]\n",
    "\n",
    "value_range_body = {\n",
    "    'values':values\n",
    "}\n",
    "\n",
    "request = service.spreadsheets().values().update(spreadsheetId=SAMPLE_SPREADSHEET_ID, range=range_, valueInputOption=value_input_option, body=value_range_body)\n",
    "response = request.execute()"
   ]
  }
 ],
 "metadata": {
  "kernelspec": {
   "display_name": "Python 3 (ipykernel)",
   "language": "python",
   "name": "python3"
  },
  "language_info": {
   "codemirror_mode": {
    "name": "ipython",
    "version": 3
   },
   "file_extension": ".py",
   "mimetype": "text/x-python",
   "name": "python",
   "nbconvert_exporter": "python",
   "pygments_lexer": "ipython3",
   "version": "3.10.0"
  }
 },
 "nbformat": 4,
 "nbformat_minor": 5
}
