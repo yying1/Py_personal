{
 "cells": [
  {
   "cell_type": "markdown",
   "id": "f5059d6c",
   "metadata": {},
   "source": [
    "# Connect with Google Drive service\n",
    "https://developers.google.com/drive/api/guides/search-files\n",
    "\n",
    "Need to share google folder with the client email: google-drive-api@###gserviceaccount.com"
   ]
  },
  {
   "cell_type": "code",
   "execution_count": null,
   "id": "11728751",
   "metadata": {},
   "outputs": [],
   "source": [
    "# import neccessary packages\n",
    "import os\n",
    "import io\n",
    "import pandas as pd\n",
    "from dotenv import load_dotenv\n",
    "from oauth2client.service_account import ServiceAccountCredentials\n",
    "from googleapiclient.discovery import build\n",
    "from googleapiclient.errors import HttpError\n",
    "from googleapiclient.http import MediaIoBaseDownload"
   ]
  },
  {
   "cell_type": "code",
   "execution_count": null,
   "id": "1c97fa61",
   "metadata": {},
   "outputs": [],
   "source": [
    "SCOPES = ['https://www.googleapis.com/auth/drive']\n",
    "creds = ServiceAccountCredentials.from_json_keyfile_name(\"../../../gsheet-service-credentials.json\", SCOPES)\n",
    "service = build('drive', 'v3', credentials=creds)"
   ]
  },
  {
   "cell_type": "code",
   "execution_count": null,
   "id": "d4f6ec4b",
   "metadata": {},
   "outputs": [],
   "source": [
    "resource = service.files()\n",
    "result = resource.list(pageSize=5, fields=\"files(id, name)\",q=\"mimeType = 'application/vnd.google-apps.folder'\").execute()"
   ]
  },
  {
   "cell_type": "code",
   "execution_count": null,
   "id": "c951d2e6",
   "metadata": {},
   "outputs": [],
   "source": [
    "PUD_folder_id = [x['id'] for x in result['files'] if x['name'] == 'Phone Usage Data'][0]"
   ]
  },
  {
   "cell_type": "code",
   "execution_count": null,
   "id": "090999c3",
   "metadata": {},
   "outputs": [],
   "source": [
    "file_list = resource.list( fields=\"files(id, name)\",q=\"name contains 'V4_Usage'\").execute()"
   ]
  },
  {
   "cell_type": "code",
   "execution_count": null,
   "id": "1ad8e844",
   "metadata": {},
   "outputs": [],
   "source": [
    "from datetime import datetime\n",
    "def build_usage_df(df, file_content):\n",
    "    start = False\n",
    "    access_count = 0\n",
    "    num_apps = 0\n",
    "    for i in file_content:\n",
    "        if start == True and i == '\"\"':\n",
    "            start = False\n",
    "            break\n",
    "        elif start == True:\n",
    "            items = i.split(\",\")\n",
    "            num_apps+=1\n",
    "            access_count+= int(items[-1].replace('\"', ''))\n",
    "        elif start == False and \"Access count\" in i:\n",
    "            start = True\n",
    "    usage_index = 1 + [i for i in range(1,len(file_content)) if \"Usage time\" in file_content[i]][0]\n",
    "    date = datetime.strptime(file_content[usage_index].split(\",\")[0].replace('\"', ''), '%m/%d/%y')\n",
    "    usage_list = file_content[usage_index].split(\",\")[1].split(\":\")\n",
    "    usage = int(usage_list[0].replace('\"', ''))*60*60+int(usage_list[1].replace('\"', ''))*60+int(usage_list[2].replace('\"', ''))\n",
    "    df = pd.concat([df, pd.DataFrame.from_records([{'Date' : date, 'Usage Time' : usage, 'Access Count' : access_count,'Number of Apps':num_apps}])],ignore_index=True)\n",
    "    return df"
   ]
  },
  {
   "cell_type": "code",
   "execution_count": null,
   "id": "4902fce4",
   "metadata": {},
   "outputs": [],
   "source": [
    "df_usage = pd.DataFrame(columns = ['Date', 'Usage Time', 'Access Count', 'Number of Apps'])\n",
    "for file in file_list['files']:\n",
    "    request  = service.files().get_media(fileId=file['id'])\n",
    "    file = io.BytesIO()\n",
    "    downloader = MediaIoBaseDownload(file, request)\n",
    "    done = False\n",
    "    while done is False:\n",
    "        status, done = downloader.next_chunk()\n",
    "    file_content = str( file.getvalue(), 'UTF-8')\n",
    "    file_content = file_content.split(\"\\n\")\n",
    "    df_usage = build_usage_df(df_usage,file_content)"
   ]
  },
  {
   "cell_type": "code",
   "execution_count": null,
   "id": "fbe274e4",
   "metadata": {},
   "outputs": [],
   "source": [
    "df_usage"
   ]
  },
  {
   "cell_type": "code",
   "execution_count": null,
   "id": "d62174bf",
   "metadata": {},
   "outputs": [],
   "source": []
  }
 ],
 "metadata": {
  "kernelspec": {
   "display_name": "Python 3 (ipykernel)",
   "language": "python",
   "name": "python3"
  },
  "language_info": {
   "codemirror_mode": {
    "name": "ipython",
    "version": 3
   },
   "file_extension": ".py",
   "mimetype": "text/x-python",
   "name": "python",
   "nbconvert_exporter": "python",
   "pygments_lexer": "ipython3",
   "version": "3.10.0"
  }
 },
 "nbformat": 4,
 "nbformat_minor": 5
}
