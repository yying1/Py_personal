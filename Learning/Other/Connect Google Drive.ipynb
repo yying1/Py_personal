{
 "cells": [
  {
   "cell_type": "markdown",
   "id": "f5059d6c",
   "metadata": {},
   "source": [
    "# Connect with Google Drive service\n",
    "https://developers.google.com/drive/api/guides/search-files\n",
    "\n",
    "Need to share google folder with the client email: google-drive-api@frist-project-353113.iam.gserviceaccount.com"
   ]
  },
  {
   "cell_type": "code",
   "execution_count": null,
   "id": "11728751",
   "metadata": {},
   "outputs": [],
   "source": [
    "# import neccessary packages\n",
    "import os\n",
    "import pandas as pd\n",
    "from dotenv import load_dotenv\n",
    "from oauth2client.service_account import ServiceAccountCredentials\n",
    "from googleapiclient.discovery import build\n",
    "from googleapiclient.errors import HttpError"
   ]
  },
  {
   "cell_type": "code",
   "execution_count": null,
   "id": "1c97fa61",
   "metadata": {},
   "outputs": [],
   "source": [
    "SCOPES = ['https://www.googleapis.com/auth/drive']\n",
    "creds = ServiceAccountCredentials.from_json_keyfile_name(\"../../../gsheet-service-credentials.json\", SCOPES)\n",
    "service = build('drive', 'v3', credentials=creds)"
   ]
  },
  {
   "cell_type": "code",
   "execution_count": null,
   "id": "d4f6ec4b",
   "metadata": {},
   "outputs": [],
   "source": [
    "resource = service.files()\n",
    "result = resource.list(pageSize=5, fields=\"files(id, name)\",q=\"mimeType = 'application/vnd.google-apps.folder'\").execute()"
   ]
  },
  {
   "cell_type": "code",
   "execution_count": null,
   "id": "c951d2e6",
   "metadata": {},
   "outputs": [],
   "source": [
    "PUD_folder_id = [x['id'] for x in result['files'] if x['name'] == 'Phone Usage Data'][0]"
   ]
  },
  {
   "cell_type": "code",
   "execution_count": null,
   "id": "090999c3",
   "metadata": {},
   "outputs": [],
   "source": [
    "resource.list( fields=\"files(id, name)\",q=\"name contains 'V4_Usage'\").execute()"
   ]
  },
  {
   "cell_type": "code",
   "execution_count": null,
   "id": "e2d47a32",
   "metadata": {},
   "outputs": [],
   "source": []
  }
 ],
 "metadata": {
  "kernelspec": {
   "display_name": "Python 3 (ipykernel)",
   "language": "python",
   "name": "python3"
  },
  "language_info": {
   "codemirror_mode": {
    "name": "ipython",
    "version": 3
   },
   "file_extension": ".py",
   "mimetype": "text/x-python",
   "name": "python",
   "nbconvert_exporter": "python",
   "pygments_lexer": "ipython3",
   "version": "3.10.0"
  }
 },
 "nbformat": 4,
 "nbformat_minor": 5
}
