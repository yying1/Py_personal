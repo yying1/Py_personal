{
 "cells": [
  {
   "cell_type": "code",
   "execution_count": 30,
   "metadata": {},
   "outputs": [],
   "source": [
    "from selenium import webdriver\n",
    "from selenium.webdriver.firefox.firefox_binary import FirefoxBinary"
   ]
  },
  {
   "cell_type": "code",
   "execution_count": 31,
   "metadata": {},
   "outputs": [],
   "source": [
    "#This make sure that selenium 3 (marionette) works with the latest firefox browser\n",
    "caps = webdriver.DesiredCapabilities().FIREFOX\n",
    "caps[\"marionette\"] = True\n",
    "#This direct to firefox local executable\n",
    "binary = FirefoxBinary(r\"C:\\Program Files\\Mozilla Firefox\\firefox.exe\")"
   ]
  },
  {
   "cell_type": "code",
   "execution_count": 37,
   "metadata": {},
   "outputs": [],
   "source": [
    "#Load firefox profile and cookies\n",
    "firefox_profile = webdriver.FirefoxProfile(r\"C:\\Users\\yingy\\AppData\\Roaming\\Mozilla\\Firefox\\Profiles\\ki90v2of.default-release\")"
   ]
  },
  {
   "cell_type": "code",
   "execution_count": 38,
   "metadata": {},
   "outputs": [],
   "source": [
    "#set download directory\n",
    "    # set download options\n",
    "download_path = r\"C:\\Users\\yingy\\Desktop\\Py_personal\"\n",
    "\n",
    "    # 0 means to download to the desktop, 1 means to download to the default \"Downloads\" directory, 2 means to use the directory\n",
    "firefox_profile.set_preference(\"browser.download.folderList\", 2)\n",
    "firefox_profile.set_preference(\"browser.download.dir\", download_path)\n",
    "firefox_profile.set_preference( \"browser.download.manager.showWhenStarting\", False)\n",
    "\n",
    "    # 设置自动保存的文件类型，如果firefox不能自动保存，一定是文件类型不对\n",
    "    # 对所给出文件类型不再弹出框进行询问\n",
    "firefox_profile.set_preference(\"browser.helperApps.neverAsk.saveToDisk\", 'application/pdf')\n",
    "    # '''\n",
    "    # 其他可选文件类型:\n",
    "    #     application/a-gzip\n",
    "    #     application/x-gzip,\n",
    "    #     application/zip,\n",
    "    #     application/x-gtar,\n",
    "    #     text/plain,\n",
    "    #     application/x-compressed,\n",
    "    #     application/octet-stream,\n",
    "    #     application/pdf\n",
    "    # '''\n",
    "firefox_profile.set_preference(\"browser.helperApps.alwaysAsk.force\", False)\n",
    "    #disable pdf browser\n",
    "firefox_profile.set_preference(\"pdfjs.disabled\", True)"
   ]
  },
  {
   "cell_type": "code",
   "execution_count": 39,
   "metadata": {},
   "outputs": [],
   "source": [
    "#Load Profile and cookies\n",
    "driver = webdriver.Firefox(firefox_profile, firefox_binary = binary, capabilities = caps)"
   ]
  },
  {
   "cell_type": "code",
   "execution_count": 40,
   "metadata": {},
   "outputs": [],
   "source": [
    "driver.get(\"https://ballard.amazon.com/owa/\")\n",
    "driver.maximize_window()"
   ]
  },
  {
   "cell_type": "code",
   "execution_count": 41,
   "metadata": {},
   "outputs": [],
   "source": [
    "driver.close()"
   ]
  }
 ],
 "metadata": {
  "kernelspec": {
   "display_name": "Python 3",
   "language": "python",
   "name": "python3"
  },
  "language_info": {
   "codemirror_mode": {
    "name": "ipython",
    "version": 3
   },
   "file_extension": ".py",
   "mimetype": "text/x-python",
   "name": "python",
   "nbconvert_exporter": "python",
   "pygments_lexer": "ipython3",
   "version": "3.7.2"
  }
 },
 "nbformat": 4,
 "nbformat_minor": 2
}
