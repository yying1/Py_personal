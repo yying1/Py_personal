{
 "cells": [
  {
   "cell_type": "markdown",
   "id": "e6f738cf",
   "metadata": {},
   "source": [
    "# Using Python to Interact with Google Sheet\n",
    "\n",
    "## References:\n",
    "1. Quick Intro: https://www.analyticsvidhya.com/blog/2020/07/read-and-update-google-spreadsheets-with-python/\n",
    "2. Official Document: https://developers.google.com/sheets/api/quickstart/python?hl=en_US\n",
    "---"
   ]
  },
  {
   "cell_type": "code",
   "execution_count": 23,
   "id": "c2f49a8f",
   "metadata": {},
   "outputs": [],
   "source": [
    "# import neccessary packages\n",
    "import gspread\n",
    "import os\n",
    "import pandas as pd\n",
    "from oauth2client.service_account import ServiceAccountCredentials\n",
    "from googleapiclient.discovery import build\n",
    "from dotenv import load_dotenv\n",
    "from google_auth_oauthlib.flow import InstalledAppFlow"
   ]
  },
  {
   "cell_type": "code",
   "execution_count": null,
   "id": "ecf7d000",
   "metadata": {},
   "outputs": [],
   "source": [
    "# load environment variabbles NO NEED\n",
    "## referenced from https://stackoverflow.com/questions/55961295/serviceaccountcredentials-from-json-keyfile-name-equivalent-for-remote-json\n",
    "\n",
    "#load_dotenv(\"googleAPI.env\")"
   ]
  },
  {
   "cell_type": "code",
   "execution_count": 8,
   "id": "996f7d21",
   "metadata": {},
   "outputs": [],
   "source": [
    "SCOPES = ['https://spreadsheets.google.com/feeds','https://www.googleapis.com/auth/drive']"
   ]
  },
  {
   "cell_type": "code",
   "execution_count": 18,
   "id": "bbbed75c",
   "metadata": {},
   "outputs": [],
   "source": [
    "creds = ServiceAccountCredentials.from_json_keyfile_name(\"C:\\\\Users\\\\yingy\\\\Desktop\\\\service-credentials.json\", SCOPES)\n",
    "# authorize the clientsheet \n",
    "client = gspread.authorize(creds)"
   ]
  },
  {
   "cell_type": "code",
   "execution_count": 21,
   "id": "5354db11",
   "metadata": {},
   "outputs": [],
   "source": [
    "# get the instance of the Spreadsheet\n",
    "sheet = client.open(\"Google API\")\n",
    "# get the first sheet of the Spreadsheet\n",
    "sheet_instance = sheet.get_worksheet(0)"
   ]
  },
  {
   "cell_type": "code",
   "execution_count": 22,
   "id": "278c7557",
   "metadata": {},
   "outputs": [
    {
     "data": {
      "text/plain": [
       "[{'Name': 'Frank', 'Note': 'test', 'Count': 2}]"
      ]
     },
     "execution_count": 22,
     "metadata": {},
     "output_type": "execute_result"
    }
   ],
   "source": [
    "# get all the records of the data\n",
    "records_data = sheet_instance.get_all_records()\n",
    "\n",
    "# view the data\n",
    "records_data"
   ]
  },
  {
   "cell_type": "markdown",
   "id": "298f7fa7",
   "metadata": {},
   "source": [
    "### Google Sheet Official API\n",
    "https://developers.google.com/sheets/api/quickstart/python?hl=en_US"
   ]
  },
  {
   "cell_type": "code",
   "execution_count": 30,
   "id": "d5541ea7",
   "metadata": {},
   "outputs": [],
   "source": [
    "# The ID and range of a sample spreadsheet.\n",
    "SAMPLE_SPREADSHEET_ID = '1hu0ct-e4bFn2YYJxoZENu7c6bMa42U5U_WW--BjGwb8'\n",
    "SAMPLE_RANGE_NAME = 'Sheet1!A:C'\n",
    "\n",
    "service = build('sheets', 'v4', credentials=creds)"
   ]
  },
  {
   "cell_type": "code",
   "execution_count": 31,
   "id": "e8edcd59",
   "metadata": {},
   "outputs": [],
   "source": [
    "sheet = service.spreadsheets()\n",
    "result = sheet.values().get(spreadsheetId=SAMPLE_SPREADSHEET_ID,range=SAMPLE_RANGE_NAME).execute()\n",
    "values = result.get('values', [])"
   ]
  },
  {
   "cell_type": "code",
   "execution_count": 32,
   "id": "f755ac56",
   "metadata": {},
   "outputs": [
    {
     "data": {
      "text/plain": [
       "[['Name', 'Note', 'Count'], ['Frank', 'test', '2']]"
      ]
     },
     "execution_count": 32,
     "metadata": {},
     "output_type": "execute_result"
    }
   ],
   "source": [
    "values"
   ]
  },
  {
   "cell_type": "code",
   "execution_count": null,
   "id": "9aa97524",
   "metadata": {},
   "outputs": [],
   "source": [
    "# Update Cell A2:C5 with different values\n",
    "# Reference: https://developers.google.com/sheets/api/guides/values\n",
    "\n",
    "# The A1 notation of the values to update.\n",
    "range_ = 'Sheet1!A2:C5'  # TODO: Update placeholder value.\n",
    "\n",
    "# How the input data should be interpreted.\n",
    "value_input_option = 'RAW'  # TODO: Update placeholder value.\n",
    "\n",
    "values = [\n",
    "    ['Frank','Test API',100],['Frank','Test API 1',101],['Frank','Test API 2',102],['Frank','Test API 3',103]\n",
    "    # Additional rows ...\n",
    "]\n",
    "\n",
    "value_range_body = {\n",
    "    'values':values\n",
    "}\n",
    "\n",
    "request = service.spreadsheets().values().update(spreadsheetId=SAMPLE_SPREADSHEET_ID, range=range_, valueInputOption=value_input_option, body=value_range_body)\n",
    "response = request.execute()"
   ]
  }
 ],
 "metadata": {
  "kernelspec": {
   "display_name": "Python 3 (ipykernel)",
   "language": "python",
   "name": "python3"
  },
  "language_info": {
   "codemirror_mode": {
    "name": "ipython",
    "version": 3
   },
   "file_extension": ".py",
   "mimetype": "text/x-python",
   "name": "python",
   "nbconvert_exporter": "python",
   "pygments_lexer": "ipython3",
   "version": "3.8.9"
  }
 },
 "nbformat": 4,
 "nbformat_minor": 5
}
