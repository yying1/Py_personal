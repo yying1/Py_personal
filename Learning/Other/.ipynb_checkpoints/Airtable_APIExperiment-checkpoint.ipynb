{
 "cells": [
  {
   "cell_type": "markdown",
   "id": "36c23630",
   "metadata": {},
   "source": [
    "# Experiment with Airtable API for Customer Attribute Data"
   ]
  },
  {
   "cell_type": "markdown",
   "id": "52501065",
   "metadata": {},
   "source": [
    "### References\n",
    "1. Official Airtable API documentaton: https://pyairtable.readthedocs.io/en/latest/api.html\n",
    "2. Trying to update records in this Airtable: https://airtable.com/appmXyL6SgDHLb8qw/tblKqw3COjPrmxKxL/viwbsj1dPkuLBTVdJ?blocks=hide\n",
    "---"
   ]
  },
  {
   "cell_type": "code",
   "execution_count": null,
   "id": "f6c9cd8d",
   "metadata": {},
   "outputs": [],
   "source": [
    "# install package: pip3 install pyairtable\n",
    "import os\n",
    "from dotenv import load_dotenv\n",
    "from pyairtable import Api, Base, Table\n",
    "from pyairtable.formulas import match\n",
    "import pandas as pd"
   ]
  },
  {
   "cell_type": "code",
   "execution_count": null,
   "id": "2cb131d9",
   "metadata": {},
   "outputs": [],
   "source": [
    "# load environment file and variables\n",
    "load_dotenv(\"../airtable.env\")\n",
    "AIRTABLE_TOKEN = os.getenv(\"Airtable_token\")\n",
    "AIRTABLE_BASE_ID = os.getenv(\"Airtable_base_id\")"
   ]
  },
  {
   "cell_type": "code",
   "execution_count": null,
   "id": "f8aeec7b",
   "metadata": {},
   "outputs": [],
   "source": [
    "# Connect to CustomerData table\n",
    "table = Table(AIRTABLE_TOKEN, AIRTABLE_BASE_ID, 'CustomerData')\n",
    "# table.all()"
   ]
  },
  {
   "cell_type": "code",
   "execution_count": null,
   "id": "1007f042",
   "metadata": {},
   "outputs": [],
   "source": [
    "# find Airtable ID based on CustomerID\n",
    "def find_record_id_with_customerID (ID):\n",
    "    formula = match({\"CustomerID\": ID})\n",
    "    return table.first(formula=formula)['id']\n",
    "find_record_id_with_customerID (47)"
   ]
  },
  {
   "cell_type": "code",
   "execution_count": null,
   "id": "420f98ab",
   "metadata": {},
   "outputs": [],
   "source": [
    "# Update record for a particular customer\n",
    "hans = find_record_id_with_customerID(48)\n",
    "table.update(hans, {\"#ofAccounts\": 10})"
   ]
  },
  {
   "cell_type": "code",
   "execution_count": null,
   "id": "525d9f66",
   "metadata": {
    "scrolled": true
   },
   "outputs": [],
   "source": [
    "for records in table.iterate(page_size=100, max_records=1000):\n",
    "    for record in records:        \n",
    "        if record['fields']['CustomerID'] == 48:\n",
    "            print(record)"
   ]
  },
  {
   "cell_type": "markdown",
   "id": "b01c5b5e",
   "metadata": {},
   "source": [
    "## Get column names"
   ]
  },
  {
   "cell_type": "code",
   "execution_count": null,
   "id": "9c9b5e69",
   "metadata": {},
   "outputs": [],
   "source": [
    "AR_table = Table(AIRTABLE_TOKEN, AIRTABLE_BASE_ID, 'AssetReportLevel')"
   ]
  },
  {
   "cell_type": "code",
   "execution_count": null,
   "id": "0ab732a7",
   "metadata": {},
   "outputs": [],
   "source": [
    "Column_names = list(AR_table.all()[1]['fields'].keys())"
   ]
  },
  {
   "cell_type": "code",
   "execution_count": null,
   "id": "494c8596",
   "metadata": {},
   "outputs": [],
   "source": [
    "df = pd.DataFrame.from_dict({'Attributes':Column_names})\n",
    "df.to_excel('AssetReportLevel_columns.xlsx', header=True, index=False)"
   ]
  }
 ],
 "metadata": {
  "kernelspec": {
   "display_name": "Python 3 (ipykernel)",
   "language": "python",
   "name": "python3"
  },
  "language_info": {
   "codemirror_mode": {
    "name": "ipython",
    "version": 3
   },
   "file_extension": ".py",
   "mimetype": "text/x-python",
   "name": "python",
   "nbconvert_exporter": "python",
   "pygments_lexer": "ipython3",
   "version": "3.8.9"
  }
 },
 "nbformat": 4,
 "nbformat_minor": 5
}
