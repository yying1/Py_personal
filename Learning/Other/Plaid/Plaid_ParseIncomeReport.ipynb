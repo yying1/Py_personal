{
 "cells": [
  {
   "cell_type": "markdown",
   "id": "156f83c4",
   "metadata": {},
   "source": [
    "## Attribute Selection Script\n",
    "\n",
    "| Name | Value |\n",
    "| :--- | :----------- |\n",
    "| By | Frank |\n",
    "| Attribute |  |\n",
    "| Source | Plaid Income Report |\n",
    "| Last Updated on | 2022-06-02 |\n",
    "\n",
    "---"
   ]
  },
  {
   "cell_type": "code",
   "execution_count": 2,
   "id": "10aa97c3",
   "metadata": {},
   "outputs": [],
   "source": [
    "import json\n",
    "import pandas as pd"
   ]
  },
  {
   "cell_type": "code",
   "execution_count": 3,
   "id": "77bdf6b2",
   "metadata": {},
   "outputs": [],
   "source": [
    "# load asset report .json file \n",
    "with open(\"Payroll_Income.json\") as json_file:\n",
    "    data = json.load(json_file)"
   ]
  },
  {
   "cell_type": "code",
   "execution_count": 6,
   "id": "e8facfeb",
   "metadata": {},
   "outputs": [],
   "source": [
    "pay_stubs_json = data[\"items\"][0][\"payroll_income\"][0]['pay_stubs']"
   ]
  },
  {
   "cell_type": "code",
   "execution_count": 8,
   "id": "610fe763",
   "metadata": {},
   "outputs": [
    {
     "data": {
      "text/plain": [
       "{'deductions': {'breakdown': [{'current_amount': 1000,\n",
       "    'description': 'taxes',\n",
       "    'iso_currency_code': 'USD',\n",
       "    'unofficial_currency_code': None,\n",
       "    'ytd_amount': 1234}],\n",
       "  'total': {'current_amount': 1000,\n",
       "   'iso_currency_code': 'USD',\n",
       "   'unofficial_currency_code': None,\n",
       "   'ytd_amount': 1234}},\n",
       " 'document_id': 'QVYKRjz2Nj',\n",
       " 'document_metadata': {'document_type': 'PAYSTUB',\n",
       "  'download_url': 'https://sandbox.plaid.com/income/verification/document/download/b1477df2-1372-492f-ac19-a5a8d0d5c547',\n",
       "  'name': '603b6fc3-27b0-48c0-add0-57a5886036c5.pdf',\n",
       "  'status': 'DOCUMENT_STATUS_PROCESSING_COMPLETE'},\n",
       " 'earnings': {'breakdown': [{'canonical_description': 'REGULAR_PAY',\n",
       "    'current_amount': 1006,\n",
       "    'description': 'salary earned',\n",
       "    'hours': 40,\n",
       "    'iso_currency_code': 'USD',\n",
       "    'rate': 25.15,\n",
       "    'unofficial_currency_code': None,\n",
       "    'ytd_amount': 1006},\n",
       "   {'canonical_description': 'BONUS',\n",
       "    'current_amount': 1000,\n",
       "    'description': 'bonus earned',\n",
       "    'hours': 0,\n",
       "    'iso_currency_code': 'USD',\n",
       "    'rate': 0,\n",
       "    'unofficial_currency_code': None,\n",
       "    'ytd_amount': 1000},\n",
       "   {'canonical_description': 'OVERTIME',\n",
       "    'current_amount': 320,\n",
       "    'description': 'overtime pay earned',\n",
       "    'hours': 10,\n",
       "    'iso_currency_code': 'USD',\n",
       "    'rate': 32,\n",
       "    'unofficial_currency_code': None,\n",
       "    'ytd_amount': 320}],\n",
       "  'total': {'current_amount': 2306,\n",
       "   'hours': 50,\n",
       "   'iso_currency_code': 'USD',\n",
       "   'unofficial_currency_code': None,\n",
       "   'ytd_amount': 2306}},\n",
       " 'employee': {'address': {'city': 'Oakland',\n",
       "   'country': 'US',\n",
       "   'postal_code': '94103',\n",
       "   'region': 'CA',\n",
       "   'street': '1234 Grand Ave'},\n",
       "  'marital_status': 'SINGLE',\n",
       "  'name': 'Josie Georgia Harrison',\n",
       "  'taxpayer_id': {'id_mask': '9020', 'id_type': 'SSN'}},\n",
       " 'employer': {'address': {'city': 'San Francisco',\n",
       "   'country': 'US',\n",
       "   'postal_code': '94103',\n",
       "   'region': 'CA',\n",
       "   'street': '1098 Main Street'},\n",
       "  'name': 'Platypus LLC'},\n",
       " 'net_pay': {'current_amount': 1000,\n",
       "  'description': 'net pay',\n",
       "  'iso_currency_code': 'USD',\n",
       "  'unofficial_currency_code': None,\n",
       "  'ytd_amount': 1234},\n",
       " 'pay_period_details': {'distribution_breakdown': None,\n",
       "  'end_date': '2022-04-06',\n",
       "  'gross_earnings': 2306,\n",
       "  'iso_currency_code': 'USD',\n",
       "  'pay_amount': 1000,\n",
       "  'pay_date': '2022-04-07',\n",
       "  'pay_frequency': 'BIWEEKLY',\n",
       "  'start_date': '2022-03-23',\n",
       "  'unofficial_currency_code': None},\n",
       " 'verification': {'verification_attributes': None,\n",
       "  'verification_status': 'UNKNOWN'}}"
      ]
     },
     "execution_count": 8,
     "metadata": {},
     "output_type": "execute_result"
    }
   ],
   "source": [
    "pay_stubs_json[0]"
   ]
  },
  {
   "cell_type": "code",
   "execution_count": null,
   "id": "b9949209",
   "metadata": {},
   "outputs": [],
   "source": []
  }
 ],
 "metadata": {
  "kernelspec": {
   "display_name": "Python 3 (ipykernel)",
   "language": "python",
   "name": "python3"
  },
  "language_info": {
   "codemirror_mode": {
    "name": "ipython",
    "version": 3
   },
   "file_extension": ".py",
   "mimetype": "text/x-python",
   "name": "python",
   "nbconvert_exporter": "python",
   "pygments_lexer": "ipython3",
   "version": "3.8.9"
  }
 },
 "nbformat": 4,
 "nbformat_minor": 5
}
