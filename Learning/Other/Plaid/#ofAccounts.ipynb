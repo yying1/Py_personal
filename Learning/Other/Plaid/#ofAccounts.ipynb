{
 "cells": [
  {
   "cell_type": "markdown",
   "id": "0d4409f1",
   "metadata": {},
   "source": [
    "## Attribute Selection Script\n",
    "\n",
    "| Name | Value |\n",
    "| :--- | :----------- |\n",
    "| By | Frank & Hao |\n",
    "| Attribute | # of Accounts |\n",
    "| Source | Plaid Asset Report |\n",
    "| Last Updated on | 2022-06-02 |\n",
    "\n",
    "---"
   ]
  },
  {
   "cell_type": "code",
   "execution_count": 1,
   "id": "52a109b4",
   "metadata": {},
   "outputs": [],
   "source": [
    "import json\n",
    "import pandas as pd"
   ]
  },
  {
   "cell_type": "code",
   "execution_count": 6,
   "id": "f90a3221",
   "metadata": {},
   "outputs": [],
   "source": [
    "# load asset report .json file \n",
    "with open(\"AssetReports/\"+'assets-production-77312115-54db-42e6-a1b5-8f4171aa5efd.json') as json_file:\n",
    "    data = json.load(json_file)"
   ]
  },
  {
   "cell_type": "code",
   "execution_count": 15,
   "id": "507fc2ef",
   "metadata": {},
   "outputs": [
    {
     "name": "stdout",
     "output_type": "stream",
     "text": [
      "['account_id', 'balances', 'days_available', 'historical_balances', 'mask', 'name', 'official_name', 'owners', 'ownership_type', 'subtype', 'transactions', 'type']\n"
     ]
    }
   ],
   "source": [
    "# print account headers\n",
    "account_headers = list(data['items'][0]['accounts'][0].keys())\n",
    "print(account_headers)"
   ]
  },
  {
   "cell_type": "code",
   "execution_count": 9,
   "id": "1e8a48bc",
   "metadata": {
    "scrolled": true
   },
   "outputs": [
    {
     "name": "stdout",
     "output_type": "stream",
     "text": [
      "Business Adv Fundamentals|Romance Xpress\n",
      "Business Adv Fundamentals|The Trades Group Inc\n",
      "Regular Savings|Personal Savings\n",
      "Business Adv Fundamentals|AIRLIMITS\n",
      "Adv Plus Banking|Personal Checking\n",
      "BANKAMERICARD Platinum Plus Mastercard|BANKAMERICARD Platinum Plus Mastercard\n",
      "Customized Cash Rewards World Mastercard Card|Customized Cash Rewards World Mastercard Card\n"
     ]
    }
   ],
   "source": [
    "# items contains all acounts, list accout names\n",
    "for account in data['items'][0]['accounts']:\n",
    "    print(account['official_name']+ \"|\"+ account['name'])\n",
    "#     if account['official_name'] is None:\n",
    "#         print(account['name'])\n",
    "#     else:\n",
    "#         print(account['official_name'])"
   ]
  },
  {
   "cell_type": "code",
   "execution_count": 10,
   "id": "aa8549e8",
   "metadata": {
    "scrolled": false
   },
   "outputs": [
    {
     "data": {
      "text/plain": [
       "7"
      ]
     },
     "execution_count": 10,
     "metadata": {},
     "output_type": "execute_result"
    }
   ],
   "source": [
    "# total number of accounts\n",
    "len(data['items'][0]['accounts'])"
   ]
  },
  {
   "cell_type": "code",
   "execution_count": 18,
   "id": "4b00d417",
   "metadata": {},
   "outputs": [],
   "source": [
    "# convert json to a dataframe with row as accounts\n",
    "df_accounts = pd.DataFrame (data['items'][0]['accounts'], columns =account_headers)"
   ]
  },
  {
   "cell_type": "code",
   "execution_count": 22,
   "id": "c66cc009",
   "metadata": {
    "collapsed": true
   },
   "outputs": [
    {
     "data": {
      "text/html": [
       "<div>\n",
       "<style scoped>\n",
       "    .dataframe tbody tr th:only-of-type {\n",
       "        vertical-align: middle;\n",
       "    }\n",
       "\n",
       "    .dataframe tbody tr th {\n",
       "        vertical-align: top;\n",
       "    }\n",
       "\n",
       "    .dataframe thead th {\n",
       "        text-align: right;\n",
       "    }\n",
       "</style>\n",
       "<table border=\"1\" class=\"dataframe\">\n",
       "  <thead>\n",
       "    <tr style=\"text-align: right;\">\n",
       "      <th></th>\n",
       "      <th>account_id</th>\n",
       "      <th>balances</th>\n",
       "      <th>days_available</th>\n",
       "      <th>historical_balances</th>\n",
       "      <th>mask</th>\n",
       "      <th>name</th>\n",
       "      <th>official_name</th>\n",
       "      <th>owners</th>\n",
       "      <th>ownership_type</th>\n",
       "      <th>subtype</th>\n",
       "      <th>transactions</th>\n",
       "      <th>type</th>\n",
       "    </tr>\n",
       "  </thead>\n",
       "  <tbody>\n",
       "    <tr>\n",
       "      <th>0</th>\n",
       "      <td>7yMmEQRAgACYDPvXv8xnS1ZKNYBg45hQmP7oO</td>\n",
       "      <td>{'available': 95, 'current': 95, 'iso_currency...</td>\n",
       "      <td>546</td>\n",
       "      <td>[{'current': 95, 'date': '2021-05-29', 'iso_cu...</td>\n",
       "      <td>2544</td>\n",
       "      <td>Romance Xpress</td>\n",
       "      <td>Business Adv Fundamentals</td>\n",
       "      <td>[{'addresses': [{'data': {'city': 'SAN LUIS OB...</td>\n",
       "      <td>None</td>\n",
       "      <td>checking</td>\n",
       "      <td>[{'account_id': '7yMmEQRAgACYDPvXv8xnS1ZKNYBg4...</td>\n",
       "      <td>depository</td>\n",
       "    </tr>\n",
       "    <tr>\n",
       "      <th>1</th>\n",
       "      <td>9kRwEoJ090fMKnRoR7eLuzjrJq8V7wIdb753X</td>\n",
       "      <td>{'available': 8864.65, 'current': 9404.65, 'is...</td>\n",
       "      <td>546</td>\n",
       "      <td>[{'current': 9404.65, 'date': '2021-05-29', 'i...</td>\n",
       "      <td>3301</td>\n",
       "      <td>The Trades Group Inc</td>\n",
       "      <td>Business Adv Fundamentals</td>\n",
       "      <td>[{'addresses': [{'data': {'city': 'SAN LUIS OB...</td>\n",
       "      <td>None</td>\n",
       "      <td>checking</td>\n",
       "      <td>[{'account_id': '9kRwEoJ090fMKnRoR7eLuzjrJq8V7...</td>\n",
       "      <td>depository</td>\n",
       "    </tr>\n",
       "    <tr>\n",
       "      <th>2</th>\n",
       "      <td>VLJOPmMVAVUoMnXwXN1Zc43dEjApKDFrNqZbr</td>\n",
       "      <td>{'available': 73.45, 'current': 73.45, 'iso_cu...</td>\n",
       "      <td>529</td>\n",
       "      <td>[{'current': 73.45, 'date': '2021-05-29', 'iso...</td>\n",
       "      <td>3936</td>\n",
       "      <td>Personal Savings</td>\n",
       "      <td>Regular Savings</td>\n",
       "      <td>[{'addresses': [{'data': {'city': 'SAN LUIS OB...</td>\n",
       "      <td>None</td>\n",
       "      <td>savings</td>\n",
       "      <td>[{'account_id': 'VLJOPmMVAVUoMnXwXN1Zc43dEjApK...</td>\n",
       "      <td>depository</td>\n",
       "    </tr>\n",
       "    <tr>\n",
       "      <th>3</th>\n",
       "      <td>b0E9PkoeKeC3rQwzw0LgcJz5vqkeyPfq7bBXX</td>\n",
       "      <td>{'available': 3830.89, 'current': 4158.89, 'is...</td>\n",
       "      <td>546</td>\n",
       "      <td>[{'current': 4158.89, 'date': '2021-05-29', 'i...</td>\n",
       "      <td>1875</td>\n",
       "      <td>AIRLIMITS</td>\n",
       "      <td>Business Adv Fundamentals</td>\n",
       "      <td>[{'addresses': [{'data': {'city': 'SAN LUIS OB...</td>\n",
       "      <td>None</td>\n",
       "      <td>checking</td>\n",
       "      <td>[{'account_id': 'b0E9PkoeKeC3rQwzw0LgcJz5vqkey...</td>\n",
       "      <td>depository</td>\n",
       "    </tr>\n",
       "    <tr>\n",
       "      <th>4</th>\n",
       "      <td>gxXzKrkeAefbyjN4NQEMC875QqznAkFq17dyv</td>\n",
       "      <td>{'available': 738.74, 'current': 290.85, 'iso_...</td>\n",
       "      <td>546</td>\n",
       "      <td>[{'current': 290.85, 'date': '2021-05-29', 'is...</td>\n",
       "      <td>1070</td>\n",
       "      <td>Personal Checking</td>\n",
       "      <td>Adv Plus Banking</td>\n",
       "      <td>[{'addresses': [{'data': {'city': 'SAN LUIS OB...</td>\n",
       "      <td>None</td>\n",
       "      <td>checking</td>\n",
       "      <td>[{'account_id': 'gxXzKrkeAefbyjN4NQEMC875QqznA...</td>\n",
       "      <td>depository</td>\n",
       "    </tr>\n",
       "    <tr>\n",
       "      <th>5</th>\n",
       "      <td>jZYXaxAmdmFd0zoJoQN8teYb8DXzqBiRN4yJe</td>\n",
       "      <td>{'available': 509.46, 'current': 2990.54, 'iso...</td>\n",
       "      <td>350</td>\n",
       "      <td>[{'current': 2990.54, 'date': '2021-05-29', 'i...</td>\n",
       "      <td>6070</td>\n",
       "      <td>BANKAMERICARD Platinum Plus Mastercard</td>\n",
       "      <td>BANKAMERICARD Platinum Plus Mastercard</td>\n",
       "      <td>[{'addresses': [{'data': {'city': 'SAN LUIS OB...</td>\n",
       "      <td>None</td>\n",
       "      <td>credit card</td>\n",
       "      <td>[{'account_id': 'jZYXaxAmdmFd0zoJoQN8teYb8DXzq...</td>\n",
       "      <td>credit</td>\n",
       "    </tr>\n",
       "    <tr>\n",
       "      <th>6</th>\n",
       "      <td>rOqPBDXe7ecR49VLVY60I6zODBPmadHBmyxzr</td>\n",
       "      <td>{'available': 92.09, 'current': 11907.91, 'iso...</td>\n",
       "      <td>363</td>\n",
       "      <td>[{'current': 11907.91, 'date': '2021-05-29', '...</td>\n",
       "      <td>8412</td>\n",
       "      <td>Customized Cash Rewards World Mastercard Card</td>\n",
       "      <td>Customized Cash Rewards World Mastercard Card</td>\n",
       "      <td>[{'addresses': [{'data': {'city': 'SAN LUIS OB...</td>\n",
       "      <td>None</td>\n",
       "      <td>credit card</td>\n",
       "      <td>[{'account_id': 'rOqPBDXe7ecR49VLVY60I6zODBPma...</td>\n",
       "      <td>credit</td>\n",
       "    </tr>\n",
       "  </tbody>\n",
       "</table>\n",
       "</div>"
      ],
      "text/plain": [
       "                              account_id  \\\n",
       "0  7yMmEQRAgACYDPvXv8xnS1ZKNYBg45hQmP7oO   \n",
       "1  9kRwEoJ090fMKnRoR7eLuzjrJq8V7wIdb753X   \n",
       "2  VLJOPmMVAVUoMnXwXN1Zc43dEjApKDFrNqZbr   \n",
       "3  b0E9PkoeKeC3rQwzw0LgcJz5vqkeyPfq7bBXX   \n",
       "4  gxXzKrkeAefbyjN4NQEMC875QqznAkFq17dyv   \n",
       "5  jZYXaxAmdmFd0zoJoQN8teYb8DXzqBiRN4yJe   \n",
       "6  rOqPBDXe7ecR49VLVY60I6zODBPmadHBmyxzr   \n",
       "\n",
       "                                            balances  days_available  \\\n",
       "0  {'available': 95, 'current': 95, 'iso_currency...             546   \n",
       "1  {'available': 8864.65, 'current': 9404.65, 'is...             546   \n",
       "2  {'available': 73.45, 'current': 73.45, 'iso_cu...             529   \n",
       "3  {'available': 3830.89, 'current': 4158.89, 'is...             546   \n",
       "4  {'available': 738.74, 'current': 290.85, 'iso_...             546   \n",
       "5  {'available': 509.46, 'current': 2990.54, 'iso...             350   \n",
       "6  {'available': 92.09, 'current': 11907.91, 'iso...             363   \n",
       "\n",
       "                                 historical_balances  mask  \\\n",
       "0  [{'current': 95, 'date': '2021-05-29', 'iso_cu...  2544   \n",
       "1  [{'current': 9404.65, 'date': '2021-05-29', 'i...  3301   \n",
       "2  [{'current': 73.45, 'date': '2021-05-29', 'iso...  3936   \n",
       "3  [{'current': 4158.89, 'date': '2021-05-29', 'i...  1875   \n",
       "4  [{'current': 290.85, 'date': '2021-05-29', 'is...  1070   \n",
       "5  [{'current': 2990.54, 'date': '2021-05-29', 'i...  6070   \n",
       "6  [{'current': 11907.91, 'date': '2021-05-29', '...  8412   \n",
       "\n",
       "                                            name  \\\n",
       "0                                 Romance Xpress   \n",
       "1                           The Trades Group Inc   \n",
       "2                               Personal Savings   \n",
       "3                                      AIRLIMITS   \n",
       "4                              Personal Checking   \n",
       "5         BANKAMERICARD Platinum Plus Mastercard   \n",
       "6  Customized Cash Rewards World Mastercard Card   \n",
       "\n",
       "                                   official_name  \\\n",
       "0                      Business Adv Fundamentals   \n",
       "1                      Business Adv Fundamentals   \n",
       "2                                Regular Savings   \n",
       "3                      Business Adv Fundamentals   \n",
       "4                               Adv Plus Banking   \n",
       "5         BANKAMERICARD Platinum Plus Mastercard   \n",
       "6  Customized Cash Rewards World Mastercard Card   \n",
       "\n",
       "                                              owners ownership_type  \\\n",
       "0  [{'addresses': [{'data': {'city': 'SAN LUIS OB...           None   \n",
       "1  [{'addresses': [{'data': {'city': 'SAN LUIS OB...           None   \n",
       "2  [{'addresses': [{'data': {'city': 'SAN LUIS OB...           None   \n",
       "3  [{'addresses': [{'data': {'city': 'SAN LUIS OB...           None   \n",
       "4  [{'addresses': [{'data': {'city': 'SAN LUIS OB...           None   \n",
       "5  [{'addresses': [{'data': {'city': 'SAN LUIS OB...           None   \n",
       "6  [{'addresses': [{'data': {'city': 'SAN LUIS OB...           None   \n",
       "\n",
       "       subtype                                       transactions        type  \n",
       "0     checking  [{'account_id': '7yMmEQRAgACYDPvXv8xnS1ZKNYBg4...  depository  \n",
       "1     checking  [{'account_id': '9kRwEoJ090fMKnRoR7eLuzjrJq8V7...  depository  \n",
       "2      savings  [{'account_id': 'VLJOPmMVAVUoMnXwXN1Zc43dEjApK...  depository  \n",
       "3     checking  [{'account_id': 'b0E9PkoeKeC3rQwzw0LgcJz5vqkey...  depository  \n",
       "4     checking  [{'account_id': 'gxXzKrkeAefbyjN4NQEMC875QqznA...  depository  \n",
       "5  credit card  [{'account_id': 'jZYXaxAmdmFd0zoJoQN8teYb8DXzq...      credit  \n",
       "6  credit card  [{'account_id': 'rOqPBDXe7ecR49VLVY60I6zODBPma...      credit  "
      ]
     },
     "execution_count": 22,
     "metadata": {},
     "output_type": "execute_result"
    }
   ],
   "source": [
    "df_accounts"
   ]
  },
  {
   "cell_type": "code",
   "execution_count": 21,
   "id": "82e9df52",
   "metadata": {},
   "outputs": [],
   "source": [
    "df_accounts.to_csv(\"Account_assets-production-77312115-54db-42e6-a1b5-8f4171aa5efd.csv\",index = False, encoding = 'utf-8')"
   ]
  }
 ],
 "metadata": {
  "kernelspec": {
   "display_name": "Python 3 (ipykernel)",
   "language": "python",
   "name": "python3"
  },
  "language_info": {
   "codemirror_mode": {
    "name": "ipython",
    "version": 3
   },
   "file_extension": ".py",
   "mimetype": "text/x-python",
   "name": "python",
   "nbconvert_exporter": "python",
   "pygments_lexer": "ipython3",
   "version": "3.8.9"
  }
 },
 "nbformat": 4,
 "nbformat_minor": 5
}
