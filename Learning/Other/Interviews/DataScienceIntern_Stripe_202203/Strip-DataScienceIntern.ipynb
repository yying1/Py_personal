{
 "cells": [
  {
   "cell_type": "markdown",
   "id": "30cdfe02",
   "metadata": {},
   "source": [
    "## Stripe: Data Science Intern - Written Project\n",
    "#### Frank Yue Ying | 2022-03-07"
   ]
  },
  {
   "cell_type": "markdown",
   "id": "55514b6a",
   "metadata": {},
   "source": [
    "### Raw Data\n",
    "merchant transaction activity, for merchants that start over a 2 year period (2033-2034). The data spans from 1/1/33 through 12/31/34. Each observation is a transaction amount in cents.\n",
    "#### Columns\n",
    "1. ID: [1,1513719] natural order of rows in raw data\n",
    "2. merchant: unique merchant ID with length of 10 digits & letters\n",
    "3. time: format as YYYY-MM-DD HH:mm:ss, assuming in the same timezone\n",
    "4. amount_usd_in_cents: integer number in cents"
   ]
  },
  {
   "cell_type": "code",
   "execution_count": 1,
   "id": "7887558e",
   "metadata": {},
   "outputs": [],
   "source": [
    "import pandas as pd\n",
    "import numpy as np"
   ]
  },
  {
   "cell_type": "code",
   "execution_count": 2,
   "id": "943ce537",
   "metadata": {},
   "outputs": [],
   "source": [
    "#Load the data\n",
    "raw_data = pd.read_csv(\"takehome_ds_written.csv\",header = 0,index_col =0)\n",
    "# raw_data.head()"
   ]
  },
  {
   "cell_type": "code",
   "execution_count": 3,
   "id": "83fa0d83",
   "metadata": {},
   "outputs": [],
   "source": [
    "#Transform the data: break time into year, month, day\n",
    "data = raw_data.copy()\n",
    "def convert_time(row,x):\n",
    "    if x == 'year':\n",
    "        return row.split(\" \")[0].split(\"-\")[0]\n",
    "    elif x == 'month':\n",
    "        return row.split(\" \")[0].split(\"-\")[1]\n",
    "    elif x == 'day':\n",
    "        return row.split(\" \")[0].split(\"-\")[2]\n",
    "\n",
    "data['year'] = np.vectorize(convert_time)(data['time'], 'year')\n",
    "data['month'] = np.vectorize(convert_time)(data['time'], 'month')\n",
    "data['day'] = np.vectorize(convert_time)(data['time'], 'day')"
   ]
  },
  {
   "cell_type": "code",
   "execution_count": null,
   "id": "47ae4132",
   "metadata": {},
   "outputs": [],
   "source": [
    "#Group by year & month\n",
    "data_ByYear = data.groupby([\"year\",\"month\"])[\"merchant\"].nunique()\n",
    "data_ByYear"
   ]
  },
  {
   "cell_type": "code",
   "execution_count": 4,
   "id": "936455db",
   "metadata": {},
   "outputs": [],
   "source": [
    "# set up unique merchant-based tracking table \n",
    "merchants = data['merchant'].unique().tolist()"
   ]
  },
  {
   "cell_type": "code",
   "execution_count": 5,
   "id": "554e7a2a",
   "metadata": {},
   "outputs": [],
   "source": [
    "# len(merchants)\n",
    "merchant_data = pd.DataFrame(columns = [\"id\"])\n",
    "merchant_data.set_index(\"id\")\n",
    "merchant_data_columns_dict = {}\n",
    "for year in ['count-2033','count-2034','volume-2033','volume-2034']:\n",
    "    for month in range(1,13):\n",
    "        merchant_data[year+\"-\"+str(month)] = 0\n",
    "        merchant_data_columns_dict[year+\"-\"+str(month)] = 0"
   ]
  },
  {
   "cell_type": "code",
   "execution_count": 6,
   "id": "35e4523b",
   "metadata": {},
   "outputs": [],
   "source": [
    "def query_merchant(dt,merchant,merchant_data_columns_dict):\n",
    "    merchant_data_values = merchant_data_columns_dict.copy()\n",
    "    merchant_data = dt.loc[dt['merchant'] == merchant]\n",
    "    merchant_data = merchant_data.groupby([\"year\",\"month\"]).agg({\"amount_usd_in_cents\": [np.count_nonzero, np.sum]}).reset_index()\n",
    "    for index, row in merchant_data.iterrows():\n",
    "        merchant_data_values['count-'+str(row['year'].values[0])+\"-\"+str(int(row['month'].values[0]))] = int(row[2])\n",
    "        merchant_data_values['volume-'+str(row['year'].values[0])+\"-\"+str(int(row['month'].values[0]))] = int(row[3])\n",
    "    return pd.DataFrame([merchant_data_values], columns=merchant_data_values.keys())\n",
    "\n",
    "for merchant in merchants[:10]:\n",
    "    merchant_dt = query_merchant(data,merchant,merchant_data_columns_dict)\n",
    "    merchant_dt['id'] = merchant\n",
    "#     merchant_dt.set_index(\"id\")\n",
    "    merchant_data = pd.concat([merchant_data, merchant_dt], axis=0)\n",
    "merchant_data.set_index(\"id\",inplace=True)\n",
    "# merchant_data.to_csv(\"merchant_data.csv\", index = False)"
   ]
  },
  {
   "cell_type": "code",
   "execution_count": null,
   "id": "6faea9cd",
   "metadata": {},
   "outputs": [],
   "source": [
    "merchant_data = pd.read_csv(\"merchant_data.csv\",header = 0,index_col =0)\n",
    "# merchant_data.set_index(\"id\")\n",
    "# merchant_data.head()"
   ]
  },
  {
   "cell_type": "markdown",
   "id": "3ae5ffa1",
   "metadata": {},
   "source": [
    "#### Business Type Assignment"
   ]
  },
  {
   "cell_type": "code",
   "execution_count": 7,
   "id": "85c0cc9c",
   "metadata": {},
   "outputs": [],
   "source": [
    "merchant_data_businesstype = merchant_data.copy()\n",
    "merchant_data_businesstype['count_average'] = 0\n",
    "merchant_data_businesstype['volume_average'] = 0\n",
    "for index, row in merchant_data.iterrows():\n",
    "    merchant_data_businesstype.at[index, 'count_average'] = row[0:24].sum()/np.count_nonzero(row[0:24].to_numpy())\n",
    "    merchant_data_businesstype.at[index, 'volume_average'] = row[24:48].sum()/np.count_nonzero(row[24:48].to_numpy())"
   ]
  },
  {
   "cell_type": "code",
   "execution_count": null,
   "id": "a555201f",
   "metadata": {},
   "outputs": [],
   "source": [
    "merchant_data_businesstype['count_average_50'] = np.where(merchant_data_businesstype['count_average']> count_average_50 , 1, 0)\n",
    "merchant_data_businesstype['volume_average_50'] = np.where(merchant_data_businesstype['volume_average']> volume_average_50 , 1, 0)\n",
    "merchant_data_businesstype.to_csv(\"merchant_data_businesstype.csv\")"
   ]
  },
  {
   "cell_type": "code",
   "execution_count": null,
   "id": "382655a1",
   "metadata": {},
   "outputs": [],
   "source": [
    "merchant_data_columns_dict_b50 = merchant_data_columns_dict.copy()\n",
    "for column in merchant_data_columns_dict.keys():\n",
    "    average = merchant_data[merchant_data[column]!=0][column].quantile(\n",
    "    q=0.50,                      # The percentile to calculate\n",
    "#     axis=1,                     # The axis to calculate the percentile on\n",
    "#     numeric_only=True,          # To calculate only for numeric columns\n",
    "    interpolation='linear'      # The type of interpolation to use when the quantile is between 2 values\n",
    ")\n",
    "    merchant_data_columns_dict_b50[column] = average\n",
    "b50_merchant = pd.DataFrame([merchant_data_columns_dict_b50], columns=merchant_data_columns_dict_b50.keys())\n",
    "b50_merchant['id'] = '50%_bottom'\n",
    "# This hardly works since there is a long tail problem for payment counts (1 or 2 orders per month for 30% of the bottom merchants)"
   ]
  },
  {
   "cell_type": "code",
   "execution_count": null,
   "id": "19059f0f",
   "metadata": {},
   "outputs": [],
   "source": [
    "# Getting merchants that never churn\n",
    "count_columns_names = [str(x) for x in merchant_data_columns_dict.keys() if \"count\" in x ]\n",
    "volume_columns_names = [str(x) for x in merchant_data_columns_dict.keys() if \"volume\" in x]\n",
    "count_columns_names\n",
    "merchant_data_nonchurn = merchant_data[~(merchant_data == 0).any(axis=1)].copy()\n",
    "merchant_data_nonchurn['min_count'] = merchant_data_nonchurn.loc[:,count_columns_names].min(axis=1)\n",
    "merchant_data_nonchurn['avg_count'] = merchant_data_nonchurn[count_columns_names].mean(axis=1)\n",
    "merchant_data_nonchurn['min_volume'] = merchant_data_nonchurn[volume_columns_names].min(axis=1)\n",
    "merchant_data_nonchurn['avg_volume'] = merchant_data_nonchurn[volume_columns_names].mean(axis=1)\n",
    "merchant_data_nonchurn['min/avg_count'] = merchant_data_nonchurn['min_count']/merchant_data_nonchurn['avg_count']\n",
    "merchant_data_nonchurn['min/avg_volume'] = merchant_data_nonchurn['min_volume']/merchant_data_nonchurn['avg_volume']\n",
    "print(merchant_data_nonchurn['min/avg_count'].mean(axis = 0))\n",
    "print(merchant_data_nonchurn['min/avg_volume'].mean(axis = 0))\n",
    "# Insights: min/avg_count = 0.324346, min/avg_volume = 0.272355, use 30% as the indicator for potential default"
   ]
  },
  {
   "cell_type": "code",
   "execution_count": 24,
   "id": "3fa8352c",
   "metadata": {},
   "outputs": [],
   "source": [
    "merchant_data_churnpotential = merchant_data[(merchant_data == 0).any(axis=1)].copy().reset_index()\n",
    "merchant_data_churntable = pd.DataFrame(columns = [\"id\"])\n",
    "merchant_data_churntable.set_index(\"id\")\n",
    "merchant_data_churntable_dict = {}\n",
    "for year in ['2033','2034']:\n",
    "    for month in range(1,13):\n",
    "        merchant_data_churntable[year+\"-\"+str(month)] = 0\n",
    "        merchant_data_churntable_dict[year+\"-\"+str(month)] = 0\n",
    "for index, row in merchant_data_churnpotential.iterrows():\n",
    "    merchant_data_churntable_dict_copy = merchant_data_churntable_dict.copy()\n",
    "    for i in range(4,25):\n",
    "        moving_avg_count = row[ i-3:i].mean()\n",
    "        moving_avg_volume = row[ i+12-3:i+12].mean()\n",
    "        merchant_data_churnpotential[str(i)+\"-mac\"] = moving_avg_count\n",
    "        merchant_data_churnpotential[str(i)+\"-mav\"] = moving_avg_volume\n",
    "        if (int(row[i]) <= moving_avg_count*.3 and int(row[i+12]) <= moving_avg_volume*.3 and moving_avg_count > 0 ):\n",
    "            merchant_data_churntable_dict_copy[list(merchant_data_churntable_dict_copy)[i-1]] = -1\n",
    "        elif (int(row[i]) > moving_avg_count*.3 or int(row[i+12]) > moving_avg_volume*.3):\n",
    "            merchant_data_churntable_dict_copy[list(merchant_data_churntable_dict_copy)[i-1]] = 1\n",
    "        else:\n",
    "            merchant_data_churntable_dict_copy[list(merchant_data_churntable_dict_copy)[i-1]] = 0\n",
    "    merchant_row = pd.DataFrame([merchant_data_churntable_dict_copy], columns=merchant_data_churntable_dict_copy.keys())\n",
    "    merchant_row['id'] = str(row[0])\n",
    "    merchant_data_churntable = pd.concat([merchant_data_churntable, merchant_row], axis=0)"
   ]
  },
  {
   "cell_type": "code",
   "execution_count": 25,
   "id": "25bbabb0",
   "metadata": {},
   "outputs": [],
   "source": [
    "merchant_data_churntable['total_score'] = merchant_data_churntable.iloc[:,1:25].sum(axis=1)\n",
    "merchant_data_churntable['last_6_month_score'] = merchant_data_churntable.iloc[:,-7:-1].sum(axis=1)"
   ]
  },
  {
   "cell_type": "code",
   "execution_count": null,
   "id": "ca7717f7",
   "metadata": {},
   "outputs": [],
   "source": [
    "merchant_data_churntable.to_csv(\"churnt.csv\")"
   ]
  },
  {
   "cell_type": "code",
   "execution_count": null,
   "id": "68ebb298",
   "metadata": {},
   "outputs": [],
   "source": [
    "merchant_data_churnpotential.to_csv(\"churnpoten.csv\")"
   ]
  },
  {
   "cell_type": "code",
   "execution_count": null,
   "id": "8a9080e4",
   "metadata": {},
   "outputs": [],
   "source": [
    "count_average_50 = merchant_data_businesstype['count_average'].quantile(\n",
    "    q=0.50,                      # The percentile to calculate\n",
    "#     axis=1,                     # The axis to calculate the percentile on\n",
    "#     numeric_only=True,          # To calculate only for numeric columns\n",
    "    interpolation='linear'      # The type of interpolation to use when the quantile is between 2 values\n",
    ")\n",
    "volume_average_50 = merchant_data_businesstype['volume_average'].quantile(\n",
    "    q=0.50,                      # The percentile to calculate\n",
    "#     axis=1,                     # The axis to calculate the percentile on\n",
    "#     numeric_only=True,          # To calculate only for numeric columns\n",
    "    interpolation='linear'      # The type of interpolation to use when the quantile is between 2 values\n",
    ")"
   ]
  },
  {
   "cell_type": "markdown",
   "id": "193ebe4d",
   "metadata": {},
   "source": [
    "### References\n",
    "1. https://chaotic-flow.com/saas-metrics-faqs-what-is-churn/#:~:text=SaaS%20churn%20is%20the%20percentage,important%20parameter%20in%20revenue%20forecasting.\n",
    "2. https://dataconomy.com/2017/07/churn-predictive-analytics/"
   ]
  }
 ],
 "metadata": {
  "kernelspec": {
   "display_name": "Python 3 (ipykernel)",
   "language": "python",
   "name": "python3"
  },
  "language_info": {
   "codemirror_mode": {
    "name": "ipython",
    "version": 3
   },
   "file_extension": ".py",
   "mimetype": "text/x-python",
   "name": "python",
   "nbconvert_exporter": "python",
   "pygments_lexer": "ipython3",
   "version": "3.10.0"
  }
 },
 "nbformat": 4,
 "nbformat_minor": 5
}
