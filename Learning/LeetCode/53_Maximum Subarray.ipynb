{
 "cells": [
  {
   "cell_type": "markdown",
   "id": "0f65f40a",
   "metadata": {},
   "source": [
    "# 53. Maximum Subarray"
   ]
  },
  {
   "cell_type": "markdown",
   "id": "b87e918e",
   "metadata": {},
   "source": [
    "2022-05-15\n",
    "https://leetcode.com/problems/maximum-subarray/"
   ]
  },
  {
   "cell_type": "code",
   "execution_count": 5,
   "id": "8d4796f2",
   "metadata": {},
   "outputs": [],
   "source": [
    "nums = [-2,1,-3,4,-1,2,1,-5,4]"
   ]
  },
  {
   "cell_type": "code",
   "execution_count": 6,
   "id": "9c9ff747",
   "metadata": {},
   "outputs": [],
   "source": [
    "max_nums = [0 for i in range(len(nums))]"
   ]
  },
  {
   "cell_type": "code",
   "execution_count": 7,
   "id": "96d5cf62",
   "metadata": {},
   "outputs": [
    {
     "name": "stdout",
     "output_type": "stream",
     "text": [
      "[-2, 1, -2, 4, 3, 5, 6, 1, 5]\n"
     ]
    }
   ],
   "source": [
    "max_nums[0] = nums[0]\n",
    "for i in range(1,len(nums)):\n",
    "    max_nums[i] = max(max_nums[i-1]+nums[i],nums[i])\n",
    "print(max_nums)"
   ]
  },
  {
   "cell_type": "markdown",
   "id": "1fb5d7be",
   "metadata": {},
   "source": [
    "Referenced from https://www.tutorialspoint.com/maximum-subarray-in-python"
   ]
  }
 ],
 "metadata": {
  "kernelspec": {
   "display_name": "Python 3 (ipykernel)",
   "language": "python",
   "name": "python3"
  },
  "language_info": {
   "codemirror_mode": {
    "name": "ipython",
    "version": 3
   },
   "file_extension": ".py",
   "mimetype": "text/x-python",
   "name": "python",
   "nbconvert_exporter": "python",
   "pygments_lexer": "ipython3",
   "version": "3.10.0"
  }
 },
 "nbformat": 4,
 "nbformat_minor": 5
}
