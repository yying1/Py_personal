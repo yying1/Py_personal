{
 "cells": [
  {
   "cell_type": "markdown",
   "id": "478e7f5e",
   "metadata": {},
   "source": [
    "# Dive Into Football Analytics With TensorFlow Object Detection API  [Link](https://neptune.ai/blog/dive-into-football-analytics-with-tensorflow-object-detection-api)\n"
   ]
  },
  {
   "cell_type": "markdown",
   "id": "40c6812b",
   "metadata": {},
   "source": [
    "## Generate Images from Video"
   ]
  },
  {
   "cell_type": "code",
   "execution_count": 1,
   "id": "af43cbb4",
   "metadata": {},
   "outputs": [],
   "source": [
    "# Environment \n",
    "import os\n",
    "## pip install opencv-python \n",
    "import cv2"
   ]
  },
  {
   "cell_type": "code",
   "execution_count": 12,
   "id": "5eb62ac0",
   "metadata": {},
   "outputs": [],
   "source": [
    "ChelseaManCity = \"chelseavsmancity.mp4\"\n",
    "vidcap = cv2.VideoCapture(ChelseaManCity)\n",
    "count = 0\n",
    "def getFrame(sec):\n",
    "    vidcap.set(cv2.CAP_PROP_POS_MSEC,sec*1000)\n",
    "    hasFrames,image = vidcap.read()\n",
    "    if hasFrames:\n",
    "        cv2.imwrite(\"images/frame\"+str(count)+\".jpg\", image)     # save frame as JPG file\n",
    "    return hasFrames\n",
    "sec = 2\n",
    "frameRate = 2 #//it will capture image in each 0.5 second\n",
    "count=88\n",
    "success = getFrame(sec)\n",
    "if not os.path.exists('images'):\n",
    "    os.makedirs('images')\n",
    "while success:\n",
    "    count = count + 1\n",
    "    sec = sec + frameRate\n",
    "    sec = round(sec, 2)\n",
    "    success = getFrame(sec)"
   ]
  },
  {
   "cell_type": "markdown",
   "id": "46d46020",
   "metadata": {},
   "source": [
    "## Labeling\n",
    "https://www.robots.ox.ac.uk/~vgg/software/via/ "
   ]
  },
  {
   "cell_type": "code",
   "execution_count": null,
   "id": "4f333cc5",
   "metadata": {},
   "outputs": [],
   "source": []
  }
 ],
 "metadata": {
  "kernelspec": {
   "display_name": "Python 3 (ipykernel)",
   "language": "python",
   "name": "python3"
  },
  "language_info": {
   "codemirror_mode": {
    "name": "ipython",
    "version": 3
   },
   "file_extension": ".py",
   "mimetype": "text/x-python",
   "name": "python",
   "nbconvert_exporter": "python",
   "pygments_lexer": "ipython3",
   "version": "3.10.0"
  }
 },
 "nbformat": 4,
 "nbformat_minor": 5
}
