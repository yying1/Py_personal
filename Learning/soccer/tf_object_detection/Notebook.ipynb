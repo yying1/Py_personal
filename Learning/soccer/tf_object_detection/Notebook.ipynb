{
 "cells": [
  {
   "cell_type": "markdown",
   "id": "478e7f5e",
   "metadata": {},
   "source": [
    "# Dive Into Football Analytics With TensorFlow Object Detection API  [Link](https://neptune.ai/blog/dive-into-football-analytics-with-tensorflow-object-detection-api)\n"
   ]
  },
  {
   "cell_type": "markdown",
   "id": "40c6812b",
   "metadata": {},
   "source": [
    "## Generate Images from Video"
   ]
  },
  {
   "cell_type": "code",
   "execution_count": 1,
   "id": "af43cbb4",
   "metadata": {},
   "outputs": [],
   "source": [
    "# Environment \n",
    "import os\n",
    "## pip install opencv-python \n",
    "import cv2"
   ]
  },
  {
   "cell_type": "code",
   "execution_count": 6,
   "id": "5eb62ac0",
   "metadata": {},
   "outputs": [],
   "source": [
    "ChelseaManCity = r\"C:\\Users\\yingy\\Desktop\\CHE_vs_AST_-_First-Half_-_Sky.mp4\"\n",
    "vidcap = cv2.VideoCapture(ChelseaManCity)\n",
    "count = 0\n",
    "def getFrame(sec):\n",
    "    vidcap.set(cv2.CAP_PROP_POS_MSEC,sec*1000)\n",
    "    hasFrames,image = vidcap.read()\n",
    "    if hasFrames:\n",
    "        cv2.imwrite(r\"C:\\Users\\yingy\\Desktop\\image\"+\"\\\\\"+str(sec)+\".jpg\", image)     # save frame as JPG file\n",
    "    return hasFrames\n",
    "sec = 8*60 # starting from 8*60 seconds of the video\n",
    "frameRate = 2 #//it will capture image in each 2 second\n",
    "count=0\n",
    "success = getFrame(sec)\n",
    "if not os.path.exists('images'):\n",
    "    os.makedirs('images')\n",
    "while success:\n",
    "    count = count + 1\n",
    "    sec = sec + frameRate\n",
    "    sec = round(sec, 2)\n",
    "    success = getFrame(sec)\n",
    "    if count > 300:\n",
    "        break"
   ]
  },
  {
   "cell_type": "markdown",
   "id": "46d46020",
   "metadata": {},
   "source": [
    "## Labeling on Labelbox\n",
    "[Project Link](https://app.labelbox.com/projects/clgmw7co50urt070y3evv6o23/overview)"
   ]
  },
  {
   "cell_type": "markdown",
   "id": "ded309f0",
   "metadata": {},
   "source": [
    "## Export labeled data from Labelbox\n",
    "[Reference on Export](https://docs.labelbox.com/reference/label-export) \n",
    "\n",
    "[Colab for export](https://colab.research.google.com/github/Labelbox/labelbox-python/blob/master/examples/label_export/images.ipynb#scrollTo=Ph1D2NethWsU)\n"
   ]
  },
  {
   "cell_type": "code",
   "execution_count": 2,
   "id": "4f333cc5",
   "metadata": {},
   "outputs": [
    {
     "ename": "ModuleNotFoundError",
     "evalue": "No module named 'labelbox'",
     "output_type": "error",
     "traceback": [
      "\u001b[1;31m---------------------------------------------------------------------------\u001b[0m",
      "\u001b[1;31mModuleNotFoundError\u001b[0m                       Traceback (most recent call last)",
      "\u001b[1;32m~\\AppData\\Local\\Temp/ipykernel_14556/991477585.py\u001b[0m in \u001b[0;36m<module>\u001b[1;34m\u001b[0m\n\u001b[0;32m      1\u001b[0m \u001b[1;31m# pip install labelbox\u001b[0m\u001b[1;33m\u001b[0m\u001b[1;33m\u001b[0m\u001b[0m\n\u001b[1;32m----> 2\u001b[1;33m \u001b[1;32mimport\u001b[0m \u001b[0mlabelbox\u001b[0m \u001b[1;32mas\u001b[0m \u001b[0mlb\u001b[0m\u001b[1;33m\u001b[0m\u001b[1;33m\u001b[0m\u001b[0m\n\u001b[0m\u001b[0;32m      3\u001b[0m \u001b[1;32mimport\u001b[0m \u001b[0mlabelbox\u001b[0m\u001b[1;33m.\u001b[0m\u001b[0mtypes\u001b[0m \u001b[1;32mas\u001b[0m \u001b[0mlb_types\u001b[0m\u001b[1;33m\u001b[0m\u001b[1;33m\u001b[0m\u001b[0m\n\u001b[0;32m      4\u001b[0m \u001b[1;33m\u001b[0m\u001b[0m\n\u001b[0;32m      5\u001b[0m \u001b[1;32mfrom\u001b[0m \u001b[0mPIL\u001b[0m \u001b[1;32mimport\u001b[0m \u001b[0mImage\u001b[0m\u001b[1;33m\u001b[0m\u001b[1;33m\u001b[0m\u001b[0m\n",
      "\u001b[1;31mModuleNotFoundError\u001b[0m: No module named 'labelbox'"
     ]
    }
   ],
   "source": [
    "# pip install labelbox\n",
    "import labelbox as lb\n",
    "import labelbox.types as lb_types\n",
    "\n",
    "from PIL import Image\n",
    "import numpy as np\n",
    "import os"
   ]
  },
  {
   "cell_type": "code",
   "execution_count": null,
   "id": "b7623ee4",
   "metadata": {},
   "outputs": [],
   "source": [
    "# Add your api key and project\n",
    "API_KEY = None\n",
    "client = lb.Client(api_key=API_KEY)\n",
    "project = client.get_project(PROJECT_ID)"
   ]
  },
  {
   "cell_type": "code",
   "execution_count": null,
   "id": "4114953b",
   "metadata": {},
   "outputs": [],
   "source": [
    "labels = project.label_generator()\n",
    "\n",
    "# Old export format:\n",
    "# labels = project.export_labels(download = True)\n",
    "\n",
    "# labels can also be exported with `start` and `end` filters\n",
    "# labels = project.label_generator(start=\"2020-01-01\", end=\"2020-01-02\")"
   ]
  }
 ],
 "metadata": {
  "kernelspec": {
   "display_name": "Python 3 (ipykernel)",
   "language": "python",
   "name": "python3"
  },
  "language_info": {
   "codemirror_mode": {
    "name": "ipython",
    "version": 3
   },
   "file_extension": ".py",
   "mimetype": "text/x-python",
   "name": "python",
   "nbconvert_exporter": "python",
   "pygments_lexer": "ipython3",
   "version": "3.10.0"
  }
 },
 "nbformat": 4,
 "nbformat_minor": 5
}
