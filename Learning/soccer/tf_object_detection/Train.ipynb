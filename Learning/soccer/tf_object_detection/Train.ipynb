{
 "cells": [
  {
   "cell_type": "code",
   "execution_count": 1,
   "id": "b0c41431",
   "metadata": {},
   "outputs": [
    {
     "data": {
      "text/plain": [
       "True"
      ]
     },
     "execution_count": 1,
     "metadata": {},
     "output_type": "execute_result"
    }
   ],
   "source": [
    "import os\n",
    "import tensorflow as tf\n",
    "from roboflow import Roboflow\n",
    "from dotenv import load_dotenv\n",
    "load_dotenv(\"labelbox.env\")"
   ]
  },
  {
   "cell_type": "code",
   "execution_count": 2,
   "id": "72258e81",
   "metadata": {},
   "outputs": [
    {
     "name": "stdout",
     "output_type": "stream",
     "text": [
      "loading Roboflow workspace...\n",
      "loading Roboflow project...\n",
      "Downloading Dataset Version Zip in Soccer-Object-detection-1 to tensorflow: 100% [9116343 / 9116343] bytes\n"
     ]
    },
    {
     "name": "stderr",
     "output_type": "stream",
     "text": [
      "Extracting Dataset Version Zip to Soccer-Object-detection-1 in tensorflow:: 100%|███| 203/203 [00:00<00:00, 297.33it/s]\n"
     ]
    }
   ],
   "source": [
    "RF_KEY = os.getenv(\"rb_key\")\n",
    "rf = Roboflow(api_key=RF_KEY)\n",
    "project = rf.workspace(\"personal-y96vs\").project(\"soccer-object-detection-yj7hm\")\n",
    "dataset = project.version(1).download(\"tensorflow\")"
   ]
  },
  {
   "cell_type": "code",
   "execution_count": 7,
   "id": "248bf72b",
   "metadata": {
    "scrolled": true
   },
   "outputs": [
    {
     "name": "stdout",
     "output_type": "stream",
     "text": [
      "location: C:\\Users\\yingy\\Desktop\\Py_personal\\Learning\\soccer\\tf_object_detection\\Soccer Object detection.v1i.tfrecord_ignore_data\n",
      "classes: ['ball', 'field_line', 'goal', 'keeper', 'player', 'ref', 'score', 'time']\n"
     ]
    }
   ],
   "source": [
    "# dataset.location = r\"C:\\Users\\yingy\\Desktop\\Py_personal\\Learning\\soccer\\tf_object_detection\\Soccer Object detection.v1i.tfrecord_ignore_data\"\n",
    "LOCATION = dataset.location\n",
    "print(\"location:\", LOCATION)\n",
    "CLASSES = sorted(project.classes.keys())\n",
    "print(\"classes:\", CLASSES)"
   ]
  },
  {
   "cell_type": "code",
   "execution_count": 5,
   "id": "72ef50c5",
   "metadata": {},
   "outputs": [],
   "source": []
  },
  {
   "cell_type": "code",
   "execution_count": null,
   "id": "dd35c518",
   "metadata": {},
   "outputs": [],
   "source": [
    "path = r\"C:\\Users\\yingy\\Desktop\\Soccer Object detection.v1i.tfrecord.zip\"\n",
    "# raw_dataset =  tf.python_io.tf_record_iterator(\"path-to-file\")\n",
    "\n",
    "dataset = tf.data.TFRecordDataset(path)"
   ]
  },
  {
   "cell_type": "code",
   "execution_count": null,
   "id": "fe1c97b4",
   "metadata": {},
   "outputs": [],
   "source": [
    "dataset"
   ]
  },
  {
   "cell_type": "code",
   "execution_count": null,
   "id": "8e6b4dce",
   "metadata": {},
   "outputs": [],
   "source": [
    "raw_example = next(iter(dataset))\n",
    "parsed = tf.train.Example.FromString(raw_example.numpy())"
   ]
  },
  {
   "cell_type": "code",
   "execution_count": null,
   "id": "0a160c59",
   "metadata": {},
   "outputs": [],
   "source": [
    "for raw_record in raw_dataset.take(1):\n",
    "    example = tf.train.Example()\n",
    "    example.ParseFromString(raw_record.numpy())\n",
    "    print(example)"
   ]
  },
  {
   "cell_type": "markdown",
   "id": "099b4ee7",
   "metadata": {},
   "source": [
    "# References"
   ]
  },
  {
   "cell_type": "markdown",
   "id": "896c04de",
   "metadata": {},
   "source": [
    "https://www.tensorflow.org/guide/data#consuming_tfrecord_data\n",
    "\n",
    "[How to Train YOLO-NAS on a Custom Dataset](https://blog.roboflow.com/yolo-nas-how-to-train-on-custom-dataset/): [Notebook](https://colab.research.google.com/github/roboflow-ai/notebooks/blob/main/notebooks/train-yolo-nas-on-custom-dataset.ipynb?ref=blog.roboflow.com#scrollTo=sGBOHyPc11LA)"
   ]
  },
  {
   "cell_type": "code",
   "execution_count": null,
   "id": "e08d10d3",
   "metadata": {},
   "outputs": [],
   "source": []
  }
 ],
 "metadata": {
  "kernelspec": {
   "display_name": "Python 3 (ipykernel)",
   "language": "python",
   "name": "python3"
  },
  "language_info": {
   "codemirror_mode": {
    "name": "ipython",
    "version": 3
   },
   "file_extension": ".py",
   "mimetype": "text/x-python",
   "name": "python",
   "nbconvert_exporter": "python",
   "pygments_lexer": "ipython3",
   "version": "3.10.0"
  }
 },
 "nbformat": 4,
 "nbformat_minor": 5
}
