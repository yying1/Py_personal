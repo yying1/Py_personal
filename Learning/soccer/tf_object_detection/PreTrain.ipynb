{
 "cells": [
  {
   "cell_type": "markdown",
   "id": "478e7f5e",
   "metadata": {},
   "source": [
    "# Dive Into Football Analytics With TensorFlow Object Detection API  [Link](https://neptune.ai/blog/dive-into-football-analytics-with-tensorflow-object-detection-api)\n"
   ]
  },
  {
   "cell_type": "markdown",
   "id": "40c6812b",
   "metadata": {},
   "source": [
    "## Generate Images from Video"
   ]
  },
  {
   "cell_type": "code",
   "execution_count": 1,
   "id": "af43cbb4",
   "metadata": {},
   "outputs": [],
   "source": [
    "# Environment \n",
    "import os\n",
    "## pip install opencv-python \n",
    "import cv2"
   ]
  },
  {
   "cell_type": "code",
   "execution_count": 6,
   "id": "5eb62ac0",
   "metadata": {},
   "outputs": [],
   "source": [
    "ChelseaManCity = r\"C:\\Users\\yingy\\Desktop\\CHE_vs_AST_-_First-Half_-_Sky.mp4\"\n",
    "vidcap = cv2.VideoCapture(ChelseaManCity)\n",
    "count = 0\n",
    "def getFrame(sec):\n",
    "    vidcap.set(cv2.CAP_PROP_POS_MSEC,sec*1000)\n",
    "    hasFrames,image = vidcap.read()\n",
    "    if hasFrames:\n",
    "        cv2.imwrite(r\"C:\\Users\\yingy\\Desktop\\image\"+\"\\\\\"+str(sec)+\".jpg\", image)     # save frame as JPG file\n",
    "    return hasFrames\n",
    "sec = 8*60 # starting from 8*60 seconds of the video\n",
    "frameRate = 2 #//it will capture image in each 2 second\n",
    "count=0\n",
    "success = getFrame(sec)\n",
    "if not os.path.exists('images'):\n",
    "    os.makedirs('images')\n",
    "while success:\n",
    "    count = count + 1\n",
    "    sec = sec + frameRate\n",
    "    sec = round(sec, 2)\n",
    "    success = getFrame(sec)\n",
    "    if count > 300:\n",
    "        break"
   ]
  },
  {
   "cell_type": "markdown",
   "id": "46d46020",
   "metadata": {},
   "source": [
    "## Labeling on Labelbox\n",
    "[Project Link](https://app.labelbox.com/projects/clgmw7co50urt070y3evv6o23/overview)"
   ]
  },
  {
   "cell_type": "markdown",
   "id": "ded309f0",
   "metadata": {},
   "source": [
    "## Export labeled data from Labelbox\n",
    "[Reference on Export](https://docs.labelbox.com/reference/label-export) \n",
    "\n",
    "[Colab for export](https://colab.research.google.com/github/Labelbox/labelbox-python/blob/master/examples/label_export/images.ipynb#scrollTo=Ph1D2NethWsU)\n"
   ]
  },
  {
   "cell_type": "code",
   "execution_count": 1,
   "id": "4f333cc5",
   "metadata": {},
   "outputs": [],
   "source": [
    "# INSTALL pip install labelbox\n",
    "# ERROR Microsoft Visual C++ 14.0 or greater is required. Get it with \"Microsoft C++ Build Tools\": https://visualstudio.microsoft.com/visual-cpp-build-tools/\n",
    "# SOLUTION https://stackoverflow.com/questions/64261546/how-to-solve-error-microsoft-visual-c-14-0-or-greater-is-required-when-inst\n",
    "import labelbox as lb\n",
    "import labelbox.types as lb_types\n",
    "\n",
    "from PIL import Image\n",
    "import numpy as np\n",
    "import os\n",
    "import json"
   ]
  },
  {
   "cell_type": "code",
   "execution_count": 2,
   "id": "b7623ee4",
   "metadata": {},
   "outputs": [],
   "source": [
    "# Add your api key and project\n",
    "from dotenv import load_dotenv\n",
    "load_dotenv(\"labelbox.env\")\n",
    "API_KEY = os.getenv(\"labelbox_soccer\")\n",
    "PROJECT_ID = os.getenv(\"labelbox_soccer_project\")\n",
    "client = lb.Client(api_key=API_KEY)\n",
    "project = client.get_project(PROJECT_ID)"
   ]
  },
  {
   "cell_type": "code",
   "execution_count": 9,
   "id": "4114953b",
   "metadata": {},
   "outputs": [],
   "source": [
    "# Method 1\n",
    "# labels = project.label_generator()\n",
    "\n",
    "# Old export format:\n",
    "labels = project.export_labels(download = True)\n",
    "# this seems to be working with roboflow conversion\n",
    "\n",
    "# labels can also be exported with `start` and `end` filters\n",
    "# labels = project.label_generator(start=\"2020-01-01\", end=\"2020-01-02\")\n",
    "# labels = list(labels)"
   ]
  },
  {
   "cell_type": "code",
   "execution_count": 10,
   "id": "c33ca3e8",
   "metadata": {},
   "outputs": [],
   "source": [
    "json_object = json.dumps(labels, indent=4)\n",
    "with open(\"export_20230509.json\", \"w\") as outfile:\n",
    "    outfile.write(json_object)"
   ]
  },
  {
   "cell_type": "code",
   "execution_count": 4,
   "id": "f35d9784",
   "metadata": {},
   "outputs": [],
   "source": [
    "# Method 2\n",
    "export_params= {\n",
    "  \"attachments\": True,\n",
    "  \"metadata_fields\": True,\n",
    "  \"data_row_details\": True,\n",
    "  \"project_details\": True,\n",
    "  \"performance_details\": True\n",
    "}\n",
    "# filters= {\n",
    "#   \"last_activity_at\": [\"2000-01-01 00:00:00\", \"2050-01-01 00:00:00\"]\n",
    "# }\n",
    "export_task = project.export_v2(params=export_params)# , filters=filters)\n",
    "export_task.wait_till_done()\n",
    "\n",
    "if export_task.errors:\n",
    "    print(export_task.errors)\n",
    "\n",
    "export_json = export_task.result"
   ]
  },
  {
   "cell_type": "code",
   "execution_count": 8,
   "id": "984a8b94",
   "metadata": {},
   "outputs": [],
   "source": [
    "json_object = json.dumps(export_json, indent=4)\n",
    "with open(\"export_20230509.json\", \"w\") as outfile:\n",
    "    outfile.write(json_object)"
   ]
  }
 ],
 "metadata": {
  "kernelspec": {
   "display_name": "Python 3 (ipykernel)",
   "language": "python",
   "name": "python3"
  },
  "language_info": {
   "codemirror_mode": {
    "name": "ipython",
    "version": 3
   },
   "file_extension": ".py",
   "mimetype": "text/x-python",
   "name": "python",
   "nbconvert_exporter": "python",
   "pygments_lexer": "ipython3",
   "version": "3.10.0"
  }
 },
 "nbformat": 4,
 "nbformat_minor": 5
}
