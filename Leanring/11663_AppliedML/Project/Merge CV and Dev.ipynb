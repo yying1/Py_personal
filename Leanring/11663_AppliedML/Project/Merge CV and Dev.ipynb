{
 "cells": [
  {
   "cell_type": "code",
   "execution_count": 1,
   "id": "d6b2620f",
   "metadata": {},
   "outputs": [],
   "source": [
    "import pandas as pd"
   ]
  },
  {
   "cell_type": "code",
   "execution_count": 4,
   "id": "763a4a35",
   "metadata": {},
   "outputs": [],
   "source": [
    "cv = pd.read_csv(\"CV_data_aggregate.csv\")\n",
    "dev = pd.read_csv(\"dev_data_aggregate.csv\")"
   ]
  },
  {
   "cell_type": "code",
   "execution_count": 5,
   "id": "cdb5d3be",
   "metadata": {},
   "outputs": [],
   "source": [
    "result = pd.concat([cv,dev])"
   ]
  },
  {
   "cell_type": "code",
   "execution_count": 8,
   "id": "b62e1049",
   "metadata": {},
   "outputs": [],
   "source": [
    "result.to_csv(\"dev+CV_data_aggregate.csv\", encoding = 'utf-8')"
   ]
  }
 ],
 "metadata": {
  "kernelspec": {
   "display_name": "Python 3 (ipykernel)",
   "language": "python",
   "name": "python3"
  },
  "language_info": {
   "codemirror_mode": {
    "name": "ipython",
    "version": 3
   },
   "file_extension": ".py",
   "mimetype": "text/x-python",
   "name": "python",
   "nbconvert_exporter": "python",
   "pygments_lexer": "ipython3",
   "version": "3.10.0"
  }
 },
 "nbformat": 4,
 "nbformat_minor": 5
}
