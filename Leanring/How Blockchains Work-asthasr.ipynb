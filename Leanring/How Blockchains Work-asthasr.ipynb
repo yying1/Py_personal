{
 "cells": [
  {
   "cell_type": "markdown",
   "id": "49347c83",
   "metadata": {},
   "source": [
    "# This is a notebook on an article about blockchains from https://asthasr.github.io/posts/how-blockchains-work/"
   ]
  },
  {
   "cell_type": "markdown",
   "id": "18370c62",
   "metadata": {},
   "source": [
    "### Foundations\n",
    "#### First, a hash algorithm is a way to convert a given string into an unpredictable string of a fixed length, called a digest."
   ]
  },
  {
   "cell_type": "code",
   "execution_count": 12,
   "id": "cad00047",
   "metadata": {},
   "outputs": [
    {
     "name": "stdout",
     "output_type": "stream",
     "text": [
      "3899dcbab79f92af727c2190bbd8abc5\n",
      "03b1d09b804cbc0fd72a6d35109e5877\n"
     ]
    }
   ],
   "source": [
    "from argparse import ArgumentParser\n",
    "from hashlib import md5\n",
    "\n",
    "def hash_string(string):\n",
    "    hash = md5()\n",
    "    hash.update(string.encode(\"utf-8\"))\n",
    "    return hash.hexdigest()\n",
    "\n",
    "print(hash_string(\"ninja\"))\n",
    "print(hash_string(\"kongfu\"))"
   ]
  },
  {
   "cell_type": "markdown",
   "id": "00271558",
   "metadata": {},
   "source": [
    "#### Hashes of this type are used to check passwords—you can check whether a password matches without storing the password itself. \n",
    "Blockchains are a kind of ledger: they have entries added to them over time. Hashes can help with that by protecting the ordering and contents of messages."
   ]
  },
  {
   "cell_type": "code",
   "execution_count": 13,
   "id": "88a22d18",
   "metadata": {},
   "outputs": [],
   "source": [
    "def hash_ledger_entry(string, previous_digest=None):\n",
    "    \"\"\"Hashes a string with the hash of previous entries in the ledger, if any.\"\"\"\n",
    "    hash = md5(string.encode(\"utf-8\"))\n",
    "\n",
    "    if previous_digest:\n",
    "        hash.update(previous_digest.encode(\"utf-8\"))\n",
    "\n",
    "    return hash.hexdigest()\n",
    "\n",
    "\n",
    "def generate_ledger(*strings):\n",
    "    \"\"\"Generates the entries in a ledger consisting of a set of strings.\"\"\"\n",
    "    digest = None\n",
    "\n",
    "    for string in strings:\n",
    "        digest = hash_ledger_entry(string, digest)\n",
    "        yield digest, string"
   ]
  },
  {
   "cell_type": "markdown",
   "id": "4e021550",
   "metadata": {},
   "source": [
    "#### With this script, providing a set of strings will generate a unique and ordered ledger:"
   ]
  },
  {
   "cell_type": "code",
   "execution_count": null,
   "id": "8cbb65cb",
   "metadata": {},
   "outputs": [],
   "source": [
    "for digest, string in generate_ledger(\"ninja\",\"kongfu\"):\n",
    "    print(f\"{digest}\\t{string}\")"
   ]
  },
  {
   "cell_type": "markdown",
   "id": "a9756d62",
   "metadata": {},
   "source": [
    "#### These hash ledgers are tamper-resistant because the digests of later entries depend on the earlier entries. Modifying or adding entries will change the digest of later entries."
   ]
  },
  {
   "cell_type": "code",
   "execution_count": 14,
   "id": "90109529",
   "metadata": {},
   "outputs": [
    {
     "name": "stdout",
     "output_type": "stream",
     "text": [
      "3899dcbab79f92af727c2190bbd8abc5\tninja\n",
      "78d8c5d44aaad1bdcd8afe4e81181d82\tkongfu\n",
      "18b754a05052eebb96ca010c5361867c\tsamurai\n"
     ]
    }
   ],
   "source": [
    "for digest, string in generate_ledger(\"ninja\",\"kongfu\",\"samurai\"):\n",
    "    print(f\"{digest}\\t{string}\")"
   ]
  },
  {
   "cell_type": "markdown",
   "id": "7d1f655c",
   "metadata": {},
   "source": [
    "#### We can also add a known ending entry to the ledger to protect the last entry from tampering:"
   ]
  },
  {
   "cell_type": "code",
   "execution_count": null,
   "id": "8e70bc0a",
   "metadata": {},
   "outputs": [],
   "source": [
    "for digest, string in generate_ledger(\"ninja\",\"pirate\",\"samurai\",\"END\"):\n",
    "    print(f\"{digest}\\t{string}\")"
   ]
  },
  {
   "cell_type": "markdown",
   "id": "c785637e",
   "metadata": {},
   "source": [
    "### Validation\n",
    "#### To validate a ledger, you can replay the transactions and make sure that you get the same hashes at each step:"
   ]
  },
  {
   "cell_type": "code",
   "execution_count": 21,
   "id": "470cd437",
   "metadata": {},
   "outputs": [
    {
     "name": "stdout",
     "output_type": "stream",
     "text": [
      "3899dcbab79f92af727c2190bbd8abc5\tninja\n",
      "\n",
      "78d8c5d44aaad1bdcd8afe4e81181d82\tkongfu\n",
      "\n",
      "18b754a05052eebb96ca010c5361867c\tsamurai\n",
      "All entries match.\n"
     ]
    }
   ],
   "source": [
    "our_digest = None\n",
    "fileinput = open(\"BC.txt\")\n",
    "import sys\n",
    "\n",
    "for line in fileinput.readlines():\n",
    "    print(line)\n",
    "    file_digest, word = line.strip().split(\"\\t\")\n",
    "    our_digest = hash_ledger_entry(word, our_digest)\n",
    "\n",
    "    if our_digest != file_digest:\n",
    "        sys.exit(f\"The digest for {word} does not match.\")\n",
    "\n",
    "print(\"All entries match.\")\n",
    "fileinput.close()"
   ]
  },
  {
   "cell_type": "code",
   "execution_count": 15,
   "id": "6bab64ea",
   "metadata": {},
   "outputs": [
    {
     "data": {
      "text/plain": [
       "'18b754a05052eebb96ca010c5361867c'"
      ]
     },
     "execution_count": 15,
     "metadata": {},
     "output_type": "execute_result"
    }
   ],
   "source": [
    "digest"
   ]
  }
 ],
 "metadata": {
  "kernelspec": {
   "display_name": "Python 3",
   "language": "python",
   "name": "python3"
  },
  "language_info": {
   "codemirror_mode": {
    "name": "ipython",
    "version": 3
   },
   "file_extension": ".py",
   "mimetype": "text/x-python",
   "name": "python",
   "nbconvert_exporter": "python",
   "pygments_lexer": "ipython3",
   "version": "3.9.5"
  }
 },
 "nbformat": 4,
 "nbformat_minor": 5
}
