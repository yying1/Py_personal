{
 "cells": [
  {
   "cell_type": "markdown",
   "id": "5d56e315",
   "metadata": {},
   "source": [
    "### Regular Expressions\n",
    "#### 2021-07-12"
   ]
  },
  {
   "cell_type": "code",
   "execution_count": null,
   "id": "ae51faa0",
   "metadata": {},
   "outputs": [],
   "source": [
    "log = \"July 31 07:51:48 mycomputer bad_process[12345]: ERROR performing package upgrade\""
   ]
  },
  {
   "cell_type": "code",
   "execution_count": null,
   "id": "ed206c3e",
   "metadata": {},
   "outputs": [],
   "source": [
    "# with indexing\n",
    "index = log.index(\"[\")\n",
    "print(log[index+1:index+6])"
   ]
  },
  {
   "cell_type": "code",
   "execution_count": null,
   "id": "e01450af",
   "metadata": {},
   "outputs": [],
   "source": [
    "#with regular expression\n",
    "import re\n",
    "regex = r\"\\[(\\d+)\\]\"\n",
    "result = re.search(regex,log)\n",
    "print(result[1])"
   ]
  },
  {
   "cell_type": "markdown",
   "id": "090be4b8",
   "metadata": {},
   "source": [
    "#### 2021-07-21"
   ]
  },
  {
   "cell_type": "code",
   "execution_count": null,
   "id": "c891d727",
   "metadata": {},
   "outputs": [],
   "source": [
    "#Simple matching\n",
    "import re\n",
    "# r as Rawstring without python interpertation, always use this\n",
    "result = re.search(r\"aza\",\"plaza\")\n",
    "print(result) #this generates a match object, span indicates the position of the match in string\n",
    "# if no match found, none is returned\n",
    "print(re.search(r\"pza\",\"plaza\"))\n",
    "# ^ denotes beginning of the string\n",
    "print(re.search(r\"^x\",\"xeon\"))\n",
    "# . reprsent single character\n",
    "print(re.search(r\"p.ng\",\"p.nguin\"))\n",
    "print(re.search(r\"p.ng\",\"PingPong\",re.IGNORECASE))"
   ]
  },
  {
   "cell_type": "code",
   "execution_count": null,
   "id": "da0fb279",
   "metadata": {},
   "outputs": [],
   "source": [
    "#wildcard usage: character classes\n",
    "print(re.search(r\"[Pp]ython\",\"Python\")) #use bracket [] to give options\n",
    "print(re.search(r\"[a-z]way\",\"The end of the highway\")) # use dash - to represent range\n",
    "# [A-Z] [0-9]\n",
    "print(re.search(r\"[^a-zA-Z ]\",\"This is a sentence\")) # use circumflex ^ to un-match characters\n",
    "# use pipe | symbol\n",
    "print(re.search(r\"cat|dog\",\"I like cats.\"))\n",
    "# re.search only return the first result, use re.findall to get all\n",
    "print(re.findall(r\"cat|dog\",\"I like cats and dogs\"))\n",
    "# ? Symbol: 0 or 1 occurrence of the character before it\n",
    "print(re.search(r\"p?each\",\"To each their own\"))"
   ]
  },
  {
   "cell_type": "code",
   "execution_count": null,
   "id": "2abe5896",
   "metadata": {},
   "outputs": [],
   "source": [
    "# Repetition qualifiers\n",
    "print(re.search(r\"py.*n\",\"pygmalion\")) #use star * to denote any characters repeated 0-n times\n",
    "# * is also greedy matching, it will include as many as possible\n",
    "print(re.search(r\"Py[a-z]*n\",\"Python Programmin\"))\n",
    "# + match one or more characters\n",
    "print(re.search(r\"o+l+\", \"goldfish\"))"
   ]
  },
  {
   "cell_type": "code",
   "execution_count": 14,
   "id": "12166b58",
   "metadata": {},
   "outputs": [
    {
     "name": "stdout",
     "output_type": "stream",
     "text": [
      "True\n",
      "False\n",
      "True\n",
      "True\n",
      "True\n"
     ]
    }
   ],
   "source": [
    "#quiz build regex pattern\n",
    "import re\n",
    "def repeating_letter_a(text):\n",
    "    result = re.search(r\"[aA][^aA*]+[aA]\", text)\n",
    "    return result != None\n",
    "\n",
    "print(repeating_letter_a(\"banana\")) # True\n",
    "print(repeating_letter_a(\"pineapple\")) # False\n",
    "print(repeating_letter_a(\"Animal Kingdom\")) # True\n",
    "print(repeating_letter_a(\"A is for apple\")) # True\n",
    "print(repeating_letter_a(\"A a\")) # True"
   ]
  },
  {
   "cell_type": "code",
   "execution_count": null,
   "id": "6b50fb59",
   "metadata": {},
   "outputs": [],
   "source": [
    "# use backslash \\\n",
    "print(re.search(r\"\\.com\",\"welcome.com\"))\n",
    "# \\n or \\t could be confusing with this, but using rawstrings r could avoid this\n",
    "# \\w matches alphanumeric characters: letters, numbers, underscores\n",
    "print(re.findall(r\"\\w*\",\"This is an example\"))\n",
    "print(re.findall(r\"\\w*\",\"This_is_an_example\"))\n",
    "# \\d for digits, \\s for space, tab, & newline, \\b for word boundaries"
   ]
  },
  {
   "cell_type": "code",
   "execution_count": null,
   "id": "9a45cc1d",
   "metadata": {},
   "outputs": [],
   "source": [
    "# quiz\n",
    "import re\n",
    "def check_character_groups(text):\n",
    "    result = re.search(r\"\\w\\s\\w\", text)\n",
    "    return result != None\n",
    "\n",
    "print(check_character_groups(\"One\")) # False\n",
    "print(check_character_groups(\"123  Ready Set GO\")) # True\n",
    "print(check_character_groups(\"username user_01\")) # True\n",
    "print(check_character_groups(\"shopping_list: milk, bread, eggs.\")) # False"
   ]
  },
  {
   "cell_type": "code",
   "execution_count": null,
   "id": "afc6dc64",
   "metadata": {},
   "outputs": [],
   "source": [
    "# search for countries names that start and end in a\n",
    "print(re.search(r\"A.*a\",\"Azerbaijan\")) #nope for Azerbaijan\n",
    "print(re.search(r\"^A.*a$\",\"Azerbaijan\")) #worked by restricting beginning & end\n",
    "# validating python variable name pattern r\"^[A-Za-z_][a-zA-Z0-9]*$\""
   ]
  },
  {
   "cell_type": "code",
   "execution_count": null,
   "id": "d8e786bd",
   "metadata": {},
   "outputs": [],
   "source": [
    "# Quiz\n",
    "import re\n",
    "def check_sentence(text):\n",
    "    result = re.search(r\"^[A-Z][a-z0-9 ]*[.?!]$\", text)\n",
    "    return result != None\n",
    "\n",
    "print(check_sentence(\"Is this is a sentence?\")) # True\n",
    "print(check_sentence(\"is this is a sentence?\")) # False\n",
    "print(check_sentence(\"Hello\")) # False\n",
    "print(check_sentence(\"1-2-3-GO!\")) # False\n",
    "print(check_sentence(\"A star is born.\")) # True"
   ]
  },
  {
   "cell_type": "code",
   "execution_count": 14,
   "id": "3dd7f1f2",
   "metadata": {},
   "outputs": [
    {
     "name": "stdout",
     "output_type": "stream",
     "text": [
      "<re.Match object; span=(0, 13), match='Ying, Yue.y-y'>\n",
      "('Ying', 'Yue.y-y')\n",
      "Ying, Yue.y-y\n",
      "Ying\n"
     ]
    },
    {
     "data": {
      "text/plain": [
       "'Yue.y-y Ying'"
      ]
     },
     "execution_count": 14,
     "metadata": {},
     "output_type": "execute_result"
    }
   ],
   "source": [
    "#Capturing groups\n",
    "# capture names in [last name, first name] format and switch them\n",
    "import re\n",
    "result = re.search(r\"^(\\w*), (\\w*\\.*\\w*\\-*\\w*)$\", \"Ying, Yue.y-y\")\n",
    "print(result)\n",
    "# use parentheses to create groups\n",
    "print(result.groups()) #this creates tuple\n",
    "# the first element contains text matched by the entire regex group\n",
    "print(result[0]) \n",
    "print(result[1])\n",
    "\"{} {}\".format(result[2],result[1])"
   ]
  },
  {
   "cell_type": "code",
   "execution_count": 29,
   "id": "e02cdb30",
   "metadata": {},
   "outputs": [
    {
     "name": "stdout",
     "output_type": "stream",
     "text": [
      "['ghost', 'appea']\n",
      "['scary', 'ghost']\n",
      "['really', 'strawberri']\n",
      "['really', 'strawberries']\n",
      "['strawberries']\n"
     ]
    }
   ],
   "source": [
    "# More on repetition qualifiers besides +?*, use {}\n",
    "print(re.findall(r\"[a-zA-Z]{5}\", \"a ghost appeared\"))\n",
    "print(re.findall(r\"\\b[a-zA-Z]{5}\\b\", \"a scary ghost appeared\")) #add word boundaries to match 5-letter words only\n",
    "print(re.findall(r\"\\w{5,10}\",\"I really like strawberries\"))\n",
    "# number followed by comma means that at least that many repetitions with no upper boundary\n",
    "print(re.findall(r\"\\w{5,}\",\"I really like strawberries\"))\n",
    "# a comma followed by a number means from 0 to that number of repetitions\n",
    "print(re.findall(r\"s\\w{,20}\",\"I really like strawberries\"))"
   ]
  }
 ],
 "metadata": {
  "kernelspec": {
   "display_name": "Python 3",
   "language": "python",
   "name": "python3"
  },
  "language_info": {
   "codemirror_mode": {
    "name": "ipython",
    "version": 3
   },
   "file_extension": ".py",
   "mimetype": "text/x-python",
   "name": "python",
   "nbconvert_exporter": "python",
   "pygments_lexer": "ipython3",
   "version": "3.9.5"
  }
 },
 "nbformat": 4,
 "nbformat_minor": 5
}
