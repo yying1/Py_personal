{
 "cells": [
  {
   "cell_type": "code",
   "execution_count": null,
   "id": "f5259369",
   "metadata": {},
   "outputs": [],
   "source": [
    "#2021-06-17 codeabbey problem ID:1\n",
    "#We need to sum two numbers and tell the result. \n",
    "a,b = input().split(\" \")\n",
    "print(int(a)+int(b))"
   ]
  },
  {
   "cell_type": "code",
   "execution_count": null,
   "id": "473ebff6",
   "metadata": {},
   "outputs": [],
   "source": [
    "#2021-06-19 codeabbey problem ID:2\n",
    "#Now our goal is to learn the loops - i.e. repeated actions. Let us find the sum of several numbers (more than two). It will be useful to do this in a loop. \n",
    "#you can create variable sum and add every value from the list to it. Perhaps \"for\" loop will suit nicely since the amount of numbers is known beforehand. If you have troubles, try Sums In Loop first - it is, probably, easier.\n",
    "#Input data has the following format:\n",
    "#first line contains N - amount of values to sum;\n",
    "#second line contains N values themselves.\n",
    "#Answer should contain a single value - the sum of N values.\n",
    "## https://www.codeabbey.com/index/task_view/sum-in-loop\n",
    "\n",
    "number = input()\n",
    "sum_list = input().split(\" \")\n",
    "sum_result = 0\n",
    "for n in range(int(number)):\n",
    "    sum_result = sum_result+int(sum_list[n])\n",
    "sum_result\n",
    "\n",
    "#solution\n",
    "# x = input()\n",
    "# print(sum(int(x) for x in input().split()))"
   ]
  },
  {
   "cell_type": "code",
   "execution_count": 2,
   "id": "1f8384dc",
   "metadata": {},
   "outputs": [
    {
     "name": "stdout",
     "output_type": "stream",
     "text": [
      "Please input your number of pairs: 13\n",
      "Please input your pair of numbers: 349572 691831\n",
      "Please input your pair of numbers: 752094 780984\n",
      "Please input your pair of numbers: 71498 364004\n",
      "Please input your pair of numbers: 316976 648512\n",
      "Please input your pair of numbers: 557788 190143\n",
      "Please input your pair of numbers: 666597 143269\n",
      "Please input your pair of numbers: 562513 913154\n",
      "Please input your pair of numbers: 845040 29229\n",
      "Please input your pair of numbers: 161317 553640\n",
      "Please input your pair of numbers: 576999 472012\n",
      "Please input your pair of numbers: 990966 474124\n",
      "Please input your pair of numbers: 304851 266696\n",
      "Please input your pair of numbers: 911959 543838\n",
      "1041403 1533078 435502 965488 747931 809866 1475667 874269 714957 1049011 1465090 571547 1455797\n"
     ]
    }
   ],
   "source": [
    "#2021-06-20 codeabbey problem ID:3\n",
    "number = input(\"Please input your number of pairs: \")\n",
    "sum_result = []\n",
    "for n in range(int(number)):\n",
    "    pair = input(\"Please input your pair of numbers: \").split(\" \")\n",
    "    pair = map(lambda x: int(x), pair)\n",
    "    sum_result.append(sum(pair))\n",
    "print(*sum_result, sep = \" \")"
   ]
  },
  {
   "cell_type": "code",
   "execution_count": 6,
   "id": "b5fc5d2c",
   "metadata": {},
   "outputs": [
    {
     "name": "stdout",
     "output_type": "stream",
     "text": [
      "Please input your number of pairs: 23\n",
      "Please input your pair of numbers: 973765 -7824535\n",
      "Please input your pair of numbers: 5563357 -5396844\n",
      "Please input your pair of numbers: -8381475 -4452682\n",
      "Please input your pair of numbers: 1856690 3626081\n",
      "Please input your pair of numbers: 2233509 -1883077\n",
      "Please input your pair of numbers: -4606837 -2258548\n",
      "Please input your pair of numbers: 306109 778764\n",
      "Please input your pair of numbers: 4294358 -5625622\n",
      "Please input your pair of numbers: -6922459 -4814558\n",
      "Please input your pair of numbers: 5129418 -6007465\n",
      "Please input your pair of numbers: -6993904 126719\n",
      "Please input your pair of numbers: 7345898 -2783627\n",
      "Please input your pair of numbers: 4821340 8773501\n",
      "Please input your pair of numbers: -5773398 -7724598\n",
      "Please input your pair of numbers: 7463468 7021845\n",
      "Please input your pair of numbers: 4103603 -3766553\n",
      "Please input your pair of numbers: 5198640 2172028\n",
      "Please input your pair of numbers: -8565530 2412928\n",
      "Please input your pair of numbers: 1387127 2228727\n",
      "Please input your pair of numbers: -3038407 1091091\n",
      "Please input your pair of numbers: 8117484 4528390\n",
      "Please input your pair of numbers: 378010 627199\n",
      "Please input your pair of numbers: -9373306 -1807279\n",
      "-7824535 -5396844 -8381475 1856690 -1883077 -4606837 306109 -5625622 -6922459 -6007465 -6993904 -2783627 4821340 -7724598 7021845 -3766553 2172028 -8565530 1387127 -3038407 4528390 378010 -9373306\n"
     ]
    }
   ],
   "source": [
    "## 2021-06-20 codeabbey problem ID:4\n",
    "number = input(\"Please input your number of pairs: \")\n",
    "min_result = []\n",
    "for n in range(int(number)):\n",
    "    pair = input(\"Please input your pair of numbers: \").split(\" \")\n",
    "    pair = list(map(lambda x: int(x), pair))\n",
    "    if pair[0] < pair[1]:\n",
    "        min_result.append(pair[0])\n",
    "    else: \n",
    "        min_result.append(pair[1])\n",
    "print(*min_result, sep = \" \")"
   ]
  },
  {
   "cell_type": "code",
   "execution_count": 7,
   "id": "0b3d98e5",
   "metadata": {},
   "outputs": [
    {
     "name": "stdout",
     "output_type": "stream",
     "text": [
      "Please input your number of pairs: 22\n",
      "Please input your pair of three numbers: -9225467 5837373 8866184\n",
      "Please input your pair of three numbers: 7202315 -7725474 9399805\n",
      "Please input your pair of three numbers: -3237379 -5993997 9009636\n",
      "Please input your pair of three numbers: -2875601 -700402 9471814\n",
      "Please input your pair of three numbers: 1088147 -3582551 2498854\n",
      "Please input your pair of three numbers: 1717038 -5565617 6211342\n",
      "Please input your pair of three numbers: -2020375 5815914 4894412\n",
      "Please input your pair of three numbers: 8189132 -3360841 9635488\n",
      "Please input your pair of three numbers: -4659606 2479484 -199502\n",
      "Please input your pair of three numbers: 2171398 9403374 8809997\n",
      "Please input your pair of three numbers: -4300213 -2775771 5193193\n",
      "Please input your pair of three numbers: -284393 3009579 -6542925\n",
      "Please input your pair of three numbers: 9031518 -4322515 -8944546\n",
      "Please input your pair of three numbers: -1964452 1788772 -9036423\n",
      "Please input your pair of three numbers: 2461931 5329084 2099107\n",
      "Please input your pair of three numbers: 981239 -8125414 -5206349\n",
      "Please input your pair of three numbers: -8701624 -3081074 3839919\n",
      "Please input your pair of three numbers: -2874176 7156766 -278322\n",
      "Please input your pair of three numbers: -990252 -6817096 35241\n",
      "Please input your pair of three numbers: -6492573 -981986 -6152249\n",
      "Please input your pair of three numbers: 2864764 6449387 -7356496\n",
      "Please input your pair of three numbers: 7326968 -1529586 7691580\n",
      "-9225467 -7725474 -5993997 -2875601 -3582551 -5565617 -2020375 -3360841 -4659606 2171398 -4300213 -6542925 -8944546 -9036423 2099107 -8125414 -8701624 -2874176 -6817096 -6492573 -7356496 -1529586\n"
     ]
    }
   ],
   "source": [
    "## 2021-06-21 codeabbey problem ID:5\n",
    "number = input(\"Please input your number of pairs: \")\n",
    "min_result = []\n",
    "for n in range(int(number)):\n",
    "    pair = input(\"Please input your pair of three numbers: \").split(\" \")\n",
    "    pair = list(map(lambda x: int(x), pair))\n",
    "    min_result.append(min(pair))\n",
    "print(*min_result, sep = \" \")"
   ]
  },
  {
   "cell_type": "code",
   "execution_count": null,
   "id": "92bc6e10",
   "metadata": {},
   "outputs": [],
   "source": []
  }
 ],
 "metadata": {
  "kernelspec": {
   "display_name": "Python 3",
   "language": "python",
   "name": "python3"
  },
  "language_info": {
   "codemirror_mode": {
    "name": "ipython",
    "version": 3
   },
   "file_extension": ".py",
   "mimetype": "text/x-python",
   "name": "python",
   "nbconvert_exporter": "python",
   "pygments_lexer": "ipython3",
   "version": "3.9.5"
  }
 },
 "nbformat": 4,
 "nbformat_minor": 5
}
