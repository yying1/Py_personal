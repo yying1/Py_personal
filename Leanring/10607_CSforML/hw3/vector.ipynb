{
 "cells": [
  {
   "cell_type": "code",
   "execution_count": 1,
   "metadata": {
    "id": "y3jYP7gCCOQ0"
   },
   "outputs": [],
   "source": [
    "import numpy as np\n",
    "import time\n",
    "import matplotlib.pyplot as plt"
   ]
  },
  {
   "cell_type": "markdown",
   "metadata": {
    "id": "bJCjv0jGv8Ul"
   },
   "source": [
    "## Environment for performance testing\n",
    "\n",
    "To make it more likely that we are all running our code in similar environments, if possible, please use Google Colab to run the performance experiments in this file."
   ]
  },
  {
   "cell_type": "markdown",
   "metadata": {
    "id": "HoKDyLFqKeP3"
   },
   "source": [
    "## Three different dot product implementations\n",
    "\n",
    "Implement the following three dot product functions:\n",
    "\n",
    "* `dot_for_loop`: Use a for loop to compute the dot product\n",
    "* `dot_numpy`: Use a numpy operation to compute the dot product\n",
    "* `dot_sparse_for`: Leverage the sparse representation to compute the dot product\n"
   ]
  },
  {
   "cell_type": "code",
   "execution_count": 8,
   "metadata": {
    "id": "ENZCWFh_DHXT"
   },
   "outputs": [],
   "source": [
    "def dot_for_loop(u, v):\n",
    "    \"\"\"\n",
    "    Implement the dot product of vectors u and v **without** using numpy \n",
    "    operations (other than indexing into the array). Specifically, use a for loop\n",
    "    go through the values in the vectors.\n",
    "\n",
    "    When testing performance below, make sure you don't have any print\n",
    "    statements within this function. \n",
    "\n",
    "    Input:\n",
    "    u: NumPy ndarray shape (N,) \n",
    "    v: NumPy ndarray shape (N,) \n",
    "\n",
    "    Return:\n",
    "    A floating point scalar value that is the dot product of u and v\n",
    "    \"\"\"\n",
    "    N = len(u)\n",
    "    assert u.shape == (N,)\n",
    "    assert v.shape == (N,)\n",
    "\n",
    "    ### BEGIN YOUR CODE ###\n",
    "    result = 0.0\n",
    "    for i in range(len(u)):\n",
    "        result += u[i]*v[i]\n",
    "    return result\n",
    "    ### END YOUR CODE ###\n",
    "\n",
    "def dot_numpy(u, v):\n",
    "    \"\"\"\n",
    "    Implement the dot product of vectors u and v using numpy operations.\n",
    "    Do not use any loops in your code. This should probably be only one line.\n",
    "\n",
    "    When testing performance below, make sure you don't have any print\n",
    "    statements within this function. \n",
    "\n",
    "    Input:\n",
    "    u: NumPy ndarray shape (N,) \n",
    "    v: NumPy ndarray shape (N,) \n",
    "\n",
    "    Return:\n",
    "    A floating point scalar value that is the dot product of u and v\n",
    "    \"\"\"\n",
    "    N = len(u)\n",
    "    assert u.shape == (N,)\n",
    "    assert v.shape == (N,)\n",
    "\n",
    "    ### BEGIN YOUR CODE ###\n",
    "    return np.dot(u,v)\n",
    "\n",
    "    ### END YOUR CODE ###\n",
    "\n",
    "def dot_sparse_for(u_sparse, v):\n",
    "    \"\"\"\n",
    "    Implement the dot product of the sparse vectors u and the dense vector v \n",
    "    without using numpy/scipy operations (other than indexing into the array).\n",
    "    Specifically, use a for loop as necessary.\n",
    "\n",
    "    When testing performance below, make sure you don't have any print\n",
    "    statements within this function. \n",
    "\n",
    "    Input:\n",
    "    u_sparse: A list of length K where each entry is a tuple of (index, value),\n",
    "        where the corresponding full vector u whould have u[index] = value.\n",
    "        The full vector vector u would be of length N and contain all zeros \n",
    "        except for K entries specified by u_sparse. However, do **not** \n",
    "        explicitly create this full length N u vector.\n",
    "    v: NumPy ndarray shape (N,) \n",
    "\n",
    "    Return:\n",
    "    A floating point scalar value that is the dot product of u and v\n",
    "    \"\"\"    \n",
    "    ### BEGIN YOUR CODE ###\n",
    "    result = 0.0\n",
    "    for i in u_sparse:\n",
    "            result += i[1]*v[i[0]]\n",
    "    return result\n",
    "    ### END YOUR CODE ###\n"
   ]
  },
  {
   "cell_type": "markdown",
   "metadata": {
    "id": "sf_Hxq_ggwyj"
   },
   "source": [
    "## Write any code here to check your methods above\n",
    "\n",
    "This code will not affect your grade but it is certainly useful to make sure your methods are working."
   ]
  },
  {
   "cell_type": "code",
   "execution_count": null,
   "metadata": {
    "id": "VPWvWeEfgvYx"
   },
   "outputs": [],
   "source": [
    "# Some example N=5 vectors that you can use with your test. You can (and should)\n",
    "# test you code with others too\n",
    "\n",
    "w = np.array([1.5, 2.5, 3.5, -4.0, 5.0])\n",
    "z = np.array([2.0, 2.0, 2.0, 1.0,-1.0])\n",
    "expected_w_dot_z = 1.5*2 + 2.5*2 + 3.5*2 - 4 - 5\n",
    "print(expected_w_dot_z)\n",
    "print(dot_for_loop(w,z))\n",
    "print(dot_numpy(w,z))\n",
    "u_full = np.array([0, 0, 3.5, -4.0, 0])\n",
    "u_sparse = [(2, 3.5), (3, -4.0)] # Just two non-zero entries in u_full\n",
    "print(dot_sparse_for(u_sparse,z))\n",
    "print(dot_numpy(u_full,z))\n",
    "# Example random vector\n",
    "x = np.random.normal(size=5)"
   ]
  },
  {
   "cell_type": "code",
   "execution_count": null,
   "metadata": {
    "id": "rgyGnVbOmVo0"
   },
   "outputs": [],
   "source": [
    "# Example random sparse vector in both full and sparse formats\n",
    "\n",
    "N=5\n",
    "K=2\n",
    "\n",
    "# Choose K random integers from 0 to N-1 without replacement\n",
    "y_nonzero_indices = np.random.choice(N, size=K, replace=False)\n",
    "\n",
    "# K random values to go with our K random locations\n",
    "y_nonzero_values = np.random.normal(size=K)\n",
    "\n",
    "y_sparse = []\n",
    "for i in range(K):\n",
    "    y_sparse.append((y_nonzero_indices[i], y_nonzero_values[i]))\n",
    "# A very Python way to do the above code in one line using Python list comprehension\n",
    "# y_sparse = [(u, v) for u, v in zip(u_indices, u_values)]\n",
    "\n",
    "y_full = np.zeros(N)\n",
    "for i in range(K):\n",
    "    y_full[y_nonzero_indices[i]] =  y_nonzero_values[i]\n",
    "# A very Numpy way to do the above code in one line (in addition to the np.zeros line)\n",
    "y_full[y_nonzero_indices] = y_nonzero_values"
   ]
  },
  {
   "cell_type": "code",
   "execution_count": null,
   "metadata": {
    "id": "xFb2Y9NOjh58"
   },
   "outputs": [],
   "source": [
    "# Add as many correctness test cells as you'd like\n"
   ]
  },
  {
   "cell_type": "markdown",
   "metadata": {
    "id": "MeUr0CG4LJaj"
   },
   "source": [
    "## Performance testing\n",
    "\n",
    "Implement the following three experiments to analyze the performance of the dot product implementations above.\n",
    "\n",
    "* Experiment 1: Get an empirical estimate of the computational complexity of the numpy implementation with respect to the length of the vectors\n",
    "* Experiment 2: Compare performance of the for-loop and numpy implementations as the length of the vectors changes\n",
    "* Experiment 3: Compare performance of the numpy and sparse-for-loop implementations as the length of the vectors changes\n",
    "\n",
    "Be sure to label your plot.\n",
    "\n",
    "You can use `np.random.normal(size=N)` to fill create a length N vector with random numbers from a normal distribution.\n",
    "\n",
    "**Important**: To ensure that each performance test is working with a new piece of memory and new values, create new random vectors before any call to our `dot_*` methods."
   ]
  },
  {
   "cell_type": "code",
   "execution_count": 3,
   "metadata": {
    "id": "DBLTwHqmDLg7"
   },
   "outputs": [
    {
     "data": {
      "image/png": "[encoded data removed]",
      "text/plain": [
       "<Figure size 432x288 with 1 Axes>"
      ]
     },
     "metadata": {
      "needs_background": "light"
     },
     "output_type": "display_data"
    }
   ],
   "source": [
    "\"\"\"\n",
    "Experiment 1\n",
    "Plot numpy performance vs N\n",
    "\n",
    "For values N = 10,000,000 to 100,000,000 in increments of 10,000,000,\n",
    "plot the time it takes to execute the line dot_numpy(u,v) where u and v\n",
    "are vectors filled with N random numbers each.\n",
    "\"\"\"\n",
    "\n",
    "# List of values for N from 1e7 to 1e8 in increments of 1e7\n",
    "N_values = [a*10**7 for a in range(1,11)]\n",
    "\n",
    "### BEGIN YOUR CODE ###\n",
    "times = []\n",
    "for n in N_values:\n",
    "    u = np.random.choice(n, size=n, replace=False)\n",
    "    v= np.random.choice(n, size=n, replace=False)\n",
    "    start = time.time()\n",
    "    dot_numpy(u,v)\n",
    "    end = time.time()\n",
    "    times.append(end-start)\n",
    "plt.plot(N_values, times,'ob')\n",
    "plt.xlabel(\"N value\")\n",
    "plt.ylabel(\"Time taken\")\n",
    "plt.savefig('2_1.png')\n",
    "plt.show()\n",
    "### END YOUR CODE ###"
   ]
  },
  {
   "cell_type": "code",
   "execution_count": 4,
   "metadata": {
    "id": "-obkWMbPDSvW"
   },
   "outputs": [
    {
     "name": "stderr",
     "output_type": "stream",
     "text": [
      "C:\\Users\\yingy\\AppData\\Local\\Programs\\Python\\Python37\\lib\\site-packages\\ipykernel_launcher.py:24: RuntimeWarning: overflow encountered in long_scalars\n"
     ]
    },
    {
     "data": {
      "image/png": "[encoded data removed]",
      "text/plain": [
       "<Figure size 432x288 with 1 Axes>"
      ]
     },
     "metadata": {
      "needs_background": "light"
     },
     "output_type": "display_data"
    }
   ],
   "source": [
    "\"\"\"\n",
    "Experiment 2\n",
    "Plot for-loop and numpy performance vs N\n",
    "\n",
    "For values N = 1,000,000 to 10,000,000 in increments of 1,000,000, \n",
    "(note the different range from experiment 1)\n",
    "create one plot that compares the times it takes to execute dot_numpy(u,v) and \n",
    "dot_for_loop(w, z) where u, v, w, z are four different vectors filled with N \n",
    "random numbers each.\n",
    "\n",
    "*** For a fair comparison, make sure u, v, w, and z are all different random \n",
    "vectors. Of course the resulting answers for this two methods won't be the \n",
    "same, but we care about comparing performance here (you should have already \n",
    "checked correctness in your earlier tests).\n",
    "These should also be completely new random vectors for each value of N.\n",
    "\n",
    "\"\"\"\n",
    "\n",
    "# List of values for N from 1e6 to 1e7 in increments of 1e6\n",
    "N_values = [a*10**6 for a in range(1,11)]\n",
    "\n",
    "### BEGIN YOUR CODE ###\n",
    "times_np = []\n",
    "times_loop = []\n",
    "for n in N_values:\n",
    "    u = np.random.choice(n, size=n, replace=False)\n",
    "    v= np.random.choice(n, size=n, replace=False)\n",
    "    start = time.time()\n",
    "    dot_numpy(u,v)\n",
    "    end = time.time()\n",
    "    times_np.append(end-start)\n",
    "for n in N_values:\n",
    "    w = np.random.choice(n, size=n, replace=False)\n",
    "    z = np.random.choice(n, size=n, replace=False)\n",
    "    start = time.time()\n",
    "    dot_for_loop(w,z)\n",
    "    end = time.time()\n",
    "    times_loop.append(end-start)\n",
    "plt.plot(N_values, times_np,'b',label=\"dot_numpy\")\n",
    "plt.plot(N_values, times_loop,'r',label=\"dot_for_loop\")\n",
    "plt.xlabel(\"N value\")\n",
    "plt.ylabel(\"Time taken\")\n",
    "plt.legend(loc=\"upper left\")\n",
    "plt.savefig('2_2.png')\n",
    "plt.show()\n",
    "\n",
    "### END YOUR CODE ###\n"
   ]
  },
  {
   "cell_type": "code",
   "execution_count": 10,
   "metadata": {
    "id": "NxLRrNZvECn2"
   },
   "outputs": [
    {
     "name": "stdout",
     "output_type": "stream",
     "text": [
      "[0.059963226318359375] [0.008004188537597656]\n",
      "[0.059963226318359375, 0.049970388412475586] [0.008004188537597656, 0.012992382049560547]\n",
      "[0.059963226318359375, 0.049970388412475586, 0.05299186706542969] [0.008004188537597656, 0.012992382049560547, 0.018988609313964844]\n",
      "[0.059963226318359375, 0.049970388412475586, 0.05299186706542969, 0.04595160484313965] [0.008004188537597656, 0.012992382049560547, 0.018988609313964844, 0.024985313415527344]\n",
      "[0.059963226318359375, 0.049970388412475586, 0.05299186706542969, 0.04595160484313965, 0.05299043655395508] [0.008004188537597656, 0.012992382049560547, 0.018988609313964844, 0.024985313415527344, 0.028962373733520508]\n",
      "[0.059963226318359375, 0.049970388412475586, 0.05299186706542969, 0.04595160484313965, 0.05299043655395508, 0.04897308349609375] [0.008004188537597656, 0.012992382049560547, 0.018988609313964844, 0.024985313415527344, 0.028962373733520508, 0.03797769546508789]\n",
      "[0.059963226318359375, 0.049970388412475586, 0.05299186706542969, 0.04595160484313965, 0.05299043655395508, 0.04897308349609375, 0.04499530792236328] [0.008004188537597656, 0.012992382049560547, 0.018988609313964844, 0.024985313415527344, 0.028962373733520508, 0.03797769546508789, 0.03897523880004883]\n",
      "[0.059963226318359375, 0.049970388412475586, 0.05299186706542969, 0.04595160484313965, 0.05299043655395508, 0.04897308349609375, 0.04499530792236328, 0.04794931411743164] [0.008004188537597656, 0.012992382049560547, 0.018988609313964844, 0.024985313415527344, 0.028962373733520508, 0.03797769546508789, 0.03897523880004883, 0.04799246788024902]\n",
      "[0.059963226318359375, 0.049970388412475586, 0.05299186706542969, 0.04595160484313965, 0.05299043655395508, 0.04897308349609375, 0.04499530792236328, 0.04794931411743164, 0.045952558517456055] [0.008004188537597656, 0.012992382049560547, 0.018988609313964844, 0.024985313415527344, 0.028962373733520508, 0.03797769546508789, 0.03897523880004883, 0.04799246788024902, 0.04897260665893555]\n",
      "[0.059963226318359375, 0.049970388412475586, 0.05299186706542969, 0.04595160484313965, 0.05299043655395508, 0.04897308349609375, 0.04499530792236328, 0.04794931411743164, 0.045952558517456055, 0.04994940757751465] [0.008004188537597656, 0.012992382049560547, 0.018988609313964844, 0.024985313415527344, 0.028962373733520508, 0.03797769546508789, 0.03897523880004883, 0.04799246788024902, 0.04897260665893555, 0.06998062133789062]\n"
     ]
    },
    {
     "data": {
      "image/png": "[encoded data removed]",
      "text/plain": [
       "<Figure size 432x288 with 1 Axes>"
      ]
     },
     "metadata": {
      "needs_background": "light"
     },
     "output_type": "display_data"
    }
   ],
   "source": [
    "\"\"\"\n",
    "Experiment 3\n",
    "Plot sparse-for-loop and numpy performance vs K (not N)\n",
    "\n",
    "For values K = 10,000 to 100,000 in increments of 10,000 \n",
    "and a fixed value of N = 10,000,000, create one plot that compares the times it\n",
    "takes to execute dot_sparse_for(u_sparse,v) and dot_numpy(w_full, z) where:\n",
    "--- v, z are two different dense vectors filled with N random numbers each\n",
    "--- u_sparse is our sparse representation of a length N vector with only \n",
    "    K nonzeros. The K nonzeros should be random values in K random locations\n",
    "--- w_full is another length N vector with only K nonzeros. However, w_full is\n",
    "    a length N NumPy array (with N-K zeros). Like u_sparse, the K nonzeros \n",
    "    should be random values in K random locations\n",
    "\n",
    "*** Like Experiment 2, for a fair comparison, make sure u_sparse, v, w_full, \n",
    "and z are all different random vectors. These should also be completely new \n",
    "random vectors for each value of N.\n",
    "\n",
    "\"\"\"\n",
    "K_values = [a*10**4 for a in range(1,11)]\n",
    "N = 10**7\n",
    "\n",
    "### BEGIN YOUR CODE ###\n",
    "times_np = []\n",
    "times_sparseloop = []\n",
    "for k in K_values:\n",
    "    v = np.random.choice(N, size=N, replace=False)\n",
    "    u_nonzero_indices = np.random.choice(N, size=k, replace=False)\n",
    "    u_nonzero_values = np.random.normal(size=k)\n",
    "    u_sparse = []\n",
    "    for i in range(k):\n",
    "        u_sparse.append((u_nonzero_indices[i], u_nonzero_values[i]))\n",
    "    start = time.time()\n",
    "    dot_sparse_for(u_sparse,v)\n",
    "    end = time.time()\n",
    "    times_sparseloop.append(end-start)\n",
    "    z = np.random.choice(N, size=N, replace=False)\n",
    "    w_full = np.zeros(N)\n",
    "    w_full[u_nonzero_indices] = u_nonzero_values\n",
    "    start = time.time()\n",
    "    dot_numpy(w_full,z)\n",
    "    end = time.time()\n",
    "    times_np.append(end-start)\n",
    "    print(times_np,times_sparseloop)\n",
    "plt.plot(K_values, times_np,'b',label=\"dot_numpy(w_full, z)\")\n",
    "plt.plot(K_values, times_sparseloop,'r',label=\"dot_sparse_for(u_sparse,v)\")\n",
    "plt.xlabel(\"K value\")\n",
    "plt.ylabel(\"Time taken\")\n",
    "plt.legend(loc=\"upper left\")\n",
    "plt.savefig('2_3.png')\n",
    "plt.show()\n",
    "\n",
    "### END YOUR CODE ###\n"
   ]
  },
  {
   "cell_type": "markdown",
   "metadata": {
    "id": "uKYbuLI-unD4"
   },
   "source": [
    "## Submisson\n",
    "\n",
    "1. Answer the associated questions and include your plots in the written component of this homework. \n",
    "2. Save this notebook as `vector.ipynb` and submit this as part of the programming component of this homework on Gradescope. Note there are no autograder tests associated with this submitted file on Gradescope. We just need to see the code for your dot product implementations and your experiments."
   ]
  },
  {
   "cell_type": "code",
   "execution_count": 6,
   "metadata": {
    "id": "wV4ve2K_vkvK"
   },
   "outputs": [
    {
     "name": "stdout",
     "output_type": "stream",
     "text": [
      "0.001\n"
     ]
    }
   ],
   "source": [
    " n = 1000000\n",
    "print(n**0.5/n)"
   ]
  }
 ],
 "metadata": {
  "colab": {
   "authorship_tag": "ABX9TyNvLCbA43N5QYjlpmMIMDkY",
   "collapsed_sections": [],
   "name": "vector.ipynb",
   "provenance": []
  },
  "kernelspec": {
   "display_name": "Python 3",
   "language": "python",
   "name": "python3"
  },
  "language_info": {
   "codemirror_mode": {
    "name": "ipython",
    "version": 3
   },
   "file_extension": ".py",
   "mimetype": "text/x-python",
   "name": "python",
   "nbconvert_exporter": "python",
   "pygments_lexer": "ipython3",
   "version": "3.7.2"
  }
 },
 "nbformat": 4,
 "nbformat_minor": 1
}
