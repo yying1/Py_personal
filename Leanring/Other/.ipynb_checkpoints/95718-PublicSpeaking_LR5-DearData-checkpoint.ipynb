{
 "cells": [
  {
   "cell_type": "markdown",
   "id": "9e8d45d7",
   "metadata": {},
   "source": [
    "### 95718 Public Speaking LR5 DearData \n",
    "Last Updated on 2022-02-13"
   ]
  },
  {
   "cell_type": "code",
   "execution_count": 11,
   "id": "32c54f44",
   "metadata": {},
   "outputs": [],
   "source": [
    "import pandas as pd\n",
    "import datetime\n",
    "import re"
   ]
  },
  {
   "cell_type": "code",
   "execution_count": 2,
   "id": "3a1a4788",
   "metadata": {},
   "outputs": [],
   "source": [
    "raw_list = []\n",
    "with open(\"TickTick_20210801-20200213.txt\",encoding = \"UTF-8\") as f:\n",
    "    raw_list = f.readlines()"
   ]
  },
  {
   "cell_type": "code",
   "execution_count": 3,
   "id": "97730d97",
   "metadata": {},
   "outputs": [],
   "source": [
    "df = pd.DataFrame(columns = [\"Month\",\"Day\",\"Tag\",\"Task\"])"
   ]
  },
  {
   "cell_type": "code",
   "execution_count": 4,
   "id": "08903cbc",
   "metadata": {},
   "outputs": [],
   "source": [
    "def month_convert(m):\n",
    "    datetime_object = datetime.datetime.strptime(m, \"%B\")\n",
    "    return datetime_object.month"
   ]
  },
  {
   "cell_type": "code",
   "execution_count": 5,
   "id": "1a84fac7",
   "metadata": {},
   "outputs": [],
   "source": [
    "for r in raw_list:\n",
    "    if r.startswith(\"-\"):\n",
    "        month_string = r.split(\"]\")[0].split(\"[\")[1].split(\" \")[0]\n",
    "        month = month_convert(month_string)\n",
    "        date = r.split(\"]\")[0].split(\"[\")[1].split(\" \")[1].strip()\n",
    "        string_rest = r.split(\"]\")[1].strip()\n",
    "        if string_rest.startswith(\"#\"):\n",
    "            tag = string_rest.split(\" \")[0]\n",
    "            task = string_rest.replace(tag,\"\").strip()\n",
    "        else:\n",
    "            tag = \"General\"\n",
    "            task = string_rest\n",
    "        df.loc[len(df)] = [month,date,tag,task]"
   ]
  },
  {
   "cell_type": "code",
   "execution_count": 7,
   "id": "05f622f8",
   "metadata": {
    "collapsed": true
   },
   "outputs": [
    {
     "data": {
      "text/html": [
       "<div>\n",
       "<style scoped>\n",
       "    .dataframe tbody tr th:only-of-type {\n",
       "        vertical-align: middle;\n",
       "    }\n",
       "\n",
       "    .dataframe tbody tr th {\n",
       "        vertical-align: top;\n",
       "    }\n",
       "\n",
       "    .dataframe thead th {\n",
       "        text-align: right;\n",
       "    }\n",
       "</style>\n",
       "<table border=\"1\" class=\"dataframe\">\n",
       "  <thead>\n",
       "    <tr style=\"text-align: right;\">\n",
       "      <th></th>\n",
       "      <th>Month</th>\n",
       "      <th>Day</th>\n",
       "      <th>Tag</th>\n",
       "      <th>Task</th>\n",
       "    </tr>\n",
       "  </thead>\n",
       "  <tbody>\n",
       "    <tr>\n",
       "      <th>0</th>\n",
       "      <td>8</td>\n",
       "      <td>1</td>\n",
       "      <td>General</td>\n",
       "      <td>Python automation with OS - Week 4</td>\n",
       "    </tr>\n",
       "    <tr>\n",
       "      <th>1</th>\n",
       "      <td>8</td>\n",
       "      <td>2</td>\n",
       "      <td>General</td>\n",
       "      <td>Codeabbey with Python: 1 per day</td>\n",
       "    </tr>\n",
       "    <tr>\n",
       "      <th>2</th>\n",
       "      <td>8</td>\n",
       "      <td>2</td>\n",
       "      <td>General</td>\n",
       "      <td>Deep Learning - Week 2</td>\n",
       "    </tr>\n",
       "    <tr>\n",
       "      <th>3</th>\n",
       "      <td>8</td>\n",
       "      <td>3</td>\n",
       "      <td>General</td>\n",
       "      <td>Codeabbey with Python: 1 per day</td>\n",
       "    </tr>\n",
       "    <tr>\n",
       "      <th>4</th>\n",
       "      <td>8</td>\n",
       "      <td>3</td>\n",
       "      <td>General</td>\n",
       "      <td>Codeabbey with Java: 1 per day</td>\n",
       "    </tr>\n",
       "    <tr>\n",
       "      <th>5</th>\n",
       "      <td>8</td>\n",
       "      <td>4</td>\n",
       "      <td>General</td>\n",
       "      <td>Codeabbey with Java: 1 per day</td>\n",
       "    </tr>\n",
       "    <tr>\n",
       "      <th>6</th>\n",
       "      <td>8</td>\n",
       "      <td>4</td>\n",
       "      <td>General</td>\n",
       "      <td>Codeabbey with Java: 1 per day</td>\n",
       "    </tr>\n",
       "    <tr>\n",
       "      <th>7</th>\n",
       "      <td>8</td>\n",
       "      <td>5</td>\n",
       "      <td>General</td>\n",
       "      <td>Codeabbey with Python: 1 per day</td>\n",
       "    </tr>\n",
       "    <tr>\n",
       "      <th>8</th>\n",
       "      <td>8</td>\n",
       "      <td>5</td>\n",
       "      <td>General</td>\n",
       "      <td>Codeabbey with Python: 1 per day</td>\n",
       "    </tr>\n",
       "    <tr>\n",
       "      <th>9</th>\n",
       "      <td>8</td>\n",
       "      <td>7</td>\n",
       "      <td>General</td>\n",
       "      <td>Codeabbey with Python: 1 per day</td>\n",
       "    </tr>\n",
       "    <tr>\n",
       "      <th>10</th>\n",
       "      <td>8</td>\n",
       "      <td>7</td>\n",
       "      <td>General</td>\n",
       "      <td>Codeabbey with Java: 1 per day</td>\n",
       "    </tr>\n",
       "    <tr>\n",
       "      <th>11</th>\n",
       "      <td>8</td>\n",
       "      <td>11</td>\n",
       "      <td>General</td>\n",
       "      <td>Setup Student Afford</td>\n",
       "    </tr>\n",
       "    <tr>\n",
       "      <th>12</th>\n",
       "      <td>8</td>\n",
       "      <td>11</td>\n",
       "      <td>General</td>\n",
       "      <td>Housing</td>\n",
       "    </tr>\n",
       "    <tr>\n",
       "      <th>13</th>\n",
       "      <td>8</td>\n",
       "      <td>12</td>\n",
       "      <td>General</td>\n",
       "      <td>核酸 - 纸质英文报告</td>\n",
       "    </tr>\n",
       "    <tr>\n",
       "      <th>14</th>\n",
       "      <td>8</td>\n",
       "      <td>12</td>\n",
       "      <td>General</td>\n",
       "      <td>Get a new phone #</td>\n",
       "    </tr>\n",
       "    <tr>\n",
       "      <th>15</th>\n",
       "      <td>8</td>\n",
       "      <td>13</td>\n",
       "      <td>General</td>\n",
       "      <td>Online check-in flight</td>\n",
       "    </tr>\n",
       "    <tr>\n",
       "      <th>16</th>\n",
       "      <td>8</td>\n",
       "      <td>16</td>\n",
       "      <td>General</td>\n",
       "      <td>Collect Student ID from office</td>\n",
       "    </tr>\n",
       "    <tr>\n",
       "      <th>17</th>\n",
       "      <td>8</td>\n",
       "      <td>17</td>\n",
       "      <td>General</td>\n",
       "      <td>Intramural soccer application</td>\n",
       "    </tr>\n",
       "    <tr>\n",
       "      <th>18</th>\n",
       "      <td>8</td>\n",
       "      <td>18</td>\n",
       "      <td>General</td>\n",
       "      <td>On campus job</td>\n",
       "    </tr>\n",
       "    <tr>\n",
       "      <th>19</th>\n",
       "      <td>8</td>\n",
       "      <td>18</td>\n",
       "      <td>General</td>\n",
       "      <td>EverFi Courses</td>\n",
       "    </tr>\n",
       "  </tbody>\n",
       "</table>\n",
       "</div>"
      ],
      "text/plain": [
       "   Month Day      Tag                                Task\n",
       "0      8   1  General  Python automation with OS - Week 4\n",
       "1      8   2  General    Codeabbey with Python: 1 per day\n",
       "2      8   2  General              Deep Learning - Week 2\n",
       "3      8   3  General    Codeabbey with Python: 1 per day\n",
       "4      8   3  General      Codeabbey with Java: 1 per day\n",
       "5      8   4  General      Codeabbey with Java: 1 per day\n",
       "6      8   4  General      Codeabbey with Java: 1 per day\n",
       "7      8   5  General    Codeabbey with Python: 1 per day\n",
       "8      8   5  General    Codeabbey with Python: 1 per day\n",
       "9      8   7  General    Codeabbey with Python: 1 per day\n",
       "10     8   7  General      Codeabbey with Java: 1 per day\n",
       "11     8  11  General                Setup Student Afford\n",
       "12     8  11  General                             Housing\n",
       "13     8  12  General                         核酸 - 纸质英文报告\n",
       "14     8  12  General                   Get a new phone #\n",
       "15     8  13  General              Online check-in flight\n",
       "16     8  16  General      Collect Student ID from office\n",
       "17     8  17  General       Intramural soccer application\n",
       "18     8  18  General                       On campus job\n",
       "19     8  18  General                      EverFi Courses"
      ]
     },
     "execution_count": 7,
     "metadata": {},
     "output_type": "execute_result"
    }
   ],
   "source": [
    "df[0:20]"
   ]
  },
  {
   "cell_type": "code",
   "execution_count": 8,
   "id": "91276cfc",
   "metadata": {},
   "outputs": [],
   "source": [
    "df.to_excel(\"ticktick_summary.xlsx\",index = False,encoding = \"UTF-8\")"
   ]
  },
  {
   "cell_type": "code",
   "execution_count": 17,
   "id": "c4c1baf6",
   "metadata": {},
   "outputs": [],
   "source": [
    "## Word analysis\n",
    "String_Dict = {}\n",
    "for i in range(len(df)):\n",
    "    task = df.at[i,'Task'].lower()\n",
    "    task= re.sub('[^a-zA-Z]+', ' ', task)\n",
    "    word_list = task.split(\" \")\n",
    "    word_list = [x.strip() for x in word_list if x !=\"\"]\n",
    "    for word in word_list:\n",
    "        if word in String_Dict.keys():\n",
    "            String_Dict[word] = String_Dict[word]+1\n",
    "        else:\n",
    "            String_Dict[word] = 1"
   ]
  },
  {
   "cell_type": "code",
   "execution_count": 19,
   "id": "c283a1aa",
   "metadata": {},
   "outputs": [],
   "source": [
    "String_Dict = {k: v for k, v in sorted(String_Dict.items(), key=lambda item: item[1],reverse=True)}"
   ]
  },
  {
   "cell_type": "code",
   "execution_count": 21,
   "id": "fa1b0141",
   "metadata": {},
   "outputs": [
    {
     "data": {
      "text/plain": [
       "255"
      ]
     },
     "execution_count": 21,
     "metadata": {},
     "output_type": "execute_result"
    }
   ],
   "source": [
    "len(String_Dict)"
   ]
  },
  {
   "cell_type": "code",
   "execution_count": 22,
   "id": "1194d429",
   "metadata": {},
   "outputs": [
    {
     "data": {
      "text/plain": [
       "1221"
      ]
     },
     "execution_count": 22,
     "metadata": {},
     "output_type": "execute_result"
    }
   ],
   "source": [
    "sum(String_Dict.values())"
   ]
  },
  {
   "cell_type": "code",
   "execution_count": 23,
   "id": "d4f22033",
   "metadata": {},
   "outputs": [
    {
     "data": {
      "text/plain": [
       "4.788235294117647"
      ]
     },
     "execution_count": 23,
     "metadata": {},
     "output_type": "execute_result"
    }
   ],
   "source": [
    "1221/255"
   ]
  }
 ],
 "metadata": {
  "kernelspec": {
   "display_name": "Python 3 (ipykernel)",
   "language": "python",
   "name": "python3"
  },
  "language_info": {
   "codemirror_mode": {
    "name": "ipython",
    "version": 3
   },
   "file_extension": ".py",
   "mimetype": "text/x-python",
   "name": "python",
   "nbconvert_exporter": "python",
   "pygments_lexer": "ipython3",
   "version": "3.10.0"
  }
 },
 "nbformat": 4,
 "nbformat_minor": 5
}
