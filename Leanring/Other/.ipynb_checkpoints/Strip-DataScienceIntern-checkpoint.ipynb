{
 "cells": [
  {
   "cell_type": "markdown",
   "id": "30cdfe02",
   "metadata": {},
   "source": [
    "## Stripe: Data Science Intern - Written Project\n",
    "#### Frank Yue Ying | 2022-03-07"
   ]
  },
  {
   "cell_type": "markdown",
   "id": "55514b6a",
   "metadata": {},
   "source": [
    "### Raw Data\n",
    "merchant transaction activity, for merchants that start over a 2 year period (2033-2034). The data spans from 1/1/33 through 12/31/34. Each observation is a transaction amount in cents.\n",
    "#### Columns\n",
    "1. ID: [1,1513719] natural order of rows in raw data\n",
    "2. merchant: unique merchant ID with length of 10 digits & letters\n",
    "3. time: format as YYYY-MM-DD HH:mm:ss, assuming in the same timezone\n",
    "4. amount_usd_in_cents: integer number in cents"
   ]
  },
  {
   "cell_type": "code",
   "execution_count": 14,
   "id": "7887558e",
   "metadata": {},
   "outputs": [],
   "source": [
    "import pandas as pd\n",
    "import numpy as np"
   ]
  },
  {
   "cell_type": "code",
   "execution_count": 6,
   "id": "943ce537",
   "metadata": {},
   "outputs": [],
   "source": [
    "#Load the data\n",
    "raw_data = pd.read_csv(\"takehome_ds_written.csv\",header = 0,index_col =0)\n",
    "raw_data.head()"
   ]
  },
  {
   "cell_type": "code",
   "execution_count": 17,
   "id": "83fa0d83",
   "metadata": {},
   "outputs": [],
   "source": [
    "#Transform the data: break time into year, month, day\n",
    "data = raw_data.copy()\n",
    "def convert_time(row,x):\n",
    "    if x == 'year':\n",
    "        return row.split(\" \")[0].split(\"-\")[0]\n",
    "    elif x == 'month':\n",
    "        return row.split(\" \")[0].split(\"-\")[1]\n",
    "    elif x == 'day':\n",
    "        return row.split(\" \")[0].split(\"-\")[2]\n",
    "\n",
    "data['year'] = np.vectorize(convert_time)(data['time'], 'year')\n",
    "data['month'] = np.vectorize(convert_time)(data['time'], 'month')\n",
    "data['day'] = np.vectorize(convert_time)(data['time'], 'day')"
   ]
  },
  {
   "cell_type": "code",
   "execution_count": 44,
   "id": "ef5b681d",
   "metadata": {},
   "outputs": [
    {
     "data": {
      "text/plain": [
       "merchant               object\n",
       "time                   object\n",
       "amount_usd_in_cents     int64\n",
       "year                   object\n",
       "month                  object\n",
       "day                    object\n",
       "dtype: object"
      ]
     },
     "execution_count": 44,
     "metadata": {},
     "output_type": "execute_result"
    }
   ],
   "source": [
    "data.dtypes"
   ]
  },
  {
   "cell_type": "code",
   "execution_count": 23,
   "id": "47ae4132",
   "metadata": {
    "collapsed": true
   },
   "outputs": [
    {
     "data": {
      "text/plain": [
       "year  month\n",
       "2033  01        390\n",
       "      02        656\n",
       "      03        964\n",
       "      04       1164\n",
       "      05       1402\n",
       "      06       1639\n",
       "      07       1864\n",
       "      08       2149\n",
       "      09       2324\n",
       "      10       2562\n",
       "      11       2785\n",
       "      12       3107\n",
       "2034  01       3227\n",
       "      02       3490\n",
       "      03       3931\n",
       "      04       4079\n",
       "      05       4437\n",
       "      06       4630\n",
       "      07       4789\n",
       "      08       5175\n",
       "      09       5273\n",
       "      10       5740\n",
       "      11       5955\n",
       "      12       6126\n",
       "Name: merchant, dtype: int64"
      ]
     },
     "execution_count": 23,
     "metadata": {},
     "output_type": "execute_result"
    }
   ],
   "source": [
    "#Group by year & month\n",
    "data_ByYear = data.groupby([\"year\",\"month\"])[\"merchant\"].nunique()\n",
    "data_ByYear"
   ]
  },
  {
   "cell_type": "code",
   "execution_count": 24,
   "id": "936455db",
   "metadata": {},
   "outputs": [],
   "source": [
    "# set up unique merchant-based tracking table \n",
    "merchants = data['merchant'].unique().tolist()"
   ]
  },
  {
   "cell_type": "code",
   "execution_count": 68,
   "id": "35e4523b",
   "metadata": {},
   "outputs": [],
   "source": [
    "len(merchants)\n",
    "merchant_data = pd.DataFrame(columns = [\"id\"])\n",
    "merchant_data.set_index(\"id\")\n",
    "merchant_data_columns_dict = {}\n",
    "for year in ['count-2033','count-2034','volume-2033','volume-2034']:\n",
    "    for month in range(1,13):\n",
    "        merchant_data[year+\"-\"+str(month)] = 0\n",
    "        merchant_data_columns_dict[year+\"-\"+str(month)] = 0\n",
    "\n",
    "def query_merchant(dt,merchant,merchant_data_columns_dict):\n",
    "    merchant_data_values = merchant_data_columns_dict.copy()\n",
    "    merchant_data = dt.loc[dt['merchant'] == merchant]\n",
    "    merchant_data = merchant_data.groupby([\"year\",\"month\"]).agg({\"amount_usd_in_cents\": [np.count_nonzero, np.sum]}).reset_index()\n",
    "    for index, row in merchant_data.iterrows():\n",
    "        merchant_data_columns_dict['count-'+str(row['year'].values[0])+\"-\"+str(int(row['month'].values[0]))] = int(row[2])\n",
    "        merchant_data_columns_dict['volume-'+str(row['year'].values[0])+\"-\"+str(int(row['month'].values[0]))] = int(row[3])\n",
    "    return pd.DataFrame([merchant_data_columns_dict], columns=merchant_data_columns_dict.keys())\n",
    "\n",
    "for merchant in merchants:\n",
    "    merchant_dt = query_merchant(data,merchant,merchant_data_columns_dict)\n",
    "    merchant_dt['id'] = merchant\n",
    "    merchant_data = pd.concat([merchant_data, merchant_dt], axis=0)\n",
    "\n",
    "merchant_data.to_csv(\"merchant_data.csv\", index = False)"
   ]
  },
  {
   "cell_type": "code",
   "execution_count": 59,
   "id": "6faea9cd",
   "metadata": {},
   "outputs": [
    {
     "name": "stdout",
     "output_type": "stream",
     "text": [
      "    year month amount_usd_in_cents         \n",
      "                     count_nonzero      sum\n",
      "0   2033    08                  11   218133\n",
      "1   2033    09                  38   454400\n",
      "2   2033    10                  20   309162\n",
      "3   2033    11                  11   170170\n",
      "4   2033    12                  45   766358\n",
      "5   2034    01                  28   483214\n",
      "6   2034    02                  34   667433\n",
      "7   2034    03                  36   539391\n",
      "8   2034    04                  29   618490\n",
      "9   2034    05                  19   401317\n",
      "10  2034    06                  25   422276\n",
      "11  2034    07                  28   639421\n",
      "12  2034    08                  38   488288\n",
      "13  2034    09                  34   707890\n",
      "14  2034    10                  30   557971\n",
      "15  2034    11                  83  1071722\n",
      "16  2034    12                  35   585480\n",
      "   count-2033-08  volume-2033-08  count-2033-09  volume-2033-09  \\\n",
      "0             11          218133             38          454400   \n",
      "\n",
      "   count-2033-10  volume-2033-10  count-2033-11  volume-2033-11  \\\n",
      "0             20          309162             11          170170   \n",
      "\n",
      "   count-2033-12  volume-2033-12  ...  count-2034-08  volume-2034-08  \\\n",
      "0             45          766358  ...             38          488288   \n",
      "\n",
      "   count-2034-09  volume-2034-09  count-2034-10  volume-2034-10  \\\n",
      "0             34          707890             30          557971   \n",
      "\n",
      "   count-2034-11  volume-2034-11  count-2034-12  volume-2034-12  \n",
      "0             83         1071722             35          585480  \n",
      "\n",
      "[1 rows x 34 columns]\n"
     ]
    }
   ],
   "source": []
  },
  {
   "cell_type": "code",
   "execution_count": null,
   "id": "a66a8fe8",
   "metadata": {},
   "outputs": [],
   "source": []
  },
  {
   "cell_type": "code",
   "execution_count": null,
   "id": "382655a1",
   "metadata": {},
   "outputs": [],
   "source": []
  },
  {
   "cell_type": "markdown",
   "id": "193ebe4d",
   "metadata": {},
   "source": [
    "### References\n",
    "1. https://chaotic-flow.com/saas-metrics-faqs-what-is-churn/#:~:text=SaaS%20churn%20is%20the%20percentage,important%20parameter%20in%20revenue%20forecasting.\n",
    "2. https://dataconomy.com/2017/07/churn-predictive-analytics/"
   ]
  }
 ],
 "metadata": {
  "kernelspec": {
   "display_name": "Python 3 (ipykernel)",
   "language": "python",
   "name": "python3"
  },
  "language_info": {
   "codemirror_mode": {
    "name": "ipython",
    "version": 3
   },
   "file_extension": ".py",
   "mimetype": "text/x-python",
   "name": "python",
   "nbconvert_exporter": "python",
   "pygments_lexer": "ipython3",
   "version": "3.10.0"
  }
 },
 "nbformat": 4,
 "nbformat_minor": 5
}
