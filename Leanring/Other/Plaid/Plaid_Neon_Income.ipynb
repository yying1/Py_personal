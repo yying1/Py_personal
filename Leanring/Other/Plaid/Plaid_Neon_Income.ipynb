{
 "cells": [
  {
   "cell_type": "markdown",
   "id": "54d18c26",
   "metadata": {},
   "source": [
    "# Plaid API for Income Data\n",
    "## Last Updated: 2022-05-26"
   ]
  },
  {
   "cell_type": "markdown",
   "id": "9b002d62",
   "metadata": {},
   "source": [
    "---"
   ]
  },
  {
   "cell_type": "code",
   "execution_count": null,
   "id": "b51f0780",
   "metadata": {},
   "outputs": [],
   "source": []
  },
  {
   "cell_type": "code",
   "execution_count": null,
   "id": "0c51a43d",
   "metadata": {},
   "outputs": [],
   "source": [
    "#Create User Token\n"
   ]
  },
  {
   "cell_type": "code",
   "execution_count": null,
   "id": "94099eca",
   "metadata": {},
   "outputs": [],
   "source": []
  },
  {
   "cell_type": "code",
   "execution_count": null,
   "id": "d1f2aca6",
   "metadata": {},
   "outputs": [],
   "source": []
  },
  {
   "cell_type": "markdown",
   "id": "088a9446",
   "metadata": {},
   "source": [
    "Plaid Income API: https://plaid.com/docs/api/products/income/\n",
    "Sandbox income request: https://plaid.com/docs/api/sandbox/#sandboxincomefire_webhook"
   ]
  }
 ],
 "metadata": {
  "kernelspec": {
   "display_name": "Python 3 (ipykernel)",
   "language": "python",
   "name": "python3"
  },
  "language_info": {
   "codemirror_mode": {
    "name": "ipython",
    "version": 3
   },
   "file_extension": ".py",
   "mimetype": "text/x-python",
   "name": "python",
   "nbconvert_exporter": "python",
   "pygments_lexer": "ipython3",
   "version": "3.8.9"
  }
 },
 "nbformat": 4,
 "nbformat_minor": 5
}
