{
 "cells": [
  {
   "cell_type": "markdown",
   "id": "30cdfe02",
   "metadata": {},
   "source": [
    "## Stripe: Data Science Intern - Written Project\n",
    "#### Frank Yue Ying | 2022-03-07"
   ]
  },
  {
   "cell_type": "markdown",
   "id": "55514b6a",
   "metadata": {},
   "source": [
    "### Raw Data\n",
    "merchant transaction activity, for merchants that start over a 2 year period (2033-2034). The data spans from 1/1/33 through 12/31/34. Each observation is a transaction amount in cents.\n",
    "#### Columns\n",
    "1. ID: [1,1513719] natural order of rows in raw data\n",
    "2. merchant: unique merchant ID with length of 10 digits & letters\n",
    "3. time: format as YYYY-MM-DD HH:mm:ss, assuming in the same timezone\n",
    "4. amount_usd_in_cents: integer number in cents"
   ]
  },
  {
   "cell_type": "code",
   "execution_count": 1,
   "id": "7887558e",
   "metadata": {},
   "outputs": [],
   "source": [
    "import pandas as pd\n",
    "import numpy as np"
   ]
  },
  {
   "cell_type": "code",
   "execution_count": 2,
   "id": "943ce537",
   "metadata": {},
   "outputs": [
    {
     "data": {
      "text/html": [
       "<div>\n",
       "<style scoped>\n",
       "    .dataframe tbody tr th:only-of-type {\n",
       "        vertical-align: middle;\n",
       "    }\n",
       "\n",
       "    .dataframe tbody tr th {\n",
       "        vertical-align: top;\n",
       "    }\n",
       "\n",
       "    .dataframe thead th {\n",
       "        text-align: right;\n",
       "    }\n",
       "</style>\n",
       "<table border=\"1\" class=\"dataframe\">\n",
       "  <thead>\n",
       "    <tr style=\"text-align: right;\">\n",
       "      <th></th>\n",
       "      <th>merchant</th>\n",
       "      <th>time</th>\n",
       "      <th>amount_usd_in_cents</th>\n",
       "    </tr>\n",
       "  </thead>\n",
       "  <tbody>\n",
       "    <tr>\n",
       "      <th>1</th>\n",
       "      <td>faa029c6b0</td>\n",
       "      <td>2034-06-17 23:34:14</td>\n",
       "      <td>6349</td>\n",
       "    </tr>\n",
       "    <tr>\n",
       "      <th>2</th>\n",
       "      <td>ed7a7d91aa</td>\n",
       "      <td>2034-12-27 00:40:38</td>\n",
       "      <td>3854</td>\n",
       "    </tr>\n",
       "    <tr>\n",
       "      <th>3</th>\n",
       "      <td>5608f200cf</td>\n",
       "      <td>2034-04-30 01:29:42</td>\n",
       "      <td>789</td>\n",
       "    </tr>\n",
       "    <tr>\n",
       "      <th>4</th>\n",
       "      <td>15b1a0d61e</td>\n",
       "      <td>2034-09-16 01:06:23</td>\n",
       "      <td>4452</td>\n",
       "    </tr>\n",
       "    <tr>\n",
       "      <th>5</th>\n",
       "      <td>4770051790</td>\n",
       "      <td>2034-07-22 16:21:42</td>\n",
       "      <td>20203</td>\n",
       "    </tr>\n",
       "  </tbody>\n",
       "</table>\n",
       "</div>"
      ],
      "text/plain": [
       "     merchant                 time  amount_usd_in_cents\n",
       "1  faa029c6b0  2034-06-17 23:34:14                 6349\n",
       "2  ed7a7d91aa  2034-12-27 00:40:38                 3854\n",
       "3  5608f200cf  2034-04-30 01:29:42                  789\n",
       "4  15b1a0d61e  2034-09-16 01:06:23                 4452\n",
       "5  4770051790  2034-07-22 16:21:42                20203"
      ]
     },
     "execution_count": 2,
     "metadata": {},
     "output_type": "execute_result"
    }
   ],
   "source": [
    "#Load the data\n",
    "raw_data = pd.read_csv(\"takehome_ds_written.csv\",header = 0,index_col =0)\n",
    "raw_data.head()"
   ]
  },
  {
   "cell_type": "code",
   "execution_count": 3,
   "id": "83fa0d83",
   "metadata": {},
   "outputs": [],
   "source": [
    "#Transform the data: break time into year, month, day\n",
    "data = raw_data.copy()\n",
    "def convert_time(row,x):\n",
    "    if x == 'year':\n",
    "        return row.split(\" \")[0].split(\"-\")[0]\n",
    "    elif x == 'month':\n",
    "        return row.split(\" \")[0].split(\"-\")[1]\n",
    "    elif x == 'day':\n",
    "        return row.split(\" \")[0].split(\"-\")[2]\n",
    "\n",
    "data['year'] = np.vectorize(convert_time)(data['time'], 'year')\n",
    "data['month'] = np.vectorize(convert_time)(data['time'], 'month')\n",
    "data['day'] = np.vectorize(convert_time)(data['time'], 'day')"
   ]
  },
  {
   "cell_type": "code",
   "execution_count": 44,
   "id": "ef5b681d",
   "metadata": {},
   "outputs": [
    {
     "data": {
      "text/plain": [
       "merchant               object\n",
       "time                   object\n",
       "amount_usd_in_cents     int64\n",
       "year                   object\n",
       "month                  object\n",
       "day                    object\n",
       "dtype: object"
      ]
     },
     "execution_count": 44,
     "metadata": {},
     "output_type": "execute_result"
    }
   ],
   "source": [
    "data.dtypes"
   ]
  },
  {
   "cell_type": "code",
   "execution_count": 23,
   "id": "47ae4132",
   "metadata": {
    "collapsed": true
   },
   "outputs": [
    {
     "data": {
      "text/plain": [
       "year  month\n",
       "2033  01        390\n",
       "      02        656\n",
       "      03        964\n",
       "      04       1164\n",
       "      05       1402\n",
       "      06       1639\n",
       "      07       1864\n",
       "      08       2149\n",
       "      09       2324\n",
       "      10       2562\n",
       "      11       2785\n",
       "      12       3107\n",
       "2034  01       3227\n",
       "      02       3490\n",
       "      03       3931\n",
       "      04       4079\n",
       "      05       4437\n",
       "      06       4630\n",
       "      07       4789\n",
       "      08       5175\n",
       "      09       5273\n",
       "      10       5740\n",
       "      11       5955\n",
       "      12       6126\n",
       "Name: merchant, dtype: int64"
      ]
     },
     "execution_count": 23,
     "metadata": {},
     "output_type": "execute_result"
    }
   ],
   "source": [
    "#Group by year & month\n",
    "data_ByYear = data.groupby([\"year\",\"month\"])[\"merchant\"].nunique()\n",
    "data_ByYear"
   ]
  },
  {
   "cell_type": "code",
   "execution_count": 11,
   "id": "936455db",
   "metadata": {},
   "outputs": [],
   "source": [
    "# set up unique merchant-based tracking table \n",
    "merchants = data['merchant'].unique().tolist()"
   ]
  },
  {
   "cell_type": "code",
   "execution_count": 12,
   "id": "35e4523b",
   "metadata": {},
   "outputs": [],
   "source": [
    "len(merchants)\n",
    "merchant_data = pd.DataFrame(columns = [\"id\"])\n",
    "merchant_data.set_index(\"id\")\n",
    "merchant_data_columns_dict = {}\n",
    "for year in ['count-2033','count-2034','volume-2033','volume-2034']:\n",
    "    for month in range(1,13):\n",
    "        merchant_data[year+\"-\"+str(month)] = 0\n",
    "        merchant_data_columns_dict[year+\"-\"+str(month)] = 0\n",
    "\n",
    "def query_merchant(dt,merchant,merchant_data_columns_dict):\n",
    "    merchant_data_values = merchant_data_columns_dict.copy()\n",
    "    merchant_data = dt.loc[dt['merchant'] == merchant]\n",
    "    merchant_data = merchant_data.groupby([\"year\",\"month\"]).agg({\"amount_usd_in_cents\": [np.count_nonzero, np.sum]}).reset_index()\n",
    "    for index, row in merchant_data.iterrows():\n",
    "        merchant_data_values['count-'+str(row['year'].values[0])+\"-\"+str(int(row['month'].values[0]))] = int(row[2])\n",
    "        merchant_data_values['volume-'+str(row['year'].values[0])+\"-\"+str(int(row['month'].values[0]))] = int(row[3])\n",
    "    return pd.DataFrame([merchant_data_values], columns=merchant_data_values.keys())\n",
    "\n",
    "for merchant in merchants:\n",
    "    merchant_dt = query_merchant(data,merchant,merchant_data_columns_dict)\n",
    "    merchant_dt['id'] = merchant\n",
    "    merchant_data = pd.concat([merchant_data, merchant_dt], axis=0)\n",
    "\n",
    "# merchant_data.to_csv(\"merchant_data.csv\", index = False)"
   ]
  },
  {
   "cell_type": "code",
   "execution_count": 5,
   "id": "6faea9cd",
   "metadata": {
    "collapsed": true
   },
   "outputs": [
    {
     "data": {
      "text/html": [
       "<div>\n",
       "<style scoped>\n",
       "    .dataframe tbody tr th:only-of-type {\n",
       "        vertical-align: middle;\n",
       "    }\n",
       "\n",
       "    .dataframe tbody tr th {\n",
       "        vertical-align: top;\n",
       "    }\n",
       "\n",
       "    .dataframe thead th {\n",
       "        text-align: right;\n",
       "    }\n",
       "</style>\n",
       "<table border=\"1\" class=\"dataframe\">\n",
       "  <thead>\n",
       "    <tr style=\"text-align: right;\">\n",
       "      <th></th>\n",
       "      <th>count-2033-1</th>\n",
       "      <th>count-2033-2</th>\n",
       "      <th>count-2033-3</th>\n",
       "      <th>count-2033-4</th>\n",
       "      <th>count-2033-5</th>\n",
       "      <th>count-2033-6</th>\n",
       "      <th>count-2033-7</th>\n",
       "      <th>count-2033-8</th>\n",
       "      <th>count-2033-9</th>\n",
       "      <th>count-2033-10</th>\n",
       "      <th>...</th>\n",
       "      <th>volume-2034-3</th>\n",
       "      <th>volume-2034-4</th>\n",
       "      <th>volume-2034-5</th>\n",
       "      <th>volume-2034-6</th>\n",
       "      <th>volume-2034-7</th>\n",
       "      <th>volume-2034-8</th>\n",
       "      <th>volume-2034-9</th>\n",
       "      <th>volume-2034-10</th>\n",
       "      <th>volume-2034-11</th>\n",
       "      <th>volume-2034-12</th>\n",
       "    </tr>\n",
       "    <tr>\n",
       "      <th>id</th>\n",
       "      <th></th>\n",
       "      <th></th>\n",
       "      <th></th>\n",
       "      <th></th>\n",
       "      <th></th>\n",
       "      <th></th>\n",
       "      <th></th>\n",
       "      <th></th>\n",
       "      <th></th>\n",
       "      <th></th>\n",
       "      <th></th>\n",
       "      <th></th>\n",
       "      <th></th>\n",
       "      <th></th>\n",
       "      <th></th>\n",
       "      <th></th>\n",
       "      <th></th>\n",
       "      <th></th>\n",
       "      <th></th>\n",
       "      <th></th>\n",
       "      <th></th>\n",
       "    </tr>\n",
       "  </thead>\n",
       "  <tbody>\n",
       "    <tr>\n",
       "      <th>faa029c6b0</th>\n",
       "      <td>0</td>\n",
       "      <td>0</td>\n",
       "      <td>0</td>\n",
       "      <td>0</td>\n",
       "      <td>0</td>\n",
       "      <td>0</td>\n",
       "      <td>0</td>\n",
       "      <td>11</td>\n",
       "      <td>38</td>\n",
       "      <td>20</td>\n",
       "      <td>...</td>\n",
       "      <td>539391</td>\n",
       "      <td>618490</td>\n",
       "      <td>401317</td>\n",
       "      <td>422276</td>\n",
       "      <td>639421</td>\n",
       "      <td>488288</td>\n",
       "      <td>707890</td>\n",
       "      <td>557971</td>\n",
       "      <td>1071722</td>\n",
       "      <td>585480</td>\n",
       "    </tr>\n",
       "    <tr>\n",
       "      <th>ed7a7d91aa</th>\n",
       "      <td>0</td>\n",
       "      <td>0</td>\n",
       "      <td>0</td>\n",
       "      <td>0</td>\n",
       "      <td>0</td>\n",
       "      <td>0</td>\n",
       "      <td>0</td>\n",
       "      <td>11</td>\n",
       "      <td>38</td>\n",
       "      <td>20</td>\n",
       "      <td>...</td>\n",
       "      <td>12984</td>\n",
       "      <td>60359</td>\n",
       "      <td>401317</td>\n",
       "      <td>422276</td>\n",
       "      <td>639421</td>\n",
       "      <td>488288</td>\n",
       "      <td>707890</td>\n",
       "      <td>557971</td>\n",
       "      <td>3039</td>\n",
       "      <td>32321</td>\n",
       "    </tr>\n",
       "    <tr>\n",
       "      <th>5608f200cf</th>\n",
       "      <td>0</td>\n",
       "      <td>0</td>\n",
       "      <td>1</td>\n",
       "      <td>167</td>\n",
       "      <td>536</td>\n",
       "      <td>928</td>\n",
       "      <td>1130</td>\n",
       "      <td>1334</td>\n",
       "      <td>1495</td>\n",
       "      <td>1441</td>\n",
       "      <td>...</td>\n",
       "      <td>1398347</td>\n",
       "      <td>1378177</td>\n",
       "      <td>1322792</td>\n",
       "      <td>1198018</td>\n",
       "      <td>1068464</td>\n",
       "      <td>914794</td>\n",
       "      <td>767811</td>\n",
       "      <td>723110</td>\n",
       "      <td>618212</td>\n",
       "      <td>548407</td>\n",
       "    </tr>\n",
       "    <tr>\n",
       "      <th>15b1a0d61e</th>\n",
       "      <td>0</td>\n",
       "      <td>0</td>\n",
       "      <td>1</td>\n",
       "      <td>167</td>\n",
       "      <td>536</td>\n",
       "      <td>928</td>\n",
       "      <td>1130</td>\n",
       "      <td>1334</td>\n",
       "      <td>1495</td>\n",
       "      <td>2</td>\n",
       "      <td>...</td>\n",
       "      <td>274648</td>\n",
       "      <td>167136</td>\n",
       "      <td>185198</td>\n",
       "      <td>252391</td>\n",
       "      <td>215359</td>\n",
       "      <td>251921</td>\n",
       "      <td>224073</td>\n",
       "      <td>209129</td>\n",
       "      <td>182934</td>\n",
       "      <td>229802</td>\n",
       "    </tr>\n",
       "    <tr>\n",
       "      <th>4770051790</th>\n",
       "      <td>0</td>\n",
       "      <td>0</td>\n",
       "      <td>1</td>\n",
       "      <td>167</td>\n",
       "      <td>536</td>\n",
       "      <td>928</td>\n",
       "      <td>1130</td>\n",
       "      <td>1334</td>\n",
       "      <td>1495</td>\n",
       "      <td>2</td>\n",
       "      <td>...</td>\n",
       "      <td>274648</td>\n",
       "      <td>553842</td>\n",
       "      <td>4937844</td>\n",
       "      <td>5163063</td>\n",
       "      <td>6530247</td>\n",
       "      <td>4545146</td>\n",
       "      <td>637359</td>\n",
       "      <td>297436</td>\n",
       "      <td>1373250</td>\n",
       "      <td>1958891</td>\n",
       "    </tr>\n",
       "  </tbody>\n",
       "</table>\n",
       "<p>5 rows × 48 columns</p>\n",
       "</div>"
      ],
      "text/plain": [
       "            count-2033-1  count-2033-2  count-2033-3  count-2033-4  \\\n",
       "id                                                                   \n",
       "faa029c6b0             0             0             0             0   \n",
       "ed7a7d91aa             0             0             0             0   \n",
       "5608f200cf             0             0             1           167   \n",
       "15b1a0d61e             0             0             1           167   \n",
       "4770051790             0             0             1           167   \n",
       "\n",
       "            count-2033-5  count-2033-6  count-2033-7  count-2033-8  \\\n",
       "id                                                                   \n",
       "faa029c6b0             0             0             0            11   \n",
       "ed7a7d91aa             0             0             0            11   \n",
       "5608f200cf           536           928          1130          1334   \n",
       "15b1a0d61e           536           928          1130          1334   \n",
       "4770051790           536           928          1130          1334   \n",
       "\n",
       "            count-2033-9  count-2033-10  ...  volume-2034-3  volume-2034-4  \\\n",
       "id                                       ...                                 \n",
       "faa029c6b0            38             20  ...         539391         618490   \n",
       "ed7a7d91aa            38             20  ...          12984          60359   \n",
       "5608f200cf          1495           1441  ...        1398347        1378177   \n",
       "15b1a0d61e          1495              2  ...         274648         167136   \n",
       "4770051790          1495              2  ...         274648         553842   \n",
       "\n",
       "            volume-2034-5  volume-2034-6  volume-2034-7  volume-2034-8  \\\n",
       "id                                                                       \n",
       "faa029c6b0         401317         422276         639421         488288   \n",
       "ed7a7d91aa         401317         422276         639421         488288   \n",
       "5608f200cf        1322792        1198018        1068464         914794   \n",
       "15b1a0d61e         185198         252391         215359         251921   \n",
       "4770051790        4937844        5163063        6530247        4545146   \n",
       "\n",
       "            volume-2034-9  volume-2034-10  volume-2034-11  volume-2034-12  \n",
       "id                                                                         \n",
       "faa029c6b0         707890          557971         1071722          585480  \n",
       "ed7a7d91aa         707890          557971            3039           32321  \n",
       "5608f200cf         767811          723110          618212          548407  \n",
       "15b1a0d61e         224073          209129          182934          229802  \n",
       "4770051790         637359          297436         1373250         1958891  \n",
       "\n",
       "[5 rows x 48 columns]"
      ]
     },
     "execution_count": 5,
     "metadata": {},
     "output_type": "execute_result"
    }
   ],
   "source": [
    "# merchant_data = pd.read_csv(\"merchant_data.csv\",header = 0,index_col =0)\n",
    "merchant_data.head()"
   ]
  },
  {
   "cell_type": "code",
   "execution_count": 14,
   "id": "a66a8fe8",
   "metadata": {},
   "outputs": [
    {
     "data": {
      "text/plain": [
       "45.146153846153844"
      ]
     },
     "execution_count": 14,
     "metadata": {},
     "output_type": "execute_result"
    }
   ],
   "source": [
    "merchant_data[merchant_data['count-2033-1']!=0][\"count-2033-1\"].mean()"
   ]
  },
  {
   "cell_type": "code",
   "execution_count": 23,
   "id": "382655a1",
   "metadata": {},
   "outputs": [],
   "source": [
    "merchant_data_columns_dict_b50 = merchant_data_columns_dict.copy()\n",
    "for column in merchant_data_columns_dict.keys():\n",
    "    average = merchant_data[merchant_data[column]!=0][column].quantile(\n",
    "    q=0.50,                      # The percentile to calculate\n",
    "#     axis=1,                     # The axis to calculate the percentile on\n",
    "#     numeric_only=True,          # To calculate only for numeric columns\n",
    "    interpolation='linear'      # The type of interpolation to use when the quantile is between 2 values\n",
    ")\n",
    "    merchant_data_columns_dict_b50[column] = average\n",
    "b50_merchant = pd.DataFrame([merchant_data_columns_dict_b50], columns=merchant_data_columns_dict_b50.keys())\n",
    "b50_merchant['id'] = '50%_bottom'\n",
    "# This hardly works since there is a long tail problem for payment counts (1 or 2 orders per month for 30% of the bottom merchants)"
   ]
  },
  {
   "cell_type": "code",
   "execution_count": 42,
   "id": "19059f0f",
   "metadata": {},
   "outputs": [
    {
     "name": "stdout",
     "output_type": "stream",
     "text": [
      "0.3243463773823513\n",
      "0.27235566693756574\n"
     ]
    }
   ],
   "source": [
    "# Getting merchants that never churn\n",
    "count_columns_names = [str(x) for x in merchant_data_columns_dict.keys() if \"count\" in x ]\n",
    "volume_columns_names = [str(x) for x in merchant_data_columns_dict.keys() if \"volume\" in x]\n",
    "count_columns_names\n",
    "merchant_data_nonchurn = merchant_data[~(merchant_data == 0).any(axis=1)].copy()\n",
    "merchant_data_nonchurn['min_count'] = merchant_data_nonchurn.loc[:,count_columns_names].min(axis=1)\n",
    "merchant_data_nonchurn['avg_count'] = merchant_data_nonchurn[count_columns_names].mean(axis=1)\n",
    "merchant_data_nonchurn['min_volume'] = merchant_data_nonchurn[volume_columns_names].min(axis=1)\n",
    "merchant_data_nonchurn['avg_volume'] = merchant_data_nonchurn[volume_columns_names].mean(axis=1)\n",
    "merchant_data_nonchurn['min/avg_count'] = merchant_data_nonchurn['min_count']/merchant_data_nonchurn['avg_count']\n",
    "merchant_data_nonchurn['min/avg_volume'] = merchant_data_nonchurn['min_volume']/merchant_data_nonchurn['avg_volume']\n",
    "print(merchant_data_nonchurn['min/avg_count'].mean(axis = 0))\n",
    "print(merchant_data_nonchurn['min/avg_volume'].mean(axis = 0))\n",
    "# Insights: min/avg_count = 0.324346, min/avg_volume = 0.272355, use 30% as the indicator for potential default"
   ]
  },
  {
   "cell_type": "code",
   "execution_count": 66,
   "id": "3fa8352c",
   "metadata": {},
   "outputs": [],
   "source": [
    "merchant_data_churnpotential = merchant_data[(merchant_data == 0).any(axis=1)].copy()\n",
    "merchant_data_churntable = pd.DataFrame(columns = [\"id\"])\n",
    "merchant_data_churntable.set_index(\"id\")\n",
    "merchant_data_churntable_dict = {}\n",
    "for year in ['2033','2034']:\n",
    "    for month in range(1,13):\n",
    "        merchant_data_churntable[year+\"-\"+str(month)] = 0\n",
    "        merchant_data_churntable_dict[year+\"-\"+str(month)] = 0\n",
    "for index, row in merchant_data_churnpotential.iterrows():\n",
    "    merchant_data_churntable_dict_copy = merchant_data_churntable_dict.copy()\n",
    "    for i in range(4,13):\n",
    "        moving_avg_count = row[ i-3:i].mean()\n",
    "        moving_avg_volume = row[ i+12-3:i+12].mean()\n",
    "        merchant_data_churnpotential[str(i)+\"-mac\"] = moving_avg_count\n",
    "        merchant_data_churnpotential[str(i)+\"-mav\"] = moving_avg_volume\n",
    "        if (int(row[i]) <= moving_avg_count*.3 and int(row[i+12]) <= moving_avg_volume*.3 and moving_avg_count > 0 ):\n",
    "            merchant_data_churntable_dict_copy[list(merchant_data_churntable_dict_copy)[i-1]] = 1\n",
    "    merchant_row = pd.DataFrame([merchant_data_churntable_dict_copy], columns=merchant_data_churntable_dict_copy.keys())\n",
    "    merchant_row['id'] = str(row[0])\n",
    "    merchant_data_churntable = pd.concat([merchant_data_churntable, merchant_row], axis=0)"
   ]
  },
  {
   "cell_type": "code",
   "execution_count": 67,
   "id": "ca7717f7",
   "metadata": {},
   "outputs": [],
   "source": [
    "merchant_data_churntable.to_csv(\"churnt.csv\")"
   ]
  },
  {
   "cell_type": "code",
   "execution_count": 68,
   "id": "68ebb298",
   "metadata": {},
   "outputs": [],
   "source": [
    "merchant_data_churnpotential.to_csv(\"churnpoten.csv\")"
   ]
  },
  {
   "cell_type": "markdown",
   "id": "193ebe4d",
   "metadata": {},
   "source": [
    "### References\n",
    "1. https://chaotic-flow.com/saas-metrics-faqs-what-is-churn/#:~:text=SaaS%20churn%20is%20the%20percentage,important%20parameter%20in%20revenue%20forecasting.\n",
    "2. https://dataconomy.com/2017/07/churn-predictive-analytics/"
   ]
  }
 ],
 "metadata": {
  "kernelspec": {
   "display_name": "Python 3 (ipykernel)",
   "language": "python",
   "name": "python3"
  },
  "language_info": {
   "codemirror_mode": {
    "name": "ipython",
    "version": 3
   },
   "file_extension": ".py",
   "mimetype": "text/x-python",
   "name": "python",
   "nbconvert_exporter": "python",
   "pygments_lexer": "ipython3",
   "version": "3.10.0"
  }
 },
 "nbformat": 4,
 "nbformat_minor": 5
}
