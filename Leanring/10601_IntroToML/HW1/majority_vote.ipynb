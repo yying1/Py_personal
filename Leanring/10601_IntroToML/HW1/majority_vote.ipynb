{
 "cells": [
  {
   "cell_type": "code",
   "execution_count": 30,
   "id": "c690acd3",
   "metadata": {},
   "outputs": [],
   "source": [
    "# 2022-01-26 Homework 1 | yying2@\n",
    "import sys"
   ]
  },
  {
   "cell_type": "code",
   "execution_count": 31,
   "id": "e62876b7",
   "metadata": {},
   "outputs": [],
   "source": [
    "#Referenced from https://www.geeksforgeeks.org/python-find-most-frequent-element-in-a-list/\n",
    "def most_frequent(List):\n",
    "    return max(set(List), key = List.count)"
   ]
  },
  {
   "cell_type": "code",
   "execution_count": 32,
   "id": "1f2964a4",
   "metadata": {},
   "outputs": [],
   "source": [
    "def train(trainfile,trainout):\n",
    "    train_data = []\n",
    "    train_label = []\n",
    "    with open(trainfile, 'r') as f:\n",
    "        rows = f.readlines()\n",
    "        for row in rows[1:]:\n",
    "            train_label.append(row[row.rfind(\"\\t\"):].strip())\n",
    "            data = row[:row.rfind('\\t')].replace(\"\\t\",\" \")\n",
    "            train_data.append(data)\n",
    "    label = most_frequent(train_label)\n",
    "    with open(trainout, 'w') as f_out:\n",
    "        for i in range(len(train_label)):\n",
    "            f_out.write(label+\"\\n\")\n",
    "    train_error = 1 - len([x for x in train_label if x == label])/float(len(train_label))\n",
    "    if train_error == 0.5:\n",
    "        train_label_unique = list(set(train_label))\n",
    "        label = sorted(train_label_unique)[-1]\n",
    "    return label,train_error"
   ]
  },
  {
   "cell_type": "code",
   "execution_count": 41,
   "id": "492832d7",
   "metadata": {},
   "outputs": [
    {
     "data": {
      "text/plain": [
       "'z'"
      ]
     },
     "execution_count": 41,
     "metadata": {},
     "output_type": "execute_result"
    }
   ],
   "source": [
    "#train(\"education_test.tsv\",\"1.labels\")"
   ]
  },
  {
   "cell_type": "code",
   "execution_count": 33,
   "id": "fcb21cab",
   "metadata": {},
   "outputs": [],
   "source": [
    "def test(testfile,testout,label):\n",
    "    test_label = []\n",
    "    with open(testfile, 'r') as f:\n",
    "        rows = f.readlines()\n",
    "        for row in rows[1:]:\n",
    "            test_label.append(row[row.rfind(\"\\t\"):].strip())\n",
    "    with open(testout, 'w') as f_out:\n",
    "        for i in range(len(test_label)):\n",
    "            f_out.write(label+\"\\n\")\n",
    "    test_error = 1 - len([x for x in test_label if x == label])/float(len(test_label))\n",
    "    return test_error"
   ]
  },
  {
   "cell_type": "code",
   "execution_count": 34,
   "id": "2bd23da5",
   "metadata": {},
   "outputs": [],
   "source": [
    "def main(trainfile,testfile,trainout,testout,metrics):\n",
    "    label,train_error = train(trainfile,trainout)\n",
    "    test_error = test(testfile,testout,label)\n",
    "    with open(metrics, 'w') as f_m:\n",
    "        f_m.write(\"error(train): \"+str(train_error)+\"\\n\")\n",
    "        f_m.write(\"error(test): \"+str(test_error))"
   ]
  },
  {
   "cell_type": "code",
   "execution_count": 35,
   "id": "62578671",
   "metadata": {},
   "outputs": [],
   "source": [
    "#main(\"politicians_train.tsv\",\"politicians_test.tsv\",\"pol_train.labels\",\"pol_test.labels\",\"pol_metrics.txt\")"
   ]
  },
  {
   "cell_type": "code",
   "execution_count": 36,
   "id": "9e09578d",
   "metadata": {},
   "outputs": [
    {
     "ename": "IndexError",
     "evalue": "list index out of range",
     "output_type": "error",
     "traceback": [
      "\u001b[1;31m---------------------------------------------------------------------------\u001b[0m",
      "\u001b[1;31mIndexError\u001b[0m                                Traceback (most recent call last)",
      "\u001b[1;32m~\\AppData\\Local\\Temp/ipykernel_12608/966237459.py\u001b[0m in \u001b[0;36m<module>\u001b[1;34m\u001b[0m\n\u001b[0;32m      5\u001b[0m \u001b[1;31m#     print(\"The input file is: %s\" % (infile))\u001b[0m\u001b[1;33m\u001b[0m\u001b[1;33m\u001b[0m\u001b[0m\n\u001b[0;32m      6\u001b[0m \u001b[1;31m#     print(\"The output file is: %s\" % (outfile))\u001b[0m\u001b[1;33m\u001b[0m\u001b[1;33m\u001b[0m\u001b[0m\n\u001b[1;32m----> 7\u001b[1;33m     \u001b[0mmain\u001b[0m\u001b[1;33m(\u001b[0m\u001b[0msys\u001b[0m\u001b[1;33m.\u001b[0m\u001b[0margv\u001b[0m\u001b[1;33m[\u001b[0m\u001b[1;36m1\u001b[0m\u001b[1;33m]\u001b[0m\u001b[1;33m,\u001b[0m\u001b[0msys\u001b[0m\u001b[1;33m.\u001b[0m\u001b[0margv\u001b[0m\u001b[1;33m[\u001b[0m\u001b[1;36m2\u001b[0m\u001b[1;33m]\u001b[0m\u001b[1;33m,\u001b[0m\u001b[0msys\u001b[0m\u001b[1;33m.\u001b[0m\u001b[0margv\u001b[0m\u001b[1;33m[\u001b[0m\u001b[1;36m3\u001b[0m\u001b[1;33m]\u001b[0m\u001b[1;33m,\u001b[0m\u001b[0msys\u001b[0m\u001b[1;33m.\u001b[0m\u001b[0margv\u001b[0m\u001b[1;33m[\u001b[0m\u001b[1;36m4\u001b[0m\u001b[1;33m]\u001b[0m\u001b[1;33m,\u001b[0m\u001b[0msys\u001b[0m\u001b[1;33m.\u001b[0m\u001b[0margv\u001b[0m\u001b[1;33m[\u001b[0m\u001b[1;36m5\u001b[0m\u001b[1;33m]\u001b[0m\u001b[1;33m)\u001b[0m\u001b[1;33m\u001b[0m\u001b[1;33m\u001b[0m\u001b[0m\n\u001b[0m",
      "\u001b[1;31mIndexError\u001b[0m: list index out of range"
     ]
    }
   ],
   "source": [
    "if __name__ == '__main__':\n",
    "    import sys\n",
    "#     infile = sys.argv[1]\n",
    "#     outfile = sys.argv[2]\n",
    "#     print(\"The input file is: %s\" % (infile))\n",
    "#     print(\"The output file is: %s\" % (outfile))\n",
    "    main(sys.argv[1],sys.argv[2],sys.argv[3],sys.argv[4],sys.argv[5])"
   ]
  }
 ],
 "metadata": {
  "kernelspec": {
   "display_name": "Python 3 (ipykernel)",
   "language": "python",
   "name": "python3"
  },
  "language_info": {
   "codemirror_mode": {
    "name": "ipython",
    "version": 3
   },
   "file_extension": ".py",
   "mimetype": "text/x-python",
   "name": "python",
   "nbconvert_exporter": "python",
   "pygments_lexer": "ipython3",
   "version": "3.10.0"
  }
 },
 "nbformat": 4,
 "nbformat_minor": 5
}
