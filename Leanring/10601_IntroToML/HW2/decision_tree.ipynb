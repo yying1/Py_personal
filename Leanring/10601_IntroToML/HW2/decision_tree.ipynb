{
 "cells": [
  {
   "cell_type": "code",
   "execution_count": 1,
   "id": "d7e55f54",
   "metadata": {},
   "outputs": [],
   "source": [
    "# 2022-02-04 Homework 2 | yying2@\n",
    "import sys\n",
    "import math"
   ]
  },
  {
   "cell_type": "code",
   "execution_count": 2,
   "id": "bcd32bae",
   "metadata": {},
   "outputs": [],
   "source": [
    "class Node:\n",
    "    def __init__(self):\n",
    "        self.left = None\n",
    "        self.right = None\n",
    "        self.LV = None\n",
    "        self.RV = None\n",
    "        self.attr = None\n",
    "        self.vote = None\n",
    "        self.level = None"
   ]
  },
  {
   "cell_type": "code",
   "execution_count": 3,
   "id": "fb4b58c5",
   "metadata": {},
   "outputs": [],
   "source": [
    "def most_frequent(List):\n",
    "    label_unique = list(set(List))\n",
    "    label_unique = sorted(label_unique)\n",
    "    count = 0\n",
    "    vote = None\n",
    "    for label in label_unique:\n",
    "        if List.count(label) >= count:\n",
    "            count = List.count(label)\n",
    "            vote = label\n",
    "    return vote"
   ]
  },
  {
   "cell_type": "code",
   "execution_count": 4,
   "id": "b2c708ad",
   "metadata": {},
   "outputs": [],
   "source": [
    "def cal_entropy(train_label):\n",
    "    distinct_label = list(set(train_label))\n",
    "    size = len(train_label)\n",
    "    entropy = 0\n",
    "    for label in distinct_label:\n",
    "        entropy = entropy + (train_label.count(label)/size * math.log(train_label.count(label)/size,2))\n",
    "    return -entropy"
   ]
  },
  {
   "cell_type": "code",
   "execution_count": 5,
   "id": "1f9e82dc",
   "metadata": {},
   "outputs": [],
   "source": [
    "def cal_MI(entropy,train_data,train_label,attribute_dict):\n",
    "    MI_dict= {}\n",
    "    size = len(train_label)\n",
    "    for item in attribute_dict.items():\n",
    "        attribute = item[0]\n",
    "        data = [x[item[1]] for x in train_data]\n",
    "        distinct_data = list(set(data))\n",
    "        distinct_label = list(set(train_label))\n",
    "        MI = entropy\n",
    "        for value in distinct_data:\n",
    "            count = data.count(value)\n",
    "            for label in distinct_label:\n",
    "                hit = 0\n",
    "                for i in range(size):\n",
    "                    if data[i] == value and train_label[i] == label:\n",
    "                        hit+=1\n",
    "                if hit != 0:\n",
    "                    MI = MI +(hit/count*math.log(hit/count,2))*count/size\n",
    "        if MI > 0:\n",
    "            MI_dict[attribute] = MI\n",
    "    if len(MI_dict.values()) == 0:\n",
    "        max_gain = 0\n",
    "    else:\n",
    "        max_gain = max(MI_dict.values())\n",
    "    selected_attribute = None\n",
    "    if max_gain > 0:\n",
    "        for i in MI_dict.keys():\n",
    "            if max_gain == MI_dict[i]:\n",
    "                if selected_attribute == None:\n",
    "                    selected_attribute = i\n",
    "                else:\n",
    "                    if attribute_dict[i]<attribute_dict[selected_attribute]:\n",
    "                        selected_attribute = i\n",
    "        return selected_attribute,MI_dict\n",
    "    else:\n",
    "        return None, None"
   ]
  },
  {
   "cell_type": "code",
   "execution_count": 6,
   "id": "36f8ea7a",
   "metadata": {},
   "outputs": [],
   "source": [
    "def read_data(train_in):\n",
    "    train_data = []\n",
    "    train_label = []\n",
    "    attribute_dict = {}\n",
    "    with open(train_in, 'r') as f:\n",
    "        rows = f.readlines()\n",
    "        attributes = rows[0][: rows[0].rfind('\\t')].split(\"\\t\")\n",
    "        for i in range(len(attributes)):\n",
    "            attribute_dict[attributes[i]] = i\n",
    "        for row in rows[1:]:\n",
    "            train_label.append(row[row.rfind(\"\\t\"):].strip())\n",
    "            data = row[:row.rfind('\\t')].split(\"\\t\")\n",
    "            train_data.append(data)\n",
    "    return train_data,train_label,attribute_dict"
   ]
  },
  {
   "cell_type": "code",
   "execution_count": 7,
   "id": "b67ddfdf",
   "metadata": {},
   "outputs": [],
   "source": [
    "def build(root,depth,current_level,train_data,train_label,attribute_dict):\n",
    "    if depth == 0 or len(attribute_dict.keys()) == 0 or current_level == depth:\n",
    "        root.vote = most_frequent(train_label)\n",
    "        root.level = current_level\n",
    "        return root\n",
    "    elif current_level <= depth and len(attribute_dict.keys())>0:\n",
    "        entropy = cal_entropy(train_label)\n",
    "        #print(current_level,root.attr,root.LV,root.RV,attribute_dict)\n",
    "        selected_attribute,MI_dict = cal_MI(entropy,train_data,train_label,attribute_dict)\n",
    "        if selected_attribute != None:\n",
    "            attribute_index = attribute_dict[selected_attribute]\n",
    "            value_list = list(set([x[attribute_index]  for x in train_data]))\n",
    "            size = len(train_data)\n",
    "            root.LV = value_list[0]\n",
    "            root.RV = value_list[1]\n",
    "            root.attr = selected_attribute\n",
    "            root.level = current_level\n",
    "            if root.attr != None:\n",
    "                train_data_L = []\n",
    "                train_data_R = []\n",
    "                train_label_L = []\n",
    "                train_label_R = []\n",
    "                for i in range(size):\n",
    "                    if train_data[i][attribute_index] == root.LV:\n",
    "                        train_data_L.append(train_data[i])\n",
    "                        train_label_L.append(train_label[i])\n",
    "                    else:\n",
    "                        train_data_R.append(train_data[i])\n",
    "                        train_label_R.append(train_label[i])\n",
    "                LC = Node()\n",
    "                root.left = build(LC,depth,current_level+1,train_data_L,train_label_L,attribute_dict.copy())\n",
    "                RC = Node()\n",
    "                root.right = build(RC,depth,current_level+1,train_data_R,train_label_R,attribute_dict.copy())\n",
    "            return root\n",
    "        else:\n",
    "            root.level = current_level\n",
    "            root.vote = most_frequent(train_label)\n",
    "            return root"
   ]
  },
  {
   "cell_type": "code",
   "execution_count": 8,
   "id": "c8b5301c",
   "metadata": {},
   "outputs": [],
   "source": [
    "def train(train_in, depth):\n",
    "    train_data,train_label,attribute_dict = read_data(train_in)\n",
    "    root = Node()\n",
    "    root = build(root,depth,0,train_data,train_label,attribute_dict)\n",
    "    return root"
   ]
  },
  {
   "cell_type": "code",
   "execution_count": 9,
   "id": "9c4e729d",
   "metadata": {},
   "outputs": [],
   "source": [
    "def predict(root, test_data_row,attribute_dict):\n",
    "    if root.vote != None:\n",
    "        return root.vote\n",
    "    else:\n",
    "        attr = root.attr\n",
    "        attr_value = test_data_row[attribute_dict[attr]]\n",
    "        if attr_value == root.LV:\n",
    "            result = predict(root.left, test_data_row,attribute_dict)\n",
    "        else:\n",
    "            result = predict(root.right, test_data_row,attribute_dict)\n",
    "        return result"
   ]
  },
  {
   "cell_type": "code",
   "execution_count": 10,
   "id": "27b1e908",
   "metadata": {},
   "outputs": [],
   "source": [
    "def test(root, test_in, test_out):\n",
    "    test_data,test_label,attribute_dict = read_data(test_in)\n",
    "    error = 0\n",
    "    size =len(test_data)\n",
    "    with open(test_out, 'w') as f_out:\n",
    "        for i in range(size):\n",
    "            result = predict(root, test_data[i],attribute_dict)\n",
    "            if test_label[i] != result:\n",
    "                error+=1\n",
    "            f_out.write(result+\"\\n\")\n",
    "    return error/size"
   ]
  },
  {
   "cell_type": "code",
   "execution_count": 11,
   "id": "f90f1988",
   "metadata": {},
   "outputs": [],
   "source": [
    "# root = train(\"education_train.tsv\",3)\n",
    "# error = test(root, \"small_test.tsv\", \"small_train.labels\")\n",
    "# print(error/28)"
   ]
  },
  {
   "cell_type": "code",
   "execution_count": 12,
   "id": "2e14a8ef",
   "metadata": {},
   "outputs": [],
   "source": [
    "def print_node(root,train_data,train_label,label_values,attribute_dict,attr,value):\n",
    "    if attr == None and root.vote == None:\n",
    "        size = len(train_data)\n",
    "        train_data_L = []\n",
    "        train_data_R = []\n",
    "        train_label_L = []\n",
    "        train_label_R = []\n",
    "        for i in range(size):\n",
    "            if train_data[i][attribute_dict[root.attr]] == root.LV:\n",
    "                train_data_L.append(train_data[i])\n",
    "                train_label_L.append(train_label[i])\n",
    "            else:\n",
    "                train_data_R.append(train_data[i])\n",
    "                train_label_R.append(train_label[i])\n",
    "        LC = root.left\n",
    "        RC = root.right\n",
    "        print_node(LC,train_data_L,train_label_L,label_values,attribute_dict,root.attr,root.LV)\n",
    "        print_node(RC,train_data_R,train_label_R,label_values,attribute_dict,root.attr,root.RV)\n",
    "    else:\n",
    "        for i in range(root.level):\n",
    "            print(\"|\", end = ' ')\n",
    "        print(\"%s = %s: \"%(attr,value),end ='')\n",
    "        print(\"[%d %s/%d %s]\" % (train_label.count(label_values[0]),label_values[0],train_label.count(label_values[1]),label_values[1]))\n",
    "        if root.vote == None:\n",
    "            size = len(train_data)\n",
    "            train_data_L = []\n",
    "            train_data_R = []\n",
    "            train_label_L = []\n",
    "            train_label_R = []\n",
    "            for i in range(size):\n",
    "                if train_data[i][attribute_dict[root.attr]] == root.LV:\n",
    "                    train_data_L.append(train_data[i])\n",
    "                    train_label_L.append(train_label[i])\n",
    "                else:\n",
    "                    train_data_R.append(train_data[i])\n",
    "                    train_label_R.append(train_label[i])\n",
    "            LC = root.left\n",
    "            RC = root.right\n",
    "            print_node(LC,train_data_L,train_label_L,label_values,attribute_dict,root.attr,root.LV)\n",
    "            print_node(RC,train_data_R,train_label_R,label_values,attribute_dict,root.attr,root.RV)"
   ]
  },
  {
   "cell_type": "code",
   "execution_count": 13,
   "id": "af06dc07",
   "metadata": {},
   "outputs": [],
   "source": [
    "def print_tree(root,train_in):\n",
    "    train_data,train_label,attribute_dict = read_data(train_in)\n",
    "    label_values = sorted(list(set(train_label)))\n",
    "    print(\"[%d %s/%d %s]\" % (train_label.count(label_values[0]),label_values[0],train_label.count(label_values[1]),label_values[1]))\n",
    "    if root.vote == None:\n",
    "        print_node(root,train_data,train_label,label_values,attribute_dict,None,None)"
   ]
  },
  {
   "cell_type": "code",
   "execution_count": 14,
   "id": "ccf705b8",
   "metadata": {},
   "outputs": [],
   "source": [
    "def metrics(metrics_out,train_error,test_error):\n",
    "    with open(metrics_out, 'w') as f_out:\n",
    "        f_out.write(\"error(train): \"+str(train_error)+\"\\n\")\n",
    "        f_out.write(\"error(test): \"+str(test_error))"
   ]
  },
  {
   "cell_type": "code",
   "execution_count": 15,
   "id": "e6785d84",
   "metadata": {},
   "outputs": [],
   "source": [
    "def main(train_in,test_in,depth,train_out,test_out,metrics_out):\n",
    "    root = train(train_in,depth)\n",
    "    train_error = test(root,train_in,train_out)\n",
    "    test_error = test(root,test_in,test_out)\n",
    "    metrics(metrics_out,train_error,test_error)\n",
    "    print_tree(root,train_in)"
   ]
  },
  {
   "cell_type": "code",
   "execution_count": 16,
   "id": "a2a96e2b",
   "metadata": {},
   "outputs": [],
   "source": [
    "def get_data(train_in,test_in,depth,train_out,test_out,metrics_out):\n",
    "    root = train(train_in,depth)\n",
    "    train_error = test(root,train_in,train_out)\n",
    "    test_error = test(root,test_in,test_out)\n",
    "    print_tree(root,train_in)\n",
    "    return train_error,test_error"
   ]
  },
  {
   "cell_type": "code",
   "execution_count": 26,
   "id": "aefe6f7a",
   "metadata": {},
   "outputs": [
    {
     "name": "stdout",
     "output_type": "stream",
     "text": [
      "[83 democrat/66 republican]\n",
      "| Superfund_right_to_sue = n: [55 democrat/2 republican]\n",
      "| | Export_south_africa = n: [0 democrat/1 republican]\n",
      "| | Export_south_africa = y: [55 democrat/1 republican]\n",
      "| | | Immigration = n: [46 democrat/0 republican]\n",
      "| | | Immigration = y: [9 democrat/1 republican]\n",
      "| | | | Duty_free_exports = n: [3 democrat/1 republican]\n",
      "| | | | | Anti_satellite_test_ban = n: [1 democrat/0 republican]\n",
      "| | | | | Anti_satellite_test_ban = y: [2 democrat/1 republican]\n",
      "| | | | Duty_free_exports = y: [6 democrat/0 republican]\n",
      "| Superfund_right_to_sue = y: [28 democrat/64 republican]\n",
      "| | Aid_to_nicaraguan_contras = n: [13 democrat/58 republican]\n",
      "| | | Export_south_africa = n: [0 democrat/20 republican]\n",
      "| | | Export_south_africa = y: [13 democrat/38 republican]\n",
      "| | | | Duty_free_exports = n: [8 democrat/34 republican]\n",
      "| | | | | Immigration = n: [5 democrat/9 republican]\n",
      "| | | | | | Mx_missile = n: [4 democrat/9 republican]\n",
      "| | | | | | Mx_missile = y: [1 democrat/0 republican]\n",
      "| | | | | Immigration = y: [3 democrat/25 republican]\n",
      "| | | | | | Anti_satellite_test_ban = n: [3 democrat/18 republican]\n",
      "| | | | | | Anti_satellite_test_ban = y: [0 democrat/7 republican]\n",
      "| | | | Duty_free_exports = y: [5 democrat/4 republican]\n",
      "| | | | | Anti_satellite_test_ban = n: [3 democrat/0 republican]\n",
      "| | | | | Anti_satellite_test_ban = y: [2 democrat/4 republican]\n",
      "| | | | | | Immigration = n: [1 democrat/4 republican]\n",
      "| | | | | | Immigration = y: [1 democrat/0 republican]\n",
      "| | Aid_to_nicaraguan_contras = y: [15 democrat/6 republican]\n",
      "| | | Mx_missile = n: [12 democrat/0 republican]\n",
      "| | | Mx_missile = y: [3 democrat/6 republican]\n",
      "| | | | Anti_satellite_test_ban = n: [1 democrat/4 republican]\n",
      "| | | | | Export_south_africa = n: [0 democrat/1 republican]\n",
      "| | | | | Export_south_africa = y: [1 democrat/3 republican]\n",
      "| | | | Anti_satellite_test_ban = y: [2 democrat/2 republican]\n",
      "| | | | | Immigration = n: [1 democrat/2 republican]\n",
      "| | | | | | Duty_free_exports = n: [0 democrat/1 republican]\n",
      "| | | | | | Duty_free_exports = y: [1 democrat/1 republican]\n",
      "| | | | | Immigration = y: [1 democrat/0 republican]\n"
     ]
    }
   ],
   "source": [
    "main(\"politicians_train.tsv\",\"politicians_test.tsv\",6,\"train.labels\",\"test.labels\",\"metrics.txt\")"
   ]
  },
  {
   "cell_type": "code",
   "execution_count": 18,
   "id": "63892c7f",
   "metadata": {},
   "outputs": [],
   "source": [
    "# import matplotlib.pyplot as plt\n",
    "# train_errors = []\n",
    "# test_errors = []\n",
    "# max_depth = [0,1,2,3,4,5,6,7]\n",
    "# for i in range(8):\n",
    "#     tr_e,te_e = get_data(\"politicians_train.tsv\",\"politicians_test.tsv\",i,\"train.labels\",\"test.labels\",\"metrics.txt\")\n",
    "#     train_errors.append(tr_e)\n",
    "#     test_errors.append(te_e)\n",
    "\n",
    "# plt.plot(max_depth, train_errors,'b',label=\"Train_error\")\n",
    "# plt.plot(max_depth, test_errors,'r',label=\"Test_error\")\n",
    "# plt.ylim(0, 0.6)\n",
    "# plt.xlim(0,8)\n",
    "# plt.legend(loc=\"upper center\")\n",
    "# plt.savefig('4_2.png')\n",
    "# plt.show()"
   ]
  },
  {
   "cell_type": "code",
   "execution_count": null,
   "id": "c6c2e40f",
   "metadata": {},
   "outputs": [],
   "source": []
  },
  {
   "cell_type": "code",
   "execution_count": 19,
   "id": "a13ee1c6",
   "metadata": {},
   "outputs": [],
   "source": [
    "# if __name__ == '__main__':\n",
    "#     import sys\n",
    "#     import math\n",
    "#     main(sys.argv[1],sys.argv[2],sys.argv[3],sys.argv[4],sys.argv[5],sys.argv[6])"
   ]
  }
 ],
 "metadata": {
  "kernelspec": {
   "display_name": "Python 3 (ipykernel)",
   "language": "python",
   "name": "python3"
  },
  "language_info": {
   "codemirror_mode": {
    "name": "ipython",
    "version": 3
   },
   "file_extension": ".py",
   "mimetype": "text/x-python",
   "name": "python",
   "nbconvert_exporter": "python",
   "pygments_lexer": "ipython3",
   "version": "3.10.0"
  }
 },
 "nbformat": 4,
 "nbformat_minor": 5
}
