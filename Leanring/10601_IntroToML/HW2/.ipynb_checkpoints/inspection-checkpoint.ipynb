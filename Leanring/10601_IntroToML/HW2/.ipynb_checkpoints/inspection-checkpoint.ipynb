{
 "cells": [
  {
   "cell_type": "code",
   "execution_count": 1,
   "id": "e07ef4e9",
   "metadata": {},
   "outputs": [],
   "source": [
    "# 2022-02-04 Homework 2 | yying2@\n",
    "import sys\n",
    "import math"
   ]
  },
  {
   "cell_type": "code",
   "execution_count": 2,
   "id": "6bbcd275",
   "metadata": {},
   "outputs": [],
   "source": [
    "#Referenced from https://www.geeksforgeeks.org/python-find-most-frequent-element-in-a-list/\n",
    "def most_frequent(List):\n",
    "    return max(set(List), key = List.count)"
   ]
  },
  {
   "cell_type": "code",
   "execution_count": 3,
   "id": "25ad8210",
   "metadata": {},
   "outputs": [],
   "source": [
    "def cal_entropy(train_label):\n",
    "    distinct_label = list(set(train_label))\n",
    "    size = len(train_label)\n",
    "    entropy = 0\n",
    "    for label in distinct_label:\n",
    "        entropy = entropy + (train_label.count(label)/size * math.log(train_label.count(label)/size,2))\n",
    "    return -entropy"
   ]
  },
  {
   "cell_type": "code",
   "execution_count": 6,
   "id": "5d57e555",
   "metadata": {},
   "outputs": [],
   "source": [
    "def train(trainfile,trainout):\n",
    "    train_data = []\n",
    "    train_label = []\n",
    "    with open(trainfile, 'r') as f:\n",
    "        rows = f.readlines()\n",
    "        for row in rows[1:]:\n",
    "            train_label.append(row[row.rfind(\"\\t\"):].strip())\n",
    "            data = row[:row.rfind('\\t')].replace(\"\\t\",\" \")\n",
    "            train_data.append(data)\n",
    "    label = most_frequent(train_label)\n",
    "    error = (len(train_label) - train_label.count(label))/len(train_label)\n",
    "    entropy = cal_entropy(train_label)\n",
    "    with open(trainout, 'w') as f_out:\n",
    "        f_out.write(\"entropy: \"+str(entropy)+\"\\n\")\n",
    "        f_out.write(\"error: \"+str(error))"
   ]
  },
  {
   "cell_type": "code",
   "execution_count": 9,
   "id": "c4fd8461",
   "metadata": {},
   "outputs": [],
   "source": [
    "# train(\"education_train.tsv\",\"education_inspect.txt\")"
   ]
  },
  {
   "cell_type": "code",
   "execution_count": null,
   "id": "75cb532e",
   "metadata": {},
   "outputs": [],
   "source": [
    "if __name__ == '__main__':\n",
    "    import sys\n",
    "    import math\n",
    "    train(sys.argv[1],sys.argv[2])"
   ]
  }
 ],
 "metadata": {
  "kernelspec": {
   "display_name": "Python 3 (ipykernel)",
   "language": "python",
   "name": "python3"
  },
  "language_info": {
   "codemirror_mode": {
    "name": "ipython",
    "version": 3
   },
   "file_extension": ".py",
   "mimetype": "text/x-python",
   "name": "python",
   "nbconvert_exporter": "python",
   "pygments_lexer": "ipython3",
   "version": "3.10.0"
  }
 },
 "nbformat": 4,
 "nbformat_minor": 5
}
