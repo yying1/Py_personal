{
 "cells": [
  {
   "cell_type": "code",
   "execution_count": 1,
   "id": "9f53eac4",
   "metadata": {},
   "outputs": [],
   "source": [
    "import csv\n",
    "import numpy as np\n",
    "VECTOR_LEN = 300   # Length of word2vec vector\n",
    "MAX_WORD_LEN = 64  # Max word length in dict.txt and word2vec.txt"
   ]
  },
  {
   "cell_type": "code",
   "execution_count": 2,
   "id": "cac5b706",
   "metadata": {},
   "outputs": [],
   "source": [
    "def load_tsv_dataset(file):\n",
    "    dataset = np.loadtxt(file, delimiter='\\t', comments=None, encoding='utf-8',dtype='l,O')\n",
    "    return dataset"
   ]
  },
  {
   "cell_type": "code",
   "execution_count": 3,
   "id": "7d740b29",
   "metadata": {},
   "outputs": [],
   "source": [
    "def load_dictionary(file):\n",
    "    dict_map = np.loadtxt(file, comments=None, encoding='utf-8',dtype=f'U{MAX_WORD_LEN},l')\n",
    "    return {word: index for word, index in dict_map}"
   ]
  },
  {
   "cell_type": "code",
   "execution_count": 4,
   "id": "b0f61c5e",
   "metadata": {},
   "outputs": [],
   "source": [
    "def load_feature_dictionary(file):\n",
    "    word2vec_map = dict()\n",
    "    with open(file) as f:\n",
    "        read_file = csv.reader(f, delimiter='\\t')\n",
    "        for row in read_file:\n",
    "            word, embedding = row[0], row[1:]\n",
    "            word2vec_map[word] = np.array(embedding, dtype=float)\n",
    "    return word2vec_map"
   ]
  },
  {
   "cell_type": "code",
   "execution_count": 5,
   "id": "9f2793bf",
   "metadata": {},
   "outputs": [],
   "source": [
    "def convert_bw(dt,dict_bw):\n",
    "    for i in range(len(dt)):\n",
    "        label = dt[i][0]\n",
    "        word_list = list(set(list(filter(None, dt[i][1].split()))))\n",
    "        row_array = np.zeros((len(dict_bw)+1,), dtype=int)\n",
    "        row_array[0] = label\n",
    "        for w in word_list:\n",
    "            if w in dict_bw.keys():\n",
    "                index = dict_bw[w]\n",
    "                row_array[1+index] = 1\n",
    "        if i == 0:\n",
    "            result_array = np.copy(row_array)\n",
    "        else:\n",
    "            result_array = np.vstack([result_array, row_array])\n",
    "    return result_array"
   ]
  },
  {
   "cell_type": "code",
   "execution_count": null,
   "id": "8cc684f7",
   "metadata": {},
   "outputs": [],
   "source": [
    "# array_bw = convert_bw(dt,dict_bw)"
   ]
  },
  {
   "cell_type": "code",
   "execution_count": null,
   "id": "47a38249",
   "metadata": {},
   "outputs": [],
   "source": [
    "# np.savetxt(\"1.tsv\", array_bw, delimiter=\"\\t\",fmt='%i')"
   ]
  },
  {
   "cell_type": "code",
   "execution_count": null,
   "id": "e22b101e",
   "metadata": {},
   "outputs": [],
   "source": [
    "def convert_we(dt,dict_fd):\n",
    "    for i in range(len(dt)):\n",
    "        label = dt[i][0]\n",
    "        word_list = list(filter(None, dt[i][1].split()))\n",
    "        row_vector = np.zeros((VECTOR_LEN,), dtype=float)\n",
    "        counter = 0\n",
    "        for w in word_list:\n",
    "            if w in dict_fd.keys():\n",
    "                row_vector = row_vector + dict_fd[w]\n",
    "                counter+=1\n",
    "        row_vector = row_vector/counter\n",
    "        row_vector = np.insert(row_vector, 0, float(label))\n",
    "        if i == 0:\n",
    "            result_array = np.copy(row_vector)\n",
    "        else:\n",
    "            result_array = np.vstack([result_array, row_vector])\n",
    "    return result_array"
   ]
  },
  {
   "cell_type": "code",
   "execution_count": null,
   "id": "df40a7ca",
   "metadata": {},
   "outputs": [],
   "source": [
    "# array_we = convert_we(dt,dict_fd)"
   ]
  },
  {
   "cell_type": "code",
   "execution_count": 8,
   "id": "337f48e3",
   "metadata": {},
   "outputs": [
    {
     "data": {
      "text/plain": [
       "{'films': 0, 'adapted': 1}"
      ]
     },
     "execution_count": 8,
     "metadata": {},
     "output_type": "execute_result"
    }
   ],
   "source": [
    "## 7.7\n",
    "import itertools\n",
    "dict_bw = load_dictionary(\"dict.txt\")\n",
    "dict_bw= dict(itertools.islice(dict_bw.items(), 2))\n",
    "dict_bw\n",
    "result = convert_bw(dt,dict_bw)\n",
    "format_s = \"%i\"\n",
    "np.savetxt(data_output[i], result, delimiter=\"\\t\",fmt=format_s)"
   ]
  },
  {
   "cell_type": "code",
   "execution_count": null,
   "id": "a1eb594d",
   "metadata": {},
   "outputs": [],
   "source": []
  },
  {
   "cell_type": "code",
   "execution_count": null,
   "id": "781896b1",
   "metadata": {},
   "outputs": [],
   "source": [
    "def main(train_in,val_in,test_in,dict_in,fd_in,ftrain_out,fval_out,ftest_out,f_flag):\n",
    "    data_input = [train_in,val_in,test_in]\n",
    "    data_output = [ftrain_out,fval_out,ftest_out]\n",
    "    dict_bw = load_dictionary(\"dict.txt\")\n",
    "    dict_fd = load_feature_dictionary(\"word2vec.txt\")\n",
    "    for i in range(len(data_input)):\n",
    "        dt = load_tsv_dataset(data_input[i])\n",
    "        if int(f_flag) == 1:\n",
    "            result = convert_bw(dt,dict_bw)\n",
    "            format_s = \"%i\"\n",
    "        else:\n",
    "            result = convert_we(dt,dict_fd)\n",
    "            format_s = '%.6f'\n",
    "        np.savetxt(data_output[i], result, delimiter=\"\\t\",fmt=format_s)"
   ]
  },
  {
   "cell_type": "code",
   "execution_count": null,
   "id": "b07c0a99",
   "metadata": {},
   "outputs": [],
   "source": [
    "if __name__ == '__main__':\n",
    "    import sys\n",
    "    import csv\n",
    "    import numpy as np\n",
    "    VECTOR_LEN = 300   # Length of word2vec vector\n",
    "    MAX_WORD_LEN = 64  # Max word length in dict.txt and word2vec.txt\n",
    "    main(sys.argv[1],sys.argv[2],sys.argv[3],sys.argv[4],sys.argv[5],sys.argv[6],sys.argv[7],sys.argv[8],sys.argv[9])"
   ]
  }
 ],
 "metadata": {
  "kernelspec": {
   "display_name": "Python 3 (ipykernel)",
   "language": "python",
   "name": "python3"
  },
  "language_info": {
   "codemirror_mode": {
    "name": "ipython",
    "version": 3
   },
   "file_extension": ".py",
   "mimetype": "text/x-python",
   "name": "python",
   "nbconvert_exporter": "python",
   "pygments_lexer": "ipython3",
   "version": "3.10.0"
  }
 },
 "nbformat": 4,
 "nbformat_minor": 5
}
