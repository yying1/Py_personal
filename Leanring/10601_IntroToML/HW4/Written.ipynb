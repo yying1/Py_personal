{
 "cells": [
  {
   "cell_type": "code",
   "execution_count": 2,
   "id": "0c94912e",
   "metadata": {},
   "outputs": [],
   "source": [
    "import numpy as np \n",
    "import math"
   ]
  },
  {
   "cell_type": "code",
   "execution_count": 34,
   "id": "c1ef058d",
   "metadata": {},
   "outputs": [],
   "source": [
    "theta  = np.array([1.5,2,1])\n",
    "x =  np.array([[0,0,1],[0,1,0],[0,1,1],[1,0,0]])\n",
    "y = [0,1,1,0]"
   ]
  },
  {
   "cell_type": "markdown",
   "id": "5877dfd8",
   "metadata": {},
   "source": [
    "#### Calculate J"
   ]
  },
  {
   "cell_type": "code",
   "execution_count": 22,
   "id": "65fad129",
   "metadata": {},
   "outputs": [],
   "source": [
    "def phi(theta, xi):\n",
    "    return math.exp(theta.dot(xi))/(1+math.exp(theta.dot(xi)))"
   ]
  },
  {
   "cell_type": "code",
   "execution_count": 19,
   "id": "e3acc869",
   "metadata": {},
   "outputs": [],
   "source": [
    "def cal_j(theta,x,y):\n",
    "    N = x.shape[0]\n",
    "    J_sum = 0.0\n",
    "    for i in range(N):\n",
    "        J_sum = J_sum + y[i]*math.log(phi(theta, x[i]))+(1-y[i])*math.log(1-phi(theta, x[i]))\n",
    "    return -1/N*J_sum"
   ]
  },
  {
   "cell_type": "code",
   "execution_count": 25,
   "id": "3c6ebbff",
   "metadata": {},
   "outputs": [
    {
     "data": {
      "text/plain": [
       "0.7975475820294224"
      ]
     },
     "execution_count": 25,
     "metadata": {},
     "output_type": "execute_result"
    }
   ],
   "source": [
    "cal_j(theta,x,y)"
   ]
  },
  {
   "cell_type": "markdown",
   "id": "00362ba0",
   "metadata": {},
   "source": [
    "#### Calculate Gradient"
   ]
  },
  {
   "cell_type": "code",
   "execution_count": 11,
   "id": "ddd58571",
   "metadata": {},
   "outputs": [],
   "source": [
    "theta  = np.array([-2,2,1])\n",
    "x =  np.array([[1,2,1],[1,1,-1],[1,-2,1]])\n",
    "y = [1,1,0]"
   ]
  },
  {
   "cell_type": "code",
   "execution_count": 12,
   "id": "9ae883c6",
   "metadata": {},
   "outputs": [
    {
     "data": {
      "text/plain": [
       "3"
      ]
     },
     "execution_count": 12,
     "metadata": {},
     "output_type": "execute_result"
    }
   ],
   "source": [
    "theta.shape[0]"
   ]
  },
  {
   "cell_type": "code",
   "execution_count": 35,
   "id": "29d297c9",
   "metadata": {
    "collapsed": true
   },
   "outputs": [
    {
     "name": "stdout",
     "output_type": "stream",
     "text": [
      "0.0\n",
      "-0.0\n",
      "-0.0\n",
      "0.8175744761936437\n",
      "0.0\n",
      "-0.11920292202211757\n",
      "-0.047425873177566746\n",
      "0.0\n",
      "0.7310585786300049\n",
      "-0.0\n",
      "-0.047425873177566746\n",
      "0.0\n"
     ]
    }
   ],
   "source": [
    "gradient = []\n",
    "N = x.shape[0]\n",
    "for j in range(theta.shape[0]):\n",
    "    gradient_j = 0.0\n",
    "    for i in range(N):\n",
    "        gradient_j+=(phi(theta, x[i])-y[i])*x[i][j]\n",
    "    gradient.append(gradient_j)"
   ]
  },
  {
   "cell_type": "code",
   "execution_count": 37,
   "id": "391ce97f",
   "metadata": {},
   "outputs": [
    {
     "data": {
      "text/plain": [
       "array([0.68242552, 2.1666288 , 0.31636729])"
      ]
     },
     "execution_count": 37,
     "metadata": {},
     "output_type": "execute_result"
    }
   ],
   "source": [
    "theta - 1*gradient"
   ]
  },
  {
   "cell_type": "markdown",
   "id": "d6a1dc93",
   "metadata": {},
   "source": [
    "#### Array"
   ]
  },
  {
   "cell_type": "code",
   "execution_count": 11,
   "id": "a80c1cda",
   "metadata": {},
   "outputs": [],
   "source": [
    "x =  np.array([[1,2],[1,1],[1,-2]])"
   ]
  },
  {
   "cell_type": "code",
   "execution_count": 12,
   "id": "c4093a5e",
   "metadata": {},
   "outputs": [],
   "source": [
    "xi =np.mean(x,axis=1)"
   ]
  },
  {
   "cell_type": "code",
   "execution_count": 13,
   "id": "e4c03632",
   "metadata": {},
   "outputs": [
    {
     "data": {
      "text/plain": [
       "(3, 2)"
      ]
     },
     "execution_count": 13,
     "metadata": {},
     "output_type": "execute_result"
    }
   ],
   "source": [
    "x.shape"
   ]
  },
  {
   "cell_type": "code",
   "execution_count": 17,
   "id": "74306439",
   "metadata": {},
   "outputs": [
    {
     "data": {
      "text/plain": [
       "(3,)"
      ]
     },
     "execution_count": 17,
     "metadata": {},
     "output_type": "execute_result"
    }
   ],
   "source": [
    "xi.shape"
   ]
  },
  {
   "cell_type": "code",
   "execution_count": 21,
   "id": "9d1bff60",
   "metadata": {},
   "outputs": [
    {
     "data": {
      "text/plain": [
       "array([2., 5.])"
      ]
     },
     "execution_count": 21,
     "metadata": {},
     "output_type": "execute_result"
    }
   ],
   "source": [
    "xi@x"
   ]
  },
  {
   "cell_type": "code",
   "execution_count": 10,
   "id": "9f429522",
   "metadata": {},
   "outputs": [
    {
     "data": {
      "text/plain": [
       "array([[ 1,  2,  1],\n",
       "       [ 2,  2, -2],\n",
       "       [ 3, -6,  3]])"
      ]
     },
     "execution_count": 10,
     "metadata": {},
     "output_type": "execute_result"
    }
   ],
   "source": [
    "x*w"
   ]
  },
  {
   "cell_type": "code",
   "execution_count": 4,
   "id": "a0a42b62",
   "metadata": {},
   "outputs": [
    {
     "data": {
      "text/plain": [
       "array([[-0.33333333,  1.66666667,  1.        ],\n",
       "       [-0.33333333,  0.66666667, -1.        ],\n",
       "       [-0.33333333, -2.33333333,  1.        ]])"
      ]
     },
     "execution_count": 4,
     "metadata": {},
     "output_type": "execute_result"
    }
   ],
   "source": [
    "x-xi"
   ]
  }
 ],
 "metadata": {
  "kernelspec": {
   "display_name": "Python 3 (ipykernel)",
   "language": "python",
   "name": "python3"
  },
  "language_info": {
   "codemirror_mode": {
    "name": "ipython",
    "version": 3
   },
   "file_extension": ".py",
   "mimetype": "text/x-python",
   "name": "python",
   "nbconvert_exporter": "python",
   "pygments_lexer": "ipython3",
   "version": "3.10.0"
  }
 },
 "nbformat": 4,
 "nbformat_minor": 5
}
