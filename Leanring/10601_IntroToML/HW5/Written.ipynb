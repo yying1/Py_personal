{
 "cells": [
  {
   "cell_type": "markdown",
   "id": "1b6e7165",
   "metadata": {},
   "source": [
    "### Question 3"
   ]
  },
  {
   "cell_type": "code",
   "execution_count": null,
   "id": "f7a5221c",
   "metadata": {},
   "outputs": [],
   "source": [
    "import numpy as np\n",
    "import math as m\n",
    "vector = np.vectorize(np.float64)"
   ]
  },
  {
   "cell_type": "code",
   "execution_count": null,
   "id": "2c6fb84a",
   "metadata": {},
   "outputs": [],
   "source": [
    "x = np.array([1,1,0,1,1,0,1])\n",
    "y = np.array([0,1,0])\n",
    "alpha = np.array([[1,1,2,0,-1,3,2],[1,2,3,1,0,1,1],[1,1,3,1,2,-1,2],[1,0,1,2,0,0,3]])\n",
    "beta = np.array([[1,1,2,0,1],[1,1,-1,3,2],[1,3,0,-1,1]])"
   ]
  },
  {
   "cell_type": "code",
   "execution_count": null,
   "id": "d0f7c9bb",
   "metadata": {},
   "outputs": [],
   "source": [
    "# calculate a1\n",
    "a = alpha.dot(x)\n",
    "a = vector(a)\n",
    "print(a[0])\n",
    "print(1*1+1*1+0*2+1*0+1*-1+0*3+1*2)"
   ]
  },
  {
   "cell_type": "code",
   "execution_count": null,
   "id": "90744022",
   "metadata": {},
   "outputs": [],
   "source": [
    "# calculate z1\n",
    "z = 1/(1+np.exp(-a))\n",
    "z = vector(z)\n",
    "print(z[0])\n",
    "print(1/(1+np.exp(-a[0])))\n",
    "z = np.insert(z,0, 1)"
   ]
  },
  {
   "cell_type": "code",
   "execution_count": null,
   "id": "527f96b1",
   "metadata": {},
   "outputs": [],
   "source": [
    "# calculate b2\n",
    "b = beta.dot(z)\n",
    "b = vector(b)\n",
    "print(b[1])\n",
    "print(z[0]*beta[1][0]+z[1]*beta[1][1]+z[2]*beta[1][2]+z[3]*beta[1][3]+z[4]*beta[1][4])"
   ]
  },
  {
   "cell_type": "code",
   "execution_count": null,
   "id": "f8210144",
   "metadata": {},
   "outputs": [],
   "source": [
    "# calculate y_hat 2\n",
    "y_hat = np.exp(b)/np.sum(np.exp(b))\n",
    "y_hat = vector(y_hat)\n",
    "print(y_hat[1])\n",
    "print(m.exp(b[1])/np.sum(np.exp(b)))"
   ]
  },
  {
   "cell_type": "code",
   "execution_count": null,
   "id": "e538cef6",
   "metadata": {},
   "outputs": [],
   "source": [
    "# calculate total loss\n",
    "loss = - y.dot(np.log(y_hat))\n",
    "loss"
   ]
  },
  {
   "cell_type": "markdown",
   "id": "346293aa",
   "metadata": {},
   "source": [
    "### Question 4"
   ]
  },
  {
   "cell_type": "code",
   "execution_count": null,
   "id": "8fd65128",
   "metadata": {},
   "outputs": [],
   "source": [
    "#a\n",
    "print(z[0]*np.sum(y*(y-y_hat)))\n",
    "print(z[0]*(y[0]*(y[0]-y_hat[0])+y[1]*(y[1]-y_hat[1])+y[2]*(y[2]-y_hat[2])))"
   ]
  },
  {
   "cell_type": "code",
   "execution_count": null,
   "id": "48a99e8b",
   "metadata": {},
   "outputs": [],
   "source": [
    "#b\n",
    "print(beta[0][0]-1*z[0]*np.sum(y*(y-y_hat)))"
   ]
  },
  {
   "cell_type": "code",
   "execution_count": null,
   "id": "fd943b35",
   "metadata": {},
   "outputs": [],
   "source": [
    "#c\n",
    "def dl_dyhat(y,y_hat):\n",
    "    return -y*(1/y_hat)\n",
    "    \n",
    "def dyhat_db(y,y_hat):\n",
    "    return y_hat*(y-y_hat)\n",
    "\n",
    "def db_dz(beta):\n",
    "#     return np.sum(beta[:,1:],axis=1)\n",
    "    return beta[:,1:]\n",
    "\n",
    "def dz_da(a):\n",
    "    return np.exp(a)/((np.exp(a)+1)**2)\n",
    "\n",
    "def da_dalha(x):\n",
    "    return x\n",
    "    \n",
    "print(np.transpose(dl_dyhat(y,y_hat)*dyhat_db(y,y_hat)).reshape((1,3)).dot(db_dz(beta)*dz_da(a))*da_dalha(x)[3])"
   ]
  },
  {
   "cell_type": "code",
   "execution_count": null,
   "id": "840a3341",
   "metadata": {},
   "outputs": [],
   "source": [
    "#d\n",
    "print(alpha[2][2] - 1*(np.transpose(dl_dyhat(y,y_hat)*dyhat_db(y,y_hat)).reshape((1,3)).dot(db_dz(beta)*dz_da(a))*da_dalha(x)[3])[0][2])"
   ]
  },
  {
   "cell_type": "code",
   "execution_count": null,
   "id": "44ea6681",
   "metadata": {},
   "outputs": [],
   "source": [
    "#e\n",
    "answer = alpha[1][0] - 1*(np.transpose(dl_dyhat(y,y_hat)*dyhat_db(y,y_hat)).reshape((1,3)).dot(db_dz(beta)*dz_da(a))*1)[0][1]\n",
    "answer"
   ]
  },
  {
   "cell_type": "code",
   "execution_count": null,
   "id": "16cb7470",
   "metadata": {},
   "outputs": [],
   "source": []
  },
  {
   "cell_type": "code",
   "execution_count": null,
   "id": "6b8ee41d",
   "metadata": {},
   "outputs": [],
   "source": []
  },
  {
   "cell_type": "code",
   "execution_count": null,
   "id": "92f01984",
   "metadata": {},
   "outputs": [],
   "source": []
  }
 ],
 "metadata": {
  "kernelspec": {
   "display_name": "Python 3 (ipykernel)",
   "language": "python",
   "name": "python3"
  },
  "language_info": {
   "codemirror_mode": {
    "name": "ipython",
    "version": 3
   },
   "file_extension": ".py",
   "mimetype": "text/x-python",
   "name": "python",
   "nbconvert_exporter": "python",
   "pygments_lexer": "ipython3",
   "version": "3.10.0"
  }
 },
 "nbformat": 4,
 "nbformat_minor": 5
}
