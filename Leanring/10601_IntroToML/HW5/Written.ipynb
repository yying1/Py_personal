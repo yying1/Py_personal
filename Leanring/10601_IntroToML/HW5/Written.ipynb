{
 "cells": [
  {
   "cell_type": "markdown",
   "id": "1b6e7165",
   "metadata": {},
   "source": [
    "### Question 3"
   ]
  },
  {
   "cell_type": "code",
   "execution_count": 32,
   "id": "f7a5221c",
   "metadata": {},
   "outputs": [],
   "source": [
    "import numpy as np\n",
    "import math as m\n",
    "vector = np.vectorize(np.float64)"
   ]
  },
  {
   "cell_type": "code",
   "execution_count": 5,
   "id": "2c6fb84a",
   "metadata": {},
   "outputs": [],
   "source": [
    "x = np.array([1,1,0,1,1,0,1])\n",
    "y = np.array([0,1,0])\n",
    "alpha = np.array([[1,1,2,0,-1,3,2],[1,2,3,1,0,1,1],[1,1,3,1,2,-1,2],[1,0,1,2,0,0,3]])\n",
    "beta = np.array([[1,1,2,0,1],[1,1,-1,3,2],[1,3,0,-1,1]])"
   ]
  },
  {
   "cell_type": "code",
   "execution_count": 61,
   "id": "d0f7c9bb",
   "metadata": {},
   "outputs": [
    {
     "name": "stdout",
     "output_type": "stream",
     "text": [
      "3.0\n",
      "3\n"
     ]
    }
   ],
   "source": [
    "# calculate a1\n",
    "a = alpha.dot(x)\n",
    "a = vector(a)\n",
    "print(a[0])\n",
    "print(1*1+1*1+0*2+1*0+1*-1+0*3+1*2)"
   ]
  },
  {
   "cell_type": "code",
   "execution_count": 62,
   "id": "90744022",
   "metadata": {},
   "outputs": [
    {
     "name": "stdout",
     "output_type": "stream",
     "text": [
      "0.9525741268224334\n",
      "0.9525741268224334\n"
     ]
    }
   ],
   "source": [
    "# calculate z1\n",
    "z = 1/(1+np.exp(-a))\n",
    "print(z[0])\n",
    "print(1/(1+np.exp(-a[0])))\n",
    "z = np.insert(z,0, 1)"
   ]
  },
  {
   "cell_type": "code",
   "execution_count": 65,
   "id": "527f96b1",
   "metadata": {},
   "outputs": [
    {
     "name": "stdout",
     "output_type": "stream",
     "text": [
      "5.951588577850247\n",
      "5.951588577850247\n"
     ]
    }
   ],
   "source": [
    "# calculate b2\n",
    "b = beta.dot(z)\n",
    "print(b[1])\n",
    "print(z[0]*beta[1][0]+z[1]*beta[1][1]+z[2]*beta[1][2]+z[3]*beta[1][3]+z[4]*beta[1][4])"
   ]
  },
  {
   "cell_type": "code",
   "execution_count": 74,
   "id": "f8210144",
   "metadata": {},
   "outputs": [
    {
     "name": "stdout",
     "output_type": "stream",
     "text": [
      "0.6731893561903807\n",
      "0.6731893561903807\n"
     ]
    }
   ],
   "source": [
    "# calculate y_hat 2\n",
    "y_hat = np.exp(b)/np.sum(np.exp(b))\n",
    "print(y_hat[1])\n",
    "print(m.exp(b[1])/np.sum(np.exp(b)))"
   ]
  },
  {
   "cell_type": "code",
   "execution_count": 75,
   "id": "e538cef6",
   "metadata": {},
   "outputs": [],
   "source": [
    "# calculate total loss\n",
    "loss = - y.dot(np.log(y_hat))\n",
    "loss"
   ]
  },
  {
   "cell_type": "markdown",
   "id": "346293aa",
   "metadata": {},
   "source": [
    "### Question 4"
   ]
  },
  {
   "cell_type": "code",
   "execution_count": null,
   "id": "8fd65128",
   "metadata": {},
   "outputs": [],
   "source": []
  }
 ],
 "metadata": {
  "kernelspec": {
   "display_name": "Python 3 (ipykernel)",
   "language": "python",
   "name": "python3"
  },
  "language_info": {
   "codemirror_mode": {
    "name": "ipython",
    "version": 3
   },
   "file_extension": ".py",
   "mimetype": "text/x-python",
   "name": "python",
   "nbconvert_exporter": "python",
   "pygments_lexer": "ipython3",
   "version": "3.10.0"
  }
 },
 "nbformat": 4,
 "nbformat_minor": 5
}
