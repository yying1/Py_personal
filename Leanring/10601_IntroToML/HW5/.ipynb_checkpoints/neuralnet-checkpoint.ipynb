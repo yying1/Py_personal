{
 "cells": [
  {
   "cell_type": "markdown",
   "id": "1bf18730",
   "metadata": {},
   "source": [
    "### Homework 5 | Frank Yue Ying | yying2@"
   ]
  },
  {
   "cell_type": "code",
   "execution_count": null,
   "id": "84e8d7a5",
   "metadata": {},
   "outputs": [],
   "source": [
    "import numpy as np\n",
    "import argparse\n",
    "import logging"
   ]
  }
 ],
 "metadata": {
  "kernelspec": {
   "display_name": "Python 3 (ipykernel)",
   "language": "python",
   "name": "python3"
  },
  "language_info": {
   "codemirror_mode": {
    "name": "ipython",
    "version": 3
   },
   "file_extension": ".py",
   "mimetype": "text/x-python",
   "name": "python",
   "nbconvert_exporter": "python",
   "pygments_lexer": "ipython3",
   "version": "3.10.0"
  }
 },
 "nbformat": 4,
 "nbformat_minor": 5
}
