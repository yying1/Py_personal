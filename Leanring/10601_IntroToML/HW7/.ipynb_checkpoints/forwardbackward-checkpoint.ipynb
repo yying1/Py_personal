{
 "cells": [
  {
   "cell_type": "code",
   "execution_count": 1,
   "id": "1d67850c",
   "metadata": {},
   "outputs": [],
   "source": [
    "import numpy as np\n",
    "from utils import make_dict, parse_file, get_matrices, write_predictions, write_metrics\n",
    "import argparse\n",
    "import logging"
   ]
  },
  {
   "cell_type": "markdown",
   "id": "aa9b5110",
   "metadata": {},
   "source": [
    "python forwardbackward.py toy_data/validation.txt toy_data/index_to_word.txt toy_data/index_to_tag.txt toy_data/hmminit.txt toy_data/hmmemit.txt toy_data/hmmtrans.txt toy_data/predicted.txt toy_data/metrics.txt"
   ]
  },
  {
   "cell_type": "code",
   "execution_count": null,
   "id": "5b2f835c",
   "metadata": {},
   "outputs": [],
   "source": [
    "parser = argparse.ArgumentParser()\n",
    "parser.add_argument('validation_input', type=str,help='path to validation input .txt file')\n",
    "parser.add_argument('index_to_word', type=str,help='path to index_to_word.txt file')\n",
    "parser.add_argument('index_to_tag', type=str,help='path to index_to_tag.txt file')\n",
    "parser.add_argument('init', type=str,help='path to the learned hmm_init.txt (pi) file')\n",
    "parser.add_argument('emission', type=str,help='path to the learned hmm_emission.txt (A) file')\n",
    "parser.add_argument('transition', type=str,help='path to the learned hmm_transition.txt (B) file')\n",
    "parser.add_argument('prediction_file', type=str,help='path to store predictions')\n",
    "parser.add_argument('metric_file', type=str,help='path to store metrics')                    \n",
    "parser.add_argument('--debug', type=bool, default=False,help='set to True to show logging')"
   ]
  },
  {
   "cell_type": "code",
   "execution_count": null,
   "id": "5421a4fa",
   "metadata": {},
   "outputs": [],
   "source": [
    "# parser.validation_input = \"toy_data/validation.txt\"\n",
    "# parser.index_to_word = \"toy_data/index_to_word.txt\"\n",
    "# parser.index_to_tag = \"toy_data/index_to_tag.txt\"\n",
    "# parser.init = \"toy_data/hmminit.txt\"\n",
    "# parser.emission = \"toy_data/hmmemit.txt\"\n",
    "# parser.transition = \"toy_data/hmmtrans.txt\"\n",
    "# parser.prediction_file = \"toy_data/predicted.txt\"\n",
    "# parser.metric_file = \"toy_data/metrics.txt\"\n",
    "# ## running main function outside need this\n",
    "# args = parser"
   ]
  },
  {
   "cell_type": "code",
   "execution_count": null,
   "id": "c40b255c",
   "metadata": {},
   "outputs": [],
   "source": [
    "parser.validation_input = \"fr_data/validation.txt\"\n",
    "parser.index_to_word = \"fr_data/index_to_word.txt\"\n",
    "parser.index_to_tag = \"fr_data/index_to_tag.txt\"\n",
    "parser.init = \"fr_data/hmminit.txt\"\n",
    "parser.emission = \"fr_data/hmmemit.txt\"\n",
    "parser.transition = \"fr_data/hmmtrans.txt\"\n",
    "parser.prediction_file = \"fr_data/predicted.txt\"\n",
    "parser.metric_file = \"fr_data/metrics.txt\"\n",
    "## running main function outside need this\n",
    "args = parser"
   ]
  },
  {
   "cell_type": "code",
   "execution_count": null,
   "id": "cb9a06b5",
   "metadata": {},
   "outputs": [],
   "source": [
    "word_dict = make_dict(args.index_to_word)\n",
    "tag_dict = make_dict(args.index_to_tag)\n",
    "init, emission, transition = get_matrices(args)\n",
    "sentences, tags = parse_file(args.validation_input)"
   ]
  },
  {
   "cell_type": "code",
   "execution_count": null,
   "id": "f6929c54",
   "metadata": {},
   "outputs": [],
   "source": []
  },
  {
   "cell_type": "code",
   "execution_count": null,
   "id": "79fa3a70",
   "metadata": {},
   "outputs": [],
   "source": [
    "# Hint: You might find it helpful to define functions \n",
    "# that do the following:\n",
    "# 1. Calculate Alphas\n",
    "# 2. Calculate Betas\n",
    "# 3. Implement the LogSumExpTrick\n",
    "# 4. Calculate probabilities and predictions"
   ]
  },
  {
   "cell_type": "code",
   "execution_count": null,
   "id": "3b05cba8",
   "metadata": {},
   "outputs": [],
   "source": [
    "## Alpha Without log\n",
    "\n",
    "# sentence = sentences[0]\n",
    "# alpha = np.empty((len(sentence),len(tag_dict)), dtype='float')\n",
    "def cal_alpha(index):\n",
    "    global alpha\n",
    "    if index == 0:\n",
    "        alpha[0] = init*emission[:,word_dict[sentence[index]]]\n",
    "        return init*emission[:,word_dict[sentence[index]]]\n",
    "    else: \n",
    "        alpha[index] = np.array(emission[:,word_dict[sentence[index]]])*transition.T.dot(cal_alpha(index-1))\n",
    "#         (transition.T*np.tile(np.array(np.array(emission[:,word_dict[sentence[index]]]).reshape((emission.shape[0], 1))),(1,transition.T.shape[1]))).dot(cal_alpha(index-1))\n",
    "        return alpha[index]\n",
    "# cal_alpha(len(sentence)-1) ##one sentence only\n",
    "# print(alpha)"
   ]
  },
  {
   "cell_type": "code",
   "execution_count": 2,
   "id": "1fe6de5c",
   "metadata": {},
   "outputs": [],
   "source": [
    "def logSumExpTrick(v):\n",
    "    m = []\n",
    "    def logSumExpTrick1(v):\n",
    "        m = max(v)\n",
    "        return m + np.log(sum(np.exp(v-m)))\n",
    "    for v_r in v:\n",
    "        m.append(logSumExpTrick1(v_r))\n",
    "#     m = v.max(1)\n",
    "#     return m + np.log((np.exp(v-m.T)).sum(axis=1))\n",
    "    return m"
   ]
  },
  {
   "cell_type": "code",
   "execution_count": 3,
   "id": "b442e61b",
   "metadata": {},
   "outputs": [],
   "source": [
    "## With log\n",
    "def get_alpha_l(sentence,tag_dict,init,emission,transition,word_dict):\n",
    "    alpha_l = np.empty((len(sentence),len(tag_dict)), dtype='float')\n",
    "    def cal_alpha_l(index):\n",
    "        nonlocal alpha_l\n",
    "        if index == 0:\n",
    "            alpha_l[0] = np.log(init)+np.log(emission[:,word_dict[sentence[index]]])\n",
    "            return alpha_l[0]\n",
    "        else: \n",
    "            al = np.log(emission[:,word_dict[sentence[index]]])+logSumExpTrick(np.log(transition.T)+cal_alpha_l(index-1))\n",
    "            alpha_l[index] = al.copy()\n",
    "            return al\n",
    "    cal_alpha_l(len(sentence)-1) ##one sentence only\n",
    "    return alpha_l\n",
    "# alpha_l = get_alpha_l(sentences[0],tag_dict)"
   ]
  },
  {
   "cell_type": "code",
   "execution_count": null,
   "id": "f6033a97",
   "metadata": {},
   "outputs": [],
   "source": [
    "## Beta Without log\n",
    "\n",
    "# sentence = sentences[0]\n",
    "# beta = np.empty((len(sentence),len(tag_dict)), dtype='float')\n",
    "def cal_beta(index,length):\n",
    "    global beta\n",
    "    if index == length-1:\n",
    "        beta[index] = np.ones((1,len(tag_dict)))\n",
    "        return np.array([1,1]).T\n",
    "    else:\n",
    "        W_jkt = transition*np.tile(np.array(np.array(emission[:,word_dict[sentence[index+1]]]).reshape((emission.shape[0], 1))),(1,transition.T.shape[1])).T\n",
    "        beta[index] = W_jkt.dot(cal_beta(index+1,length))\n",
    "        return beta[index]\n",
    "# cal_beta(0,len(sentence)) ##one sentence only\n",
    "# print(beta)"
   ]
  },
  {
   "cell_type": "code",
   "execution_count": 4,
   "id": "4a7811fd",
   "metadata": {},
   "outputs": [],
   "source": [
    "## Beta with log\n",
    "def get_beta_l(sentence, tag_dict,emission,transition,word_dict):\n",
    "    beta_l = np.empty((len(sentence),len(tag_dict)), dtype='float')\n",
    "    def cal_beta_l(index,length):\n",
    "        nonlocal beta_l\n",
    "        if index == length-1:\n",
    "            beta_l[index] = np.zeros((1,len(tag_dict)))\n",
    "            return beta_l[index].copy()\n",
    "        else:\n",
    "            beta_l[index]  = logSumExpTrick(np.log(transition)+np.log(emission[:,word_dict[sentence[index+1]]])+cal_beta_l(index+1,length))\n",
    "            return beta_l[index]\n",
    "    cal_beta_l(0,len(sentence)) ##one sentence only\n",
    "    return beta_l\n",
    "# beta_l = get_beta_l(sentences[0],tag_dict)"
   ]
  },
  {
   "cell_type": "code",
   "execution_count": 5,
   "id": "0a4b50f7",
   "metadata": {},
   "outputs": [],
   "source": [
    "def predict(p_yt_l,tag_dict):\n",
    "    p_yt = np.exp(p_yt_l)\n",
    "    result = []\n",
    "    for i in p_yt:\n",
    "        max_index = np.argmax(i)\n",
    "        result.append(list(tag_dict.keys())[list(tag_dict.values()).index(max_index)])\n",
    "    return result\n",
    "# predict(p_yt_l)"
   ]
  },
  {
   "cell_type": "code",
   "execution_count": 6,
   "id": "48d695de",
   "metadata": {},
   "outputs": [],
   "source": [
    "def logSumExpTrick_llh(v):\n",
    "        m = v.max()\n",
    "        return m + np.log(sum(np.exp(v-m)))"
   ]
  },
  {
   "cell_type": "code",
   "execution_count": 7,
   "id": "b810bd0d",
   "metadata": {},
   "outputs": [],
   "source": [
    "def avg_loglikelihood(alpha_l):\n",
    "    return logSumExpTrick_llh(alpha_l[-1])"
   ]
  },
  {
   "cell_type": "code",
   "execution_count": 10,
   "id": "ab47bf52",
   "metadata": {},
   "outputs": [],
   "source": [
    "parser = argparse.ArgumentParser()\n",
    "parser.add_argument('validation_input', type=str,help='path to validation input .txt file')\n",
    "parser.add_argument('index_to_word', type=str,help='path to index_to_word.txt file')\n",
    "parser.add_argument('index_to_tag', type=str,help='path to index_to_tag.txt file')\n",
    "parser.add_argument('init', type=str,help='path to the learned hmm_init.txt (pi) file')\n",
    "parser.add_argument('emission', type=str,help='path to the learned hmm_emission.txt (A) file')\n",
    "parser.add_argument('transition', type=str,help='path to the learned hmm_transition.txt (B) file')\n",
    "parser.add_argument('prediction_file', type=str,help='path to store predictions')\n",
    "parser.add_argument('metric_file', type=str,help='path to store metrics')                    \n",
    "parser.add_argument('--debug', type=bool, default=False,help='set to True to show logging')\n",
    "parser.index_to_word = \"en_data/index_to_word.txt\"\n",
    "parser.index_to_tag = \"en_data/index_to_tag.txt\"\n",
    "## running main function outside need this\n",
    "\n",
    "x = [10,100,1000,10000]\n",
    "overall = []\n",
    "for data in [\"en_data/train.txt\",\"en_data/validation.txt\"]:\n",
    "    parser.validation_input = data\n",
    "    result = []\n",
    "    for i in x:\n",
    "        parser.init = \"en_data/hmminit\"+\"_\"+str(i)+\".txt\"\n",
    "        parser.emission = \"en_data/hmmemit\"+\"_\"+str(i)+\".txt\"\n",
    "        parser.transition = \"en_data/hmmtrans\"+\"_\"+str(i)+\".txt\"\n",
    "        args = parser\n",
    "        word_dict = make_dict(args.index_to_word)\n",
    "        tag_dict = make_dict(args.index_to_tag)\n",
    "        # Parse the validation file\n",
    "        sentences, tags = parse_file(args.validation_input)\n",
    "        ## Load your learned matrices\n",
    "        ## Make sure you have them in the right orientation\n",
    "        init, emission, transition = get_matrices(args)\n",
    "        predictions = []\n",
    "        log_likelihoods = []\n",
    "        for sentence in sentences:\n",
    "            alpha_l = get_alpha_l(sentence,tag_dict,init,emission,transition,word_dict) \n",
    "            beta_l = get_beta_l(sentence,tag_dict,emission,transition,word_dict)\n",
    "            p_yt_l = alpha_l+beta_l\n",
    "            predictions.append(predict(p_yt_l,tag_dict))\n",
    "            log_likelihoods.append(avg_loglikelihood(alpha_l))\n",
    "        predicted_tags = predictions #TODO: store your predicted tags here (in the right order)\n",
    "        avg_log_likelihood = sum(log_likelihoods)/len(sentences)# TODO: store your calculated average log-likelihood here\n",
    "        result.append(avg_log_likelihood)\n",
    "    overall.append(result)"
   ]
  },
  {
   "cell_type": "code",
   "execution_count": 11,
   "id": "60eab4d0",
   "metadata": {},
   "outputs": [
    {
     "data": {
      "text/plain": [
       "[[-80.54472148949841,\n",
       "  -74.99444935893663,\n",
       "  -67.59317395746378,\n",
       "  -60.61228444225903],\n",
       " [-87.97153090660595,\n",
       "  -80.83229271827628,\n",
       "  -70.45566558750289,\n",
       "  -61.08562092334479]]"
      ]
     },
     "execution_count": 11,
     "metadata": {},
     "output_type": "execute_result"
    }
   ],
   "source": [
    "overall"
   ]
  },
  {
   "cell_type": "code",
   "execution_count": 14,
   "id": "293faabd",
   "metadata": {},
   "outputs": [
    {
     "data": {
      "image/png": "[encoded data removed]",
      "text/plain": [
       "<Figure size 432x288 with 1 Axes>"
      ]
     },
     "metadata": {
      "needs_background": "light"
     },
     "output_type": "display_data"
    }
   ],
   "source": [
    "import matplotlib.pyplot as plt\n",
    "plt.plot(x, overall[0],'b',label=\"Train: Average log-likelihood\")\n",
    "plt.plot(x, overall[1],'r',label=\"Validation: Average log-likelihood\")\n",
    "# plt.ylim(0, 0.6)\n",
    "plt.xlim(0,11000)\n",
    "plt.legend(loc=\"lower right\")\n",
    "plt.savefig('5_2.png')\n",
    "plt.show()"
   ]
  },
  {
   "cell_type": "code",
   "execution_count": null,
   "id": "0ad76746",
   "metadata": {},
   "outputs": [],
   "source": [
    "def main(args):\n",
    "    # Get the dictionaries\n",
    "    word_dict = make_dict(args.index_to_word)\n",
    "    tag_dict = make_dict(args.index_to_tag)\n",
    "    # Parse the validation file\n",
    "    sentences, tags = parse_file(args.validation_input)\n",
    "    ## Load your learned matrices\n",
    "    ## Make sure you have them in the right orientation\n",
    "    init, emission, transition = get_matrices(args)\n",
    "    predictions = []\n",
    "    log_likelihoods = []\n",
    "    for sentence in sentences:\n",
    "        alpha_l = get_alpha_l(sentence,tag_dict,init,emission,transition,word_dict) \n",
    "        beta_l = get_beta_l(sentence,tag_dict,emission,transition,word_dict)\n",
    "        p_yt_l = alpha_l+beta_l\n",
    "        predictions.append(predict(p_yt_l,tag_dict))\n",
    "        log_likelihoods.append(avg_loglikelihood(alpha_l))\n",
    "\n",
    "    predicted_tags = predictions #TODO: store your predicted tags here (in the right order)\n",
    "    avg_log_likelihood = sum(log_likelihoods)/len(sentences)# TODO: store your calculated average log-likelihood here\n",
    "    \n",
    "    accuracy = 0 # We'll calculate this for you\n",
    "\n",
    "    ## Writing results to the corresponding files.  \n",
    "    accuracy = write_predictions(args.prediction_file, sentences, predicted_tags, tags)\n",
    "    write_metrics(args.metric_file, avg_log_likelihood, accuracy)\n",
    "\n",
    "    return"
   ]
  }
 ],
 "metadata": {
  "kernelspec": {
   "display_name": "Python 3 (ipykernel)",
   "language": "python",
   "name": "python3"
  },
  "language_info": {
   "codemirror_mode": {
    "name": "ipython",
    "version": 3
   },
   "file_extension": ".py",
   "mimetype": "text/x-python",
   "name": "python",
   "nbconvert_exporter": "python",
   "pygments_lexer": "ipython3",
   "version": "3.10.0"
  }
 },
 "nbformat": 4,
 "nbformat_minor": 5
}
