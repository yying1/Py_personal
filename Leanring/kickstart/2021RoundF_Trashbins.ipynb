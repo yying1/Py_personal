{
 "cells": [
  {
   "cell_type": "code",
   "execution_count": null,
   "metadata": {},
   "outputs": [],
   "source": [
    "#S:1, 1:1, 2:TLE\n",
    "\n",
    "cases = int(input())\n",
    "\n",
    "for c in range(cases):\n",
    "    house_count = int(input())\n",
    "    house_list = list(input())\n",
    "    house_list = [int(x) for x in house_list]\n",
    "    dis = 0\n",
    "    house_dic = {i: v for i, v in enumerate(house_list)}\n",
    "    house_dic_t = dict(filter(lambda elem: elem[1] == 1,house_dic.items()))\n",
    "    for i,v in enumerate(house_list):\n",
    "        if v == 1:\n",
    "            continue\n",
    "        else:\n",
    "            a = min(house_dic_t.keys(), key = lambda key: abs(key-i))\n",
    "            dis+=abs(i-a)\n",
    "    print(f'Case #{str(c+1)}: '+str(dis))"
   ]
  },
  {
   "cell_type": "code",
   "execution_count": 16,
   "metadata": {},
   "outputs": [
    {
     "name": "stdout",
     "output_type": "stream",
     "text": [
      "1\n",
      "6\n",
      "100100\n",
      "Case #1: 5\n"
     ]
    }
   ],
   "source": [
    "#S:1, 1:1, 2:TLE\n",
    "\n",
    "cases = int(input())\n",
    "\n",
    "for c in range(cases):\n",
    "    house_count = int(input())\n",
    "    house_list = list(input())\n",
    "    house_list = [int(x) for x in house_list]\n",
    "    house_dic = {i: v for i, v in enumerate(house_list)}\n",
    "    house_t = list(elem[0] for elem in house_dic.items() if elem[1] == 1)\n",
    "    house_n = list(elem[0] for elem in house_dic.items() if elem[1] == 0)\n",
    "    dis = 0\n",
    "    for i in range(len(house_t)-1):\n",
    "        s = house_t[i]\n",
    "        e = house_t[i+1]\n",
    "        house_n_1 = [x for x in house_n if s<x<e]\n",
    "        for n in house_n_1:\n",
    "            dis+= min(n-s,e-n)\n",
    "        ##house_n = [x for x in house_n if x not in house_n_1]\n",
    "        house_n= list (set(house_n).difference(set(house_n_1)))\n",
    "    for n in house_n:\n",
    "        dis+=min(abs(n-house_t[0]),abs(n-house_t[-1]))\n",
    "    print(f'Case #{str(c+1)}: '+str(dis))"
   ]
  },
  {
   "cell_type": "code",
   "execution_count": 10,
   "metadata": {},
   "outputs": [
    {
     "data": {
      "text/plain": [
       "[2, 4]"
      ]
     },
     "execution_count": 10,
     "metadata": {},
     "output_type": "execute_result"
    }
   ],
   "source": [
    "a = {1:1,2:0,3:1,4:0}\n",
    "house_n = list(elem[0] for elem in a.items() if elem[1] == 0)\n",
    "house_n"
   ]
  }
 ],
 "metadata": {
  "kernelspec": {
   "display_name": "Python 3",
   "language": "python",
   "name": "python3"
  },
  "language_info": {
   "codemirror_mode": {
    "name": "ipython",
    "version": 3
   },
   "file_extension": ".py",
   "mimetype": "text/x-python",
   "name": "python",
   "nbconvert_exporter": "python",
   "pygments_lexer": "ipython3",
   "version": "3.7.2"
  }
 },
 "nbformat": 4,
 "nbformat_minor": 2
}
