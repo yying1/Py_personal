{
 "cells": [
  {
   "cell_type": "markdown",
   "id": "683c653e",
   "metadata": {},
   "source": [
    "### 2021-12-17 Staying Hydrated\n",
    "https://codingcompetitions.withgoogle.com/kickstart/round/00000000004362d6/00000000008b3a1c"
   ]
  },
  {
   "cell_type": "code",
   "execution_count": 31,
   "id": "da653ad8",
   "metadata": {},
   "outputs": [
    {
     "name": "stdout",
     "output_type": "stream",
     "text": [
      "2\n",
      "3\n",
      "0 0 1 1\n",
      "2 3 4 6\n",
      "0 3 5 9\n",
      "Case #1: 1 3\n",
      "1\n",
      "0 0 1 1\n",
      "Case #2: 0 0\n"
     ]
    }
   ],
   "source": [
    "## Work for Test 2\n",
    "# f=open(\"input.txt\")\n",
    "# cases = int(f.readline().strip())\n",
    "cases = int(input().strip())\n",
    "for case in range(cases):\n",
    "#     K = int(f.readline().strip())\n",
    "    K = int(input().strip())\n",
    "    x1_list = []\n",
    "    x2_list = []\n",
    "    y1_list = []\n",
    "    y2_list = []\n",
    "    for i in range(K):\n",
    "#         coordinates = f.readline().strip().split(\" \")\n",
    "        coordinates = input().strip().split(\" \")\n",
    "        coordinates = [int(x) for x in coordinates]\n",
    "        x1_list.append(coordinates[0])\n",
    "        y1_list.append(coordinates[1])\n",
    "        x2_list.append(coordinates[2])\n",
    "        y2_list.append(coordinates[3])\n",
    "    x1_list = sorted(x1_list)\n",
    "    y1_list = sorted(y1_list)\n",
    "    x2_list = sorted(x2_list)\n",
    "    y2_list = sorted(y2_list)\n",
    "    if len(x1_list) == 1:\n",
    "        x_val = x1_list[0]\n",
    "    else:\n",
    "        ax = len(x1_list)-1\n",
    "        bx = 0\n",
    "        for i in sorted(x1_list+x2_list):\n",
    "            while x1_list[len(x1_list)-ax] <= i:\n",
    "                ax-=1\n",
    "                if ax == 0:\n",
    "                    break\n",
    "            while x2_list[bx] <= i:\n",
    "                bx+=1\n",
    "                if bx == len(x2_list):\n",
    "                    break\n",
    "            if ax - bx <= 0:\n",
    "                x_val = i\n",
    "                break\n",
    "    ay = len(y1_list)-1\n",
    "    by = 0\n",
    "    if len(y1_list) == 1:\n",
    "        y_val = y1_list[0]\n",
    "    else: \n",
    "        for i in sorted(y1_list+y2_list):\n",
    "            while y1_list[len(y1_list)-ay] <= i:\n",
    "                ay-=1\n",
    "                if ay == 0:\n",
    "                    break\n",
    "            while y2_list[by] <= i:\n",
    "                by+=1\n",
    "                if by == len(y2_list):\n",
    "                    break\n",
    "            if ay - by <= 0:\n",
    "                y_val = i\n",
    "                break\n",
    "    print(f'Case #{str(case+1)}: '+str(x_val)+\" \"+str(y_val))"
   ]
  },
  {
   "cell_type": "code",
   "execution_count": null,
   "id": "f32363b3",
   "metadata": {},
   "outputs": [],
   "source": [
    "2\n",
    "3\n",
    "0 0 1 1\n",
    "2 3 4 6\n",
    "0 3 5 9\n",
    "1\n",
    "0 0 1 1"
   ]
  },
  {
   "cell_type": "code",
   "execution_count": null,
   "id": "b8a45594",
   "metadata": {},
   "outputs": [],
   "source": [
    "## Work for Test 1\n",
    "\n",
    "def get_md(a,b):\n",
    "    #a: (x,y) coordinates of the water bottle\n",
    "    #b: (x1,y1,x2,y2) bottom left and top right coordinates of the furniture\n",
    "    distance = max(b[0]-a[0],a[0]-b[2],0)+max(b[1]-a[1],a[1]-b[3],0)\n",
    "    return distance\n",
    "\n",
    "#f=open(\"input.txt\")\n",
    "#cases = int(f.readline().strip())\n",
    "cases = int(input().strip())\n",
    "for case in range(cases):\n",
    "    #K = int(f.readline().strip())\n",
    "    K = int(input().strip())\n",
    "    K_list = []\n",
    "    for i in range(K):\n",
    "        #coordinates = f.readline().strip().split(\" \")\n",
    "        coordinates = input().strip().split(\" \")\n",
    "        coordinates = [int(x) for x in coordinates]\n",
    "        K_list.append(coordinates)\n",
    "    #bottle_dict = {}\n",
    "    min_x = min([x[0] for x in K_list])\n",
    "    min_y = min([x[1] for x in K_list])\n",
    "    max_x = max([x[2] for x in K_list])\n",
    "    max_y = max([x[3] for x in K_list])\n",
    "    for x in range(min_x,max_x+1):\n",
    "        for y in range(min_y,max_y+1):\n",
    "            distance2 = 0\n",
    "            for k in K_list:\n",
    "                distance2+=get_md((x,y),k)\n",
    "            #bottle_dict[(x,y)] = distance\n",
    "            if x == min_x and y == min_y:\n",
    "                distance1 = distance2\n",
    "                xy = (x,y)\n",
    "            if distance2 < distance1:\n",
    "                xy = (x,y)\n",
    "                distance1 = distance2\n",
    "    #xy = min(bottle_dict, key = bottle_dict.get)\n",
    "    #distance = bottle_dict[xy]\n",
    "    #print(bottle_dict)\n",
    "    print(f'Case #{str(case+1)}: '+str(xy[0])+\" \"+str(xy[1]))"
   ]
  },
  {
   "cell_type": "code",
   "execution_count": 30,
   "id": "b81b673d",
   "metadata": {},
   "outputs": [
    {
     "name": "stdout",
     "output_type": "stream",
     "text": [
      "[1, 1, 2, 3, 8, 9]\n"
     ]
    }
   ],
   "source": [
    "a = [3,2,1]\n",
    "b = [9,8,1]\n",
    "print(sorted(a+b))"
   ]
  }
 ],
 "metadata": {
  "kernelspec": {
   "display_name": "Python 3 (ipykernel)",
   "language": "python",
   "name": "python3"
  },
  "language_info": {
   "codemirror_mode": {
    "name": "ipython",
    "version": 3
   },
   "file_extension": ".py",
   "mimetype": "text/x-python",
   "name": "python",
   "nbconvert_exporter": "python",
   "pygments_lexer": "ipython3",
   "version": "3.10.0"
  }
 },
 "nbformat": 4,
 "nbformat_minor": 5
}
