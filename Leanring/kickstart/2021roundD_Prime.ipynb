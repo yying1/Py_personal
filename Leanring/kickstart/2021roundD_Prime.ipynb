{
 "cells": [
  {
   "cell_type": "markdown",
   "metadata": {},
   "source": [
    "#### Note: \n",
    "This questions utilizes the concept of segment trees for better performance on range calculation in large arrays while editing the array, check the following links for more details: \n",
    "1. https://www.educative.io/edpresso/what-is-a-segment-tree \n",
    "2. https://leetcode.com/articles/a-recursive-approach-to-segment-trees-range-sum-queries-lazy-propagation/\n",
    "3. https://cp-algorithms.com/data_structures/segment_tree.html\n",
    "4. https://www.hackerearth.com/practice/data-structures/advanced-data-structures/segment-trees/tutorial/"
   ]
  },
  {
   "cell_type": "code",
   "execution_count": null,
   "metadata": {},
   "outputs": [],
   "source": [
    "## 2021-09-04\n",
    "# Round D: Primes and Queries\n",
    "\n",
    "import math\n",
    "\n",
    "def q1(A,pos,val):\n",
    "    A[pos-1] = val\n",
    "    return A\n",
    "\n",
    "def q2(A,P,S,L,R):\n",
    "    result = 0\n",
    "    for i in range(L,(R+1)):\n",
    "        v = A[i-1]\n",
    "        result1 = calV(v,S,P)\n",
    "#         print(v,S,P,result1)\n",
    "        result += degreeP(result1,P)\n",
    "#         print(\"de\",degreeP(result1,P))\n",
    "#         print(\"result\",result)\n",
    "#     print(\"done\")\n",
    "    return result\n",
    "\n",
    "def calV(v,S,P):\n",
    "    result = v**S - (v%P)**S\n",
    "    return result\n",
    "\n",
    "def degreeP(result,P):\n",
    "    count = 0\n",
    "    if result == 0:\n",
    "        return count\n",
    "    while result%P ==0:\n",
    "        count+=1\n",
    "        result = result/P\n",
    "    return count\n",
    "        \n",
    "# f = open(\"d_p.txt\")\n",
    "# cases = int(f.readline().strip())\n",
    "cases = int(input().strip())\n",
    "\n",
    "for i in range(cases):\n",
    "#     nqp = f.readline().split(\" \")\n",
    "    nqp = input().split(\" \")\n",
    "    N,Q,P = int(nqp[0]),int(nqp[1]),int(nqp[2])\n",
    "#     A = f.readline().split(\" \")\n",
    "    A = input().split(\" \")\n",
    "    A = [int(x) for x in A]\n",
    "    result_list = []\n",
    "    for q in range(Q):\n",
    "#         query = f.readline().split(\" \")\n",
    "        query = input().split(\" \")\n",
    "        query = [int(y) for y in query]\n",
    "#         print(\"query\",query)\n",
    "        if query[0] == 1:\n",
    "            A = q1(A,query[1],query[2])\n",
    "        else:\n",
    "#             print(A,P,query[1],query[2],query[3])\n",
    "            result = q2(A,P,query[1],query[2],query[3])\n",
    "            result_list.append(result)\n",
    "            \n",
    "    print(f'Case #{str(i+1)}: {\" \".join(str(x) for x in result_list)}')\n",
    "\n",
    "# f.close()"
   ]
  }
 ],
 "metadata": {
  "kernelspec": {
   "display_name": "Python 3",
   "language": "python",
   "name": "python3"
  },
  "language_info": {
   "codemirror_mode": {
    "name": "ipython",
    "version": 3
   },
   "file_extension": ".py",
   "mimetype": "text/x-python",
   "name": "python",
   "nbconvert_exporter": "python",
   "pygments_lexer": "ipython3",
   "version": "3.7.2"
  }
 },
 "nbformat": 4,
 "nbformat_minor": 2
}
