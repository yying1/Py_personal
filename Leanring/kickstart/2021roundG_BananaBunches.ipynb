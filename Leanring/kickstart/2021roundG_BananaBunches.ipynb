{
 "cells": [
  {
   "cell_type": "code",
   "execution_count": null,
   "metadata": {},
   "outputs": [],
   "source": [
    "def get_sum(dic_s,n,k):\n",
    "    a_list = [(0,n)]\n",
    "    b_list = []\n",
    "    for i,v in dic:\n",
    "        k = k-v\n",
    "        b_list.append(i)\n",
    "        for i in range(len(b_list)):\n",
    "            if \n",
    "        \n",
    "\n",
    "cases = int(input().strip())\n",
    "for case in range(cases):\n",
    "    nk = list(input().strip())\n",
    "    n,k = int(nk[0]), int(nk[1])\n",
    "    trees = list(input().split(\" \"))\n",
    "    trees = [int(x) for x in trees]\n",
    "    dic_t = {i:v for i,v in enumerate(trees)}\n",
    "    dic_s = {}\n",
    "    while True:\n",
    "        s = max(trees)\n",
    "        s_index = [i for i,v in enumerate(trees) if v == s]\n",
    "        \n",
    "    tree_taken = []\n",
    "    \n",
    "    "
   ]
  },
  {
   "cell_type": "code",
   "execution_count": 6,
   "metadata": {},
   "outputs": [
    {
     "data": {
      "text/plain": [
       "1"
      ]
     },
     "execution_count": 6,
     "metadata": {},
     "output_type": "execute_result"
    }
   ],
   "source": [
    "a = [1,3,2,1,3,2,3]\n",
    "b = max(a)\n",
    "a.index(b)"
   ]
  }
 ],
 "metadata": {
  "kernelspec": {
   "display_name": "Python 3",
   "language": "python",
   "name": "python3"
  },
  "language_info": {
   "codemirror_mode": {
    "name": "ipython",
    "version": 3
   },
   "file_extension": ".py",
   "mimetype": "text/x-python",
   "name": "python",
   "nbconvert_exporter": "python",
   "pygments_lexer": "ipython3",
   "version": "3.7.2"
  }
 },
 "nbformat": 4,
 "nbformat_minor": 2
}
