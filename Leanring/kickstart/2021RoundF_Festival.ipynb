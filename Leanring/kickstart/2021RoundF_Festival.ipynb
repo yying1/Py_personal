{
 "cells": [
  {
   "cell_type": "code",
   "execution_count": 2,
   "metadata": {},
   "outputs": [
    {
     "name": "stdout",
     "output_type": "stream",
     "text": [
      "1\n",
      "5 3 3\n",
      "400 1 3\n",
      "500 5 5\n",
      "300 2 3\n",
      "Case #1: 700\n"
     ]
    }
   ],
   "source": [
    "#S:1, 1:1, 2:TLE\n",
    "\n",
    "cases = int(input().strip())\n",
    "for c in range(cases):\n",
    "    dnk = input().strip().split(\" \")\n",
    "    D,N,K = int(dnk[0]),int(dnk[1]),int(dnk[2])\n",
    "    h_dic = {d:[] for d in range(D)}\n",
    "    for i in range(N):\n",
    "        hse = input().strip().split(\" \")\n",
    "        h,s,e = int(hse[0]),int(hse[1]),int(hse[2])\n",
    "        days = [*range(s-1,e, 1)]\n",
    "        for d in days:\n",
    "            if len(h_dic[d]) >=K and min(h_dic[d]) >= h:\n",
    "                continue\n",
    "            elif len(h_dic[d]) <K:\n",
    "                h_dic[d].append(h)\n",
    "            elif len(h_dic[d]) >=K and min(h_dic[d]) < h:\n",
    "                h_dic[d].remove(min(h_dic[d]))\n",
    "                h_dic[d].append(h)\n",
    "    a = {key:sum(h_dic[key]) for key in h_dic.keys()}\n",
    "    print(f'Case #{str(c+1)}: '+str(max(a.values())))\n"
   ]
  },
  {
   "cell_type": "code",
   "execution_count": null,
   "metadata": {},
   "outputs": [],
   "source": [
    "import numpy as np\n",
    "cases = int(input().strip())\n",
    "for c in range(cases):\n",
    "    dnk = input().strip().split(\" \")\n",
    "    D,N,K = int(dnk[0]),int(dnk[1]),int(dnk[2])\n",
    "    h_dic = {d:[] for d in range(D)}\n",
    "    for i in range(N):\n",
    "        hse = input().strip().split(\" \")\n",
    "        h,s,e = int(hse[0]),int(hse[1]),int(hse[2])\n",
    "        days = [*range(s-1,e, 1)]\n",
    "        for d in days:\n",
    "            if len(h_dic[d]) >=K and min(h_dic[d]) >= h:\n",
    "                continue\n",
    "            elif len(h_dic[d]) <K:\n",
    "                h_dic[d].append(h)\n",
    "            elif len(h_dic[d]) >=K and min(h_dic[d]) < h:\n",
    "                h_dic[d].remove(min(h_dic[d]))\n",
    "                h_dic[d].append(h)\n",
    "    a = {key:sum(h_dic[key]) for key in h_dic.keys()}\n",
    "    print(f'Case #{str(c+1)}: '+str(max(a.values())))"
   ]
  }
 ],
 "metadata": {
  "kernelspec": {
   "display_name": "Python 3",
   "language": "python",
   "name": "python3"
  },
  "language_info": {
   "codemirror_mode": {
    "name": "ipython",
    "version": 3
   },
   "file_extension": ".py",
   "mimetype": "text/x-python",
   "name": "python",
   "nbconvert_exporter": "python",
   "pygments_lexer": "ipython3",
   "version": "3.7.2"
  }
 },
 "nbformat": 4,
 "nbformat_minor": 2
}
