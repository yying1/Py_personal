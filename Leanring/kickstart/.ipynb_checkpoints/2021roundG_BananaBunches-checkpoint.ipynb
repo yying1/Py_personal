{
 "cells": [
  {
   "cell_type": "markdown",
   "metadata": {},
   "source": [
    "### 2021-12-25 Banana Bunches\n",
    "https://codingcompetitions.withgoogle.com/kickstart/round/00000000004362d6/00000000008b44ef"
   ]
  },
  {
   "cell_type": "code",
   "execution_count": 1,
   "metadata": {},
   "outputs": [
    {
     "name": "stdout",
     "output_type": "stream",
     "text": [
      "2\n",
      "6 8\n",
      "1 2 3 1 2 3\n",
      "Case #1: 3\n",
      "4 10\n",
      "6 7 5 2\n",
      "Case #2: -1\n"
     ]
    }
   ],
   "source": [
    "def get_ijx(length_B):\n",
    "    result_list = []\n",
    "    for i in range(length_B):\n",
    "        for j in range(i,length_B):\n",
    "            for x in range(j+1,length_B):\n",
    "                if [i,j,x] not in result_list:\n",
    "                    result_list.append([i,j,x])           \n",
    "    return result_list\n",
    "\n",
    "# f=open(\"input.txt\")\n",
    "# cases = int(f.readline().strip())\n",
    "cases = int(input().strip())\n",
    "for case in range(cases):\n",
    "#     N_K = f.readline().strip().split(\" \")\n",
    "    N_K = input().strip().split(\" \")\n",
    "    N,K = int(N_K[0]),int(N_K[1])\n",
    "#     B = f.readline().strip().split(\" \")\n",
    "    B = input().strip().split(\" \")\n",
    "    B = [int(x) for x in B]\n",
    "    if K in B:\n",
    "        result = 1\n",
    "    else:\n",
    "        dictSum_End = {}\n",
    "        pre = 0\n",
    "        for i in range(len(B)):\n",
    "            dictSum_End[i] = pre + B[i]\n",
    "            pre = pre + B[i]\n",
    "        sub_list = get_ijx(N)\n",
    "        result = N\n",
    "        found = False\n",
    "#         print(sub_list)\n",
    "        for l in sub_list:\n",
    "            if l[0] > 0:\n",
    "                b1 = dictSum_End[l[1]] - dictSum_End[l[0]-1]\n",
    "            else:\n",
    "                b1 = dictSum_End[l[1]]\n",
    "            if b1<K:\n",
    "                for y in range(l[2],len(B)):\n",
    "                    if dictSum_End[y] - dictSum_End[l[2]-1] == K-b1:\n",
    "                        found = True\n",
    "                        if l[1] - l[0]+1+y - l[2]+1 < result:\n",
    "                            result = l[1] - l[0]+1+y - l[2]+1\n",
    "                            break\n",
    "                    elif dictSum_End[y] - dictSum_End[l[2]-1] > K-b1:\n",
    "                        break\n",
    "            else:\n",
    "                continue\n",
    "        if found == False:\n",
    "            result = -1\n",
    "    print(f'Case #{str(case+1)}: '+str(result))"
   ]
  },
  {
   "cell_type": "code",
   "execution_count": null,
   "metadata": {},
   "outputs": [],
   "source": [
    "## 2021-12-27 Worked for Simple but TLE for others\n",
    "def get_ijxy(length_B):\n",
    "    result_list = []\n",
    "    for i in range(length_B):\n",
    "        for j in range(i,length_B):\n",
    "            for x in range(j+1,length_B):\n",
    "                for y in range(x,length_B):\n",
    "                                if [i,j,x,y] not in result_list:\n",
    "                                    result_list.append([i,j,x,y])           \n",
    "    return result_list\n",
    "\n",
    "# f=open(\"input.txt\")\n",
    "# cases = int(f.readline().strip())\n",
    "cases = int(input().strip())\n",
    "for case in range(cases):\n",
    "#     N_K = f.readline().strip().split(\" \")\n",
    "    N_K = input().strip().split(\" \")\n",
    "    N,K = int(N_K[0]),int(N_K[1])\n",
    "#     B = f.readline().strip().split(\" \")\n",
    "    B = input().strip().split(\" \")\n",
    "    B = [int(x) for x in B]\n",
    "    if K in B:\n",
    "        result = 1\n",
    "    else:\n",
    "        dictSum_End = {}\n",
    "        pre = 0\n",
    "        for i in range(len(B)):\n",
    "            dictSum_End[i] = pre + B[i]\n",
    "            pre = pre + B[i]\n",
    "        sub_list = get_ijxy(N)\n",
    "        result = N\n",
    "        found = False\n",
    "#         print(sub_list)\n",
    "        for l in sub_list:\n",
    "            if l[0] > 0:\n",
    "                b1 = dictSum_End[l[1]] - dictSum_End[l[0]-1]\n",
    "            else:\n",
    "                b1 = dictSum_End[l[1]]\n",
    "            b2 = dictSum_End[l[3]] - dictSum_End[l[2]-1]\n",
    "            if b1+b2 == K:\n",
    "                found = True\n",
    "                if l[1] - l[0]+1+l[3] - l[2]+1 < result:\n",
    "                    result = l[1] - l[0]+1+l[3] - l[2]+1\n",
    "        if found == False:\n",
    "            result = -1\n",
    "    print(f'Case #{str(case+1)}: '+str(result))"
   ]
  }
 ],
 "metadata": {
  "kernelspec": {
   "display_name": "Python 3 (ipykernel)",
   "language": "python",
   "name": "python3"
  },
  "language_info": {
   "codemirror_mode": {
    "name": "ipython",
    "version": 3
   },
   "file_extension": ".py",
   "mimetype": "text/x-python",
   "name": "python",
   "nbconvert_exporter": "python",
   "pygments_lexer": "ipython3",
   "version": "3.10.0"
  }
 },
 "nbformat": 4,
 "nbformat_minor": 2
}
