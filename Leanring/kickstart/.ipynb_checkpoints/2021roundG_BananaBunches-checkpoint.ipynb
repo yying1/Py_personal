{
 "cells": [
  {
   "cell_type": "markdown",
   "metadata": {},
   "source": [
    "### 2021-12-25 Banana Bunches\n",
    "https://codingcompetitions.withgoogle.com/kickstart/round/00000000004362d6/00000000008b44ef"
   ]
  },
  {
   "cell_type": "code",
   "execution_count": 46,
   "metadata": {},
   "outputs": [
    {
     "name": "stdout",
     "output_type": "stream",
     "text": [
      "{1: 3, 2: 6, 3: 7, 4: 9, 5: 12, 6: 12}\n",
      "[0, 0, 1, 2]\n",
      "[0, 0, 4, 5]\n",
      "[0, 1, 4, 4]\n",
      "[0, 2, 3, 3]\n",
      "[1, 2, 4, 5]\n",
      "[3, 5, -1, -1]\n",
      "Case #1: 3\n",
      "{1: 13, 2: 18, 3: 20, 4: 20}\n",
      "Case #2: -1\n",
      "{1: 4, 2: 6, 3: 7, 4: 10, 5: 11, 6: 11}\n",
      "[0, 0, 1, 3]\n",
      "[0, 0, 3, 4]\n",
      "[0, 0, 4, 5]\n",
      "[0, 1, 2, 2]\n",
      "[0, 2, 3, 3]\n",
      "[0, 2, 5, 5]\n",
      "[1, 5, -1, -1]\n",
      "Case #3: 3\n",
      "{1: 4, 2: 6, 3: 6, 4: 6}\n",
      "[0, 0, 2, 2]\n",
      "[0, 0, 2, 3]\n",
      "[0, 1, 3, 3]\n",
      "[0, 2, 3, 3]\n",
      "[0, 3, -1, -1]\n",
      "Case #4: 2\n"
     ]
    }
   ],
   "source": [
    "f=open(\"input.txt\")\n",
    "cases = int(f.readline().strip())\n",
    "# cases = int(input().strip())\n",
    "for case in range(cases):\n",
    "    N_K = f.readline().strip().split(\" \")\n",
    "#     N_K = input().strip().split(\" \")\n",
    "    N,K = int(N_K[0]),int(N_K[1])\n",
    "    B = f.readline().strip().split(\" \")\n",
    "#     B = input().strip().split(\" \")\n",
    "    B = [int(x) for x in B]\n",
    "    if sum(B)<K:\n",
    "        result = -1\n",
    "    elif K in B:\n",
    "        result = 1\n",
    "    else:\n",
    "        dictSum_End = {}\n",
    "        for i in range(1,len(B)+1):\n",
    "            dictSum_End[i] = sum(B[:i+1])\n",
    "        sub_list = get_ijxy(N)\n",
    "        result = N\n",
    "        found = False\n",
    "        print(dictSum_End)\n",
    "        for l in sub_list:\n",
    "            if l[0] > 0:\n",
    "                b1 = dictSum_End[l[1]] - dictSum_End[l[0]]\n",
    "            else:\n",
    "                b1 = dictSum_End[l[1]+1]\n",
    "            if l[2] !=-1:\n",
    "                if l[2] == 1:\n",
    "                    b2 = dictSum_End[l[3]] - B[0]\n",
    "                else:\n",
    "                    b2 = dictSum_End[l[3]] - dictSum_End[l[2]-1]\n",
    "            if b1+b2 == K:\n",
    "                found = True\n",
    "                print(l)\n",
    "                if l[2] == -1:\n",
    "                    if l[1] - l[0]+1 < result:\n",
    "                        result = l[1] - l[0]+1\n",
    "                else:\n",
    "                    if l[1] - l[0]+1+l[3] - l[2]+1 < result:\n",
    "                        result = l[1] - l[0]+1+l[3] - l[2]+1\n",
    "        if found == False:\n",
    "            result = -1\n",
    "    print(f'Case #{str(case+1)}: '+str(result))"
   ]
  },
  {
   "cell_type": "code",
   "execution_count": 23,
   "metadata": {},
   "outputs": [],
   "source": [
    "def get_ijxy(length_B):\n",
    "    result_list = []\n",
    "    for i in range(length_B):\n",
    "        if i == length_B-1:\n",
    "            j = i\n",
    "            x = -1\n",
    "            y = -1\n",
    "            if [i,j,x,y] not in result_list:\n",
    "                result_list.append([i,j,x,y])\n",
    "        else:\n",
    "            for j in range(i,length_B):\n",
    "                if j == length_B-1:\n",
    "                    x = -1\n",
    "                    y = -1\n",
    "                    if [i,j,x,y] not in result_list:\n",
    "                        result_list.append([i,j,x,y])\n",
    "                else:\n",
    "                    for x in range(j+1,length_B):\n",
    "                        if x ==length_B-1:\n",
    "                            y = x\n",
    "                            if [i,j,x,y] not in result_list:\n",
    "                                result_list.append([i,j,x,y])\n",
    "                        else:\n",
    "                            for y in range(x,length_B):\n",
    "                                if [i,j,x,y] not in result_list:\n",
    "                                    result_list.append([i,j,x,y])           \n",
    "    return result_list"
   ]
  },
  {
   "cell_type": "code",
   "execution_count": 24,
   "metadata": {},
   "outputs": [
    {
     "data": {
      "text/plain": [
       "[[0, 0, 1, 1],\n",
       " [0, 0, 1, 2],\n",
       " [0, 0, 2, 2],\n",
       " [0, 1, 2, 2],\n",
       " [0, 2, -1, -1],\n",
       " [1, 1, 2, 2],\n",
       " [1, 2, -1, -1],\n",
       " [2, 2, -1, -1]]"
      ]
     },
     "execution_count": 24,
     "metadata": {},
     "output_type": "execute_result"
    }
   ],
   "source": [
    "get_ijxy(3)"
   ]
  },
  {
   "cell_type": "code",
   "execution_count": 30,
   "metadata": {},
   "outputs": [
    {
     "data": {
      "text/plain": [
       "[1, 2]"
      ]
     },
     "execution_count": 30,
     "metadata": {},
     "output_type": "execute_result"
    }
   ],
   "source": [
    "a = [1,2,3]\n",
    "a[:2]"
   ]
  },
  {
   "cell_type": "code",
   "execution_count": null,
   "metadata": {},
   "outputs": [],
   "source": [
    "def get_sum(dic_s,n,k):\n",
    "    a_list = [(0,n)]\n",
    "    b_list = []\n",
    "    for i,v in dic:\n",
    "        k = k-v\n",
    "        b_list.append(i)\n",
    "        for i in range(len(b_list)):\n",
    "            if \n",
    "        \n",
    "\n",
    "cases = int(input().strip())\n",
    "for case in range(cases):\n",
    "    nk = list(input().strip())\n",
    "    n,k = int(nk[0]), int(nk[1])\n",
    "    trees = list(input().split(\" \"))\n",
    "    trees = [int(x) for x in trees]\n",
    "    dic_t = {i:v for i,v in enumerate(trees)}\n",
    "    dic_s = {}\n",
    "    while True:\n",
    "        s = max(trees)\n",
    "        s_index = [i for i,v in enumerate(trees) if v == s]\n",
    "        \n",
    "    tree_taken = []"
   ]
  },
  {
   "cell_type": "code",
   "execution_count": 6,
   "metadata": {},
   "outputs": [
    {
     "data": {
      "text/plain": [
       "1"
      ]
     },
     "execution_count": 6,
     "metadata": {},
     "output_type": "execute_result"
    }
   ],
   "source": [
    "a = [1,3,2,1,3,2,3]\n",
    "b = max(a)\n",
    "a.index(b)"
   ]
  }
 ],
 "metadata": {
  "kernelspec": {
   "display_name": "Python 3 (ipykernel)",
   "language": "python",
   "name": "python3"
  },
  "language_info": {
   "codemirror_mode": {
    "name": "ipython",
    "version": 3
   },
   "file_extension": ".py",
   "mimetype": "text/x-python",
   "name": "python",
   "nbconvert_exporter": "python",
   "pygments_lexer": "ipython3",
   "version": "3.10.0"
  }
 },
 "nbformat": 4,
 "nbformat_minor": 2
}
