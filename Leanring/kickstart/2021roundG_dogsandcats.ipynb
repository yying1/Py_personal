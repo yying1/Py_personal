{
 "cells": [
  {
   "cell_type": "code",
   "execution_count": 9,
   "metadata": {},
   "outputs": [
    {
     "name": "stdout",
     "output_type": "stream",
     "text": [
      "1\n",
      "6 10 4 0\n",
      "CCDCDD\n",
      "Case #1: YES\n"
     ]
    }
   ],
   "source": [
    "from collections import Counter\n",
    "cases = int(input().strip())\n",
    "for case in range(cases):\n",
    "    raw_list = input().strip().split(\" \")\n",
    "    N, D, C, M = int(raw_list[0]),int(raw_list[1]),int(raw_list[2]),int(raw_list[3])\n",
    "    S = list(input())\n",
    "    s_count = Counter(S)\n",
    "    Result = \"\"\n",
    "    if s_count[\"D\"] > D:\n",
    "        Result = \"NO\"\n",
    "    elif s_count[\"D\"] == 0:\n",
    "        Result = \"YES\"\n",
    "    else:\n",
    "        s_cats = [M if x == \"D\" else -1 for x in S]\n",
    "        s_dogs = [1 if x == \"D\" else 0 for x in S]\n",
    "        #print(s_cats,s_dogs)\n",
    "        for i,v in enumerate(s_cats):\n",
    "            if sum(s_dogs[i:N]) == 0:\n",
    "                Result = \"YES\"\n",
    "                break\n",
    "            elif C == 0 and  v == -1:\n",
    "                Result = \"NO\"\n",
    "                break\n",
    "            elif sum(s_cats[i:N]) + C<0:\n",
    "                Result = \"NO\"\n",
    "                break\n",
    "            else:\n",
    "                C= C+v\n",
    "                #print(C)\n",
    "        if Result != \"NO\":\n",
    "            Result = \"YES\"\n",
    "    print(f'Case #{str(case+1)}: '+Result)"
   ]
  },
  {
   "cell_type": "code",
   "execution_count": null,
   "metadata": {},
   "outputs": [],
   "source": [
    "3\n",
    "6 10 4 0\n",
    "CCDCDD\n",
    "4 1 2 0\n",
    "CCCC\n",
    "4 2 1 0\n",
    "DCCD"
   ]
  }
 ],
 "metadata": {
  "kernelspec": {
   "display_name": "Python 3",
   "language": "python",
   "name": "python3"
  },
  "language_info": {
   "codemirror_mode": {
    "name": "ipython",
    "version": 3
   },
   "file_extension": ".py",
   "mimetype": "text/x-python",
   "name": "python",
   "nbconvert_exporter": "python",
   "pygments_lexer": "ipython3",
   "version": "3.7.2"
  }
 },
 "nbformat": 4,
 "nbformat_minor": 2
}
