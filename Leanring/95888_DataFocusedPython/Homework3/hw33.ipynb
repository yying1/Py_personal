{
 "cells": [
  {
   "cell_type": "code",
   "execution_count": null,
   "metadata": {},
   "outputs": [],
   "source": [
    "#Frank Yue Ying\n",
    "#yying2"
   ]
  },
  {
   "cell_type": "code",
   "execution_count": null,
   "metadata": {},
   "outputs": [],
   "source": [
    "# Problem 2"
   ]
  },
  {
   "cell_type": "code",
   "execution_count": 1,
   "metadata": {},
   "outputs": [],
   "source": [
    "from PIL import Image, ImageDraw\n",
    "from PIL.ImageFilter import *"
   ]
  },
  {
   "cell_type": "code",
   "execution_count": 23,
   "metadata": {},
   "outputs": [],
   "source": [
    "myimage = Image.open(\"hyrax.png\" ) # open the image file\n",
    "# myimage.show( ) # display the image in a popup window\n",
    "size = myimage.size # returns size tuple\n",
    "myimage.format # returns type of image\n",
    "p1_left = size[0]/4\n",
    "p1_top = size[1]/4\n",
    "p1_right = size[0]/2+30\n",
    "p1_down = size[1]/2+30\n",
    "# print(p1_left, p1_top, p1_right, p1_down)\n",
    "newimage = myimage.crop( (p1_left, p1_top, p1_right, p1_down) ) # crop to a new image\n",
    "x = ImageDraw.Draw(newimage) # creates a canvas for drawing\n",
    "center_left = (p1_right-p1_left)/2 - 10\n",
    "center_right = (p1_right-p1_left)/2 + 10\n",
    "center_top = (p1_down-p1_top)/2 - 10\n",
    "center_down = (p1_down-p1_top)/2 + 10\n",
    "x.ellipse((center_left,center_top,center_right,center_down), fill = 'red') # draw an ellipse\n",
    "# x.text( (x, y), ‘text’ ) # write text at position (x,y)\n",
    "newimage.show( ) # x’s stuff shows up on newmimage"
   ]
  },
  {
   "cell_type": "code",
   "execution_count": 24,
   "metadata": {},
   "outputs": [],
   "source": [
    "myimage.filter(CONTOUR).show()# There are other filters"
   ]
  }
 ],
 "metadata": {
  "kernelspec": {
   "display_name": "Python 3",
   "language": "python",
   "name": "python3"
  },
  "language_info": {
   "codemirror_mode": {
    "name": "ipython",
    "version": 3
   },
   "file_extension": ".py",
   "mimetype": "text/x-python",
   "name": "python",
   "nbconvert_exporter": "python",
   "pygments_lexer": "ipython3",
   "version": "3.7.2"
  }
 },
 "nbformat": 4,
 "nbformat_minor": 2
}
