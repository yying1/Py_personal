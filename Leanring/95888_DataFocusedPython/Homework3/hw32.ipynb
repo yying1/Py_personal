{
 "cells": [
  {
   "cell_type": "code",
   "execution_count": null,
   "metadata": {},
   "outputs": [],
   "source": [
    "#Frank Yue Ying\n",
    "#yying2"
   ]
  },
  {
   "cell_type": "code",
   "execution_count": null,
   "metadata": {},
   "outputs": [],
   "source": [
    "# Problem 2"
   ]
  },
  {
   "cell_type": "code",
   "execution_count": 2,
   "metadata": {},
   "outputs": [],
   "source": [
    "# faro(n):\n",
    "# Parameter: int n is the size of the matrix to create\n",
    "# returns M, an ndarray, an nXn permuation matrix\n",
    "def faro(n):\n",
    "    I = np.identity(n).astype('int64')\n",
    "    M = np.identity(n).astype('int64')\n",
    "    for j in range(0,n,2):\n",
    "        M[j] = I[j//2]\n",
    "    for j in range(1,n+1,2):\n",
    "        M[j] = I[j//2 + n//2]\n",
    "    return M"
   ]
  },
  {
   "cell_type": "code",
   "execution_count": 6,
   "metadata": {},
   "outputs": [
    {
     "name": "stdout",
     "output_type": "stream",
     "text": [
      "[0 3 1 4 2 5]\n",
      "[0 4 3 2 1 5]\n",
      "[0 2 4 1 3 5]\n",
      "For  6 cards, it took  4 shuffles\n"
     ]
    }
   ],
   "source": [
    "import numpy as np\n",
    "M = faro(6)\n",
    "original = list(range(0,6))\n",
    "newdeck = M.dot(original)\n",
    "counter = 1\n",
    "while np.array_equal(newdeck, original) == False:\n",
    "    print(newdeck)\n",
    "    counter+=1\n",
    "    newdeck = M.dot(newdeck)\n",
    "print(\"For %2d cards, it took %2d shuffles\"%(6,counter))"
   ]
  },
  {
   "cell_type": "code",
   "execution_count": 42,
   "metadata": {},
   "outputs": [],
   "source": [
    "def main():\n",
    "    import sys\n",
    "    print(\"Part A\")\n",
    "    for i in range(4,53,2):\n",
    "        M = faro(i)\n",
    "        original = list(range(0,i))\n",
    "        newdeck = M.dot(original)\n",
    "        counter = 1\n",
    "        while np.array_equal(newdeck, original) == False:\n",
    "            counter+=1\n",
    "            newdeck = M.dot(newdeck)\n",
    "        print(\"For %2d cards, it took %2d shuffles\"%(i,counter))\n",
    "    print(\"Part B: 10x10 altered Faro matrix test\")\n",
    "    M = faro(10)\n",
    "    original = list(range(0,10))\n",
    "    ri_1 = int(input(\"Interchange this row: \"))\n",
    "    ri_2 = int(input(\"with that row: \"))\n",
    "    M[[ri_1,ri_2]] = M[[ri_2,ri_1]]\n",
    "    newdeck = M.dot(original)\n",
    "    print(M)\n",
    "    counter = 1\n",
    "    while counter < 50:\n",
    "        newdeck = M.dot(newdeck)\n",
    "        counter+=1\n",
    "        if np.array_equal(newdeck, original) == True:\n",
    "            break\n",
    "    if counter == 50:\n",
    "        print(\"Quit at 50 shuffles:\")\n",
    "    else:\n",
    "        print(\"For %2d cards, it took %2d shuffles\"%(10,counter))\n",
    "    print(newdeck)"
   ]
  },
  {
   "cell_type": "code",
   "execution_count": 45,
   "metadata": {},
   "outputs": [
    {
     "name": "stdout",
     "output_type": "stream",
     "text": [
      "Part A\n",
      "For  4 cards, it took  2 shuffles\n",
      "For  6 cards, it took  4 shuffles\n",
      "For  8 cards, it took  3 shuffles\n",
      "For 10 cards, it took  6 shuffles\n",
      "For 12 cards, it took 10 shuffles\n",
      "For 14 cards, it took 12 shuffles\n",
      "For 16 cards, it took  4 shuffles\n",
      "For 18 cards, it took  8 shuffles\n",
      "For 20 cards, it took 18 shuffles\n",
      "For 22 cards, it took  6 shuffles\n",
      "For 24 cards, it took 11 shuffles\n",
      "For 26 cards, it took 20 shuffles\n",
      "For 28 cards, it took 18 shuffles\n",
      "For 30 cards, it took 28 shuffles\n",
      "For 32 cards, it took  5 shuffles\n",
      "For 34 cards, it took 10 shuffles\n",
      "For 36 cards, it took 12 shuffles\n",
      "For 38 cards, it took 36 shuffles\n",
      "For 40 cards, it took 12 shuffles\n",
      "For 42 cards, it took 20 shuffles\n",
      "For 44 cards, it took 14 shuffles\n",
      "For 46 cards, it took 12 shuffles\n",
      "For 48 cards, it took 23 shuffles\n",
      "For 50 cards, it took 21 shuffles\n",
      "For 52 cards, it took  8 shuffles\n",
      "Part B: 10x10 altered Faro matrix test\n",
      "Interchange this row: 0\n",
      "with that row: 1\n",
      "[[0 0 0 0 0 1 0 0 0 0]\n",
      " [1 0 0 0 0 0 0 0 0 0]\n",
      " [0 1 0 0 0 0 0 0 0 0]\n",
      " [0 0 0 0 0 0 1 0 0 0]\n",
      " [0 0 1 0 0 0 0 0 0 0]\n",
      " [0 0 0 0 0 0 0 1 0 0]\n",
      " [0 0 0 1 0 0 0 0 0 0]\n",
      " [0 0 0 0 0 0 0 0 1 0]\n",
      " [0 0 0 0 1 0 0 0 0 0]\n",
      " [0 0 0 0 0 0 0 0 0 1]]\n",
      "For 10 cards, it took 14 shuffles\n",
      "[0 1 2 3 4 5 6 7 8 9]\n"
     ]
    }
   ],
   "source": [
    "if __name__ == '__main__':\n",
    "    import sys\n",
    "    import numpy as np\n",
    "    main()"
   ]
  }
 ],
 "metadata": {
  "kernelspec": {
   "display_name": "Python 3 (ipykernel)",
   "language": "python",
   "name": "python3"
  },
  "language_info": {
   "codemirror_mode": {
    "name": "ipython",
    "version": 3
   },
   "file_extension": ".py",
   "mimetype": "text/x-python",
   "name": "python",
   "nbconvert_exporter": "python",
   "pygments_lexer": "ipython3",
   "version": "3.10.0"
  }
 },
 "nbformat": 4,
 "nbformat_minor": 2
}
