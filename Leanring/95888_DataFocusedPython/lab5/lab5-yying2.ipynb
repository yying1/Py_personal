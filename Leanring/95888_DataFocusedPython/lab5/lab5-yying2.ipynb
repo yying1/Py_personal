{
 "cells": [
  {
   "cell_type": "code",
   "execution_count": 1,
   "metadata": {},
   "outputs": [],
   "source": [
    "#Frank Yue Ying\n",
    "#yying2\n",
    "import pandas as pd\n",
    "import re"
   ]
  },
  {
   "cell_type": "code",
   "execution_count": 2,
   "metadata": {},
   "outputs": [
    {
     "name": "stdout",
     "output_type": "stream",
     "text": [
      "0    15\n",
      "1    15\n",
      "2    15\n",
      "3    15\n",
      "dtype: int64\n",
      "0     5\n",
      "1     7\n",
      "2     9\n",
      "3    11\n",
      "dtype: int64\n",
      "0   -3\n",
      "1   -3\n",
      "2    0\n",
      "3    0\n",
      "dtype: int64\n",
      "0    0.500000\n",
      "1    0.363636\n",
      "2    0.250000\n",
      "3    0.153846\n",
      "dtype: float64\n",
      "0   -5.0\n",
      "1   -4.0\n",
      "2    inf\n",
      "3    inf\n",
      "dtype: float64\n"
     ]
    }
   ],
   "source": [
    "#Problem 1\n",
    "print(\"-\"*10+\"Problem 1\"+\"-\"*10)\n",
    "a = pd.Series(list(range(5,1,-1)))\n",
    "b = pd.Series(list(range(10,14)))\n",
    "c = pd.Series([-1,-1,0,0])\n",
    "print(a+b)\n",
    "print(b-a)\n",
    "print(3*c)\n",
    "print(a/b)\n",
    "print(a/c)"
   ]
  },
  {
   "cell_type": "code",
   "execution_count": 3,
   "metadata": {},
   "outputs": [
    {
     "name": "stdout",
     "output_type": "stream",
     "text": [
      "2    5\n",
      "3    4\n",
      "4    3\n",
      "5    2\n",
      "dtype: int64\n"
     ]
    }
   ],
   "source": [
    "a.rename({0:2,1:3,2:4,3:5})\n",
    "a.rename({0:2,1:3,2:4,3:5},inplace = True)\n",
    "print(a)"
   ]
  },
  {
   "cell_type": "code",
   "execution_count": 4,
   "metadata": {},
   "outputs": [
    {
     "name": "stdout",
     "output_type": "stream",
     "text": [
      "0     NaN\n",
      "1     NaN\n",
      "2    17.0\n",
      "3    17.0\n",
      "4     NaN\n",
      "5     NaN\n",
      "dtype: float64\n",
      "0    NaN\n",
      "1    NaN\n",
      "2    7.0\n",
      "3    9.0\n",
      "4    NaN\n",
      "5    NaN\n",
      "dtype: float64\n",
      "0   -3\n",
      "1   -3\n",
      "2    0\n",
      "3    0\n",
      "dtype: int64\n",
      "0         NaN\n",
      "1         NaN\n",
      "2    0.416667\n",
      "3    0.307692\n",
      "4         NaN\n",
      "5         NaN\n",
      "dtype: float64\n",
      "0    NaN\n",
      "1    NaN\n",
      "2    inf\n",
      "3    inf\n",
      "4    NaN\n",
      "5    NaN\n",
      "dtype: float64\n"
     ]
    }
   ],
   "source": [
    "print(\"Since the index betweent a and b,c won't match, computation between those series can only be able to matched items\")\n",
    "print(a+b)\n",
    "print(b-a)\n",
    "print(3*c)\n",
    "print(a/b)\n",
    "print(a/c)"
   ]
  },
  {
   "cell_type": "code",
   "execution_count": 5,
   "metadata": {},
   "outputs": [
    {
     "data": {
      "text/html": [
       "<div>\n",
       "<style scoped>\n",
       "    .dataframe tbody tr th:only-of-type {\n",
       "        vertical-align: middle;\n",
       "    }\n",
       "\n",
       "    .dataframe tbody tr th {\n",
       "        vertical-align: top;\n",
       "    }\n",
       "\n",
       "    .dataframe thead th {\n",
       "        text-align: right;\n",
       "    }\n",
       "</style>\n",
       "<table border=\"1\" class=\"dataframe\">\n",
       "  <thead>\n",
       "    <tr style=\"text-align: right;\">\n",
       "      <th></th>\n",
       "      <th>Sales</th>\n",
       "      <th>Profit</th>\n",
       "    </tr>\n",
       "  </thead>\n",
       "  <tbody>\n",
       "    <tr>\n",
       "      <th>Monday</th>\n",
       "      <td>2000.43</td>\n",
       "      <td>234.12</td>\n",
       "    </tr>\n",
       "    <tr>\n",
       "      <th>Tuesday</th>\n",
       "      <td>1887.58</td>\n",
       "      <td>184.45</td>\n",
       "    </tr>\n",
       "    <tr>\n",
       "      <th>Wednesday</th>\n",
       "      <td>2729.10</td>\n",
       "      <td>302.14</td>\n",
       "    </tr>\n",
       "    <tr>\n",
       "      <th>Thursday</th>\n",
       "      <td>2555.55</td>\n",
       "      <td>289.75</td>\n",
       "    </tr>\n",
       "    <tr>\n",
       "      <th>Friday</th>\n",
       "      <td>4208.15</td>\n",
       "      <td>441.12</td>\n",
       "    </tr>\n",
       "  </tbody>\n",
       "</table>\n",
       "</div>"
      ],
      "text/plain": [
       "             Sales  Profit\n",
       "Monday     2000.43  234.12\n",
       "Tuesday    1887.58  184.45\n",
       "Wednesday  2729.10  302.14\n",
       "Thursday   2555.55  289.75\n",
       "Friday     4208.15  441.12"
      ]
     },
     "execution_count": 5,
     "metadata": {},
     "output_type": "execute_result"
    }
   ],
   "source": [
    "# Problem 2\n",
    "print(\"-\"*10+\"Problem 2\"+\"-\"*10)\n",
    "saleslist = [[2000.43,234.12],[1887.58,184.45],[2729.10,302.14],[2555.55,289.75],[4208.15,441.12]]\n",
    "salesData = pd.DataFrame(saleslist, columns = ['Sales','Profit'])\n",
    "salesData.index = ['Monday','Tuesday','Wednesday','Thursday','Friday']\n",
    "salesData"
   ]
  },
  {
   "cell_type": "code",
   "execution_count": 6,
   "metadata": {},
   "outputs": [
    {
     "name": "stdout",
     "output_type": "stream",
     "text": [
      "Monday       2000.43\n",
      "Tuesday      1887.58\n",
      "Wednesday    2729.10\n",
      "Thursday     2555.55\n",
      "Friday       4208.15\n",
      "Name: Sales, dtype: float64\n",
      "Monday       234.12\n",
      "Tuesday      184.45\n",
      "Wednesday    302.14\n",
      "Thursday     289.75\n",
      "Friday       441.12\n",
      "Name: Profit, dtype: float64\n",
      "Sales     2729.10\n",
      "Profit     302.14\n",
      "Name: Wednesday, dtype: float64\n",
      "289.75\n"
     ]
    }
   ],
   "source": [
    "print(salesData[\"Sales\"])\n",
    "print(salesData[\"Profit\"])\n",
    "print(salesData.loc['Wednesday'])\n",
    "print(salesData.loc['Thursday']['Profit'])"
   ]
  },
  {
   "cell_type": "code",
   "execution_count": 7,
   "metadata": {},
   "outputs": [
    {
     "name": "stdout",
     "output_type": "stream",
     "text": [
      "             Sales  Profit  #Customers\n",
      "Monday     2000.43  234.12          12\n",
      "Tuesday    1887.58  184.45          10\n",
      "Wednesday  2729.10  302.14           8\n",
      "Thursday   2555.55  289.75          11\n",
      "Friday     4208.15  441.12          22\n",
      "             Sales  Profit  #Customers\n",
      "Monday     2000.43  234.12        12.0\n",
      "Tuesday    1887.58  184.45        10.0\n",
      "Wednesday  2729.10  302.14         8.0\n",
      "Thursday   2555.55  289.75        11.0\n",
      "Friday     4208.15  441.12        22.0\n",
      "Saturday   1793.00  184.57         9.0\n"
     ]
    }
   ],
   "source": [
    "salesData['#Customers'] = [12,10,8,11,22]\n",
    "print(salesData)\n",
    "salesData.loc[\"Saturday\"] = [1793.00,184.57,9]\n",
    "print(salesData)"
   ]
  },
  {
   "cell_type": "code",
   "execution_count": 8,
   "metadata": {},
   "outputs": [
    {
     "name": "stdout",
     "output_type": "stream",
     "text": [
      "Sales         15173.81\n",
      "Profit         1636.15\n",
      "#Customers       72.00\n",
      "dtype: float64\n",
      "Sales Total: $15173.81\n",
      "Profit Total: $1636.15\n",
      "Total # of customers: 72 \n"
     ]
    }
   ],
   "source": [
    "print(salesData.sum())\n",
    "print(\"Sales Total: $%.2f\"%(salesData[\"Sales\"].sum()))\n",
    "print(\"Profit Total: $%.2f\"%(salesData[\"Profit\"].sum()))\n",
    "print(\"Total # of customers: %2d \"%(salesData[\"#Customers\"].sum()))"
   ]
  },
  {
   "cell_type": "code",
   "execution_count": 9,
   "metadata": {},
   "outputs": [
    {
     "name": "stdout",
     "output_type": "stream",
     "text": [
      "Sales Average: $2528.97\n",
      "Profit Average: $272.69\n",
      "Date with highest sales: Friday\n",
      "Date with highest profit: Friday\n",
      "Sales         4208.15\n",
      "Profit         441.12\n",
      "#Customers      22.00\n",
      "Name: Friday, dtype: float64\n",
      "Sales         4208.15\n",
      "Profit         441.12\n",
      "#Customers      22.00\n",
      "Name: Friday, dtype: float64\n"
     ]
    }
   ],
   "source": [
    "print(\"Sales Average: $%.2f\"%(salesData[\"Sales\"].mean()))\n",
    "print(\"Profit Average: $%.2f\"%(salesData[\"Profit\"].mean()))\n",
    "print(\"Date with highest sales: \"+ salesData[\"Sales\"].idxmax())\n",
    "print(\"Date with highest profit: \"+ salesData[\"Profit\"].idxmax())\n",
    "print(salesData.loc[salesData[\"Sales\"].idxmax()])\n",
    "print(salesData.loc[salesData[\"Profit\"].idxmax()])"
   ]
  },
  {
   "cell_type": "code",
   "execution_count": 10,
   "metadata": {},
   "outputs": [
    {
     "data": {
      "text/html": [
       "<div>\n",
       "<style scoped>\n",
       "    .dataframe tbody tr th:only-of-type {\n",
       "        vertical-align: middle;\n",
       "    }\n",
       "\n",
       "    .dataframe tbody tr th {\n",
       "        vertical-align: top;\n",
       "    }\n",
       "\n",
       "    .dataframe thead th {\n",
       "        text-align: right;\n",
       "    }\n",
       "</style>\n",
       "<table border=\"1\" class=\"dataframe\">\n",
       "  <thead>\n",
       "    <tr style=\"text-align: right;\">\n",
       "      <th></th>\n",
       "      <th>Last Name</th>\n",
       "      <th>First Name</th>\n",
       "      <th>Phone Number</th>\n",
       "    </tr>\n",
       "  </thead>\n",
       "  <tbody>\n",
       "    <tr>\n",
       "      <th>0</th>\n",
       "      <td>Jones</td>\n",
       "      <td>Bob</td>\n",
       "      <td>555-2828</td>\n",
       "    </tr>\n",
       "    <tr>\n",
       "      <th>1</th>\n",
       "      <td>Smith</td>\n",
       "      <td>Mary</td>\n",
       "      <td>555-0110</td>\n",
       "    </tr>\n",
       "    <tr>\n",
       "      <th>2</th>\n",
       "      <td>Ng</td>\n",
       "      <td>Thang</td>\n",
       "      <td>555-9511</td>\n",
       "    </tr>\n",
       "    <tr>\n",
       "      <th>3</th>\n",
       "      <td>Chou</td>\n",
       "      <td>Mary</td>\n",
       "      <td>555-5775</td>\n",
       "    </tr>\n",
       "    <tr>\n",
       "      <th>4</th>\n",
       "      <td>Adams</td>\n",
       "      <td>Harry</td>\n",
       "      <td>555-3225</td>\n",
       "    </tr>\n",
       "    <tr>\n",
       "      <th>5</th>\n",
       "      <td>Richards</td>\n",
       "      <td>Jane</td>\n",
       "      <td>555-5555</td>\n",
       "    </tr>\n",
       "    <tr>\n",
       "      <th>6</th>\n",
       "      <td>Lin</td>\n",
       "      <td>Carrie</td>\n",
       "      <td>555-7727</td>\n",
       "    </tr>\n",
       "    <tr>\n",
       "      <th>7</th>\n",
       "      <td>Murthy</td>\n",
       "      <td>Vedula</td>\n",
       "      <td>555-8185</td>\n",
       "    </tr>\n",
       "    <tr>\n",
       "      <th>8</th>\n",
       "      <td>Harris</td>\n",
       "      <td>Mary</td>\n",
       "      <td>555-1212</td>\n",
       "    </tr>\n",
       "    <tr>\n",
       "      <th>9</th>\n",
       "      <td>Young</td>\n",
       "      <td>John</td>\n",
       "      <td>555-4947</td>\n",
       "    </tr>\n",
       "    <tr>\n",
       "      <th>10</th>\n",
       "      <td>Tran</td>\n",
       "      <td>Ellen</td>\n",
       "      <td>555-4940</td>\n",
       "    </tr>\n",
       "    <tr>\n",
       "      <th>11</th>\n",
       "      <td>Hong</td>\n",
       "      <td>Alice</td>\n",
       "      <td>555-4049</td>\n",
       "    </tr>\n",
       "    <tr>\n",
       "      <th>12</th>\n",
       "      <td>Miller</td>\n",
       "      <td>Marie</td>\n",
       "      <td>555-3832</td>\n",
       "    </tr>\n",
       "    <tr>\n",
       "      <th>13</th>\n",
       "      <td>Reese</td>\n",
       "      <td>Trey</td>\n",
       "      <td>555-3314</td>\n",
       "    </tr>\n",
       "    <tr>\n",
       "      <th>14</th>\n",
       "      <td>Ernst</td>\n",
       "      <td>Valerie</td>\n",
       "      <td>555-7918</td>\n",
       "    </tr>\n",
       "  </tbody>\n",
       "</table>\n",
       "</div>"
      ],
      "text/plain": [
       "   Last Name First Name Phone Number\n",
       "0      Jones        Bob     555-2828\n",
       "1      Smith       Mary     555-0110\n",
       "2         Ng      Thang     555-9511\n",
       "3       Chou       Mary     555-5775\n",
       "4      Adams      Harry     555-3225\n",
       "5   Richards       Jane     555-5555\n",
       "6        Lin     Carrie     555-7727\n",
       "7     Murthy     Vedula     555-8185\n",
       "8     Harris       Mary     555-1212\n",
       "9      Young       John     555-4947\n",
       "10      Tran      Ellen     555-4940\n",
       "11      Hong      Alice     555-4049\n",
       "12    Miller      Marie     555-3832\n",
       "13     Reese       Trey     555-3314\n",
       "14     Ernst    Valerie     555-7918"
      ]
     },
     "execution_count": 10,
     "metadata": {},
     "output_type": "execute_result"
    }
   ],
   "source": [
    "#Problem 3\n",
    "print(\"-\"*10+\"Problem 3\"+\"-\"*10)\n",
    "contacts = pd.read_csv(\"contacts.csv\")\n",
    "contacts"
   ]
  },
  {
   "cell_type": "code",
   "execution_count": 4,
   "metadata": {},
   "outputs": [
    {
     "name": "stdout",
     "output_type": "stream",
     "text": [
      "please input last name: chou\n",
      "please input first name: marry\n",
      "Error, not found\n",
      "please input last name: chou\n",
      "please input first name: mary\n",
      "  Last Name First Name Phone Number\n",
      "3      Chou       Mary     555-5775\n",
      "please input last name: done\n"
     ]
    }
   ],
   "source": [
    "while True:\n",
    "    last_n = input(\"please input last name: \").strip().lower()\n",
    "    if last_n == 'done':\n",
    "        break\n",
    "    first_n = input(\"please input first name: \").strip().lower()\n",
    "    row = contacts[contacts['Last Name'].str.lower() == last_n]\n",
    "    if len(row) == 0:\n",
    "        print(\"Error, not found\")\n",
    "    else:\n",
    "        row = row[row['First Name'].str.lower() == first_n]\n",
    "        if len(row) == 0:\n",
    "            print(\"Error, not found\")\n",
    "        else:\n",
    "            print(row)"
   ]
  },
  {
   "cell_type": "code",
   "execution_count": 11,
   "metadata": {},
   "outputs": [
    {
     "name": "stdout",
     "output_type": "stream",
     "text": [
      "   Last Name First Name Phone Number\n",
      "0      Jones        Bob     555-2828\n",
      "1      Smith       Mary     555-0110\n",
      "2         Ng      Thang     555-9511\n",
      "3       Chou       Mary     555-5775\n",
      "4      Adams      Harry     555-3225\n",
      "5   Richards       Jane     555-5555\n",
      "6        Lin     Carrie     555-7727\n",
      "7     Murthy     Vedula     555-8185\n",
      "8     Harris       Mary     555-1212\n",
      "9      Young       John     555-4947\n",
      "10      Tran      Ellen     555-4940\n",
      "11      Hong      Alice     555-4049\n",
      "12    Miller      Marie     555-3832\n",
      "13     Reese       Trey     555-3314\n",
      "14     Ernst    Valerie     555-7918\n",
      "15    Harris      Larry     555-2992\n"
     ]
    }
   ],
   "source": [
    "new_row = {\"Last Name\":\"Harris\",\"First Name\":\"Larry\",\"Phone Number\":\"555-2992\"}\n",
    "contacts = contacts.append(new_row,ignore_index = True)\n",
    "print(contacts)"
   ]
  },
  {
   "cell_type": "code",
   "execution_count": null,
   "metadata": {},
   "outputs": [],
   "source": [
    "print(\"For part b, I would store the search result into a new dataframe after matching with last name, then use the new df to match with first name\")"
   ]
  },
  {
   "cell_type": "code",
   "execution_count": 12,
   "metadata": {},
   "outputs": [
    {
     "name": "stdout",
     "output_type": "stream",
     "text": [
      "----------Problem 4----------\n",
      "       Name         Breed  Weight   Age\n",
      "0      Fido          Mutt    15.0  15.0\n",
      "1      odie  Irish_Setter    50.0   2.0\n",
      "2    Snoopy        Beagle    18.0   2.0\n",
      "3     Barfy          Mutt    20.0   8.0\n",
      "4      Spot     Dalmatian    25.0  12.0\n",
      "5      hugo       Terrier     NaN  10.0\n",
      "6    Lassie        Collie    30.0  75.0\n",
      "7     Mangy           NaN    40.0  10.0\n",
      "8     Larry        Basset    25.0   4.0\n",
      "9     Daryl     Retriever    42.0   8.0\n",
      "10   Darrel     Chihuahua     9.0  48.0\n",
      "11   Hotdog     Dachshund     NaN   NaN\n",
      "12      NaN           Lab     NaN   NaN\n",
      "13    Harpo      Airedale   200.0   9.0\n",
      "14    Zeppo     Pekingese    32.0   NaN\n",
      "15  Groucho       Whippet    49.0   7.0\n",
      "16      Bob        yorkie     NaN   1.0\n",
      "17     Thor    Great Dane   105.0   6.0\n",
      "18    Brian         Akita     NaN  12.0\n",
      "19   Farkas         Boxer    52.0   9.0\n"
     ]
    }
   ],
   "source": [
    "# Problem 4\n",
    "print(\"-\"*10+\"Problem 4\"+\"-\"*10)\n",
    "mydata = pd.read_csv(\"mydata.csv\")\n",
    "print(mydata)"
   ]
  },
  {
   "cell_type": "code",
   "execution_count": 13,
   "metadata": {},
   "outputs": [
    {
     "name": "stdout",
     "output_type": "stream",
     "text": [
      "       Name         Breed  Weight   Age\n",
      "0      Fido          Mutt    15.0  15.0\n",
      "1      odie  Irish_Setter    50.0   2.0\n",
      "2    Snoopy        Beagle    18.0   2.0\n",
      "3     Barfy          Mutt    20.0   8.0\n",
      "4      Spot     Dalmatian    25.0  12.0\n",
      "6    Lassie        Collie    30.0  75.0\n",
      "8     Larry        Basset    25.0   4.0\n",
      "9     Daryl     Retriever    42.0   8.0\n",
      "10   Darrel     Chihuahua     9.0  48.0\n",
      "13    Harpo      Airedale   200.0   9.0\n",
      "15  Groucho       Whippet    49.0   7.0\n",
      "17     Thor    Great Dane   105.0   6.0\n",
      "19   Farkas         Boxer    52.0   9.0\n"
     ]
    }
   ],
   "source": [
    "t1 = mydata.dropna()\n",
    "print(t1)"
   ]
  },
  {
   "cell_type": "code",
   "execution_count": 14,
   "metadata": {},
   "outputs": [
    {
     "name": "stdout",
     "output_type": "stream",
     "text": [
      "Average weight is: 49.23\n",
      "Average age is: 15.77\n"
     ]
    }
   ],
   "source": [
    "print(\"Average weight is: %.2f\"%(t1[\"Weight\"].mean()))\n",
    "print(\"Average age is: %.2f\"%(t1[\"Age\"].mean()))"
   ]
  },
  {
   "cell_type": "code",
   "execution_count": 15,
   "metadata": {},
   "outputs": [
    {
     "name": "stdout",
     "output_type": "stream",
     "text": [
      "       Name         Breed      Weight   Age\n",
      "0      Fido          Mutt   15.000000  15.0\n",
      "1      odie  Irish_Setter   50.000000   2.0\n",
      "2    Snoopy        Beagle   18.000000   2.0\n",
      "3     Barfy          Mutt   20.000000   8.0\n",
      "4      Spot     Dalmatian   25.000000  12.0\n",
      "5      hugo       Terrier   49.230769  10.0\n",
      "6    Lassie        Collie   30.000000  75.0\n",
      "7     Mangy           NaN   40.000000  10.0\n",
      "8     Larry        Basset   25.000000   4.0\n",
      "9     Daryl     Retriever   42.000000   8.0\n",
      "10   Darrel     Chihuahua    9.000000  48.0\n",
      "11   Hotdog     Dachshund   49.230769   NaN\n",
      "12      NaN           Lab   49.230769   NaN\n",
      "13    Harpo      Airedale  200.000000   9.0\n",
      "14    Zeppo     Pekingese   32.000000   NaN\n",
      "15  Groucho       Whippet   49.000000   7.0\n",
      "16      Bob        yorkie   49.230769   1.0\n",
      "17     Thor    Great Dane  105.000000   6.0\n",
      "18    Brian         Akita   49.230769  12.0\n",
      "19   Farkas         Boxer   52.000000   9.0\n"
     ]
    }
   ],
   "source": [
    "t2 = mydata.copy()\n",
    "t2[\"Weight\"] = t2[\"Weight\"].fillna(t1[\"Weight\"].mean())\n",
    "print(t2)"
   ]
  },
  {
   "cell_type": "code",
   "execution_count": 16,
   "metadata": {},
   "outputs": [
    {
     "name": "stdout",
     "output_type": "stream",
     "text": [
      "       Name         Breed  Weight        Age\n",
      "0      Fido          Mutt    15.0  15.000000\n",
      "1      odie  Irish_Setter    50.0   2.000000\n",
      "2    Snoopy        Beagle    18.0   2.000000\n",
      "3     Barfy          Mutt    20.0   8.000000\n",
      "4      Spot     Dalmatian    25.0  12.000000\n",
      "5      hugo       Terrier     NaN  10.000000\n",
      "6    Lassie        Collie    30.0  75.000000\n",
      "7     Mangy           NaN    40.0  10.000000\n",
      "8     Larry        Basset    25.0   4.000000\n",
      "9     Daryl     Retriever    42.0   8.000000\n",
      "10   Darrel     Chihuahua     9.0  48.000000\n",
      "11   Hotdog     Dachshund     NaN  15.769231\n",
      "12      NaN           Lab     NaN  15.769231\n",
      "13    Harpo      Airedale   200.0   9.000000\n",
      "14    Zeppo     Pekingese    32.0  15.769231\n",
      "15  Groucho       Whippet    49.0   7.000000\n",
      "16      Bob        yorkie     NaN   1.000000\n",
      "17     Thor    Great Dane   105.0   6.000000\n",
      "18    Brian         Akita     NaN  12.000000\n",
      "19   Farkas         Boxer    52.0   9.000000\n"
     ]
    }
   ],
   "source": [
    "t3 = mydata.copy()\n",
    "t3[\"Age\"] = t2[\"Age\"].fillna(t1[\"Age\"].mean())\n",
    "print(t3)"
   ]
  },
  {
   "cell_type": "code",
   "execution_count": 17,
   "metadata": {},
   "outputs": [
    {
     "name": "stdout",
     "output_type": "stream",
     "text": [
      "       Name         Breed      Weight        Age\n",
      "0      Fido          Mutt   15.000000  15.000000\n",
      "1      odie  Irish_Setter   50.000000   2.000000\n",
      "2    Snoopy        Beagle   18.000000   2.000000\n",
      "3     Barfy          Mutt   20.000000   8.000000\n",
      "4      Spot     Dalmatian   25.000000  12.000000\n",
      "5      hugo       Terrier   49.230769  10.000000\n",
      "6    Lassie        Collie   30.000000  75.000000\n",
      "7     Mangy           NaN   40.000000  10.000000\n",
      "8     Larry        Basset   25.000000   4.000000\n",
      "9     Daryl     Retriever   42.000000   8.000000\n",
      "10   Darrel     Chihuahua    9.000000  48.000000\n",
      "11   Hotdog     Dachshund   49.230769  15.769231\n",
      "12      NaN           Lab   49.230769  15.769231\n",
      "13    Harpo      Airedale  200.000000   9.000000\n",
      "14    Zeppo     Pekingese   32.000000  15.769231\n",
      "15  Groucho       Whippet   49.000000   7.000000\n",
      "16      Bob        yorkie   49.230769   1.000000\n",
      "17     Thor    Great Dane  105.000000   6.000000\n",
      "18    Brian         Akita   49.230769  12.000000\n",
      "19   Farkas         Boxer   52.000000   9.000000\n"
     ]
    }
   ],
   "source": [
    "t4 = t2.copy()\n",
    "t4[\"Age\"] = t4[\"Age\"].fillna(t1[\"Age\"].mean())\n",
    "print(t4)"
   ]
  },
  {
   "cell_type": "code",
   "execution_count": 18,
   "metadata": {},
   "outputs": [
    {
     "name": "stdout",
     "output_type": "stream",
     "text": [
      "       Name         Breed  Weight   Age\n",
      "0      Fido          Mutt    15.0  15.0\n",
      "1      odie  Irish_Setter    50.0   2.0\n",
      "2    Snoopy        Beagle    18.0   2.0\n",
      "3     Barfy          Mutt    20.0   8.0\n",
      "4      Spot     Dalmatian    25.0  12.0\n",
      "5      hugo       Terrier    25.0  10.0\n",
      "6    Lassie        Collie    30.0  75.0\n",
      "7     Mangy        Collie    40.0  10.0\n",
      "8     Larry        Basset    25.0   4.0\n",
      "9     Daryl     Retriever    42.0   8.0\n",
      "10   Darrel     Chihuahua     9.0  48.0\n",
      "11   Hotdog     Dachshund     9.0  48.0\n",
      "12   Hotdog           Lab     9.0  48.0\n",
      "13    Harpo      Airedale   200.0   9.0\n",
      "14    Zeppo     Pekingese    32.0   9.0\n",
      "15  Groucho       Whippet    49.0   7.0\n",
      "16      Bob        yorkie    49.0   1.0\n",
      "17     Thor    Great Dane   105.0   6.0\n",
      "18    Brian         Akita   105.0  12.0\n",
      "19   Farkas         Boxer    52.0   9.0\n"
     ]
    }
   ],
   "source": [
    "t5 = mydata.fillna(method = 'ffill')\n",
    "print(t5)"
   ]
  },
  {
   "cell_type": "code",
   "execution_count": 20,
   "metadata": {},
   "outputs": [
    {
     "name": "stdout",
     "output_type": "stream",
     "text": [
      "       Name         Breed      Weight        Age\n",
      "0      Fido          Mutt   15.000000  15.000000\n",
      "1      odie  Irish_Setter   50.000000   2.000000\n",
      "2    Snoopy        Beagle   18.000000   2.000000\n",
      "3     Barfy          Mutt   20.000000   8.000000\n",
      "4      Spot     Dalmatian   25.000000  12.000000\n",
      "5      hugo       Terrier   49.230769  10.000000\n",
      "6    Lassie        Collie   30.000000  15.769231\n",
      "7     Mangy           NaN   40.000000  10.000000\n",
      "8     Larry        Basset   25.000000   4.000000\n",
      "9     Daryl     Retriever   42.000000   8.000000\n",
      "10   Darrel     Chihuahua    9.000000  15.769231\n",
      "11   Hotdog     Dachshund   49.230769  15.769231\n",
      "12      NaN           Lab   49.230769  15.769231\n",
      "13    Harpo      Airedale  200.000000   9.000000\n",
      "14    Zeppo     Pekingese   32.000000  15.769231\n",
      "15  Groucho       Whippet   49.000000   7.000000\n",
      "16      Bob        yorkie   49.230769   1.000000\n",
      "17     Thor    Great Dane  105.000000   6.000000\n",
      "18    Brian         Akita   49.230769  12.000000\n",
      "19   Farkas         Boxer   52.000000   9.000000\n"
     ]
    },
    {
     "name": "stderr",
     "output_type": "stream",
     "text": [
      "C:\\Users\\yingy\\AppData\\Local\\Programs\\Python\\Python37\\lib\\site-packages\\ipykernel_launcher.py:2: SettingWithCopyWarning: \n",
      "A value is trying to be set on a copy of a slice from a DataFrame\n",
      "\n",
      "See the caveats in the documentation: https://pandas.pydata.org/pandas-docs/stable/user_guide/indexing.html#returning-a-view-versus-a-copy\n",
      "  \n"
     ]
    }
   ],
   "source": [
    "t6 = t4.copy()\n",
    "t6[\"Age\"][t6[\"Age\"]>18] = t1[\"Age\"].mean()\n",
    "print(t6)"
   ]
  },
  {
   "cell_type": "code",
   "execution_count": 21,
   "metadata": {},
   "outputs": [
    {
     "name": "stdout",
     "output_type": "stream",
     "text": [
      "       Name         Breed      Weight        Age\n",
      "0      Fido          Mutt   15.000000  15.000000\n",
      "1      odie  Irish_Setter   50.000000   2.000000\n",
      "2    Snoopy        Beagle   18.000000   2.000000\n",
      "3     Barfy          Mutt   20.000000   8.000000\n",
      "4      Spot     Dalmatian   25.000000  12.000000\n",
      "5      hugo       Terrier   49.230769  10.000000\n",
      "6    Lassie        Collie   30.000000  15.769231\n",
      "7     Mangy           NaN   40.000000  10.000000\n",
      "8     Larry        Basset   25.000000   4.000000\n",
      "9     Daryl     Retriever   42.000000   8.000000\n",
      "10   Darrel     Chihuahua    9.000000  15.769231\n",
      "11   Hotdog     Dachshund   49.230769  15.769231\n",
      "12      NaN           Lab   49.230769  15.769231\n",
      "13    Harpo      Airedale   49.230769   9.000000\n",
      "14    Zeppo     Pekingese   32.000000  15.769231\n",
      "15  Groucho       Whippet   49.000000   7.000000\n",
      "16      Bob        yorkie   49.230769   1.000000\n",
      "17     Thor    Great Dane  105.000000   6.000000\n",
      "18    Brian         Akita   49.230769  12.000000\n",
      "19   Farkas         Boxer   52.000000   9.000000\n"
     ]
    },
    {
     "name": "stderr",
     "output_type": "stream",
     "text": [
      "C:\\Users\\yingy\\AppData\\Local\\Programs\\Python\\Python37\\lib\\site-packages\\ipykernel_launcher.py:2: SettingWithCopyWarning: \n",
      "A value is trying to be set on a copy of a slice from a DataFrame\n",
      "\n",
      "See the caveats in the documentation: https://pandas.pydata.org/pandas-docs/stable/user_guide/indexing.html#returning-a-view-versus-a-copy\n",
      "  \n"
     ]
    }
   ],
   "source": [
    "t7 = t6.copy()\n",
    "t7[\"Weight\"][t6[\"Weight\"]>150] = t1[\"Weight\"].mean()\n",
    "print(t7)"
   ]
  },
  {
   "cell_type": "code",
   "execution_count": 22,
   "metadata": {},
   "outputs": [
    {
     "name": "stdout",
     "output_type": "stream",
     "text": [
      "       Name         Breed      Weight  Age\n",
      "0      Fido          Mutt   15.000000   15\n",
      "1      odie  Irish_Setter   50.000000    2\n",
      "2    Snoopy        Beagle   18.000000    2\n",
      "3     Barfy          Mutt   20.000000    8\n",
      "4      Spot     Dalmatian   25.000000   12\n",
      "5      hugo       Terrier   49.230769   10\n",
      "6    Lassie        Collie   30.000000   15\n",
      "7     Mangy           NaN   40.000000   10\n",
      "8     Larry        Basset   25.000000    4\n",
      "9     Daryl     Retriever   42.000000    8\n",
      "10   Darrel     Chihuahua    9.000000   15\n",
      "11   Hotdog     Dachshund   49.230769   15\n",
      "12      NaN           Lab   49.230769   15\n",
      "13    Harpo      Airedale   49.230769    9\n",
      "14    Zeppo     Pekingese   32.000000   15\n",
      "15  Groucho       Whippet   49.000000    7\n",
      "16      Bob        yorkie   49.230769    1\n",
      "17     Thor    Great Dane  105.000000    6\n",
      "18    Brian         Akita   49.230769   12\n",
      "19   Farkas         Boxer   52.000000    9\n"
     ]
    }
   ],
   "source": [
    "t8 = t7.copy()\n",
    "t8[\"Age\"] = t8[\"Age\"].astype(int)\n",
    "print(t8)"
   ]
  },
  {
   "cell_type": "code",
   "execution_count": 23,
   "metadata": {},
   "outputs": [
    {
     "name": "stdout",
     "output_type": "stream",
     "text": [
      "   Search Name         Breed      Weight  Age\n",
      "0         FIDO          Mutt   15.000000   15\n",
      "1         ODIE  Irish_Setter   50.000000    2\n",
      "2       SNOOPY        Beagle   18.000000    2\n",
      "3        BARFY          Mutt   20.000000    8\n",
      "4         SPOT     Dalmatian   25.000000   12\n",
      "5         HUGO       Terrier   49.230769   10\n",
      "6       LASSIE        Collie   30.000000   15\n",
      "7        MANGY           NaN   40.000000   10\n",
      "8        LARRY        Basset   25.000000    4\n",
      "9        DARYL     Retriever   42.000000    8\n",
      "10      DARREL     Chihuahua    9.000000   15\n",
      "11      HOTDOG     Dachshund   49.230769   15\n",
      "12       BARFY           Lab   49.230769   15\n",
      "13       HARPO      Airedale   49.230769    9\n",
      "14       ZEPPO     Pekingese   32.000000   15\n",
      "15     GROUCHO       Whippet   49.000000    7\n",
      "16         BOB        yorkie   49.230769    1\n",
      "17        THOR    Great Dane  105.000000    6\n",
      "18       BRIAN         Akita   49.230769   12\n",
      "19      FARKAS         Boxer   52.000000    9\n"
     ]
    }
   ],
   "source": [
    "t9 = t8.copy()\n",
    "t9[\"Name\"] = t9[\"Name\"].fillna(\"Barfy\")\n",
    "t9[\"Name\"] = t9[\"Name\"].apply(lambda x: x.upper())\n",
    "t9=t9.rename(columns = {'Name':'Search Name'})\n",
    "print(t9)"
   ]
  },
  {
   "cell_type": "code",
   "execution_count": 24,
   "metadata": {},
   "outputs": [
    {
     "name": "stdout",
     "output_type": "stream",
     "text": [
      "       Name         Breed      Weight  Age Search Name\n",
      "0      Fido          Mutt   15.000000   15        FIDO\n",
      "1      odie  Irish_Setter   50.000000    2        ODIE\n",
      "2    Snoopy        Beagle   18.000000    2      SNOOPY\n",
      "3     Barfy          Mutt   20.000000    8       BARFY\n",
      "4      Spot     Dalmatian   25.000000   12        SPOT\n",
      "5      hugo       Terrier   49.230769   10        HUGO\n",
      "6    Lassie        Collie   30.000000   15      LASSIE\n",
      "7     Mangy           NaN   40.000000   10       MANGY\n",
      "8     Larry        Basset   25.000000    4       LARRY\n",
      "9     Daryl     Retriever   42.000000    8       DARYL\n",
      "10   Darrel     Chihuahua    9.000000   15      DARREL\n",
      "11   Hotdog     Dachshund   49.230769   15      HOTDOG\n",
      "12      NaN           Lab   49.230769   15       BARFY\n",
      "13    Harpo      Airedale   49.230769    9       HARPO\n",
      "14    Zeppo     Pekingese   32.000000   15       ZEPPO\n",
      "15  Groucho       Whippet   49.000000    7     GROUCHO\n",
      "16      Bob        yorkie   49.230769    1         BOB\n",
      "17     Thor    Great Dane  105.000000    6        THOR\n",
      "18    Brian         Akita   49.230769   12       BRIAN\n",
      "19   Farkas         Boxer   52.000000    9      FARKAS\n"
     ]
    }
   ],
   "source": [
    "t10 = pd.concat([t8,t9[\"Search Name\"]],axis = 1)\n",
    "print(t10)"
   ]
  }
 ],
 "metadata": {
  "kernelspec": {
   "display_name": "Python 3",
   "language": "python",
   "name": "python3"
  },
  "language_info": {
   "codemirror_mode": {
    "name": "ipython",
    "version": 3
   },
   "file_extension": ".py",
   "mimetype": "text/x-python",
   "name": "python",
   "nbconvert_exporter": "python",
   "pygments_lexer": "ipython3",
   "version": "3.7.2"
  }
 },
 "nbformat": 4,
 "nbformat_minor": 2
}
