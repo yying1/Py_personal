{
 "cells": [
  {
   "cell_type": "code",
   "execution_count": null,
   "metadata": {},
   "outputs": [],
   "source": [
    "#Frank Yue Ying\n",
    "#yying2"
   ]
  },
  {
   "cell_type": "code",
   "execution_count": 12,
   "metadata": {},
   "outputs": [
    {
     "name": "stdout",
     "output_type": "stream",
     "text": [
      "https://forecast.weather.gov/MapClick.php?textField1=40.442806&textField2=-79.943016\n"
     ]
    }
   ],
   "source": [
    "# Problem 2\n",
    "import requests\n",
    "from bs4 import BeautifulSoup\n",
    "import sys\n",
    "if len(sys.argv) > 1:\n",
    "    latitude = sys.argv[1]\n",
    "    longitude = sys.argv[1]\n",
    "else:\n",
    "    latitude = \"40.442806\"\n",
    "    longitude = \"-79.943016\"\n",
    "URL = \"https://forecast.weather.gov/MapClick.php?textField1=\"+latitude+\"&textField2=\"+longitude\n",
    "page=requests.get(URL)\n",
    "soup = BeautifulSoup(page.content, 'html.parser')"
   ]
  },
  {
   "cell_type": "code",
   "execution_count": 47,
   "metadata": {},
   "outputs": [
    {
     "name": "stdout",
     "output_type": "stream",
     "text": [
      "30%\n",
      "Vrbl 7 mph\n",
      "30.17 in (1022.7 mb)\n",
      "26°F (-3°C)\n",
      "10.00 mi\n",
      "7 Nov 1:53 pm EST\n",
      "{'Humidity': '30%', 'Wind Speed': 'Vrbl 7 mph', 'Barometer': '30.17 in (1022.7 mb)', 'Dewpoint': '26°F (-3°C)', 'Visibility': '10.00 mi', 'Last update': '7 Nov 1:53 pm EST'}\n"
     ]
    }
   ],
   "source": [
    "raw_data = soup.find(id=\"current_conditions_detail\")\n",
    "weather_list = raw_data.find_all(\"tr\")\n",
    "dictionary = {}\n",
    "for i in weather_list:\n",
    "    raw_name = str(i.find(\"b\").text).strip()\n",
    "    raw_value = str(i.find_all(\"td\")[1].text).strip()\n",
    "    dictionary[raw_name] = raw_value"
   ]
  },
  {
   "cell_type": "code",
   "execution_count": 48,
   "metadata": {},
   "outputs": [
    {
     "name": "stdout",
     "output_type": "stream",
     "text": [
      "Humidity:   30%\n",
      "Wind Speed: Vrbl 7 mph\n",
      "Barometer: 30.17 in (1022.7 mb)\n",
      "Dewpoint: 26°F (-3°C)\n",
      "Visibility: 10.00 mi\n",
      "Wind Chill: N/A\n",
      "Last update: 7 Nov 1:53 pm EST\n"
     ]
    }
   ],
   "source": [
    "for item in [\"Humidity\", \"Wind Speed\", \"Barometer\", \"Dewpoint\",\"Visibility\", \"Wind Chill\",\"Last update\"]:\n",
    "    if item in dictionary.keys():\n",
    "        print(\"%5s: %5s\"%(item,dictionary[item]))\n",
    "    else:\n",
    "        print(\"%5s: N/A\"%(item))"
   ]
  }
 ],
 "metadata": {
  "kernelspec": {
   "display_name": "Python 3",
   "language": "python",
   "name": "python3"
  },
  "language_info": {
   "codemirror_mode": {
    "name": "ipython",
    "version": 3
   },
   "file_extension": ".py",
   "mimetype": "text/x-python",
   "name": "python",
   "nbconvert_exporter": "python",
   "pygments_lexer": "ipython3",
   "version": "3.7.2"
  }
 },
 "nbformat": 4,
 "nbformat_minor": 2
}
