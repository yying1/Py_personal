{
 "cells": [
  {
   "cell_type": "code",
   "execution_count": null,
   "metadata": {},
   "outputs": [],
   "source": [
    "#Frank Yue Ying\n",
    "#yying2"
   ]
  },
  {
   "cell_type": "code",
   "execution_count": null,
   "metadata": {},
   "outputs": [],
   "source": [
    "# Problem 1\n",
    "def createDictioanry(f):\n",
    "    lines = f.readlines()\n",
    "    dictionary = {}\n",
    "    for line in lines:\n",
    "        if line.strip()!= \"\":\n",
    "            word = line[0:line.index(\"(\")].strip()\n",
    "            definition = line[line.index(\"(\"):].strip()\n",
    "            if word.upper() not in dictionary.keys():\n",
    "                dictionary[word.upper()]= list()\n",
    "            dictionary[word.upper()].append(definition)\n",
    "    return dictionary"
   ]
  },
  {
   "cell_type": "code",
   "execution_count": null,
   "metadata": {},
   "outputs": [],
   "source": [
    "def search(d):\n",
    "    success_count = 0\n",
    "    failed_count = 0\n",
    "    while True:\n",
    "        search = input(\"Enter a word to look up, ALLDONE to quit: \").strip()\n",
    "        if search.upper() == \"ALLDONE\":\n",
    "            break\n",
    "        else:\n",
    "            if search.upper() not in d.keys():\n",
    "                failed_count+=1\n",
    "                print(\"%5s not found\"%(search.upper()))\n",
    "            else:\n",
    "                print(search.upper())\n",
    "                success_count+=1\n",
    "                for i,v in enumerate(d[search.upper()]):\n",
    "                    print(\"%2d: %10s\"%(i+1,v))\n",
    "    return (success_count,failed_count)"
   ]
  },
  {
   "cell_type": "code",
   "execution_count": null,
   "metadata": {},
   "outputs": [],
   "source": [
    "def main():\n",
    "    import sys\n",
    "    try:\n",
    "        f = open (\"dictionary.txt\")\n",
    "    except:\n",
    "        print(\"Error opening file dictionary.txt\")\n",
    "    else:\n",
    "        dictionary = createDictioanry(f)\n",
    "        f.close()\n",
    "        result = search(dictionary)\n",
    "        print(\"Succeeded searches: %2d\"%(result[0]))\n",
    "        print(\"Failed searches: %2d\"%(result[1]))"
   ]
  },
  {
   "cell_type": "code",
   "execution_count": null,
   "metadata": {},
   "outputs": [],
   "source": [
    "if __name__ == '__main__':\n",
    "    main()"
   ]
  }
 ],
 "metadata": {
  "kernelspec": {
   "display_name": "Python 3",
   "language": "python",
   "name": "python3"
  },
  "language_info": {
   "codemirror_mode": {
    "name": "ipython",
    "version": 3
   },
   "file_extension": ".py",
   "mimetype": "text/x-python",
   "name": "python",
   "nbconvert_exporter": "python",
   "pygments_lexer": "ipython3",
   "version": "3.7.2"
  }
 },
 "nbformat": 4,
 "nbformat_minor": 2
}
