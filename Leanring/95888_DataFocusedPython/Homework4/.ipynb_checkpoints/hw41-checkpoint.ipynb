{
 "cells": [
  {
   "cell_type": "code",
   "execution_count": null,
   "metadata": {},
   "outputs": [],
   "source": [
    "#Frank Yue Ying (yying2)\n",
    "#2021-11-20\n",
    "#Homework 4"
   ]
  },
  {
   "cell_type": "code",
   "execution_count": 39,
   "metadata": {},
   "outputs": [
    {
     "name": "stdout",
     "output_type": "stream",
     "text": [
      "Please input your option: str\n"
     ]
    }
   ],
   "source": [
    "#Part 1\n",
    "import pandas as pd\n",
    "df = pd.read_csv(\"pop.csv\", header = 0)\n",
    "while True:\n",
    "    choice = input(\"Please input your option: \")\n",
    "    try:\n",
    "        int(choice)\n",
    "        choice = int(choice)\n",
    "    except: \n",
    "        break\n",
    "    if choice == 1:\n",
    "        print(\"-\"*10+\"#1\"+\"-\"*10)\n",
    "        print(df)\n",
    "    elif choice == 2:\n",
    "        print(\"-\"*10+\"#2\"+\"-\"*10)\n",
    "        print(df[0:10])\n",
    "    elif choice == 3:\n",
    "        print(\"-\"*10+\"#3\"+\"-\"*10)\n",
    "        print(df[[\"NAME\"]].sort_values(by=[\"NAME\"]))\n",
    "    elif choice == 4:\n",
    "        print(\"-\"*10+\"#4\"+\"-\"*10)\n",
    "        print(df[\"POPULATION\"].sum())\n",
    "    elif choice == 5:\n",
    "        print(\"-\"*10+\"#5\"+\"-\"*10)\n",
    "        print(df.groupby(\"REGION\")[\"POPULATION\"].sum())\n",
    "    elif choice == 6:\n",
    "        print(\"-\"*10+\"#6\"+\"-\"*10)\n",
    "        state = input(\"Please input your state name: \")\n",
    "        print(df.loc[(df.NAME == state)][\"POPULATION\"].iat[0])\n",
    "    elif choice == 7:\n",
    "        print(\"-\"*10+\"#7\"+\"-\"*10)\n",
    "        print(df.sort_values(by=[\"NAME\"]))\n",
    "    elif choice == 8:\n",
    "        print(\"-\"*10+\"#8\"+\"-\"*10)\n",
    "        print(df.sort_values(by=[\"REGION\"]))\n",
    "    elif choice == 9:\n",
    "        print(\"-\"*10+\"#9\"+\"-\"*10)\n",
    "        print(df.sort_values(by=[\"POPULATION\"],ascending=False))\n",
    "    else:\n",
    "        break"
   ]
  },
  {
   "cell_type": "code",
   "execution_count": null,
   "metadata": {},
   "outputs": [],
   "source": []
  },
  {
   "cell_type": "code",
   "execution_count": null,
   "metadata": {},
   "outputs": [],
   "source": []
  },
  {
   "cell_type": "code",
   "execution_count": null,
   "metadata": {},
   "outputs": [],
   "source": []
  },
  {
   "cell_type": "code",
   "execution_count": null,
   "metadata": {},
   "outputs": [],
   "source": []
  }
 ],
 "metadata": {
  "kernelspec": {
   "display_name": "Python 3",
   "language": "python",
   "name": "python3"
  },
  "language_info": {
   "codemirror_mode": {
    "name": "ipython",
    "version": 3
   },
   "file_extension": ".py",
   "mimetype": "text/x-python",
   "name": "python",
   "nbconvert_exporter": "python",
   "pygments_lexer": "ipython3",
   "version": "3.7.2"
  }
 },
 "nbformat": 4,
 "nbformat_minor": 2
}
