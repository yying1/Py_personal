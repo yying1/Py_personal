{
 "cells": [
  {
   "cell_type": "code",
   "execution_count": null,
   "id": "a4024499",
   "metadata": {},
   "outputs": [],
   "source": [
    "#2021-06-17 exercism problem Hello World\n",
    "import unittest\n",
    "def hello():\n",
    "    a = \"Hello, World!\"\n",
    "    return a\n",
    "    pass\n",
    "\n",
    "def test_say_hi(self):\n",
    "    self.assertEqual(hello(), \"Hello, World!\")"
   ]
  }
 ],
 "metadata": {
  "kernelspec": {
   "display_name": "Python 3",
   "language": "python",
   "name": "python3"
  },
  "language_info": {
   "codemirror_mode": {
    "name": "ipython",
    "version": 3
   },
   "file_extension": ".py",
   "mimetype": "text/x-python",
   "name": "python",
   "nbconvert_exporter": "python",
   "pygments_lexer": "ipython3",
   "version": "3.9.5"
  }
 },
 "nbformat": 4,
 "nbformat_minor": 5
}
