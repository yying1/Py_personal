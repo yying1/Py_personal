{
 "cells": [
  {
   "cell_type": "code",
   "execution_count": null,
   "id": "21ca0da7",
   "metadata": {},
   "outputs": [],
   "source": [
    "#2021-06-17 codeabbey problem ID:1\n",
    "#We need to sum two numbers and tell the result. \n",
    "a,b = input().split(\" \")\n",
    "print(int(a)+int(b))"
   ]
  },
  {
   "cell_type": "code",
   "execution_count": null,
   "id": "60d997b0",
   "metadata": {},
   "outputs": [],
   "source": [
    "#2021-06-19 codeabbey problem ID:2\n",
    "number = input()\n",
    "sum_list = input().split(\" \")\n",
    "sum_result = 0\n",
    "for n in range(int(number)):\n",
    "    sum_result = sum_result+int(sum_list[n])\n",
    "sum_result\n",
    "\n",
    "#solution\n",
    "# x = input()\n",
    "# print(sum(int(x) for x in input().split()))"
   ]
  },
  {
   "cell_type": "code",
   "execution_count": null,
   "id": "35547a42",
   "metadata": {},
   "outputs": [],
   "source": [
    "#2021-06-20 codeabbey problem ID:3\n",
    "number = input(\"Please input your number of pairs: \")\n",
    "sum_result = []\n",
    "for n in range(int(number)):\n",
    "    pair = input(\"Please input your pair of numbers: \").split(\" \")\n",
    "    pair = map(lambda x: int(x), pair)\n",
    "    sum_result.append(sum(pair))\n",
    "print(*sum_result, sep = \" \")"
   ]
  },
  {
   "cell_type": "code",
   "execution_count": null,
   "id": "d45ce477",
   "metadata": {},
   "outputs": [],
   "source": [
    "## 2021-06-20 codeabbey problem ID:4\n",
    "number = input(\"Please input your number of pairs: \")\n",
    "min_result = []\n",
    "for n in range(int(number)):\n",
    "    pair = input(\"Please input your pair of numbers: \").split(\" \")\n",
    "    pair = list(map(lambda x: int(x), pair))\n",
    "    if pair[0] < pair[1]:\n",
    "        min_result.append(pair[0])\n",
    "    else: \n",
    "        min_result.append(pair[1])\n",
    "print(*min_result, sep = \" \")"
   ]
  },
  {
   "cell_type": "code",
   "execution_count": null,
   "id": "b3215901",
   "metadata": {},
   "outputs": [],
   "source": [
    "## 2021-06-21 codeabbey problem ID:5\n",
    "number = input(\"Please input your number of pairs: \")\n",
    "min_result = []\n",
    "for n in range(int(number)):\n",
    "    pair = input(\"Please input your pair of three numbers: \").split(\" \")\n",
    "    pair = list(map(lambda x: int(x), pair))\n",
    "    min_result.append(min(pair))\n",
    "print(*min_result, sep = \" \")"
   ]
  },
  {
   "cell_type": "code",
   "execution_count": null,
   "id": "4a0e0965",
   "metadata": {},
   "outputs": [],
   "source": [
    "## 2021-06-21 codeabbey problem ID:6\n",
    "number = input(\"Please input your number of pairs: \")\n",
    "round_result = []\n",
    "for n in range(int(number)):\n",
    "    pair = input(\"Please input your pair of numbers: \").split(\" \")\n",
    "    pair = list(map(lambda x: float(x), pair))\n",
    "    result = pair[0]/pair[1]\n",
    "    if str(result).endswith(\".5\"):\n",
    "        result = result +0.5\n",
    "    round_result.append(round(result))\n",
    "print(*round_result, sep = \" \")\n",
    "\n",
    "#for x in array:\n",
    "#    y = float(x[0])/x[1]\n",
    "#    if y > 0:\n",
    "#        print int(y + 0.5)\n",
    "#    if y < 0:\n",
    "#        print - int((abs(y) + 0.5))"
   ]
  },
  {
   "cell_type": "code",
   "execution_count": null,
   "id": "5e3e1a57",
   "metadata": {},
   "outputs": [],
   "source": [
    "## 2021-06-22 codeabbey problem ID:7\n",
    "raw = input(\"Please input your number and temperature data: \").split(\" \")\n",
    "number = int(raw[0])\n",
    "result_list = []\n",
    "del raw[0]\n",
    "raw = list(map(lambda x: float(x), raw))\n",
    "for i in range(number):\n",
    "    result = (raw[i] - 32)*5/9\n",
    "    if str(result).endswith(\".5\"):\n",
    "        result = result +0.5\n",
    "    result_list.append(round(result))   \n",
    "print(*result_list, sep = \" \")"
   ]
  },
  {
   "cell_type": "code",
   "execution_count": null,
   "id": "5754936c",
   "metadata": {},
   "outputs": [],
   "source": [
    "## 2021-06-23 codeabbey problem ID:8\n",
    "number = input(\"Please input your number of pairs: \")\n",
    "sequence_result = []\n",
    "for n in range(int(number)):\n",
    "    pair = input(\"Please input your numbers: \").split(\" \")\n",
    "    pair = list(map(lambda x: int(x), pair))\n",
    "    sum_pair = pair[0]*pair[2]+(1+pair[2]-1)*(pair[2]-1)/2*pair[1]\n",
    "    sequence_result.append(int(sum_pair))\n",
    "print(*sequence_result, sep = \" \")"
   ]
  },
  {
   "cell_type": "code",
   "execution_count": null,
   "id": "d287a259",
   "metadata": {},
   "outputs": [],
   "source": [
    "## 2021-06-23 codeabbey problem ID:9\n",
    "number = input(\"Please input your number of pairs: \")\n",
    "triangles_result = []\n",
    "for n in range(int(number)):\n",
    "    pair = input(\"Please input your numbers for a triangle: \").split(\" \")\n",
    "    pair = list(map(lambda x: int(x), pair))\n",
    "    temp_pair = pair[:]\n",
    "    # use list[:] to store the new list to a memory slot, list = list will just link them to the same place\n",
    "    for side in pair:\n",
    "        temp_pair.remove(side)\n",
    "        # note that list.remove function does not return anything\n",
    "        sum_temp = sum(temp_pair)\n",
    "        difference_temp = max(temp_pair) - min(temp_pair)\n",
    "        if side < sum_temp and side > difference_temp:\n",
    "            result = 1\n",
    "            temp_pair = pair[:]\n",
    "        else:\n",
    "            result = 0\n",
    "            break    \n",
    "    triangles_result.append(result)\n",
    "print(*triangles_result, sep = \" \")"
   ]
  },
  {
   "cell_type": "code",
   "execution_count": 11,
   "id": "decdc90b",
   "metadata": {},
   "outputs": [
    {
     "name": "stdout",
     "output_type": "stream",
     "text": [
      "Please input your number of test cases: 12\n",
      "Please input your test cases: 655 54140 686 56713\n",
      "Please input your test cases: 696 -47998 102 -7012\n",
      "Please input your test cases: -610 20131 -960 31681\n",
      "Please input your test cases: -958 2019 681 -1259\n",
      "Please input your test cases: 816 26025 -210 -5781\n",
      "Please input your test cases: 400 -7795 884 -16991\n",
      "Please input your test cases: 103 -6001 16 -433\n",
      "Please input your test cases: 657 -2602 314 -1573\n",
      "Please input your test cases: 354 1868 -848 -7748\n",
      "Please input your test cases: -48 -3645 908 80483\n",
      "Please input your test cases: -782 46889 -711 42700\n",
      "Please input your test cases: 786 -69870 419 -37574\n",
      "(83 -225) (-69 26) (-33 1) (-2 103) (31 729) (-19 -195) (-64 591) (-3 -631) (8 -964) (88 579) (-59 751) (-88 -702) \n"
     ]
    }
   ],
   "source": [
    "## 2021-06-24 codeabbey problem ID:10\n",
    "from sympy import symbols, Eq, solve\n",
    "# using this function to solve equations\n",
    "number = input(\"Please input your number of test cases: \")\n",
    "constant_result = []\n",
    "for n in range(int(number)):\n",
    "    pair = input(\"Please input your test cases: \").split(\" \")\n",
    "    pair = list(map(lambda x: int(x), pair))\n",
    "    a, b = symbols('a b')\n",
    "    eq1 = Eq(pair[0]*a + b - pair[1],0)\n",
    "    eq2 = Eq(pair[2]*a + b - pair[3],0)\n",
    "    result = solve((eq1,eq2), (a, b))\n",
    "    constant_result.append(result)\n",
    "str_result = \"\"\n",
    "for dic in constant_result:\n",
    "    str_result = str_result+\"(\"+str(dic[a])+\" \"+str(dic[b])+\") \"\n",
    "print(str_result)"
   ]
  },
  {
   "cell_type": "code",
   "execution_count": 6,
   "id": "382267ad",
   "metadata": {},
   "outputs": [
    {
     "name": "stdout",
     "output_type": "stream",
     "text": [
      "Please input your number of values to input: 11\n",
      "Please input your values: 349 135 59\n",
      "Please input your values: 255 148 13\n",
      "Please input your values: 370 14 90\n",
      "Please input your values: 65 74 150\n",
      "Please input your values: 391 117 105\n",
      "Please input your values: 390 224 167\n",
      "Please input your values: 30 210 53\n",
      "Please input your values: 351 196 176\n",
      "Please input your values: 338 239 195\n",
      "Please input your values: 150 225 180\n",
      "Please input your values: 206 176 15\n",
      "23 25 14 19 24 29 17 32 31 18 19\n"
     ]
    }
   ],
   "source": [
    "## 2021-06-24 codeabbey problem ID:11\n",
    "number = input(\"Please input your number of values: \")\n",
    "sumdigit_result = []\n",
    "for n in range(int(number)):\n",
    "    pair = input(\"Please input your values: \").split(\" \")\n",
    "    pair = list(map(lambda x: int(x), pair))\n",
    "    sum_pair = pair[0]*pair[1]+pair[2]\n",
    "    sum_digit = 0\n",
    "    # python does not support do while but, there is an alternative\n",
    "    while True:\n",
    "        division_int = sum_pair//10\n",
    "        reminder = sum_pair % 10\n",
    "        sum_digit = sum_digit + reminder\n",
    "        if division_int == 0:\n",
    "            break\n",
    "        sum_pair = division_int\n",
    "    sumdigit_result.append(sum_digit)\n",
    "print(*sumdigit_result, sep = \" \")"
   ]
  },
  {
   "cell_type": "code",
   "execution_count": null,
   "id": "fcf17519",
   "metadata": {},
   "outputs": [],
   "source": [
    "## 2021-06-25 codeabbey problem ID:12\n",
    "number = input(\"Please input number of pairs: \")\n",
    "result_list = []\n",
    "for i in range(int(number)):\n",
    "    raw_list = input(\"please input your 8 numbers: \").split(\" \")\n",
    "    raw_list = list(map(lambda x: int(x),raw_list))\n",
    "    for t in (0,4):\n",
    "        if t == 0:\n",
    "            start_time_s = raw_list[t]*24*60*60 + raw_list[t+1]*60*60+raw_list[t+2]*60+raw_list[t+3]\n",
    "        else: \n",
    "            end_time_s = raw_list[t]*24*60*60 + raw_list[t+1]*60*60+raw_list[t+2]*60+raw_list[t+3]\n",
    "    time_diff = end_time_s - start_time_s\n",
    "    pair_result = []\n",
    "    for t in (60,60,24):\n",
    "        result = time_diff//t\n",
    "        reminder = time_diff % t\n",
    "        time_diff = result\n",
    "        pair_result.insert(0,reminder)\n",
    "        if t == 24:\n",
    "            pair_result.insert(0,result)\n",
    "    result_list.append(pair_result)\n",
    "str_result = \"\"\n",
    "for i in result_list:\n",
    "    str_result = str_result + \"(\"+\" \".join(str(x) for x in i)+\") \"\n",
    "print(str_result)"
   ]
  },
  {
   "cell_type": "code",
   "execution_count": 7,
   "id": "3368f29e",
   "metadata": {},
   "outputs": [
    {
     "name": "stdout",
     "output_type": "stream",
     "text": [
      "Please input number of numbers: 32\n",
      "please input your numbers: 12 31188007 327 1343 64320 710 221840622 7194 1026586 26901 3843 363124907 14 473 88600779 2014 32345337 77177 33283498 166686554 130736519 263275 32493804 1675 9 923442726 1 118584 27265963 207743 8 726454\n",
      "5 136 28 31 31 9 137 52 146 46 43 188 9 27 205 21 152 87 213 242 210 96 150 54 9 189 1 111 191 89 8 94\n"
     ]
    }
   ],
   "source": [
    "## 2021-06-25 codeabbey problem ID:13\n",
    "number = input(\"Please input number of numbers: \")\n",
    "num_list = input(\"please input your numbers: \").split(\" \")\n",
    "num_list = list(map(lambda x: int(x),num_list))\n",
    "result_list = []\n",
    "for i in range(int(number)):\n",
    "    num = num_list[i]\n",
    "    sum_digit = 0\n",
    "    weight = len(str(num))\n",
    "    # python does not support do while but, there is an alternative\n",
    "    while True:\n",
    "        division_int = num//10\n",
    "        reminder = num % 10\n",
    "        sum_digit = sum_digit + reminder*weight\n",
    "        weight = weight-1\n",
    "        if division_int == 0:\n",
    "            break\n",
    "        num = division_int\n",
    "    result_list.append(sum_digit)\n",
    "print(*result_list, sep = \" \")"
   ]
  },
  {
   "cell_type": "code",
   "execution_count": null,
   "id": "1a1b9a62",
   "metadata": {},
   "outputs": [],
   "source": [
    "## 2021-06-26 codeabbey problem ID:14\n",
    "class mathops:\n",
    "    def switch(initial, ops, op_num):\n",
    "        if ops == \"+\":\n",
    "            result = mathops.add(initial, op_num)\n",
    "        if ops ==\"*\":\n",
    "            result = mathops.multiply(initial,op_num)\n",
    "        return result\n",
    "    def add(initial, op_num):\n",
    "        return initial+op_num\n",
    "    def multiply(initial, op_num):\n",
    "        return initial*op_num\n",
    "file = open(\"1.txt\")\n",
    "initial = file.readline()\n",
    "initial = int(initial)\n",
    "while True:\n",
    "    raw_list = file.readline().split(\" \")\n",
    "    if raw_list[0] == '%':\n",
    "        initial = initial % int(raw_list[1])\n",
    "        break\n",
    "    else:\n",
    "        initial = mathops.switch(initial, raw_list[0], int(raw_list[1]))\n",
    "print(initial)\n",
    "file.close()"
   ]
  },
  {
   "cell_type": "code",
   "execution_count": null,
   "id": "c5e700a3",
   "metadata": {},
   "outputs": [],
   "source": [
    "## 2021-06-26 codeabbey problem ID:15\n",
    "raw_list = input(\"please enter 300 numbers:\").split(\" \")\n",
    "raw_list = list(map(lambda x: int(x), raw_list))\n",
    "maximum = minimum = raw_list[0]\n",
    "for i in raw_list[1:]:\n",
    "    if i > maximum:\n",
    "        maximum = i \n",
    "    if i < minimum:\n",
    "        minimum = i\n",
    "        \n",
    "print(str(maximum) + \" \" + str(minimum))"
   ]
  },
  {
   "cell_type": "code",
   "execution_count": 2,
   "id": "e3cb308c",
   "metadata": {},
   "outputs": [
    {
     "name": "stdout",
     "output_type": "stream",
     "text": [
      "4398 4232 1343 4358 3714 1065 231 2469 1480 2146 3725 252 3806\n"
     ]
    }
   ],
   "source": [
    "## 2021-06-27 codeabbey problem ID:16\n",
    "file = open(\"16.txt\")\n",
    "number = file.readline()\n",
    "result_list = []\n",
    "for i in range(int(number)):\n",
    "    raw_list = file.readline().split(\" \")\n",
    "    raw_list = list(map(lambda x: int(x),raw_list))\n",
    "    del raw_list[-1]\n",
    "    average = sum(raw_list)/float(len(raw_list))\n",
    "    if average > 0:\n",
    "        average =  int(average + 0.5)\n",
    "    if average < 0:\n",
    "        average =  int((abs(average) + 0.5))\n",
    "    result_list.append(average)\n",
    "print(*result_list, sep = \" \")\n",
    "file.close()"
   ]
  },
  {
   "cell_type": "code",
   "execution_count": null,
   "id": "c0c1ddea",
   "metadata": {},
   "outputs": [],
   "source": [
    "## 2021-06-27 codeabbey problem ID:17\n",
    "number = input(\"Please input your count of numbers:\")\n",
    "raw_list = input(\"Please input your list of numbers\").split(\" \")\n",
    "raw_list = list(map(lambda x: int(x), raw_list))\n",
    "result = 0\n",
    "for i in range(int(number)):\n",
    "     result = (result + raw_list[i])*113%10000007\n",
    "print(result)"
   ]
  }
 ],
 "metadata": {
  "kernelspec": {
   "display_name": "Python 3",
   "language": "python",
   "name": "python3"
  },
  "language_info": {
   "codemirror_mode": {
    "name": "ipython",
    "version": 3
   },
   "file_extension": ".py",
   "mimetype": "text/x-python",
   "name": "python",
   "nbconvert_exporter": "python",
   "pygments_lexer": "ipython3",
   "version": "3.9.5"
  }
 },
 "nbformat": 4,
 "nbformat_minor": 5
}
