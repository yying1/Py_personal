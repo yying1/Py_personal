{
 "cells": [
  {
   "cell_type": "code",
   "execution_count": null,
   "id": "9dc3b54c",
   "metadata": {},
   "outputs": [],
   "source": [
    "#2021-06-17 codeabbey problem ID:1\n",
    "#We need to sum two numbers and tell the result. \n",
    "a,b = input().split(\" \")\n",
    "print(int(a)+int(b))"
   ]
  },
  {
   "cell_type": "code",
   "execution_count": null,
   "id": "0f34990d",
   "metadata": {},
   "outputs": [],
   "source": [
    "#2021-06-19 codeabbey problem ID:2\n",
    "number = input()\n",
    "sum_list = input().split(\" \")\n",
    "sum_result = 0\n",
    "for n in range(int(number)):\n",
    "    sum_result = sum_result+int(sum_list[n])\n",
    "sum_result\n",
    "\n",
    "#solution\n",
    "# x = input()\n",
    "# print(sum(int(x) for x in input().split()))"
   ]
  },
  {
   "cell_type": "code",
   "execution_count": null,
   "id": "cc149f4d",
   "metadata": {},
   "outputs": [],
   "source": [
    "#2021-06-20 codeabbey problem ID:3\n",
    "number = input(\"Please input your number of pairs: \")\n",
    "sum_result = []\n",
    "for n in range(int(number)):\n",
    "    pair = input(\"Please input your pair of numbers: \").split(\" \")\n",
    "    pair = map(lambda x: int(x), pair)\n",
    "    sum_result.append(sum(pair))\n",
    "print(*sum_result, sep = \" \")"
   ]
  },
  {
   "cell_type": "code",
   "execution_count": null,
   "id": "f4ba0d2c",
   "metadata": {},
   "outputs": [],
   "source": [
    "## 2021-06-20 codeabbey problem ID:4\n",
    "number = input(\"Please input your number of pairs: \")\n",
    "min_result = []\n",
    "for n in range(int(number)):\n",
    "    pair = input(\"Please input your pair of numbers: \").split(\" \")\n",
    "    pair = list(map(lambda x: int(x), pair))\n",
    "    if pair[0] < pair[1]:\n",
    "        min_result.append(pair[0])\n",
    "    else: \n",
    "        min_result.append(pair[1])\n",
    "print(*min_result, sep = \" \")"
   ]
  },
  {
   "cell_type": "code",
   "execution_count": null,
   "id": "c48fc719",
   "metadata": {},
   "outputs": [],
   "source": [
    "## 2021-06-21 codeabbey problem ID:5\n",
    "number = input(\"Please input your number of pairs: \")\n",
    "min_result = []\n",
    "for n in range(int(number)):\n",
    "    pair = input(\"Please input your pair of three numbers: \").split(\" \")\n",
    "    pair = list(map(lambda x: int(x), pair))\n",
    "    min_result.append(min(pair))\n",
    "print(*min_result, sep = \" \")"
   ]
  },
  {
   "cell_type": "code",
   "execution_count": null,
   "id": "6db809b2",
   "metadata": {},
   "outputs": [],
   "source": [
    "## 2021-06-21 codeabbey problem ID:6\n",
    "number = input(\"Please input your number of pairs: \")\n",
    "round_result = []\n",
    "for n in range(int(number)):\n",
    "    pair = input(\"Please input your pair of numbers: \").split(\" \")\n",
    "    pair = list(map(lambda x: float(x), pair))\n",
    "    result = pair[0]/pair[1]\n",
    "    if str(result).endswith(\".5\"):\n",
    "        result = result +0.5\n",
    "    round_result.append(round(result))\n",
    "print(*round_result, sep = \" \")\n",
    "\n",
    "#for x in array:\n",
    "#    y = float(x[0])/x[1]\n",
    "#    if y > 0:\n",
    "#        print int(y + 0.5)\n",
    "#    if y < 0:\n",
    "#        print - int((abs(y) + 0.5))"
   ]
  },
  {
   "cell_type": "code",
   "execution_count": 3,
   "id": "8da08e64",
   "metadata": {},
   "outputs": [
    {
     "name": "stdout",
     "output_type": "stream",
     "text": [
      "Please input your number and temperature data: 36 505 321 49 202 328 240 121 494 570 224 61 223 261 397 243 405 481 514 526 254 389 437 193 408 369 393 469 548 301 544 504 290 417 273 45 511\n",
      "263 161 9 94 164 116 49 257 299 107 16 106 127 203 117 207 249 268 274 123 198 225 89 209 187 201 243 287 149 284 262 143 214 134 7 266\n"
     ]
    }
   ],
   "source": [
    "## 2021-06-22 codeabbey problem ID:7\n",
    "raw = input(\"Please input your number and temperature data: \").split(\" \")\n",
    "number = int(raw[0])\n",
    "result_list = []\n",
    "del raw[0]\n",
    "raw = list(map(lambda x: float(x), raw))\n",
    "for i in range(number):\n",
    "    result = (raw[i] - 32)*5/9\n",
    "    if str(result).endswith(\".5\"):\n",
    "        result = result +0.5\n",
    "    result_list.append(round(result))   \n",
    "print(*result_list, sep = \" \")"
   ]
  }
 ],
 "metadata": {
  "kernelspec": {
   "display_name": "Python 3",
   "language": "python",
   "name": "python3"
  },
  "language_info": {
   "codemirror_mode": {
    "name": "ipython",
    "version": 3
   },
   "file_extension": ".py",
   "mimetype": "text/x-python",
   "name": "python",
   "nbconvert_exporter": "python",
   "pygments_lexer": "ipython3",
   "version": "3.9.5"
  }
 },
 "nbformat": 4,
 "nbformat_minor": 5
}
