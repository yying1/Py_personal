{
 "cells": [
  {
   "cell_type": "code",
   "execution_count": null,
   "id": "21ca0da7",
   "metadata": {},
   "outputs": [],
   "source": [
    "#2021-06-17 codeabbey problem ID:1\n",
    "#We need to sum two numbers and tell the result. \n",
    "a,b = input().split(\" \")\n",
    "print(int(a)+int(b))"
   ]
  },
  {
   "cell_type": "code",
   "execution_count": null,
   "id": "60d997b0",
   "metadata": {},
   "outputs": [],
   "source": [
    "#2021-06-19 codeabbey problem ID:2\n",
    "number = input()\n",
    "sum_list = input().split(\" \")\n",
    "sum_result = 0\n",
    "for n in range(int(number)):\n",
    "    sum_result = sum_result+int(sum_list[n])\n",
    "sum_result\n",
    "\n",
    "#solution\n",
    "# x = input()\n",
    "# print(sum(int(x) for x in input().split()))"
   ]
  },
  {
   "cell_type": "code",
   "execution_count": null,
   "id": "35547a42",
   "metadata": {},
   "outputs": [],
   "source": [
    "#2021-06-20 codeabbey problem ID:3\n",
    "number = input(\"Please input your number of pairs: \")\n",
    "sum_result = []\n",
    "for n in range(int(number)):\n",
    "    pair = input(\"Please input your pair of numbers: \").split(\" \")\n",
    "    pair = map(lambda x: int(x), pair)\n",
    "    sum_result.append(sum(pair))\n",
    "print(*sum_result, sep = \" \")"
   ]
  },
  {
   "cell_type": "code",
   "execution_count": null,
   "id": "d45ce477",
   "metadata": {},
   "outputs": [],
   "source": [
    "## 2021-06-20 codeabbey problem ID:4\n",
    "number = input(\"Please input your number of pairs: \")\n",
    "min_result = []\n",
    "for n in range(int(number)):\n",
    "    pair = input(\"Please input your pair of numbers: \").split(\" \")\n",
    "    pair = list(map(lambda x: int(x), pair))\n",
    "    if pair[0] < pair[1]:\n",
    "        min_result.append(pair[0])\n",
    "    else: \n",
    "        min_result.append(pair[1])\n",
    "print(*min_result, sep = \" \")"
   ]
  },
  {
   "cell_type": "code",
   "execution_count": null,
   "id": "b3215901",
   "metadata": {},
   "outputs": [],
   "source": [
    "## 2021-06-21 codeabbey problem ID:5\n",
    "number = input(\"Please input your number of pairs: \")\n",
    "min_result = []\n",
    "for n in range(int(number)):\n",
    "    pair = input(\"Please input your pair of three numbers: \").split(\" \")\n",
    "    pair = list(map(lambda x: int(x), pair))\n",
    "    min_result.append(min(pair))\n",
    "print(*min_result, sep = \" \")"
   ]
  },
  {
   "cell_type": "code",
   "execution_count": null,
   "id": "4a0e0965",
   "metadata": {},
   "outputs": [],
   "source": [
    "## 2021-06-21 codeabbey problem ID:6\n",
    "number = input(\"Please input your number of pairs: \")\n",
    "round_result = []\n",
    "for n in range(int(number)):\n",
    "    pair = input(\"Please input your pair of numbers: \").split(\" \")\n",
    "    pair = list(map(lambda x: float(x), pair))\n",
    "    result = pair[0]/pair[1]\n",
    "    if str(result).endswith(\".5\"):\n",
    "        result = result +0.5\n",
    "    round_result.append(round(result))\n",
    "print(*round_result, sep = \" \")\n",
    "\n",
    "#for x in array:\n",
    "#    y = float(x[0])/x[1]\n",
    "#    if y > 0:\n",
    "#        print int(y + 0.5)\n",
    "#    if y < 0:\n",
    "#        print - int((abs(y) + 0.5))"
   ]
  },
  {
   "cell_type": "code",
   "execution_count": null,
   "id": "5e3e1a57",
   "metadata": {},
   "outputs": [],
   "source": [
    "## 2021-06-22 codeabbey problem ID:7\n",
    "raw = input(\"Please input your number and temperature data: \").split(\" \")\n",
    "number = int(raw[0])\n",
    "result_list = []\n",
    "del raw[0]\n",
    "raw = list(map(lambda x: float(x), raw))\n",
    "for i in range(number):\n",
    "    result = (raw[i] - 32)*5/9\n",
    "    if str(result).endswith(\".5\"):\n",
    "        result = result +0.5\n",
    "    result_list.append(round(result))   \n",
    "print(*result_list, sep = \" \")"
   ]
  },
  {
   "cell_type": "code",
   "execution_count": null,
   "id": "5754936c",
   "metadata": {},
   "outputs": [],
   "source": [
    "## 2021-06-23 codeabbey problem ID:8\n",
    "number = input(\"Please input your number of pairs: \")\n",
    "sequence_result = []\n",
    "for n in range(int(number)):\n",
    "    pair = input(\"Please input your numbers: \").split(\" \")\n",
    "    pair = list(map(lambda x: int(x), pair))\n",
    "    sum_pair = pair[0]*pair[2]+(1+pair[2]-1)*(pair[2]-1)/2*pair[1]\n",
    "    sequence_result.append(int(sum_pair))\n",
    "print(*sequence_result, sep = \" \")"
   ]
  },
  {
   "cell_type": "code",
   "execution_count": null,
   "id": "d287a259",
   "metadata": {},
   "outputs": [],
   "source": [
    "## 2021-06-23 codeabbey problem ID:9\n",
    "number = input(\"Please input your number of pairs: \")\n",
    "triangles_result = []\n",
    "for n in range(int(number)):\n",
    "    pair = input(\"Please input your numbers for a triangle: \").split(\" \")\n",
    "    pair = list(map(lambda x: int(x), pair))\n",
    "    temp_pair = pair[:]\n",
    "    # use list[:] to store the new list to a memory slot, list = list will just link them to the same place\n",
    "    for side in pair:\n",
    "        temp_pair.remove(side)\n",
    "        # note that list.remove function does not return anything\n",
    "        sum_temp = sum(temp_pair)\n",
    "        difference_temp = max(temp_pair) - min(temp_pair)\n",
    "        if side < sum_temp and side > difference_temp:\n",
    "            result = 1\n",
    "            temp_pair = pair[:]\n",
    "        else:\n",
    "            result = 0\n",
    "            break    \n",
    "    triangles_result.append(result)\n",
    "print(*triangles_result, sep = \" \")"
   ]
  },
  {
   "cell_type": "code",
   "execution_count": 11,
   "id": "decdc90b",
   "metadata": {},
   "outputs": [
    {
     "name": "stdout",
     "output_type": "stream",
     "text": [
      "Please input your number of test cases: 12\n",
      "Please input your test cases: 655 54140 686 56713\n",
      "Please input your test cases: 696 -47998 102 -7012\n",
      "Please input your test cases: -610 20131 -960 31681\n",
      "Please input your test cases: -958 2019 681 -1259\n",
      "Please input your test cases: 816 26025 -210 -5781\n",
      "Please input your test cases: 400 -7795 884 -16991\n",
      "Please input your test cases: 103 -6001 16 -433\n",
      "Please input your test cases: 657 -2602 314 -1573\n",
      "Please input your test cases: 354 1868 -848 -7748\n",
      "Please input your test cases: -48 -3645 908 80483\n",
      "Please input your test cases: -782 46889 -711 42700\n",
      "Please input your test cases: 786 -69870 419 -37574\n",
      "(83 -225) (-69 26) (-33 1) (-2 103) (31 729) (-19 -195) (-64 591) (-3 -631) (8 -964) (88 579) (-59 751) (-88 -702) \n"
     ]
    }
   ],
   "source": [
    "## 2021-06-24 codeabbey problem ID:10\n",
    "from sympy import symbols, Eq, solve\n",
    "# using this function to solve equations\n",
    "number = input(\"Please input your number of test cases: \")\n",
    "constant_result = []\n",
    "for n in range(int(number)):\n",
    "    pair = input(\"Please input your test cases: \").split(\" \")\n",
    "    pair = list(map(lambda x: int(x), pair))\n",
    "    a, b = symbols('a b')\n",
    "    eq1 = Eq(pair[0]*a + b - pair[1],0)\n",
    "    eq2 = Eq(pair[2]*a + b - pair[3],0)\n",
    "    result = solve((eq1,eq2), (a, b))\n",
    "    constant_result.append(result)\n",
    "str_result = \"\"\n",
    "for dic in constant_result:\n",
    "    str_result = str_result+\"(\"+str(dic[a])+\" \"+str(dic[b])+\") \"\n",
    "print(str_result)"
   ]
  },
  {
   "cell_type": "code",
   "execution_count": 6,
   "id": "382267ad",
   "metadata": {},
   "outputs": [
    {
     "name": "stdout",
     "output_type": "stream",
     "text": [
      "Please input your number of values to input: 11\n",
      "Please input your values: 349 135 59\n",
      "Please input your values: 255 148 13\n",
      "Please input your values: 370 14 90\n",
      "Please input your values: 65 74 150\n",
      "Please input your values: 391 117 105\n",
      "Please input your values: 390 224 167\n",
      "Please input your values: 30 210 53\n",
      "Please input your values: 351 196 176\n",
      "Please input your values: 338 239 195\n",
      "Please input your values: 150 225 180\n",
      "Please input your values: 206 176 15\n",
      "23 25 14 19 24 29 17 32 31 18 19\n"
     ]
    }
   ],
   "source": [
    "## 2021-06-24 codeabbey problem ID:11\n",
    "number = input(\"Please input your number of values: \")\n",
    "sumdigit_result = []\n",
    "for n in range(int(number)):\n",
    "    pair = input(\"Please input your values: \").split(\" \")\n",
    "    pair = list(map(lambda x: int(x), pair))\n",
    "    sum_pair = pair[0]*pair[1]+pair[2]\n",
    "    sum_digit = 0\n",
    "    # python does not support do while but, there is an alternative\n",
    "    while True:\n",
    "        division_int = sum_pair//10\n",
    "        reminder = sum_pair % 10\n",
    "        sum_digit = sum_digit + reminder\n",
    "        if division_int == 0:\n",
    "            break\n",
    "        sum_pair = division_int\n",
    "    sumdigit_result.append(sum_digit)\n",
    "print(*sumdigit_result, sep = \" \")"
   ]
  },
  {
   "cell_type": "code",
   "execution_count": null,
   "id": "fcf17519",
   "metadata": {},
   "outputs": [],
   "source": [
    "## 2021-06-25 codeabbey problem ID:12\n",
    "number = input(\"Please input number of pairs: \")\n",
    "result_list = []\n",
    "for i in range(int(number)):\n",
    "    raw_list = input(\"please input your 8 numbers: \").split(\" \")\n",
    "    raw_list = list(map(lambda x: int(x),raw_list))\n",
    "    for t in (0,4):\n",
    "        if t == 0:\n",
    "            start_time_s = raw_list[t]*24*60*60 + raw_list[t+1]*60*60+raw_list[t+2]*60+raw_list[t+3]\n",
    "        else: \n",
    "            end_time_s = raw_list[t]*24*60*60 + raw_list[t+1]*60*60+raw_list[t+2]*60+raw_list[t+3]\n",
    "    time_diff = end_time_s - start_time_s\n",
    "    pair_result = []\n",
    "    for t in (60,60,24):\n",
    "        result = time_diff//t\n",
    "        reminder = time_diff % t\n",
    "        time_diff = result\n",
    "        pair_result.insert(0,reminder)\n",
    "        if t == 24:\n",
    "            pair_result.insert(0,result)\n",
    "    result_list.append(pair_result)\n",
    "str_result = \"\"\n",
    "for i in result_list:\n",
    "    str_result = str_result + \"(\"+\" \".join(str(x) for x in i)+\") \"\n",
    "print(str_result)"
   ]
  },
  {
   "cell_type": "code",
   "execution_count": 7,
   "id": "3368f29e",
   "metadata": {},
   "outputs": [
    {
     "name": "stdout",
     "output_type": "stream",
     "text": [
      "Please input number of numbers: 32\n",
      "please input your numbers: 12 31188007 327 1343 64320 710 221840622 7194 1026586 26901 3843 363124907 14 473 88600779 2014 32345337 77177 33283498 166686554 130736519 263275 32493804 1675 9 923442726 1 118584 27265963 207743 8 726454\n",
      "5 136 28 31 31 9 137 52 146 46 43 188 9 27 205 21 152 87 213 242 210 96 150 54 9 189 1 111 191 89 8 94\n"
     ]
    }
   ],
   "source": [
    "## 2021-06-25 codeabbey problem ID:13\n",
    "number = input(\"Please input number of numbers: \")\n",
    "num_list = input(\"please input your numbers: \").split(\" \")\n",
    "num_list = list(map(lambda x: int(x),num_list))\n",
    "result_list = []\n",
    "for i in range(int(number)):\n",
    "    num = num_list[i]\n",
    "    sum_digit = 0\n",
    "    weight = len(str(num))\n",
    "    # python does not support do while but, there is an alternative\n",
    "    while True:\n",
    "        division_int = num//10\n",
    "        reminder = num % 10\n",
    "        sum_digit = sum_digit + reminder*weight\n",
    "        weight = weight-1\n",
    "        if division_int == 0:\n",
    "            break\n",
    "        num = division_int\n",
    "    result_list.append(sum_digit)\n",
    "print(*result_list, sep = \" \")"
   ]
  },
  {
   "cell_type": "code",
   "execution_count": null,
   "id": "1a1b9a62",
   "metadata": {},
   "outputs": [],
   "source": [
    "## 2021-06-26 codeabbey problem ID:14\n",
    "class mathops:\n",
    "    def switch(initial, ops, op_num):\n",
    "        if ops == \"+\":\n",
    "            result = mathops.add(initial, op_num)\n",
    "        if ops ==\"*\":\n",
    "            result = mathops.multiply(initial,op_num)\n",
    "        return result\n",
    "    def add(initial, op_num):\n",
    "        return initial+op_num\n",
    "    def multiply(initial, op_num):\n",
    "        return initial*op_num\n",
    "file = open(\"1.txt\")\n",
    "initial = file.readline()\n",
    "initial = int(initial)\n",
    "while True:\n",
    "    raw_list = file.readline().split(\" \")\n",
    "    if raw_list[0] == '%':\n",
    "        initial = initial % int(raw_list[1])\n",
    "        break\n",
    "    else:\n",
    "        initial = mathops.switch(initial, raw_list[0], int(raw_list[1]))\n",
    "print(initial)\n",
    "file.close()"
   ]
  },
  {
   "cell_type": "code",
   "execution_count": null,
   "id": "c5e700a3",
   "metadata": {},
   "outputs": [],
   "source": [
    "## 2021-06-26 codeabbey problem ID:15\n",
    "raw_list = input(\"please enter 300 numbers:\").split(\" \")\n",
    "raw_list = list(map(lambda x: int(x), raw_list))\n",
    "maximum = minimum = raw_list[0]\n",
    "for i in raw_list[1:]:\n",
    "    if i > maximum:\n",
    "        maximum = i \n",
    "    if i < minimum:\n",
    "        minimum = i\n",
    "        \n",
    "print(str(maximum) + \" \" + str(minimum))"
   ]
  },
  {
   "cell_type": "code",
   "execution_count": 2,
   "id": "e3cb308c",
   "metadata": {},
   "outputs": [
    {
     "name": "stdout",
     "output_type": "stream",
     "text": [
      "4398 4232 1343 4358 3714 1065 231 2469 1480 2146 3725 252 3806\n"
     ]
    }
   ],
   "source": [
    "## 2021-06-27 codeabbey problem ID:16\n",
    "file = open(\"16.txt\")\n",
    "number = file.readline()\n",
    "result_list = []\n",
    "for i in range(int(number)):\n",
    "    raw_list = file.readline().split(\" \")\n",
    "    raw_list = list(map(lambda x: int(x),raw_list))\n",
    "    del raw_list[-1]\n",
    "    average = sum(raw_list)/float(len(raw_list))\n",
    "    if average > 0:\n",
    "        average =  int(average + 0.5)\n",
    "    if average < 0:\n",
    "        average =  int((abs(average) + 0.5))\n",
    "    result_list.append(average)\n",
    "print(*result_list, sep = \" \")\n",
    "file.close()"
   ]
  },
  {
   "cell_type": "code",
   "execution_count": null,
   "id": "c0c1ddea",
   "metadata": {},
   "outputs": [],
   "source": [
    "## 2021-06-27 codeabbey problem ID:17\n",
    "number = input(\"Please input your count of numbers:\")\n",
    "raw_list = input(\"Please input your list of numbers\").split(\" \")\n",
    "raw_list = list(map(lambda x: int(x), raw_list))\n",
    "result = 0\n",
    "for i in range(int(number)):\n",
    "     result = (result + raw_list[i])*113%10000007\n",
    "print(result)"
   ]
  },
  {
   "cell_type": "code",
   "execution_count": 7,
   "id": "a79978fb",
   "metadata": {},
   "outputs": [
    {
     "name": "stdout",
     "output_type": "stream",
     "text": [
      "194.8490039 951.9029512 11.3628434 53.7246725 8.9010679 9.3085141 255.1705857 3.6055513 6.4545455 6.3452634 9.5916923\n"
     ]
    }
   ],
   "source": [
    "## 2021-06-29 codeabbey problem ID:18\n",
    "file = open(\"18.txt\")\n",
    "number = file.readline()\n",
    "result_list = []\n",
    "for i in range(int(number)):\n",
    "    raw_list = file.readline().split(\" \")\n",
    "    raw_list = list(map(lambda x:int(x),raw_list))\n",
    "    r = 1\n",
    "    n = raw_list[1]\n",
    "    while True:\n",
    "        if n == 0:\n",
    "            break\n",
    "        else:\n",
    "            n=n-1\n",
    "        r = (r+raw_list[0]/r)/2.0\n",
    "    result_list.append(round(r,7))\n",
    "print(*result_list, sep = \" \")\n",
    "file.close()"
   ]
  },
  {
   "cell_type": "code",
   "execution_count": 25,
   "id": "7e5c8df9",
   "metadata": {},
   "outputs": [
    {
     "name": "stdout",
     "output_type": "stream",
     "text": [
      "{'(': [(3, 5), (26, 28), (19, 33), (18, 35), (48, 50), (40, 51)], '[': [(10, 12), (2, 16), (1, 39), (52, 54), (0, 55)], '{': [(6, 14), (30, 32), (36, 38), (42, 44)], '<': [(7, 9), (20, 22), (23, 25), (45, 47)]}\n",
      "{'(': [(22, 24), (31, 33), (29, 34)], '[': [(3, 26), (35, 37), (0, 40)], '{': [(7, 9), (19, 21), (27, 38)], '<': [(4, 6), (12, 13), (14, 16), (10, 17), (1, 18)]}\n",
      "count failed\n",
      "count failed\n",
      "{'(': [(17, 19), (34, 36), (38, 44), (10, 46)], '[': [(21, 23), (32, 37), (41, 43)], '{': [(1, 3), (14, 16), (27, 29), (30, 31)], '<': [(5, 7), (8, 11), (12, 20), (24, 26), (0, 39)]}\n",
      "count failed\n",
      "count failed\n",
      "{'(': [(12, 14), (17, 19), (31, 33)], '[': [(2, 10), (28, 30)], '{': [(4, 6), (3, 8), (0, 11), (22, 24), (20, 34), (38, 40), (41, 46)], '<': [(15, 16), (21, 26), (35, 37), (42, 44)]}\n",
      "{'(': [(26, 28), (23, 34), (12, 35), (38, 40), (0, 43)], '[': [(2, 4), (1, 6), (17, 19), (15, 20), (24, 29), (10, 42)], '{': [], '<': [(7, 9), (14, 22), (30, 32), (36, 41)]}\n",
      "{'(': [(8, 10), (16, 24), (14, 25), (37, 39)], '[': [(0, 5), (6, 7), (21, 28)], '{': [(1, 3), (11, 13), (17, 22), (30, 32), (29, 34)], '<': [(18, 20), (35, 40)]}\n",
      "{'(': [(1, 3), (16, 21)], '[': [(7, 9), (50, 52)], '{': [(0, 4), (6, 11), (12, 14), (17, 19), (5, 22), (24, 26), (33, 35), (32, 37)], '<': [(23, 28), (38, 40), (41, 43), (31, 45), (29, 46), (47, 49)]}\n",
      "count failed\n",
      "{'(': [(0, 2), (6, 8), (15, 17), (20, 22), (29, 31), (33, 35), (36, 40), (41, 43)], '[': [(19, 24), (49, 51)], '{': [(14, 25)], '<': [(3, 5), (9, 11), (26, 28), (12, 32), (37, 39), (46, 48), (44, 52)]}\n",
      "{'(': [(1, 17), (44, 46), (52, 54)], '[': [(6, 14), (15, 21), (24, 26), (30, 35), (49, 51), (23, 55)], '{': [(2, 4), (9, 11), (8, 13), (0, 22), (31, 33)], '<': [(18, 20), (27, 29), (36, 38), (40, 42), (43, 48)]}\n",
      "{'(': [(11, 13), (29, 31), (2, 37), (41, 43)], '[': [(0, 1), (4, 9), (26, 28), (18, 32), (38, 40)], '{': [(10, 15), (20, 22), (33, 35)], '<': [(6, 8), (23, 25), (16, 36)]}\n",
      "{'(': [(30, 35), (50, 52)], '[': [(3, 8), (9, 11), (12, 14), (2, 16), (36, 38), (1, 39), (0, 43)], '{': [(19, 21), (40, 42), (45, 47)], '<': [(4, 6), (17, 22), (23, 25), (26, 28), (31, 33), (44, 49), (53, 55)]}\n",
      "{'(': [(1, 3), (5, 7), (10, 15), (16, 21), (23, 25), (9, 37)], '[': [(38, 40)], '{': [(12, 14), (17, 19), (33, 35), (22, 36)], '<': [(0, 8), (26, 28), (29, 31)]}\n",
      "{'(': [(20, 22), (15, 23), (27, 29), (26, 34)], '[': [(1, 3), (5, 7), (16, 18), (30, 32), (36, 40)], '{': [(0, 8), (9, 35), (37, 39)], '<': [(11, 13), (14, 25)]}\n",
      "count failed\n",
      "{'(': [(0, 2), (3, 5), (11, 13), (6, 17), (40, 42), (38, 43)], '[': [(7, 9), (28, 30), (19, 33), (34, 36)], '{': [(20, 22), (27, 32)], '<': [(14, 16), (24, 26), (18, 37)]}\n",
      "1 0 0 0 0 0 0 1 1 0 1 0 1 0 1 1 1 1 0 1\n"
     ]
    }
   ],
   "source": [
    "## 2021-07-1 codeabbey problem ID:19\n",
    "# took about 5 hours\n",
    "file = open(\"19.txt\")\n",
    "number = file.readline()\n",
    "result_list = []\n",
    "pair_dic = {}\n",
    "test_list = {\"{\":\"}\",\"(\":\")\",\"[\":\"]\",\"<\":\">\"}\n",
    "compare_list = {\"{\":\"( [ <\",\"(\":\"{ [ <\",\"[\":\"{ ( <\",\"<\":\"{ ( [\"}\n",
    "for i in range(int(number)):\n",
    "    raw_list = list(file.readline())\n",
    "    result = True\n",
    "    for begin in [\"(\",\"[\",\"{\",\"<\"]:\n",
    "        close = test_list[begin]\n",
    "        position_list = []\n",
    "        pair_list = []\n",
    "        stck = []\n",
    "        for index, value in enumerate(raw_list):\n",
    "            if value in (begin,close):\n",
    "                group = (value,index)\n",
    "                position_list.append(group)\n",
    "        if len(position_list) % 2 != 0:\n",
    "            result = False\n",
    "            break\n",
    "        try:\n",
    "            for ele1, ele2 in position_list:\n",
    "                if begin in ele1:\n",
    "                    stck.append((ele1, ele2))\n",
    "                elif close in ele1:\n",
    "                    pair_list.append((stck.pop()[1], ele2))\n",
    "            pair_dic[begin] = pair_list\n",
    "        except:\n",
    "            result = False\n",
    "            break\n",
    "    if result == False:\n",
    "        result_list.append(0)\n",
    "        print(\"count failed\")\n",
    "        continue\n",
    "    for i in [\"(\",\"[\",\"{\",\"<\"]:\n",
    "        base_groups = pair_dic[i]\n",
    "        for group in base_groups:\n",
    "            start = group[0]\n",
    "            end = group[1]\n",
    "            for compare in compare_list[i].split(\" \"):\n",
    "                compare_groups = pair_dic[compare]\n",
    "                for c_group in compare_groups:\n",
    "                    if start < c_group[0] < end and end < c_group[1]:\n",
    "                        result = False\n",
    "                        break\n",
    "                    if c_group[0]< start and start < c_group[1] <end:\n",
    "                        result = False\n",
    "                        break\n",
    "            if result == False:\n",
    "                break\n",
    "    if result == False:\n",
    "        result_list.append(0)\n",
    "    else:\n",
    "        result_list.append(1)\n",
    "    print(pair_dic)\n",
    "print(*result_list, sep = \" \")\n",
    "file.close()"
   ]
  },
  {
   "cell_type": "code",
   "execution_count": null,
   "id": "10fe2cb9",
   "metadata": {},
   "outputs": [],
   "source": [
    "## 2021-07-3 codeabbey problem ID:20\n",
    "# 20 mins\n",
    "file = open(\"20.txt\")\n",
    "numbers = file.readline()\n",
    "result_list = []\n",
    "for i in range(int(numbers)):\n",
    "    raw_list = list(file.readline())\n",
    "    vowel = [x for x in raw_list if x in (\"a\",\"e\",\"i\",\"o\",\"u\",\"y\")] \n",
    "    result_list.append(len(vowel))\n",
    "    \n",
    "print(*result_list, \" \")\n",
    "file.close()"
   ]
  },
  {
   "cell_type": "code",
   "execution_count": 8,
   "id": "7be4cda8",
   "metadata": {},
   "outputs": [],
   "source": [
    "## 2021-07-3 codeabbey problem ID:21\n",
    "# 10 mins\n",
    "numbers = input(\"please input your first line: \").split(\" \")\n",
    "raw_list = input(\"please input your list of numbers: \").split(\" \")\n",
    "raw_list = list(map(lambda x: int(x),raw_list))\n",
    "result_list = []\n",
    "unique_list =list(set(raw_list))\n",
    "unique_list.sort(reverse = False)\n",
    "for i in range(len(unique_list)):\n",
    "    count = [x for x in raw_list if x == unique_list[i]]\n",
    "    result_list.append(len(count))\n",
    "    \n",
    "print(*result_list,\" \")"
   ]
  },
  {
   "cell_type": "code",
   "execution_count": null,
   "id": "0781e83f",
   "metadata": {},
   "outputs": [],
   "source": [
    "## 2021-07-4 codeabbey problem ID:22\n",
    "# 2 hours\n",
    "file = open(\"22.txt\")\n",
    "number = file.readline()\n",
    "result_list = []\n",
    "for i in range(int(number)):\n",
    "    raw_list = file.readline().split(\" \")\n",
    "    raw_list = list(map(lambda x: int(x),raw_list))\n",
    "    x = raw_list[0]\n",
    "    y = raw_list[1]\n",
    "    n = raw_list[2]\n",
    "    n1 = int(n/(1/x+1/y)/max(x,y)+0.5)\n",
    "    print(*[x,y,n,n1],\" \")\n",
    "    while True: \n",
    "        time1 = max((n-n1)*min(x,y),(n1)*max(x,y))\n",
    "        time2 = max((n-n1+1)*min(x,y),(n1-1)*max(x,y))\n",
    "        if time2>=time1:\n",
    "            break\n",
    "        n1 =n1-1\n",
    "    print(time1)\n",
    "    result_list.append(time1)\n",
    "print(*result_list,\" \")\n",
    "file.close()"
   ]
  },
  {
   "cell_type": "code",
   "execution_count": 4,
   "id": "42633452",
   "metadata": {},
   "outputs": [
    {
     "name": "stdout",
     "output_type": "stream",
     "text": [
      "please input your line of numbers: 4746 20956 3 98 7594 610 8 92 228 34 130 75 0 6 812 39 3 442 9 26139 835 0 5308 9689 151 7144 2331 964 7 23 2664 44 3018 88 2080 804 374 28328 57 3110 715 57 -1\n",
      "38 2232746\n"
     ]
    }
   ],
   "source": [
    "## 2021-07-5 codeabbey problem ID:22\n",
    "# 20 mins\n",
    "numbers_list = input(\"please input your line of numbers: \").split(\" \")\n",
    "numbers_list= list(map(lambda x: int(x),numbers_list))\n",
    "del numbers_list[-1]\n",
    "swap_count = 0 \n",
    "for i in range(len(numbers_list)-1):\n",
    "    if numbers_list[i] > numbers_list[i+1]:\n",
    "        numbers_list[i],numbers_list[i+1] = numbers_list[i+1],numbers_list[i]\n",
    "        swap_count +=1\n",
    "result = 0\n",
    "for i in range(len(numbers_list)):\n",
    "    result = (result + numbers_list[i])*113%10000007\n",
    "\n",
    "print(swap_count,result)"
   ]
  },
  {
   "cell_type": "code",
   "execution_count": null,
   "id": "bc223b39",
   "metadata": {},
   "outputs": [],
   "source": [
    "## 2021-07-06 codeabbey problem ID:23\n",
    "# 20 mins\n",
    "number = input(\"please input your number of items: \")\n",
    "raw_list = input(\"Please input your numbers: \").split(\" \")\n",
    "raw_list = [int(x) for x in raw_list]\n",
    "result_list = []\n",
    "for i in range(int(number)):\n",
    "    loop_list = []\n",
    "    counter = 0\n",
    "    loop_list.append(raw_list[i])\n",
    "    current_number = raw_list[i]\n",
    "    while True:\n",
    "        next_number = int((current_number**2/100)%10000)\n",
    "        counter +=1\n",
    "        if next_number in loop_list:\n",
    "            break\n",
    "        current_number = next_number\n",
    "        loop_list.append(next_number)\n",
    "    #print(loop_list)\n",
    "    #print(counter)\n",
    "    result_list.append(counter)\n",
    "print(*result_list, \" \")"
   ]
  }
 ],
 "metadata": {
  "kernelspec": {
   "display_name": "Python 3",
   "language": "python",
   "name": "python3"
  },
  "language_info": {
   "codemirror_mode": {
    "name": "ipython",
    "version": 3
   },
   "file_extension": ".py",
   "mimetype": "text/x-python",
   "name": "python",
   "nbconvert_exporter": "python",
   "pygments_lexer": "ipython3",
   "version": "3.9.5"
  }
 },
 "nbformat": 4,
 "nbformat_minor": 5
}
