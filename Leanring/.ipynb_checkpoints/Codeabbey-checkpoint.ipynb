{
 "cells": [
  {
   "cell_type": "code",
   "execution_count": 6,
   "metadata": {},
   "outputs": [
    {
     "name": "stdout",
     "output_type": "stream",
     "text": [
      "227*269*359*367*439 181*263*281*421*557 79*239*263*277*337 373*397*547*599 223*379*409*431*457 149*181*359*541*563 181*233*367*457*563 109*251*281*283*367 71*127*149*281*557 233*331*353*397*479 59*139*277*379*577 97*229*439*457*499 443*457*487*571 67*239*359*443*443 109*163*197*271*359 349*557*557*587 191*431*587*599 79*229*233*263*409 109*131*199*239*353 73*193*293*307*503 151*163*311*317*433 173*239*337*401*431  \n"
     ]
    }
   ],
   "source": []
  }
 ],
 "metadata": {
  "kernelspec": {
   "display_name": "Python 3",
   "language": "python",
   "name": "python3"
  },
  "language_info": {
   "codemirror_mode": {
    "name": "ipython",
    "version": 3
   },
   "file_extension": ".py",
   "mimetype": "text/x-python",
   "name": "python",
   "nbconvert_exporter": "python",
   "pygments_lexer": "ipython3",
   "version": "3.7.2"
  }
 },
 "nbformat": 4,
 "nbformat_minor": 2
}
