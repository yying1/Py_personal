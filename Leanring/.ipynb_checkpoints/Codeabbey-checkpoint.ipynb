{
 "cells": [
  {
   "cell_type": "code",
   "execution_count": null,
   "metadata": {},
   "outputs": [],
   "source": [
    "#2021-06-17 codeabbey problem ID:1\n",
    "#We need to sum two numbers and tell the result. \n",
    "a,b = input().split(\" \")\n",
    "print(int(a)+int(b))"
   ]
  },
  {
   "cell_type": "code",
   "execution_count": null,
   "metadata": {},
   "outputs": [],
   "source": [
    "#2021-06-19 codeabbey problem ID:2\n",
    "number = input()\n",
    "sum_list = input().split(\" \")\n",
    "sum_result = 0\n",
    "for n in range(int(number)):\n",
    "    sum_result = sum_result+int(sum_list[n])\n",
    "sum_result\n",
    "\n",
    "#solution\n",
    "# x = input()\n",
    "# print(sum(int(x) for x in input().split()))"
   ]
  },
  {
   "cell_type": "code",
   "execution_count": null,
   "metadata": {},
   "outputs": [],
   "source": [
    "#2021-06-20 codeabbey problem ID:3\n",
    "number = input(\"Please input your number of pairs: \")\n",
    "sum_result = []\n",
    "for n in range(int(number)):\n",
    "    pair = input(\"Please input your pair of numbers: \").split(\" \")\n",
    "    pair = map(lambda x: int(x), pair)\n",
    "    sum_result.append(sum(pair))\n",
    "print(*sum_result, sep = \" \")"
   ]
  },
  {
   "cell_type": "code",
   "execution_count": null,
   "metadata": {},
   "outputs": [],
   "source": [
    "## 2021-06-20 codeabbey problem ID:4\n",
    "number = input(\"Please input your number of pairs: \")\n",
    "min_result = []\n",
    "for n in range(int(number)):\n",
    "    pair = input(\"Please input your pair of numbers: \").split(\" \")\n",
    "    pair = list(map(lambda x: int(x), pair))\n",
    "    if pair[0] < pair[1]:\n",
    "        min_result.append(pair[0])\n",
    "    else: \n",
    "        min_result.append(pair[1])\n",
    "print(*min_result, sep = \" \")"
   ]
  },
  {
   "cell_type": "code",
   "execution_count": null,
   "metadata": {},
   "outputs": [],
   "source": [
    "## 2021-06-21 codeabbey problem ID:5\n",
    "number = input(\"Please input your number of pairs: \")\n",
    "min_result = []\n",
    "for n in range(int(number)):\n",
    "    pair = input(\"Please input your pair of three numbers: \").split(\" \")\n",
    "    pair = list(map(lambda x: int(x), pair))\n",
    "    min_result.append(min(pair))\n",
    "print(*min_result, sep = \" \")"
   ]
  },
  {
   "cell_type": "code",
   "execution_count": null,
   "metadata": {},
   "outputs": [],
   "source": [
    "## 2021-06-21 codeabbey problem ID:6\n",
    "number = input(\"Please input your number of pairs: \")\n",
    "round_result = []\n",
    "for n in range(int(number)):\n",
    "    pair = input(\"Please input your pair of numbers: \").split(\" \")\n",
    "    pair = list(map(lambda x: float(x), pair))\n",
    "    result = pair[0]/pair[1]\n",
    "    if str(result).endswith(\".5\"):\n",
    "        result = result +0.5\n",
    "    round_result.append(round(result))\n",
    "print(*round_result, sep = \" \")\n",
    "\n",
    "#for x in array:\n",
    "#    y = float(x[0])/x[1]\n",
    "#    if y > 0:\n",
    "#        print int(y + 0.5)\n",
    "#    if y < 0:\n",
    "#        print - int((abs(y) + 0.5))"
   ]
  }
 ],
 "metadata": {
  "kernelspec": {
   "display_name": "Python 3",
   "language": "python",
   "name": "python3"
  },
  "language_info": {
   "codemirror_mode": {
    "name": "ipython",
    "version": 3
   },
   "file_extension": ".py",
   "mimetype": "text/x-python",
   "name": "python",
   "nbconvert_exporter": "python",
   "pygments_lexer": "ipython3",
   "version": "3.7.2"
  }
 },
 "nbformat": 4,
 "nbformat_minor": 5
}
