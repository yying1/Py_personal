{
 "cells": [
  {
   "cell_type": "markdown",
   "id": "2b7d0cf8",
   "metadata": {},
   "source": [
    "# Python CheatSheet for Data Science | By Frank Yue Ying\n",
    "\n",
    "### Last updated on 2022-06-19\n",
    "\n",
    "Topics: Pandas, Numpy, OS, Jupyter Notebook\n",
    "\n",
    "---"
   ]
  },
  {
   "cell_type": "markdown",
   "id": "2f9cc66f",
   "metadata": {},
   "source": [
    "# Directory\n",
    "| Task | Note | Package | External Link |\n",
    "| :-- |:-- | :-- | :- |\n",
    "| [Iterate Directory and scan files](#iteratedirectory) | |  os |- |\n",
    "|[pandas Date conversion](#pandasdate) | | pd | -|\n",
    "| [pandas Groupby](#pandasgroupby) | | pd |- |\n",
    "| [pandas Print entire dataframe](#pandasprint) | | pd |-|\n",
    "| [Merge two jupyter notebooks](#mergenotebook) | | nbformat |-|\n",
    "| Use Python to update Google Sheet through API | Need to create service credential on Google API first  | *multiple* | [GoogleSheet_API.ipynb](./Learning/Other/GoogleSheet_API.ipynb#)| \n",
    "| [Load .env file as environment variables into python](#loadenv) | create .env file | os, dotenv | - |"
   ]
  },
  {
   "cell_type": "markdown",
   "id": "1e4ce361",
   "metadata": {},
   "source": [
    "### Read through directory and scan files\n",
    "<a id=\"iteratedirectory\"></a>"
   ]
  },
  {
   "cell_type": "code",
   "execution_count": null,
   "id": "1ccefb7a",
   "metadata": {},
   "outputs": [],
   "source": [
    "import os\n",
    "Dir = r\"C:\\Users\\yingy\\Desktop\\Discoverability\\Raw_Data\"\n",
    "files = os.listdir(Dir)\n",
    "for f in files:\n",
    "    df = pd.read_excel(os.path.join(Dir, f))"
   ]
  },
  {
   "cell_type": "markdown",
   "id": "547c001d",
   "metadata": {},
   "source": [
    "### Convert dataframe column of String date (2020-06-10) into week (24) and year (2020) numbers\n",
    "<a id=\"pandasdate\"></a>"
   ]
  },
  {
   "cell_type": "code",
   "execution_count": null,
   "id": "9117f4f4",
   "metadata": {},
   "outputs": [],
   "source": [
    "import pandas as pd\n",
    "raw_dt['date'] = pd.to_datetime(raw_dt['date'], errors ='coerce')\n",
    "raw_dt['week'] = raw_dt['date'].dt.week\n",
    "raw_dt['year'] = raw_dt['date'].dt.year"
   ]
  },
  {
   "cell_type": "markdown",
   "id": "1725c85e",
   "metadata": {},
   "source": [
    "### Pandas Groupby\n",
    "<a id=\"pandasgroupby\"></a>"
   ]
  },
  {
   "cell_type": "code",
   "execution_count": null,
   "id": "21160f98",
   "metadata": {},
   "outputs": [],
   "source": [
    "# Groupby user id & week, show value as sum of amount column\n",
    "dt1 = dt_2020.groupby([\"user_id\",\"week\"]).agg({'amount':'sum'})"
   ]
  },
  {
   "cell_type": "markdown",
   "id": "30e548d2",
   "metadata": {},
   "source": [
    "### Print entire dataframe\n",
    "<a id=\"pandasprint\"></a>"
   ]
  },
  {
   "cell_type": "code",
   "execution_count": null,
   "id": "cc1f941f",
   "metadata": {},
   "outputs": [],
   "source": [
    "with pd.option_context('display.max_rows', None, 'display.max_columns', None):  # more options can be specified also\n",
    "    print(dt1)"
   ]
  },
  {
   "cell_type": "markdown",
   "id": "c75c53ea",
   "metadata": {},
   "source": [
    "### Merge Jupyter Notebook Files\n",
    "<a id=\"mergenotebook\"></a>"
   ]
  },
  {
   "cell_type": "code",
   "execution_count": null,
   "id": "c0a4524e",
   "metadata": {},
   "outputs": [],
   "source": [
    "import nbformat\n",
    "# Reading the notebooks\n",
    "first_notebook = nbformat.read('Airtable_Modelv1_Attributes_Frank.ipynb', 4)\n",
    "second_notebook = nbformat.read('Age of checking accounts in days.ipynb', 4)\n",
    "# Creating a new notebook\n",
    "final_notebook = nbformat.v4.new_notebook(metadata=first_notebook.metadata)\n",
    "# Concatenating the notebooks\n",
    "final_notebook.cells = first_notebook.cells + second_notebook.cells\n",
    "# Saving the new notebook \n",
    "nbformat.write(final_notebook, 'final_notebook.ipynb')"
   ]
  },
  {
   "cell_type": "markdown",
   "id": "61388083",
   "metadata": {},
   "source": [
    "### Load .env file as environment variables into python\n",
    "<a id=\"loadenv\"></a>"
   ]
  },
  {
   "cell_type": "code",
   "execution_count": null,
   "id": "2ce20845",
   "metadata": {},
   "outputs": [],
   "source": [
    "import os\n",
    "from dotenv import load_dotenv"
   ]
  },
  {
   "cell_type": "code",
   "execution_count": null,
   "id": "a5438b55",
   "metadata": {},
   "outputs": [],
   "source": [
    "# load environment file and variables\n",
    "load_dotenv(\"airtable.env\")\n",
    "AIRTABLE_TOKEN = os.getenv(\"Airtable_token\")\n",
    "AIRTABLE_BASE_ID = os.getenv(\"Airtable_base_id\")"
   ]
  },
  {
   "cell_type": "code",
   "execution_count": null,
   "id": "6bc255a2",
   "metadata": {},
   "outputs": [],
   "source": []
  },
  {
   "cell_type": "code",
   "execution_count": null,
   "id": "dbdb4366",
   "metadata": {},
   "outputs": [],
   "source": []
  }
 ],
 "metadata": {
  "kernelspec": {
   "display_name": "Python 3 (ipykernel)",
   "language": "python",
   "name": "python3"
  },
  "language_info": {
   "codemirror_mode": {
    "name": "ipython",
    "version": 3
   },
   "file_extension": ".py",
   "mimetype": "text/x-python",
   "name": "python",
   "nbconvert_exporter": "python",
   "pygments_lexer": "ipython3",
   "version": "3.10.0"
  }
 },
 "nbformat": 4,
 "nbformat_minor": 5
}
