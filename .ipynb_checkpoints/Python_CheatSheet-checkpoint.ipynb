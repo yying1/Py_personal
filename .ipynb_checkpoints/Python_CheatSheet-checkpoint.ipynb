{
 "cells": [
  {
   "cell_type": "markdown",
   "id": "2b7d0cf8",
   "metadata": {},
   "source": [
    "# Python CheatSheet | By Frank Yue Ying"
   ]
  },
  {
   "cell_type": "markdown",
   "id": "37271aca",
   "metadata": {},
   "source": [
    "### Last updated on 2022-05-14\n",
    "Topics: Pandas, Numpy, OS,"
   ]
  },
  {
   "cell_type": "code",
   "execution_count": null,
   "id": "701655f9",
   "metadata": {},
   "outputs": [],
   "source": [
    "import pandas as pd\n",
    "import os"
   ]
  },
  {
   "cell_type": "markdown",
   "id": "1e4ce361",
   "metadata": {},
   "source": [
    "### Read through directory and scan files"
   ]
  },
  {
   "cell_type": "code",
   "execution_count": null,
   "id": "1ccefb7a",
   "metadata": {},
   "outputs": [],
   "source": [
    "Dir = r\"C:\\Users\\yingy\\Desktop\\Discoverability\\Raw_Data\"\n",
    "files = os.listdir(Dir)\n",
    "for f in files:\n",
    "    df = pd.read_excel(os.path.join(Dir, f))"
   ]
  },
  {
   "cell_type": "markdown",
   "id": "547c001d",
   "metadata": {},
   "source": [
    "### Convert dataframe column of String date (2020-06-10) into week (24) and year (2020) numbers"
   ]
  },
  {
   "cell_type": "code",
   "execution_count": null,
   "id": "9117f4f4",
   "metadata": {},
   "outputs": [],
   "source": [
    "raw_dt['date'] = pd.to_datetime(raw_dt['date'], errors ='coerce')\n",
    "raw_dt['week'] = raw_dt['date'].dt.week\n",
    "raw_dt['year'] = raw_dt['date'].dt.year"
   ]
  },
  {
   "cell_type": "markdown",
   "id": "1725c85e",
   "metadata": {},
   "source": [
    "### Pandas Groupby"
   ]
  },
  {
   "cell_type": "code",
   "execution_count": null,
   "id": "21160f98",
   "metadata": {},
   "outputs": [],
   "source": [
    "# Groupby user id & week, show value as sum of amount column\n",
    "dt1 = dt_2020.groupby([\"user_id\",\"week\"]).agg({'amount':'sum'})"
   ]
  },
  {
   "cell_type": "markdown",
   "id": "30e548d2",
   "metadata": {},
   "source": [
    "### Print entire dataframe"
   ]
  },
  {
   "cell_type": "code",
   "execution_count": null,
   "id": "cc1f941f",
   "metadata": {},
   "outputs": [],
   "source": [
    "with pd.option_context('display.max_rows', None, 'display.max_columns', None):  # more options can be specified also\n",
    "    print(dt1)"
   ]
  }
 ],
 "metadata": {
  "kernelspec": {
   "display_name": "Python 3 (ipykernel)",
   "language": "python",
   "name": "python3"
  },
  "language_info": {
   "codemirror_mode": {
    "name": "ipython",
    "version": 3
   },
   "file_extension": ".py",
   "mimetype": "text/x-python",
   "name": "python",
   "nbconvert_exporter": "python",
   "pygments_lexer": "ipython3",
   "version": "3.10.0"
  }
 },
 "nbformat": 4,
 "nbformat_minor": 5
}
