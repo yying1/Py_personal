{
 "cells": [
  {
   "cell_type": "code",
   "execution_count": 11,
   "id": "1fecc00f",
   "metadata": {},
   "outputs": [
    {
     "name": "stdout",
     "output_type": "stream",
     "text": [
      "654 1246 695316\n",
      "t1%y 107.0 597.0\n",
      "1.0 428.0 error?\n",
      "298211574.0\n",
      "3156 12021 13720\n",
      "t1%y 268.0 3085.0\n",
      "1.0 2499.0 error?\n",
      "34296252.0\n",
      "2 15 61043038\n",
      "t1%y 13.0 0.0\n",
      "1.0 1.0 error?\n",
      "107723010.0\n",
      "78 107 8765908\n",
      "t1%y 37.0 51.0\n",
      "1.0 45.0 error?\n",
      "395460936.0\n",
      "51390496 125625803 3\n",
      "t1%y 109413184.0 6632192.0\n",
      "1.0 36471061.0 error?\n",
      "154171488.0\n",
      "2630969 2824771 255\n",
      "t1%y 2742485.0 76639.0\n",
      "1.0 1362213.0 error?\n",
      "349918877.0\n",
      "67623 227466 2436\n",
      "t1%y 53932.0 51589.0\n",
      "1.0 52126.0 error?\n",
      "126995994.0\n",
      "2 2 56654285\n",
      "t1%y 1.0 1.0\n",
      "1.0 1.0 error?\n",
      "56654286.0\n",
      "1 1 980984691\n",
      "t1%y 0.0 0.0\n",
      "490492346.0\n",
      "7482397 20885280 39\n",
      "t1%y 5990533.0 5336217.0\n",
      "1.0 5508803.0 error?\n",
      "216989513.0\n",
      "33667 33995 24307\n",
      "t1%y 19866.0 13992.0\n",
      "1.0 16915.0 error?\n",
      "411175071.0\n",
      "1729 3050 252278\n",
      "t1%y 2905.0 81.0\n",
      "1.0 1103.0 error?\n",
      "278381103.0\n",
      "6 8 68612660\n",
      "t1%y 5.0 1.0\n",
      "1.0 3.0 error?\n",
      "235243410.0\n",
      "9441288 13433101 56\n",
      "t1%y 1527556.0 8367663.0\n",
      "1.0 5544444.0 error?\n",
      "311562504.0\n",
      "161627 180429 2269\n",
      "t1%y 25124.0 139120.0\n",
      "1.0 85255.0 error?\n",
      "193467519.0\n",
      "3 5 87109273\n",
      "t1%y 1.0 1.0\n",
      "1.0 1.0 error?\n",
      "163329888.0\n",
      "4 105 8435783\n",
      "t1%y 1.0 3.0\n",
      "1.0 3.0 error?\n",
      "32504852.0\n",
      "2114 2637 50721\n",
      "t1%y 2012.0 500.0\n",
      "1.0 1173.0 error?\n",
      "59515442.0\n",
      "2 17 50841617\n",
      "t1%y 2.0 1.0\n",
      "1.0 1.0 error?\n",
      "90979736.0\n",
      "298211574.0 34296252.0 107723010.0 395460936.0 154171488.0 349918877.0 126995994.0 56654286.0 490492346.0 216989513.0 411175071.0 278381103.0 235243410.0 311562504.0 193467519.0 163329888.0 32504852.0 59515442.0 90979736.0\n"
     ]
    }
   ],
   "source": [
    "import math\n",
    "file = open('21.txt')\n",
    "\n",
    "n = file.readline()\n",
    "result = []\n",
    "\n",
    "for i in range(int(n)):\n",
    "    case = file.readline().split(' ')\n",
    "    case = list(map(lambda x : int(x),case))\n",
    "    x = min(case[0:2])\n",
    "    y = max(case[0:2])\n",
    "    p = case[2]\n",
    "    print(x,y,p)\n",
    "    \n",
    "    t1= p//(1/x+1/y)\n",
    "    remain_p = p - t1//x - t1//y\n",
    "    print(\"t1%y\", t1%y,t1%x)\n",
    "    if remain_p//(1/x+1/y) == 0:\n",
    "        t2 = math.ceil(remain_p*x-t1%x)\n",
    "    else:\n",
    "        print(remain_p,remain_p//(1/x+1/y),\"error?\")\n",
    "        t2 = math.ceil(remain_p*x-t1%x)\n",
    "    t = t1 + t2\n",
    "    #print(t1,r,t2,t)\n",
    "    print(t)\n",
    "    result.append(t)\n",
    "\n",
    "print(' '.join(str(i) for i in result))\n",
    "file.close()"
   ]
  },
  {
   "cell_type": "code",
   "execution_count": null,
   "id": "fa8483ce",
   "metadata": {},
   "outputs": [],
   "source": [
    "298211574 34296252 107723010 395460936 125625803 347446833 126995994 56654286 490492346 216989513 411169525 278379600 235243408 311562504 193467519 163329888 32504852 59514453 90979736"
   ]
  },
  {
   "cell_type": "code",
   "execution_count": null,
   "id": "3bffd2fc",
   "metadata": {},
   "outputs": [],
   "source": [
    "a,b = divmod(13*6,5)\n",
    "print(a,b)"
   ]
  },
  {
   "cell_type": "code",
   "execution_count": null,
   "id": "aba3c5fc",
   "metadata": {},
   "outputs": [],
   "source": [
    "370828949 396680871 308686398 473701824 386200708 200072160 211517823 221564112 288392313 363013942 80913294 217047600 395901696 86032680 82800423 377499860 355723574"
   ]
  },
  {
   "cell_type": "code",
   "execution_count": 14,
   "id": "b396dd18",
   "metadata": {},
   "outputs": [
    {
     "data": {
      "text/plain": [
       "177016299"
      ]
     },
     "execution_count": 14,
     "metadata": {},
     "output_type": "execute_result"
    }
   ],
   "source": [
    "125625803+51390496 -"
   ]
  }
 ],
 "metadata": {
  "kernelspec": {
   "display_name": "Python 3",
   "language": "python",
   "name": "python3"
  },
  "language_info": {
   "codemirror_mode": {
    "name": "ipython",
    "version": 3
   },
   "file_extension": ".py",
   "mimetype": "text/x-python",
   "name": "python",
   "nbconvert_exporter": "python",
   "pygments_lexer": "ipython3",
   "version": "3.9.5"
  }
 },
 "nbformat": 4,
 "nbformat_minor": 5
}
