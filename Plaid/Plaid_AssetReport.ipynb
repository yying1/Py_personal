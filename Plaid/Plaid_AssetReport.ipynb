{
 "cells": [
  {
   "cell_type": "markdown",
   "id": "61ae0880",
   "metadata": {},
   "source": [
    "# Extract Plaid Asset Report based on report token\n",
    "## Last Updated: 2022-05-31"
   ]
  },
  {
   "cell_type": "markdown",
   "id": "5f1c76d4",
   "metadata": {},
   "source": [
    "### Reference\n",
    "1. Using the customer_plaid_asset_report_ids.csv file to extract asset report token\n",
    "2. This script use environment variables to hide client ID and secret, referenced from https://dev.to/jakewitcher/using-env-files-for-environment-variables-in-python-applications-55a1"
   ]
  },
  {
   "cell_type": "markdown",
   "id": "8b0b22aa",
   "metadata": {},
   "source": [
    "---"
   ]
  },
  {
   "cell_type": "markdown",
   "id": "e60727ce",
   "metadata": {},
   "source": [
    "### Code"
   ]
  },
  {
   "cell_type": "code",
   "execution_count": 1,
   "id": "7fc90320",
   "metadata": {},
   "outputs": [],
   "source": [
    "# basic libraries\n",
    "import requests\n",
    "import json\n",
    "from datetime import date\n",
    "from datetime import datetime\n",
    "import pandas as pd\n",
    "import os\n",
    "from dotenv import load_dotenv\n",
    "from pathlib import Path\n",
    "\n",
    "dotenv_path = Path('myplaid.env')\n",
    "load_dotenv(dotenv_path=dotenv_path)\n",
    "\n",
    "client_id = os.getenv('PLAID_CLIENT_ID')\n",
    "secret = os.getenv('PLAID_SECRET')"
   ]
  },
  {
   "cell_type": "code",
   "execution_count": 2,
   "id": "600a424d",
   "metadata": {},
   "outputs": [],
   "source": [
    "# Extracting Asset report ID and token\n",
    "\n",
    "## read file\n",
    "customer_assetreport = pd.read_csv(\"customer_plaid_asset_report_ids.csv\", encoding = 'utf-8')\n",
    "\n",
    "## filter dataframe with valid asset report token \n",
    "customer_assetreport = customer_assetreport[customer_assetreport['Asset report token'].str.contains(\"production\")] \n",
    "\n",
    "## make local directory and path variable to store files\n",
    "isExist = os.path.exists(\"AssetReports\")\n",
    "if not isExist:\n",
    "    os.mkdir(\"AssetReports\")\n",
    "path = \"AssetReports/\""
   ]
  },
  {
   "cell_type": "code",
   "execution_count": 3,
   "id": "ba091e91",
   "metadata": {},
   "outputs": [],
   "source": [
    "# Set request URL and variable\n",
    "url = \"https://production.plaid.com/asset_report/get\"\n",
    "asset_report_token = ''"
   ]
  },
  {
   "cell_type": "code",
   "execution_count": 6,
   "id": "975c333f",
   "metadata": {},
   "outputs": [],
   "source": [
    "# Set functions to send request and parse response\n",
    "def assetreport_request(url,client_id,secret,asset_report_token):\n",
    "    payload = json.dumps({\n",
    "      \"client_id\": client_id,\n",
    "      \"secret\": secret,\n",
    "      \"asset_report_token\": asset_report_token\n",
    "    })\n",
    "    headers = {\n",
    "      'Content-Type': 'application/json'\n",
    "    }\n",
    "    response = requests.request(\"POST\", url, headers=headers, data=payload)\n",
    "    return response\n",
    "def writereport_json(path,response,asset_report_token):\n",
    "    report_data = response.json()['report']\n",
    "    json_string = json.dumps(report_data,default=str)\n",
    "    with open(path+asset_report_token+'.json', 'w') as outfile:\n",
    "        outfile.write(json_string)"
   ]
  },
  {
   "cell_type": "code",
   "execution_count": 7,
   "id": "9bab1d2e",
   "metadata": {},
   "outputs": [],
   "source": [
    "# iterate customer_assetreport to get reports into JSON files\n",
    "## now only set to take the top three rows of the client data\n",
    "for index, row in customer_assetreport[:3].iterrows():\n",
    "    asset_report_token = row['Asset report token']\n",
    "    response = assetreport_request(url,client_id,secret,asset_report_token)\n",
    "    writereport_json(path,response,asset_report_token)"
   ]
  }
 ],
 "metadata": {
  "kernelspec": {
   "display_name": "Python 3 (ipykernel)",
   "language": "python",
   "name": "python3"
  },
  "language_info": {
   "codemirror_mode": {
    "name": "ipython",
    "version": 3
   },
   "file_extension": ".py",
   "mimetype": "text/x-python",
   "name": "python",
   "nbconvert_exporter": "python",
   "pygments_lexer": "ipython3",
   "version": "3.8.9"
  }
 },
 "nbformat": 4,
 "nbformat_minor": 5
}
