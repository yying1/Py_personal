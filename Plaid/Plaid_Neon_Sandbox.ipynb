{
 "cells": [
  {
   "cell_type": "markdown",
   "id": "8a936f44",
   "metadata": {},
   "source": [
    "# Using Python for Plaid API\n",
    "## Last Updated: 2022-05-26"
   ]
  },
  {
   "cell_type": "markdown",
   "id": "1821dc0f",
   "metadata": {},
   "source": [
    "---"
   ]
  },
  {
   "cell_type": "markdown",
   "id": "2ac985d9",
   "metadata": {},
   "source": [
    "### Reference\n",
    "1. Using Plaid Postsman for no-code API exploration: https://www.postman.com/plaid-api/workspace/plaid/overview, use the instruction here: https://github.com/plaid/plaid-postman\n",
    "2. Using Python for API: https://github.com/plaid/plaid-python"
   ]
  },
  {
   "cell_type": "markdown",
   "id": "67cb13b6",
   "metadata": {},
   "source": [
    "### Setup\n",
    "Install plaid-python"
   ]
  },
  {
   "cell_type": "markdown",
   "id": "8025dc65",
   "metadata": {},
   "source": [
    "### Code"
   ]
  },
  {
   "cell_type": "code",
   "execution_count": 2,
   "id": "d762bb55",
   "metadata": {},
   "outputs": [],
   "source": [
    "# basic libraries\n",
    "import plaid\n",
    "from plaid.api import plaid_api\n",
    "import json\n",
    "from datetime import date\n",
    "from datetime import datetime"
   ]
  },
  {
   "cell_type": "markdown",
   "id": "b3fa41fe",
   "metadata": {},
   "source": [
    "***"
   ]
  },
  {
   "cell_type": "markdown",
   "id": "4d526d37",
   "metadata": {},
   "source": [
    "#### >This is from Postman's code snippet"
   ]
  },
  {
   "cell_type": "code",
   "execution_count": null,
   "id": "62ebfb33",
   "metadata": {},
   "outputs": [],
   "source": [
    "import http.client\n",
    "import json\n",
    "\n",
    "conn = http.client.HTTPSConnection(\"sandbox.plaid.com\")\n",
    "payload = json.dumps({\n",
    "  \"client_id\": \"5e7651a8c2c21f00134cb8d9\",\n",
    "  \"secret\": \"6db12841a970cdb3829ae87f465f90\",\n",
    "  \"institution_id\": \"ins_3\",\n",
    "  \"initial_products\": [\n",
    "    \"auth\"\n",
    "  ],\n",
    "  \"options\": {\n",
    "    \"webhook\": \"https://www.genericwebhookurl.com/webhook\"\n",
    "  }\n",
    "})\n",
    "headers = {\n",
    "  'Content-Type': 'application/json'\n",
    "}\n",
    "conn.request(\"POST\", \"/sandbox/public_token/create\", payload, headers)\n",
    "res = conn.getresponse()\n",
    "data = res.read()\n",
    "data_json = json.loads(data.decode(\"utf-8\"))\n",
    "print(data_json[\"public_token\"])"
   ]
  },
  {
   "cell_type": "markdown",
   "id": "c9bacc12",
   "metadata": {},
   "source": [
    "---"
   ]
  },
  {
   "cell_type": "markdown",
   "id": "7b7915eb",
   "metadata": {},
   "source": [
    "#### >This is from Official Plaid Python package\n",
    "https://github.com/plaid/plaid-python"
   ]
  },
  {
   "cell_type": "code",
   "execution_count": 3,
   "id": "5a333c3d",
   "metadata": {},
   "outputs": [],
   "source": [
    "# Available environments are\n",
    "# 'Production'\n",
    "# 'Development'\n",
    "# 'Sandbox'\n",
    "configuration = plaid.Configuration(\n",
    "    host=plaid.Environment.Sandbox,\n",
    "    api_key={\n",
    "        'clientId': \"5e7651a8c2c21f00134cb8d9\",\n",
    "        'secret': \"6db12841a970cdb3829ae87f465f90\",\n",
    "    }\n",
    ")\n",
    "# get clientID and secret from https://dashboard.plaid.com/team/keys \n",
    "# DO NOT UPLOAD api key values to public repo!\n",
    "\n",
    "api_client = plaid.ApiClient(configuration)\n",
    "client = plaid_api.PlaidApi(api_client)"
   ]
  },
  {
   "cell_type": "code",
   "execution_count": 5,
   "id": "806f4f3e",
   "metadata": {},
   "outputs": [],
   "source": [
    "# Get access token, this is required to pull reports\n",
    "from plaid.model.sandbox_public_token_create_request import SandboxPublicTokenCreateRequest\n",
    "from plaid.model.products import Products\n",
    "from plaid.model.item_public_token_exchange_request import ItemPublicTokenExchangeRequest\n",
    "pt_request = SandboxPublicTokenCreateRequest(\n",
    "    institution_id=\"ins_3\",\n",
    "    initial_products=[Products('assets')]\n",
    ")\n",
    "pt_response = client.sandbox_public_token_create(pt_request)\n",
    "# The generated public_token can now be\n",
    "# exchanged for an access_token\n",
    "exchange_request = ItemPublicTokenExchangeRequest(\n",
    "    public_token=pt_response['public_token']\n",
    ")\n",
    "exchange_response = client.item_public_token_exchange(exchange_request)\n",
    "access_token = exchange_response['access_token']"
   ]
  },
  {
   "cell_type": "code",
   "execution_count": 6,
   "id": "6188a653",
   "metadata": {},
   "outputs": [],
   "source": [
    "# Collect asset report token to fetch report\n",
    "from plaid.model.asset_report_create_request import AssetReportCreateRequest\n",
    "from plaid.model.asset_report_create_request_options import AssetReportCreateRequestOptions\n",
    "from plaid.model.asset_report_user import AssetReportUser\n",
    "# referenced from https://stackoverflow.com/questions/71761238/cant-get-plaid-link-to-open-using-javascript-and-python\n",
    "# access_tokens is a list of Item access tokens.\n",
    "# Note that the assets product must be enabled for all Items.\n",
    "# All fields on the options object are optional.\n",
    "request = AssetReportCreateRequest(\n",
    "    access_tokens=[access_token],\n",
    "    days_requested=60,\n",
    "    options=AssetReportCreateRequestOptions(\n",
    "        webhook='https://www.example.com',\n",
    "        client_report_id='123',\n",
    "        user=AssetReportUser(\n",
    "            client_user_id='7f57eb3d2a9j6480121fx361',\n",
    "            first_name='Jane',\n",
    "            middle_name='Leah',\n",
    "            last_name='Doe',\n",
    "            ssn='123-45-6789',\n",
    "            phone_number='(555) 123-4567',\n",
    "            email='jane.doe@example.com',\n",
    "        )\n",
    "    )\n",
    ")\n",
    "response = client.asset_report_create(request)\n",
    "asset_report_id = response['asset_report_id']\n",
    "asset_report_token = response['asset_report_token']"
   ]
  },
  {
   "cell_type": "code",
   "execution_count": 8,
   "id": "09b8348a",
   "metadata": {},
   "outputs": [],
   "source": [
    "# get asset report from token\n",
    "from plaid.model.asset_report_get_request import AssetReportGetRequest\n",
    "try:\n",
    "    request = AssetReportGetRequest(asset_report_token=asset_report_token)\n",
    "    response = client.asset_report_get(request)\n",
    "    report = response['report']\n",
    "except plaid.ApiException as e:\n",
    "    response = json.loads(e.body)\n",
    "    # check the code attribute of the error to determine the specific error\n",
    "    if response['error_code'] == 'ITEM_LOGIN_REQUIRED':\n",
    "        # the users' login information has changed, generate a public_token\n",
    "        # for the user and initialize Link in update mode to\n",
    "        # restore access to this user's data\n",
    "        # see https://plaid.com/docs/api/#updating-items-via-link\n",
    "        print(\"login error\")\n",
    "    else:\n",
    "        print(\"error\")"
   ]
  },
  {
   "cell_type": "code",
   "execution_count": 9,
   "id": "a4979fb6",
   "metadata": {},
   "outputs": [
    {
     "data": {
      "text/plain": [
       "'{\"asset_report_id\": \"0f765260-2f34-4d69-9c60-4d797bd1cb93\", \"client_report_id\": \"123\", \"date_generated\": \"2022-05-26 22:36:34+00:00\", \"days_requested\": 60.0, \"user\": {\"client_user_id\": \"7f57eb3d2a9j6480121fx361\", \"email\": \"jane.doe@example.com\", \"first_name\": \"Jane\", \"last_name\": \"Doe\", \"middle_name\": \"Leah\", \"phone_number\": \"(555) 123-4567\", \"ssn\": \"123-45-6789\"}, \"items\": [{\"item_id\": \"qMob6r1yrrsk91XyKKa8CB4mMnX8M4fdL48mp\", \"institution_name\": \"Chase\", \"institution_id\": \"ins_3\", \"date_last_updated\": \"2022-05-26 22:36:32+00:00\", \"accounts\": [{\"account_id\": \"5Ra4XeMmeetx8qJQeeb5IBRoEnNDrgC3VDGpP\", \"balances\": {\"available\": 100.0, \"current\": 110.0, \"limit\": null, \"iso_currency_code\": \"USD\", \"unofficial_currency_code\": null}, \"mask\": \"0000\", \"name\": \"Plaid Checking\", \"official_name\": \"Plaid Gold Standard 0% Interest Checking\", \"type\": \"depository\", \"subtype\": \"checking\", \"days_available\": 60.0, \"transactions\": [{\"original_description\": \"SparkFun\", \"account_id\": \"5Ra4XeMmeetx8qJQeeb5IBRoEnNDrgC3VDGpP\", \"amount\": 89.4, \"iso_currency_code\": \"USD\", \"unofficial_currency_code\": null, \"date\": \"2022-04-01\", \"pending\": false, \"transaction_id\": \"oQoJ6qmnqqTQRWLoll6DCNXdk9BVJrCkeQLN1\"}, {\"original_description\": \"McDonalds #3322\", \"account_id\": \"5Ra4XeMmeetx8qJQeeb5IBRoEnNDrgC3VDGpP\", \"amount\": 12.0, \"iso_currency_code\": \"USD\", \"unofficial_currency_code\": null, \"date\": \"2022-04-02\", \"pending\": false, \"transaction_id\": \"L6w4AKNDKKirdoZDllm4Hdr8yENR9MCln6DN9\"}, {\"original_description\": \"Starbucks\", \"account_id\": \"5Ra4XeMmeetx8qJQeeb5IBRoEnNDrgC3VDGpP\", \"amount\": 4.33, \"iso_currency_code\": \"USD\", \"unofficial_currency_code\": null, \"date\": \"2022-04-02\", \"pending\": false, \"transaction_id\": \"pZmP6KRnKKuwPabeqqW6u5pZEXKB9zfEMlR5k\"}, {\"original_description\": \"United Airlines **** REFUND ****\", \"account_id\": \"5Ra4XeMmeetx8qJQeeb5IBRoEnNDrgC3VDGpP\", \"amount\": -500.0, \"iso_currency_code\": \"USD\", \"unofficial_currency_code\": null, \"date\": \"2022-04-03\", \"pending\": false, \"transaction_id\": \"15B4ANMENNTbaAldppJmtr3jdapE1GFZd9WMZ\"}, {\"original_description\": \"Uber 063015 SF**POOL**\", \"account_id\": \"5Ra4XeMmeetx8qJQeeb5IBRoEnNDrgC3VDGpP\", \"amount\": 5.4, \"iso_currency_code\": \"USD\", \"unofficial_currency_code\": null, \"date\": \"2022-04-05\", \"pending\": false, \"transaction_id\": \"M6VjnrNDrrieaRk6qqMoFaAxKmqjDRCegXnQ4\"}, {\"original_description\": \"Uber 072515 SF**POOL**\", \"account_id\": \"5Ra4XeMmeetx8qJQeeb5IBRoEnNDrgC3VDGpP\", \"amount\": 6.33, \"iso_currency_code\": \"USD\", \"unofficial_currency_code\": null, \"date\": \"2022-04-18\", \"pending\": false, \"transaction_id\": \"Z6A8kQyWQQijoqE1mm9WHg5LrWK1XAsryaQ7e\"}, {\"original_description\": \"SparkFun\", \"account_id\": \"5Ra4XeMmeetx8qJQeeb5IBRoEnNDrgC3VDGpP\", \"amount\": 89.4, \"iso_currency_code\": \"USD\", \"unofficial_currency_code\": null, \"date\": \"2022-05-01\", \"pending\": false, \"transaction_id\": \"Q6AXRxGDxxiwjpgdoo9ZujlovJP4bnu3QPyKp\"}, {\"original_description\": \"McDonalds #3322\", \"account_id\": \"5Ra4XeMmeetx8qJQeeb5IBRoEnNDrgC3VDGpP\", \"amount\": 12.0, \"iso_currency_code\": \"USD\", \"unofficial_currency_code\": null, \"date\": \"2022-05-02\", \"pending\": false, \"transaction_id\": \"7mNagZ5DZZFpxr5ZVV9bFxArme7kvpuMkbvX4\"}, {\"original_description\": \"Starbucks\", \"account_id\": \"5Ra4XeMmeetx8qJQeeb5IBRoEnNDrgC3VDGpP\", \"amount\": 4.33, \"iso_currency_code\": \"USD\", \"unofficial_currency_code\": null, \"date\": \"2022-05-02\", \"pending\": false, \"transaction_id\": \"e3DPRAxWAAiw9mnyzzvQuXb37WK6jat7Zv6WM\"}, {\"original_description\": \"United Airlines **** REFUND ****\", \"account_id\": \"5Ra4XeMmeetx8qJQeeb5IBRoEnNDrgC3VDGpP\", \"amount\": -500.0, \"iso_currency_code\": \"USD\", \"unofficial_currency_code\": null, \"date\": \"2022-05-03\", \"pending\": false, \"transaction_id\": \"jN6JRymnyyfKgXd5LLpkiWeEZzw83btZgKpJk\"}, {\"original_description\": \"Uber 063015 SF**POOL**\", \"account_id\": \"5Ra4XeMmeetx8qJQeeb5IBRoEnNDrgC3VDGpP\", \"amount\": 5.4, \"iso_currency_code\": \"USD\", \"unofficial_currency_code\": null, \"date\": \"2022-05-05\", \"pending\": false, \"transaction_id\": \"P6AQL3ZD33iqP7eJzz9ZiPadRWNrVwFQlL3zn\"}, {\"original_description\": \"Uber 072515 SF**POOL**\", \"account_id\": \"5Ra4XeMmeetx8qJQeeb5IBRoEnNDrgC3VDGpP\", \"amount\": 6.33, \"iso_currency_code\": \"USD\", \"unofficial_currency_code\": null, \"date\": \"2022-05-18\", \"pending\": false, \"transaction_id\": \"N6y7LzjDzziA4qnKXXlMi4aZELyg6xunJ8eMw\"}], \"owners\": [{\"names\": [\"Alberta Bobbeth Charleson\"], \"phone_numbers\": [{\"data\": \"1112223333\", \"primary\": false, \"type\": \"home\"}, {\"data\": \"1112224444\", \"primary\": false, \"type\": \"work\"}, {\"data\": \"1112225555\", \"primary\": false, \"type\": \"mobile\"}], \"emails\": [{\"data\": \"accountholder0@example.com\", \"primary\": true, \"type\": \"primary\"}, {\"data\": \"accountholder1@example.com\", \"primary\": false, \"type\": \"secondary\"}, {\"data\": \"extraordinarily.long.email.username.123456@reallylonghostname.com\", \"primary\": false, \"type\": \"other\"}], \"addresses\": [{\"data\": {\"city\": \"Malakoff\", \"region\": \"NY\", \"street\": \"2992 Cameron Road\", \"postal_code\": \"14236\", \"country\": \"US\"}, \"primary\": true}, {\"data\": {\"city\": \"San Matias\", \"region\": \"CA\", \"street\": \"2493 Leisure Lane\", \"postal_code\": \"93405-2255\", \"country\": \"US\"}, \"primary\": false}]}], \"historical_balances\": [{\"date\": \"2022-05-25\", \"current\": 110.0, \"iso_currency_code\": \"USD\", \"unofficial_currency_code\": null}, {\"date\": \"2022-05-24\", \"current\": 110.0, \"iso_currency_code\": \"USD\", \"unofficial_currency_code\": null}, {\"date\": \"2022-05-23\", \"current\": 110.0, \"iso_currency_code\": \"USD\", \"unofficial_currency_code\": null}, {\"date\": \"2022-05-22\", \"current\": 110.0, \"iso_currency_code\": \"USD\", \"unofficial_currency_code\": null}, {\"date\": \"2022-05-21\", \"current\": 110.0, \"iso_currency_code\": \"USD\", \"unofficial_currency_code\": null}, {\"date\": \"2022-05-20\", \"current\": 110.0, \"iso_currency_code\": \"USD\", \"unofficial_currency_code\": null}, {\"date\": \"2022-05-19\", \"current\": 110.0, \"iso_currency_code\": \"USD\", \"unofficial_currency_code\": null}, {\"date\": \"2022-05-18\", \"current\": 110.0, \"iso_currency_code\": \"USD\", \"unofficial_currency_code\": null}, {\"date\": \"2022-05-17\", \"current\": 116.33, \"iso_currency_code\": \"USD\", \"unofficial_currency_code\": null}, {\"date\": \"2022-05-16\", \"current\": 116.33, \"iso_currency_code\": \"USD\", \"unofficial_currency_code\": null}, {\"date\": \"2022-05-15\", \"current\": 116.33, \"iso_currency_code\": \"USD\", \"unofficial_currency_code\": null}, {\"date\": \"2022-05-14\", \"current\": 116.33, \"iso_currency_code\": \"USD\", \"unofficial_currency_code\": null}, {\"date\": \"2022-05-13\", \"current\": 116.33, \"iso_currency_code\": \"USD\", \"unofficial_currency_code\": null}, {\"date\": \"2022-05-12\", \"current\": 116.33, \"iso_currency_code\": \"USD\", \"unofficial_currency_code\": null}, {\"date\": \"2022-05-11\", \"current\": 116.33, \"iso_currency_code\": \"USD\", \"unofficial_currency_code\": null}, {\"date\": \"2022-05-10\", \"current\": 116.33, \"iso_currency_code\": \"USD\", \"unofficial_currency_code\": null}, {\"date\": \"2022-05-09\", \"current\": 116.33, \"iso_currency_code\": \"USD\", \"unofficial_currency_code\": null}, {\"date\": \"2022-05-08\", \"current\": 116.33, \"iso_currency_code\": \"USD\", \"unofficial_currency_code\": null}, {\"date\": \"2022-05-07\", \"current\": 116.33, \"iso_currency_code\": \"USD\", \"unofficial_currency_code\": null}, {\"date\": \"2022-05-06\", \"current\": 116.33, \"iso_currency_code\": \"USD\", \"unofficial_currency_code\": null}, {\"date\": \"2022-05-05\", \"current\": 116.33, \"iso_currency_code\": \"USD\", \"unofficial_currency_code\": null}, {\"date\": \"2022-05-04\", \"current\": 121.73, \"iso_currency_code\": \"USD\", \"unofficial_currency_code\": null}, {\"date\": \"2022-05-03\", \"current\": 121.73, \"iso_currency_code\": \"USD\", \"unofficial_currency_code\": null}, {\"date\": \"2022-05-02\", \"current\": -378.27, \"iso_currency_code\": \"USD\", \"unofficial_currency_code\": null}, {\"date\": \"2022-05-01\", \"current\": -361.94, \"iso_currency_code\": \"USD\", \"unofficial_currency_code\": null}, {\"date\": \"2022-04-30\", \"current\": -272.54, \"iso_currency_code\": \"USD\", \"unofficial_currency_code\": null}, {\"date\": \"2022-04-29\", \"current\": -272.54, \"iso_currency_code\": \"USD\", \"unofficial_currency_code\": null}, {\"date\": \"2022-04-28\", \"current\": -272.54, \"iso_currency_code\": \"USD\", \"unofficial_currency_code\": null}, {\"date\": \"2022-04-27\", \"current\": -272.54, \"iso_currency_code\": \"USD\", \"unofficial_currency_code\": null}, {\"date\": \"2022-04-26\", \"current\": -272.54, \"iso_currency_code\": \"USD\", \"unofficial_currency_code\": null}, {\"date\": \"2022-04-25\", \"current\": -272.54, \"iso_currency_code\": \"USD\", \"unofficial_currency_code\": null}, {\"date\": \"2022-04-24\", \"current\": -272.54, \"iso_currency_code\": \"USD\", \"unofficial_currency_code\": null}, {\"date\": \"2022-04-23\", \"current\": -272.54, \"iso_currency_code\": \"USD\", \"unofficial_currency_code\": null}, {\"date\": \"2022-04-22\", \"current\": -272.54, \"iso_currency_code\": \"USD\", \"unofficial_currency_code\": null}, {\"date\": \"2022-04-21\", \"current\": -272.54, \"iso_currency_code\": \"USD\", \"unofficial_currency_code\": null}, {\"date\": \"2022-04-20\", \"current\": -272.54, \"iso_currency_code\": \"USD\", \"unofficial_currency_code\": null}, {\"date\": \"2022-04-19\", \"current\": -272.54, \"iso_currency_code\": \"USD\", \"unofficial_currency_code\": null}, {\"date\": \"2022-04-18\", \"current\": -272.54, \"iso_currency_code\": \"USD\", \"unofficial_currency_code\": null}, {\"date\": \"2022-04-17\", \"current\": -266.21, \"iso_currency_code\": \"USD\", \"unofficial_currency_code\": null}, {\"date\": \"2022-04-16\", \"current\": -266.21, \"iso_currency_code\": \"USD\", \"unofficial_currency_code\": null}, {\"date\": \"2022-04-15\", \"current\": -266.21, \"iso_currency_code\": \"USD\", \"unofficial_currency_code\": null}, {\"date\": \"2022-04-14\", \"current\": -266.21, \"iso_currency_code\": \"USD\", \"unofficial_currency_code\": null}, {\"date\": \"2022-04-13\", \"current\": -266.21, \"iso_currency_code\": \"USD\", \"unofficial_currency_code\": null}, {\"date\": \"2022-04-12\", \"current\": -266.21, \"iso_currency_code\": \"USD\", \"unofficial_currency_code\": null}, {\"date\": \"2022-04-11\", \"current\": -266.21, \"iso_currency_code\": \"USD\", \"unofficial_currency_code\": null}, {\"date\": \"2022-04-10\", \"current\": -266.21, \"iso_currency_code\": \"USD\", \"unofficial_currency_code\": null}, {\"date\": \"2022-04-09\", \"current\": -266.21, \"iso_currency_code\": \"USD\", \"unofficial_currency_code\": null}, {\"date\": \"2022-04-08\", \"current\": -266.21, \"iso_currency_code\": \"USD\", \"unofficial_currency_code\": null}, {\"date\": \"2022-04-07\", \"current\": -266.21, \"iso_currency_code\": \"USD\", \"unofficial_currency_code\": null}, {\"date\": \"2022-04-06\", \"current\": -266.21, \"iso_currency_code\": \"USD\", \"unofficial_currency_code\": null}, {\"date\": \"2022-04-05\", \"current\": -266.21, \"iso_currency_code\": \"USD\", \"unofficial_currency_code\": null}, {\"date\": \"2022-04-04\", \"current\": -260.81, \"iso_currency_code\": \"USD\", \"unofficial_currency_code\": null}, {\"date\": \"2022-04-03\", \"current\": -260.81, \"iso_currency_code\": \"USD\", \"unofficial_currency_code\": null}, {\"date\": \"2022-04-02\", \"current\": -760.81, \"iso_currency_code\": \"USD\", \"unofficial_currency_code\": null}, {\"date\": \"2022-04-01\", \"current\": -744.48, \"iso_currency_code\": \"USD\", \"unofficial_currency_code\": null}, {\"date\": \"2022-03-31\", \"current\": -655.08, \"iso_currency_code\": \"USD\", \"unofficial_currency_code\": null}, {\"date\": \"2022-03-30\", \"current\": -655.08, \"iso_currency_code\": \"USD\", \"unofficial_currency_code\": null}, {\"date\": \"2022-03-29\", \"current\": -655.08, \"iso_currency_code\": \"USD\", \"unofficial_currency_code\": null}, {\"date\": \"2022-03-28\", \"current\": -655.08, \"iso_currency_code\": \"USD\", \"unofficial_currency_code\": null}, {\"date\": \"2022-03-27\", \"current\": -655.08, \"iso_currency_code\": \"USD\", \"unofficial_currency_code\": null}], \"ownership_type\": null}, {\"account_id\": \"BAWDoGKbGGU3G7AKppxJtMqP57DjWQFAyGzL1\", \"balances\": {\"available\": null, \"current\": 56302.06, \"limit\": null, \"iso_currency_code\": \"USD\", \"unofficial_currency_code\": null}, \"mask\": \"8888\", \"name\": \"Plaid Mortgage\", \"official_name\": null, \"type\": \"loan\", \"subtype\": \"mortgage\", \"days_available\": 60.0, \"transactions\": [], \"owners\": [{\"names\": [\"Alberta Bobbeth Charleson\"], \"phone_numbers\": [{\"data\": \"1112223333\", \"primary\": false, \"type\": \"home\"}, {\"data\": \"1112224444\", \"primary\": false, \"type\": \"work\"}, {\"data\": \"1112225555\", \"primary\": false, \"type\": \"mobile\"}], \"emails\": [{\"data\": \"accountholder0@example.com\", \"primary\": true, \"type\": \"primary\"}, {\"data\": \"accountholder1@example.com\", \"primary\": false, \"type\": \"secondary\"}, {\"data\": \"extraordinarily.long.email.username.123456@reallylonghostname.com\", \"primary\": false, \"type\": \"other\"}], \"addresses\": [{\"data\": {\"city\": \"Malakoff\", \"region\": \"NY\", \"street\": \"2992 Cameron Road\", \"postal_code\": \"14236\", \"country\": \"US\"}, \"primary\": true}, {\"data\": {\"city\": \"San Matias\", \"region\": \"CA\", \"street\": \"2493 Leisure Lane\", \"postal_code\": \"93405-2255\", \"country\": \"US\"}, \"primary\": false}]}], \"historical_balances\": [], \"ownership_type\": null}, {\"account_id\": \"J6W4ylNDlliX3G8WnneEt3dDenMJRaIojLQ5E\", \"balances\": {\"available\": 200.0, \"current\": 210.0, \"limit\": null, \"iso_currency_code\": \"USD\", \"unofficial_currency_code\": null}, \"mask\": \"1111\", \"name\": \"Plaid Saving\", \"official_name\": \"Plaid Silver Standard 0.1% Interest Saving\", \"type\": \"depository\", \"subtype\": \"savings\", \"days_available\": 60.0, \"transactions\": [{\"original_description\": \"INTRST PYMNT\", \"account_id\": \"J6W4ylNDlliX3G8WnneEt3dDenMJRaIojLQ5E\", \"amount\": -4.22, \"iso_currency_code\": \"USD\", \"unofficial_currency_code\": null, \"date\": \"2022-03-31\", \"pending\": false, \"transaction_id\": \"WVALBjyDjjcj1wJGRRaqH1EAMXweDdCwz3Lpa\"}, {\"original_description\": \"CREDIT CARD 3333 PAYMENT *//\", \"account_id\": \"J6W4ylNDlliX3G8WnneEt3dDenMJRaIojLQ5E\", \"amount\": 25.0, \"iso_currency_code\": \"USD\", \"unofficial_currency_code\": null, \"date\": \"2022-04-05\", \"pending\": false, \"transaction_id\": \"EbWwLmBDmmCWqrJKyymQuqJBxjgQVwI9n8Do3\"}, {\"original_description\": \"INTRST PYMNT\", \"account_id\": \"J6W4ylNDlliX3G8WnneEt3dDenMJRaIojLQ5E\", \"amount\": -4.22, \"iso_currency_code\": \"USD\", \"unofficial_currency_code\": null, \"date\": \"2022-04-30\", \"pending\": false, \"transaction_id\": \"8APDoMjEMMUxWzZR448oIvrJqXKNleiKo7d95\"}, {\"original_description\": \"CREDIT CARD 3333 PAYMENT *//\", \"account_id\": \"J6W4ylNDlliX3G8WnneEt3dDenMJRaIojLQ5E\", \"amount\": 25.0, \"iso_currency_code\": \"USD\", \"unofficial_currency_code\": null, \"date\": \"2022-05-05\", \"pending\": false, \"transaction_id\": \"gd6PDnaWnncXRJGavvPrtmAo4eZQEbc4pN3Ky\"}], \"owners\": [{\"names\": [\"Alberta Bobbeth Charleson\"], \"phone_numbers\": [{\"data\": \"1112223333\", \"primary\": false, \"type\": \"home\"}, {\"data\": \"1112224444\", \"primary\": false, \"type\": \"work\"}, {\"data\": \"1112225555\", \"primary\": false, \"type\": \"mobile\"}], \"emails\": [{\"data\": \"accountholder0@example.com\", \"primary\": true, \"type\": \"primary\"}, {\"data\": \"accountholder1@example.com\", \"primary\": false, \"type\": \"secondary\"}, {\"data\": \"extraordinarily.long.email.username.123456@reallylonghostname.com\", \"primary\": false, \"type\": \"other\"}], \"addresses\": [{\"data\": {\"city\": \"Malakoff\", \"region\": \"NY\", \"street\": \"2992 Cameron Road\", \"postal_code\": \"14236\", \"country\": \"US\"}, \"primary\": true}, {\"data\": {\"city\": \"San Matias\", \"region\": \"CA\", \"street\": \"2493 Leisure Lane\", \"postal_code\": \"93405-2255\", \"country\": \"US\"}, \"primary\": false}]}], \"historical_balances\": [{\"date\": \"2022-05-25\", \"current\": 210.0, \"iso_currency_code\": \"USD\", \"unofficial_currency_code\": null}, {\"date\": \"2022-05-24\", \"current\": 210.0, \"iso_currency_code\": \"USD\", \"unofficial_currency_code\": null}, {\"date\": \"2022-05-23\", \"current\": 210.0, \"iso_currency_code\": \"USD\", \"unofficial_currency_code\": null}, {\"date\": \"2022-05-22\", \"current\": 210.0, \"iso_currency_code\": \"USD\", \"unofficial_currency_code\": null}, {\"date\": \"2022-05-21\", \"current\": 210.0, \"iso_currency_code\": \"USD\", \"unofficial_currency_code\": null}, {\"date\": \"2022-05-20\", \"current\": 210.0, \"iso_currency_code\": \"USD\", \"unofficial_currency_code\": null}, {\"date\": \"2022-05-19\", \"current\": 210.0, \"iso_currency_code\": \"USD\", \"unofficial_currency_code\": null}, {\"date\": \"2022-05-18\", \"current\": 210.0, \"iso_currency_code\": \"USD\", \"unofficial_currency_code\": null}, {\"date\": \"2022-05-17\", \"current\": 210.0, \"iso_currency_code\": \"USD\", \"unofficial_currency_code\": null}, {\"date\": \"2022-05-16\", \"current\": 210.0, \"iso_currency_code\": \"USD\", \"unofficial_currency_code\": null}, {\"date\": \"2022-05-15\", \"current\": 210.0, \"iso_currency_code\": \"USD\", \"unofficial_currency_code\": null}, {\"date\": \"2022-05-14\", \"current\": 210.0, \"iso_currency_code\": \"USD\", \"unofficial_currency_code\": null}, {\"date\": \"2022-05-13\", \"current\": 210.0, \"iso_currency_code\": \"USD\", \"unofficial_currency_code\": null}, {\"date\": \"2022-05-12\", \"current\": 210.0, \"iso_currency_code\": \"USD\", \"unofficial_currency_code\": null}, {\"date\": \"2022-05-11\", \"current\": 210.0, \"iso_currency_code\": \"USD\", \"unofficial_currency_code\": null}, {\"date\": \"2022-05-10\", \"current\": 210.0, \"iso_currency_code\": \"USD\", \"unofficial_currency_code\": null}, {\"date\": \"2022-05-09\", \"current\": 210.0, \"iso_currency_code\": \"USD\", \"unofficial_currency_code\": null}, {\"date\": \"2022-05-08\", \"current\": 210.0, \"iso_currency_code\": \"USD\", \"unofficial_currency_code\": null}, {\"date\": \"2022-05-07\", \"current\": 210.0, \"iso_currency_code\": \"USD\", \"unofficial_currency_code\": null}, {\"date\": \"2022-05-06\", \"current\": 210.0, \"iso_currency_code\": \"USD\", \"unofficial_currency_code\": null}, {\"date\": \"2022-05-05\", \"current\": 210.0, \"iso_currency_code\": \"USD\", \"unofficial_currency_code\": null}, {\"date\": \"2022-05-04\", \"current\": 235.0, \"iso_currency_code\": \"USD\", \"unofficial_currency_code\": null}, {\"date\": \"2022-05-03\", \"current\": 235.0, \"iso_currency_code\": \"USD\", \"unofficial_currency_code\": null}, {\"date\": \"2022-05-02\", \"current\": 235.0, \"iso_currency_code\": \"USD\", \"unofficial_currency_code\": null}, {\"date\": \"2022-05-01\", \"current\": 235.0, \"iso_currency_code\": \"USD\", \"unofficial_currency_code\": null}, {\"date\": \"2022-04-30\", \"current\": 235.0, \"iso_currency_code\": \"USD\", \"unofficial_currency_code\": null}, {\"date\": \"2022-04-29\", \"current\": 230.78, \"iso_currency_code\": \"USD\", \"unofficial_currency_code\": null}, {\"date\": \"2022-04-28\", \"current\": 230.78, \"iso_currency_code\": \"USD\", \"unofficial_currency_code\": null}, {\"date\": \"2022-04-27\", \"current\": 230.78, \"iso_currency_code\": \"USD\", \"unofficial_currency_code\": null}, {\"date\": \"2022-04-26\", \"current\": 230.78, \"iso_currency_code\": \"USD\", \"unofficial_currency_code\": null}, {\"date\": \"2022-04-25\", \"current\": 230.78, \"iso_currency_code\": \"USD\", \"unofficial_currency_code\": null}, {\"date\": \"2022-04-24\", \"current\": 230.78, \"iso_currency_code\": \"USD\", \"unofficial_currency_code\": null}, {\"date\": \"2022-04-23\", \"current\": 230.78, \"iso_currency_code\": \"USD\", \"unofficial_currency_code\": null}, {\"date\": \"2022-04-22\", \"current\": 230.78, \"iso_currency_code\": \"USD\", \"unofficial_currency_code\": null}, {\"date\": \"2022-04-21\", \"current\": 230.78, \"iso_currency_code\": \"USD\", \"unofficial_currency_code\": null}, {\"date\": \"2022-04-20\", \"current\": 230.78, \"iso_currency_code\": \"USD\", \"unofficial_currency_code\": null}, {\"date\": \"2022-04-19\", \"current\": 230.78, \"iso_currency_code\": \"USD\", \"unofficial_currency_code\": null}, {\"date\": \"2022-04-18\", \"current\": 230.78, \"iso_currency_code\": \"USD\", \"unofficial_currency_code\": null}, {\"date\": \"2022-04-17\", \"current\": 230.78, \"iso_currency_code\": \"USD\", \"unofficial_currency_code\": null}, {\"date\": \"2022-04-16\", \"current\": 230.78, \"iso_currency_code\": \"USD\", \"unofficial_currency_code\": null}, {\"date\": \"2022-04-15\", \"current\": 230.78, \"iso_currency_code\": \"USD\", \"unofficial_currency_code\": null}, {\"date\": \"2022-04-14\", \"current\": 230.78, \"iso_currency_code\": \"USD\", \"unofficial_currency_code\": null}, {\"date\": \"2022-04-13\", \"current\": 230.78, \"iso_currency_code\": \"USD\", \"unofficial_currency_code\": null}, {\"date\": \"2022-04-12\", \"current\": 230.78, \"iso_currency_code\": \"USD\", \"unofficial_currency_code\": null}, {\"date\": \"2022-04-11\", \"current\": 230.78, \"iso_currency_code\": \"USD\", \"unofficial_currency_code\": null}, {\"date\": \"2022-04-10\", \"current\": 230.78, \"iso_currency_code\": \"USD\", \"unofficial_currency_code\": null}, {\"date\": \"2022-04-09\", \"current\": 230.78, \"iso_currency_code\": \"USD\", \"unofficial_currency_code\": null}, {\"date\": \"2022-04-08\", \"current\": 230.78, \"iso_currency_code\": \"USD\", \"unofficial_currency_code\": null}, {\"date\": \"2022-04-07\", \"current\": 230.78, \"iso_currency_code\": \"USD\", \"unofficial_currency_code\": null}, {\"date\": \"2022-04-06\", \"current\": 230.78, \"iso_currency_code\": \"USD\", \"unofficial_currency_code\": null}, {\"date\": \"2022-04-05\", \"current\": 230.78, \"iso_currency_code\": \"USD\", \"unofficial_currency_code\": null}, {\"date\": \"2022-04-04\", \"current\": 255.78, \"iso_currency_code\": \"USD\", \"unofficial_currency_code\": null}, {\"date\": \"2022-04-03\", \"current\": 255.78, \"iso_currency_code\": \"USD\", \"unofficial_currency_code\": null}, {\"date\": \"2022-04-02\", \"current\": 255.78, \"iso_currency_code\": \"USD\", \"unofficial_currency_code\": null}, {\"date\": \"2022-04-01\", \"current\": 255.78, \"iso_currency_code\": \"USD\", \"unofficial_currency_code\": null}, {\"date\": \"2022-03-31\", \"current\": 255.78, \"iso_currency_code\": \"USD\", \"unofficial_currency_code\": null}, {\"date\": \"2022-03-30\", \"current\": 251.56, \"iso_currency_code\": \"USD\", \"unofficial_currency_code\": null}, {\"date\": \"2022-03-29\", \"current\": 251.56, \"iso_currency_code\": \"USD\", \"unofficial_currency_code\": null}, {\"date\": \"2022-03-28\", \"current\": 251.56, \"iso_currency_code\": \"USD\", \"unofficial_currency_code\": null}, {\"date\": \"2022-03-27\", \"current\": 251.56, \"iso_currency_code\": \"USD\", \"unofficial_currency_code\": null}], \"ownership_type\": null}, {\"account_id\": \"K6W4LqNDqqiJx4vm33QeIxK1qgMznXCG8vEm8\", \"balances\": {\"available\": null, \"current\": 320.76, \"limit\": null, \"iso_currency_code\": \"USD\", \"unofficial_currency_code\": null}, \"mask\": \"5555\", \"name\": \"Plaid IRA\", \"official_name\": null, \"type\": \"brokerage\", \"subtype\": \"ira\", \"days_available\": 60.0, \"transactions\": [], \"owners\": [{\"names\": [\"Alberta Bobbeth Charleson\"], \"phone_numbers\": [{\"data\": \"1112223333\", \"primary\": false, \"type\": \"home\"}, {\"data\": \"1112224444\", \"primary\": false, \"type\": \"work\"}, {\"data\": \"1112225555\", \"primary\": false, \"type\": \"mobile\"}], \"emails\": [{\"data\": \"accountholder0@example.com\", \"primary\": true, \"type\": \"primary\"}, {\"data\": \"accountholder1@example.com\", \"primary\": false, \"type\": \"secondary\"}, {\"data\": \"extraordinarily.long.email.username.123456@reallylonghostname.com\", \"primary\": false, \"type\": \"other\"}], \"addresses\": [{\"data\": {\"city\": \"Malakoff\", \"region\": \"NY\", \"street\": \"2992 Cameron Road\", \"postal_code\": \"14236\", \"country\": \"US\"}, \"primary\": true}, {\"data\": {\"city\": \"San Matias\", \"region\": \"CA\", \"street\": \"2493 Leisure Lane\", \"postal_code\": \"93405-2255\", \"country\": \"US\"}, \"primary\": false}]}], \"historical_balances\": [], \"ownership_type\": null}, {\"account_id\": \"kPoxR9QW99fzXyGRJJQwC4BepXyakMfzEbJ89\", \"balances\": {\"available\": null, \"current\": 1000.0, \"limit\": null, \"iso_currency_code\": \"USD\", \"unofficial_currency_code\": null}, \"mask\": \"2222\", \"name\": \"Plaid CD\", \"official_name\": \"Plaid Bronze Standard 0.2% Interest CD\", \"type\": \"depository\", \"subtype\": \"cd\", \"days_available\": 60.0, \"transactions\": [{\"original_description\": \"CD DEPOSIT .INITIAL.\", \"account_id\": \"kPoxR9QW99fzXyGRJJQwC4BepXyakMfzEbJ89\", \"amount\": 1000.0, \"iso_currency_code\": \"USD\", \"unofficial_currency_code\": null, \"date\": \"2022-04-04\", \"pending\": false, \"transaction_id\": \"GA6yV9xD99UDr3aNZZPbsrga5XykVqFAgKEbV\"}, {\"original_description\": \"CD DEPOSIT .INITIAL.\", \"account_id\": \"kPoxR9QW99fzXyGRJJQwC4BepXyakMfzEbJ89\", \"amount\": 1000.0, \"iso_currency_code\": \"USD\", \"unofficial_currency_code\": null, \"date\": \"2022-05-04\", \"pending\": false, \"transaction_id\": \"A6WxoAkEAAiozjE1663XtyBwNgad4Eh6NLGgK\"}], \"owners\": [{\"names\": [\"Alberta Bobbeth Charleson\"], \"phone_numbers\": [{\"data\": \"1112223333\", \"primary\": false, \"type\": \"home\"}, {\"data\": \"1112224444\", \"primary\": false, \"type\": \"work\"}, {\"data\": \"1112225555\", \"primary\": false, \"type\": \"mobile\"}], \"emails\": [{\"data\": \"accountholder0@example.com\", \"primary\": true, \"type\": \"primary\"}, {\"data\": \"accountholder1@example.com\", \"primary\": false, \"type\": \"secondary\"}, {\"data\": \"extraordinarily.long.email.username.123456@reallylonghostname.com\", \"primary\": false, \"type\": \"other\"}], \"addresses\": [{\"data\": {\"city\": \"Malakoff\", \"region\": \"NY\", \"street\": \"2992 Cameron Road\", \"postal_code\": \"14236\", \"country\": \"US\"}, \"primary\": true}, {\"data\": {\"city\": \"San Matias\", \"region\": \"CA\", \"street\": \"2493 Leisure Lane\", \"postal_code\": \"93405-2255\", \"country\": \"US\"}, \"primary\": false}]}], \"historical_balances\": [{\"date\": \"2022-05-25\", \"current\": 1000.0, \"iso_currency_code\": \"USD\", \"unofficial_currency_code\": null}, {\"date\": \"2022-05-24\", \"current\": 1000.0, \"iso_currency_code\": \"USD\", \"unofficial_currency_code\": null}, {\"date\": \"2022-05-23\", \"current\": 1000.0, \"iso_currency_code\": \"USD\", \"unofficial_currency_code\": null}, {\"date\": \"2022-05-22\", \"current\": 1000.0, \"iso_currency_code\": \"USD\", \"unofficial_currency_code\": null}, {\"date\": \"2022-05-21\", \"current\": 1000.0, \"iso_currency_code\": \"USD\", \"unofficial_currency_code\": null}, {\"date\": \"2022-05-20\", \"current\": 1000.0, \"iso_currency_code\": \"USD\", \"unofficial_currency_code\": null}, {\"date\": \"2022-05-19\", \"current\": 1000.0, \"iso_currency_code\": \"USD\", \"unofficial_currency_code\": null}, {\"date\": \"2022-05-18\", \"current\": 1000.0, \"iso_currency_code\": \"USD\", \"unofficial_currency_code\": null}, {\"date\": \"2022-05-17\", \"current\": 1000.0, \"iso_currency_code\": \"USD\", \"unofficial_currency_code\": null}, {\"date\": \"2022-05-16\", \"current\": 1000.0, \"iso_currency_code\": \"USD\", \"unofficial_currency_code\": null}, {\"date\": \"2022-05-15\", \"current\": 1000.0, \"iso_currency_code\": \"USD\", \"unofficial_currency_code\": null}, {\"date\": \"2022-05-14\", \"current\": 1000.0, \"iso_currency_code\": \"USD\", \"unofficial_currency_code\": null}, {\"date\": \"2022-05-13\", \"current\": 1000.0, \"iso_currency_code\": \"USD\", \"unofficial_currency_code\": null}, {\"date\": \"2022-05-12\", \"current\": 1000.0, \"iso_currency_code\": \"USD\", \"unofficial_currency_code\": null}, {\"date\": \"2022-05-11\", \"current\": 1000.0, \"iso_currency_code\": \"USD\", \"unofficial_currency_code\": null}, {\"date\": \"2022-05-10\", \"current\": 1000.0, \"iso_currency_code\": \"USD\", \"unofficial_currency_code\": null}, {\"date\": \"2022-05-09\", \"current\": 1000.0, \"iso_currency_code\": \"USD\", \"unofficial_currency_code\": null}, {\"date\": \"2022-05-08\", \"current\": 1000.0, \"iso_currency_code\": \"USD\", \"unofficial_currency_code\": null}, {\"date\": \"2022-05-07\", \"current\": 1000.0, \"iso_currency_code\": \"USD\", \"unofficial_currency_code\": null}, {\"date\": \"2022-05-06\", \"current\": 1000.0, \"iso_currency_code\": \"USD\", \"unofficial_currency_code\": null}, {\"date\": \"2022-05-05\", \"current\": 1000.0, \"iso_currency_code\": \"USD\", \"unofficial_currency_code\": null}, {\"date\": \"2022-05-04\", \"current\": 1000.0, \"iso_currency_code\": \"USD\", \"unofficial_currency_code\": null}, {\"date\": \"2022-05-03\", \"current\": 2000.0, \"iso_currency_code\": \"USD\", \"unofficial_currency_code\": null}, {\"date\": \"2022-05-02\", \"current\": 2000.0, \"iso_currency_code\": \"USD\", \"unofficial_currency_code\": null}, {\"date\": \"2022-05-01\", \"current\": 2000.0, \"iso_currency_code\": \"USD\", \"unofficial_currency_code\": null}, {\"date\": \"2022-04-30\", \"current\": 2000.0, \"iso_currency_code\": \"USD\", \"unofficial_currency_code\": null}, {\"date\": \"2022-04-29\", \"current\": 2000.0, \"iso_currency_code\": \"USD\", \"unofficial_currency_code\": null}, {\"date\": \"2022-04-28\", \"current\": 2000.0, \"iso_currency_code\": \"USD\", \"unofficial_currency_code\": null}, {\"date\": \"2022-04-27\", \"current\": 2000.0, \"iso_currency_code\": \"USD\", \"unofficial_currency_code\": null}, {\"date\": \"2022-04-26\", \"current\": 2000.0, \"iso_currency_code\": \"USD\", \"unofficial_currency_code\": null}, {\"date\": \"2022-04-25\", \"current\": 2000.0, \"iso_currency_code\": \"USD\", \"unofficial_currency_code\": null}, {\"date\": \"2022-04-24\", \"current\": 2000.0, \"iso_currency_code\": \"USD\", \"unofficial_currency_code\": null}, {\"date\": \"2022-04-23\", \"current\": 2000.0, \"iso_currency_code\": \"USD\", \"unofficial_currency_code\": null}, {\"date\": \"2022-04-22\", \"current\": 2000.0, \"iso_currency_code\": \"USD\", \"unofficial_currency_code\": null}, {\"date\": \"2022-04-21\", \"current\": 2000.0, \"iso_currency_code\": \"USD\", \"unofficial_currency_code\": null}, {\"date\": \"2022-04-20\", \"current\": 2000.0, \"iso_currency_code\": \"USD\", \"unofficial_currency_code\": null}, {\"date\": \"2022-04-19\", \"current\": 2000.0, \"iso_currency_code\": \"USD\", \"unofficial_currency_code\": null}, {\"date\": \"2022-04-18\", \"current\": 2000.0, \"iso_currency_code\": \"USD\", \"unofficial_currency_code\": null}, {\"date\": \"2022-04-17\", \"current\": 2000.0, \"iso_currency_code\": \"USD\", \"unofficial_currency_code\": null}, {\"date\": \"2022-04-16\", \"current\": 2000.0, \"iso_currency_code\": \"USD\", \"unofficial_currency_code\": null}, {\"date\": \"2022-04-15\", \"current\": 2000.0, \"iso_currency_code\": \"USD\", \"unofficial_currency_code\": null}, {\"date\": \"2022-04-14\", \"current\": 2000.0, \"iso_currency_code\": \"USD\", \"unofficial_currency_code\": null}, {\"date\": \"2022-04-13\", \"current\": 2000.0, \"iso_currency_code\": \"USD\", \"unofficial_currency_code\": null}, {\"date\": \"2022-04-12\", \"current\": 2000.0, \"iso_currency_code\": \"USD\", \"unofficial_currency_code\": null}, {\"date\": \"2022-04-11\", \"current\": 2000.0, \"iso_currency_code\": \"USD\", \"unofficial_currency_code\": null}, {\"date\": \"2022-04-10\", \"current\": 2000.0, \"iso_currency_code\": \"USD\", \"unofficial_currency_code\": null}, {\"date\": \"2022-04-09\", \"current\": 2000.0, \"iso_currency_code\": \"USD\", \"unofficial_currency_code\": null}, {\"date\": \"2022-04-08\", \"current\": 2000.0, \"iso_currency_code\": \"USD\", \"unofficial_currency_code\": null}, {\"date\": \"2022-04-07\", \"current\": 2000.0, \"iso_currency_code\": \"USD\", \"unofficial_currency_code\": null}, {\"date\": \"2022-04-06\", \"current\": 2000.0, \"iso_currency_code\": \"USD\", \"unofficial_currency_code\": null}, {\"date\": \"2022-04-05\", \"current\": 2000.0, \"iso_currency_code\": \"USD\", \"unofficial_currency_code\": null}, {\"date\": \"2022-04-04\", \"current\": 2000.0, \"iso_currency_code\": \"USD\", \"unofficial_currency_code\": null}, {\"date\": \"2022-04-03\", \"current\": 3000.0, \"iso_currency_code\": \"USD\", \"unofficial_currency_code\": null}, {\"date\": \"2022-04-02\", \"current\": 3000.0, \"iso_currency_code\": \"USD\", \"unofficial_currency_code\": null}, {\"date\": \"2022-04-01\", \"current\": 3000.0, \"iso_currency_code\": \"USD\", \"unofficial_currency_code\": null}, {\"date\": \"2022-03-31\", \"current\": 3000.0, \"iso_currency_code\": \"USD\", \"unofficial_currency_code\": null}, {\"date\": \"2022-03-30\", \"current\": 3000.0, \"iso_currency_code\": \"USD\", \"unofficial_currency_code\": null}, {\"date\": \"2022-03-29\", \"current\": 3000.0, \"iso_currency_code\": \"USD\", \"unofficial_currency_code\": null}, {\"date\": \"2022-03-28\", \"current\": 3000.0, \"iso_currency_code\": \"USD\", \"unofficial_currency_code\": null}, {\"date\": \"2022-03-27\", \"current\": 3000.0, \"iso_currency_code\": \"USD\", \"unofficial_currency_code\": null}], \"ownership_type\": null}, {\"account_id\": \"ljo9RvQnvvtoWXxyJJAQt1XvLWEdJ7cEWvarq\", \"balances\": {\"available\": null, \"current\": 410.0, \"limit\": null, \"iso_currency_code\": \"USD\", \"unofficial_currency_code\": null}, \"mask\": \"3333\", \"name\": \"Plaid Credit Card\", \"official_name\": \"Plaid Diamond 12.5% APR Interest Credit Card\", \"type\": \"credit\", \"subtype\": \"credit card\", \"days_available\": 60.0, \"transactions\": [{\"original_description\": \"Touchstone Climbing\", \"account_id\": \"ljo9RvQnvvtoWXxyJJAQt1XvLWEdJ7cEWvarq\", \"amount\": 78.5, \"iso_currency_code\": \"USD\", \"unofficial_currency_code\": null, \"date\": \"2022-04-03\", \"pending\": false, \"transaction_id\": \"ww1b6aXmaaCNlexBLLEwtnjbqvyo6XCqXzekm\"}, {\"original_description\": \"Madison Bicycle Shop\", \"account_id\": \"ljo9RvQnvvtoWXxyJJAQt1XvLWEdJ7cEWvarq\", \"amount\": 500.0, \"iso_currency_code\": \"USD\", \"unofficial_currency_code\": null, \"date\": \"2022-04-14\", \"pending\": false, \"transaction_id\": \"X6Rg37VW77iyL1VkNN4RFwBgkLAKNpCPAkBVq\"}, {\"original_description\": \"KFC\", \"account_id\": \"ljo9RvQnvvtoWXxyJJAQt1XvLWEdJ7cEWvarq\", \"amount\": 500.0, \"iso_currency_code\": \"USD\", \"unofficial_currency_code\": null, \"date\": \"2022-04-14\", \"pending\": false, \"transaction_id\": \"D6G1EbzDbbiylQXnZZm3FlNeQX1dBKfEqNyVa\"}, {\"original_description\": \"AUTOMATIC PAYMENT - THANK\", \"account_id\": \"ljo9RvQnvvtoWXxyJJAQt1XvLWEdJ7cEWvarq\", \"amount\": 2078.5, \"iso_currency_code\": \"USD\", \"unofficial_currency_code\": null, \"date\": \"2022-04-14\", \"pending\": false, \"transaction_id\": \"V6mazPyDPPiEMlwvGGd7tMBkjWzNb7CpMQ7xd\"}, {\"original_description\": \"Tectra Inc\", \"account_id\": \"ljo9RvQnvvtoWXxyJJAQt1XvLWEdJ7cEWvarq\", \"amount\": 500.0, \"iso_currency_code\": \"USD\", \"unofficial_currency_code\": null, \"date\": \"2022-04-15\", \"pending\": false, \"transaction_id\": \"654ekQbEQQTNpKXGLLknte87vkzQAZub7QwNp\"}, {\"original_description\": \"United Airlines\", \"account_id\": \"ljo9RvQnvvtoWXxyJJAQt1XvLWEdJ7cEWvarq\", \"amount\": 500.0, \"iso_currency_code\": \"USD\", \"unofficial_currency_code\": null, \"date\": \"2022-04-20\", \"pending\": false, \"transaction_id\": \"R6AQldyDddig7M8L33zwt7JjnbkGWgSXVNdDB\"}, {\"original_description\": \"Touchstone Climbing\", \"account_id\": \"ljo9RvQnvvtoWXxyJJAQt1XvLWEdJ7cEWvarq\", \"amount\": 78.5, \"iso_currency_code\": \"USD\", \"unofficial_currency_code\": null, \"date\": \"2022-05-03\", \"pending\": false, \"transaction_id\": \"vyJM6dWnddhLg8AwNNpnIWaMnd48DetnQb5Nr\"}, {\"original_description\": \"Madison Bicycle Shop\", \"account_id\": \"ljo9RvQnvvtoWXxyJJAQt1XvLWEdJ7cEWvarq\", \"amount\": 500.0, \"iso_currency_code\": \"USD\", \"unofficial_currency_code\": null, \"date\": \"2022-05-14\", \"pending\": false, \"transaction_id\": \"m7wg6RXnRRfPrgVBddMACW9DM8KJ5VtMZeq1q\"}, {\"original_description\": \"KFC\", \"account_id\": \"ljo9RvQnvvtoWXxyJJAQt1XvLWEdJ7cEWvarq\", \"amount\": 500.0, \"iso_currency_code\": \"USD\", \"unofficial_currency_code\": null, \"date\": \"2022-05-14\", \"pending\": false, \"transaction_id\": \"yyRM6NWnNNhl8oWgPPy1TKlzbopjQWsWRPNjE\"}, {\"original_description\": \"AUTOMATIC PAYMENT - THANK\", \"account_id\": \"ljo9RvQnvvtoWXxyJJAQt1XvLWEdJ7cEWvarq\", \"amount\": 2078.5, \"iso_currency_code\": \"USD\", \"unofficial_currency_code\": null, \"date\": \"2022-05-14\", \"pending\": false, \"transaction_id\": \"9Djdo1ME11FdzBRWVVy9Hkly5qPXwduVNoPAA\"}, {\"original_description\": \"Tectra Inc\", \"account_id\": \"ljo9RvQnvvtoWXxyJJAQt1XvLWEdJ7cEWvarq\", \"amount\": 500.0, \"iso_currency_code\": \"USD\", \"unofficial_currency_code\": null, \"date\": \"2022-05-15\", \"pending\": false, \"transaction_id\": \"bro6RkzWkkcw5DWannejuznZNW9MDVFNpnDWA\"}, {\"original_description\": \"United Airlines\", \"account_id\": \"ljo9RvQnvvtoWXxyJJAQt1XvLWEdJ7cEWvarq\", \"amount\": 500.0, \"iso_currency_code\": \"USD\", \"unofficial_currency_code\": null, \"date\": \"2022-05-20\", \"pending\": false, \"transaction_id\": \"ne9M6lQnllTn5wWxggDRtpmjK97QBDtKq9xzL\"}], \"owners\": [{\"names\": [\"Alberta Bobbeth Charleson\"], \"phone_numbers\": [{\"data\": \"1112223333\", \"primary\": false, \"type\": \"home\"}, {\"data\": \"1112224444\", \"primary\": false, \"type\": \"work\"}, {\"data\": \"1112225555\", \"primary\": false, \"type\": \"mobile\"}], \"emails\": [{\"data\": \"accountholder0@example.com\", \"primary\": true, \"type\": \"primary\"}, {\"data\": \"accountholder1@example.com\", \"primary\": false, \"type\": \"secondary\"}, {\"data\": \"extraordinarily.long.email.username.123456@reallylonghostname.com\", \"primary\": false, \"type\": \"other\"}], \"addresses\": [{\"data\": {\"city\": \"Malakoff\", \"region\": \"NY\", \"street\": \"2992 Cameron Road\", \"postal_code\": \"14236\", \"country\": \"US\"}, \"primary\": true}, {\"data\": {\"city\": \"San Matias\", \"region\": \"CA\", \"street\": \"2493 Leisure Lane\", \"postal_code\": \"93405-2255\", \"country\": \"US\"}, \"primary\": false}]}], \"historical_balances\": [{\"date\": \"2022-05-25\", \"current\": 410.0, \"iso_currency_code\": \"USD\", \"unofficial_currency_code\": null}, {\"date\": \"2022-05-24\", \"current\": 410.0, \"iso_currency_code\": \"USD\", \"unofficial_currency_code\": null}, {\"date\": \"2022-05-23\", \"current\": 410.0, \"iso_currency_code\": \"USD\", \"unofficial_currency_code\": null}, {\"date\": \"2022-05-22\", \"current\": 410.0, \"iso_currency_code\": \"USD\", \"unofficial_currency_code\": null}, {\"date\": \"2022-05-21\", \"current\": 410.0, \"iso_currency_code\": \"USD\", \"unofficial_currency_code\": null}, {\"date\": \"2022-05-20\", \"current\": 410.0, \"iso_currency_code\": \"USD\", \"unofficial_currency_code\": null}, {\"date\": \"2022-05-19\", \"current\": -90.0, \"iso_currency_code\": \"USD\", \"unofficial_currency_code\": null}, {\"date\": \"2022-05-18\", \"current\": -90.0, \"iso_currency_code\": \"USD\", \"unofficial_currency_code\": null}, {\"date\": \"2022-05-17\", \"current\": -90.0, \"iso_currency_code\": \"USD\", \"unofficial_currency_code\": null}, {\"date\": \"2022-05-16\", \"current\": -90.0, \"iso_currency_code\": \"USD\", \"unofficial_currency_code\": null}, {\"date\": \"2022-05-15\", \"current\": -90.0, \"iso_currency_code\": \"USD\", \"unofficial_currency_code\": null}, {\"date\": \"2022-05-14\", \"current\": -590.0, \"iso_currency_code\": \"USD\", \"unofficial_currency_code\": null}, {\"date\": \"2022-05-13\", \"current\": -3668.5, \"iso_currency_code\": \"USD\", \"unofficial_currency_code\": null}, {\"date\": \"2022-05-12\", \"current\": -3668.5, \"iso_currency_code\": \"USD\", \"unofficial_currency_code\": null}, {\"date\": \"2022-05-11\", \"current\": -3668.5, \"iso_currency_code\": \"USD\", \"unofficial_currency_code\": null}, {\"date\": \"2022-05-10\", \"current\": -3668.5, \"iso_currency_code\": \"USD\", \"unofficial_currency_code\": null}, {\"date\": \"2022-05-09\", \"current\": -3668.5, \"iso_currency_code\": \"USD\", \"unofficial_currency_code\": null}, {\"date\": \"2022-05-08\", \"current\": -3668.5, \"iso_currency_code\": \"USD\", \"unofficial_currency_code\": null}, {\"date\": \"2022-05-07\", \"current\": -3668.5, \"iso_currency_code\": \"USD\", \"unofficial_currency_code\": null}, {\"date\": \"2022-05-06\", \"current\": -3668.5, \"iso_currency_code\": \"USD\", \"unofficial_currency_code\": null}, {\"date\": \"2022-05-05\", \"current\": -3668.5, \"iso_currency_code\": \"USD\", \"unofficial_currency_code\": null}, {\"date\": \"2022-05-04\", \"current\": -3668.5, \"iso_currency_code\": \"USD\", \"unofficial_currency_code\": null}, {\"date\": \"2022-05-03\", \"current\": -3668.5, \"iso_currency_code\": \"USD\", \"unofficial_currency_code\": null}, {\"date\": \"2022-05-02\", \"current\": -3747.0, \"iso_currency_code\": \"USD\", \"unofficial_currency_code\": null}, {\"date\": \"2022-05-01\", \"current\": -3747.0, \"iso_currency_code\": \"USD\", \"unofficial_currency_code\": null}, {\"date\": \"2022-04-30\", \"current\": -3747.0, \"iso_currency_code\": \"USD\", \"unofficial_currency_code\": null}, {\"date\": \"2022-04-29\", \"current\": -3747.0, \"iso_currency_code\": \"USD\", \"unofficial_currency_code\": null}, {\"date\": \"2022-04-28\", \"current\": -3747.0, \"iso_currency_code\": \"USD\", \"unofficial_currency_code\": null}, {\"date\": \"2022-04-27\", \"current\": -3747.0, \"iso_currency_code\": \"USD\", \"unofficial_currency_code\": null}, {\"date\": \"2022-04-26\", \"current\": -3747.0, \"iso_currency_code\": \"USD\", \"unofficial_currency_code\": null}, {\"date\": \"2022-04-25\", \"current\": -3747.0, \"iso_currency_code\": \"USD\", \"unofficial_currency_code\": null}, {\"date\": \"2022-04-24\", \"current\": -3747.0, \"iso_currency_code\": \"USD\", \"unofficial_currency_code\": null}, {\"date\": \"2022-04-23\", \"current\": -3747.0, \"iso_currency_code\": \"USD\", \"unofficial_currency_code\": null}, {\"date\": \"2022-04-22\", \"current\": -3747.0, \"iso_currency_code\": \"USD\", \"unofficial_currency_code\": null}, {\"date\": \"2022-04-21\", \"current\": -3747.0, \"iso_currency_code\": \"USD\", \"unofficial_currency_code\": null}, {\"date\": \"2022-04-20\", \"current\": -3747.0, \"iso_currency_code\": \"USD\", \"unofficial_currency_code\": null}, {\"date\": \"2022-04-19\", \"current\": -4247.0, \"iso_currency_code\": \"USD\", \"unofficial_currency_code\": null}, {\"date\": \"2022-04-18\", \"current\": -4247.0, \"iso_currency_code\": \"USD\", \"unofficial_currency_code\": null}, {\"date\": \"2022-04-17\", \"current\": -4247.0, \"iso_currency_code\": \"USD\", \"unofficial_currency_code\": null}, {\"date\": \"2022-04-16\", \"current\": -4247.0, \"iso_currency_code\": \"USD\", \"unofficial_currency_code\": null}, {\"date\": \"2022-04-15\", \"current\": -4247.0, \"iso_currency_code\": \"USD\", \"unofficial_currency_code\": null}, {\"date\": \"2022-04-14\", \"current\": -4747.0, \"iso_currency_code\": \"USD\", \"unofficial_currency_code\": null}, {\"date\": \"2022-04-13\", \"current\": -7825.5, \"iso_currency_code\": \"USD\", \"unofficial_currency_code\": null}, {\"date\": \"2022-04-12\", \"current\": -7825.5, \"iso_currency_code\": \"USD\", \"unofficial_currency_code\": null}, {\"date\": \"2022-04-11\", \"current\": -7825.5, \"iso_currency_code\": \"USD\", \"unofficial_currency_code\": null}, {\"date\": \"2022-04-10\", \"current\": -7825.5, \"iso_currency_code\": \"USD\", \"unofficial_currency_code\": null}, {\"date\": \"2022-04-09\", \"current\": -7825.5, \"iso_currency_code\": \"USD\", \"unofficial_currency_code\": null}, {\"date\": \"2022-04-08\", \"current\": -7825.5, \"iso_currency_code\": \"USD\", \"unofficial_currency_code\": null}, {\"date\": \"2022-04-07\", \"current\": -7825.5, \"iso_currency_code\": \"USD\", \"unofficial_currency_code\": null}, {\"date\": \"2022-04-06\", \"current\": -7825.5, \"iso_currency_code\": \"USD\", \"unofficial_currency_code\": null}, {\"date\": \"2022-04-05\", \"current\": -7825.5, \"iso_currency_code\": \"USD\", \"unofficial_currency_code\": null}, {\"date\": \"2022-04-04\", \"current\": -7825.5, \"iso_currency_code\": \"USD\", \"unofficial_currency_code\": null}, {\"date\": \"2022-04-03\", \"current\": -7825.5, \"iso_currency_code\": \"USD\", \"unofficial_currency_code\": null}, {\"date\": \"2022-04-02\", \"current\": -7904.0, \"iso_currency_code\": \"USD\", \"unofficial_currency_code\": null}, {\"date\": \"2022-04-01\", \"current\": -7904.0, \"iso_currency_code\": \"USD\", \"unofficial_currency_code\": null}, {\"date\": \"2022-03-31\", \"current\": -7904.0, \"iso_currency_code\": \"USD\", \"unofficial_currency_code\": null}, {\"date\": \"2022-03-30\", \"current\": -7904.0, \"iso_currency_code\": \"USD\", \"unofficial_currency_code\": null}, {\"date\": \"2022-03-29\", \"current\": -7904.0, \"iso_currency_code\": \"USD\", \"unofficial_currency_code\": null}, {\"date\": \"2022-03-28\", \"current\": -7904.0, \"iso_currency_code\": \"USD\", \"unofficial_currency_code\": null}, {\"date\": \"2022-03-27\", \"current\": -7904.0, \"iso_currency_code\": \"USD\", \"unofficial_currency_code\": null}], \"ownership_type\": null}, {\"account_id\": \"qMob6r1yrrsk91XyKKa8CB4m39NM7LCNWq6Vm\", \"balances\": {\"available\": 43200.0, \"current\": 43200.0, \"limit\": null, \"iso_currency_code\": \"USD\", \"unofficial_currency_code\": null}, \"mask\": \"4444\", \"name\": \"Plaid Money Market\", \"official_name\": \"Plaid Platinum Standard 1.85% Interest Money Market\", \"type\": \"depository\", \"subtype\": \"money market\", \"days_available\": 60.0, \"transactions\": [{\"original_description\": \"ACH Electronic CreditGUSTO PAY 123456\", \"account_id\": \"qMob6r1yrrsk91XyKKa8CB4m39NM7LCNWq6Vm\", \"amount\": 5850.0, \"iso_currency_code\": \"USD\", \"unofficial_currency_code\": null, \"date\": \"2022-04-04\", \"pending\": false, \"transaction_id\": \"J6W4ylNDlliX3G8WnneEt3djMkqRBxuo8X7aX\"}, {\"original_description\": \"ACH Electronic CreditGUSTO PAY 123456\", \"account_id\": \"qMob6r1yrrsk91XyKKa8CB4m39NM7LCNWq6Vm\", \"amount\": 5850.0, \"iso_currency_code\": \"USD\", \"unofficial_currency_code\": null, \"date\": \"2022-05-04\", \"pending\": false, \"transaction_id\": \"5Ra4XeMmeetx8qJQeeb5IBRdNbWrmxC3rXBRQ\"}], \"owners\": [{\"names\": [\"Alberta Bobbeth Charleson\"], \"phone_numbers\": [{\"data\": \"1112223333\", \"primary\": false, \"type\": \"home\"}, {\"data\": \"1112224444\", \"primary\": false, \"type\": \"work\"}, {\"data\": \"1112225555\", \"primary\": false, \"type\": \"mobile\"}], \"emails\": [{\"data\": \"accountholder0@example.com\", \"primary\": true, \"type\": \"primary\"}, {\"data\": \"accountholder1@example.com\", \"primary\": false, \"type\": \"secondary\"}, {\"data\": \"extraordinarily.long.email.username.123456@reallylonghostname.com\", \"primary\": false, \"type\": \"other\"}], \"addresses\": [{\"data\": {\"city\": \"Malakoff\", \"region\": \"NY\", \"street\": \"2992 Cameron Road\", \"postal_code\": \"14236\", \"country\": \"US\"}, \"primary\": true}, {\"data\": {\"city\": \"San Matias\", \"region\": \"CA\", \"street\": \"2493 Leisure Lane\", \"postal_code\": \"93405-2255\", \"country\": \"US\"}, \"primary\": false}]}], \"historical_balances\": [{\"date\": \"2022-05-25\", \"current\": 43200.0, \"iso_currency_code\": \"USD\", \"unofficial_currency_code\": null}, {\"date\": \"2022-05-24\", \"current\": 43200.0, \"iso_currency_code\": \"USD\", \"unofficial_currency_code\": null}, {\"date\": \"2022-05-23\", \"current\": 43200.0, \"iso_currency_code\": \"USD\", \"unofficial_currency_code\": null}, {\"date\": \"2022-05-22\", \"current\": 43200.0, \"iso_currency_code\": \"USD\", \"unofficial_currency_code\": null}, {\"date\": \"2022-05-21\", \"current\": 43200.0, \"iso_currency_code\": \"USD\", \"unofficial_currency_code\": null}, {\"date\": \"2022-05-20\", \"current\": 43200.0, \"iso_currency_code\": \"USD\", \"unofficial_currency_code\": null}, {\"date\": \"2022-05-19\", \"current\": 43200.0, \"iso_currency_code\": \"USD\", \"unofficial_currency_code\": null}, {\"date\": \"2022-05-18\", \"current\": 43200.0, \"iso_currency_code\": \"USD\", \"unofficial_currency_code\": null}, {\"date\": \"2022-05-17\", \"current\": 43200.0, \"iso_currency_code\": \"USD\", \"unofficial_currency_code\": null}, {\"date\": \"2022-05-16\", \"current\": 43200.0, \"iso_currency_code\": \"USD\", \"unofficial_currency_code\": null}, {\"date\": \"2022-05-15\", \"current\": 43200.0, \"iso_currency_code\": \"USD\", \"unofficial_currency_code\": null}, {\"date\": \"2022-05-14\", \"current\": 43200.0, \"iso_currency_code\": \"USD\", \"unofficial_currency_code\": null}, {\"date\": \"2022-05-13\", \"current\": 43200.0, \"iso_currency_code\": \"USD\", \"unofficial_currency_code\": null}, {\"date\": \"2022-05-12\", \"current\": 43200.0, \"iso_currency_code\": \"USD\", \"unofficial_currency_code\": null}, {\"date\": \"2022-05-11\", \"current\": 43200.0, \"iso_currency_code\": \"USD\", \"unofficial_currency_code\": null}, {\"date\": \"2022-05-10\", \"current\": 43200.0, \"iso_currency_code\": \"USD\", \"unofficial_currency_code\": null}, {\"date\": \"2022-05-09\", \"current\": 43200.0, \"iso_currency_code\": \"USD\", \"unofficial_currency_code\": null}, {\"date\": \"2022-05-08\", \"current\": 43200.0, \"iso_currency_code\": \"USD\", \"unofficial_currency_code\": null}, {\"date\": \"2022-05-07\", \"current\": 43200.0, \"iso_currency_code\": \"USD\", \"unofficial_currency_code\": null}, {\"date\": \"2022-05-06\", \"current\": 43200.0, \"iso_currency_code\": \"USD\", \"unofficial_currency_code\": null}, {\"date\": \"2022-05-05\", \"current\": 43200.0, \"iso_currency_code\": \"USD\", \"unofficial_currency_code\": null}, {\"date\": \"2022-05-04\", \"current\": 43200.0, \"iso_currency_code\": \"USD\", \"unofficial_currency_code\": null}, {\"date\": \"2022-05-03\", \"current\": 49050.0, \"iso_currency_code\": \"USD\", \"unofficial_currency_code\": null}, {\"date\": \"2022-05-02\", \"current\": 49050.0, \"iso_currency_code\": \"USD\", \"unofficial_currency_code\": null}, {\"date\": \"2022-05-01\", \"current\": 49050.0, \"iso_currency_code\": \"USD\", \"unofficial_currency_code\": null}, {\"date\": \"2022-04-30\", \"current\": 49050.0, \"iso_currency_code\": \"USD\", \"unofficial_currency_code\": null}, {\"date\": \"2022-04-29\", \"current\": 49050.0, \"iso_currency_code\": \"USD\", \"unofficial_currency_code\": null}, {\"date\": \"2022-04-28\", \"current\": 49050.0, \"iso_currency_code\": \"USD\", \"unofficial_currency_code\": null}, {\"date\": \"2022-04-27\", \"current\": 49050.0, \"iso_currency_code\": \"USD\", \"unofficial_currency_code\": null}, {\"date\": \"2022-04-26\", \"current\": 49050.0, \"iso_currency_code\": \"USD\", \"unofficial_currency_code\": null}, {\"date\": \"2022-04-25\", \"current\": 49050.0, \"iso_currency_code\": \"USD\", \"unofficial_currency_code\": null}, {\"date\": \"2022-04-24\", \"current\": 49050.0, \"iso_currency_code\": \"USD\", \"unofficial_currency_code\": null}, {\"date\": \"2022-04-23\", \"current\": 49050.0, \"iso_currency_code\": \"USD\", \"unofficial_currency_code\": null}, {\"date\": \"2022-04-22\", \"current\": 49050.0, \"iso_currency_code\": \"USD\", \"unofficial_currency_code\": null}, {\"date\": \"2022-04-21\", \"current\": 49050.0, \"iso_currency_code\": \"USD\", \"unofficial_currency_code\": null}, {\"date\": \"2022-04-20\", \"current\": 49050.0, \"iso_currency_code\": \"USD\", \"unofficial_currency_code\": null}, {\"date\": \"2022-04-19\", \"current\": 49050.0, \"iso_currency_code\": \"USD\", \"unofficial_currency_code\": null}, {\"date\": \"2022-04-18\", \"current\": 49050.0, \"iso_currency_code\": \"USD\", \"unofficial_currency_code\": null}, {\"date\": \"2022-04-17\", \"current\": 49050.0, \"iso_currency_code\": \"USD\", \"unofficial_currency_code\": null}, {\"date\": \"2022-04-16\", \"current\": 49050.0, \"iso_currency_code\": \"USD\", \"unofficial_currency_code\": null}, {\"date\": \"2022-04-15\", \"current\": 49050.0, \"iso_currency_code\": \"USD\", \"unofficial_currency_code\": null}, {\"date\": \"2022-04-14\", \"current\": 49050.0, \"iso_currency_code\": \"USD\", \"unofficial_currency_code\": null}, {\"date\": \"2022-04-13\", \"current\": 49050.0, \"iso_currency_code\": \"USD\", \"unofficial_currency_code\": null}, {\"date\": \"2022-04-12\", \"current\": 49050.0, \"iso_currency_code\": \"USD\", \"unofficial_currency_code\": null}, {\"date\": \"2022-04-11\", \"current\": 49050.0, \"iso_currency_code\": \"USD\", \"unofficial_currency_code\": null}, {\"date\": \"2022-04-10\", \"current\": 49050.0, \"iso_currency_code\": \"USD\", \"unofficial_currency_code\": null}, {\"date\": \"2022-04-09\", \"current\": 49050.0, \"iso_currency_code\": \"USD\", \"unofficial_currency_code\": null}, {\"date\": \"2022-04-08\", \"current\": 49050.0, \"iso_currency_code\": \"USD\", \"unofficial_currency_code\": null}, {\"date\": \"2022-04-07\", \"current\": 49050.0, \"iso_currency_code\": \"USD\", \"unofficial_currency_code\": null}, {\"date\": \"2022-04-06\", \"current\": 49050.0, \"iso_currency_code\": \"USD\", \"unofficial_currency_code\": null}, {\"date\": \"2022-04-05\", \"current\": 49050.0, \"iso_currency_code\": \"USD\", \"unofficial_currency_code\": null}, {\"date\": \"2022-04-04\", \"current\": 49050.0, \"iso_currency_code\": \"USD\", \"unofficial_currency_code\": null}, {\"date\": \"2022-04-03\", \"current\": 54900.0, \"iso_currency_code\": \"USD\", \"unofficial_currency_code\": null}, {\"date\": \"2022-04-02\", \"current\": 54900.0, \"iso_currency_code\": \"USD\", \"unofficial_currency_code\": null}, {\"date\": \"2022-04-01\", \"current\": 54900.0, \"iso_currency_code\": \"USD\", \"unofficial_currency_code\": null}, {\"date\": \"2022-03-31\", \"current\": 54900.0, \"iso_currency_code\": \"USD\", \"unofficial_currency_code\": null}, {\"date\": \"2022-03-30\", \"current\": 54900.0, \"iso_currency_code\": \"USD\", \"unofficial_currency_code\": null}, {\"date\": \"2022-03-29\", \"current\": 54900.0, \"iso_currency_code\": \"USD\", \"unofficial_currency_code\": null}, {\"date\": \"2022-03-28\", \"current\": 54900.0, \"iso_currency_code\": \"USD\", \"unofficial_currency_code\": null}, {\"date\": \"2022-03-27\", \"current\": 54900.0, \"iso_currency_code\": \"USD\", \"unofficial_currency_code\": null}], \"ownership_type\": null}, {\"account_id\": \"r1og6zWnzzCvKwy1rrN4IgmjdKaMDBsawvdD4\", \"balances\": {\"available\": null, \"current\": 23631.9805, \"limit\": null, \"iso_currency_code\": \"USD\", \"unofficial_currency_code\": null}, \"mask\": \"6666\", \"name\": \"Plaid 401k\", \"official_name\": null, \"type\": \"brokerage\", \"subtype\": \"401k\", \"days_available\": 60.0, \"transactions\": [], \"owners\": [{\"names\": [\"Alberta Bobbeth Charleson\"], \"phone_numbers\": [{\"data\": \"1112223333\", \"primary\": false, \"type\": \"home\"}, {\"data\": \"1112224444\", \"primary\": false, \"type\": \"work\"}, {\"data\": \"1112225555\", \"primary\": false, \"type\": \"mobile\"}], \"emails\": [{\"data\": \"accountholder0@example.com\", \"primary\": true, \"type\": \"primary\"}, {\"data\": \"accountholder1@example.com\", \"primary\": false, \"type\": \"secondary\"}, {\"data\": \"extraordinarily.long.email.username.123456@reallylonghostname.com\", \"primary\": false, \"type\": \"other\"}], \"addresses\": [{\"data\": {\"city\": \"Malakoff\", \"region\": \"NY\", \"street\": \"2992 Cameron Road\", \"postal_code\": \"14236\", \"country\": \"US\"}, \"primary\": true}, {\"data\": {\"city\": \"San Matias\", \"region\": \"CA\", \"street\": \"2493 Leisure Lane\", \"postal_code\": \"93405-2255\", \"country\": \"US\"}, \"primary\": false}]}], \"historical_balances\": [], \"ownership_type\": null}, {\"account_id\": \"zV1a6PwXPPc3EKznNNpvtnBJ64amyDCwaG3gn\", \"balances\": {\"available\": null, \"current\": 65262.0, \"limit\": null, \"iso_currency_code\": \"USD\", \"unofficial_currency_code\": null}, \"mask\": \"7777\", \"name\": \"Plaid Student Loan\", \"official_name\": null, \"type\": \"loan\", \"subtype\": \"student\", \"days_available\": 60.0, \"transactions\": [], \"owners\": [{\"names\": [\"Alberta Bobbeth Charleson\"], \"phone_numbers\": [{\"data\": \"1112223333\", \"primary\": false, \"type\": \"home\"}, {\"data\": \"1112224444\", \"primary\": false, \"type\": \"work\"}, {\"data\": \"1112225555\", \"primary\": false, \"type\": \"mobile\"}], \"emails\": [{\"data\": \"accountholder0@example.com\", \"primary\": true, \"type\": \"primary\"}, {\"data\": \"accountholder1@example.com\", \"primary\": false, \"type\": \"secondary\"}, {\"data\": \"extraordinarily.long.email.username.123456@reallylonghostname.com\", \"primary\": false, \"type\": \"other\"}], \"addresses\": [{\"data\": {\"city\": \"Malakoff\", \"region\": \"NY\", \"street\": \"2992 Cameron Road\", \"postal_code\": \"14236\", \"country\": \"US\"}, \"primary\": true}, {\"data\": {\"city\": \"San Matias\", \"region\": \"CA\", \"street\": \"2493 Leisure Lane\", \"postal_code\": \"93405-2255\", \"country\": \"US\"}, \"primary\": false}]}], \"historical_balances\": [], \"ownership_type\": null}]}]}'"
      ]
     },
     "execution_count": 9,
     "metadata": {},
     "output_type": "execute_result"
    }
   ],
   "source": [
    "# Parse report to json\n",
    "json_string = json.dumps(report.to_dict(),default=str)\n",
    "# Using a JSON string to write to a file\n",
    "with open('asset_report.json', 'w') as outfile:\n",
    "    outfile.write(json_string)\n",
    "json_string"
   ]
  },
  {
   "cell_type": "code",
   "execution_count": 10,
   "id": "69547392",
   "metadata": {},
   "outputs": [],
   "source": [
    "# Use this to generate pdf report\n",
    "from plaid.model.asset_report_pdf_get_request import AssetReportPDFGetRequest\n",
    "pdf_request = AssetReportPDFGetRequest(asset_report_token=asset_report_token)\n",
    "pdf = client.asset_report_pdf_get(pdf_request)\n",
    "FILE = open('asset_report.pdf', 'wb')\n",
    "FILE.write(pdf.read())\n",
    "FILE.close()"
   ]
  },
  {
   "cell_type": "markdown",
   "id": "71847bc9",
   "metadata": {},
   "source": [
    "---"
   ]
  },
  {
   "cell_type": "markdown",
   "id": "acccf7a7",
   "metadata": {},
   "source": [
    "#### >Additional Resources"
   ]
  },
  {
   "cell_type": "code",
   "execution_count": null,
   "id": "df5d453b",
   "metadata": {},
   "outputs": [],
   "source": [
    "# This is test code to parse response\n",
    "response = ... # type TransactionsGetResponse\n",
    "# to_dict makes it first a python dictionary, and then we turn it into a string JSON.\n",
    "json_string = json.dumps(response.to_dict())"
   ]
  },
  {
   "cell_type": "code",
   "execution_count": null,
   "id": "87c81b76",
   "metadata": {},
   "outputs": [],
   "source": [
    "# Use this to explore the plaid module\n",
    "dir(plaid.model)"
   ]
  },
  {
   "cell_type": "markdown",
   "id": "f0bf8064",
   "metadata": {},
   "source": [
    "Links & Docs:\n",
    "1. Token Endspoints: https://plaid.com/docs/api/tokens/\n",
    "2. Assets: https://plaid.com/docs/api/products/assets/#asset_reportget"
   ]
  }
 ],
 "metadata": {
  "kernelspec": {
   "display_name": "Python 3 (ipykernel)",
   "language": "python",
   "name": "python3"
  },
  "language_info": {
   "codemirror_mode": {
    "name": "ipython",
    "version": 3
   },
   "file_extension": ".py",
   "mimetype": "text/x-python",
   "name": "python",
   "nbconvert_exporter": "python",
   "pygments_lexer": "ipython3",
   "version": "3.8.9"
  }
 },
 "nbformat": 4,
 "nbformat_minor": 5
}
