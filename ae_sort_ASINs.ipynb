{
 "cells": [
  {
   "cell_type": "code",
   "execution_count": 15,
   "metadata": {},
   "outputs": [],
   "source": [
    "import pandas as pd\n",
    "import numpy as np\n",
    "import re\n",
    "import matplotlib.pyplot as plt"
   ]
  },
  {
   "cell_type": "code",
   "execution_count": 2,
   "metadata": {},
   "outputs": [],
   "source": [
    "original = pd.read_excel(\"ae_sort_asin.xlsx\")\n",
    "original=original.fillna(\"missing\")\n",
    "original[\"specific (Node ID)\"] =original[\"specific (Node ID)\"].astype(str)"
   ]
  },
  {
   "cell_type": "code",
   "execution_count": 64,
   "metadata": {},
   "outputs": [
    {
     "data": {
      "text/plain": [
       "count    73367.000000\n",
       "mean         1.344119\n",
       "std          4.428203\n",
       "min          0.000000\n",
       "25%          0.120000\n",
       "50%          0.337838\n",
       "75%          1.038462\n",
       "max        315.400000\n",
       "Name: gv/impression, dtype: float64"
      ]
     },
     "execution_count": 64,
     "metadata": {},
     "output_type": "execute_result"
    }
   ],
   "source": [
    "original[\"target_gv_band\"].describe()"
   ]
  },
  {
   "cell_type": "code",
   "execution_count": 69,
   "metadata": {},
   "outputs": [
    {
     "data": {
      "text/plain": [
       "31"
      ]
     },
     "execution_count": 69,
     "metadata": {},
     "output_type": "execute_result"
    }
   ],
   "source": [
    "original[\"gl_desc\"].nunique()"
   ]
  },
  {
   "cell_type": "code",
   "execution_count": 79,
   "metadata": {},
   "outputs": [
    {
     "data": {
      "text/plain": [
       "E    0.317500\n",
       "D    0.267177\n",
       "C    0.175965\n",
       "B    0.113144\n",
       "F    0.080022\n",
       "A    0.046192\n",
       "Name: target_gv_band, dtype: float64"
      ]
     },
     "execution_count": 79,
     "metadata": {},
     "output_type": "execute_result"
    }
   ],
   "source": [
    "original[\"target_gv_band\"].value_counts(normalize= True)"
   ]
  },
  {
   "cell_type": "code",
   "execution_count": null,
   "metadata": {},
   "outputs": [],
   "source": [
    "original.dtypes"
   ]
  },
  {
   "cell_type": "code",
   "execution_count": 3,
   "metadata": {},
   "outputs": [],
   "source": [
    "def remove_autorefinement(x):\n",
    "    x =  re.sub('15695812031;', '', x.strip())\n",
    "    x =  re.sub(';15695812031', '', x.strip())\n",
    "    return x"
   ]
  },
  {
   "cell_type": "code",
   "execution_count": 4,
   "metadata": {},
   "outputs": [],
   "source": [
    "#remove automated refinement from specifc\n",
    "original[\"specific (Node ID)\"] = original[\"specific (Node ID)\"].apply(lambda x : remove_autorefinement(x))\n",
    "\n",
    "# for index, row in original.iterrows():\n",
    "#     original.iloc[index][\"specific (Node ID)\"] = re.sub('15695812031;', '', row[\"specific (Node ID)\"])\n",
    "#     original.iloc[index][\"specific (Node ID)\"] = re.sub(';15695812031', '', row[\"specific (Node ID)\"])"
   ]
  },
  {
   "cell_type": "code",
   "execution_count": null,
   "metadata": {},
   "outputs": [],
   "source": [
    "original[\"specific (Node ID)\"].unique()"
   ]
  },
  {
   "cell_type": "code",
   "execution_count": 8,
   "metadata": {},
   "outputs": [
    {
     "data": {
      "text/html": [
       "<div>\n",
       "<style scoped>\n",
       "    .dataframe tbody tr th:only-of-type {\n",
       "        vertical-align: middle;\n",
       "    }\n",
       "\n",
       "    .dataframe tbody tr th {\n",
       "        vertical-align: top;\n",
       "    }\n",
       "\n",
       "    .dataframe thead th {\n",
       "        text-align: right;\n",
       "    }\n",
       "</style>\n",
       "<table border=\"1\" class=\"dataframe\">\n",
       "  <thead>\n",
       "    <tr style=\"text-align: right;\">\n",
       "      <th></th>\n",
       "      <th></th>\n",
       "      <th>gs_arc</th>\n",
       "      <th>ASIN</th>\n",
       "      <th>gl_desc</th>\n",
       "      <th>target_gv_band</th>\n",
       "      <th>target_glance_view_count</th>\n",
       "      <th>target_impression_count</th>\n",
       "      <th>gv/impression</th>\n",
       "      <th>specific</th>\n",
       "      <th>imp_rank</th>\n",
       "      <th>gv_imp_rank</th>\n",
       "      <th>rank</th>\n",
       "    </tr>\n",
       "    <tr>\n",
       "      <th>specific (Node ID)</th>\n",
       "      <th>brand</th>\n",
       "      <th></th>\n",
       "      <th></th>\n",
       "      <th></th>\n",
       "      <th></th>\n",
       "      <th></th>\n",
       "      <th></th>\n",
       "      <th></th>\n",
       "      <th></th>\n",
       "      <th></th>\n",
       "      <th></th>\n",
       "      <th></th>\n",
       "    </tr>\n",
       "  </thead>\n",
       "  <tbody>\n",
       "    <tr>\n",
       "      <th rowspan=\"5\" valign=\"top\">15415002031</th>\n",
       "      <th>غير معروف</th>\n",
       "      <td>US-AE</td>\n",
       "      <td>B08C5BHWDF</td>\n",
       "      <td>Wireless</td>\n",
       "      <td>A</td>\n",
       "      <td>811</td>\n",
       "      <td>1202</td>\n",
       "      <td>0.674709</td>\n",
       "      <td>Electronics/Categories/Mobile Phones &amp; Communi...</td>\n",
       "      <td>1737</td>\n",
       "      <td>1157</td>\n",
       "      <td>2894</td>\n",
       "    </tr>\n",
       "    <tr>\n",
       "      <th>غير معروف</th>\n",
       "      <td>US-AE</td>\n",
       "      <td>B08CXR2CFR</td>\n",
       "      <td>Wireless</td>\n",
       "      <td>B</td>\n",
       "      <td>635</td>\n",
       "      <td>1465</td>\n",
       "      <td>0.433447</td>\n",
       "      <td>Electronics/Categories/Mobile Phones &amp; Communi...</td>\n",
       "      <td>1762</td>\n",
       "      <td>969</td>\n",
       "      <td>2731</td>\n",
       "    </tr>\n",
       "    <tr>\n",
       "      <th>غير معروف</th>\n",
       "      <td>US-AE</td>\n",
       "      <td>B08CXR4PMR</td>\n",
       "      <td>Wireless</td>\n",
       "      <td>B</td>\n",
       "      <td>194</td>\n",
       "      <td>202</td>\n",
       "      <td>0.960396</td>\n",
       "      <td>Electronics/Categories/Mobile Phones &amp; Communi...</td>\n",
       "      <td>1426</td>\n",
       "      <td>1292</td>\n",
       "      <td>2718</td>\n",
       "    </tr>\n",
       "    <tr>\n",
       "      <th>غير معروف</th>\n",
       "      <td>US-AE</td>\n",
       "      <td>B08CXXPCFF</td>\n",
       "      <td>Wireless</td>\n",
       "      <td>D</td>\n",
       "      <td>84</td>\n",
       "      <td>41</td>\n",
       "      <td>2.048780</td>\n",
       "      <td>Electronics/Categories/Mobile Phones &amp; Communi...</td>\n",
       "      <td>1061</td>\n",
       "      <td>1640</td>\n",
       "      <td>2701</td>\n",
       "    </tr>\n",
       "    <tr>\n",
       "      <th>غير معروف</th>\n",
       "      <td>US-AE</td>\n",
       "      <td>B08C5BCJRG</td>\n",
       "      <td>Wireless</td>\n",
       "      <td>A</td>\n",
       "      <td>425</td>\n",
       "      <td>1896</td>\n",
       "      <td>0.224156</td>\n",
       "      <td>Electronics/Categories/Mobile Phones &amp; Communi...</td>\n",
       "      <td>1787</td>\n",
       "      <td>679</td>\n",
       "      <td>2466</td>\n",
       "    </tr>\n",
       "    <tr>\n",
       "      <th>...</th>\n",
       "      <th>...</th>\n",
       "      <td>...</td>\n",
       "      <td>...</td>\n",
       "      <td>...</td>\n",
       "      <td>...</td>\n",
       "      <td>...</td>\n",
       "      <td>...</td>\n",
       "      <td>...</td>\n",
       "      <td>...</td>\n",
       "      <td>...</td>\n",
       "      <td>...</td>\n",
       "      <td>...</td>\n",
       "    </tr>\n",
       "    <tr>\n",
       "      <th>11996624031</th>\n",
       "      <th>#followme</th>\n",
       "      <td>US-AE</td>\n",
       "      <td>B0714MY3ZB</td>\n",
       "      <td>Apparel</td>\n",
       "      <td>E</td>\n",
       "      <td>7</td>\n",
       "      <td>16</td>\n",
       "      <td>0.437500</td>\n",
       "      <td>Fashion/Categories/Men/Clothing/Nightwear/Ones...</td>\n",
       "      <td>3598</td>\n",
       "      <td>1847</td>\n",
       "      <td>5445</td>\n",
       "    </tr>\n",
       "    <tr>\n",
       "      <th rowspan=\"2\" valign=\"top\">11995889031;12066933031</th>\n",
       "      <th>#followme</th>\n",
       "      <td>US-AE</td>\n",
       "      <td>B071VM4TD1</td>\n",
       "      <td>Apparel</td>\n",
       "      <td>D</td>\n",
       "      <td>25</td>\n",
       "      <td>4</td>\n",
       "      <td>6.250000</td>\n",
       "      <td>Fashion/Categories/Women/Accessories (11995889...</td>\n",
       "      <td>2101</td>\n",
       "      <td>5152</td>\n",
       "      <td>7253</td>\n",
       "    </tr>\n",
       "    <tr>\n",
       "      <th>#followme</th>\n",
       "      <td>US-AE</td>\n",
       "      <td>B01I0R6ALM</td>\n",
       "      <td>Apparel</td>\n",
       "      <td>D</td>\n",
       "      <td>8</td>\n",
       "      <td>1</td>\n",
       "      <td>8.000000</td>\n",
       "      <td>Fashion/Categories/Women/Accessories (11995889...</td>\n",
       "      <td>382</td>\n",
       "      <td>5329</td>\n",
       "      <td>5711</td>\n",
       "    </tr>\n",
       "    <tr>\n",
       "      <th>11497632031</th>\n",
       "      <th>#followme</th>\n",
       "      <td>US-AE</td>\n",
       "      <td>B07G8J9X4H</td>\n",
       "      <td>Apparel</td>\n",
       "      <td>D</td>\n",
       "      <td>7</td>\n",
       "      <td>4</td>\n",
       "      <td>1.750000</td>\n",
       "      <td>Fashion/Categories (11497632031)</td>\n",
       "      <td>2116</td>\n",
       "      <td>3591</td>\n",
       "      <td>5707</td>\n",
       "    </tr>\n",
       "    <tr>\n",
       "      <th>missing</th>\n",
       "      <th>missing</th>\n",
       "      <td>US-AE</td>\n",
       "      <td>B083K27W4G</td>\n",
       "      <td>Apparel</td>\n",
       "      <td>C</td>\n",
       "      <td>34</td>\n",
       "      <td>6</td>\n",
       "      <td>5.666667</td>\n",
       "      <td>INVALID ASIN</td>\n",
       "      <td>2549</td>\n",
       "      <td>5049</td>\n",
       "      <td>7598</td>\n",
       "    </tr>\n",
       "  </tbody>\n",
       "</table>\n",
       "<p>73367 rows × 11 columns</p>\n",
       "</div>"
      ],
      "text/plain": [
       "                                  gs_arc        ASIN   gl_desc target_gv_band  \\\n",
       "specific (Node ID)      brand                                                   \n",
       "15415002031             غير معروف  US-AE  B08C5BHWDF  Wireless              A   \n",
       "                        غير معروف  US-AE  B08CXR2CFR  Wireless              B   \n",
       "                        غير معروف  US-AE  B08CXR4PMR  Wireless              B   \n",
       "                        غير معروف  US-AE  B08CXXPCFF  Wireless              D   \n",
       "                        غير معروف  US-AE  B08C5BCJRG  Wireless              A   \n",
       "...                                  ...         ...       ...            ...   \n",
       "11996624031             #followme  US-AE  B0714MY3ZB   Apparel              E   \n",
       "11995889031;12066933031 #followme  US-AE  B071VM4TD1   Apparel              D   \n",
       "                        #followme  US-AE  B01I0R6ALM   Apparel              D   \n",
       "11497632031             #followme  US-AE  B07G8J9X4H   Apparel              D   \n",
       "missing                 missing    US-AE  B083K27W4G   Apparel              C   \n",
       "\n",
       "                                   target_glance_view_count  \\\n",
       "specific (Node ID)      brand                                 \n",
       "15415002031             غير معروف                       811   \n",
       "                        غير معروف                       635   \n",
       "                        غير معروف                       194   \n",
       "                        غير معروف                        84   \n",
       "                        غير معروف                       425   \n",
       "...                                                     ...   \n",
       "11996624031             #followme                         7   \n",
       "11995889031;12066933031 #followme                        25   \n",
       "                        #followme                         8   \n",
       "11497632031             #followme                         7   \n",
       "missing                 missing                          34   \n",
       "\n",
       "                                   target_impression_count  gv/impression  \\\n",
       "specific (Node ID)      brand                                               \n",
       "15415002031             غير معروف                     1202       0.674709   \n",
       "                        غير معروف                     1465       0.433447   \n",
       "                        غير معروف                      202       0.960396   \n",
       "                        غير معروف                       41       2.048780   \n",
       "                        غير معروف                     1896       0.224156   \n",
       "...                                                    ...            ...   \n",
       "11996624031             #followme                       16       0.437500   \n",
       "11995889031;12066933031 #followme                        4       6.250000   \n",
       "                        #followme                        1       8.000000   \n",
       "11497632031             #followme                        4       1.750000   \n",
       "missing                 missing                          6       5.666667   \n",
       "\n",
       "                                                                            specific  \\\n",
       "specific (Node ID)      brand                                                          \n",
       "15415002031             غير معروف  Electronics/Categories/Mobile Phones & Communi...   \n",
       "                        غير معروف  Electronics/Categories/Mobile Phones & Communi...   \n",
       "                        غير معروف  Electronics/Categories/Mobile Phones & Communi...   \n",
       "                        غير معروف  Electronics/Categories/Mobile Phones & Communi...   \n",
       "                        غير معروف  Electronics/Categories/Mobile Phones & Communi...   \n",
       "...                                                                              ...   \n",
       "11996624031             #followme  Fashion/Categories/Men/Clothing/Nightwear/Ones...   \n",
       "11995889031;12066933031 #followme  Fashion/Categories/Women/Accessories (11995889...   \n",
       "                        #followme  Fashion/Categories/Women/Accessories (11995889...   \n",
       "11497632031             #followme                   Fashion/Categories (11497632031)   \n",
       "missing                 missing                                         INVALID ASIN   \n",
       "\n",
       "                                   imp_rank  gv_imp_rank  rank  \n",
       "specific (Node ID)      brand                                   \n",
       "15415002031             غير معروف      1737         1157  2894  \n",
       "                        غير معروف      1762          969  2731  \n",
       "                        غير معروف      1426         1292  2718  \n",
       "                        غير معروف      1061         1640  2701  \n",
       "                        غير معروف      1787          679  2466  \n",
       "...                                     ...          ...   ...  \n",
       "11996624031             #followme      3598         1847  5445  \n",
       "11995889031;12066933031 #followme      2101         5152  7253  \n",
       "                        #followme       382         5329  5711  \n",
       "11497632031             #followme      2116         3591  5707  \n",
       "missing                 missing        2549         5049  7598  \n",
       "\n",
       "[73367 rows x 11 columns]"
      ]
     },
     "execution_count": 8,
     "metadata": {},
     "output_type": "execute_result"
    }
   ],
   "source": [
    "original.set_index(['specific (Node ID)','brand'])"
   ]
  },
  {
   "cell_type": "code",
   "execution_count": 36,
   "metadata": {},
   "outputs": [],
   "source": [
    "original.reset_index().to_excel(\"ae_sort_asin_modified.xlsx\", encoding = 'utf-8')"
   ]
  },
  {
   "cell_type": "code",
   "execution_count": 6,
   "metadata": {},
   "outputs": [],
   "source": [
    "#create np percentile function for agg\n",
    "def percentile(n):\n",
    "    def percentile_(x):\n",
    "        return np.percentile(x, n,interpolation = 'midpoint')\n",
    "    percentile_.__name__ = 'percentile_%s' % n\n",
    "    return percentile_"
   ]
  },
  {
   "cell_type": "code",
   "execution_count": 7,
   "metadata": {},
   "outputs": [],
   "source": [
    "original_1 = original.reset_index().groupby(['specific (Node ID)','brand'])['target_glance_view_count'].agg({np.mean,np.size,np.min,np.max,np.median,percentile(25),percentile(75)}).rename(columns={np.mean:'gv_average',np.size:'size',np.min:'gv_min',np.max:'gv_max',np.median:'gv_median',percentile(25):'25%',percentile(75):'75%'})"
   ]
  },
  {
   "cell_type": "code",
   "execution_count": 8,
   "metadata": {},
   "outputs": [],
   "source": [
    "original_1['IQR'] = original_1['percentile_75']-original_1['percentile_25']\n",
    "original_1['Upper'] = original_1['percentile_75']+original_1['IQR']*1.5\n",
    "original_1['Lower'] = original_1['percentile_75']-original_1['IQR']*1.5"
   ]
  },
  {
   "cell_type": "code",
   "execution_count": 9,
   "metadata": {
    "scrolled": true
   },
   "outputs": [
    {
     "data": {
      "text/html": [
       "<div>\n",
       "<style scoped>\n",
       "    .dataframe tbody tr th:only-of-type {\n",
       "        vertical-align: middle;\n",
       "    }\n",
       "\n",
       "    .dataframe tbody tr th {\n",
       "        vertical-align: top;\n",
       "    }\n",
       "\n",
       "    .dataframe thead th {\n",
       "        text-align: right;\n",
       "    }\n",
       "</style>\n",
       "<table border=\"1\" class=\"dataframe\">\n",
       "  <thead>\n",
       "    <tr style=\"text-align: right;\">\n",
       "      <th></th>\n",
       "      <th></th>\n",
       "      <th>amax</th>\n",
       "      <th>median</th>\n",
       "      <th>percentile_75</th>\n",
       "      <th>size</th>\n",
       "      <th>mean</th>\n",
       "      <th>percentile_25</th>\n",
       "      <th>amin</th>\n",
       "      <th>IQR</th>\n",
       "      <th>Upper</th>\n",
       "      <th>Lower</th>\n",
       "    </tr>\n",
       "    <tr>\n",
       "      <th>specific (Node ID)</th>\n",
       "      <th>brand</th>\n",
       "      <th></th>\n",
       "      <th></th>\n",
       "      <th></th>\n",
       "      <th></th>\n",
       "      <th></th>\n",
       "      <th></th>\n",
       "      <th></th>\n",
       "      <th></th>\n",
       "      <th></th>\n",
       "      <th></th>\n",
       "    </tr>\n",
       "  </thead>\n",
       "  <tbody>\n",
       "    <tr>\n",
       "      <th rowspan=\"5\" valign=\"top\">missing</th>\n",
       "      <th>missing</th>\n",
       "      <td>4896</td>\n",
       "      <td>18.0</td>\n",
       "      <td>65.5</td>\n",
       "      <td>206</td>\n",
       "      <td>112.043689</td>\n",
       "      <td>4.0</td>\n",
       "      <td>0</td>\n",
       "      <td>61.5</td>\n",
       "      <td>157.75</td>\n",
       "      <td>-26.75</td>\n",
       "    </tr>\n",
       "    <tr>\n",
       "      <th>TechWare Pro</th>\n",
       "      <td>29</td>\n",
       "      <td>6.5</td>\n",
       "      <td>20.5</td>\n",
       "      <td>4</td>\n",
       "      <td>10.500000</td>\n",
       "      <td>0.5</td>\n",
       "      <td>0</td>\n",
       "      <td>20.0</td>\n",
       "      <td>50.50</td>\n",
       "      <td>-9.50</td>\n",
       "    </tr>\n",
       "    <tr>\n",
       "      <th>HAUS AND HUES</th>\n",
       "      <td>20</td>\n",
       "      <td>17.0</td>\n",
       "      <td>18.5</td>\n",
       "      <td>3</td>\n",
       "      <td>15.333333</td>\n",
       "      <td>13.0</td>\n",
       "      <td>9</td>\n",
       "      <td>5.5</td>\n",
       "      <td>26.75</td>\n",
       "      <td>10.25</td>\n",
       "    </tr>\n",
       "    <tr>\n",
       "      <th>nicebottles</th>\n",
       "      <td>15</td>\n",
       "      <td>15.0</td>\n",
       "      <td>15.0</td>\n",
       "      <td>3</td>\n",
       "      <td>15.000000</td>\n",
       "      <td>15.0</td>\n",
       "      <td>15</td>\n",
       "      <td>0.0</td>\n",
       "      <td>15.00</td>\n",
       "      <td>15.00</td>\n",
       "    </tr>\n",
       "    <tr>\n",
       "      <th>Better</th>\n",
       "      <td>116</td>\n",
       "      <td>116.0</td>\n",
       "      <td>116.0</td>\n",
       "      <td>2</td>\n",
       "      <td>116.000000</td>\n",
       "      <td>116.0</td>\n",
       "      <td>116</td>\n",
       "      <td>0.0</td>\n",
       "      <td>116.00</td>\n",
       "      <td>116.00</td>\n",
       "    </tr>\n",
       "    <tr>\n",
       "      <th>...</th>\n",
       "      <th>...</th>\n",
       "      <td>...</td>\n",
       "      <td>...</td>\n",
       "      <td>...</td>\n",
       "      <td>...</td>\n",
       "      <td>...</td>\n",
       "      <td>...</td>\n",
       "      <td>...</td>\n",
       "      <td>...</td>\n",
       "      <td>...</td>\n",
       "      <td>...</td>\n",
       "    </tr>\n",
       "    <tr>\n",
       "      <th>11497631031;12050466031</th>\n",
       "      <th>Kinmac</th>\n",
       "      <td>0</td>\n",
       "      <td>0.0</td>\n",
       "      <td>0.0</td>\n",
       "      <td>2</td>\n",
       "      <td>0.000000</td>\n",
       "      <td>0.0</td>\n",
       "      <td>0</td>\n",
       "      <td>0.0</td>\n",
       "      <td>0.00</td>\n",
       "      <td>0.00</td>\n",
       "    </tr>\n",
       "    <tr>\n",
       "      <th>11497631031;12050464031</th>\n",
       "      <th>Kenneth Cole REACTION</th>\n",
       "      <td>318</td>\n",
       "      <td>318.0</td>\n",
       "      <td>318.0</td>\n",
       "      <td>1</td>\n",
       "      <td>318.000000</td>\n",
       "      <td>318.0</td>\n",
       "      <td>318</td>\n",
       "      <td>0.0</td>\n",
       "      <td>318.00</td>\n",
       "      <td>318.00</td>\n",
       "    </tr>\n",
       "    <tr>\n",
       "      <th>11497631031;12050462031</th>\n",
       "      <th>Solo New York</th>\n",
       "      <td>656</td>\n",
       "      <td>656.0</td>\n",
       "      <td>656.0</td>\n",
       "      <td>1</td>\n",
       "      <td>656.000000</td>\n",
       "      <td>656.0</td>\n",
       "      <td>656</td>\n",
       "      <td>0.0</td>\n",
       "      <td>656.00</td>\n",
       "      <td>656.00</td>\n",
       "    </tr>\n",
       "    <tr>\n",
       "      <th>11497631031;11497860031</th>\n",
       "      <th>OOOUSE</th>\n",
       "      <td>2</td>\n",
       "      <td>2.0</td>\n",
       "      <td>2.0</td>\n",
       "      <td>1</td>\n",
       "      <td>2.000000</td>\n",
       "      <td>2.0</td>\n",
       "      <td>2</td>\n",
       "      <td>0.0</td>\n",
       "      <td>2.00</td>\n",
       "      <td>2.00</td>\n",
       "    </tr>\n",
       "    <tr>\n",
       "      <th>11497631031</th>\n",
       "      <th>Funny Party Hats</th>\n",
       "      <td>16</td>\n",
       "      <td>14.5</td>\n",
       "      <td>14.5</td>\n",
       "      <td>2</td>\n",
       "      <td>14.500000</td>\n",
       "      <td>14.5</td>\n",
       "      <td>13</td>\n",
       "      <td>0.0</td>\n",
       "      <td>14.50</td>\n",
       "      <td>14.50</td>\n",
       "    </tr>\n",
       "  </tbody>\n",
       "</table>\n",
       "<p>37833 rows × 10 columns</p>\n",
       "</div>"
      ],
      "text/plain": [
       "                                               amax  median  percentile_75  \\\n",
       "specific (Node ID)      brand                                                \n",
       "missing                 missing                4896    18.0           65.5   \n",
       "                        TechWare Pro             29     6.5           20.5   \n",
       "                        HAUS AND HUES            20    17.0           18.5   \n",
       "                        nicebottles              15    15.0           15.0   \n",
       "                        Better                  116   116.0          116.0   \n",
       "...                                             ...     ...            ...   \n",
       "11497631031;12050466031 Kinmac                    0     0.0            0.0   \n",
       "11497631031;12050464031 Kenneth Cole REACTION   318   318.0          318.0   \n",
       "11497631031;12050462031 Solo New York           656   656.0          656.0   \n",
       "11497631031;11497860031 OOOUSE                    2     2.0            2.0   \n",
       "11497631031             Funny Party Hats         16    14.5           14.5   \n",
       "\n",
       "                                               size        mean  \\\n",
       "specific (Node ID)      brand                                     \n",
       "missing                 missing                 206  112.043689   \n",
       "                        TechWare Pro              4   10.500000   \n",
       "                        HAUS AND HUES             3   15.333333   \n",
       "                        nicebottles               3   15.000000   \n",
       "                        Better                    2  116.000000   \n",
       "...                                             ...         ...   \n",
       "11497631031;12050466031 Kinmac                    2    0.000000   \n",
       "11497631031;12050464031 Kenneth Cole REACTION     1  318.000000   \n",
       "11497631031;12050462031 Solo New York             1  656.000000   \n",
       "11497631031;11497860031 OOOUSE                    1    2.000000   \n",
       "11497631031             Funny Party Hats          2   14.500000   \n",
       "\n",
       "                                               percentile_25  amin   IQR  \\\n",
       "specific (Node ID)      brand                                              \n",
       "missing                 missing                          4.0     0  61.5   \n",
       "                        TechWare Pro                     0.5     0  20.0   \n",
       "                        HAUS AND HUES                   13.0     9   5.5   \n",
       "                        nicebottles                     15.0    15   0.0   \n",
       "                        Better                         116.0   116   0.0   \n",
       "...                                                      ...   ...   ...   \n",
       "11497631031;12050466031 Kinmac                           0.0     0   0.0   \n",
       "11497631031;12050464031 Kenneth Cole REACTION          318.0   318   0.0   \n",
       "11497631031;12050462031 Solo New York                  656.0   656   0.0   \n",
       "11497631031;11497860031 OOOUSE                           2.0     2   0.0   \n",
       "11497631031             Funny Party Hats                14.5    13   0.0   \n",
       "\n",
       "                                                Upper   Lower  \n",
       "specific (Node ID)      brand                                  \n",
       "missing                 missing                157.75  -26.75  \n",
       "                        TechWare Pro            50.50   -9.50  \n",
       "                        HAUS AND HUES           26.75   10.25  \n",
       "                        nicebottles             15.00   15.00  \n",
       "                        Better                 116.00  116.00  \n",
       "...                                               ...     ...  \n",
       "11497631031;12050466031 Kinmac                   0.00    0.00  \n",
       "11497631031;12050464031 Kenneth Cole REACTION  318.00  318.00  \n",
       "11497631031;12050462031 Solo New York          656.00  656.00  \n",
       "11497631031;11497860031 OOOUSE                   2.00    2.00  \n",
       "11497631031             Funny Party Hats        14.50   14.50  \n",
       "\n",
       "[37833 rows x 10 columns]"
      ]
     },
     "execution_count": 9,
     "metadata": {},
     "output_type": "execute_result"
    }
   ],
   "source": [
    "original_1.sort_values(by=['specific (Node ID)','size'], ascending=False)"
   ]
  },
  {
   "cell_type": "code",
   "execution_count": 11,
   "metadata": {},
   "outputs": [],
   "source": [
    "original_1.reset_index().to_excel('original.xlsx', encoding = 'utf-8')"
   ]
  },
  {
   "cell_type": "code",
   "execution_count": 40,
   "metadata": {},
   "outputs": [
    {
     "data": {
      "text/plain": [
       "count    37833.000000\n",
       "mean         1.939233\n",
       "std          3.843756\n",
       "min          1.000000\n",
       "25%          1.000000\n",
       "50%          1.000000\n",
       "75%          2.000000\n",
       "max        206.000000\n",
       "Name: size, dtype: float64"
      ]
     },
     "execution_count": 40,
     "metadata": {},
     "output_type": "execute_result"
    }
   ],
   "source": [
    "#summary statistics of specific (Node ID)-brand level groupby data\n",
    "original_1['size'].describe()"
   ]
  },
  {
   "cell_type": "code",
   "execution_count": 12,
   "metadata": {},
   "outputs": [],
   "source": [
    "bins = [0,5,10,20,50,100,150,200,250,300,400,500]"
   ]
  },
  {
   "cell_type": "code",
   "execution_count": 24,
   "metadata": {},
   "outputs": [
    {
     "data": {
      "text/plain": [
       "(0, 5]        36086\n",
       "(5, 10]        1113\n",
       "(10, 20]        434\n",
       "(20, 50]        170\n",
       "(50, 100]        25\n",
       "(100, 150]        1\n",
       "(150, 200]        2\n",
       "(200, 250]        2\n",
       "(250, 300]        0\n",
       "(300, 400]        0\n",
       "(400, 500]        0\n",
       "Name: size_binned, dtype: int64"
      ]
     },
     "execution_count": 24,
     "metadata": {},
     "output_type": "execute_result"
    }
   ],
   "source": [
    "original_1['size_binned'] = pd.cut(original_1['size'],bins)\n",
    "original_1[\"size_binned\"].value_counts(normalize= False,sort = False) "
   ]
  },
  {
   "cell_type": "code",
   "execution_count": 20,
   "metadata": {},
   "outputs": [
    {
     "data": {
      "image/png": "[encoded data removed]",
      "text/plain": [
       "<Figure size 1296x720 with 1 Axes>"
      ]
     },
     "metadata": {
      "needs_background": "light"
     },
     "output_type": "display_data"
    }
   ],
   "source": [
    "fig, ax = plt.subplots(figsize = (18,10)) \n",
    "ax.scatter(original_1['size'], original_1['IQR']) \n",
    "ax.set(xlabel='size', ylabel='IQR')\n",
    "plt.show()"
   ]
  },
  {
   "cell_type": "code",
   "execution_count": 23,
   "metadata": {},
   "outputs": [
    {
     "data": {
      "text/plain": [
       "size_binned\n",
       "(0, 5]         11.595771\n",
       "(5, 10]       113.285714\n",
       "(10, 20]       92.520737\n",
       "(20, 50]      144.773529\n",
       "(50, 100]      71.660000\n",
       "(100, 150]      3.500000\n",
       "(150, 200]     23.500000\n",
       "(200, 250]     96.000000\n",
       "(250, 300]           NaN\n",
       "(300, 400]           NaN\n",
       "(400, 500]           NaN\n",
       "Name: IQR, dtype: float64"
      ]
     },
     "execution_count": 23,
     "metadata": {},
     "output_type": "execute_result"
    }
   ],
   "source": [
    "original_1.groupby('size_binned')[\"IQR\"].mean()"
   ]
  },
  {
   "cell_type": "code",
   "execution_count": 25,
   "metadata": {},
   "outputs": [],
   "source": [
    "# by specifc level only\n",
    "original_2 = original.reset_index().groupby(['specific (Node ID)'])['target_glance_view_count'].agg({np.mean,np.size,np.min,np.max,np.median,percentile(25),percentile(75)}).rename(columns={np.mean:'gv_average',np.size:'size',np.min:'gv_min',np.max:'gv_max',np.median:'gv_median',percentile(25):'25%',percentile(75):'75%'})"
   ]
  },
  {
   "cell_type": "code",
   "execution_count": 26,
   "metadata": {},
   "outputs": [],
   "source": [
    "original_2['IQR'] = original_2['percentile_75']-original_2['percentile_25']\n",
    "original_2['Upper'] = original_2['percentile_75']+original_2['IQR']*1.5\n",
    "original_2['Lower'] = original_2['percentile_75']-original_2['IQR']*1.5"
   ]
  },
  {
   "cell_type": "code",
   "execution_count": 27,
   "metadata": {},
   "outputs": [],
   "source": [
    "original_2.reset_index().to_excel('original_2.xlsx', encoding = 'utf-8')"
   ]
  },
  {
   "cell_type": "code",
   "execution_count": 28,
   "metadata": {},
   "outputs": [
    {
     "data": {
      "text/plain": [
       "(0, 5]        6477\n",
       "(5, 10]        820\n",
       "(10, 20]       589\n",
       "(20, 50]       478\n",
       "(50, 100]      165\n",
       "(100, 150]      47\n",
       "(150, 200]      20\n",
       "(200, 250]      14\n",
       "(250, 300]       5\n",
       "(300, 400]      10\n",
       "(400, 500]       4\n",
       "Name: size_binned, dtype: int64"
      ]
     },
     "execution_count": 28,
     "metadata": {},
     "output_type": "execute_result"
    }
   ],
   "source": [
    "original_2['size_binned'] = pd.cut(original_2['size'],bins)\n",
    "original_2[\"size_binned\"].value_counts(normalize= False,sort = False)"
   ]
  },
  {
   "cell_type": "code",
   "execution_count": 29,
   "metadata": {},
   "outputs": [
    {
     "data": {
      "text/plain": [
       "size_binned\n",
       "(0, 5]         26.733673\n",
       "(5, 10]       113.367683\n",
       "(10, 20]       97.381154\n",
       "(20, 50]       84.490586\n",
       "(50, 100]      73.557576\n",
       "(100, 150]    104.404255\n",
       "(150, 200]    143.175000\n",
       "(200, 250]     79.928571\n",
       "(250, 300]     50.800000\n",
       "(300, 400]     78.250000\n",
       "(400, 500]     40.875000\n",
       "Name: IQR, dtype: float64"
      ]
     },
     "execution_count": 29,
     "metadata": {},
     "output_type": "execute_result"
    }
   ],
   "source": [
    "original_2.groupby('size_binned')[\"IQR\"].mean()"
   ]
  },
  {
   "cell_type": "code",
   "execution_count": 43,
   "metadata": {},
   "outputs": [
    {
     "data": {
      "text/plain": [
       "count    8631.000000\n",
       "mean        8.500406\n",
       "std        27.289143\n",
       "min         1.000000\n",
       "25%         1.000000\n",
       "50%         2.000000\n",
       "75%         5.000000\n",
       "max      1033.000000\n",
       "Name: size, dtype: float64"
      ]
     },
     "execution_count": 43,
     "metadata": {},
     "output_type": "execute_result"
    }
   ],
   "source": [
    "#summary statistics of specific (Node ID) level groupby data\n",
    "original_2['size'].describe()"
   ]
  },
  {
   "cell_type": "code",
   "execution_count": 47,
   "metadata": {},
   "outputs": [
    {
     "data": {
      "image/png": "[encoded data removed]",
      "text/plain": [
       "<Figure size 1296x720 with 1 Axes>"
      ]
     },
     "metadata": {
      "needs_background": "light"
     },
     "output_type": "display_data"
    }
   ],
   "source": [
    "fig, ax = plt.subplots(figsize = (18,10)) \n",
    "ax.scatter(original_2['size'], original_2['IQR']) \n",
    "plt.show()"
   ]
  },
  {
   "cell_type": "code",
   "execution_count": 57,
   "metadata": {},
   "outputs": [
    {
     "data": {
      "image/png": "[encoded data removed]",
      "text/plain": [
       "<Figure size 432x288 with 1 Axes>"
      ]
     },
     "metadata": {
      "needs_background": "light"
     },
     "output_type": "display_data"
    }
   ],
   "source": [
    "plt.hist(original_2['size'], bins = [0,5,10,50,100,200,300,400,500,600])\n",
    "plt.show()"
   ]
  },
  {
   "cell_type": "code",
   "execution_count": 30,
   "metadata": {},
   "outputs": [],
   "source": [
    "# by gl-brand level groupby data\n",
    "original_3 = original.reset_index().groupby(['gl_desc','brand'])['target_glance_view_count'].agg({np.mean,np.size,np.min,np.max,np.median,percentile(25),percentile(75)}).rename(columns={np.mean:'gv_average',np.size:'size',np.min:'gv_min',np.max:'gv_max',np.median:'gv_median',percentile(25):'25%',percentile(75):'75%'})"
   ]
  },
  {
   "cell_type": "code",
   "execution_count": 31,
   "metadata": {},
   "outputs": [],
   "source": [
    "original_3['IQR'] = original_3['percentile_75']-original_3['percentile_25']\n",
    "original_3['Upper'] = original_3['percentile_75']+original_3['IQR']*1.5\n",
    "original_3['Lower'] = original_3['percentile_75']-original_3['IQR']*1.5"
   ]
  },
  {
   "cell_type": "code",
   "execution_count": 51,
   "metadata": {},
   "outputs": [
    {
     "data": {
      "text/plain": [
       "count    25782.000000\n",
       "mean         2.845668\n",
       "std          9.265741\n",
       "min          1.000000\n",
       "25%          1.000000\n",
       "50%          1.000000\n",
       "75%          2.000000\n",
       "max        791.000000\n",
       "Name: size, dtype: float64"
      ]
     },
     "execution_count": 51,
     "metadata": {},
     "output_type": "execute_result"
    }
   ],
   "source": [
    "original_3['size'].describe()"
   ]
  },
  {
   "cell_type": "code",
   "execution_count": 32,
   "metadata": {},
   "outputs": [],
   "source": [
    "original_3.reset_index().to_excel('original_3.xlsx', encoding = 'utf-8')"
   ]
  },
  {
   "cell_type": "code",
   "execution_count": 33,
   "metadata": {},
   "outputs": [
    {
     "data": {
      "text/plain": [
       "(0, 5]        23606\n",
       "(5, 10]        1180\n",
       "(10, 20]        582\n",
       "(20, 50]        294\n",
       "(50, 100]        89\n",
       "(100, 150]       15\n",
       "(150, 200]       11\n",
       "(200, 250]        2\n",
       "(250, 300]        1\n",
       "(300, 400]        1\n",
       "(400, 500]        0\n",
       "Name: size_binned, dtype: int64"
      ]
     },
     "execution_count": 33,
     "metadata": {},
     "output_type": "execute_result"
    }
   ],
   "source": [
    "original_3['size_binned'] = pd.cut(original_3['size'],bins)\n",
    "original_3[\"size_binned\"].value_counts(normalize= False,sort = False)"
   ]
  },
  {
   "cell_type": "code",
   "execution_count": 34,
   "metadata": {},
   "outputs": [
    {
     "data": {
      "text/plain": [
       "size_binned\n",
       "(0, 5]         15.316085\n",
       "(5, 10]        79.810593\n",
       "(10, 20]      121.790378\n",
       "(20, 50]      110.921769\n",
       "(50, 100]     160.117978\n",
       "(100, 150]    138.666667\n",
       "(150, 200]    141.318182\n",
       "(200, 250]     96.250000\n",
       "(250, 300]     29.000000\n",
       "(300, 400]     45.500000\n",
       "(400, 500]           NaN\n",
       "Name: IQR, dtype: float64"
      ]
     },
     "execution_count": 34,
     "metadata": {},
     "output_type": "execute_result"
    }
   ],
   "source": [
    "original_3.groupby('size_binned')[\"IQR\"].mean()"
   ]
  },
  {
   "cell_type": "code",
   "execution_count": 53,
   "metadata": {},
   "outputs": [
    {
     "data": {
      "image/png": "[encoded data removed]",
      "text/plain": [
       "<Figure size 1296x720 with 1 Axes>"
      ]
     },
     "metadata": {
      "needs_background": "light"
     },
     "output_type": "display_data"
    }
   ],
   "source": [
    "fig, ax = plt.subplots(figsize = (18,10)) \n",
    "ax.scatter(original_3['size'], original_3['IQR']) \n",
    "plt.show()"
   ]
  },
  {
   "cell_type": "code",
   "execution_count": 55,
   "metadata": {},
   "outputs": [
    {
     "data": {
      "image/png": "[encoded data removed]",
      "text/plain": [
       "<Figure size 432x288 with 1 Axes>"
      ]
     },
     "metadata": {
      "needs_background": "light"
     },
     "output_type": "display_data"
    }
   ],
   "source": [
    "plt.hist(original_3['size'], bins = [0,10,20,30,40,50,60,70,80,90,100])\n",
    "plt.show()"
   ]
  }
 ],
 "metadata": {
  "kernelspec": {
   "display_name": "Python 3",
   "language": "python",
   "name": "python3"
  },
  "language_info": {
   "codemirror_mode": {
    "name": "ipython",
    "version": 3
   },
   "file_extension": ".py",
   "mimetype": "text/x-python",
   "name": "python",
   "nbconvert_exporter": "python",
   "pygments_lexer": "ipython3",
   "version": "3.6.8"
  }
 },
 "nbformat": 4,
 "nbformat_minor": 2
}
